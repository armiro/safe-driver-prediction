{
 "cells": [
  {
   "cell_type": "markdown",
   "metadata": {
    "application/vnd.databricks.v1+cell": {
     "cellMetadata": {},
     "inputWidgets": {},
     "nuid": "f31d468c-a2cd-4a9d-a648-74f8349cb68c",
     "showTitle": false,
     "tableResultSettingsMap": {},
     "title": ""
    }
   },
   "source": [
    "\n",
    "# Exploratory Data Analysis"
   ]
  },
  {
   "cell_type": "markdown",
   "metadata": {
    "application/vnd.databricks.v1+cell": {
     "cellMetadata": {},
     "inputWidgets": {},
     "nuid": "4a1c80fe-a35f-46ac-8201-efcc4850f1d5",
     "showTitle": false,
     "tableResultSettingsMap": {},
     "title": ""
    }
   },
   "source": [
    "\n",
    "## import libraries and data"
   ]
  },
  {
   "cell_type": "code",
   "execution_count": 0,
   "metadata": {
    "application/vnd.databricks.v1+cell": {
     "cellMetadata": {
      "byteLimit": 2048000,
      "rowLimit": 10000
     },
     "inputWidgets": {},
     "nuid": "3e0c74c8-1eb6-415b-93f4-7ce37d3fe808",
     "showTitle": false,
     "tableResultSettingsMap": {},
     "title": ""
    }
   },
   "outputs": [],
   "source": [
    "import pyspark\n",
    "import numpy as np\n",
    "import matplotlib.pyplot as plt\n",
    "import pandas as pd\n",
    "import seaborn as sns"
   ]
  },
  {
   "cell_type": "code",
   "execution_count": 0,
   "metadata": {
    "application/vnd.databricks.v1+cell": {
     "cellMetadata": {
      "byteLimit": 2048000,
      "rowLimit": 10000
     },
     "inputWidgets": {},
     "nuid": "6bb15450-d992-43fe-919f-82e5ffe7f87f",
     "showTitle": false,
     "tableResultSettingsMap": {},
     "title": ""
    }
   },
   "outputs": [],
   "source": [
    "CATALOG = \"workspace\"\n",
    "SCHEMA = \"safe_driver_prediction\"\n",
    "\n",
    "train_df = spark.read.table(f\"{CATALOG}.{SCHEMA}.train\")\n",
    "test_df = spark.read.table(f\"{CATALOG}.{SCHEMA}.test\")\n",
    "\n",
    "print(f\"train set has {train_df.count()} rows and {len(train_df.columns)} columns.\")\n",
    "print(f\"test set has {test_df.count()} rows and {len(test_df.columns)} columns.\")"
   ]
  },
  {
   "cell_type": "code",
   "execution_count": 0,
   "metadata": {
    "application/vnd.databricks.v1+cell": {
     "cellMetadata": {
      "byteLimit": 2048000,
      "rowLimit": 10000
     },
     "inputWidgets": {},
     "nuid": "8ac6d6f5-0215-4351-be38-66b80d90adef",
     "showTitle": false,
     "tableResultSettingsMap": {},
     "title": ""
    }
   },
   "outputs": [],
   "source": [
    "train_df.limit(10).display()\n"
   ]
  },
  {
   "cell_type": "markdown",
   "metadata": {
    "application/vnd.databricks.v1+cell": {
     "cellMetadata": {},
     "inputWidgets": {},
     "nuid": "83a5cc93-5050-4c47-b4f9-72a54012fc0e",
     "showTitle": false,
     "tableResultSettingsMap": {},
     "title": ""
    }
   },
   "source": [
    "\n",
    "## check different feature types"
   ]
  },
  {
   "cell_type": "code",
   "execution_count": 0,
   "metadata": {
    "application/vnd.databricks.v1+cell": {
     "cellMetadata": {
      "byteLimit": 2048000,
      "rowLimit": 10000
     },
     "inputWidgets": {},
     "nuid": "b4f56e1e-0394-4ec9-ba9e-1c79047ed858",
     "showTitle": false,
     "tableResultSettingsMap": {},
     "title": ""
    }
   },
   "outputs": [],
   "source": [
    "train_df = train_df.toPandas()\n",
    "test_df = test_df.toPandas()"
   ]
  },
  {
   "cell_type": "code",
   "execution_count": 0,
   "metadata": {
    "application/vnd.databricks.v1+cell": {
     "cellMetadata": {
      "byteLimit": 2048000,
      "rowLimit": 10000
     },
     "inputWidgets": {},
     "nuid": "509d1e75-c029-45a8-8749-755a65e75e2b",
     "showTitle": false,
     "tableResultSettingsMap": {},
     "title": ""
    }
   },
   "outputs": [],
   "source": [
    "train_df.columns = train_df.columns.str.replace('ps_', '', regex=False)\n",
    "test_df.columns = test_df.columns.str.replace('ps_', '', regex=False)"
   ]
  },
  {
   "cell_type": "code",
   "execution_count": 0,
   "metadata": {
    "application/vnd.databricks.v1+cell": {
     "cellMetadata": {
      "byteLimit": 2048000,
      "rowLimit": 10000
     },
     "inputWidgets": {},
     "nuid": "66df1bcd-7d02-4ae0-bc6d-d9c069b4a2b4",
     "showTitle": false,
     "tableResultSettingsMap": {},
     "title": ""
    }
   },
   "outputs": [],
   "source": [
    "\n",
    "columns = train_df.columns\n",
    "\n",
    "print(\"categorical features: \\n\", [col for col in columns if \"_cat\" in col])\n",
    "print(\"--------------------------------------\")\n",
    "print(\"binary features: \\n\", [col for col in columns if \"_bin\" in col])\n",
    "\n",
    "print(\"--------------------------------------\")\n",
    "print(\"--------------------------------------\")\n",
    "\n",
    "print(\"vehicle features: \\n\", [col for col in columns if \"car_\" in col])\n",
    "print(\"--------------------------------------\")\n",
    "print(\"indicator features: \\n\", [col for col in columns if \"ind_\" in col])\n",
    "print(\"--------------------------------------\")\n",
    "print(\"regular features: \\n\", [col for col in columns if \"reg_\" in col])\n",
    "print(\"--------------------------------------\")\n",
    "print(\"calculated features: \\n\", [col for col in columns if \"calc_\" in col])\n",
    "print(\"--------------------------------------\")"
   ]
  },
  {
   "cell_type": "markdown",
   "metadata": {
    "application/vnd.databricks.v1+cell": {
     "cellMetadata": {},
     "inputWidgets": {},
     "nuid": "5169a026-8a66-4b88-ae85-fc25dc3d6bc0",
     "showTitle": false,
     "tableResultSettingsMap": {},
     "title": ""
    }
   },
   "source": [
    "\n",
    "## plot distributions"
   ]
  },
  {
   "cell_type": "code",
   "execution_count": 0,
   "metadata": {
    "application/vnd.databricks.v1+cell": {
     "cellMetadata": {
      "byteLimit": 2048000,
      "rowLimit": 10000
     },
     "collapsed": true,
     "inputWidgets": {},
     "nuid": "138b94b7-a21d-4886-abae-b4e904652379",
     "showTitle": false,
     "tableResultSettingsMap": {},
     "title": ""
    }
   },
   "outputs": [],
   "source": [
    "def plot_counts_per_feature(dataset: pd.DataFrame, feature_name: str):\n",
    "    \"\"\"\n",
    "    Plot the counts of unique values in a given feature.\n",
    "    \"\"\"\n",
    "    plt.figure(figsize=(6,4))\n",
    "    sns.countplot(\n",
    "        x=feature_name, data=dataset, \n",
    "        palette='pastel', hue=feature_name, legend=False\n",
    "    )\n",
    "    plt.title(f'counts of unique values in \"{feature_name}\" column')\n",
    "    plt.xlabel(feature_name)\n",
    "    plt.ylabel('counts')\n",
    "    plt.show()"
   ]
  },
  {
   "cell_type": "code",
   "execution_count": 0,
   "metadata": {
    "application/vnd.databricks.v1+cell": {
     "cellMetadata": {
      "byteLimit": 2048000,
      "rowLimit": 10000
     },
     "collapsed": true,
     "inputWidgets": {},
     "nuid": "a0c64960-f8ce-438d-8408-fbfc9dbd6d41",
     "showTitle": false,
     "tableResultSettingsMap": {},
     "title": ""
    }
   },
   "outputs": [],
   "source": [
    "plot_counts_per_feature(\n",
    "  dataset=train_df, \n",
    "  feature_name=\"target\"\n",
    ")"
   ]
  },
  {
   "cell_type": "code",
   "execution_count": 0,
   "metadata": {
    "application/vnd.databricks.v1+cell": {
     "cellMetadata": {
      "byteLimit": 2048000,
      "rowLimit": 10000
     },
     "collapsed": true,
     "inputWidgets": {},
     "nuid": "761d7351-bb02-4971-a9af-68a983e45181",
     "showTitle": false,
     "tableResultSettingsMap": {},
     "title": ""
    }
   },
   "outputs": [],
   "source": [
    "plot_counts_per_feature(\n",
    "    dataset=train_df,\n",
    "    feature_name=\"ind_02_cat\"  # a categorical indicator feature\n",
    ")\n",
    "\n",
    "plot_counts_per_feature(\n",
    "    dataset=train_df,\n",
    "    feature_name=\"car_01_cat\"  # a categorical vehicle feature\n",
    ")\n",
    "\n",
    "plot_counts_per_feature(\n",
    "    dataset=train_df,\n",
    "    feature_name=\"ind_06_bin\"  # a binary indicator feature\n",
    ")\n",
    "\n",
    "plot_counts_per_feature(\n",
    "    dataset=train_df,\n",
    "    feature_name=\"calc_15_bin\"  # a binary calculated feature\n",
    ")\n",
    "\n",
    "plot_counts_per_feature(\n",
    "    dataset=train_df,\n",
    "    feature_name=\"reg_03\"  # a regular feature\n",
    ")"
   ]
  },
  {
   "cell_type": "code",
   "execution_count": 0,
   "metadata": {
    "application/vnd.databricks.v1+cell": {
     "cellMetadata": {},
     "inputWidgets": {},
     "nuid": "ad297e1c-804d-43cb-8427-ef7001f4b2b8",
     "showTitle": false,
     "tableResultSettingsMap": {},
     "title": ""
    }
   },
   "outputs": [],
   "source": []
  },
  {
   "cell_type": "code",
   "execution_count": 0,
   "metadata": {
    "application/vnd.databricks.v1+cell": {
     "cellMetadata": {},
     "inputWidgets": {},
     "nuid": "0bbb8437-81d3-48e6-b9e0-a72b8423d25a",
     "showTitle": false,
     "tableResultSettingsMap": {},
     "title": ""
    }
   },
   "outputs": [],
   "source": []
  }
 ],
 "metadata": {
  "application/vnd.databricks.v1+notebook": {
   "computePreferences": {
    "hardware": {
     "accelerator": null,
     "gpuPoolId": null,
     "memory": null
    }
   },
   "dashboards": [],
   "environmentMetadata": {
    "base_environment": "",
    "environment_version": "4"
   },
   "inputWidgetPreferences": null,
   "language": "python",
   "notebookMetadata": {
    "pythonIndentUnit": 4
   },
   "notebookName": "eda",
   "widgets": {}
  },
  "language_info": {
   "name": "python"
  }
 },
 "nbformat": 4,
 "nbformat_minor": 0
}
