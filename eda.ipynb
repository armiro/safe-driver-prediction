{
 "cells": [
  {
   "cell_type": "markdown",
   "metadata": {
    "application/vnd.databricks.v1+cell": {
     "cellMetadata": {
      "byteLimit": 2048000,
      "rowLimit": 10000
     },
     "inputWidgets": {},
     "nuid": "f31d468c-a2cd-4a9d-a648-74f8349cb68c",
     "showTitle": false,
     "tableResultSettingsMap": {},
     "title": ""
    }
   },
   "source": [
    "\n",
    "# Exploratory Data Analysis"
   ]
  },
  {
   "cell_type": "markdown",
   "metadata": {
    "application/vnd.databricks.v1+cell": {
     "cellMetadata": {
      "byteLimit": 2048000,
      "rowLimit": 10000
     },
     "inputWidgets": {},
     "nuid": "4a1c80fe-a35f-46ac-8201-efcc4850f1d5",
     "showTitle": false,
     "tableResultSettingsMap": {},
     "title": ""
    }
   },
   "source": [
    "\n",
    "## Libraries & Data Importation"
   ]
  },
  {
   "cell_type": "code",
   "execution_count": 0,
   "metadata": {
    "application/vnd.databricks.v1+cell": {
     "cellMetadata": {
      "byteLimit": 2048000,
      "rowLimit": 10000
     },
     "inputWidgets": {},
     "nuid": "3e0c74c8-1eb6-415b-93f4-7ce37d3fe808",
     "showTitle": false,
     "tableResultSettingsMap": {},
     "title": ""
    }
   },
   "outputs": [
    {
     "output_type": "display_data",
     "data": {
      "application/vnd.databricks.v1+spark_ml_hint": "",
      "text/plain": []
     },
     "metadata": {},
     "output_type": "display_data"
    }
   ],
   "source": [
    "import pyspark\n",
    "import numpy as np\n",
    "import matplotlib.pyplot as plt\n",
    "import pandas as pd\n",
    "import seaborn as sns\n",
    "import plotly.express as px"
   ]
  },
  {
   "cell_type": "code",
   "execution_count": 0,
   "metadata": {
    "application/vnd.databricks.v1+cell": {
     "cellMetadata": {
      "byteLimit": 2048000,
      "rowLimit": 10000
     },
     "inputWidgets": {},
     "nuid": "6bb15450-d992-43fe-919f-82e5ffe7f87f",
     "showTitle": false,
     "tableResultSettingsMap": {},
     "title": ""
    }
   },
   "outputs": [
    {
     "output_type": "stream",
     "name": "stdout",
     "output_type": "stream",
     "text": [
      "train set has 595212 rows and 59 columns.\ntest set has 892816 rows and 58 columns.\n"
     ]
    }
   ],
   "source": [
    "CATALOG = \"workspace\"\n",
    "SCHEMA = \"safe_driver_prediction\"\n",
    "\n",
    "train_df = spark.read.table(f\"{CATALOG}.{SCHEMA}.train\")\n",
    "test_df = spark.read.table(f\"{CATALOG}.{SCHEMA}.test\")\n",
    "\n",
    "print(f\"train set has {train_df.count()} rows and {len(train_df.columns)} columns.\")\n",
    "print(f\"test set has {test_df.count()} rows and {len(test_df.columns)} columns.\")"
   ]
  },
  {
   "cell_type": "code",
   "execution_count": 0,
   "metadata": {
    "application/vnd.databricks.v1+cell": {
     "cellMetadata": {
      "byteLimit": 2048000,
      "rowLimit": 10000
     },
     "inputWidgets": {},
     "nuid": "8ac6d6f5-0215-4351-be38-66b80d90adef",
     "showTitle": false,
     "tableResultSettingsMap": {},
     "title": ""
    }
   },
   "outputs": [
    {
     "output_type": "display_data",
     "data": {
      "text/html": [
       "<style scoped>\n",
       "  .table-result-container {\n",
       "    max-height: 300px;\n",
       "    overflow: auto;\n",
       "  }\n",
       "  table, th, td {\n",
       "    border: 1px solid black;\n",
       "    border-collapse: collapse;\n",
       "  }\n",
       "  th, td {\n",
       "    padding: 5px;\n",
       "  }\n",
       "  th {\n",
       "    text-align: left;\n",
       "  }\n",
       "</style><div class='table-result-container'><table class='table-result'><thead style='background-color: white'><tr><th>id</th><th>target</th><th>ps_ind_01</th><th>ps_ind_02_cat</th><th>ps_ind_03</th><th>ps_ind_04_cat</th><th>ps_ind_05_cat</th><th>ps_ind_06_bin</th><th>ps_ind_07_bin</th><th>ps_ind_08_bin</th><th>ps_ind_09_bin</th><th>ps_ind_10_bin</th><th>ps_ind_11_bin</th><th>ps_ind_12_bin</th><th>ps_ind_13_bin</th><th>ps_ind_14</th><th>ps_ind_15</th><th>ps_ind_16_bin</th><th>ps_ind_17_bin</th><th>ps_ind_18_bin</th><th>ps_reg_01</th><th>ps_reg_02</th><th>ps_reg_03</th><th>ps_car_01_cat</th><th>ps_car_02_cat</th><th>ps_car_03_cat</th><th>ps_car_04_cat</th><th>ps_car_05_cat</th><th>ps_car_06_cat</th><th>ps_car_07_cat</th><th>ps_car_08_cat</th><th>ps_car_09_cat</th><th>ps_car_10_cat</th><th>ps_car_11_cat</th><th>ps_car_11</th><th>ps_car_12</th><th>ps_car_13</th><th>ps_car_14</th><th>ps_car_15</th><th>ps_calc_01</th><th>ps_calc_02</th><th>ps_calc_03</th><th>ps_calc_04</th><th>ps_calc_05</th><th>ps_calc_06</th><th>ps_calc_07</th><th>ps_calc_08</th><th>ps_calc_09</th><th>ps_calc_10</th><th>ps_calc_11</th><th>ps_calc_12</th><th>ps_calc_13</th><th>ps_calc_14</th><th>ps_calc_15_bin</th><th>ps_calc_16_bin</th><th>ps_calc_17_bin</th><th>ps_calc_18_bin</th><th>ps_calc_19_bin</th><th>ps_calc_20_bin</th></tr></thead><tbody><tr><td>863026</td><td>0</td><td>0</td><td>1</td><td>2</td><td>0</td><td>0</td><td>0</td><td>1</td><td>0</td><td>0</td><td>0</td><td>0</td><td>0</td><td>0</td><td>0</td><td>0</td><td>0</td><td>0</td><td>0</td><td>0.2</td><td>0.1</td><td>-1.0</td><td>6</td><td>1</td><td>-1</td><td>0</td><td>1</td><td>15</td><td>1</td><td>1</td><td>0</td><td>1</td><td>5</td><td>2</td><td>0.44721359549999995</td><td>1.1285549892</td><td>0.4</td><td>3.4641016150999997</td><td>0.2</td><td>0.4</td><td>0.0</td><td>2</td><td>2</td><td>8</td><td>3</td><td>11</td><td>3</td><td>11</td><td>7</td><td>2</td><td>2</td><td>11</td><td>0</td><td>1</td><td>1</td><td>0</td><td>0</td><td>0</td></tr><tr><td>863030</td><td>1</td><td>1</td><td>2</td><td>1</td><td>0</td><td>0</td><td>1</td><td>0</td><td>0</td><td>0</td><td>0</td><td>0</td><td>0</td><td>0</td><td>0</td><td>8</td><td>0</td><td>1</td><td>0</td><td>0.7</td><td>0.9</td><td>1.9031224343000002</td><td>11</td><td>1</td><td>-1</td><td>0</td><td>-1</td><td>0</td><td>1</td><td>1</td><td>1</td><td>1</td><td>78</td><td>3</td><td>0.4</td><td>0.7979959403</td><td>0.38483762810000005</td><td>3.3166247904</td><td>0.4</td><td>0.3</td><td>0.8</td><td>2</td><td>4</td><td>8</td><td>4</td><td>8</td><td>2</td><td>9</td><td>6</td><td>1</td><td>2</td><td>5</td><td>0</td><td>1</td><td>0</td><td>0</td><td>1</td><td>0</td></tr><tr><td>863031</td><td>0</td><td>0</td><td>1</td><td>7</td><td>0</td><td>0</td><td>1</td><td>0</td><td>0</td><td>0</td><td>0</td><td>0</td><td>0</td><td>0</td><td>0</td><td>12</td><td>1</td><td>0</td><td>0</td><td>0.3</td><td>0.2</td><td>-1.0</td><td>5</td><td>1</td><td>0</td><td>0</td><td>0</td><td>0</td><td>1</td><td>1</td><td>2</td><td>1</td><td>95</td><td>2</td><td>0.399374511</td><td>0.6440605947</td><td>0.3322649545</td><td>2.0</td><td>0.1</td><td>0.0</td><td>0.0</td><td>2</td><td>2</td><td>8</td><td>4</td><td>10</td><td>4</td><td>7</td><td>2</td><td>3</td><td>2</td><td>10</td><td>1</td><td>1</td><td>0</td><td>0</td><td>0</td><td>0</td></tr><tr><td>863033</td><td>0</td><td>1</td><td>3</td><td>8</td><td>1</td><td>0</td><td>0</td><td>0</td><td>0</td><td>1</td><td>0</td><td>0</td><td>0</td><td>0</td><td>0</td><td>3</td><td>1</td><td>0</td><td>0</td><td>0.9</td><td>1.2</td><td>0.6025985397</td><td>11</td><td>0</td><td>1</td><td>0</td><td>1</td><td>7</td><td>1</td><td>1</td><td>2</td><td>1</td><td>79</td><td>3</td><td>0.4</td><td>1.0048230797</td><td>0.3466987165</td><td>3.6055512755000003</td><td>0.6</td><td>0.6</td><td>0.0</td><td>0</td><td>1</td><td>8</td><td>4</td><td>10</td><td>3</td><td>9</td><td>2</td><td>4</td><td>3</td><td>10</td><td>0</td><td>0</td><td>1</td><td>1</td><td>0</td><td>0</td></tr><tr><td>863034</td><td>0</td><td>5</td><td>2</td><td>1</td><td>1</td><td>0</td><td>0</td><td>0</td><td>1</td><td>0</td><td>0</td><td>0</td><td>0</td><td>0</td><td>0</td><td>6</td><td>0</td><td>1</td><td>0</td><td>0.9</td><td>1.2</td><td>1.6678953803999998</td><td>11</td><td>1</td><td>0</td><td>0</td><td>1</td><td>1</td><td>1</td><td>1</td><td>2</td><td>1</td><td>70</td><td>3</td><td>0.3741657387</td><td>0.7491041481999999</td><td>0.33911649920000003</td><td>3.0</td><td>0.5</td><td>0.3</td><td>0.4</td><td>2</td><td>2</td><td>8</td><td>3</td><td>10</td><td>4</td><td>8</td><td>5</td><td>2</td><td>2</td><td>6</td><td>0</td><td>1</td><td>1</td><td>0</td><td>0</td><td>0</td></tr><tr><td>863036</td><td>0</td><td>7</td><td>1</td><td>3</td><td>1</td><td>0</td><td>0</td><td>0</td><td>0</td><td>1</td><td>0</td><td>0</td><td>0</td><td>0</td><td>0</td><td>7</td><td>1</td><td>0</td><td>0</td><td>0.9</td><td>0.5</td><td>0.9093266740000001</td><td>6</td><td>1</td><td>-1</td><td>0</td><td>1</td><td>1</td><td>1</td><td>1</td><td>0</td><td>1</td><td>64</td><td>1</td><td>0.316227766</td><td>0.6621246793</td><td>0.3701351105</td><td>2.8284271247</td><td>0.2</td><td>0.2</td><td>0.3</td><td>4</td><td>2</td><td>7</td><td>2</td><td>10</td><td>1</td><td>11</td><td>3</td><td>0</td><td>0</td><td>5</td><td>0</td><td>0</td><td>0</td><td>0</td><td>0</td><td>0</td></tr><tr><td>863039</td><td>0</td><td>0</td><td>2</td><td>6</td><td>1</td><td>0</td><td>0</td><td>1</td><td>0</td><td>0</td><td>0</td><td>0</td><td>0</td><td>0</td><td>0</td><td>5</td><td>1</td><td>0</td><td>0</td><td>0.1</td><td>0.1</td><td>-1.0</td><td>7</td><td>1</td><td>-1</td><td>0</td><td>-1</td><td>1</td><td>1</td><td>1</td><td>2</td><td>1</td><td>25</td><td>3</td><td>0.3741657387</td><td>0.7942848543000001</td><td>-1.0</td><td>3.6055512755000003</td><td>0.5</td><td>0.9</td><td>0.2</td><td>3</td><td>3</td><td>8</td><td>3</td><td>7</td><td>5</td><td>14</td><td>4</td><td>2</td><td>0</td><td>9</td><td>0</td><td>1</td><td>0</td><td>1</td><td>1</td><td>0</td></tr><tr><td>863040</td><td>0</td><td>1</td><td>3</td><td>6</td><td>1</td><td>0</td><td>0</td><td>0</td><td>1</td><td>0</td><td>0</td><td>0</td><td>0</td><td>0</td><td>0</td><td>1</td><td>0</td><td>0</td><td>1</td><td>0.5</td><td>0.2</td><td>0.6694213918999999</td><td>11</td><td>1</td><td>-1</td><td>0</td><td>-1</td><td>14</td><td>1</td><td>1</td><td>2</td><td>1</td><td>82</td><td>3</td><td>0.316227766</td><td>0.7445775051000001</td><td>0.36851051549999997</td><td>3.4641016150999997</td><td>0.4</td><td>0.8</td><td>0.9</td><td>3</td><td>4</td><td>8</td><td>2</td><td>9</td><td>1</td><td>10</td><td>3</td><td>3</td><td>3</td><td>3</td><td>0</td><td>1</td><td>0</td><td>0</td><td>0</td><td>0</td></tr><tr><td>863043</td><td>0</td><td>0</td><td>2</td><td>1</td><td>0</td><td>0</td><td>0</td><td>1</td><td>0</td><td>0</td><td>0</td><td>0</td><td>0</td><td>0</td><td>0</td><td>6</td><td>1</td><td>0</td><td>0</td><td>0.4</td><td>0.0</td><td>0.5273755777</td><td>11</td><td>0</td><td>1</td><td>9</td><td>1</td><td>2</td><td>-1</td><td>0</td><td>1</td><td>1</td><td>104</td><td>3</td><td>0.44721359549999995</td><td>1.6885614200999999</td><td>0.4669047012</td><td>3.7416573868</td><td>0.1</td><td>0.5</td><td>0.1</td><td>0</td><td>0</td><td>8</td><td>3</td><td>11</td><td>2</td><td>8</td><td>1</td><td>0</td><td>1</td><td>14</td><td>0</td><td>1</td><td>1</td><td>0</td><td>1</td><td>1</td></tr><tr><td>863044</td><td>0</td><td>0</td><td>1</td><td>5</td><td>0</td><td>0</td><td>1</td><td>0</td><td>0</td><td>0</td><td>0</td><td>0</td><td>0</td><td>0</td><td>0</td><td>10</td><td>1</td><td>0</td><td>0</td><td>0.3</td><td>0.2</td><td>-1.0</td><td>10</td><td>1</td><td>-1</td><td>0</td><td>1</td><td>11</td><td>1</td><td>1</td><td>0</td><td>1</td><td>103</td><td>1</td><td>0.316227766</td><td>0.5818892002</td><td>0.3583294573</td><td>2.8284271247</td><td>0.0</td><td>0.2</td><td>0.1</td><td>1</td><td>3</td><td>8</td><td>3</td><td>8</td><td>4</td><td>9</td><td>6</td><td>1</td><td>2</td><td>11</td><td>0</td><td>1</td><td>0</td><td>0</td><td>0</td><td>0</td></tr></tbody></table></div>"
      ]
     },
     "metadata": {
      "application/vnd.databricks.v1+output": {
       "addedWidgets": {},
       "aggData": [],
       "aggError": "",
       "aggOverflow": false,
       "aggSchema": [],
       "aggSeriesLimitReached": false,
       "aggType": "",
       "arguments": {},
       "columnCustomDisplayInfos": {},
       "data": [
        [
         863026,
         0,
         0,
         1,
         2,
         0,
         0,
         0,
         1,
         0,
         0,
         0,
         0,
         0,
         0,
         0,
         0,
         0,
         0,
         0,
         0.2,
         0.1,
         -1.0,
         6,
         1,
         -1,
         0,
         1,
         15,
         1,
         1,
         0,
         1,
         5,
         2,
         0.44721359549999995,
         1.1285549892,
         0.4,
         3.4641016150999997,
         0.2,
         0.4,
         0.0,
         2,
         2,
         8,
         3,
         11,
         3,
         11,
         7,
         2,
         2,
         11,
         0,
         1,
         1,
         0,
         0,
         0
        ],
        [
         863030,
         1,
         1,
         2,
         1,
         0,
         0,
         1,
         0,
         0,
         0,
         0,
         0,
         0,
         0,
         0,
         8,
         0,
         1,
         0,
         0.7,
         0.9,
         1.9031224343000002,
         11,
         1,
         -1,
         0,
         -1,
         0,
         1,
         1,
         1,
         1,
         78,
         3,
         0.4,
         0.7979959403,
         0.38483762810000005,
         3.3166247904,
         0.4,
         0.3,
         0.8,
         2,
         4,
         8,
         4,
         8,
         2,
         9,
         6,
         1,
         2,
         5,
         0,
         1,
         0,
         0,
         1,
         0
        ],
        [
         863031,
         0,
         0,
         1,
         7,
         0,
         0,
         1,
         0,
         0,
         0,
         0,
         0,
         0,
         0,
         0,
         12,
         1,
         0,
         0,
         0.3,
         0.2,
         -1.0,
         5,
         1,
         0,
         0,
         0,
         0,
         1,
         1,
         2,
         1,
         95,
         2,
         0.399374511,
         0.6440605947,
         0.3322649545,
         2.0,
         0.1,
         0.0,
         0.0,
         2,
         2,
         8,
         4,
         10,
         4,
         7,
         2,
         3,
         2,
         10,
         1,
         1,
         0,
         0,
         0,
         0
        ],
        [
         863033,
         0,
         1,
         3,
         8,
         1,
         0,
         0,
         0,
         0,
         1,
         0,
         0,
         0,
         0,
         0,
         3,
         1,
         0,
         0,
         0.9,
         1.2,
         0.6025985397,
         11,
         0,
         1,
         0,
         1,
         7,
         1,
         1,
         2,
         1,
         79,
         3,
         0.4,
         1.0048230797,
         0.3466987165,
         3.6055512755000003,
         0.6,
         0.6,
         0.0,
         0,
         1,
         8,
         4,
         10,
         3,
         9,
         2,
         4,
         3,
         10,
         0,
         0,
         1,
         1,
         0,
         0
        ],
        [
         863034,
         0,
         5,
         2,
         1,
         1,
         0,
         0,
         0,
         1,
         0,
         0,
         0,
         0,
         0,
         0,
         6,
         0,
         1,
         0,
         0.9,
         1.2,
         1.6678953803999998,
         11,
         1,
         0,
         0,
         1,
         1,
         1,
         1,
         2,
         1,
         70,
         3,
         0.3741657387,
         0.7491041481999999,
         0.33911649920000003,
         3.0,
         0.5,
         0.3,
         0.4,
         2,
         2,
         8,
         3,
         10,
         4,
         8,
         5,
         2,
         2,
         6,
         0,
         1,
         1,
         0,
         0,
         0
        ],
        [
         863036,
         0,
         7,
         1,
         3,
         1,
         0,
         0,
         0,
         0,
         1,
         0,
         0,
         0,
         0,
         0,
         7,
         1,
         0,
         0,
         0.9,
         0.5,
         0.9093266740000001,
         6,
         1,
         -1,
         0,
         1,
         1,
         1,
         1,
         0,
         1,
         64,
         1,
         0.316227766,
         0.6621246793,
         0.3701351105,
         2.8284271247,
         0.2,
         0.2,
         0.3,
         4,
         2,
         7,
         2,
         10,
         1,
         11,
         3,
         0,
         0,
         5,
         0,
         0,
         0,
         0,
         0,
         0
        ],
        [
         863039,
         0,
         0,
         2,
         6,
         1,
         0,
         0,
         1,
         0,
         0,
         0,
         0,
         0,
         0,
         0,
         5,
         1,
         0,
         0,
         0.1,
         0.1,
         -1.0,
         7,
         1,
         -1,
         0,
         -1,
         1,
         1,
         1,
         2,
         1,
         25,
         3,
         0.3741657387,
         0.7942848543000001,
         -1.0,
         3.6055512755000003,
         0.5,
         0.9,
         0.2,
         3,
         3,
         8,
         3,
         7,
         5,
         14,
         4,
         2,
         0,
         9,
         0,
         1,
         0,
         1,
         1,
         0
        ],
        [
         863040,
         0,
         1,
         3,
         6,
         1,
         0,
         0,
         0,
         1,
         0,
         0,
         0,
         0,
         0,
         0,
         1,
         0,
         0,
         1,
         0.5,
         0.2,
         0.6694213918999999,
         11,
         1,
         -1,
         0,
         -1,
         14,
         1,
         1,
         2,
         1,
         82,
         3,
         0.316227766,
         0.7445775051000001,
         0.36851051549999997,
         3.4641016150999997,
         0.4,
         0.8,
         0.9,
         3,
         4,
         8,
         2,
         9,
         1,
         10,
         3,
         3,
         3,
         3,
         0,
         1,
         0,
         0,
         0,
         0
        ],
        [
         863043,
         0,
         0,
         2,
         1,
         0,
         0,
         0,
         1,
         0,
         0,
         0,
         0,
         0,
         0,
         0,
         6,
         1,
         0,
         0,
         0.4,
         0.0,
         0.5273755777,
         11,
         0,
         1,
         9,
         1,
         2,
         -1,
         0,
         1,
         1,
         104,
         3,
         0.44721359549999995,
         1.6885614200999999,
         0.4669047012,
         3.7416573868,
         0.1,
         0.5,
         0.1,
         0,
         0,
         8,
         3,
         11,
         2,
         8,
         1,
         0,
         1,
         14,
         0,
         1,
         1,
         0,
         1,
         1
        ],
        [
         863044,
         0,
         0,
         1,
         5,
         0,
         0,
         1,
         0,
         0,
         0,
         0,
         0,
         0,
         0,
         0,
         10,
         1,
         0,
         0,
         0.3,
         0.2,
         -1.0,
         10,
         1,
         -1,
         0,
         1,
         11,
         1,
         1,
         0,
         1,
         103,
         1,
         0.316227766,
         0.5818892002,
         0.3583294573,
         2.8284271247,
         0.0,
         0.2,
         0.1,
         1,
         3,
         8,
         3,
         8,
         4,
         9,
         6,
         1,
         2,
         11,
         0,
         1,
         0,
         0,
         0,
         0
        ]
       ],
       "datasetInfos": [],
       "dbfsResultPath": null,
       "isJsonSchema": true,
       "metadata": {},
       "overflow": false,
       "plotOptions": {
        "customPlotOptions": {},
        "displayType": "table",
        "pivotAggregation": null,
        "pivotColumns": null,
        "xColumns": null,
        "yColumns": null
       },
       "removedWidgets": [],
       "schema": [
        {
         "metadata": "{}",
         "name": "id",
         "type": "\"integer\""
        },
        {
         "metadata": "{}",
         "name": "target",
         "type": "\"integer\""
        },
        {
         "metadata": "{}",
         "name": "ps_ind_01",
         "type": "\"integer\""
        },
        {
         "metadata": "{}",
         "name": "ps_ind_02_cat",
         "type": "\"integer\""
        },
        {
         "metadata": "{}",
         "name": "ps_ind_03",
         "type": "\"integer\""
        },
        {
         "metadata": "{}",
         "name": "ps_ind_04_cat",
         "type": "\"integer\""
        },
        {
         "metadata": "{}",
         "name": "ps_ind_05_cat",
         "type": "\"integer\""
        },
        {
         "metadata": "{}",
         "name": "ps_ind_06_bin",
         "type": "\"integer\""
        },
        {
         "metadata": "{}",
         "name": "ps_ind_07_bin",
         "type": "\"integer\""
        },
        {
         "metadata": "{}",
         "name": "ps_ind_08_bin",
         "type": "\"integer\""
        },
        {
         "metadata": "{}",
         "name": "ps_ind_09_bin",
         "type": "\"integer\""
        },
        {
         "metadata": "{}",
         "name": "ps_ind_10_bin",
         "type": "\"integer\""
        },
        {
         "metadata": "{}",
         "name": "ps_ind_11_bin",
         "type": "\"integer\""
        },
        {
         "metadata": "{}",
         "name": "ps_ind_12_bin",
         "type": "\"integer\""
        },
        {
         "metadata": "{}",
         "name": "ps_ind_13_bin",
         "type": "\"integer\""
        },
        {
         "metadata": "{}",
         "name": "ps_ind_14",
         "type": "\"integer\""
        },
        {
         "metadata": "{}",
         "name": "ps_ind_15",
         "type": "\"integer\""
        },
        {
         "metadata": "{}",
         "name": "ps_ind_16_bin",
         "type": "\"integer\""
        },
        {
         "metadata": "{}",
         "name": "ps_ind_17_bin",
         "type": "\"integer\""
        },
        {
         "metadata": "{}",
         "name": "ps_ind_18_bin",
         "type": "\"integer\""
        },
        {
         "metadata": "{}",
         "name": "ps_reg_01",
         "type": "\"double\""
        },
        {
         "metadata": "{}",
         "name": "ps_reg_02",
         "type": "\"double\""
        },
        {
         "metadata": "{}",
         "name": "ps_reg_03",
         "type": "\"double\""
        },
        {
         "metadata": "{}",
         "name": "ps_car_01_cat",
         "type": "\"integer\""
        },
        {
         "metadata": "{}",
         "name": "ps_car_02_cat",
         "type": "\"integer\""
        },
        {
         "metadata": "{}",
         "name": "ps_car_03_cat",
         "type": "\"integer\""
        },
        {
         "metadata": "{}",
         "name": "ps_car_04_cat",
         "type": "\"integer\""
        },
        {
         "metadata": "{}",
         "name": "ps_car_05_cat",
         "type": "\"integer\""
        },
        {
         "metadata": "{}",
         "name": "ps_car_06_cat",
         "type": "\"integer\""
        },
        {
         "metadata": "{}",
         "name": "ps_car_07_cat",
         "type": "\"integer\""
        },
        {
         "metadata": "{}",
         "name": "ps_car_08_cat",
         "type": "\"integer\""
        },
        {
         "metadata": "{}",
         "name": "ps_car_09_cat",
         "type": "\"integer\""
        },
        {
         "metadata": "{}",
         "name": "ps_car_10_cat",
         "type": "\"integer\""
        },
        {
         "metadata": "{}",
         "name": "ps_car_11_cat",
         "type": "\"integer\""
        },
        {
         "metadata": "{}",
         "name": "ps_car_11",
         "type": "\"integer\""
        },
        {
         "metadata": "{}",
         "name": "ps_car_12",
         "type": "\"double\""
        },
        {
         "metadata": "{}",
         "name": "ps_car_13",
         "type": "\"double\""
        },
        {
         "metadata": "{}",
         "name": "ps_car_14",
         "type": "\"double\""
        },
        {
         "metadata": "{}",
         "name": "ps_car_15",
         "type": "\"double\""
        },
        {
         "metadata": "{}",
         "name": "ps_calc_01",
         "type": "\"double\""
        },
        {
         "metadata": "{}",
         "name": "ps_calc_02",
         "type": "\"double\""
        },
        {
         "metadata": "{}",
         "name": "ps_calc_03",
         "type": "\"double\""
        },
        {
         "metadata": "{}",
         "name": "ps_calc_04",
         "type": "\"integer\""
        },
        {
         "metadata": "{}",
         "name": "ps_calc_05",
         "type": "\"integer\""
        },
        {
         "metadata": "{}",
         "name": "ps_calc_06",
         "type": "\"integer\""
        },
        {
         "metadata": "{}",
         "name": "ps_calc_07",
         "type": "\"integer\""
        },
        {
         "metadata": "{}",
         "name": "ps_calc_08",
         "type": "\"integer\""
        },
        {
         "metadata": "{}",
         "name": "ps_calc_09",
         "type": "\"integer\""
        },
        {
         "metadata": "{}",
         "name": "ps_calc_10",
         "type": "\"integer\""
        },
        {
         "metadata": "{}",
         "name": "ps_calc_11",
         "type": "\"integer\""
        },
        {
         "metadata": "{}",
         "name": "ps_calc_12",
         "type": "\"integer\""
        },
        {
         "metadata": "{}",
         "name": "ps_calc_13",
         "type": "\"integer\""
        },
        {
         "metadata": "{}",
         "name": "ps_calc_14",
         "type": "\"integer\""
        },
        {
         "metadata": "{}",
         "name": "ps_calc_15_bin",
         "type": "\"integer\""
        },
        {
         "metadata": "{}",
         "name": "ps_calc_16_bin",
         "type": "\"integer\""
        },
        {
         "metadata": "{}",
         "name": "ps_calc_17_bin",
         "type": "\"integer\""
        },
        {
         "metadata": "{}",
         "name": "ps_calc_18_bin",
         "type": "\"integer\""
        },
        {
         "metadata": "{}",
         "name": "ps_calc_19_bin",
         "type": "\"integer\""
        },
        {
         "metadata": "{}",
         "name": "ps_calc_20_bin",
         "type": "\"integer\""
        }
       ],
       "type": "table"
      }
     },
     "output_type": "display_data"
    }
   ],
   "source": [
    "train_df.limit(10).display()\n"
   ]
  },
  {
   "cell_type": "markdown",
   "metadata": {
    "application/vnd.databricks.v1+cell": {
     "cellMetadata": {
      "byteLimit": 2048000,
      "rowLimit": 10000
     },
     "inputWidgets": {},
     "nuid": "83a5cc93-5050-4c47-b4f9-72a54012fc0e",
     "showTitle": false,
     "tableResultSettingsMap": {},
     "title": ""
    }
   },
   "source": [
    "\n",
    "## Data Type Checks"
   ]
  },
  {
   "cell_type": "code",
   "execution_count": 0,
   "metadata": {
    "application/vnd.databricks.v1+cell": {
     "cellMetadata": {
      "byteLimit": 2048000,
      "rowLimit": 10000
     },
     "inputWidgets": {},
     "nuid": "b4f56e1e-0394-4ec9-ba9e-1c79047ed858",
     "showTitle": false,
     "tableResultSettingsMap": {},
     "title": ""
    }
   },
   "outputs": [],
   "source": [
    "train_df = train_df.toPandas()\n",
    "test_df = test_df.toPandas()"
   ]
  },
  {
   "cell_type": "code",
   "execution_count": 0,
   "metadata": {
    "application/vnd.databricks.v1+cell": {
     "cellMetadata": {
      "byteLimit": 2048000,
      "rowLimit": 10000
     },
     "inputWidgets": {},
     "nuid": "509d1e75-c029-45a8-8749-755a65e75e2b",
     "showTitle": false,
     "tableResultSettingsMap": {},
     "title": ""
    }
   },
   "outputs": [],
   "source": [
    "train_df.columns = train_df.columns.str.replace('ps_', '', regex=False)\n",
    "test_df.columns = test_df.columns.str.replace('ps_', '', regex=False)"
   ]
  },
  {
   "cell_type": "code",
   "execution_count": 0,
   "metadata": {
    "application/vnd.databricks.v1+cell": {
     "cellMetadata": {
      "byteLimit": 2048000,
      "rowLimit": 10000
     },
     "inputWidgets": {},
     "nuid": "66df1bcd-7d02-4ae0-bc6d-d9c069b4a2b4",
     "showTitle": false,
     "tableResultSettingsMap": {},
     "title": ""
    }
   },
   "outputs": [
    {
     "output_type": "stream",
     "name": "stdout",
     "output_type": "stream",
     "text": [
      "categorical features: \n ['ind_02_cat', 'ind_04_cat', 'ind_05_cat', 'car_01_cat', 'car_02_cat', 'car_03_cat', 'car_04_cat', 'car_05_cat', 'car_06_cat', 'car_07_cat', 'car_08_cat', 'car_09_cat', 'car_10_cat', 'car_11_cat']\n--------------------------------------\nbinary features: \n ['ind_06_bin', 'ind_07_bin', 'ind_08_bin', 'ind_09_bin', 'ind_10_bin', 'ind_11_bin', 'ind_12_bin', 'ind_13_bin', 'ind_16_bin', 'ind_17_bin', 'ind_18_bin', 'calc_15_bin', 'calc_16_bin', 'calc_17_bin', 'calc_18_bin', 'calc_19_bin', 'calc_20_bin']\n--------------------------------------\n--------------------------------------\nvehicle features: \n ['car_01_cat', 'car_02_cat', 'car_03_cat', 'car_04_cat', 'car_05_cat', 'car_06_cat', 'car_07_cat', 'car_08_cat', 'car_09_cat', 'car_10_cat', 'car_11_cat', 'car_11', 'car_12', 'car_13', 'car_14', 'car_15']\n--------------------------------------\nindicator features: \n ['ind_01', 'ind_02_cat', 'ind_03', 'ind_04_cat', 'ind_05_cat', 'ind_06_bin', 'ind_07_bin', 'ind_08_bin', 'ind_09_bin', 'ind_10_bin', 'ind_11_bin', 'ind_12_bin', 'ind_13_bin', 'ind_14', 'ind_15', 'ind_16_bin', 'ind_17_bin', 'ind_18_bin']\n--------------------------------------\nregular features: \n ['reg_01', 'reg_02', 'reg_03']\n--------------------------------------\ncalculated features: \n ['calc_01', 'calc_02', 'calc_03', 'calc_04', 'calc_05', 'calc_06', 'calc_07', 'calc_08', 'calc_09', 'calc_10', 'calc_11', 'calc_12', 'calc_13', 'calc_14', 'calc_15_bin', 'calc_16_bin', 'calc_17_bin', 'calc_18_bin', 'calc_19_bin', 'calc_20_bin']\n--------------------------------------\n"
     ]
    }
   ],
   "source": [
    "\n",
    "columns = train_df.columns\n",
    "\n",
    "print(\"categorical features: \\n\", [col for col in columns if \"_cat\" in col])\n",
    "print(\"--------------------------------------\")\n",
    "print(\"binary features: \\n\", [col for col in columns if \"_bin\" in col])\n",
    "\n",
    "print(\"--------------------------------------\")\n",
    "print(\"--------------------------------------\")\n",
    "\n",
    "print(\"vehicle features: \\n\", [col for col in columns if \"car_\" in col])\n",
    "print(\"--------------------------------------\")\n",
    "print(\"indicator features: \\n\", [col for col in columns if \"ind_\" in col])\n",
    "print(\"--------------------------------------\")\n",
    "print(\"regular features: \\n\", [col for col in columns if \"reg_\" in col])\n",
    "print(\"--------------------------------------\")\n",
    "print(\"calculated features: \\n\", [col for col in columns if \"calc_\" in col])\n",
    "print(\"--------------------------------------\")"
   ]
  },
  {
   "cell_type": "markdown",
   "metadata": {
    "application/vnd.databricks.v1+cell": {
     "cellMetadata": {
      "byteLimit": 2048000,
      "rowLimit": 10000
     },
     "inputWidgets": {},
     "nuid": "5169a026-8a66-4b88-ae85-fc25dc3d6bc0",
     "showTitle": false,
     "tableResultSettingsMap": {},
     "title": ""
    }
   },
   "source": [
    "\n",
    "## Distribution Plots"
   ]
  },
  {
   "cell_type": "code",
   "execution_count": 0,
   "metadata": {
    "application/vnd.databricks.v1+cell": {
     "cellMetadata": {
      "byteLimit": 2048000,
      "rowLimit": 10000
     },
     "inputWidgets": {},
     "nuid": "138b94b7-a21d-4886-abae-b4e904652379",
     "showTitle": false,
     "tableResultSettingsMap": {},
     "title": ""
    }
   },
   "outputs": [],
   "source": [
    "def plot_counts_per_feature(dataset: pd.DataFrame, feature_name: str):\n",
    "    \"\"\"\n",
    "    Plot counts of unique values of a feature (only for categorical features).\n",
    "    \"\"\"\n",
    "    plt.figure(figsize=(6,4))\n",
    "    sns.countplot(\n",
    "        x=feature_name, data=dataset, \n",
    "        palette='pastel', hue=feature_name, legend=False\n",
    "    )\n",
    "    plt.title(f'counts of unique values in \"{feature_name}\" column')\n",
    "    plt.xlabel(feature_name)\n",
    "    plt.ylabel('counts')\n",
    "    plt.show()"
   ]
  },
  {
   "cell_type": "code",
   "execution_count": 0,
   "metadata": {
    "application/vnd.databricks.v1+cell": {
     "cellMetadata": {
      "byteLimit": 2048000,
      "rowLimit": 10000
     },
     "inputWidgets": {},
     "nuid": "a0c64960-f8ce-438d-8408-fbfc9dbd6d41",
     "showTitle": false,
     "tableResultSettingsMap": {},
     "title": ""
    }
   },
   "outputs": [
    {
     "output_type": "display_data",
     "data": {
      "image/png": "[encoded data removed]",
      "text/plain": [
       "<Figure size 600x400 with 1 Axes>"
      ]
     },
     "metadata": {},
     "output_type": "display_data"
    }
   ],
   "source": [
    "plot_counts_per_feature(\n",
    "  dataset=train_df, \n",
    "  feature_name=\"target\"\n",
    ")"
   ]
  },
  {
   "cell_type": "markdown",
   "metadata": {
    "application/vnd.databricks.v1+cell": {
     "cellMetadata": {},
     "inputWidgets": {},
     "nuid": "8369fe6c-e58a-4dbc-9d67-84361074c869",
     "showTitle": false,
     "tableResultSettingsMap": {},
     "title": ""
    }
   },
   "source": [
    "Now we can see there is huge imbalance towards positive class (clients with claims). We might deal with it in several methods (minority class oversampling, majority class undersampling, class weights, etc.)"
   ]
  },
  {
   "cell_type": "code",
   "execution_count": 0,
   "metadata": {
    "application/vnd.databricks.v1+cell": {
     "cellMetadata": {
      "byteLimit": 2048000,
      "rowLimit": 10000
     },
     "collapsed": true,
     "inputWidgets": {},
     "nuid": "761d7351-bb02-4971-a9af-68a983e45181",
     "showTitle": false,
     "tableResultSettingsMap": {},
     "title": ""
    }
   },
   "outputs": [
    {
     "output_type": "display_data",
     "data": {
      "image/png": "[encoded data removed]",
      "text/plain": [
       "<Figure size 600x400 with 1 Axes>"
      ]
     },
     "metadata": {},
     "output_type": "display_data"
    },
    {
     "output_type": "display_data",
     "data": {
      "image/png": "[encoded data removed]",
      "text/plain": [
       "<Figure size 600x400 with 1 Axes>"
      ]
     },
     "metadata": {},
     "output_type": "display_data"
    },
    {
     "output_type": "display_data",
     "data": {
      "image/png": "[encoded data removed]",
      "text/plain": [
       "<Figure size 600x400 with 1 Axes>"
      ]
     },
     "metadata": {},
     "output_type": "display_data"
    },
    {
     "output_type": "display_data",
     "data": {
      "image/png": "[encoded data removed]",
      "text/plain": [
       "<Figure size 600x400 with 1 Axes>"
      ]
     },
     "metadata": {},
     "output_type": "display_data"
    },
    {
     "output_type": "display_data",
     "data": {
      "image/png": "[encoded data removed]",
      "text/plain": [
       "<Figure size 600x400 with 1 Axes>"
      ]
     },
     "metadata": {},
     "output_type": "display_data"
    }
   ],
   "source": [
    "plot_counts_per_feature(\n",
    "    dataset=train_df,\n",
    "    feature_name=\"ind_02_cat\"  # a categorical indicator feature\n",
    ")\n",
    "\n",
    "plot_counts_per_feature(\n",
    "    dataset=train_df,\n",
    "    feature_name=\"car_01_cat\"  # a categorical vehicle feature\n",
    ")\n",
    "\n",
    "plot_counts_per_feature(\n",
    "    dataset=train_df,\n",
    "    feature_name=\"ind_06_bin\"  # a binary indicator feature\n",
    ")\n",
    "\n",
    "plot_counts_per_feature(\n",
    "    dataset=train_df,\n",
    "    feature_name=\"calc_15_bin\"  # a binary calculated feature\n",
    ")\n",
    "\n",
    "plot_counts_per_feature(\n",
    "    dataset=train_df,\n",
    "    feature_name=\"reg_01\"  # a regular feature\n",
    ")"
   ]
  },
  {
   "cell_type": "code",
   "execution_count": 0,
   "metadata": {
    "application/vnd.databricks.v1+cell": {
     "cellMetadata": {
      "byteLimit": 2048000,
      "rowLimit": 10000
     },
     "inputWidgets": {},
     "nuid": "bfa2ead8-c503-4233-8038-34b904c1f7fb",
     "showTitle": false,
     "tableResultSettingsMap": {},
     "title": ""
    }
   },
   "outputs": [],
   "source": [
    "def plot_box_distribution(train_set: pd.DataFrame,\n",
    "                          test_set: pd.DataFrame,\n",
    "                          feature_name: str, \n",
    "                          target_name: str\n",
    "                          ) -> None:\n",
    "    \"\"\"\n",
    "    Plot boxplot of the input feature (only for contiuous features)\n",
    "    \"\"\"\n",
    "    # impute missing values (-1) with mean value for each dataset\n",
    "    train_mean = train_set.loc[train_set[feature_name] != -1, feature_name].mean()\n",
    "    train_set.loc[train_set[feature_name] == -1, feature_name] = train_mean\n",
    "    test_mean = test_set.loc[test_set[feature_name] != -1, feature_name].mean()\n",
    "    test_set.loc[test_set[feature_name] == -1, feature_name] = test_mean\n",
    "\n",
    "    fig, axes = plt.subplots(1, 2, figsize=(9, 5), sharey=True)\n",
    "    sns.boxplot(\n",
    "      x=target_name, y=feature_name, data=train_set, whis=1.5,\n",
    "      palette=\"pastel\", hue=target_name, legend=False,\n",
    "      ax=axes[0]\n",
    "    )\n",
    "    axes[0].set_title(f'Boxplot of {feature_name} by {target_name} (train)')\n",
    "    axes[0].set_xlabel(target_name)\n",
    "    axes[0].set_ylabel(feature_name)\n",
    "    sns.boxplot(\n",
    "      x=None, y=feature_name, data=test_set, whis=1.5,\n",
    "      width=0.4, ax=axes[1]\n",
    "    )\n",
    "    axes[1].set_title(f'Boxplot of {feature_name} (test)')\n",
    "    plt.tight_layout()\n",
    "    plt.show()"
   ]
  },
  {
   "cell_type": "code",
   "execution_count": 0,
   "metadata": {
    "application/vnd.databricks.v1+cell": {
     "cellMetadata": {
      "byteLimit": 2048000,
      "rowLimit": 10000
     },
     "inputWidgets": {},
     "nuid": "4d19912b-9b8c-43c6-b42e-bbf6abe387a8",
     "showTitle": false,
     "tableResultSettingsMap": {},
     "title": ""
    }
   },
   "outputs": [
    {
     "output_type": "display_data",
     "data": {
      "image/png": "[encoded data removed]",
      "text/plain": [
       "<Figure size 900x500 with 2 Axes>"
      ]
     },
     "metadata": {},
     "output_type": "display_data"
    }
   ],
   "source": [
    "plot_box_distribution(\n",
    "    train_set=train_df,\n",
    "    test_set=test_df,\n",
    "    feature_name=\"car_13\",  # a continuous feature\n",
    "    target_name=\"target\"\n",
    ")"
   ]
  },
  {
   "cell_type": "markdown",
   "metadata": {
    "application/vnd.databricks.v1+cell": {
     "cellMetadata": {},
     "inputWidgets": {},
     "nuid": "885a433e-8eb7-4b49-8223-522fca724081",
     "showTitle": false,
     "tableResultSettingsMap": {},
     "title": ""
    }
   },
   "source": [
    "\n",
    "### Analysis Report\n",
    "\n",
    "- `car_03_cat`: ~70% nulls\n",
    "- `car_04_cat`: eligible for super-group (0 vs non-0)\n",
    "- `car_06_cat`: high cardinality (18 categories)\n",
    "- `car_07_cat`: high class imbalance (~95%)\n",
    "- `car_10_cat`: high class imbalance (>99%)\n",
    "- `car_11_cat`: very high cardinality (104 categories) | eligible for super-group (104 vs non-104)\n",
    "- `car_13`: right-tail skewness (lots of outliers)\n",
    "- `ind_02_cat`: class imbalance (~70%) | eligible for super-group (1 vs non-1)\n",
    "- `ind_05_cat`: class imbalance (~85%) | eligible for super-group (0 vs non-0)\n",
    "- `ind_10_bin`: high class imbalance (>99%)\n",
    "- `ind_11_bin`: high class imbalance (>99%)\n",
    "- `ind_12_bin`: high class imbalance (>99%)\n",
    "- `ind_13_bin`: high class imbalance (>99%)\n",
    "- `ind_14`: high class imbalance (>99%)\n",
    "- `ind_17_bin`: class imbalance (~85%)\n",
    "- `ind_18_bin`: class imbalance (~80%)\n",
    "- `reg_02`: right-tail skewness (lots of outliers)\n",
    "- `calc_15_bin`: class imbalance (~85%)\n",
    "- `calc_20_bin`: class imbalance (~80%)"
   ]
  },
  {
   "cell_type": "markdown",
   "metadata": {
    "application/vnd.databricks.v1+cell": {
     "cellMetadata": {},
     "inputWidgets": {},
     "nuid": "d541403a-0722-4a28-aecb-319ea34bbd5e",
     "showTitle": false,
     "tableResultSettingsMap": {},
     "title": ""
    }
   },
   "source": [
    "\n",
    "## Inter-feature Correlation Map"
   ]
  },
  {
   "cell_type": "code",
   "execution_count": 0,
   "metadata": {
    "application/vnd.databricks.v1+cell": {
     "cellMetadata": {
      "byteLimit": 2048000,
      "rowLimit": 10000
     },
     "inputWidgets": {},
     "nuid": "ad297e1c-804d-43cb-8427-ef7001f4b2b8",
     "showTitle": false,
     "tableResultSettingsMap": {},
     "title": ""
    }
   },
   "outputs": [
    {
     "output_type": "display_data",
     "data": {
      "text/html": [
       "<html>\n",
       "<head><meta charset=\"utf-8\" /></head>\n",
       "<body>\n",
       "    <div>            <script src=\"https://cdnjs.cloudflare.com/ajax/libs/mathjax/2.7.5/MathJax.js?config=TeX-AMS-MML_SVG\"></script><script type=\"text/javascript\">if (window.MathJax && window.MathJax.Hub && window.MathJax.Hub.Config) {window.MathJax.Hub.Config({SVG: {font: \"STIX-Web\"}});}</script>                <script type=\"text/javascript\">window.PlotlyConfig = {MathJaxConfig: 'local'};</script>\n",
       "        <script charset=\"utf-8\" src=\"https://cdn.plot.ly/plotly-2.35.2.min.js\"></script>                <div id=\"22cfeae1-79fb-4487-bd24-1fa6f859f20b\" class=\"plotly-graph-div\" style=\"height:1000px; width:1000px;\"></div>            <script type=\"text/javascript\">                                    window.PLOTLYENV=window.PLOTLYENV || {};                                    if (document.getElementById(\"22cfeae1-79fb-4487-bd24-1fa6f859f20b\")) {                    Plotly.newPlot(                        \"22cfeae1-79fb-4487-bd24-1fa6f859f20b\",                        [{\"coloraxis\":\"coloraxis\",\"name\":\"0\",\"texttemplate\":\"%{z}\",\"x\":[\"target\",\"ind_01\",\"ind_02_cat\",\"ind_03\",\"ind_04_cat\",\"ind_05_cat\",\"ind_06_bin\",\"ind_07_bin\",\"ind_08_bin\",\"ind_09_bin\",\"ind_10_bin\",\"ind_11_bin\",\"ind_12_bin\",\"ind_13_bin\",\"ind_14\",\"ind_15\",\"ind_16_bin\",\"ind_17_bin\",\"ind_18_bin\",\"reg_01\",\"reg_02\",\"reg_03\",\"car_01_cat\",\"car_02_cat\",\"car_03_cat\",\"car_04_cat\",\"car_05_cat\",\"car_06_cat\",\"car_07_cat\",\"car_08_cat\",\"car_09_cat\",\"car_10_cat\",\"car_11_cat\",\"car_11\",\"car_12\",\"car_13\",\"car_14\",\"car_15\",\"calc_01\",\"calc_02\",\"calc_03\",\"calc_04\",\"calc_05\",\"calc_06\",\"calc_07\",\"calc_08\",\"calc_09\",\"calc_10\",\"calc_11\",\"calc_12\",\"calc_13\",\"calc_14\",\"calc_15_bin\",\"calc_16_bin\",\"calc_17_bin\",\"calc_18_bin\",\"calc_19_bin\",\"calc_20_bin\"],\"y\":[\"target\",\"ind_01\",\"ind_02_cat\",\"ind_03\",\"ind_04_cat\",\"ind_05_cat\",\"ind_06_bin\",\"ind_07_bin\",\"ind_08_bin\",\"ind_09_bin\",\"ind_10_bin\",\"ind_11_bin\",\"ind_12_bin\",\"ind_13_bin\",\"ind_14\",\"ind_15\",\"ind_16_bin\",\"ind_17_bin\",\"ind_18_bin\",\"reg_01\",\"reg_02\",\"reg_03\",\"car_01_cat\",\"car_02_cat\",\"car_03_cat\",\"car_04_cat\",\"car_05_cat\",\"car_06_cat\",\"car_07_cat\",\"car_08_cat\",\"car_09_cat\",\"car_10_cat\",\"car_11_cat\",\"car_11\",\"car_12\",\"car_13\",\"car_14\",\"car_15\",\"calc_01\",\"calc_02\",\"calc_03\",\"calc_04\",\"calc_05\",\"calc_06\",\"calc_07\",\"calc_08\",\"calc_09\",\"calc_10\",\"calc_11\",\"calc_12\",\"calc_13\",\"calc_14\",\"calc_15_bin\",\"calc_16_bin\",\"calc_17_bin\",\"calc_18_bin\",\"calc_19_bin\",\"calc_20_bin\"],\"z\":[[1.0,0.018396087603633437,0.005161582304476957,0.008132544307617688,0.00959029196653739,0.02392775518933532,-0.03401686970379012,0.03421807451432018,0.013146978438726382,-0.008236815985638081,0.0018147796965898905,0.0020281711723570415,0.007810308443393743,0.0024602908319341097,0.00752963132795116,-0.021699141230330433,-0.02777807578870934,0.03705260633614849,0.004555455715185985,0.022968887730235858,0.032966783213358684,0.03738468640387538,0.019479597249819024,-0.03153940922192587,0.03163988916044533,0.03657819169644857,0.02131396843603759,0.010324479345454704,-0.03306865257696688,-0.020341933485980727,0.003650567960987161,0.001038137676736598,0.008072805410368493,-0.000415270601233545,0.0364668251177045,0.04969231320021378,0.004285029145188564,0.029364508830630083,0.0017798263928901163,0.0013596756653895604,0.0019072147066845997,-0.0002599630029761026,0.00039621428327121436,0.00010590461357905492,-0.0003976989538219445,-0.0009884614013413746,0.001035083407839573,0.0011276806205616793,9.655316469561398e-05,-0.0010924196820950756,-0.00022408367784557527,0.0009497621996422007,-0.0004904242506719357,0.0006238280115061413,-0.00017012817365768984,0.0005524351996143513,-0.001743831954666,-0.0010722284275476515],[0.018396087603633437,1.0,-0.03065600040360334,0.2061800564713256,0.0679537449141624,0.017012516776771326,-0.279169657154053,0.01946594245363794,0.18638650485143765,0.15156266948210684,0.0011529323011518942,-0.019751689677636772,-0.026700177679453433,-0.011047090534640596,-0.029337507280439875,0.11624758036775201,0.04185845856524183,0.12456108357643578,-0.13314642551536027,0.0996185558158085,0.1835159421186515,0.19255370051542559,-0.021263549611118572,-0.10835900947616225,0.0038836699389761704,0.06210582876620196,0.15162410759087355,0.056916597182143217,-0.009475560322885572,0.19885666359485468,-0.07300273631498272,0.00877058185643471,0.016901600070804497,-0.0038251925928922473,0.15154056820612435,0.06778115460068186,0.11841245361673079,-0.10203067826508455,-0.0008862221437967975,-0.00037322263458887395,0.0009851392781097812,-0.0007219441993439811,-0.0006251775826055472,-8.881821887961477e-05,-0.000912696506359328,0.003327632088139184,-0.0007298721113722938,-0.001703973813681957,-0.0012202409334261112,0.00197806209484646,-0.00026119974104259165,-0.0007559418320820326,-0.0004888305809152305,0.00016023701801382253,-0.000637405922512431,-0.0012064286195396503,-0.0004873474994308484,-0.0005742314506415563],[0.005161582304476957,-0.03065600040360334,1.0,-0.2302688876802701,0.12944878837509147,-0.054921451279090545,-0.11277630019064279,0.01856549849744774,0.018588388610768194,0.10322011244031522,-0.002023029889073137,0.0007152517993111603,-0.006473585653894555,-0.002436666651996497,-0.006205310633401865,-0.021273303902624108,0.022456166589370892,-0.025228500162772553,-0.008438785809101379,0.0723652872647265,0.09704792712017804,0.09710101006932577,0.0037476156622448134,0.05902777644276546,-0.016356717254448296,-0.07722819273531174,-0.028258226572056344,-0.021409094570979212,-0.010684907674808834,0.0008913918854554566,0.013858760695481611,0.01284790420844605,0.011442011614757771,0.04444005341622495,-0.1290565171532375,-0.09072679321654689,-0.08392567027778271,-0.002877120364792841,0.0007589338445733516,0.0011355554693821318,-0.00068901254850816,-0.002241787175024083,-0.0006171553561521586,-0.0013611782831280167,-0.0007327271903629544,-0.0026572539334666478,0.00039941011135843576,0.0001130703761784332,0.0011514729213372092,-0.00048201881806080623,-0.0009821995407886673,-0.000260578527540117,-7.73097925123283e-05,0.000722508925156299,-0.00012096935308415549,0.0013957242323359904,0.0006746646943326367,-0.0016616242741783688],[0.008132544307617688,0.2061800564713256,-0.2302688876802701,1.0,-0.08422301593045982,0.11529290116551982,-0.04576251364715383,-0.050471399092812834,0.01907607403757532,0.09613442912946193,0.0074833623814307935,-0.0034846460858698413,0.002588439713301136,0.0045910963951138455,0.0037713273691528893,0.16388883206686802,-0.01268693357568444,0.034267736703105574,-0.011878397822858761,0.007321146961208908,0.03542907365149926,0.02239838674941096,-0.035232716950983484,-0.04883408332239744,0.08833805889580237,0.0854107029614071,0.1382234852702391,0.013965378842875676,0.027879340694197566,0.002192957531240468,-0.01631226561137716,-0.010032461666497577,-0.018664819583154045,-0.06530121479167869,0.09144611108248153,0.05021041953244964,0.017648399559175482,-0.016599218067562507,0.0007030937857172339,-0.0006737368493234499,0.0005627981808702027,0.0009280511933824023,-0.0010345570485628059,0.0026849262175865237,0.0011472342887733826,0.0012316098107686417,-0.001538362170845414,0.00015850001871482134,-0.0023321396040042446,-0.0015377628999989274,0.00025336145954811865,0.000616236280145418,0.0001147008209880672,-0.0009880402394612984,0.00011573310283178855,-0.00011353267979965518,-0.0004458338387299716,-0.0033147959516082034],[0.00959029196653739,0.0679537449141624,0.12944878837509147,-0.08422301593045982,1.0,0.01442167377714402,-0.29786234424450414,0.30503310301556624,0.04503900642286108,-0.011435386697905205,0.0007866587001835967,0.0010137532912211176,-0.0011847349621925463,-0.0008512271087419789,-0.0011822162014775797,0.08290399247493313,0.01741257698853039,0.007932562838104684,-0.02580389522606824,0.01913502726464351,0.08309636152090853,0.09647788515790118,0.030053955695198774,0.0031252819197810657,0.018265021553688893,-0.0687149900591157,0.064883726477881,0.029881615929467083,0.07805669236262087,-0.008165335602821584,-0.03964186290769054,0.022963504480340152,-0.006460415629458888,0.07268634873136533,-0.09216456287884275,-0.021123363380175373,-0.06961571696643731,0.03547654810649504,-0.0027540684757836856,-0.0005327227956303134,0.00027053624623355794,0.0006150077954391053,0.001544576549805691,0.00211823330162472,-0.00028831060027499677,-0.0027493197130440904,5.7899856726879275e-05,0.0005446947649178716,-0.002113886994930886,-0.0008649439237510146,0.00041333254868110926,0.0014322486281020542,0.0027304339933982846,0.0022751189239828542,0.0007822446274933469,0.0009354902851837651,-0.0019810047779788872,0.0012374968449772828],[0.02392775518933532,0.017012516776771326,-0.054921451279090545,0.11529290116551982,0.01442167377714402,1.0,0.013386173752120251,-0.010417430610107302,0.004002294066251149,-0.008929430623318683,0.0010167004781897057,-0.0029898741602240758,-0.0037056451860662137,-0.00022404158043306185,-0.004191372604645046,0.01583462273581721,0.00022969134723531374,0.013414758147655439,-0.008060737086151846,-0.008694593442731408,-0.01350503447853092,-0.019572380812555693,-0.01906742388728069,0.007767362927686766,-0.026657263264596456,-0.007375535667828671,-0.03792121462380461,-0.004344200508047999,0.10867850042236797,-0.0015330547397947945,0.007238570459707568,-9.283628760236815e-05,-0.007135857389249705,0.005978166720008943,-0.005143497966330403,-0.006205654812381453,0.013983708445024863,-0.0024458324556567725,-0.0013046413899596928,0.0015021861505125802,-0.0020108561025361706,0.0008471744559955934,-0.0009875796380867498,-8.222602483328152e-05,-0.001511016305749031,0.0002418958665237933,-0.00021808446877373742,-0.0018189080664973954,-0.002099359052791905,0.0004016616505668142,0.002024438680205544,0.0018157004773686923,0.0007531615897047136,9.358463291770202e-05,2.5126944099735543e-05,-0.0007807449680135478,0.000767793209384073,-0.0006423862693915303],[-0.03401686970379012,-0.279169657154053,-0.11277630019064279,-0.04576251364715383,-0.29786234424450414,0.013386173752120251,1.0,-0.47400904185863535,-0.356838332745785,-0.3843451401433744,-0.008977535013244949,-0.005229382248971747,-0.017498505238443825,-0.00839006416673833,-0.01943617309880222,0.015549541361556148,0.028352083532306865,-0.037121073675290626,-0.011750963576262553,-0.013496463835040239,-0.1625662340678779,-0.18206448926388583,-0.0812077995098655,0.13639251551731826,-0.06586385975489836,-0.22390166177176773,-0.16698008003001805,-0.0635463484612551,0.027447817303400037,0.038313070316951935,0.10009449727577788,-0.04108084997011809,-0.042840351713130914,0.014396966002801506,-0.20807000454340047,-0.26775395763754867,-0.0990427860779193,-0.1432627022598825,0.00018378500468400923,-0.00031898814794855085,0.00285836971942597,-0.00029097698481341455,-0.0005077881077630637,-0.001433493647809588,-0.0015770115807442987,-0.0013366434895240272,-0.0018590350530795089,-0.0014371101390081252,0.0006815340541811946,0.0011993167125179131,-0.0013841947582160488,0.0004784412097498537,0.0020878603119080497,-0.0003814511646855398,-1.2555595090650435e-06,-0.0007593038072530731,0.0027907331412285693,0.00020310560100687488],[0.03421807451432018,0.01946594245363794,0.01856549849744774,-0.050471399092812834,0.30503310301556624,-0.010417430610107302,-0.47400904185863535,1.0,-0.26043764221343085,-0.2805134227712819,0.010739652662904603,0.010118980387077606,0.036619156407528844,0.012124758822840425,0.03919123726688023,-0.1249565940248199,-0.07232059015077046,0.020776151947426286,0.0765618721630358,-0.02995270401048619,0.04032403951154025,0.05628612500170711,0.059726745078304375,-0.1626147985222608,0.09106289336729785,0.21685814262337577,0.09765007471601178,0.021359159816601494,-0.031490307502229566,-0.12382519653980113,-0.061182255632879615,0.030570029270395767,0.06098537437529741,0.054919491806592356,0.19281494223511897,0.30622968021801,0.04956780004093817,0.21327888569615358,0.00044450439134877183,0.00022299070949360753,0.0011124423382943029,0.00024735512342203306,6.491636942340387e-05,0.0018424059270535618,-0.0007077207348532555,-0.00113899174340178,0.003069353402671716,0.0025911956549611414,-0.0003328469528054058,-0.00029453307888679286,0.00036865868250258885,0.0012171256981043583,0.0005749746503483154,0.0012197619159870828,-0.0005167363145866204,0.00018148010907959402,-0.0013611791678529695,-0.0009608000951050545],[0.013146978438726382,0.18638650485143765,0.018588388610768194,0.01907607403757532,0.04503900642286108,0.004002294066251149,-0.356838332745785,-0.26043764221343085,1.0,-0.21117306476399136,0.006489106788122961,0.010041261161282523,0.01225407350015317,0.007898322664249472,0.01317470565086115,0.059544344338937336,0.005854905555404943,0.03603562289293502,-0.03327254465455359,-0.15456367522773828,-0.004263775648542969,0.012004232080273973,0.007683032949169828,-0.029988904199514246,0.03792042163976732,0.11481251704064509,0.06337147508201228,0.06249553914475959,-0.02751023158099786,0.042792267488117576,-0.011034779774807732,0.025339596049181116,0.04174294683671553,-0.05659590737344415,0.10053759205826393,0.07863920109128406,0.0711434670240898,-0.008295777033323043,-0.00011111744144142282,-0.00041321418594833547,-0.0019394963930397593,-0.0008109465452222644,0.0005276382132238671,0.001639706888076384,0.0011039431081077084,0.0011076970596549847,-0.0011149799971636786,-0.0006516643067145796,-0.0009540850400977245,-0.0011122903199642122,-0.00025382368603683154,-0.0018540779151612163,-0.002782301006902715,-0.0020477245727682104,-0.0005794594623614194,-6.76560415160716e-05,-0.0009190393767053095,0.0009953591808180195],[-0.008236815985638081,0.15156266948210684,0.10322011244031522,0.09613442912946193,-0.011435386697905205,-0.008929430623318683,-0.3843451401433744,-0.2805134227712819,-0.21117306476399136,1.0,-0.006972868230189226,-0.014372442368755609,-0.03085777558244932,-0.010612127908433569,-0.03219124634953112,0.06425271130825719,0.040109224305172594,-0.011023469836899804,-0.03963118000078225,0.1979274551090299,0.16313059454847895,0.1541960923235985,0.027620239891108823,0.03995897416220454,-0.05572830368467586,-0.07174731503669379,0.03976305411063167,-0.0036614097371309978,0.027114508184659394,0.050317329444213105,-0.04653897027390567,-0.006868271942658584,-0.05449320082266187,-0.0259473854245299,-0.05101233389886825,-0.08265556563204049,0.0010078154731923336,-0.05182457894837636,-0.0006251668447763226,0.0005440264605776162,-0.0029975097687918203,0.0008603598401368144,6.277875843221562e-05,-0.0018319143496760748,0.0017271729843275855,0.0019063958527411285,-5.210407030197198e-05,-0.0004863182414013505,0.00042640391476068544,-0.00011704178983612067,0.0015677818616141273,-0.00020396608701515016,-0.000621106833529946,0.001058856885769985,0.0011348640561168236,0.0008151460825846945,-0.0011026523735795507,-0.00012315711435399731],[0.0018147796965898905,0.0011529323011518942,-0.002023029889073137,0.0074833623814307935,0.0007866587001835967,0.0010167004781897057,-0.008977535013244949,0.010739652662904603,0.006489106788122961,-0.006972868230189226,1.0,0.06483734787255212,0.09799846252846488,0.08141549712952334,0.18644879647680315,-0.01895187889955095,-0.024021375653875278,0.0053664016194296645,0.027264135679081616,0.005355002237877095,0.009888379412353338,0.009309100899635558,0.0087568569219421,-0.015805881588985132,0.027233034245595276,0.0157018896073443,0.01575938057299721,0.004703383206249148,-0.013534034540764872,-0.003659620702445076,0.007704576644753127,0.000709069108098712,0.007290993510841738,0.002494455091183755,0.010444617527135628,0.011052096696419695,-0.006268675734386229,0.0017083654657164024,-0.0005284763990635927,-0.0005476672034629915,0.0008889936949354744,0.0002900979753467312,0.0011667693642347934,-0.002803248280756329,0.0010903854441022605,0.0010904440725430292,0.0030196268595042704,-0.0004280467478821894,-0.002078907114110172,0.0011169222368564592,0.002465934653872064,8.53527521704832e-05,-0.003232901883270525,0.0010115230415579846,0.00034511455870642497,0.0002395523972656673,0.0015546541592622299,-0.003389818864875155],[0.0020281711723570415,-0.019751689677636772,0.0007152517993111603,-0.0034846460858698413,0.0010137532912211176,-0.0029898741602240758,-0.005229382248971747,0.010118980387077606,0.010041261161282523,-0.014372442368755609,0.06483734787255212,1.0,0.25007638185971987,0.17943219033262897,0.3976075904694088,-0.0510772385197581,-0.05400742266468362,0.003517753168283866,0.06901728994376685,0.008316475471782893,0.003682167304272894,0.0011498480541594423,0.005708318389446489,-0.002475290452689683,0.05449961708934693,0.008514708883468385,0.03209344831191558,0.002455514509951251,-0.01502868925066078,-0.004473578534023271,0.02101404237154671,-0.0018237193702007708,0.006545371802109966,0.0016518797513119673,0.000911412118481919,-0.0012220955772119099,-0.03437888044471574,-0.004138458597313421,0.0004544640837418734,-0.0001903311336745837,0.00037134359206379523,-0.0010390214502624718,-0.00024641520546217586,0.0008931454785665775,-0.0019234667701342207,0.0009413248197378649,0.0008962957349711612,0.0010485954426400269,-9.312046480175132e-05,-0.0005131883186889052,-0.0002333153458820431,-0.000886314030834108,-0.0006590162500354191,0.0014178496831970188,0.0010641208942453223,-0.0011015992238916042,-0.0012407285242771364,0.0004094125500120253],[0.007810308443393743,-0.026700177679453433,-0.006473585653894555,0.002588439713301136,-0.0011847349621925463,-0.0037056451860662137,-0.017498505238443825,0.036619156407528844,0.01225407350015317,-0.03085777558244932,0.09799846252846488,0.25007638185971987,1.0,0.15172760153857703,0.9378868848074522,-0.10459118227318917,-0.09944135106535879,0.0251805811697302,0.1092866741245699,0.015612927046646045,0.005086220306626426,0.0031858087989838483,0.019991555642336786,-0.01719370409196877,0.1351683997883628,0.028189451501876364,0.07391056562844606,0.004893802651467106,-0.02801918856335826,-0.013323354070164283,0.043246658316947434,-0.005099785652152708,0.013467858931738665,0.005448736718177343,0.012519856387161434,0.013354915373741803,-0.07611480754054692,0.004612502829864068,0.0013710157778605867,-0.0010810368102564057,-0.001866554670893218,-0.0011209089050685378,0.0005433786228264886,0.0003194532843201667,0.0017283356382914064,0.0035302876760359907,-0.0017250841016528144,0.0022690307658559737,-5.094497440529829e-05,0.0007593558222375432,0.000588562487623814,-0.0006166881604630352,-0.0016324069179150086,0.0017539182011569278,0.001384395798996994,-0.0013589599814350939,-0.0017793822878169223,0.0031663201946254497],[0.0024602908319341097,-0.011047090534640596,-0.002436666651996497,0.0045910963951138455,-0.0008512271087419789,-0.00022404158043306185,-0.00839006416673833,0.012124758822840425,0.007898322664249472,-0.010612127908433569,0.08141549712952334,0.17943219033262897,0.15172760153857703,1.0,0.2972543935181824,-0.0347676126289777,-0.040680442087635486,0.004136125664180369,0.05082310409213781,0.0036927844948406365,0.005555618826313778,0.003364162816729699,0.006932698815846683,-0.008321782972348053,0.042446306860715995,0.01430620029965207,0.02439287078213038,0.001592479733134135,-0.013149125994356888,-0.005009607474508883,0.014504343901182493,0.0002604340181784453,0.005407808191703896,0.0017941330218673543,0.005946122474467535,0.006108684961105146,-0.02079075978783335,0.001200607273652315,0.0009204306486276036,-0.0010773630135531417,0.001994245916327298,0.0005690211530938194,-0.0005814837982834145,-0.002038559641569952,0.00047299097798796303,0.002688085115982361,-0.0018571059938225054,0.0008862157493646645,5.259575569409826e-05,-0.0014481044133737035,-0.0023672714191717934,0.0011963393813416425,0.0004916403631589231,0.0015699943019701478,-0.002917661601417957,-0.0001171254437040832,0.0020792867599775913,-0.0009808134646772364],[0.00752963132795116,-0.029337507280439875,-0.006205310633401865,0.0037713273691528893,-0.0011822162014775797,-0.004191372604645046,-0.01943617309880222,0.03919123726688023,0.01317470565086115,-0.03219124634953112,0.18644879647680315,0.3976075904694088,0.9378868848074522,0.2972543935181824,1.0,-0.11029716638839887,-0.10915116283491323,0.025463235581351846,0.12198260705823435,0.016130404791409845,0.00683146988946797,0.004775723800954469,0.02197516954508873,-0.019247811361918124,0.14410837560147402,0.0317915793193155,0.07951332672793421,0.005473711904557154,-0.031715064791907485,-0.013952435917457347,0.04634660629232759,-0.004791127946070415,0.014438950907332647,0.005573776653847066,0.014044256936050891,0.014631825610229073,-0.07998640042553405,0.004792906790767123,0.0010912629029280513,-0.0013759912811990946,-0.001055531630054469,-0.0013294264437238212,0.00019968926711456822,-0.00021776484918309064,0.0020125896963263845,0.004105016156185266,-0.0017997299486975178,0.0022057130579081906,-0.0005511037759748438,0.0006465304219964071,0.0007661271161635317,-0.0006162470622168763,-0.0015040621959266955,0.002241174688777245,0.0010270109567967936,-0.0014890949611390358,-0.001191142987245927,0.0029254373546049412],[-0.021699141230330433,0.11624758036775201,-0.021273303902624108,0.16388883206686802,0.08290399247493313,0.01583462273581721,0.015549541361556148,-0.1249565940248199,0.059544344338937336,0.06425271130825719,-0.01895187889955095,-0.0510772385197581,-0.10459118227318917,-0.0347676126289777,-0.11029716638839887,1.0,0.2865652164122438,-0.02285264172983821,-0.4209095995806154,-0.05866160955210109,0.01596384989744665,0.028049959167469652,0.02721621650412617,0.010317602980222738,0.05803363197234023,-0.047276573031954136,0.0457912581704867,-0.000906260186607557,0.06559723272055396,0.020682197027790564,0.03898832554876981,0.016918618656117435,-0.0159344356420333,0.022687514165474126,-0.02026666671694501,-0.024037640584033265,-0.05521480613658413,-0.007248368636238328,-0.0018720679707426903,-0.001654484867126928,0.0007596913200818791,0.0015280854641780168,0.0009937864113292534,0.0007532270700087582,0.0019755415694798417,-0.0008781557488717433,-0.0013988145151461239,-0.001016918963757405,-0.0019785133493171124,-0.0010707750992435079,-0.0010307690957795743,0.0012298922139808586,0.0007158955127461717,-0.001911205594320247,0.0012742527772924368,-0.0014521558223057984,0.00185382753288987,-0.0018514810050153417],[-0.02777807578870934,0.04185845856524183,0.022456166589370892,-0.01268693357568444,0.01741257698853039,0.00022969134723531374,0.028352083532306865,-0.07232059015077046,0.005854905555404943,0.040109224305172594,-0.024021375653875278,-0.05400742266468362,-0.09944135106535879,-0.040680442087635486,-0.10915116283491323,0.2865652164122438,1.0,-0.5180763597448598,-0.5942654327484782,-0.06136613434134732,-0.00028470559617277007,0.006333054758947379,0.00681500993363317,0.03025605127094539,-0.058887048518340895,-0.044399226511682564,-0.06436112333779088,-0.017301201701997615,0.047303514837006594,0.030265908254485663,0.018339594138207824,0.006605841232159844,-0.013476836754453466,0.023740486590368832,-0.027805264749936335,-0.022957596144030874,0.015638623679710657,-0.0019683108356936987,-0.0008384196562518641,-0.0004403190357332733,-6.817338466305823e-05,-0.00022588321179274395,0.0010522637939139403,-0.00038380429369115404,0.001063222746089192,-0.002056173344181987,-0.0006773661061847417,-0.0009849818686045388,-0.0008379684611678406,0.0008167451624584682,-0.00156299711141957,-7.563358730598451e-05,0.0009289338594418796,-0.0004946092252184754,-0.00043232302606671327,9.269330911035034e-05,0.0003020462737253609,0.0015192075604173964],[0.03705260633614849,0.12456108357643578,-0.025228500162772553,0.034267736703105574,0.007932562838104684,0.013414758147655439,-0.037121073675290626,0.020776151947426286,0.03603562289293502,-0.011023469836899804,0.0053664016194296645,0.003517753168283866,0.0251805811697302,0.004136125664180369,0.025463235581351846,-0.02285264172983821,-0.5180763597448598,1.0,-0.15802098729532288,0.0717351918428703,0.04365535068972116,0.04918660547398862,0.06242877036916247,-0.05627040441609223,0.1446443339788517,0.04865587242086649,0.06999473161396431,0.03223176020266369,-0.044130312045051495,-0.008200216193727987,0.07275970557768052,-0.008678800992614076,0.011823500625721085,0.009376582507873312,0.05373262093750005,0.05141342217104476,-0.05086838807314604,0.012722302069971277,7.958778639259984e-05,-0.0012572729476698946,0.0014747100105718803,0.0006469638272331361,-0.002916335322415048,-0.000392818786144321,-0.0007164019609830936,-0.0003330881238234243,0.0006326817481557894,-0.0003053142443121386,-0.000527302363566422,-0.0013008872451035095,0.0005333917482319089,0.0004593174270131171,-0.0015898973721046486,-0.00021109233161776143,-0.00024213748444447156,4.668457086344222e-05,-0.0007755225209513305,-0.0019227006128536288],[0.004555455715185985,-0.13314642551536027,-0.008438785809101379,-0.011878397822858761,-0.02580389522606824,-0.008060737086151846,-0.011750963576262553,0.0765618721630358,-0.03327254465455359,-0.03963118000078225,0.027264135679081616,0.06901728994376685,0.1092866741245699,0.05082310409213781,0.12198260705823435,-0.4209095995806154,-0.5942654327484782,-0.15802098729532288,1.0,0.025076620432878508,-0.025631876048676224,-0.040010959375235515,-0.05061736075592928,0.006401401147425421,-0.03578590405403812,0.016056101608279336,0.0010653851232631352,-0.004772870122540561,-0.021057460749485234,-0.02782655107509575,-0.04535685295987874,-0.003247243996738118,0.005820179072980016,-0.02833220098088916,-0.008896202873582445,-0.014112154056867296,0.017390617186271072,-0.007933984582809184,0.002795821083103351,0.0009995098965065242,-0.0018018445444187069,-0.0012151356520842596,0.00014298853793064472,0.0010962926772261176,-0.0002536458868387804,0.0017399779598683014,0.00032501327000482663,0.0009837084235794222,0.002013763292984772,0.0011313274809286035,0.002436698942008826,-0.0009379689062303298,-0.0003786053015272518,-8.221784186932602e-05,6.434466221136217e-05,7.039774777432403e-05,-0.0007859433395436982,0.0007240485980833898],[0.022968887730235858,0.0996185558158085,0.0723652872647265,0.007321146961208908,0.01913502726464351,-0.008694593442731408,-0.013496463835040239,-0.02995270401048619,-0.15456367522773828,0.1979274551090299,0.005355002237877095,0.008316475471782893,0.015612927046646045,0.0036927844948406365,0.016130404791409845,-0.05866160955210109,-0.06136613434134732,0.0717351918428703,0.025076620432878508,1.0,0.5372687943802797,0.4902772233296258,0.1911068999977475,-0.08516307464779142,0.027446570860446537,0.0009328837426761081,-0.018052454538963966,0.06843358409473171,-0.046516475661594524,-0.012958207282783104,0.06529883676098452,-0.025432903629254898,0.012894324708140767,0.06635828769108991,0.03131777213710179,0.033723514607069766,0.014382507098181278,-0.00965600678798722,-0.0003116312708450848,0.0017817263096866734,-0.0016221693268645883,0.00026341808317764757,-0.0008741457641562122,-0.002008393634500043,0.0009427689484463447,-0.0021351894961883005,0.0004072663072860917,-0.001231664164312344,-0.00023048877879252918,0.0007728319332340877,-0.0026244952293342583,0.00017221883267675567,0.0006446676200411291,0.0003929995881655562,0.0010170262330880847,0.0019349369744879699,0.0006978430807759074,0.0025832626445192516],[0.032966783213358684,0.1835159421186515,0.09704792712017804,0.03542907365149926,0.08309636152090853,-0.01350503447853092,-0.1625662340678779,0.04032403951154025,-0.004263775648542969,0.16313059454847895,0.009888379412353338,0.003682167304272894,0.005086220306626426,0.005555618826313778,0.00683146988946797,0.01596384989744665,-0.00028470559617277007,0.04365535068972116,-0.025631876048676224,0.5372687943802797,1.0,0.6409462219925735,0.2427181601766605,-0.1782661042039225,0.07210260480869596,0.09180166602420578,0.08186930681778908,0.08452921609045633,-0.04838270352996116,-0.012782383923203789,0.021401672943887052,0.012487302441089428,0.04607782518272971,0.06028512835051926,0.1434587914764739,0.14397666814798682,0.045026795163272446,0.02896434495026111,0.0009929134742044392,4.670033177517702e-05,-0.0002737744701427609,0.000570439451228078,-0.0022197637606303855,-0.000918609757122194,0.0007801130293657077,-0.0020511632558087,0.0008627846619566043,-0.0004738827557439721,0.0006777344353267708,-0.00010698120132695155,-0.002293541596866268,-0.001870294043114773,-0.0011082018377533006,0.0008882893146061712,0.0023364260516760007,0.0013950083732873595,-0.0009374983544240399,-0.0008385592786654279],[0.03738468640387538,0.19255370051542559,0.09710101006932577,0.02239838674941096,0.09647788515790118,-0.019572380812555693,-0.18206448926388583,0.05628612500170711,0.012004232080273973,0.1541960923235985,0.009309100899635558,0.0011498480541594423,0.0031858087989838483,0.003364162816729699,0.004775723800954469,0.028049959167469652,0.006333054758947379,0.04918660547398862,-0.040010959375235515,0.4902772233296258,0.6409462219925735,1.0,0.2775054009344728,-0.18577579680697875,0.07109768803839661,0.09365198795770441,0.07397293445546103,0.09817305265437155,-0.04821944722118734,-0.022465001682528293,0.03176970437512315,0.01238547433011988,0.049511505598176894,0.06898410340408682,0.1509710658116224,0.1616591839966814,0.04898740477632283,0.04497049924848109,-0.0012194344195444145,0.0013032253067365163,0.000547864737481188,0.0012998218014840428,-0.0019666288601174176,-0.0010821859107028428,0.00011368602093792511,-0.001976764375391663,0.0008077547171062454,0.0009385520210886657,-0.0002917500832565597,0.0015085998164995058,-0.001808189762742481,-0.0010632067057482326,-0.00020914615839990596,0.0016359707190918668,0.0018064760719829428,0.0008609558314333791,-9.071512691901709e-05,-0.00022655910375768616],[0.019479597249819024,-0.021263549611118572,0.0037476156622448134,-0.035232716950983484,0.030053955695198774,-0.01906742388728069,-0.0812077995098655,0.059726745078304375,0.007683032949169828,0.027620239891108823,0.0087568569219421,0.005708318389446489,0.019991555642336786,0.006932698815846683,0.02197516954508873,0.02721621650412617,0.00681500993363317,0.06242877036916247,-0.05061736075592928,0.1911068999977475,0.2427181601766605,0.2775054009344728,1.0,-0.16115339568148632,0.15746537258979262,0.08023148595474074,-0.1846388569974764,0.051730376073840456,0.02597647582383478,-0.06329569142449468,0.31702446252228994,0.00425214843595417,0.019360468167996428,0.12564663665505207,0.14172552270967034,0.17835637346530725,-0.021235325118024416,0.10221339054682284,0.00010313031952387875,0.0017772753164401833,-9.878533801234818e-05,0.00034420156677483413,-0.0011283789452956523,-0.0012123346856412027,0.00016557420032401704,-0.0013879472285356028,0.00040510166841795927,0.0017287150474321763,-0.00117167027409604,-0.001331014012520206,0.001704100263588644,-0.00025939091929663867,0.0010099566920138414,-0.0008505284303731603,0.0005948053348967726,0.0005127985365801132,0.00041532233854990304,-0.0001639560686414796],[-0.03153940922192587,-0.10835900947616225,0.05902777644276546,-0.04883408332239744,0.0031252819197810657,0.007767362927686766,0.13639251551731826,-0.1626147985222608,-0.029988904199514246,0.03995897416220454,-0.015805881588985132,-0.002475290452689683,-0.01719370409196877,-0.008321782972348053,-0.019247811361918124,0.010317602980222738,0.03025605127094539,-0.05627040441609223,0.006401401147425421,-0.08516307464779142,-0.1782661042039225,-0.18577579680697875,-0.16115339568148632,1.0,-0.11151374684706754,-0.2595473411635613,-0.09087581520324399,-0.21966889853332322,0.06734672808621098,0.03605452420994243,-0.005398564840504993,-0.01914487388785423,-0.029875902891456377,-0.050035340916315625,-0.4858040172196678,-0.4502669014659625,-0.23442115403746114,-0.05056710293430881,0.00028089051178599,-0.0018630112896766094,-0.002982293582400278,0.00012251594600661686,0.0006250518117145006,-0.0017229351439489286,-5.766938380369588e-06,0.0004850247427137628,-0.0008378593075056785,-0.0005603619078903826,-0.0007548822781179889,0.0016648471315584524,0.0008734715275632009,0.0003925181000531677,-2.1739573509035865e-05,-0.0029488020207592766,-0.0010684813273318017,-0.001146431146969368,-0.0014355425175184065,0.0009226307020153694],[0.03163988916044533,0.0038836699389761704,-0.016356717254448296,0.08833805889580237,0.018265021553688893,-0.026657263264596456,-0.06586385975489836,0.09106289336729785,0.03792042163976732,-0.05572830368467586,0.027233034245595276,0.05449961708934693,0.1351683997883628,0.042446306860715995,0.14410837560147402,0.05803363197234023,-0.058887048518340895,0.1446443339788517,-0.03578590405403812,0.027446570860446537,0.07210260480869596,0.07109768803839661,0.15746537258979262,-0.11151374684706754,1.0,0.11388486964790637,0.5344881077426239,0.03447436897477293,-0.10905983425038955,-0.21067937684146978,0.286589040625968,0.006534561070371982,0.031603113858213246,0.08261160101146425,0.06219193572833188,0.1520940123707245,-0.5546259164654712,0.16297276860472473,0.004304682262767191,0.001624445543443319,0.000582931106081365,-0.0003889130695775901,-4.617296674671277e-05,-1.4369860100717107e-05,0.0025623958415505444,0.0015684917107472406,0.00027424494606736663,0.0008633596793068288,-0.002310250414798391,-0.0032190774870779057,4.448348590833025e-05,0.00127836600924472,-0.0005704621487819702,-0.00044340486030748866,-0.0022194070932565592,-0.0011148066572374377,-0.0007140881892466471,0.0016369944103955998],[0.03657819169644857,0.06210582876620196,-0.07722819273531174,0.0854107029614071,-0.0687149900591157,-0.007375535667828671,-0.22390166177176773,0.21685814262337577,0.11481251704064509,-0.07174731503669379,0.0157018896073443,0.008514708883468385,0.028189451501876364,0.01430620029965207,0.0317915793193155,-0.047276573031954136,-0.044399226511682564,0.04865587242086649,0.016056101608279336,0.0009328837426761081,0.09180166602420578,0.09365198795770441,0.08023148595474074,-0.2595473411635613,0.11388486964790637,1.0,0.12407238250829086,0.13530071657678028,-0.18452317127653886,-0.0579886655880387,-0.029258364375357556,0.00235450544105168,0.20741732401438298,-0.18186847927574315,0.4323265019430833,0.4261890759579781,0.3035410691824231,0.13445339449345595,4.939657804323004e-05,-0.003171460043688197,-0.0003932260080690131,-0.0003143035309006253,-0.0008722980755401309,5.7883582895369885e-05,-0.0004643554148249019,0.0027360458428319,0.0003306547787413756,0.002533826044943015,0.000506033946932981,0.00137032699248447,-0.000322212106229637,-0.002605702025084105,0.0006768161075987287,0.00138071745507389,0.0015296687255378423,0.0006548895234524475,0.00020840455100030927,-0.0004054215713127699],[0.02131396843603759,0.15162410759087355,-0.028258226572056344,0.1382234852702391,0.064883726477881,-0.03792121462380461,-0.16698008003001805,0.09765007471601178,0.06337147508201228,0.03976305411063167,0.01575938057299721,0.03209344831191558,0.07391056562844606,0.02439287078213038,0.07951332672793421,0.0457912581704867,-0.06436112333779088,0.06999473161396431,0.0010653851232631352,-0.018052454538963966,0.08186930681778908,0.07397293445546103,-0.1846388569974764,-0.09087581520324399,0.5344881077426239,0.12407238250829086,1.0,0.05678488140632925,-0.0590809955958098,-0.05001147621301693,-0.3335834229420281,0.02487585152816851,0.047484267273822975,-0.09708535984966998,0.0971566360379986,0.08918706553227315,-0.2606242688946813,0.004895366457793479,0.003982396575017219,0.0001311116173662815,0.0015757100111965525,-0.001653125601942209,0.0004089654028839828,0.0005519872263895042,-0.00012727686764627688,0.0017074844887983547,0.0001854316174580646,-0.0016452575444310996,-0.000969445247471077,-3.6022118295983735e-05,0.0006495161485435802,0.0018430029203546537,-0.0014759881446560481,0.0014980890630177097,-0.0027346006398634368,-0.0009658384898476972,-0.0024202030181070706,0.00022872111189250804],[0.010324479345454704,0.056916597182143217,-0.021409094570979212,0.013965378842875676,0.029881615929467083,-0.004344200508047999,-0.0635463484612551,0.021359159816601494,0.06249553914475959,-0.0036614097371309978,0.004703383206249148,0.002455514509951251,0.004893802651467106,0.001592479733134135,0.005473711904557154,-0.000906260186607557,-0.017301201701997615,0.03223176020266369,-0.004772870122540561,0.06843358409473171,0.08452921609045633,0.09817305265437155,0.051730376073840456,-0.21966889853332322,0.03447436897477293,0.13530071657678028,0.05678488140632925,1.0,-0.017563077869837886,-0.01818542117480874,0.007427678898416514,-0.005924899588716196,0.029472499811781926,-0.0952067505661646,0.22911995004289368,0.12909485468421092,0.12460126894578541,-0.03048214578488539,-8.83643475798583e-05,0.0008935518747947613,0.00017003388363398157,0.0003406983220080599,0.0013890541122611212,0.0012820339267713165,-0.0006040095526770454,0.0005481667398730591,0.00203877438486673,-0.000485425159344492,0.0012725578964605984,-0.0006162993560571169,-0.0016282344623514218,0.0008927213012274329,0.0008617284441825183,0.0007733217967812206,4.6967540418354604e-05,0.0001887360811680416,-0.00265046832232453,-0.0004390450151505276],[-0.03306865257696688,-0.009475560322885572,-0.010684907674808834,0.027879340694197566,0.07805669236262087,0.10867850042236797,0.027447817303400037,-0.031490307502229566,-0.02751023158099786,0.027114508184659394,-0.013534034540764872,-0.01502868925066078,-0.02801918856335826,-0.013149125994356888,-0.031715064791907485,0.06559723272055396,0.047303514837006594,-0.044130312045051495,-0.021057460749485234,-0.046516475661594524,-0.04838270352996116,-0.04821944722118734,0.02597647582383478,0.06734672808621098,-0.10905983425038955,-0.18452317127653886,-0.0590809955958098,-0.017563077869837886,1.0,0.043973242784017076,-0.022426073279703456,0.009424485016147142,-0.07934789139105346,0.056972276507774144,-0.06676090826000002,-0.06602382900861492,-0.019829642833323596,-0.038159643643223676,-0.0008618746785402824,-0.0004355853613438748,-0.002320682943989252,0.0007839019036424283,-0.0013674770589129806,0.001432965594195139,0.0006035147989913039,0.0014789659185054684,-0.0014484092047700103,-0.00028027163409928584,0.0009316665281062718,-0.00016446516586021953,0.0014384144054666681,0.0005517672032058064,-0.0006828340235496918,-0.0015944886399456312,0.0002494826574600422,0.000270573660079449,0.0010124658401534758,-0.0018784741324195987],[-0.020341933485980727,0.19885666359485468,0.0008913918854554566,0.002192957531240468,-0.008165335602821584,-0.0015330547397947945,0.038313070316951935,-0.12382519653980113,0.042792267488117576,0.050317329444213105,-0.003659620702445076,-0.004473578534023271,-0.013323354070164283,-0.005009607474508883,-0.013952435917457347,0.020682197027790564,0.030265908254485663,-0.008200216193727987,-0.02782655107509575,-0.012958207282783104,-0.012782383923203789,-0.022465001682528293,-0.06329569142449468,0.03605452420994243,-0.21067937684146978,-0.0579886655880387,-0.05001147621301693,-0.01818542117480874,0.043973242784017076,1.0,-0.013714084019068274,-0.031246308683533862,0.03238848124205014,-0.022278182002514215,-0.04869524805681124,-0.4091460744727062,0.14059064554905334,-0.5996363233996032,-0.0014771758179054747,-0.00024139572292476277,0.0016038588181185465,-0.0016218624593947774,-0.0001997372787007526,-0.0015663466317605062,-0.0015847304281103138,-0.00039548077859912037,-0.0006814605733074897,-0.0017688616698908466,0.0021282770939869155,0.0004904585422110698,-3.551583101446069e-05,-0.0012160472311604539,-0.0010101875324817504,0.002095554633113093,0.0013782617362007405,-0.0010009801233393956,0.0003791084777431273,0.0002479460755665291],[0.003650567960987161,-0.07300273631498272,0.013858760695481611,-0.01631226561137716,-0.03964186290769054,0.007238570459707568,0.10009449727577788,-0.061182255632879615,-0.011034779774807732,-0.04653897027390567,0.007704576644753127,0.02101404237154671,0.043246658316947434,0.014504343901182493,0.04634660629232759,0.03898832554876981,0.018339594138207824,0.07275970557768052,-0.04535685295987874,0.06529883676098452,0.021401672943887052,0.03176970437512315,0.31702446252228994,-0.005398564840504993,0.286589040625968,-0.029258364375357556,-0.3335834229420281,0.007427678898416514,-0.022426073279703456,-0.013714084019068274,1.0,-0.022166029127673854,-0.011573603139712233,0.14529161406567484,-0.03924649459469716,-0.06504036860643758,-0.20237855091802454,-0.041666742333503724,0.000866509000688083,0.0007519718869174098,0.0007450641776317195,0.0008965658292413898,0.0007757499266820826,-0.0020595929483434856,0.0024668815551500255,-0.0015081954920330247,-0.0010738542029067317,0.0014600779836474664,-0.0016328442541997607,-0.0012090684293856557,-0.000595505544864744,-0.001232789999802064,0.0008267214055006782,-0.0009516543667292825,-0.0005988332461327121,0.0017102650670976721,0.001168008620529707,0.000584937581765978],[0.001038137676736598,0.00877058185643471,0.01284790420844605,-0.010032461666497577,0.022963504480340152,-9.283628760236815e-05,-0.04108084997011809,0.030570029270395767,0.025339596049181116,-0.006868271942658584,0.000709069108098712,-0.0018237193702007708,-0.005099785652152708,0.0002604340181784453,-0.004791127946070415,0.016918618656117435,0.006605841232159844,-0.008678800992614076,-0.003247243996738118,-0.025432903629254898,0.012487302441089428,0.01238547433011988,0.00425214843595417,-0.01914487388785423,0.006534561070371982,0.00235450544105168,0.02487585152816851,-0.005924899588716196,0.009424485016147142,-0.031246308683533862,-0.022166029127673854,1.0,0.00206302279555583,0.014927918232763791,-0.018198573367278145,0.037818575715290924,-0.012419216105608298,0.05558265762732605,0.0007874057613661613,0.0006815666326655596,-0.002118332110094578,-0.0018139924823327035,-0.00027476926114428557,-0.001988505376594523,2.2888244722904774e-05,0.0028137823427227026,-0.0008793841243966559,-0.0015194584552674566,0.0018180056422868966,0.002540578572705144,0.0029795605430707195,-0.0004157761924091377,-0.0008320205024326419,0.00101988166604884,-0.0005094503197615436,0.0007397492338472505,-0.0005871083698975941,0.00023404387083531623],[0.008072805410368493,0.016901600070804497,0.011442011614757771,-0.018664819583154045,-0.006460415629458888,-0.007135857389249705,-0.042840351713130914,0.06098537437529741,0.04174294683671553,-0.05449320082266187,0.007290993510841738,0.006545371802109966,0.013467858931738665,0.005407808191703896,0.014438950907332647,-0.0159344356420333,-0.013476836754453466,0.011823500625721085,0.005820179072980016,0.012894324708140767,0.04607782518272971,0.049511505598176894,0.019360468167996428,-0.029875902891456377,0.031603113858213246,0.20741732401438298,0.047484267273822975,0.029472499811781926,-0.07934789139105346,0.03238848124205014,-0.011573603139712233,0.00206302279555583,1.0,-0.03296825140923508,0.06322800368749706,0.013278549326897428,0.028236396343788762,-0.051876830782138804,-0.0008003250977103199,-0.0005635517406419749,6.530883721216338e-05,0.000215376467857973,-0.00038422435957947114,-0.0007593391152470635,0.0014905117115825962,0.00025247219522414203,0.001741878918946849,0.00204614733399559,-0.0005180802656058593,-0.00032046110442572037,-0.001333812652565255,0.0001160631349820436,-0.0010723731603562612,0.0018947733541308377,0.0030495798407311208,-0.0003877642914470998,-0.0002561308574360054,0.0015294795483424784],[-0.000415270601233545,-0.0038251925928922473,0.04444005341622495,-0.06530121479167869,0.07268634873136533,0.005978166720008943,0.014396966002801506,0.054919491806592356,-0.05659590737344415,-0.0259473854245299,0.002494455091183755,0.0016518797513119673,0.005448736718177343,0.0017941330218673543,0.005573776653847066,0.022687514165474126,0.023740486590368832,0.009376582507873312,-0.02833220098088916,0.06635828769108991,0.06028512835051926,0.06898410340408682,0.12564663665505207,-0.050035340916315625,0.08261160101146425,-0.18186847927574315,-0.09708535984966998,-0.0952067505661646,0.056972276507774144,-0.022278182002514215,0.14529161406567484,0.014927918232763791,-0.03296825140923508,1.0,0.05742169689046171,0.10679492091035465,-0.05268451725875947,0.05275111596368381,0.0006364106101802862,0.0011084056530154154,-0.0010590301042120167,-0.0002239739593894125,0.0027082364207920585,-0.0013460653395750226,-0.0010097035992615339,-0.0021934635081792735,-0.0008585379656954739,-0.00037054121258567845,-0.0008847269588916355,-0.001474171773221834,0.000867875481020776,0.0009390635693009231,-0.0007355977364562478,0.0010329214000683001,0.0006658218009970967,0.0012562226046561656,0.0020057157050789387,0.0012390580813770161],[0.0364668251177045,0.15154056820612435,-0.1290565171532375,0.09144611108248153,-0.09216456287884275,-0.005143497966330403,-0.20807000454340047,0.19281494223511897,0.10053759205826393,-0.05101233389886825,0.010444617527135628,0.000911412118481919,0.012519856387161434,0.005946122474467535,0.014044256936050891,-0.02026666671694501,-0.027805264749936335,0.05373262093750005,-0.008896202873582445,0.03131777213710179,0.1434587914764739,0.1509710658116224,0.14172552270967034,-0.4858040172196678,0.06219193572833188,0.4323265019430833,0.0971566360379986,0.22911995004289368,-0.06676090826000002,-0.04869524805681124,-0.03924649459469716,-0.018198573367278145,0.06322800368749706,0.05742169689046171,1.0,0.6632757172728527,0.4545159125901998,0.10266157187406587,-0.0006522009031388006,-0.0004752423530678564,-1.4651527520468345e-05,-0.0011576748548348475,0.0011593724819722344,0.0009198966730484305,0.0005906170752740947,-0.0008314405153598835,0.00041149058595226905,0.0004729896907522479,-0.0016335013655158488,0.001819498992823513,0.0006960510374730239,-0.0007244638414960437,0.0003357321907707766,0.00045777236571172187,0.00046545216120150195,0.001861403211671315,6.181302885299608e-05,-0.0004354044573698692],[0.04969231320021378,0.06778115460068186,-0.09072679321654689,0.05021041953244964,-0.021123363380175373,-0.006205654812381453,-0.26775395763754867,0.30622968021801,0.07863920109128406,-0.08265556563204049,0.011052096696419695,-0.0012220955772119099,0.013354915373741803,0.006108684961105146,0.014631825610229073,-0.024037640584033265,-0.022957596144030874,0.05141342217104476,-0.014112154056867296,0.033723514607069766,0.14397666814798682,0.1616591839966814,0.17835637346530725,-0.4502669014659625,0.1520940123707245,0.4261890759579781,0.08918706553227315,0.12909485468421092,-0.06602382900861492,-0.4091460744727062,-0.06504036860643758,0.037818575715290924,0.013278549326897428,0.10679492091035465,0.6632757172728527,1.0,0.27668814612089887,0.6765538813379903,-0.00023505350604887724,-0.0008674459166726672,-0.0006498593401477605,0.0011131932753634187,-4.622466114598377e-05,0.0022002124717776816,-0.0007130471366512671,3.555120681358118e-05,0.0015678522558692654,0.0007493350864106011,-0.0006817276432887188,0.0016567169912688035,0.0005986330612285987,-0.0004686597096670676,-9.052298844512004e-05,-0.000483316343701404,-0.0002617239016346624,0.0003713566388894938,0.00042988274137663486,-0.00011583123339800884],[0.004285029145188564,0.11841245361673079,-0.08392567027778271,0.017648399559175482,-0.06961571696643731,0.013983708445024863,-0.0990427860779193,0.04956780004093817,0.0711434670240898,0.0010078154731923336,-0.006268675734386229,-0.03437888044471574,-0.07611480754054692,-0.02079075978783335,-0.07998640042553405,-0.05521480613658413,0.015638623679710657,-0.05086838807314604,0.017390617186271072,0.014382507098181278,0.045026795163272446,0.04898740477632283,-0.021235325118024416,-0.23442115403746114,-0.5546259164654712,0.3035410691824231,-0.2606242688946813,0.12460126894578541,-0.019829642833323596,0.14059064554905334,-0.20237855091802454,-0.012419216105608298,0.028236396343788762,-0.05268451725875947,0.4545159125901998,0.27668814612089887,1.0,-0.10346062571660904,-0.003499554085374797,-0.0002966320895390906,-0.0008078982446423976,-0.0009290909243668234,-1.5113088861208135e-05,0.0009962432292981438,-0.0012792782267296284,0.0003144652092349254,-0.000586992292577598,-0.0003848733919562058,0.0025579283991915697,0.002050000973360064,-0.00012879161570681334,-0.002306468904730208,0.0007302508489614983,0.0005192568213735301,0.001948447711511125,0.0015797381555584318,-7.307337965051642e-05,-0.0011665193095206751],[0.029364508830630083,-0.10203067826508455,-0.002877120364792841,-0.016599218067562507,0.03547654810649504,-0.0024458324556567725,-0.1432627022598825,0.21327888569615358,-0.008295777033323043,-0.05182457894837636,0.0017083654657164024,-0.004138458597313421,0.004612502829864068,0.001200607273652315,0.004792906790767123,-0.007248368636238328,-0.0019683108356936987,0.012722302069971277,-0.007933984582809184,-0.00965600678798722,0.02896434495026111,0.04497049924848109,0.10221339054682284,-0.05056710293430881,0.16297276860472473,0.13445339449345595,0.004895366457793479,-0.03048214578488539,-0.038159643643223676,-0.5996363233996032,-0.041666742333503724,0.05558265762732605,-0.051876830782138804,0.05275111596368381,0.10266157187406587,0.6765538813379903,-0.10346062571660904,1.0,0.0008989465882179077,-0.00027304823275009206,-0.001169294444960607,0.0006945300720940267,-0.00069583794700343,0.0008842999521481168,-0.0006492242087684166,0.0013717109810774879,0.0009300971112022677,0.00011185692791891713,-0.0006657402368030241,0.0009502951822038306,0.0007873154623696185,0.0017157022693310164,0.00022584046822541161,-0.0027211719806394708,0.0001576749916076772,-0.0005384152680125148,0.00021264474262312064,3.1457672858550866e-05],[0.0017798263928901163,-0.0008862221437967975,0.0007589338445733516,0.0007030937857172339,-0.0027540684757836856,-0.0013046413899596928,0.00018378500468400923,0.00044450439134877183,-0.00011111744144142282,-0.0006251668447763226,-0.0005284763990635927,0.0004544640837418734,0.0013710157778605867,0.0009204306486276036,0.0010912629029280513,-0.0018720679707426903,-0.0008384196562518641,7.958778639259984e-05,0.002795821083103351,-0.0003116312708450848,0.0009929134742044392,-0.0012194344195444145,0.00010313031952387875,0.00028089051178599,0.004304682262767191,4.939657804323004e-05,0.003982396575017219,-8.83643475798583e-05,-0.0008618746785402824,-0.0014771758179054747,0.000866509000688083,0.0007874057613661613,-0.0008003250977103199,0.0006364106101802862,-0.0006522009031388006,-0.00023505350604887724,-0.003499554085374797,0.0008989465882179077,1.0,-0.0024156200001349696,0.0005264925259057262,0.0028763338283664852,0.0005111491181835843,-0.000412378493659839,-2.483255949937968e-05,-3.838152707579644e-05,-0.0004558866957385944,-0.0004176352086740706,-0.0017010491743587894,-0.0023237938539553867,0.0002511249934228553,0.0009105331734318418,0.0004887797371829021,0.00010861167186799583,-0.00038766006692617284,0.00045734027254835865,-0.0013043713147276284,0.0013528285230101518],[0.0013596756653895604,-0.00037322263458887395,0.0011355554693821318,-0.0006737368493234499,-0.0005327227956303134,0.0015021861505125802,-0.00031898814794855085,0.00022299070949360753,-0.00041321418594833547,0.0005440264605776162,-0.0005476672034629915,-0.0001903311336745837,-0.0010810368102564057,-0.0010773630135531417,-0.0013759912811990946,-0.001654484867126928,-0.0004403190357332733,-0.0012572729476698946,0.0009995098965065242,0.0017817263096866734,4.670033177517702e-05,0.0013032253067365163,0.0017772753164401833,-0.0018630112896766094,0.001624445543443319,-0.003171460043688197,0.0001311116173662815,0.0008935518747947613,-0.0004355853613438748,-0.00024139572292476277,0.0007519718869174098,0.0006815666326655596,-0.0005635517406419749,0.0011084056530154154,-0.0004752423530678564,-0.0008674459166726672,-0.0002966320895390906,-0.00027304823275009206,-0.0024156200001349696,1.0,0.0029491229525795775,0.00028168342724049815,-0.0019539165536014897,0.0011362662686359786,0.0018263923001839721,-0.0004112799637466706,0.0009397127333227485,-0.0005383497059227438,-0.000610907231295978,-0.0003117623906858583,0.00069048221588444,-4.258736731190984e-05,3.495183201491772e-05,0.0017675365529640252,-0.00046804449553072873,0.0012509080583816268,0.0003010181836504111,-0.0014191181919853224],[0.0019072147066845997,0.0009851392781097812,-0.00068901254850816,0.0005627981808702027,0.00027053624623355794,-0.0020108561025361706,0.00285836971942597,0.0011124423382943029,-0.0019394963930397593,-0.0029975097687918203,0.0008889936949354744,0.00037134359206379523,-0.001866554670893218,0.001994245916327298,-0.001055531630054469,0.0007596913200818791,-6.817338466305823e-05,0.0014747100105718803,-0.0018018445444187069,-0.0016221693268645883,-0.0002737744701427609,0.000547864737481188,-9.878533801234818e-05,-0.002982293582400278,0.000582931106081365,-0.0003932260080690131,0.0015757100111965525,0.00017003388363398157,-0.002320682943989252,0.0016038588181185465,0.0007450641776317195,-0.002118332110094578,6.530883721216338e-05,-0.0010590301042120167,-1.4651527520468345e-05,-0.0006498593401477605,-0.0008078982446423976,-0.001169294444960607,0.0005264925259057262,0.0029491229525795775,1.0,-0.00012654621221671293,-0.0016389736222515968,0.0011877474579313682,0.002325007283731174,1.7971007401595475e-05,-0.0008521927007458742,-0.0007026983391398499,-6.221383081851816e-05,0.00019706163000291388,0.0010474081625675374,-0.0002230022218089653,0.001322685087863559,-0.00018850096690813933,-0.0010023763840767068,-0.001797494133051942,0.0005244457360021364,-0.0013269247457675076],[-0.0002599630029761026,-0.0007219441993439811,-0.002241787175024083,0.0009280511933824023,0.0006150077954391053,0.0008471744559955934,-0.00029097698481341455,0.00024735512342203306,-0.0008109465452222644,0.0008603598401368144,0.0002900979753467312,-0.0010390214502624718,-0.0011209089050685378,0.0005690211530938194,-0.0013294264437238212,0.0015280854641780168,-0.00022588321179274395,0.0006469638272331361,-0.0012151356520842596,0.00026341808317764757,0.000570439451228078,0.0012998218014840428,0.00034420156677483413,0.00012251594600661686,-0.0003889130695775901,-0.0003143035309006253,-0.001653125601942209,0.0003406983220080599,0.0007839019036424283,-0.0016218624593947774,0.0008965658292413898,-0.0018139924823327035,0.000215376467857973,-0.0002239739593894125,-0.0011576748548348475,0.0011131932753634187,-0.0009290909243668234,0.0006945300720940267,0.0028763338283664852,0.00028168342724049815,-0.00012654621221671293,1.0,0.0009247637594965443,-0.002463958502152196,0.0014614873791536883,-0.002008146378839196,0.00014252319994320975,0.0003363989869632881,0.0001507396091482493,0.0006992859952944463,-0.00010635526436533466,0.001192473431428917,8.479881701748012e-05,-0.0015035637847007125,0.0006612486303703191,0.0011701456452736909,0.0008329923174728756,-0.00010069221964181952],[0.00039621428327121436,-0.0006251775826055472,-0.0006171553561521586,-0.0010345570485628059,0.001544576549805691,-0.0009875796380867498,-0.0005077881077630637,6.491636942340387e-05,0.0005276382132238671,6.277875843221562e-05,0.0011667693642347934,-0.00024641520546217586,0.0005433786228264886,-0.0005814837982834145,0.00019968926711456822,0.0009937864113292534,0.0010522637939139403,-0.002916335322415048,0.00014298853793064472,-0.0008741457641562122,-0.0022197637606303855,-0.0019666288601174176,-0.0011283789452956523,0.0006250518117145006,-4.617296674671277e-05,-0.0008722980755401309,0.0004089654028839828,0.0013890541122611212,-0.0013674770589129806,-0.0001997372787007526,0.0007757499266820826,-0.00027476926114428557,-0.00038422435957947114,0.0027082364207920585,0.0011593724819722344,-4.622466114598377e-05,-1.5113088861208135e-05,-0.00069583794700343,0.0005111491181835843,-0.0019539165536014897,-0.0016389736222515968,0.0009247637594965443,1.0,-0.0016889719136493067,-0.002275237709317548,-0.0020377601199118456,0.0010215069597217926,-0.0003700257950867811,-0.00039984777647941673,-0.0002474255387772377,-6.827177559103414e-05,-0.0006402606475658166,0.0004730025897767625,-0.0007332714785797524,-0.0014268136314114623,-0.00043421133900494065,-5.027004360948465e-05,0.0013373171170782856],[0.00010590461357905492,-8.881821887961477e-05,-0.0013611782831280167,0.0026849262175865237,0.00211823330162472,-8.222602483328152e-05,-0.001433493647809588,0.0018424059270535618,0.001639706888076384,-0.0018319143496760748,-0.002803248280756329,0.0008931454785665775,0.0003194532843201667,-0.002038559641569952,-0.00021776484918309064,0.0007532270700087582,-0.00038380429369115404,-0.000392818786144321,0.0010962926772261176,-0.002008393634500043,-0.000918609757122194,-0.0010821859107028428,-0.0012123346856412027,-0.0017229351439489286,-1.4369860100717107e-05,5.7883582895369885e-05,0.0005519872263895042,0.0012820339267713165,0.001432965594195139,-0.0015663466317605062,-0.0020595929483434856,-0.001988505376594523,-0.0007593391152470635,-0.0013460653395750226,0.0009198966730484305,0.0022002124717776816,0.0009962432292981438,0.0008842999521481168,-0.000412378493659839,0.0011362662686359786,0.0011877474579313682,-0.002463958502152196,-0.0016889719136493067,1.0,-0.00019720157599267577,-0.0006821322346525335,0.0015448121759358694,-0.0015676840879137765,-0.00034939320813941763,0.0004144903643530769,0.0007698828513734947,-0.00045633896714546016,0.00034703417267569733,0.0003290446115996264,0.00045801159822740894,0.002355164659679187,0.0013932553619036023,0.0011801209026748203],[-0.0003976989538219445,-0.000912696506359328,-0.0007327271903629544,0.0011472342887733826,-0.00028831060027499677,-0.001511016305749031,-0.0015770115807442987,-0.0007077207348532555,0.0011039431081077084,0.0017271729843275855,0.0010903854441022605,-0.0019234667701342207,0.0017283356382914064,0.00047299097798796303,0.0020125896963263845,0.0019755415694798417,0.001063222746089192,-0.0007164019609830936,-0.0002536458868387804,0.0009427689484463447,0.0007801130293657077,0.00011368602093792511,0.00016557420032401704,-5.766938380369588e-06,0.0025623958415505444,-0.0004643554148249019,-0.00012727686764627688,-0.0006040095526770454,0.0006035147989913039,-0.0015847304281103138,0.0024668815551500255,2.2888244722904774e-05,0.0014905117115825962,-0.0010097035992615339,0.0005906170752740947,-0.0007130471366512671,-0.0012792782267296284,-0.0006492242087684166,-2.483255949937968e-05,0.0018263923001839721,0.002325007283731174,0.0014614873791536883,-0.002275237709317548,-0.00019720157599267577,1.0,-0.0018065817851318005,0.0007038780518151396,-0.0007594561875969251,-0.0003895497766425932,-0.0010132352986892965,-0.0006150717478745574,0.002242460818771372,-7.844162045705099e-05,-0.0013837584066848986,-0.0002912460265113523,-0.0001765655368635679,-0.001044146800981525,0.001042795001530611],[-0.0009884614013413746,0.003327632088139184,-0.0026572539334666478,0.0012316098107686417,-0.0027493197130440904,0.0002418958665237933,-0.0013366434895240272,-0.00113899174340178,0.0011076970596549847,0.0019063958527411285,0.0010904440725430292,0.0009413248197378649,0.0035302876760359907,0.002688085115982361,0.004105016156185266,-0.0008781557488717433,-0.002056173344181987,-0.0003330881238234243,0.0017399779598683014,-0.0021351894961883005,-0.0020511632558087,-0.001976764375391663,-0.0013879472285356028,0.0004850247427137628,0.0015684917107472406,0.0027360458428319,0.0017074844887983547,0.0005481667398730591,0.0014789659185054684,-0.00039548077859912037,-0.0015081954920330247,0.0028137823427227026,0.00025247219522414203,-0.0021934635081792735,-0.0008314405153598835,3.555120681358118e-05,0.0003144652092349254,0.0013717109810774879,-3.838152707579644e-05,-0.0004112799637466706,1.7971007401595475e-05,-0.002008146378839196,-0.0020377601199118456,-0.0006821322346525335,-0.0018065817851318005,1.0,-0.0003754999056661397,-0.0030565673128424044,0.0023989890448979337,-0.0002911987403944739,0.00027342475457145147,-0.0005076368249279612,0.00014492953692478138,0.001742142599051222,-0.0004993489752245197,0.00021069390481074195,0.0004903599953441988,-0.0006916120031452497],[0.001035083407839573,-0.0007298721113722938,0.00039941011135843576,-0.001538362170845414,5.7899856726879275e-05,-0.00021808446877373742,-0.0018590350530795089,0.003069353402671716,-0.0011149799971636786,-5.210407030197198e-05,0.0030196268595042704,0.0008962957349711612,-0.0017250841016528144,-0.0018571059938225054,-0.0017997299486975178,-0.0013988145151461239,-0.0006773661061847417,0.0006326817481557894,0.00032501327000482663,0.0004072663072860917,0.0008627846619566043,0.0008077547171062454,0.00040510166841795927,-0.0008378593075056785,0.00027424494606736663,0.0003306547787413756,0.0001854316174580646,0.00203877438486673,-0.0014484092047700103,-0.0006814605733074897,-0.0010738542029067317,-0.0008793841243966559,0.001741878918946849,-0.0008585379656954739,0.00041149058595226905,0.0015678522558692654,-0.000586992292577598,0.0009300971112022677,-0.0004558866957385944,0.0009397127333227485,-0.0008521927007458742,0.00014252319994320975,0.0010215069597217926,0.0015448121759358694,0.0007038780518151396,-0.0003754999056661397,1.0,0.00032422016630826486,-0.0008023692288250042,-0.0008051571227656444,-0.0007444946197259311,4.131096072255866e-05,0.0010067028500219941,-0.0011832349881154788,-0.0007687673702118768,-0.0010816605223466955,0.0006507697022424183,0.00013592864912030758],[0.0011276806205616793,-0.001703973813681957,0.0001130703761784332,0.00015850001871482134,0.0005446947649178716,-0.0018189080664973954,-0.0014371101390081252,0.0025911956549611414,-0.0006516643067145796,-0.0004863182414013505,-0.0004280467478821894,0.0010485954426400269,0.0022690307658559737,0.0008862157493646645,0.0022057130579081906,-0.001016918963757405,-0.0009849818686045388,-0.0003053142443121386,0.0009837084235794222,-0.001231664164312344,-0.0004738827557439721,0.0009385520210886657,0.0017287150474321763,-0.0005603619078903826,0.0008633596793068288,0.002533826044943015,-0.0016452575444310996,-0.000485425159344492,-0.00028027163409928584,-0.0017688616698908466,0.0014600779836474664,-0.0015194584552674566,0.00204614733399559,-0.00037054121258567845,0.0004729896907522479,0.0007493350864106011,-0.0003848733919562058,0.00011185692791891713,-0.0004176352086740706,-0.0005383497059227438,-0.0007026983391398499,0.0003363989869632881,-0.0003700257950867811,-0.0015676840879137765,-0.0007594561875969251,-0.0030565673128424044,0.00032422016630826486,1.0,0.0004362620038657764,0.002606891308532455,0.0007494510931637534,0.0011885778232551467,-0.00035104071038526927,0.0003548827749381248,0.0008618113570570021,-0.0016357420370564412,-0.001426876849766693,-0.0005811306973548678],[9.655316469561398e-05,-0.0012202409334261112,0.0011514729213372092,-0.0023321396040042446,-0.002113886994930886,-0.002099359052791905,0.0006815340541811946,-0.0003328469528054058,-0.0009540850400977245,0.00042640391476068544,-0.002078907114110172,-9.312046480175132e-05,-5.094497440529829e-05,5.259575569409826e-05,-0.0005511037759748438,-0.0019785133493171124,-0.0008379684611678406,-0.000527302363566422,0.002013763292984772,-0.00023048877879252918,0.0006777344353267708,-0.0002917500832565597,-0.00117167027409604,-0.0007548822781179889,-0.002310250414798391,0.000506033946932981,-0.000969445247471077,0.0012725578964605984,0.0009316665281062718,0.0021282770939869155,-0.0016328442541997607,0.0018180056422868966,-0.0005180802656058593,-0.0008847269588916355,-0.0016335013655158488,-0.0006817276432887188,0.0025579283991915697,-0.0006657402368030241,-0.0017010491743587894,-0.000610907231295978,-6.221383081851816e-05,0.0001507396091482493,-0.00039984777647941673,-0.00034939320813941763,-0.0003895497766425932,0.0023989890448979337,-0.0008023692288250042,0.0004362620038657764,1.0,0.0014333081575710158,0.0027497312026433375,0.0010252537448180573,0.0008755057304440257,0.0005939249101344232,-0.0008633310908909763,-0.0009597539833284122,-0.0018235928537607316,2.956994321830669e-05],[-0.0010924196820950756,0.00197806209484646,-0.00048201881806080623,-0.0015377628999989274,-0.0008649439237510146,0.0004016616505668142,0.0011993167125179131,-0.00029453307888679286,-0.0011122903199642122,-0.00011704178983612067,0.0011169222368564592,-0.0005131883186889052,0.0007593558222375432,-0.0014481044133737035,0.0006465304219964071,-0.0010707750992435079,0.0008167451624584682,-0.0013008872451035095,0.0011313274809286035,0.0007728319332340877,-0.00010698120132695155,0.0015085998164995058,-0.001331014012520206,0.0016648471315584524,-0.0032190774870779057,0.00137032699248447,-3.6022118295983735e-05,-0.0006162993560571169,-0.00016446516586021953,0.0004904585422110698,-0.0012090684293856557,0.002540578572705144,-0.00032046110442572037,-0.001474171773221834,0.001819498992823513,0.0016567169912688035,0.002050000973360064,0.0009502951822038306,-0.0023237938539553867,-0.0003117623906858583,0.00019706163000291388,0.0006992859952944463,-0.0002474255387772377,0.0004144903643530769,-0.0010132352986892965,-0.0002911987403944739,-0.0008051571227656444,0.002606891308532455,0.0014333081575710158,1.0,-0.00041527549112344475,0.0006283929533901188,0.0012701314736299158,-0.0012439476749677022,0.0036516388219663496,0.00011820427431064959,0.0009334122192949372,-0.000653852475751139],[-0.00022408367784557527,-0.00026119974104259165,-0.0009821995407886673,0.00025336145954811865,0.00041333254868110926,0.002024438680205544,-0.0013841947582160488,0.00036865868250258885,-0.00025382368603683154,0.0015677818616141273,0.002465934653872064,-0.0002333153458820431,0.000588562487623814,-0.0023672714191717934,0.0007661271161635317,-0.0010307690957795743,-0.00156299711141957,0.0005333917482319089,0.002436698942008826,-0.0026244952293342583,-0.002293541596866268,-0.001808189762742481,0.001704100263588644,0.0008734715275632009,4.448348590833025e-05,-0.000322212106229637,0.0006495161485435802,-0.0016282344623514218,0.0014384144054666681,-3.551583101446069e-05,-0.000595505544864744,0.0029795605430707195,-0.001333812652565255,0.000867875481020776,0.0006960510374730239,0.0005986330612285987,-0.00012879161570681334,0.0007873154623696185,0.0002511249934228553,0.00069048221588444,0.0010474081625675374,-0.00010635526436533466,-6.827177559103414e-05,0.0007698828513734947,-0.0006150717478745574,0.00027342475457145147,-0.0007444946197259311,0.0007494510931637534,0.0027497312026433375,-0.00041527549112344475,1.0,-0.001998925242079985,0.0005993454980243122,0.00253725846874218,-0.0004958398402460485,0.0010497645210981999,0.0021447051178479204,-0.0011068806005050185],[0.0009497621996422007,-0.0007559418320820326,-0.000260578527540117,0.000616236280145418,0.0014322486281020542,0.0018157004773686923,0.0004784412097498537,0.0012171256981043583,-0.0018540779151612163,-0.00020396608701515016,8.53527521704832e-05,-0.000886314030834108,-0.0006166881604630352,0.0011963393813416425,-0.0006162470622168763,0.0012298922139808586,-7.563358730598451e-05,0.0004593174270131171,-0.0009379689062303298,0.00017221883267675567,-0.001870294043114773,-0.0010632067057482326,-0.00025939091929663867,0.0003925181000531677,0.00127836600924472,-0.002605702025084105,0.0018430029203546537,0.0008927213012274329,0.0005517672032058064,-0.0012160472311604539,-0.001232789999802064,-0.0004157761924091377,0.0001160631349820436,0.0009390635693009231,-0.0007244638414960437,-0.0004686597096670676,-0.002306468904730208,0.0017157022693310164,0.0009105331734318418,-4.258736731190984e-05,-0.0002230022218089653,0.001192473431428917,-0.0006402606475658166,-0.00045633896714546016,0.002242460818771372,-0.0005076368249279612,4.131096072255866e-05,0.0011885778232551467,0.0010252537448180573,0.0006283929533901188,-0.001998925242079985,1.0,0.0019398998290166291,0.00043199989541847485,-0.0012237367591810828,-0.0008294704931791146,-7.885571394255887e-05,-0.00032534747262925797],[-0.0004904242506719357,-0.0004888305809152305,-7.73097925123283e-05,0.0001147008209880672,0.0027304339933982846,0.0007531615897047136,0.0020878603119080497,0.0005749746503483154,-0.002782301006902715,-0.000621106833529946,-0.003232901883270525,-0.0006590162500354191,-0.0016324069179150086,0.0004916403631589231,-0.0015040621959266955,0.0007158955127461717,0.0009289338594418796,-0.0015898973721046486,-0.0003786053015272518,0.0006446676200411291,-0.0011082018377533006,-0.00020914615839990596,0.0010099566920138414,-2.1739573509035865e-05,-0.0005704621487819702,0.0006768161075987287,-0.0014759881446560481,0.0008617284441825183,-0.0006828340235496918,-0.0010101875324817504,0.0008267214055006782,-0.0008320205024326419,-0.0010723731603562612,-0.0007355977364562478,0.0003357321907707766,-9.052298844512004e-05,0.0007302508489614983,0.00022584046822541161,0.0004887797371829021,3.495183201491772e-05,0.001322685087863559,8.479881701748012e-05,0.0004730025897767625,0.00034703417267569733,-7.844162045705099e-05,0.00014492953692478138,0.0010067028500219941,-0.00035104071038526927,0.0008755057304440257,0.0012701314736299158,0.0005993454980243122,0.0019398998290166291,1.0,0.0003847799596351226,0.00102841956308652,-0.0008488737176628511,0.0008350357428633685,0.0028691848833193325],[0.0006238280115061413,0.00016023701801382253,0.000722508925156299,-0.0009880402394612984,0.0022751189239828542,9.358463291770202e-05,-0.0003814511646855398,0.0012197619159870828,-0.0020477245727682104,0.001058856885769985,0.0010115230415579846,0.0014178496831970188,0.0017539182011569278,0.0015699943019701478,0.002241174688777245,-0.001911205594320247,-0.0004946092252184754,-0.00021109233161776143,-8.221784186932602e-05,0.0003929995881655562,0.0008882893146061712,0.0016359707190918668,-0.0008505284303731603,-0.0029488020207592766,-0.00044340486030748866,0.00138071745507389,0.0014980890630177097,0.0007733217967812206,-0.0015944886399456312,0.002095554633113093,-0.0009516543667292825,0.00101988166604884,0.0018947733541308377,0.0010329214000683001,0.00045777236571172187,-0.000483316343701404,0.0005192568213735301,-0.0027211719806394708,0.00010861167186799583,0.0017675365529640252,-0.00018850096690813933,-0.0015035637847007125,-0.0007332714785797524,0.0003290446115996264,-0.0013837584066848986,0.001742142599051222,-0.0011832349881154788,0.0003548827749381248,0.0005939249101344232,-0.0012439476749677022,0.00253725846874218,0.00043199989541847485,0.0003847799596351226,1.0,-0.001670131862589104,0.0007356946834506965,7.729719133418812e-05,-8.498697276582643e-05],[-0.00017012817365768984,-0.000637405922512431,-0.00012096935308415549,0.00011573310283178855,0.0007822446274933469,2.5126944099735543e-05,-1.2555595090650435e-06,-0.0005167363145866204,-0.0005794594623614194,0.0011348640561168236,0.00034511455870642497,0.0010641208942453223,0.001384395798996994,-0.002917661601417957,0.0010270109567967936,0.0012742527772924368,-0.00043232302606671327,-0.00024213748444447156,6.434466221136217e-05,0.0010170262330880847,0.0023364260516760007,0.0018064760719829428,0.0005948053348967726,-0.0010684813273318017,-0.0022194070932565592,0.0015296687255378423,-0.0027346006398634368,4.6967540418354604e-05,0.0002494826574600422,0.0013782617362007405,-0.0005988332461327121,-0.0005094503197615436,0.0030495798407311208,0.0006658218009970967,0.00046545216120150195,-0.0002617239016346624,0.001948447711511125,0.0001576749916076772,-0.00038766006692617284,-0.00046804449553072873,-0.0010023763840767068,0.0006612486303703191,-0.0014268136314114623,0.00045801159822740894,-0.0002912460265113523,-0.0004993489752245197,-0.0007687673702118768,0.0008618113570570021,-0.0008633310908909763,0.0036516388219663496,-0.0004958398402460485,-0.0012237367591810828,0.00102841956308652,-0.001670131862589104,1.0,-0.000826324294176314,0.0004502193158231187,0.0009660833743414963],[0.0005524351996143513,-0.0012064286195396503,0.0013957242323359904,-0.00011353267979965518,0.0009354902851837651,-0.0007807449680135478,-0.0007593038072530731,0.00018148010907959402,-6.76560415160716e-05,0.0008151460825846945,0.0002395523972656673,-0.0011015992238916042,-0.0013589599814350939,-0.0001171254437040832,-0.0014890949611390358,-0.0014521558223057984,9.269330911035034e-05,4.668457086344222e-05,7.039774777432403e-05,0.0019349369744879699,0.0013950083732873595,0.0008609558314333791,0.0005127985365801132,-0.001146431146969368,-0.0011148066572374377,0.0006548895234524475,-0.0009658384898476972,0.0001887360811680416,0.000270573660079449,-0.0010009801233393956,0.0017102650670976721,0.0007397492338472505,-0.0003877642914470998,0.0012562226046561656,0.001861403211671315,0.0003713566388894938,0.0015797381555584318,-0.0005384152680125148,0.00045734027254835865,0.0012509080583816268,-0.001797494133051942,0.0011701456452736909,-0.00043421133900494065,0.002355164659679187,-0.0001765655368635679,0.00021069390481074195,-0.0010816605223466955,-0.0016357420370564412,-0.0009597539833284122,0.00011820427431064959,0.0010497645210981999,-0.0008294704931791146,-0.0008488737176628511,0.0007356946834506965,-0.000826324294176314,1.0,-0.00025699974900436347,0.0005221041491549446],[-0.001743831954666,-0.0004873474994308484,0.0006746646943326367,-0.0004458338387299716,-0.0019810047779788872,0.000767793209384073,0.0027907331412285693,-0.0013611791678529695,-0.0009190393767053095,-0.0011026523735795507,0.0015546541592622299,-0.0012407285242771364,-0.0017793822878169223,0.0020792867599775913,-0.001191142987245927,0.00185382753288987,0.0003020462737253609,-0.0007755225209513305,-0.0007859433395436982,0.0006978430807759074,-0.0009374983544240399,-9.071512691901709e-05,0.00041532233854990304,-0.0014355425175184065,-0.0007140881892466471,0.00020840455100030927,-0.0024202030181070706,-0.00265046832232453,0.0010124658401534758,0.0003791084777431273,0.001168008620529707,-0.0005871083698975941,-0.0002561308574360054,0.0020057157050789387,6.181302885299608e-05,0.00042988274137663486,-7.307337965051642e-05,0.00021264474262312064,-0.0013043713147276284,0.0003010181836504111,0.0005244457360021364,0.0008329923174728756,-5.027004360948465e-05,0.0013932553619036023,-0.001044146800981525,0.0004903599953441988,0.0006507697022424183,-0.001426876849766693,-0.0018235928537607316,0.0009334122192949372,0.0021447051178479204,-7.885571394255887e-05,0.0008350357428633685,7.729719133418812e-05,0.0004502193158231187,-0.00025699974900436347,1.0,3.090079145214414e-05],[-0.0010722284275476515,-0.0005742314506415563,-0.0016616242741783688,-0.0033147959516082034,0.0012374968449772828,-0.0006423862693915303,0.00020310560100687488,-0.0009608000951050545,0.0009953591808180195,-0.00012315711435399731,-0.003389818864875155,0.0004094125500120253,0.0031663201946254497,-0.0009808134646772364,0.0029254373546049412,-0.0018514810050153417,0.0015192075604173964,-0.0019227006128536288,0.0007240485980833898,0.0025832626445192516,-0.0008385592786654279,-0.00022655910375768616,-0.0001639560686414796,0.0009226307020153694,0.0016369944103955998,-0.0004054215713127699,0.00022872111189250804,-0.0004390450151505276,-0.0018784741324195987,0.0002479460755665291,0.000584937581765978,0.00023404387083531623,0.0015294795483424784,0.0012390580813770161,-0.0004354044573698692,-0.00011583123339800884,-0.0011665193095206751,3.1457672858550866e-05,0.0013528285230101518,-0.0014191181919853224,-0.0013269247457675076,-0.00010069221964181952,0.0013373171170782856,0.0011801209026748203,0.001042795001530611,-0.0006916120031452497,0.00013592864912030758,-0.0005811306973548678,2.956994321830669e-05,-0.000653852475751139,-0.0011068806005050185,-0.00032534747262925797,0.0028691848833193325,-8.498697276582643e-05,0.0009660833743414963,0.0005221041491549446,3.090079145214414e-05,1.0]],\"type\":\"heatmap\",\"xaxis\":\"x\",\"yaxis\":\"y\",\"hovertemplate\":\"Features: %{x}\\u003cbr\\u003eFeatures: %{y}\\u003cbr\\u003eCorrelation: %{z}\\u003cextra\\u003e\\u003c\\u002fextra\\u003e\"}],                        {\"template\":{\"data\":{\"histogram2dcontour\":[{\"type\":\"histogram2dcontour\",\"colorbar\":{\"outlinewidth\":0,\"ticks\":\"\"},\"colorscale\":[[0.0,\"#0d0887\"],[0.1111111111111111,\"#46039f\"],[0.2222222222222222,\"#7201a8\"],[0.3333333333333333,\"#9c179e\"],[0.4444444444444444,\"#bd3786\"],[0.5555555555555556,\"#d8576b\"],[0.6666666666666666,\"#ed7953\"],[0.7777777777777778,\"#fb9f3a\"],[0.8888888888888888,\"#fdca26\"],[1.0,\"#f0f921\"]]}],\"choropleth\":[{\"type\":\"choropleth\",\"colorbar\":{\"outlinewidth\":0,\"ticks\":\"\"}}],\"histogram2d\":[{\"type\":\"histogram2d\",\"colorbar\":{\"outlinewidth\":0,\"ticks\":\"\"},\"colorscale\":[[0.0,\"#0d0887\"],[0.1111111111111111,\"#46039f\"],[0.2222222222222222,\"#7201a8\"],[0.3333333333333333,\"#9c179e\"],[0.4444444444444444,\"#bd3786\"],[0.5555555555555556,\"#d8576b\"],[0.6666666666666666,\"#ed7953\"],[0.7777777777777778,\"#fb9f3a\"],[0.8888888888888888,\"#fdca26\"],[1.0,\"#f0f921\"]]}],\"heatmap\":[{\"type\":\"heatmap\",\"colorbar\":{\"outlinewidth\":0,\"ticks\":\"\"},\"colorscale\":[[0.0,\"#0d0887\"],[0.1111111111111111,\"#46039f\"],[0.2222222222222222,\"#7201a8\"],[0.3333333333333333,\"#9c179e\"],[0.4444444444444444,\"#bd3786\"],[0.5555555555555556,\"#d8576b\"],[0.6666666666666666,\"#ed7953\"],[0.7777777777777778,\"#fb9f3a\"],[0.8888888888888888,\"#fdca26\"],[1.0,\"#f0f921\"]]}],\"heatmapgl\":[{\"type\":\"heatmapgl\",\"colorbar\":{\"outlinewidth\":0,\"ticks\":\"\"},\"colorscale\":[[0.0,\"#0d0887\"],[0.1111111111111111,\"#46039f\"],[0.2222222222222222,\"#7201a8\"],[0.3333333333333333,\"#9c179e\"],[0.4444444444444444,\"#bd3786\"],[0.5555555555555556,\"#d8576b\"],[0.6666666666666666,\"#ed7953\"],[0.7777777777777778,\"#fb9f3a\"],[0.8888888888888888,\"#fdca26\"],[1.0,\"#f0f921\"]]}],\"contourcarpet\":[{\"type\":\"contourcarpet\",\"colorbar\":{\"outlinewidth\":0,\"ticks\":\"\"}}],\"contour\":[{\"type\":\"contour\",\"colorbar\":{\"outlinewidth\":0,\"ticks\":\"\"},\"colorscale\":[[0.0,\"#0d0887\"],[0.1111111111111111,\"#46039f\"],[0.2222222222222222,\"#7201a8\"],[0.3333333333333333,\"#9c179e\"],[0.4444444444444444,\"#bd3786\"],[0.5555555555555556,\"#d8576b\"],[0.6666666666666666,\"#ed7953\"],[0.7777777777777778,\"#fb9f3a\"],[0.8888888888888888,\"#fdca26\"],[1.0,\"#f0f921\"]]}],\"surface\":[{\"type\":\"surface\",\"colorbar\":{\"outlinewidth\":0,\"ticks\":\"\"},\"colorscale\":[[0.0,\"#0d0887\"],[0.1111111111111111,\"#46039f\"],[0.2222222222222222,\"#7201a8\"],[0.3333333333333333,\"#9c179e\"],[0.4444444444444444,\"#bd3786\"],[0.5555555555555556,\"#d8576b\"],[0.6666666666666666,\"#ed7953\"],[0.7777777777777778,\"#fb9f3a\"],[0.8888888888888888,\"#fdca26\"],[1.0,\"#f0f921\"]]}],\"mesh3d\":[{\"type\":\"mesh3d\",\"colorbar\":{\"outlinewidth\":0,\"ticks\":\"\"}}],\"scatter\":[{\"fillpattern\":{\"fillmode\":\"overlay\",\"size\":10,\"solidity\":0.2},\"type\":\"scatter\"}],\"parcoords\":[{\"type\":\"parcoords\",\"line\":{\"colorbar\":{\"outlinewidth\":0,\"ticks\":\"\"}}}],\"scatterpolargl\":[{\"type\":\"scatterpolargl\",\"marker\":{\"colorbar\":{\"outlinewidth\":0,\"ticks\":\"\"}}}],\"bar\":[{\"error_x\":{\"color\":\"#2a3f5f\"},\"error_y\":{\"color\":\"#2a3f5f\"},\"marker\":{\"line\":{\"color\":\"#E5ECF6\",\"width\":0.5},\"pattern\":{\"fillmode\":\"overlay\",\"size\":10,\"solidity\":0.2}},\"type\":\"bar\"}],\"scattergeo\":[{\"type\":\"scattergeo\",\"marker\":{\"colorbar\":{\"outlinewidth\":0,\"ticks\":\"\"}}}],\"scatterpolar\":[{\"type\":\"scatterpolar\",\"marker\":{\"colorbar\":{\"outlinewidth\":0,\"ticks\":\"\"}}}],\"histogram\":[{\"marker\":{\"pattern\":{\"fillmode\":\"overlay\",\"size\":10,\"solidity\":0.2}},\"type\":\"histogram\"}],\"scattergl\":[{\"type\":\"scattergl\",\"marker\":{\"colorbar\":{\"outlinewidth\":0,\"ticks\":\"\"}}}],\"scatter3d\":[{\"type\":\"scatter3d\",\"line\":{\"colorbar\":{\"outlinewidth\":0,\"ticks\":\"\"}},\"marker\":{\"colorbar\":{\"outlinewidth\":0,\"ticks\":\"\"}}}],\"scattermapbox\":[{\"type\":\"scattermapbox\",\"marker\":{\"colorbar\":{\"outlinewidth\":0,\"ticks\":\"\"}}}],\"scatterternary\":[{\"type\":\"scatterternary\",\"marker\":{\"colorbar\":{\"outlinewidth\":0,\"ticks\":\"\"}}}],\"scattercarpet\":[{\"type\":\"scattercarpet\",\"marker\":{\"colorbar\":{\"outlinewidth\":0,\"ticks\":\"\"}}}],\"carpet\":[{\"aaxis\":{\"endlinecolor\":\"#2a3f5f\",\"gridcolor\":\"white\",\"linecolor\":\"white\",\"minorgridcolor\":\"white\",\"startlinecolor\":\"#2a3f5f\"},\"baxis\":{\"endlinecolor\":\"#2a3f5f\",\"gridcolor\":\"white\",\"linecolor\":\"white\",\"minorgridcolor\":\"white\",\"startlinecolor\":\"#2a3f5f\"},\"type\":\"carpet\"}],\"table\":[{\"cells\":{\"fill\":{\"color\":\"#EBF0F8\"},\"line\":{\"color\":\"white\"}},\"header\":{\"fill\":{\"color\":\"#C8D4E3\"},\"line\":{\"color\":\"white\"}},\"type\":\"table\"}],\"barpolar\":[{\"marker\":{\"line\":{\"color\":\"#E5ECF6\",\"width\":0.5},\"pattern\":{\"fillmode\":\"overlay\",\"size\":10,\"solidity\":0.2}},\"type\":\"barpolar\"}],\"pie\":[{\"automargin\":true,\"type\":\"pie\"}]},\"layout\":{\"autotypenumbers\":\"strict\",\"colorway\":[\"#636efa\",\"#EF553B\",\"#00cc96\",\"#ab63fa\",\"#FFA15A\",\"#19d3f3\",\"#FF6692\",\"#B6E880\",\"#FF97FF\",\"#FECB52\"],\"font\":{\"color\":\"#2a3f5f\"},\"hovermode\":\"closest\",\"hoverlabel\":{\"align\":\"left\"},\"paper_bgcolor\":\"white\",\"plot_bgcolor\":\"#E5ECF6\",\"polar\":{\"bgcolor\":\"#E5ECF6\",\"angularaxis\":{\"gridcolor\":\"white\",\"linecolor\":\"white\",\"ticks\":\"\"},\"radialaxis\":{\"gridcolor\":\"white\",\"linecolor\":\"white\",\"ticks\":\"\"}},\"ternary\":{\"bgcolor\":\"#E5ECF6\",\"aaxis\":{\"gridcolor\":\"white\",\"linecolor\":\"white\",\"ticks\":\"\"},\"baxis\":{\"gridcolor\":\"white\",\"linecolor\":\"white\",\"ticks\":\"\"},\"caxis\":{\"gridcolor\":\"white\",\"linecolor\":\"white\",\"ticks\":\"\"}},\"coloraxis\":{\"colorbar\":{\"outlinewidth\":0,\"ticks\":\"\"}},\"colorscale\":{\"sequential\":[[0.0,\"#0d0887\"],[0.1111111111111111,\"#46039f\"],[0.2222222222222222,\"#7201a8\"],[0.3333333333333333,\"#9c179e\"],[0.4444444444444444,\"#bd3786\"],[0.5555555555555556,\"#d8576b\"],[0.6666666666666666,\"#ed7953\"],[0.7777777777777778,\"#fb9f3a\"],[0.8888888888888888,\"#fdca26\"],[1.0,\"#f0f921\"]],\"sequentialminus\":[[0.0,\"#0d0887\"],[0.1111111111111111,\"#46039f\"],[0.2222222222222222,\"#7201a8\"],[0.3333333333333333,\"#9c179e\"],[0.4444444444444444,\"#bd3786\"],[0.5555555555555556,\"#d8576b\"],[0.6666666666666666,\"#ed7953\"],[0.7777777777777778,\"#fb9f3a\"],[0.8888888888888888,\"#fdca26\"],[1.0,\"#f0f921\"]],\"diverging\":[[0,\"#8e0152\"],[0.1,\"#c51b7d\"],[0.2,\"#de77ae\"],[0.3,\"#f1b6da\"],[0.4,\"#fde0ef\"],[0.5,\"#f7f7f7\"],[0.6,\"#e6f5d0\"],[0.7,\"#b8e186\"],[0.8,\"#7fbc41\"],[0.9,\"#4d9221\"],[1,\"#276419\"]]},\"xaxis\":{\"gridcolor\":\"white\",\"linecolor\":\"white\",\"ticks\":\"\",\"title\":{\"standoff\":15},\"zerolinecolor\":\"white\",\"automargin\":true,\"zerolinewidth\":2},\"yaxis\":{\"gridcolor\":\"white\",\"linecolor\":\"white\",\"ticks\":\"\",\"title\":{\"standoff\":15},\"zerolinecolor\":\"white\",\"automargin\":true,\"zerolinewidth\":2},\"scene\":{\"xaxis\":{\"backgroundcolor\":\"#E5ECF6\",\"gridcolor\":\"white\",\"linecolor\":\"white\",\"showbackground\":true,\"ticks\":\"\",\"zerolinecolor\":\"white\",\"gridwidth\":2},\"yaxis\":{\"backgroundcolor\":\"#E5ECF6\",\"gridcolor\":\"white\",\"linecolor\":\"white\",\"showbackground\":true,\"ticks\":\"\",\"zerolinecolor\":\"white\",\"gridwidth\":2},\"zaxis\":{\"backgroundcolor\":\"#E5ECF6\",\"gridcolor\":\"white\",\"linecolor\":\"white\",\"showbackground\":true,\"ticks\":\"\",\"zerolinecolor\":\"white\",\"gridwidth\":2}},\"shapedefaults\":{\"line\":{\"color\":\"#2a3f5f\"}},\"annotationdefaults\":{\"arrowcolor\":\"#2a3f5f\",\"arrowhead\":0,\"arrowwidth\":1},\"geo\":{\"bgcolor\":\"white\",\"landcolor\":\"#E5ECF6\",\"subunitcolor\":\"white\",\"showland\":true,\"showlakes\":true,\"lakecolor\":\"white\"},\"title\":{\"x\":0.05},\"mapbox\":{\"style\":\"light\"}}},\"xaxis\":{\"anchor\":\"y\",\"domain\":[0.0,1.0],\"scaleanchor\":\"y\",\"constrain\":\"domain\",\"title\":{\"text\":\"Features\"}},\"yaxis\":{\"anchor\":\"x\",\"domain\":[0.0,1.0],\"autorange\":\"reversed\",\"constrain\":\"domain\",\"title\":{\"text\":\"Features\"}},\"coloraxis\":{\"colorbar\":{\"title\":{\"text\":\"Correlation\"}},\"colorscale\":[[0.0,\"rgb(5,48,97)\"],[0.1,\"rgb(33,102,172)\"],[0.2,\"rgb(67,147,195)\"],[0.3,\"rgb(146,197,222)\"],[0.4,\"rgb(209,229,240)\"],[0.5,\"rgb(247,247,247)\"],[0.6,\"rgb(253,219,199)\"],[0.7,\"rgb(244,165,130)\"],[0.8,\"rgb(214,96,77)\"],[0.9,\"rgb(178,24,43)\"],[1.0,\"rgb(103,0,31)\"]],\"cmin\":-1,\"cmax\":1},\"margin\":{\"t\":60},\"width\":1000,\"height\":1000,\"title\":{\"text\":\"Interactive Correlation Heatmap\"}},                        {\"responsive\": true}                    )                };                            </script>        </div>\n",
       "</body>\n",
       "</html>"
      ]
     },
     "metadata": {},
     "output_type": "display_data"
    }
   ],
   "source": [
    "corr_matrix = train_df.corr(method='spearman')  # set to spearman to catch subtle correlations\n",
    "\n",
    "fig = px.imshow(\n",
    "  img=corr_matrix,\n",
    "  color_continuous_scale='RdBu_r',\n",
    "  zmin=-1, zmax=1,\n",
    "  labels=dict(x='Features', y='Features', color='Correlation'), \n",
    "  x=corr_matrix.columns, \n",
    "  y=corr_matrix.columns,\n",
    "  text_auto=True\n",
    ")\n",
    "\n",
    "fig.update_layout(width=1000, height=1000, title=\"Interactive Correlation Heatmap\")\n",
    "fig.show()"
   ]
  },
  {
   "cell_type": "markdown",
   "metadata": {
    "application/vnd.databricks.v1+cell": {
     "cellMetadata": {},
     "inputWidgets": {},
     "nuid": "28036504-6fe7-46da-80a2-83f966fcc790",
     "showTitle": false,
     "tableResultSettingsMap": {},
     "title": ""
    }
   },
   "source": [
    "\n",
    "## data quality checks"
   ]
  },
  {
   "cell_type": "code",
   "execution_count": 0,
   "metadata": {
    "application/vnd.databricks.v1+cell": {
     "cellMetadata": {
      "byteLimit": 2048000,
      "rowLimit": 10000
     },
     "inputWidgets": {},
     "nuid": "0bbb8437-81d3-48e6-b9e0-a72b8423d25a",
     "showTitle": true,
     "tableResultSettingsMap": {
      "0": {
       "dataGridStateBlob": "{\"version\":1,\"tableState\":{\"columnPinning\":{\"left\":[\"#row_number#\"],\"right\":[]},\"columnSizing\":{},\"columnVisibility\":{}},\"settings\":{\"columns\":{}},\"syncTimestamp\":1761027472091}",
       "filterBlob": null,
       "queryPlanFiltersBlob": null,
       "tableResultIndex": 0
      }
     },
     "title": "count of missing data"
    }
   },
   "outputs": [
    {
     "output_type": "display_data",
     "data": {
      "text/html": [
       "<style scoped>\n",
       "  .table-result-container {\n",
       "    max-height: 300px;\n",
       "    overflow: auto;\n",
       "  }\n",
       "  table, th, td {\n",
       "    border: 1px solid black;\n",
       "    border-collapse: collapse;\n",
       "  }\n",
       "  th, td {\n",
       "    padding: 5px;\n",
       "  }\n",
       "  th {\n",
       "    text-align: left;\n",
       "  }\n",
       "</style><div class='table-result-container'><table class='table-result'><thead style='background-color: white'><tr><th>feature</th><th>none_counts</th><th>none_percentage</th></tr></thead><tbody><tr><td>car_03_cat</td><td>411231</td><td>69.09</td></tr><tr><td>car_05_cat</td><td>266551</td><td>44.78</td></tr><tr><td>reg_03</td><td>107772</td><td>18.11</td></tr><tr><td>car_14</td><td>42620</td><td>7.16</td></tr><tr><td>car_07_cat</td><td>11489</td><td>1.93</td></tr><tr><td>ind_05_cat</td><td>5809</td><td>0.98</td></tr><tr><td>car_09_cat</td><td>569</td><td>0.1</td></tr><tr><td>ind_02_cat</td><td>216</td><td>0.04</td></tr><tr><td>car_01_cat</td><td>107</td><td>0.02</td></tr><tr><td>ind_04_cat</td><td>83</td><td>0.01</td></tr><tr><td>car_13</td><td>0</td><td>0.0</td></tr><tr><td>car_15</td><td>0</td><td>0.0</td></tr><tr><td>calc_06</td><td>0</td><td>0.0</td></tr><tr><td>calc_01</td><td>0</td><td>0.0</td></tr><tr><td>calc_02</td><td>0</td><td>0.0</td></tr><tr><td>calc_03</td><td>0</td><td>0.0</td></tr><tr><td>calc_04</td><td>0</td><td>0.0</td></tr><tr><td>calc_05</td><td>0</td><td>0.0</td></tr><tr><td>calc_08</td><td>0</td><td>0.0</td></tr><tr><td>calc_07</td><td>0</td><td>0.0</td></tr><tr><td>car_11</td><td>5</td><td>0.0</td></tr><tr><td>calc_09</td><td>0</td><td>0.0</td></tr><tr><td>calc_10</td><td>0</td><td>0.0</td></tr><tr><td>calc_11</td><td>0</td><td>0.0</td></tr><tr><td>calc_12</td><td>0</td><td>0.0</td></tr><tr><td>calc_13</td><td>0</td><td>0.0</td></tr><tr><td>calc_14</td><td>0</td><td>0.0</td></tr><tr><td>calc_15_bin</td><td>0</td><td>0.0</td></tr><tr><td>calc_16_bin</td><td>0</td><td>0.0</td></tr><tr><td>calc_17_bin</td><td>0</td><td>0.0</td></tr><tr><td>calc_18_bin</td><td>0</td><td>0.0</td></tr><tr><td>calc_19_bin</td><td>0</td><td>0.0</td></tr><tr><td>car_12</td><td>1</td><td>0.0</td></tr><tr><td>id</td><td>0</td><td>0.0</td></tr><tr><td>car_11_cat</td><td>0</td><td>0.0</td></tr><tr><td>ind_14</td><td>0</td><td>0.0</td></tr><tr><td>ind_01</td><td>0</td><td>0.0</td></tr><tr><td>ind_03</td><td>0</td><td>0.0</td></tr><tr><td>ind_06_bin</td><td>0</td><td>0.0</td></tr><tr><td>ind_07_bin</td><td>0</td><td>0.0</td></tr><tr><td>ind_08_bin</td><td>0</td><td>0.0</td></tr><tr><td>ind_09_bin</td><td>0</td><td>0.0</td></tr><tr><td>ind_10_bin</td><td>0</td><td>0.0</td></tr><tr><td>ind_11_bin</td><td>0</td><td>0.0</td></tr><tr><td>ind_12_bin</td><td>0</td><td>0.0</td></tr><tr><td>ind_13_bin</td><td>0</td><td>0.0</td></tr><tr><td>ind_15</td><td>0</td><td>0.0</td></tr><tr><td>car_10_cat</td><td>0</td><td>0.0</td></tr><tr><td>ind_16_bin</td><td>0</td><td>0.0</td></tr><tr><td>ind_17_bin</td><td>0</td><td>0.0</td></tr><tr><td>ind_18_bin</td><td>0</td><td>0.0</td></tr><tr><td>reg_01</td><td>0</td><td>0.0</td></tr><tr><td>reg_02</td><td>0</td><td>0.0</td></tr><tr><td>car_02_cat</td><td>5</td><td>0.0</td></tr><tr><td>car_04_cat</td><td>0</td><td>0.0</td></tr><tr><td>car_06_cat</td><td>0</td><td>0.0</td></tr><tr><td>target</td><td>0</td><td>0.0</td></tr><tr><td>car_08_cat</td><td>0</td><td>0.0</td></tr><tr><td>calc_20_bin</td><td>0</td><td>0.0</td></tr></tbody></table></div>"
      ]
     },
     "metadata": {
      "application/vnd.databricks.v1+output": {
       "addedWidgets": {},
       "aggData": [],
       "aggError": "",
       "aggOverflow": false,
       "aggSchema": [],
       "aggSeriesLimitReached": false,
       "aggType": "",
       "arguments": {},
       "columnCustomDisplayInfos": {},
       "data": [
        [
         "car_03_cat",
         411231,
         69.09
        ],
        [
         "car_05_cat",
         266551,
         44.78
        ],
        [
         "reg_03",
         107772,
         18.11
        ],
        [
         "car_14",
         42620,
         7.16
        ],
        [
         "car_07_cat",
         11489,
         1.93
        ],
        [
         "ind_05_cat",
         5809,
         0.98
        ],
        [
         "car_09_cat",
         569,
         0.1
        ],
        [
         "ind_02_cat",
         216,
         0.04
        ],
        [
         "car_01_cat",
         107,
         0.02
        ],
        [
         "ind_04_cat",
         83,
         0.01
        ],
        [
         "car_13",
         0,
         0.0
        ],
        [
         "car_15",
         0,
         0.0
        ],
        [
         "calc_06",
         0,
         0.0
        ],
        [
         "calc_01",
         0,
         0.0
        ],
        [
         "calc_02",
         0,
         0.0
        ],
        [
         "calc_03",
         0,
         0.0
        ],
        [
         "calc_04",
         0,
         0.0
        ],
        [
         "calc_05",
         0,
         0.0
        ],
        [
         "calc_08",
         0,
         0.0
        ],
        [
         "calc_07",
         0,
         0.0
        ],
        [
         "car_11",
         5,
         0.0
        ],
        [
         "calc_09",
         0,
         0.0
        ],
        [
         "calc_10",
         0,
         0.0
        ],
        [
         "calc_11",
         0,
         0.0
        ],
        [
         "calc_12",
         0,
         0.0
        ],
        [
         "calc_13",
         0,
         0.0
        ],
        [
         "calc_14",
         0,
         0.0
        ],
        [
         "calc_15_bin",
         0,
         0.0
        ],
        [
         "calc_16_bin",
         0,
         0.0
        ],
        [
         "calc_17_bin",
         0,
         0.0
        ],
        [
         "calc_18_bin",
         0,
         0.0
        ],
        [
         "calc_19_bin",
         0,
         0.0
        ],
        [
         "car_12",
         1,
         0.0
        ],
        [
         "id",
         0,
         0.0
        ],
        [
         "car_11_cat",
         0,
         0.0
        ],
        [
         "ind_14",
         0,
         0.0
        ],
        [
         "ind_01",
         0,
         0.0
        ],
        [
         "ind_03",
         0,
         0.0
        ],
        [
         "ind_06_bin",
         0,
         0.0
        ],
        [
         "ind_07_bin",
         0,
         0.0
        ],
        [
         "ind_08_bin",
         0,
         0.0
        ],
        [
         "ind_09_bin",
         0,
         0.0
        ],
        [
         "ind_10_bin",
         0,
         0.0
        ],
        [
         "ind_11_bin",
         0,
         0.0
        ],
        [
         "ind_12_bin",
         0,
         0.0
        ],
        [
         "ind_13_bin",
         0,
         0.0
        ],
        [
         "ind_15",
         0,
         0.0
        ],
        [
         "car_10_cat",
         0,
         0.0
        ],
        [
         "ind_16_bin",
         0,
         0.0
        ],
        [
         "ind_17_bin",
         0,
         0.0
        ],
        [
         "ind_18_bin",
         0,
         0.0
        ],
        [
         "reg_01",
         0,
         0.0
        ],
        [
         "reg_02",
         0,
         0.0
        ],
        [
         "car_02_cat",
         5,
         0.0
        ],
        [
         "car_04_cat",
         0,
         0.0
        ],
        [
         "car_06_cat",
         0,
         0.0
        ],
        [
         "target",
         0,
         0.0
        ],
        [
         "car_08_cat",
         0,
         0.0
        ],
        [
         "calc_20_bin",
         0,
         0.0
        ]
       ],
       "datasetInfos": [],
       "dbfsResultPath": null,
       "isJsonSchema": true,
       "metadata": {},
       "overflow": false,
       "plotOptions": {
        "customPlotOptions": {},
        "displayType": "table",
        "pivotAggregation": null,
        "pivotColumns": null,
        "xColumns": null,
        "yColumns": null
       },
       "removedWidgets": [],
       "schema": [
        {
         "metadata": "{}",
         "name": "feature",
         "type": "\"string\""
        },
        {
         "metadata": "{}",
         "name": "none_counts",
         "type": "\"long\""
        },
        {
         "metadata": "{}",
         "name": "none_percentage",
         "type": "\"double\""
        }
       ],
       "type": "table"
      }
     },
     "output_type": "display_data"
    }
   ],
   "source": [
    "missing_counts = (train_df == -1).sum()\n",
    "missing_percent = round((missing_counts / len(train_df)) * 100, 2)\n",
    "\n",
    "missing_df = pd.DataFrame({\n",
    "    'feature': missing_counts.index,\n",
    "    'none_counts': missing_counts.values,\n",
    "    'none_percentage': missing_percent.values\n",
    "})\n",
    "\n",
    "missing_df.sort_values(by='none_percentage', ascending=False).display()"
   ]
  },
  {
   "cell_type": "code",
   "execution_count": 0,
   "metadata": {
    "application/vnd.databricks.v1+cell": {
     "cellMetadata": {
      "byteLimit": 2048000,
      "rowLimit": 10000
     },
     "inputWidgets": {},
     "nuid": "0625d26e-b76b-454a-a86a-1a67ecb944f7",
     "showTitle": true,
     "tableResultSettingsMap": {},
     "title": "outlier detection"
    }
   },
   "outputs": [
    {
     "output_type": "stream",
     "name": "stdout",
     "output_type": "stream",
     "text": [
      "ind_01: num outliers = 0 | 0.0%\nind_03: num outliers = 0 | 0.0%\nind_14: num outliers = 6380 | 1.07%\nind_15: num outliers = 0 | 0.0%\nreg_01: num outliers = 0 | 0.0%\nreg_02: num outliers = 36793 | 6.18%\nreg_03: num outliers = 120865 | 20.31%\ncar_11: num outliers = 25988 | 4.37%\ncar_12: num outliers = 15356 | 2.58%\ncar_13: num outliers = 26913 | 4.52%\ncar_14: num outliers = 58905 | 9.9%\ncar_15: num outliers = 27409 | 4.6%\ncalc_01: num outliers = 0 | 0.0%\ncalc_02: num outliers = 0 | 0.0%\ncalc_03: num outliers = 0 | 0.0%\ncalc_04: num outliers = 38105 | 6.4%\ncalc_05: num outliers = 0 | 0.0%\ncalc_06: num outliers = 1338 | 0.22%\ncalc_07: num outliers = 570 | 0.1%\ncalc_08: num outliers = 942 | 0.16%\ncalc_09: num outliers = 263 | 0.04%\ncalc_10: num outliers = 3642 | 0.61%\ncalc_11: num outliers = 6080 | 1.02%\ncalc_12: num outliers = 35259 | 5.92%\ncalc_13: num outliers = 5505 | 0.92%\ncalc_14: num outliers = 16086 | 2.7%\n"
     ]
    }
   ],
   "source": [
    "def find_outliers(df: pd.DataFrame, threshold: float = 1.5) -> dict:\n",
    "    \"\"\"\n",
    "    Find outliers in a given pandas dataframe using IQR method. This method\n",
    "    should only be used for continuous numerical features\n",
    "    \"\"\"\n",
    "    outlier_dict = {}\n",
    "    for column in df.columns:\n",
    "        if all(sub not in column for sub in ['id', 'target', '_cat', '_bin']):\n",
    "            pass\n",
    "        else:\n",
    "            continue\n",
    "        q1 = df[column].quantile(0.25)\n",
    "        q3 = df[column].quantile(0.75)\n",
    "        iqr = q3 - q1\n",
    "        lower_bound = q1 - (threshold * iqr)\n",
    "        upper_bound = q3 + (threshold * iqr)\n",
    "        outliers = df[(df[column] < lower_bound) | (df[column] > upper_bound)][column]\n",
    "        outlier_dict[column] = outliers\n",
    "        print(f\"{column}: num outliers = {len(outliers)} | {round(len(outliers)/len(df)*100, 2)}%\")\n",
    "\n",
    "    return outlier_dict\n",
    "\n",
    "\n",
    "_ = find_outliers(df=train_df, threshold=1.5)"
   ]
  },
  {
   "cell_type": "code",
   "execution_count": 0,
   "metadata": {
    "application/vnd.databricks.v1+cell": {
     "cellMetadata": {},
     "inputWidgets": {},
     "nuid": "bfd72113-c480-45b8-ab75-f826b2b0a3c4",
     "showTitle": false,
     "tableResultSettingsMap": {},
     "title": ""
    }
   },
   "outputs": [],
   "source": []
  },
  {
   "cell_type": "code",
   "execution_count": 0,
   "metadata": {
    "application/vnd.databricks.v1+cell": {
     "cellMetadata": {},
     "inputWidgets": {},
     "nuid": "48828147-d9ae-4f83-ae89-0b67768fbd14",
     "showTitle": false,
     "tableResultSettingsMap": {},
     "title": ""
    }
   },
   "outputs": [],
   "source": []
  }
 ],
 "metadata": {
  "application/vnd.databricks.v1+notebook": {
   "computePreferences": {
    "hardware": {
     "accelerator": null,
     "gpuPoolId": null,
     "memory": null
    }
   },
   "dashboards": [],
   "environmentMetadata": {
    "base_environment": "",
    "environment_version": "4"
   },
   "inputWidgetPreferences": null,
   "language": "python",
   "notebookMetadata": {
    "pythonIndentUnit": 4
   },
   "notebookName": "eda",
   "widgets": {}
  },
  "language_info": {
   "name": "python"
  }
 },
 "nbformat": 4,
 "nbformat_minor": 0
}
