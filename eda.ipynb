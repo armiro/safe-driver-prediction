{
 "cells": [
  {
   "cell_type": "markdown",
   "metadata": {
    "application/vnd.databricks.v1+cell": {
     "cellMetadata": {
      "byteLimit": 2048000,
      "rowLimit": 10000
     },
     "inputWidgets": {},
     "nuid": "f31d468c-a2cd-4a9d-a648-74f8349cb68c",
     "showTitle": false,
     "tableResultSettingsMap": {},
     "title": ""
    }
   },
   "source": [
    "\n",
    "# Exploratory Data Analysis"
   ]
  },
  {
   "cell_type": "markdown",
   "metadata": {
    "application/vnd.databricks.v1+cell": {
     "cellMetadata": {
      "byteLimit": 2048000,
      "rowLimit": 10000
     },
     "inputWidgets": {},
     "nuid": "4a1c80fe-a35f-46ac-8201-efcc4850f1d5",
     "showTitle": false,
     "tableResultSettingsMap": {},
     "title": ""
    }
   },
   "source": [
    "\n",
    "## import libraries and data"
   ]
  },
  {
   "cell_type": "code",
   "execution_count": 0,
   "metadata": {
    "application/vnd.databricks.v1+cell": {
     "cellMetadata": {
      "byteLimit": 2048000,
      "rowLimit": 10000
     },
     "inputWidgets": {},
     "nuid": "3e0c74c8-1eb6-415b-93f4-7ce37d3fe808",
     "showTitle": false,
     "tableResultSettingsMap": {},
     "title": ""
    }
   },
   "outputs": [],
   "source": [
    "import pyspark\n",
    "import numpy as np\n",
    "import matplotlib.pyplot as plt\n",
    "import pandas as pd\n",
    "import seaborn as sns\n",
    "import plotly.express as px"
   ]
  },
  {
   "cell_type": "code",
   "execution_count": 0,
   "metadata": {
    "application/vnd.databricks.v1+cell": {
     "cellMetadata": {
      "byteLimit": 2048000,
      "rowLimit": 10000
     },
     "inputWidgets": {},
     "nuid": "6bb15450-d992-43fe-919f-82e5ffe7f87f",
     "showTitle": false,
     "tableResultSettingsMap": {},
     "title": ""
    }
   },
   "outputs": [
    {
     "output_type": "stream",
     "name": "stdout",
     "output_type": "stream",
     "text": [
      "train set has 595212 rows and 59 columns.\ntest set has 892816 rows and 58 columns.\n"
     ]
    }
   ],
   "source": [
    "CATALOG = \"workspace\"\n",
    "SCHEMA = \"safe_driver_prediction\"\n",
    "\n",
    "train_df = spark.read.table(f\"{CATALOG}.{SCHEMA}.train\")\n",
    "test_df = spark.read.table(f\"{CATALOG}.{SCHEMA}.test\")\n",
    "\n",
    "print(f\"train set has {train_df.count()} rows and {len(train_df.columns)} columns.\")\n",
    "print(f\"test set has {test_df.count()} rows and {len(test_df.columns)} columns.\")"
   ]
  },
  {
   "cell_type": "code",
   "execution_count": 0,
   "metadata": {
    "application/vnd.databricks.v1+cell": {
     "cellMetadata": {
      "byteLimit": 2048000,
      "rowLimit": 10000
     },
     "inputWidgets": {},
     "nuid": "8ac6d6f5-0215-4351-be38-66b80d90adef",
     "showTitle": false,
     "tableResultSettingsMap": {},
     "title": ""
    }
   },
   "outputs": [
    {
     "output_type": "display_data",
     "data": {
      "text/html": [
       "<style scoped>\n",
       "  .table-result-container {\n",
       "    max-height: 300px;\n",
       "    overflow: auto;\n",
       "  }\n",
       "  table, th, td {\n",
       "    border: 1px solid black;\n",
       "    border-collapse: collapse;\n",
       "  }\n",
       "  th, td {\n",
       "    padding: 5px;\n",
       "  }\n",
       "  th {\n",
       "    text-align: left;\n",
       "  }\n",
       "</style><div class='table-result-container'><table class='table-result'><thead style='background-color: white'><tr><th>id</th><th>target</th><th>ps_ind_01</th><th>ps_ind_02_cat</th><th>ps_ind_03</th><th>ps_ind_04_cat</th><th>ps_ind_05_cat</th><th>ps_ind_06_bin</th><th>ps_ind_07_bin</th><th>ps_ind_08_bin</th><th>ps_ind_09_bin</th><th>ps_ind_10_bin</th><th>ps_ind_11_bin</th><th>ps_ind_12_bin</th><th>ps_ind_13_bin</th><th>ps_ind_14</th><th>ps_ind_15</th><th>ps_ind_16_bin</th><th>ps_ind_17_bin</th><th>ps_ind_18_bin</th><th>ps_reg_01</th><th>ps_reg_02</th><th>ps_reg_03</th><th>ps_car_01_cat</th><th>ps_car_02_cat</th><th>ps_car_03_cat</th><th>ps_car_04_cat</th><th>ps_car_05_cat</th><th>ps_car_06_cat</th><th>ps_car_07_cat</th><th>ps_car_08_cat</th><th>ps_car_09_cat</th><th>ps_car_10_cat</th><th>ps_car_11_cat</th><th>ps_car_11</th><th>ps_car_12</th><th>ps_car_13</th><th>ps_car_14</th><th>ps_car_15</th><th>ps_calc_01</th><th>ps_calc_02</th><th>ps_calc_03</th><th>ps_calc_04</th><th>ps_calc_05</th><th>ps_calc_06</th><th>ps_calc_07</th><th>ps_calc_08</th><th>ps_calc_09</th><th>ps_calc_10</th><th>ps_calc_11</th><th>ps_calc_12</th><th>ps_calc_13</th><th>ps_calc_14</th><th>ps_calc_15_bin</th><th>ps_calc_16_bin</th><th>ps_calc_17_bin</th><th>ps_calc_18_bin</th><th>ps_calc_19_bin</th><th>ps_calc_20_bin</th></tr></thead><tbody><tr><td>863026</td><td>0</td><td>0</td><td>1</td><td>2</td><td>0</td><td>0</td><td>0</td><td>1</td><td>0</td><td>0</td><td>0</td><td>0</td><td>0</td><td>0</td><td>0</td><td>0</td><td>0</td><td>0</td><td>0</td><td>0.2</td><td>0.1</td><td>-1.0</td><td>6</td><td>1</td><td>-1</td><td>0</td><td>1</td><td>15</td><td>1</td><td>1</td><td>0</td><td>1</td><td>5</td><td>2</td><td>0.44721359549999995</td><td>1.1285549892</td><td>0.4</td><td>3.4641016150999997</td><td>0.2</td><td>0.4</td><td>0.0</td><td>2</td><td>2</td><td>8</td><td>3</td><td>11</td><td>3</td><td>11</td><td>7</td><td>2</td><td>2</td><td>11</td><td>0</td><td>1</td><td>1</td><td>0</td><td>0</td><td>0</td></tr><tr><td>863030</td><td>1</td><td>1</td><td>2</td><td>1</td><td>0</td><td>0</td><td>1</td><td>0</td><td>0</td><td>0</td><td>0</td><td>0</td><td>0</td><td>0</td><td>0</td><td>8</td><td>0</td><td>1</td><td>0</td><td>0.7</td><td>0.9</td><td>1.9031224343000002</td><td>11</td><td>1</td><td>-1</td><td>0</td><td>-1</td><td>0</td><td>1</td><td>1</td><td>1</td><td>1</td><td>78</td><td>3</td><td>0.4</td><td>0.7979959403</td><td>0.38483762810000005</td><td>3.3166247904</td><td>0.4</td><td>0.3</td><td>0.8</td><td>2</td><td>4</td><td>8</td><td>4</td><td>8</td><td>2</td><td>9</td><td>6</td><td>1</td><td>2</td><td>5</td><td>0</td><td>1</td><td>0</td><td>0</td><td>1</td><td>0</td></tr><tr><td>863031</td><td>0</td><td>0</td><td>1</td><td>7</td><td>0</td><td>0</td><td>1</td><td>0</td><td>0</td><td>0</td><td>0</td><td>0</td><td>0</td><td>0</td><td>0</td><td>12</td><td>1</td><td>0</td><td>0</td><td>0.3</td><td>0.2</td><td>-1.0</td><td>5</td><td>1</td><td>0</td><td>0</td><td>0</td><td>0</td><td>1</td><td>1</td><td>2</td><td>1</td><td>95</td><td>2</td><td>0.399374511</td><td>0.6440605947</td><td>0.3322649545</td><td>2.0</td><td>0.1</td><td>0.0</td><td>0.0</td><td>2</td><td>2</td><td>8</td><td>4</td><td>10</td><td>4</td><td>7</td><td>2</td><td>3</td><td>2</td><td>10</td><td>1</td><td>1</td><td>0</td><td>0</td><td>0</td><td>0</td></tr><tr><td>863033</td><td>0</td><td>1</td><td>3</td><td>8</td><td>1</td><td>0</td><td>0</td><td>0</td><td>0</td><td>1</td><td>0</td><td>0</td><td>0</td><td>0</td><td>0</td><td>3</td><td>1</td><td>0</td><td>0</td><td>0.9</td><td>1.2</td><td>0.6025985397</td><td>11</td><td>0</td><td>1</td><td>0</td><td>1</td><td>7</td><td>1</td><td>1</td><td>2</td><td>1</td><td>79</td><td>3</td><td>0.4</td><td>1.0048230797</td><td>0.3466987165</td><td>3.6055512755000003</td><td>0.6</td><td>0.6</td><td>0.0</td><td>0</td><td>1</td><td>8</td><td>4</td><td>10</td><td>3</td><td>9</td><td>2</td><td>4</td><td>3</td><td>10</td><td>0</td><td>0</td><td>1</td><td>1</td><td>0</td><td>0</td></tr><tr><td>863034</td><td>0</td><td>5</td><td>2</td><td>1</td><td>1</td><td>0</td><td>0</td><td>0</td><td>1</td><td>0</td><td>0</td><td>0</td><td>0</td><td>0</td><td>0</td><td>6</td><td>0</td><td>1</td><td>0</td><td>0.9</td><td>1.2</td><td>1.6678953803999998</td><td>11</td><td>1</td><td>0</td><td>0</td><td>1</td><td>1</td><td>1</td><td>1</td><td>2</td><td>1</td><td>70</td><td>3</td><td>0.3741657387</td><td>0.7491041481999999</td><td>0.33911649920000003</td><td>3.0</td><td>0.5</td><td>0.3</td><td>0.4</td><td>2</td><td>2</td><td>8</td><td>3</td><td>10</td><td>4</td><td>8</td><td>5</td><td>2</td><td>2</td><td>6</td><td>0</td><td>1</td><td>1</td><td>0</td><td>0</td><td>0</td></tr><tr><td>863036</td><td>0</td><td>7</td><td>1</td><td>3</td><td>1</td><td>0</td><td>0</td><td>0</td><td>0</td><td>1</td><td>0</td><td>0</td><td>0</td><td>0</td><td>0</td><td>7</td><td>1</td><td>0</td><td>0</td><td>0.9</td><td>0.5</td><td>0.9093266740000001</td><td>6</td><td>1</td><td>-1</td><td>0</td><td>1</td><td>1</td><td>1</td><td>1</td><td>0</td><td>1</td><td>64</td><td>1</td><td>0.316227766</td><td>0.6621246793</td><td>0.3701351105</td><td>2.8284271247</td><td>0.2</td><td>0.2</td><td>0.3</td><td>4</td><td>2</td><td>7</td><td>2</td><td>10</td><td>1</td><td>11</td><td>3</td><td>0</td><td>0</td><td>5</td><td>0</td><td>0</td><td>0</td><td>0</td><td>0</td><td>0</td></tr><tr><td>863039</td><td>0</td><td>0</td><td>2</td><td>6</td><td>1</td><td>0</td><td>0</td><td>1</td><td>0</td><td>0</td><td>0</td><td>0</td><td>0</td><td>0</td><td>0</td><td>5</td><td>1</td><td>0</td><td>0</td><td>0.1</td><td>0.1</td><td>-1.0</td><td>7</td><td>1</td><td>-1</td><td>0</td><td>-1</td><td>1</td><td>1</td><td>1</td><td>2</td><td>1</td><td>25</td><td>3</td><td>0.3741657387</td><td>0.7942848543000001</td><td>-1.0</td><td>3.6055512755000003</td><td>0.5</td><td>0.9</td><td>0.2</td><td>3</td><td>3</td><td>8</td><td>3</td><td>7</td><td>5</td><td>14</td><td>4</td><td>2</td><td>0</td><td>9</td><td>0</td><td>1</td><td>0</td><td>1</td><td>1</td><td>0</td></tr><tr><td>863040</td><td>0</td><td>1</td><td>3</td><td>6</td><td>1</td><td>0</td><td>0</td><td>0</td><td>1</td><td>0</td><td>0</td><td>0</td><td>0</td><td>0</td><td>0</td><td>1</td><td>0</td><td>0</td><td>1</td><td>0.5</td><td>0.2</td><td>0.6694213918999999</td><td>11</td><td>1</td><td>-1</td><td>0</td><td>-1</td><td>14</td><td>1</td><td>1</td><td>2</td><td>1</td><td>82</td><td>3</td><td>0.316227766</td><td>0.7445775051000001</td><td>0.36851051549999997</td><td>3.4641016150999997</td><td>0.4</td><td>0.8</td><td>0.9</td><td>3</td><td>4</td><td>8</td><td>2</td><td>9</td><td>1</td><td>10</td><td>3</td><td>3</td><td>3</td><td>3</td><td>0</td><td>1</td><td>0</td><td>0</td><td>0</td><td>0</td></tr><tr><td>863043</td><td>0</td><td>0</td><td>2</td><td>1</td><td>0</td><td>0</td><td>0</td><td>1</td><td>0</td><td>0</td><td>0</td><td>0</td><td>0</td><td>0</td><td>0</td><td>6</td><td>1</td><td>0</td><td>0</td><td>0.4</td><td>0.0</td><td>0.5273755777</td><td>11</td><td>0</td><td>1</td><td>9</td><td>1</td><td>2</td><td>-1</td><td>0</td><td>1</td><td>1</td><td>104</td><td>3</td><td>0.44721359549999995</td><td>1.6885614200999999</td><td>0.4669047012</td><td>3.7416573868</td><td>0.1</td><td>0.5</td><td>0.1</td><td>0</td><td>0</td><td>8</td><td>3</td><td>11</td><td>2</td><td>8</td><td>1</td><td>0</td><td>1</td><td>14</td><td>0</td><td>1</td><td>1</td><td>0</td><td>1</td><td>1</td></tr><tr><td>863044</td><td>0</td><td>0</td><td>1</td><td>5</td><td>0</td><td>0</td><td>1</td><td>0</td><td>0</td><td>0</td><td>0</td><td>0</td><td>0</td><td>0</td><td>0</td><td>10</td><td>1</td><td>0</td><td>0</td><td>0.3</td><td>0.2</td><td>-1.0</td><td>10</td><td>1</td><td>-1</td><td>0</td><td>1</td><td>11</td><td>1</td><td>1</td><td>0</td><td>1</td><td>103</td><td>1</td><td>0.316227766</td><td>0.5818892002</td><td>0.3583294573</td><td>2.8284271247</td><td>0.0</td><td>0.2</td><td>0.1</td><td>1</td><td>3</td><td>8</td><td>3</td><td>8</td><td>4</td><td>9</td><td>6</td><td>1</td><td>2</td><td>11</td><td>0</td><td>1</td><td>0</td><td>0</td><td>0</td><td>0</td></tr></tbody></table></div>"
      ]
     },
     "metadata": {
      "application/vnd.databricks.v1+output": {
       "addedWidgets": {},
       "aggData": [],
       "aggError": "",
       "aggOverflow": false,
       "aggSchema": [],
       "aggSeriesLimitReached": false,
       "aggType": "",
       "arguments": {},
       "columnCustomDisplayInfos": {},
       "data": [
        [
         863026,
         0,
         0,
         1,
         2,
         0,
         0,
         0,
         1,
         0,
         0,
         0,
         0,
         0,
         0,
         0,
         0,
         0,
         0,
         0,
         0.2,
         0.1,
         -1.0,
         6,
         1,
         -1,
         0,
         1,
         15,
         1,
         1,
         0,
         1,
         5,
         2,
         0.44721359549999995,
         1.1285549892,
         0.4,
         3.4641016150999997,
         0.2,
         0.4,
         0.0,
         2,
         2,
         8,
         3,
         11,
         3,
         11,
         7,
         2,
         2,
         11,
         0,
         1,
         1,
         0,
         0,
         0
        ],
        [
         863030,
         1,
         1,
         2,
         1,
         0,
         0,
         1,
         0,
         0,
         0,
         0,
         0,
         0,
         0,
         0,
         8,
         0,
         1,
         0,
         0.7,
         0.9,
         1.9031224343000002,
         11,
         1,
         -1,
         0,
         -1,
         0,
         1,
         1,
         1,
         1,
         78,
         3,
         0.4,
         0.7979959403,
         0.38483762810000005,
         3.3166247904,
         0.4,
         0.3,
         0.8,
         2,
         4,
         8,
         4,
         8,
         2,
         9,
         6,
         1,
         2,
         5,
         0,
         1,
         0,
         0,
         1,
         0
        ],
        [
         863031,
         0,
         0,
         1,
         7,
         0,
         0,
         1,
         0,
         0,
         0,
         0,
         0,
         0,
         0,
         0,
         12,
         1,
         0,
         0,
         0.3,
         0.2,
         -1.0,
         5,
         1,
         0,
         0,
         0,
         0,
         1,
         1,
         2,
         1,
         95,
         2,
         0.399374511,
         0.6440605947,
         0.3322649545,
         2.0,
         0.1,
         0.0,
         0.0,
         2,
         2,
         8,
         4,
         10,
         4,
         7,
         2,
         3,
         2,
         10,
         1,
         1,
         0,
         0,
         0,
         0
        ],
        [
         863033,
         0,
         1,
         3,
         8,
         1,
         0,
         0,
         0,
         0,
         1,
         0,
         0,
         0,
         0,
         0,
         3,
         1,
         0,
         0,
         0.9,
         1.2,
         0.6025985397,
         11,
         0,
         1,
         0,
         1,
         7,
         1,
         1,
         2,
         1,
         79,
         3,
         0.4,
         1.0048230797,
         0.3466987165,
         3.6055512755000003,
         0.6,
         0.6,
         0.0,
         0,
         1,
         8,
         4,
         10,
         3,
         9,
         2,
         4,
         3,
         10,
         0,
         0,
         1,
         1,
         0,
         0
        ],
        [
         863034,
         0,
         5,
         2,
         1,
         1,
         0,
         0,
         0,
         1,
         0,
         0,
         0,
         0,
         0,
         0,
         6,
         0,
         1,
         0,
         0.9,
         1.2,
         1.6678953803999998,
         11,
         1,
         0,
         0,
         1,
         1,
         1,
         1,
         2,
         1,
         70,
         3,
         0.3741657387,
         0.7491041481999999,
         0.33911649920000003,
         3.0,
         0.5,
         0.3,
         0.4,
         2,
         2,
         8,
         3,
         10,
         4,
         8,
         5,
         2,
         2,
         6,
         0,
         1,
         1,
         0,
         0,
         0
        ],
        [
         863036,
         0,
         7,
         1,
         3,
         1,
         0,
         0,
         0,
         0,
         1,
         0,
         0,
         0,
         0,
         0,
         7,
         1,
         0,
         0,
         0.9,
         0.5,
         0.9093266740000001,
         6,
         1,
         -1,
         0,
         1,
         1,
         1,
         1,
         0,
         1,
         64,
         1,
         0.316227766,
         0.6621246793,
         0.3701351105,
         2.8284271247,
         0.2,
         0.2,
         0.3,
         4,
         2,
         7,
         2,
         10,
         1,
         11,
         3,
         0,
         0,
         5,
         0,
         0,
         0,
         0,
         0,
         0
        ],
        [
         863039,
         0,
         0,
         2,
         6,
         1,
         0,
         0,
         1,
         0,
         0,
         0,
         0,
         0,
         0,
         0,
         5,
         1,
         0,
         0,
         0.1,
         0.1,
         -1.0,
         7,
         1,
         -1,
         0,
         -1,
         1,
         1,
         1,
         2,
         1,
         25,
         3,
         0.3741657387,
         0.7942848543000001,
         -1.0,
         3.6055512755000003,
         0.5,
         0.9,
         0.2,
         3,
         3,
         8,
         3,
         7,
         5,
         14,
         4,
         2,
         0,
         9,
         0,
         1,
         0,
         1,
         1,
         0
        ],
        [
         863040,
         0,
         1,
         3,
         6,
         1,
         0,
         0,
         0,
         1,
         0,
         0,
         0,
         0,
         0,
         0,
         1,
         0,
         0,
         1,
         0.5,
         0.2,
         0.6694213918999999,
         11,
         1,
         -1,
         0,
         -1,
         14,
         1,
         1,
         2,
         1,
         82,
         3,
         0.316227766,
         0.7445775051000001,
         0.36851051549999997,
         3.4641016150999997,
         0.4,
         0.8,
         0.9,
         3,
         4,
         8,
         2,
         9,
         1,
         10,
         3,
         3,
         3,
         3,
         0,
         1,
         0,
         0,
         0,
         0
        ],
        [
         863043,
         0,
         0,
         2,
         1,
         0,
         0,
         0,
         1,
         0,
         0,
         0,
         0,
         0,
         0,
         0,
         6,
         1,
         0,
         0,
         0.4,
         0.0,
         0.5273755777,
         11,
         0,
         1,
         9,
         1,
         2,
         -1,
         0,
         1,
         1,
         104,
         3,
         0.44721359549999995,
         1.6885614200999999,
         0.4669047012,
         3.7416573868,
         0.1,
         0.5,
         0.1,
         0,
         0,
         8,
         3,
         11,
         2,
         8,
         1,
         0,
         1,
         14,
         0,
         1,
         1,
         0,
         1,
         1
        ],
        [
         863044,
         0,
         0,
         1,
         5,
         0,
         0,
         1,
         0,
         0,
         0,
         0,
         0,
         0,
         0,
         0,
         10,
         1,
         0,
         0,
         0.3,
         0.2,
         -1.0,
         10,
         1,
         -1,
         0,
         1,
         11,
         1,
         1,
         0,
         1,
         103,
         1,
         0.316227766,
         0.5818892002,
         0.3583294573,
         2.8284271247,
         0.0,
         0.2,
         0.1,
         1,
         3,
         8,
         3,
         8,
         4,
         9,
         6,
         1,
         2,
         11,
         0,
         1,
         0,
         0,
         0,
         0
        ]
       ],
       "datasetInfos": [],
       "dbfsResultPath": null,
       "isJsonSchema": true,
       "metadata": {},
       "overflow": false,
       "plotOptions": {
        "customPlotOptions": {},
        "displayType": "table",
        "pivotAggregation": null,
        "pivotColumns": null,
        "xColumns": null,
        "yColumns": null
       },
       "removedWidgets": [],
       "schema": [
        {
         "metadata": "{}",
         "name": "id",
         "type": "\"integer\""
        },
        {
         "metadata": "{}",
         "name": "target",
         "type": "\"integer\""
        },
        {
         "metadata": "{}",
         "name": "ps_ind_01",
         "type": "\"integer\""
        },
        {
         "metadata": "{}",
         "name": "ps_ind_02_cat",
         "type": "\"integer\""
        },
        {
         "metadata": "{}",
         "name": "ps_ind_03",
         "type": "\"integer\""
        },
        {
         "metadata": "{}",
         "name": "ps_ind_04_cat",
         "type": "\"integer\""
        },
        {
         "metadata": "{}",
         "name": "ps_ind_05_cat",
         "type": "\"integer\""
        },
        {
         "metadata": "{}",
         "name": "ps_ind_06_bin",
         "type": "\"integer\""
        },
        {
         "metadata": "{}",
         "name": "ps_ind_07_bin",
         "type": "\"integer\""
        },
        {
         "metadata": "{}",
         "name": "ps_ind_08_bin",
         "type": "\"integer\""
        },
        {
         "metadata": "{}",
         "name": "ps_ind_09_bin",
         "type": "\"integer\""
        },
        {
         "metadata": "{}",
         "name": "ps_ind_10_bin",
         "type": "\"integer\""
        },
        {
         "metadata": "{}",
         "name": "ps_ind_11_bin",
         "type": "\"integer\""
        },
        {
         "metadata": "{}",
         "name": "ps_ind_12_bin",
         "type": "\"integer\""
        },
        {
         "metadata": "{}",
         "name": "ps_ind_13_bin",
         "type": "\"integer\""
        },
        {
         "metadata": "{}",
         "name": "ps_ind_14",
         "type": "\"integer\""
        },
        {
         "metadata": "{}",
         "name": "ps_ind_15",
         "type": "\"integer\""
        },
        {
         "metadata": "{}",
         "name": "ps_ind_16_bin",
         "type": "\"integer\""
        },
        {
         "metadata": "{}",
         "name": "ps_ind_17_bin",
         "type": "\"integer\""
        },
        {
         "metadata": "{}",
         "name": "ps_ind_18_bin",
         "type": "\"integer\""
        },
        {
         "metadata": "{}",
         "name": "ps_reg_01",
         "type": "\"double\""
        },
        {
         "metadata": "{}",
         "name": "ps_reg_02",
         "type": "\"double\""
        },
        {
         "metadata": "{}",
         "name": "ps_reg_03",
         "type": "\"double\""
        },
        {
         "metadata": "{}",
         "name": "ps_car_01_cat",
         "type": "\"integer\""
        },
        {
         "metadata": "{}",
         "name": "ps_car_02_cat",
         "type": "\"integer\""
        },
        {
         "metadata": "{}",
         "name": "ps_car_03_cat",
         "type": "\"integer\""
        },
        {
         "metadata": "{}",
         "name": "ps_car_04_cat",
         "type": "\"integer\""
        },
        {
         "metadata": "{}",
         "name": "ps_car_05_cat",
         "type": "\"integer\""
        },
        {
         "metadata": "{}",
         "name": "ps_car_06_cat",
         "type": "\"integer\""
        },
        {
         "metadata": "{}",
         "name": "ps_car_07_cat",
         "type": "\"integer\""
        },
        {
         "metadata": "{}",
         "name": "ps_car_08_cat",
         "type": "\"integer\""
        },
        {
         "metadata": "{}",
         "name": "ps_car_09_cat",
         "type": "\"integer\""
        },
        {
         "metadata": "{}",
         "name": "ps_car_10_cat",
         "type": "\"integer\""
        },
        {
         "metadata": "{}",
         "name": "ps_car_11_cat",
         "type": "\"integer\""
        },
        {
         "metadata": "{}",
         "name": "ps_car_11",
         "type": "\"integer\""
        },
        {
         "metadata": "{}",
         "name": "ps_car_12",
         "type": "\"double\""
        },
        {
         "metadata": "{}",
         "name": "ps_car_13",
         "type": "\"double\""
        },
        {
         "metadata": "{}",
         "name": "ps_car_14",
         "type": "\"double\""
        },
        {
         "metadata": "{}",
         "name": "ps_car_15",
         "type": "\"double\""
        },
        {
         "metadata": "{}",
         "name": "ps_calc_01",
         "type": "\"double\""
        },
        {
         "metadata": "{}",
         "name": "ps_calc_02",
         "type": "\"double\""
        },
        {
         "metadata": "{}",
         "name": "ps_calc_03",
         "type": "\"double\""
        },
        {
         "metadata": "{}",
         "name": "ps_calc_04",
         "type": "\"integer\""
        },
        {
         "metadata": "{}",
         "name": "ps_calc_05",
         "type": "\"integer\""
        },
        {
         "metadata": "{}",
         "name": "ps_calc_06",
         "type": "\"integer\""
        },
        {
         "metadata": "{}",
         "name": "ps_calc_07",
         "type": "\"integer\""
        },
        {
         "metadata": "{}",
         "name": "ps_calc_08",
         "type": "\"integer\""
        },
        {
         "metadata": "{}",
         "name": "ps_calc_09",
         "type": "\"integer\""
        },
        {
         "metadata": "{}",
         "name": "ps_calc_10",
         "type": "\"integer\""
        },
        {
         "metadata": "{}",
         "name": "ps_calc_11",
         "type": "\"integer\""
        },
        {
         "metadata": "{}",
         "name": "ps_calc_12",
         "type": "\"integer\""
        },
        {
         "metadata": "{}",
         "name": "ps_calc_13",
         "type": "\"integer\""
        },
        {
         "metadata": "{}",
         "name": "ps_calc_14",
         "type": "\"integer\""
        },
        {
         "metadata": "{}",
         "name": "ps_calc_15_bin",
         "type": "\"integer\""
        },
        {
         "metadata": "{}",
         "name": "ps_calc_16_bin",
         "type": "\"integer\""
        },
        {
         "metadata": "{}",
         "name": "ps_calc_17_bin",
         "type": "\"integer\""
        },
        {
         "metadata": "{}",
         "name": "ps_calc_18_bin",
         "type": "\"integer\""
        },
        {
         "metadata": "{}",
         "name": "ps_calc_19_bin",
         "type": "\"integer\""
        },
        {
         "metadata": "{}",
         "name": "ps_calc_20_bin",
         "type": "\"integer\""
        }
       ],
       "type": "table"
      }
     },
     "output_type": "display_data"
    }
   ],
   "source": [
    "train_df.limit(10).display()\n"
   ]
  },
  {
   "cell_type": "markdown",
   "metadata": {
    "application/vnd.databricks.v1+cell": {
     "cellMetadata": {
      "byteLimit": 2048000,
      "rowLimit": 10000
     },
     "inputWidgets": {},
     "nuid": "83a5cc93-5050-4c47-b4f9-72a54012fc0e",
     "showTitle": false,
     "tableResultSettingsMap": {},
     "title": ""
    }
   },
   "source": [
    "\n",
    "## check different feature types"
   ]
  },
  {
   "cell_type": "code",
   "execution_count": 0,
   "metadata": {
    "application/vnd.databricks.v1+cell": {
     "cellMetadata": {
      "byteLimit": 2048000,
      "rowLimit": 10000
     },
     "inputWidgets": {},
     "nuid": "b4f56e1e-0394-4ec9-ba9e-1c79047ed858",
     "showTitle": false,
     "tableResultSettingsMap": {},
     "title": ""
    }
   },
   "outputs": [],
   "source": [
    "train_df = train_df.toPandas()\n",
    "test_df = test_df.toPandas()"
   ]
  },
  {
   "cell_type": "code",
   "execution_count": 0,
   "metadata": {
    "application/vnd.databricks.v1+cell": {
     "cellMetadata": {
      "byteLimit": 2048000,
      "rowLimit": 10000
     },
     "inputWidgets": {},
     "nuid": "509d1e75-c029-45a8-8749-755a65e75e2b",
     "showTitle": false,
     "tableResultSettingsMap": {},
     "title": ""
    }
   },
   "outputs": [],
   "source": [
    "train_df.columns = train_df.columns.str.replace('ps_', '', regex=False)\n",
    "test_df.columns = test_df.columns.str.replace('ps_', '', regex=False)"
   ]
  },
  {
   "cell_type": "code",
   "execution_count": 0,
   "metadata": {
    "application/vnd.databricks.v1+cell": {
     "cellMetadata": {
      "byteLimit": 2048000,
      "rowLimit": 10000
     },
     "inputWidgets": {},
     "nuid": "66df1bcd-7d02-4ae0-bc6d-d9c069b4a2b4",
     "showTitle": false,
     "tableResultSettingsMap": {},
     "title": ""
    }
   },
   "outputs": [
    {
     "output_type": "stream",
     "name": "stdout",
     "output_type": "stream",
     "text": [
      "categorical features: \n ['ind_02_cat', 'ind_04_cat', 'ind_05_cat', 'car_01_cat', 'car_02_cat', 'car_03_cat', 'car_04_cat', 'car_05_cat', 'car_06_cat', 'car_07_cat', 'car_08_cat', 'car_09_cat', 'car_10_cat', 'car_11_cat']\n--------------------------------------\nbinary features: \n ['ind_06_bin', 'ind_07_bin', 'ind_08_bin', 'ind_09_bin', 'ind_10_bin', 'ind_11_bin', 'ind_12_bin', 'ind_13_bin', 'ind_16_bin', 'ind_17_bin', 'ind_18_bin', 'calc_15_bin', 'calc_16_bin', 'calc_17_bin', 'calc_18_bin', 'calc_19_bin', 'calc_20_bin']\n--------------------------------------\n--------------------------------------\nvehicle features: \n ['car_01_cat', 'car_02_cat', 'car_03_cat', 'car_04_cat', 'car_05_cat', 'car_06_cat', 'car_07_cat', 'car_08_cat', 'car_09_cat', 'car_10_cat', 'car_11_cat', 'car_11', 'car_12', 'car_13', 'car_14', 'car_15']\n--------------------------------------\nindicator features: \n ['ind_01', 'ind_02_cat', 'ind_03', 'ind_04_cat', 'ind_05_cat', 'ind_06_bin', 'ind_07_bin', 'ind_08_bin', 'ind_09_bin', 'ind_10_bin', 'ind_11_bin', 'ind_12_bin', 'ind_13_bin', 'ind_14', 'ind_15', 'ind_16_bin', 'ind_17_bin', 'ind_18_bin']\n--------------------------------------\nregular features: \n ['reg_01', 'reg_02', 'reg_03']\n--------------------------------------\ncalculated features: \n ['calc_01', 'calc_02', 'calc_03', 'calc_04', 'calc_05', 'calc_06', 'calc_07', 'calc_08', 'calc_09', 'calc_10', 'calc_11', 'calc_12', 'calc_13', 'calc_14', 'calc_15_bin', 'calc_16_bin', 'calc_17_bin', 'calc_18_bin', 'calc_19_bin', 'calc_20_bin']\n--------------------------------------\n"
     ]
    }
   ],
   "source": [
    "\n",
    "columns = train_df.columns\n",
    "\n",
    "print(\"categorical features: \\n\", [col for col in columns if \"_cat\" in col])\n",
    "print(\"--------------------------------------\")\n",
    "print(\"binary features: \\n\", [col for col in columns if \"_bin\" in col])\n",
    "\n",
    "print(\"--------------------------------------\")\n",
    "print(\"--------------------------------------\")\n",
    "\n",
    "print(\"vehicle features: \\n\", [col for col in columns if \"car_\" in col])\n",
    "print(\"--------------------------------------\")\n",
    "print(\"indicator features: \\n\", [col for col in columns if \"ind_\" in col])\n",
    "print(\"--------------------------------------\")\n",
    "print(\"regular features: \\n\", [col for col in columns if \"reg_\" in col])\n",
    "print(\"--------------------------------------\")\n",
    "print(\"calculated features: \\n\", [col for col in columns if \"calc_\" in col])\n",
    "print(\"--------------------------------------\")"
   ]
  },
  {
   "cell_type": "markdown",
   "metadata": {
    "application/vnd.databricks.v1+cell": {
     "cellMetadata": {
      "byteLimit": 2048000,
      "rowLimit": 10000
     },
     "inputWidgets": {},
     "nuid": "5169a026-8a66-4b88-ae85-fc25dc3d6bc0",
     "showTitle": false,
     "tableResultSettingsMap": {},
     "title": ""
    }
   },
   "source": [
    "\n",
    "## plot distributions"
   ]
  },
  {
   "cell_type": "code",
   "execution_count": 0,
   "metadata": {
    "application/vnd.databricks.v1+cell": {
     "cellMetadata": {
      "byteLimit": 2048000,
      "rowLimit": 10000
     },
     "inputWidgets": {},
     "nuid": "138b94b7-a21d-4886-abae-b4e904652379",
     "showTitle": false,
     "tableResultSettingsMap": {},
     "title": ""
    }
   },
   "outputs": [],
   "source": [
    "def plot_counts_per_feature(dataset: pd.DataFrame, feature_name: str):\n",
    "    \"\"\"\n",
    "    Plot the counts of unique values in a given feature.\n",
    "    \"\"\"\n",
    "    plt.figure(figsize=(6,4))\n",
    "    sns.countplot(\n",
    "        x=feature_name, data=dataset, \n",
    "        palette='pastel', hue=feature_name, legend=False\n",
    "    )\n",
    "    plt.title(f'counts of unique values in \"{feature_name}\" column')\n",
    "    plt.xlabel(feature_name)\n",
    "    plt.ylabel('counts')\n",
    "    plt.show()"
   ]
  },
  {
   "cell_type": "code",
   "execution_count": 0,
   "metadata": {
    "application/vnd.databricks.v1+cell": {
     "cellMetadata": {
      "byteLimit": 2048000,
      "rowLimit": 10000
     },
     "inputWidgets": {},
     "nuid": "a0c64960-f8ce-438d-8408-fbfc9dbd6d41",
     "showTitle": false,
     "tableResultSettingsMap": {},
     "title": ""
    }
   },
   "outputs": [
    {
     "output_type": "display_data",
     "data": {
      "image/png": "[encoded data removed]",
      "text/plain": [
       "<Figure size 600x400 with 1 Axes>"
      ]
     },
     "metadata": {},
     "output_type": "display_data"
    }
   ],
   "source": [
    "plot_counts_per_feature(\n",
    "  dataset=train_df, \n",
    "  feature_name=\"target\"\n",
    ")"
   ]
  },
  {
   "cell_type": "code",
   "execution_count": 0,
   "metadata": {
    "application/vnd.databricks.v1+cell": {
     "cellMetadata": {
      "byteLimit": 2048000,
      "rowLimit": 10000
     },
     "inputWidgets": {},
     "nuid": "761d7351-bb02-4971-a9af-68a983e45181",
     "showTitle": false,
     "tableResultSettingsMap": {},
     "title": ""
    }
   },
   "outputs": [
    {
     "output_type": "display_data",
     "data": {
      "image/png": "[encoded data removed]",
      "text/plain": [
       "<Figure size 600x400 with 1 Axes>"
      ]
     },
     "metadata": {},
     "output_type": "display_data"
    },
    {
     "output_type": "display_data",
     "data": {
      "image/png": "[encoded data removed]",
      "text/plain": [
       "<Figure size 600x400 with 1 Axes>"
      ]
     },
     "metadata": {},
     "output_type": "display_data"
    },
    {
     "output_type": "display_data",
     "data": {
      "image/png": "[encoded data removed]",
      "text/plain": [
       "<Figure size 600x400 with 1 Axes>"
      ]
     },
     "metadata": {},
     "output_type": "display_data"
    },
    {
     "output_type": "display_data",
     "data": {
      "image/png": "[encoded data removed]",
      "text/plain": [
       "<Figure size 600x400 with 1 Axes>"
      ]
     },
     "metadata": {},
     "output_type": "display_data"
    },
    {
     "output_type": "display_data",
     "data": {
      "image/png": "[encoded data removed]",
      "text/plain": [
       "<Figure size 600x400 with 1 Axes>"
      ]
     },
     "metadata": {},
     "output_type": "display_data"
    }
   ],
   "source": [
    "plot_counts_per_feature(\n",
    "    dataset=train_df,\n",
    "    feature_name=\"ind_02_cat\"  # a categorical indicator feature\n",
    ")\n",
    "\n",
    "plot_counts_per_feature(\n",
    "    dataset=train_df,\n",
    "    feature_name=\"car_01_cat\"  # a categorical vehicle feature\n",
    ")\n",
    "\n",
    "plot_counts_per_feature(\n",
    "    dataset=train_df,\n",
    "    feature_name=\"ind_06_bin\"  # a binary indicator feature\n",
    ")\n",
    "\n",
    "plot_counts_per_feature(\n",
    "    dataset=train_df,\n",
    "    feature_name=\"calc_15_bin\"  # a binary calculated feature\n",
    ")\n",
    "\n",
    "plot_counts_per_feature(\n",
    "    dataset=train_df,\n",
    "    feature_name=\"reg_01\"  # a regular feature\n",
    ")"
   ]
  },
  {
   "cell_type": "markdown",
   "metadata": {
    "application/vnd.databricks.v1+cell": {
     "cellMetadata": {},
     "inputWidgets": {},
     "nuid": "d541403a-0722-4a28-aecb-319ea34bbd5e",
     "showTitle": false,
     "tableResultSettingsMap": {},
     "title": ""
    }
   },
   "source": [
    "\n",
    "## plot correlation map"
   ]
  },
  {
   "cell_type": "code",
   "execution_count": 0,
   "metadata": {
    "application/vnd.databricks.v1+cell": {
     "cellMetadata": {
      "byteLimit": 2048000,
      "rowLimit": 10000
     },
     "inputWidgets": {},
     "nuid": "ad297e1c-804d-43cb-8427-ef7001f4b2b8",
     "showTitle": false,
     "tableResultSettingsMap": {},
     "title": ""
    }
   },
   "outputs": [
    {
     "output_type": "display_data",
     "data": {
      "text/html": [
       "<html>\n",
       "<head><meta charset=\"utf-8\" /></head>\n",
       "<body>\n",
       "    <div>            <script src=\"https://cdnjs.cloudflare.com/ajax/libs/mathjax/2.7.5/MathJax.js?config=TeX-AMS-MML_SVG\"></script><script type=\"text/javascript\">if (window.MathJax && window.MathJax.Hub && window.MathJax.Hub.Config) {window.MathJax.Hub.Config({SVG: {font: \"STIX-Web\"}});}</script>                <script type=\"text/javascript\">window.PlotlyConfig = {MathJaxConfig: 'local'};</script>\n",
       "        <script charset=\"utf-8\" src=\"https://cdn.plot.ly/plotly-2.35.2.min.js\"></script>                <div id=\"615cd22a-341d-4b22-807a-89455a80d719\" class=\"plotly-graph-div\" style=\"height:1000px; width:1000px;\"></div>            <script type=\"text/javascript\">                                    window.PLOTLYENV=window.PLOTLYENV || {};                                    if (document.getElementById(\"615cd22a-341d-4b22-807a-89455a80d719\")) {                    Plotly.newPlot(                        \"615cd22a-341d-4b22-807a-89455a80d719\",                        [{\"coloraxis\":\"coloraxis\",\"name\":\"0\",\"texttemplate\":\"%{z}\",\"x\":[\"id\",\"target\",\"ind_01\",\"ind_02_cat\",\"ind_03\",\"ind_04_cat\",\"ind_05_cat\",\"ind_06_bin\",\"ind_07_bin\",\"ind_08_bin\",\"ind_09_bin\",\"ind_10_bin\",\"ind_11_bin\",\"ind_12_bin\",\"ind_13_bin\",\"ind_14\",\"ind_15\",\"ind_16_bin\",\"ind_17_bin\",\"ind_18_bin\",\"reg_01\",\"reg_02\",\"reg_03\",\"car_01_cat\",\"car_02_cat\",\"car_03_cat\",\"car_04_cat\",\"car_05_cat\",\"car_06_cat\",\"car_07_cat\",\"car_08_cat\",\"car_09_cat\",\"car_10_cat\",\"car_11_cat\",\"car_11\",\"car_12\",\"car_13\",\"car_14\",\"car_15\",\"calc_01\",\"calc_02\",\"calc_03\",\"calc_04\",\"calc_05\",\"calc_06\",\"calc_07\",\"calc_08\",\"calc_09\",\"calc_10\",\"calc_11\",\"calc_12\",\"calc_13\",\"calc_14\",\"calc_15_bin\",\"calc_16_bin\",\"calc_17_bin\",\"calc_18_bin\",\"calc_19_bin\",\"calc_20_bin\"],\"y\":[\"id\",\"target\",\"ind_01\",\"ind_02_cat\",\"ind_03\",\"ind_04_cat\",\"ind_05_cat\",\"ind_06_bin\",\"ind_07_bin\",\"ind_08_bin\",\"ind_09_bin\",\"ind_10_bin\",\"ind_11_bin\",\"ind_12_bin\",\"ind_13_bin\",\"ind_14\",\"ind_15\",\"ind_16_bin\",\"ind_17_bin\",\"ind_18_bin\",\"reg_01\",\"reg_02\",\"reg_03\",\"car_01_cat\",\"car_02_cat\",\"car_03_cat\",\"car_04_cat\",\"car_05_cat\",\"car_06_cat\",\"car_07_cat\",\"car_08_cat\",\"car_09_cat\",\"car_10_cat\",\"car_11_cat\",\"car_11\",\"car_12\",\"car_13\",\"car_14\",\"car_15\",\"calc_01\",\"calc_02\",\"calc_03\",\"calc_04\",\"calc_05\",\"calc_06\",\"calc_07\",\"calc_08\",\"calc_09\",\"calc_10\",\"calc_11\",\"calc_12\",\"calc_13\",\"calc_14\",\"calc_15_bin\",\"calc_16_bin\",\"calc_17_bin\",\"calc_18_bin\",\"calc_19_bin\",\"calc_20_bin\"],\"z\":[[1.0,-0.0001884755338288617,0.0008258854725725193,0.0016461276514639531,-0.0013074125556911606,0.00016792048870333093,2.1710319687882825e-05,-9.329673377344849e-05,0.0024732074670059754,-0.00047893199093797294,-0.002207988997674901,-0.0012612850576084315,-0.0012098044261431328,-0.00017701120228207589,-0.0017178219451470902,-0.0011293527970858794,-0.001934992325309598,-0.0005004384418482244,0.0013438936799832733,0.0008157280242293081,-0.0009993133687911965,-0.0038291794039405224,-0.0009760797919191773,-0.0010523840432399496,-0.0004033449463715611,0.0003544609372827726,0.0023098896739933137,-0.0008497364319568806,-0.0010096893760928646,-0.0029555818094072015,0.0007475961383355612,0.0004940853380072005,-0.0009282837448050599,0.0020474413080606444,0.0026413932462155797,0.0010070996346632768,0.0019439866701193493,-0.0007367378891586208,0.0007094054685533157,-0.00033081559680855894,0.0007185552370915875,-0.00045116327598972454,0.0036383179612103017,-0.0005915908500661377,0.0009574769937878764,0.0007882447910808956,0.0008356128476278207,0.0005176341988577643,0.0009805335540469448,-0.0012488250195915361,-0.0010934546530963374,-0.00015701023640565565,0.001609423824807779,-0.0012272973917304445,-0.0014120059005200628,-0.001266582915695949,-0.001387012489514096,0.00019422494950414269,-0.0012665168671921183],[-0.0001884755338288617,1.0,0.018570258657506535,0.00453383136849816,0.008359590302657097,0.009360445255589966,0.029164946850886355,-0.03401686970378876,0.03421807451412262,0.01314697843872615,-0.00823681598558299,0.0018147796965898109,0.0020281711723569625,0.007810308443393542,0.00246029083193403,0.007442830964742972,-0.021506221687934316,-0.027778075788542734,0.037052606335855005,0.004555455715152848,0.022888044440398065,0.0348000208099459,0.030888104833059087,0.016255693742637686,-0.03153359612457287,0.032400970694275104,0.032899874940120546,0.020754434132826776,0.011536659955726385,-0.03639522258780317,-0.020341933485980065,0.005322494909291872,0.0010382993212007298,0.006128798326757138,-0.0012133568962176696,0.038789827661440346,0.05389877948477336,-0.004474145702374351,0.027667281027274605,0.0017819546519206666,0.0013596889783314007,0.0019069735964084003,3.2720455100222405e-05,0.0007708801365326378,8.182225978075785e-05,-0.00010347690485278524,-0.0010058548384191393,0.0007189675843641542,0.0010608340444789083,0.00037143739489093637,-0.0011325853981362505,-0.0004464645318087174,0.0013622753431191557,-0.0004904242506719329,0.0006238280115020942,-0.00017012817365768916,0.0005524351996118682,-0.0017438319546571681,-0.0010722284275397982],[0.0008258854725725193,0.018570258657506535,1.0,-0.0017931329140775944,0.22340759382986847,0.06664546508353122,0.014822561201261034,-0.27745768415808075,0.00569969365795639,0.18858311700154065,0.16279998618735886,0.0018472289098374266,-0.01672658784345133,-0.023405980337517524,-0.008775500240628932,-0.024971197063820172,0.12213672531018317,0.03689566374827914,0.1012570941332376,-0.11222626697683716,0.10221227306711012,0.18385483620594534,0.1391252233115453,-0.05612096023073561,-0.1169866467920175,0.04375596050029653,0.0790415505477597,0.21300928032912675,0.07019202187337271,-0.0006393452905868237,0.13811162890080816,-0.1025823298042105,0.010793696829651062,0.008187861301734246,0.00825152755479824,0.1618422038320014,0.09975165817660779,0.034479783406563706,-0.05672213750971908,-0.0008535289692727129,-0.00043735740742991195,0.001214035834498719,-0.0009430787753138474,-0.0011711899555747148,0.0001468321352008793,-0.0006583998180255231,0.002992806788917109,-8.533923304090555e-05,-0.0013449818796920148,-0.0012629092646128783,0.0015206567146658348,0.00019895341092257275,-0.0008910685014910404,-0.000396790212426193,-1.1545248111385099e-05,-0.0008675973201928163,-0.0015035875469012964,-0.00016221628124592368,-0.0014640083176233343],[0.0016461276514639531,0.00453383136849816,-0.0017931329140775944,1.0,-0.06118914649577105,0.14710969879178076,-0.014859825528708296,-0.12565283345802725,0.016398444130573675,0.030944960292278265,0.1100758227176296,-0.0007443279033836952,0.0007716519259243583,-0.004615510735839973,-0.0011867308079089051,-0.0036493908922690084,-0.0038542040298691796,0.012682148590420253,-0.018727145555724953,-0.0003739401590444408,0.0611178503292307,0.0842595593588261,0.07079034972823771,0.00214850245374989,0.04523308396698348,-0.0025317202816092376,-0.07218977632989523,-0.008406520927741008,-0.01730091230637514,-0.011780550385044154,0.0015257604786327662,0.009434534021788725,0.011401456422615553,0.014955195806606505,0.019948833190253253,-0.11024665424932405,-0.08040833367992441,-0.012271811269628589,-0.008391345891932403,0.0006830212582464691,0.0009323623048316802,-0.00032172815018461254,-0.0021110487327914455,-0.0015478301217311035,8.548689230280353e-05,-0.00017173251468899272,-0.0027117639544354424,0.00035567580972401837,-2.5425203495046437e-05,3.793867444663322e-05,-0.0008836458794260957,-0.0008928474834448281,-0.0005185257387862071,-0.0001091639435274442,0.0009195635201452163,0.0005472321892405295,0.0008240709263778052,0.0003668294896141741,-0.0020700765230598026],[-0.0013074125556911606,0.008359590302657097,0.22340759382986847,-0.06118914649577105,1.0,-0.09585556869304393,0.05325005441445909,-0.04515789199467836,-0.060367903957314756,0.014036610712041087,0.11130640018521898,0.006865123190642358,-0.003986479232333661,0.001697689177732781,0.003928626513903295,0.0019895460604955257,0.17044861491667543,-0.018251258015265386,0.027691181225138046,0.0013157749639168585,0.0032090528196610266,0.04833787406574787,0.0023481065027819727,-0.028519891228702923,-0.04490674148712065,0.09565776668522333,0.07298961054229085,0.14359654865840238,0.008021293226146316,0.056336933251669705,0.003607155114376228,-0.013205469282503664,-0.008560954021639582,-0.025965901728807413,-0.059357784611531364,0.08899150941196736,0.04830820123245432,0.0005391360130252846,-0.04809590727421897,0.0007032711004745273,-0.0003351083806524692,0.00017747792504557575,0.0007029223319983066,-0.001244839816125983,0.0023614979575574675,0.0015325306198597161,0.001266664959910297,-0.0015441777405826916,0.000230287338373583,-0.0027155418811399185,-0.002352333366999052,0.00013288787890949408,0.00020474960687078366,0.0001344327694191131,-0.0007442327813944093,0.000157731563274207,-0.0002179273213074755,-0.0008816797556198087,-0.003709408579276534],[0.00016792048870333093,0.009360445255589966,0.06664546508353122,0.14710969879178076,-0.09585556869304393,1.0,0.013052691401692348,-0.2977366046477001,0.3049493783334564,0.04497847332634309,-0.01144165781525834,0.0007887076973389001,0.0010183114528574887,-0.0012169376250814334,-0.0008934939930098885,-0.0006905936003553212,0.07707144391312327,0.01749705676812147,0.007830396023881593,-0.025797485873876425,0.023846491641185356,0.07947143098616738,0.0657023604142809,0.02937937195109524,0.003162109877964889,0.022744376399026083,-0.04536129801832949,0.06339932427116321,0.025323615320999925,0.06465523285480476,-0.00814754846801753,-0.04198301253597798,0.02301043283394903,-0.0006146254081094967,0.07348633332430111,-0.09516030876133817,-0.03223251121653613,-0.005595834981339791,0.04048015609863528,-0.0027525121198589578,-0.0005442114320181929,0.0002699574386530032,0.0008255181087075699,0.0010277988730797306,0.0026258399586142943,-0.00015073832344163923,-0.0027755450296133074,0.00048656988775536863,0.00012727421795224745,-0.0020008312385538024,-0.0008139493139821727,0.0002834052581409762,0.0015645496382111165,0.0027346762054245234,0.002295346203964965,0.0007734421027413762,0.0009158792230724631,-0.0019656334704160304,0.001243938381928246],[2.1710319687882825e-05,0.029164946850886355,0.014822561201261034,-0.014859825528708296,0.05325005441445909,0.013052691401692348,1.0,0.009618800838443482,-0.010382188667300002,0.004880747623598223,-0.005068731202141701,0.001742475414532642,-0.0006363666372238363,-0.001831240440546116,0.0013128732605405674,-0.0010128313488101447,0.012326335746025272,0.0043148996980541775,0.007162777067762242,-0.008252314414916537,-0.017836484594997634,-0.00912416871294536,-0.019509537535586347,-0.036212853041022904,0.012878919847941928,-0.011398778782571815,-0.01087319521611484,-0.006561608550007696,-0.0072299632053995895,0.05377652521320651,-0.002083953743338254,-0.008333774284921073,0.002168074446652444,-0.002249565476062125,0.00107554475707992,-0.016301764624630607,-0.015258561225975265,-0.0014268571232687972,-0.006629399975288067,-0.0017393955813606368,0.002378693719360294,-0.0015598327800527766,0.0012916973382756894,-0.0006420444921112528,-0.00024941758434445855,-0.0019023900274815755,-0.0001449036161313121,-0.0008217959389452798,-0.0010698729509168899,-0.0015247002980472058,0.0009753755080751557,0.001549156967187013,0.002170835213002712,0.0015480474512491566,-0.0003682362393573745,0.00015309117899007583,3.168678414855202e-05,0.0002764781762418728,0.00027869054705161115],[-9.329673377344849e-05,-0.03401686970378876,-0.27745768415808075,-0.12565283345802725,-0.04515789199467836,-0.2977366046477001,0.009618800838443482,1.0,-0.47400904185590065,-0.35683833274578663,-0.3843451401407788,-0.008977535013244928,-0.005229382248971487,-0.017498505238443797,-0.008390064166738214,-0.018333861999931117,0.016406205154351216,0.02835208353213777,-0.03712107367499544,-0.011750963576176823,-0.020750345290124747,-0.18343197799560323,-0.09675663148464039,-0.07554574375145577,0.13638274599348738,-0.07572310218075869,-0.18701667626422974,-0.16489012332440905,-0.059887308797517635,0.03899368073100131,0.03831307031695165,0.09918393763824071,-0.04105681120507276,-0.031296227706447,0.019617618116459623,-0.21811651438967192,-0.2722095330652726,-0.0056954987246857994,-0.16598063848470082,0.00018310230807848922,-0.0003179887164626955,0.0028589072643935834,-0.0004089715175719974,-0.0005006935696663839,-0.0014131826801772216,-0.0015526558607739192,-0.0011636516201258254,-0.001955110116004253,-0.0011970978269563854,0.000822002616531646,0.0013465275777943119,-0.0013011186998591806,0.00030393290259254327,0.002087860311907922,-0.0003814511646830381,-1.2555595091234793e-06,-0.0007593038072496054,0.0027907331412144387,0.00020310560100537925],[0.0024732074670059754,0.03421807451412262,0.00569969365795639,0.016398444130573675,-0.060367903957314756,0.3049493783334564,-0.010382188667300002,-0.47400904185590065,1.0,-0.2604376422119483,-0.28051342276950764,0.010739652662842743,0.010118980387019564,0.03661915640731901,0.012124758822770546,0.03557264161494319,-0.12072867940687827,-0.07232059014992281,0.02077615194714269,0.07656187216203816,-0.03033591859002916,0.07675038980547005,0.01336596986740329,0.06206386799788505,-0.1626010123600336,0.09648343943349459,0.19970161209131007,0.09210731694598842,0.021012550690521433,-0.06470797501921204,-0.12382519653908655,-0.0592293173221672,0.03055616289712624,0.047940110791918684,0.06745692509835807,0.20874670244922758,0.3477637312927325,-0.0447976251330531,0.19687277552061352,0.0004446972796375727,0.00022237887406058662,0.001112367204951705,0.0004704805518061534,-0.00020263779193792028,0.002257467971971457,-0.0007715341800744943,-0.001416721144687028,0.0031034025355962443,0.0027643720885982604,-0.0004476413449922488,-0.0010438535583305107,0.0005412369024749237,0.0016655249364763605,0.0005749746503449937,0.0012197619159721711,-0.0005167363145836902,0.00018148010907771236,-0.0013611791678382662,-0.0009608000950925157],[-0.00047893199093797294,0.01314697843872615,0.18858311700154065,0.030944960292278265,0.014036610712041087,0.04497847332634309,0.004880747623598223,-0.35683833274578663,-0.2604376422119483,1.0,-0.21117306476257283,0.00648910678812291,0.01004126116128275,0.012254073500153414,0.00789832266424952,0.015413123032177485,0.05277557417447597,0.005854905555369783,0.03603562289265076,-0.033272544654311044,-0.1365593763800165,-0.000125050292673346,-0.028469670778276546,0.0009741110543532989,-0.02998861680480674,0.038462429631775534,0.08495716267080043,0.06388874607199731,0.0633731246240447,-0.010976242373907905,0.0427922674881171,-0.01092006270648234,0.025327537974384917,0.04137147693429582,-0.08219336872997224,0.09811274497209344,0.04958799258606516,0.03641338225455374,0.015942231804067994,-0.00010952828067073569,-0.0004147814693629236,-0.001939925633449494,-0.000886292161431818,0.0006032890364046535,0.0012489817846111845,0.0015137952726527234,0.0008268945510473188,-0.0011713719830285256,-0.0010929434068361558,-0.0006318117597186088,-0.0012414424693482822,-0.0004320285599226011,-0.001959159535716181,-0.0027823010069026946,-0.002047724572754881,-0.0005794594623613974,-6.765604151575159e-05,-0.0009190393767006633,0.0009953591808107968],[-0.002207988997674901,-0.00823681598558299,0.16279998618735886,0.1100758227176296,0.11130640018521898,-0.01144165781525834,-0.005068731202141701,-0.3843451401407788,-0.28051342276950764,-0.21117306476257283,1.0,-0.006972868230142464,-0.014372442368659335,-0.03085777558224147,-0.01061212790836212,-0.03164026527129085,0.0648696072412233,0.04010922430466359,-0.011023469836738858,-0.039631180000228874,0.19032545045052762,0.14445614088363976,0.13376082946318849,0.024264102635430683,0.03995547974899175,-0.04994363372858587,-0.07038654070759681,0.042876133486040684,-0.008708840542970362,0.0342025767359246,0.05031732944387525,-0.04769976109596489,-0.0068714152391403166,-0.05398346478905472,-0.022223839633944514,-0.053987394016722194,-0.09608648866510511,0.022851395456945953,-0.027899553187449737,-0.000626039474195767,0.0005449511558696707,-0.0029976922279143395,0.0008295720883777965,0.00028269745744931654,-0.0019519948882590844,0.001377811100217233,0.0022687777239878753,8.41415927831592e-05,-0.0005624466536854737,7.181830788419638e-05,0.0006636678133101164,0.0014390105937547816,-0.0003887243838992524,-0.000621106833525824,0.0010588568857560125,0.0011348640561092116,0.0008151460825754955,-0.0011026523735666283,-0.00012315711435225912],[-0.0012612850576084315,0.0018147796965898109,0.0018472289098374266,-0.0007443279033836952,0.006865123190642358,0.0007887076973389001,0.001742475414532642,-0.008977535013244928,0.010739652662842743,0.00648910678812291,-0.006972868230142464,1.0,0.06483734787255138,0.09799846252846069,0.08141549712952234,0.26621523092448607,-0.022122320890722195,-0.02402137565373142,0.005366401619387072,0.027264135678883677,0.004434526307696737,0.01177333523717406,0.006581581114522774,0.007989028500674941,-0.015804418556358685,0.024833271794445742,0.016566215782234283,0.015251836567305199,0.004487183793875703,-0.017804258593691946,-0.00365962070244524,0.00826644095651261,0.0007083813828402774,0.005909491658796863,0.0025262371890389795,0.014984978865516516,0.01907565963295583,-0.0020769796272439313,0.0009987278931955555,-0.0005289461391680904,-0.0005485808723860874,0.0008888978366146046,3.1000198017766065e-05,0.0013288695124036788,-0.002677298661139917,0.0012737060249414815,0.0014216349339402805,0.002842382982119299,-0.00036716982018740517,-0.0023492443946824377,0.0013666102034255417,0.001968875596117635,0.00023239812553012024,-0.0032329018832703716,0.0010115230415514774,0.00034511455870640405,0.00023955239726456678,0.0015546541592544052,-0.003389818864850354],[-0.0012098044261431328,0.0020281711723569625,-0.01672658784345133,0.0007716519259243583,-0.003986479232333661,0.0010183114528574887,-0.0006363666372238363,-0.005229382248971487,0.010118980387019564,0.01004126116128275,-0.014372442368659335,0.06483734787255138,1.0,0.25007638185970965,0.1794321903326253,0.5649029739333457,-0.061251275473340375,-0.0540074226643599,0.0035177531682558942,0.06901728994326506,0.007068013921852923,0.0025120444827453586,0.0026267664704917454,0.0042048920721662105,-0.002474353574915442,0.04610459759768675,0.0085945059625506,0.030782623751734642,0.0022573006998290747,-0.016299801093019185,-0.0044735785340234025,0.021168527983197474,-0.0018207469445127144,0.005671365912101772,0.001154208305592368,0.0034020295485755986,0.0011237021609740365,-0.014410415966481566,-0.008859182719836002,0.00045483067241534853,-0.0001904214608612394,0.00037047224411990794,-0.0011960063936610893,-0.00011120385630559379,0.0009108295017515643,-0.0017878545885293084,0.0009946385801930036,0.0006751295016578906,0.0010608594409770634,0.00018449154616455044,-0.0006120933976261155,0.00030406758932433335,-0.0007858590549898202,-0.0006590162500354598,0.0014178496831878235,0.0010641208942453434,-0.0011015992238865807,-0.001240728524270899,0.0004094125500090158],[-0.00017701120228207589,0.007810308443393542,-0.023405980337517524,-0.004615510735839973,0.001697689177732781,-0.0012169376250814334,-0.001831240440546116,-0.017498505238443797,0.03661915640731901,0.012254073500153414,-0.03085777558224147,0.09799846252846069,0.25007638185970965,1.0,0.15172760153857986,0.8901272526545638,-0.11699521962411863,-0.09944135106476579,0.02518058116953121,0.10928667412377306,0.013775603943364995,0.007077203967874732,0.007057353273314073,0.016351323808765986,-0.01722907241506039,0.12076679710050318,0.027940354431978034,0.07047807765090647,0.004409331864014702,-0.03441622646998587,-0.013323354070164575,0.044120564246909987,-0.00508592585113693,0.011473568431545473,0.004440512322791722,0.018348873283098595,0.022613636800901758,-0.026771074778764413,-0.0015128137997547563,0.001371438126653363,-0.001083620532643572,-0.0018667327166879291,-0.0010630051163157137,0.00018512789954192084,0.0005169369254961482,0.0017231519792362958,0.0037837821118346824,-0.0020161776675533686,0.0019267518147431442,0.00012896012169149823,0.0008132382695526005,0.0005585972004819212,-0.0005013388256770008,-0.0016324069179149605,0.0017539182011456023,0.0013843957989970695,-0.0013589599814288781,-0.001779382287807932,0.0031663201946022547],[-0.0017178219451470902,0.00246029083193403,-0.008775500240628932,-0.0011867308079089051,0.003928626513903295,-0.0008934939930098885,0.0013128732605405674,-0.008390064166738214,0.012124758822770546,0.00789832266424952,-0.01061212790836212,0.08141549712952234,0.1794321903326253,0.15172760153857986,1.0,0.4263998836255218,-0.040485851127797366,-0.04068044208739153,0.0041361256641475955,0.050823104091766845,0.0029046480696491655,0.005497434981506161,0.0017158462928508781,0.005814603173879321,-0.008441249275001582,0.0377182760422602,0.014655985827389813,0.02347110679423096,0.0016058356563030697,-0.015614273025673404,-0.005009607474508767,0.014756941996862139,0.00025957963229845135,0.004531083396472349,0.0012340690299426076,0.009788955246601488,0.010497959918045308,-0.007112543151415236,-0.003207556039142782,0.0009197313047596582,-0.0010788587853095622,0.001993873267159186,0.00034928436518941267,-0.0004156835108901136,-0.0021626888021852183,0.0004136479843598627,0.002790331203399629,-0.002330326502165297,0.0009485297239872661,-0.00018583926200945724,-0.0014181281398898933,-0.002125385276738932,0.0008745250585350082,0.0004916403631589377,0.0015699943019599183,-0.0029176616014177973,-0.00011712544370351973,0.002079286759967088,-0.0009808134646700517],[-0.0011293527970858794,0.007442830964742972,-0.024971197063820172,-0.0036493908922690084,0.0019895460604955257,-0.0006905936003553212,-0.0010128313488101447,-0.018333861999931117,0.03557264161494319,0.015413123032177485,-0.03164026527129085,0.26621523092448607,0.5649029739333457,0.8901272526545638,0.4263998836255218,1.0,-0.12154712140311677,-0.106239689861127,0.02203333701058792,0.12147762405541038,0.014092904933896555,0.009283248827090073,0.007606946298943227,0.016363129867995888,-0.01828775355074768,0.11926866345761901,0.029994631058182668,0.07131983388437584,0.005136795765281479,-0.03780543277647762,-0.013304549300039097,0.04508043877617706,-0.004272510572028673,0.012513326139616473,0.004418449708877969,0.01963665458573406,0.022926024909263525,-0.02696892907453184,-0.004624026399939924,0.0013280478554245497,-0.0012261663535243564,-0.0006802619593063297,-0.0011022975070719497,0.00020541688400003567,-0.0002416453387590575,0.0010228747040333251,0.004077353989613895,-0.0014427896242199597,0.001975748285363052,-0.0002432697006175229,0.0002840910135919725,0.00030681115008979426,-0.0003871413338074719,-0.001820720685571289,0.002318386702039322,0.0007408167748215124,-0.0013771848219666489,-0.0010118034751282255,0.0017825538619420395],[-0.001934992325309598,-0.021506221687934316,0.12213672531018317,-0.0038542040298691796,0.17044861491667543,0.07707144391312327,0.012326335746025272,0.016406205154351216,-0.12072867940687827,0.05277557417447597,0.0648696072412233,-0.022122320890722195,-0.061251275473340375,-0.11699521962411863,-0.040485851127797366,-0.12154712140311677,1.0,0.3124495031022657,-0.02188413031183136,-0.4516894099742072,-0.051826025292662274,0.02170238389520979,0.001955798530229276,0.02569045128606022,0.00899010637483375,0.06539839780086634,-0.047147427101064614,0.05151699052704684,0.0008576242267399711,0.05970332843157361,0.016783815050164748,0.03787983280939092,0.016128999534946106,-0.014094740994885382,0.02299969506196376,-0.02800163122565338,-0.037884689247150126,-0.0052533094305319125,-0.007925463856517271,-0.0019604336170380298,-0.0013847694183889705,0.0007252256408198473,0.001583612723436242,0.0008742837980309493,3.349415158363572e-05,0.0017213970445803973,-0.0013086573803491668,-0.0009849673818418103,-0.0012787059555369506,-0.0019515651504138044,-0.0012626527588530665,-0.000921686741159908,0.0013483433788114031,0.0007020649300867855,-0.001915365956106812,0.0011762611405260832,-0.0013255253293403624,0.0017437917830255083,-0.0020395145220801205],[-0.0005004384418482244,-0.027778075788542734,0.03689566374827914,0.012682148590420253,-0.018251258015265386,0.01749705676812147,0.0043148996980541775,0.02835208353213777,-0.07232059014992281,0.005854905555369783,0.04010922430466359,-0.02402137565373142,-0.0540074226643599,-0.09944135106476579,-0.04068044208739153,-0.106239689861127,0.3124495031022657,1.0,-0.5180763597376604,-0.5942654327422761,-0.05627085936984964,0.006251132733477105,-0.016616270809152536,0.00044932875105786117,0.030264159750243883,-0.04949269493946449,-0.04443245801607432,-0.058248842391420516,-0.016400415460856074,0.04383000428941703,0.03026590825430404,0.015873261962410123,0.006596901955516886,-0.009989048367143528,0.021089277139603096,-0.037122692582544276,-0.03853594820809059,0.01082495592464145,0.007747278696703355,-0.0008375234363638301,-0.0004394722861199063,-6.829083962919747e-05,-0.00015427566393725136,0.0013615649246193945,-0.0003549050683784064,0.0010701810792920843,-0.0019205651214934604,-0.0004273838950783198,-0.0009309516956551648,-0.0005474330902515618,0.00047885679021953564,-0.0012057081347718506,-0.00016701443375198525,0.000928933859436279,-0.0004946092252123201,-0.000432323026064183,9.26933091093104e-05,0.0003020462737220039,0.001519207560397156],[0.0013438936799832733,0.037052606335855005,0.1012570941332376,-0.018727145555724953,0.027691181225138046,0.007830396023881593,0.007162777067762242,-0.03712107367499544,0.02077615194714269,0.03603562289265076,-0.011023469836738858,0.005366401619387072,0.0035177531682558942,0.02518058116953121,0.0041361256641475955,0.02203333701058792,-0.02188413031183136,-0.5180763597376604,1.0,-0.15802098729292113,0.06996660829675402,0.03338273031566222,0.05923721768265709,0.058875653615432226,-0.05625958463625057,0.13732818747640027,0.044550019804100456,0.06773302596234079,0.0340671326887404,-0.04366212443161366,-0.00820021619366301,0.07609946186510466,-0.008669005786247434,0.007732623493302297,0.008827122880141482,0.05578514985825744,0.055625513376341675,-0.012649596747012182,0.009854482659798687,7.902337008938135e-05,-0.0012556132001177338,0.0014751095593464084,0.0006707357574948884,-0.002826707031906842,-0.00033818799337827937,-0.0007815553133850878,-0.0006022847454017239,0.000591321147031268,-0.0006993075561928123,-0.0010905132359761071,-0.0008502466566824664,0.00042878043890859477,0.0007460892730811583,-0.0015898973720920525,-0.00021109233161472496,-0.0002421374844425615,4.6684570862882744e-05,-0.0007755225209412626,-0.001922700612824353],[0.0008157280242293081,0.004555455715152848,-0.11222626697683716,-0.0003739401590444408,0.0013157749639168585,-0.025797485873876425,-0.008252314414916537,-0.011750963576176823,0.07656187216203816,-0.033272544654311044,-0.039631180000228874,0.027264135678883677,0.06901728994326506,0.10928667412377306,0.050823104091766845,0.12147762405541038,-0.4516894099742072,-0.5942654327422761,-0.15802098729292113,1.0,0.020074505759216977,-0.027022627866365015,-0.02151507617171306,-0.04596757669594359,0.006388259993779028,-0.041079456852142725,0.018748038227366905,-0.003212068860615737,-0.007200395427363072,-0.017357635513052336,-0.027826551074893967,-0.044733473917460624,-0.003241940278548797,0.004609844546416747,-0.02613502452139039,0.00037728916132393267,0.0016486843357900515,-0.004943553861171671,-0.02009287786387911,0.00279495106082008,0.0009987317655430195,-0.001802556494461432,-0.0009732616497496337,-0.0001956279446045222,0.001124606656781667,-2.5850049554222618e-05,0.0018345907179115205,0.00011597648018878906,0.0013640036829747895,0.002110541450555667,0.0015743622718326646,0.0019922297476804548,-0.0012387502670017302,-0.0003786053015244637,-8.221784186824308e-05,6.434466221087021e-05,7.039774777351157e-05,-0.0007859433395340347,0.0007240485980728472],[-0.0009993133687911965,0.022888044440398065,0.10221227306711012,0.0611178503292307,0.0032090528196610266,0.023846491641185356,-0.017836484594997634,-0.020750345290124747,-0.03033591859002916,-0.1365593763800165,0.19032545045052762,0.004434526307696737,0.007068013921852923,0.013775603943364995,0.0029046480696491655,0.014092904933896555,-0.051826025292662274,-0.05627085936984964,0.06996660829675402,0.020074505759216977,1.0,0.47102706969997704,0.6370345334689596,0.18426618123666766,-0.07927600476313756,0.024797456339113403,-0.006755133221961059,-0.015567334697956457,0.06994854926890032,-0.04554093026747941,-0.012216762140836933,0.06650939920480455,-0.02299839529155648,0.00928802761575742,0.07716792390755042,0.018802163992253557,0.027097332675297077,0.012703956205455842,0.0027645233072028296,-0.000891309608889123,0.002194436907319185,-0.0015381674281400607,0.00036790918115578723,-0.0007819704989158228,-0.0025165260049060767,0.00042407251414635863,-0.0025145761310513873,0.0001038604000736565,-0.0010071233537981583,-0.0004331699563874828,0.0009675954210049824,-0.0029202028162277475,-0.00017739269793537536,0.0006033375546499378,9.357411852451359e-05,0.001077885692651476,0.0019622336075272614,0.0011091781490393652,0.0017388225483738994],[-0.0038291794039405224,0.0348000208099459,0.18385483620594534,0.0842595593588261,0.04833787406574787,0.07947143098616738,-0.00912416871294536,-0.18343197799560323,0.07675038980547005,-0.000125050292673346,0.14445614088363976,0.01177333523717406,0.0025120444827453586,0.007077203967874732,0.005497434981506161,0.009283248827090073,0.02170238389520979,0.006251132733477105,0.03338273031566222,-0.027022627866365015,0.47102706969997704,1.0,0.5164571870212986,0.23170952355107358,-0.21680801276932424,0.10431664398433979,0.10768871166538885,0.10942143748532787,0.09298393877284963,-0.06965096371444167,-0.021661363324342535,0.024386408040954502,0.01750115809234753,0.04373246357267001,0.0681589681758491,0.17141577677440026,0.19431602128922323,0.004147129522128412,0.05451043105424667,0.001346934846575985,-0.0007702025529729596,2.223867795546252e-05,0.0009800234873808364,-0.0014604029509632309,0.00035217664880778305,-3.940637902469473e-05,-0.0004013550822231837,0.0011102173182750224,0.00018998010029056813,0.000295973603795303,0.0009246269522731171,-0.0033530357370669768,-0.0019034671178565267,-0.0006436359600499569,0.0005905118263573318,0.0022366053815199,0.00044513082160988523,-0.0011367137981826948,-0.0006580189446435276],[-0.0009760797919191773,0.030888104833059087,0.1391252233115453,0.07079034972823771,0.0023481065027819727,0.0657023604142809,-0.019509537535586347,-0.09675663148464039,0.01336596986740329,-0.028469670778276546,0.13376082946318849,0.006581581114522774,0.0026267664704917454,0.007057353273314073,0.0017158462928508781,0.007606946298943227,0.001955798530229276,-0.016616270809152536,0.05923721768265709,-0.02151507617171306,0.6370345334689596,0.5164571870212986,1.0,0.23033937563691076,-0.1356904095301254,0.05490246062322373,0.039214515415278595,0.026596096713118404,0.0981536371560562,-0.0533556231172876,-0.017481789868416985,0.06016068951388661,0.0005303300634044175,0.02882561229361802,0.0803864187929163,0.08257845165920216,0.09941515095192612,0.0062713770469711005,0.02293043333681244,-0.0014843862916825094,0.002147095174306001,-0.0004013973730358622,0.0017519087860981093,-0.001292495641227447,-0.0018653917814664318,-0.0004647562958039385,-0.002728418345824668,0.00015079137199859778,-0.0001384235049648807,-0.00034705848412840725,0.0013574845891191193,-0.0020152175085250417,-0.000637418123338626,0.0003944248478734401,0.001980590406019026,0.001573986262444816,0.0009154648168244687,0.000963471163100389,-8.602422445407714e-05],[-0.0010523840432399496,0.016255693742637686,-0.05612096023073561,0.00214850245374989,-0.028519891228702923,0.02937937195109524,-0.036212853041022904,-0.07554574375145577,0.06206386799788505,0.0009741110543532989,0.024264102635430683,0.007989028500674941,0.0042048920721662105,0.016351323808765986,0.005814603173879321,0.016363129867995888,0.02569045128606022,0.00044932875105786117,0.058875653615432226,-0.04596757669594359,0.18426618123666766,0.23170952355107358,0.23033937563691076,1.0,-0.1527326305202657,0.13805458898633027,0.067732393302395,-0.14725757311134435,0.05332586747347315,0.0010712044261129016,-0.05954768418603375,0.27290021926541275,0.006355097797608369,0.010497666747185217,0.11092050571881658,0.12598675160367392,0.1671272006633996,-0.027169587364249556,0.10268345325827993,0.0005801686627440297,0.0020083357967410065,1.0226119243097642e-05,0.0003954303917060711,-0.0012297197856098755,-0.0012509298116333439,-0.0006230035403697138,-0.001207073641473125,4.220234506755867e-05,0.0014431604443318454,-0.0004247629899175609,-0.0007933308500309729,0.0008740417878425334,6.95669943874719e-05,0.0009652394539101881,-0.0010678795853459174,0.0004024551616458192,0.0003641136670927075,0.0005198560815098639,-0.0005613985985714569],[-0.0004033449463715611,-0.03153359612457287,-0.1169866467920175,0.04523308396698348,-0.04490674148712065,0.003162109877964889,0.012878919847941928,0.13638274599348738,-0.1626010123600336,-0.02998861680480674,0.03995547974899175,-0.015804418556358685,-0.002474353574915442,-0.01722907241506039,-0.008441249275001582,-0.01828775355074768,0.00899010637483375,0.030264159750243883,-0.05625958463625057,0.006388259993779028,-0.07927600476313756,-0.21680801276932424,-0.1356904095301254,-0.1527326305202657,1.0,-0.11109462485657533,-0.27367236888619156,-0.09208322478163421,-0.25308889280600144,0.10363238078759578,0.03604366860466036,-0.012977575535680831,-0.019088186796559166,-0.0009649638104166794,-0.09014365639883624,-0.46934505447190006,-0.4829627187893788,-0.04069311064846172,-0.07630358777591789,0.00027231919941140176,-0.0018662008280451003,-0.002979879089125573,0.00028670069159318856,0.00043965375966645417,-0.0018349663534806147,-4.2806839795007884e-05,0.000685063371450163,-0.0005509059261274756,-0.0005988402310767637,-0.0008341968657931889,0.0020520906048643517,0.0012427813649456252,-9.926418773619016e-05,-1.4807280235949815e-05,-0.0029475272140969564,-0.001077583489975626,-0.0011509779965209698,-0.0014296408355096264,0.0009304624944871983],[0.0003544609372827726,0.032400970694275104,0.04375596050029653,-0.0025317202816092376,0.09565776668522333,0.022744376399026083,-0.011398778782571815,-0.07572310218075869,0.09648343943349459,0.038462429631775534,-0.04994363372858587,0.024833271794445742,0.04610459759768675,0.12076679710050318,0.0377182760422602,0.11926866345761901,0.06539839780086634,-0.04949269493946449,0.13732818747640027,-0.041079456852142725,0.024797456339113403,0.10431664398433979,0.05490246062322373,0.13805458898633027,-0.11109462485657533,1.0,0.09719274174853969,0.48978942740784726,0.03305829220475693,-0.1483385551523895,-0.24866229809247814,0.2724071564135307,0.014220105244585708,0.015778200128538252,0.08254922005109025,0.06757883790658037,0.18468960901200687,-0.16338476540012378,0.13033623216059106,0.004565428852985013,0.001439436028498539,0.00019851816229553052,-0.0004509803278143931,-0.0003693202386897241,0.00043014794862627587,0.003070667843488631,0.0021179978533095375,0.0003282253752557591,0.0012104089806038827,-0.0026947000599002163,-0.002595880715245505,0.0008592066483024779,0.0012823032623227356,-0.0004809622024844747,-0.000900009112242032,-0.0021900877080210674,-0.0013022430575787994,-0.00041450859584372094,0.0014224541267771362],[0.0023098896739933137,0.032899874940120546,0.0790415505477597,-0.07218977632989523,0.07298961054229085,-0.04536129801832949,-0.01087319521611484,-0.18701667626422974,0.19970161209131007,0.08495716267080043,-0.07038654070759681,0.016566215782234283,0.0085945059625506,0.027940354431978034,0.014655985827389813,0.029994631058182668,-0.047147427101064614,-0.04443245801607432,0.044550019804100456,0.018748038227366905,-0.006755133221961059,0.10768871166538885,0.039214515415278595,0.067732393302395,-0.27367236888619156,0.09719274174853969,1.0,0.14100313376171197,0.19401461615439022,-0.18337425915248687,-0.051065725258350535,-0.039405291747578,0.000720610959039244,0.0704461484683812,-0.0573260789818462,0.5700279834874092,0.5951731740119304,0.05881080975888908,0.08437426526661172,-0.0007657743408270044,-0.0017481320703085093,0.0003181993670884832,0.0009314839836572797,0.0015387904761009362,0.000871700118205042,0.0002434918758918964,0.001215931309403626,-0.0003188249939387811,0.0014737778917998585,0.001198066784985588,0.0017213100009014935,0.00042311633950088267,-0.0023388274799040387,0.0013882598831327169,0.000579727172497131,0.0006342039000327394,0.00012764466563053707,-0.0003200957840412163,-0.0005301916337567397],[-0.0008497364319568806,0.020754434132826776,0.21300928032912675,-0.008406520927741008,0.14359654865840238,0.06339932427116321,-0.006561608550007696,-0.16489012332440905,0.09210731694598842,0.06388874607199731,0.042876133486040684,0.015251836567305199,0.030782623751734642,0.07047807765090647,0.02347110679423096,0.07131983388437584,0.05151699052704684,-0.058248842391420516,0.06773302596234079,-0.003212068860615737,-0.015567334697956457,0.10942143748532787,0.026596096713118404,-0.14725757311134435,-0.09208322478163421,0.48978942740784726,0.14100313376171197,1.0,0.0610682766238693,-0.08375675814605713,-0.039809019414298305,-0.3277505348268821,0.02348969807689091,0.038105414387586516,-0.07678547179357709,0.1270254424718098,0.12265479749999442,-0.07534633029243663,-0.04322190315795761,0.0039760194722000194,2.7286182473841283e-05,0.0017537103222571638,-0.0016589918561348144,0.00045146382393345454,0.0004128396727017668,0.0004412278133604194,0.0016640401043848303,4.603530801216634e-05,-0.0016082481209460618,-0.0017017001612186584,-0.00035882930966854473,0.0013216260013875014,0.001863807293097441,-0.0014997038236239928,0.0013959473143630471,-0.0028145541534887798,-0.0008849150440565294,-0.0024179401571196727,0.0001499412738778608],[-0.0010096893760928646,0.011536659955726385,0.07019202187337271,-0.01730091230637514,0.008021293226146316,0.025323615320999925,-0.0072299632053995895,-0.059887308797517635,0.021012550690521433,0.0633731246240447,-0.008708840542970362,0.004487183793875703,0.0022573006998290747,0.004409331864014702,0.0016058356563030697,0.005136795765281479,0.0008576242267399711,-0.016400415460856074,0.0340671326887404,-0.007200395427363072,0.06994854926890032,0.09298393877284963,0.0981536371560562,0.05332586747347315,-0.25308889280600144,0.03305829220475693,0.19401461615439022,0.0610682766238693,1.0,-0.02611622835411814,-0.014611818480659572,0.00332556907391343,-0.0032214358762773622,0.02538467026236855,-0.030801632989563767,0.27348793356411105,0.20526321903519604,0.053873132523326726,-0.01795361367477994,-1.927372762617195e-05,0.0006039038865445447,0.0002838816386566306,0.0008598200601896396,0.00157461285245382,0.0011103477393886192,-4.896531776827232e-05,0.0004921695588309738,0.0025789004953305486,-0.0008241917715071704,0.0011949560411559218,0.0004671486827777795,-0.0020202515720043877,0.0008061524226690235,0.000689803382340044,0.0012045255571496128,0.0001356500415863611,3.4775541413476665e-05,-0.0023403993866281878,-0.0005226832895863497],[-0.0029555818094072015,-0.03639522258780317,-0.0006393452905868237,-0.011780550385044154,0.056336933251669705,0.06465523285480476,0.05377652521320651,0.03899368073100131,-0.06470797501921204,-0.010976242373907905,0.0342025767359246,-0.017804258593691946,-0.016299801093019185,-0.03441622646998587,-0.015614273025673404,-0.03780543277647762,0.05970332843157361,0.04383000428941703,-0.04366212443161366,-0.017357635513052336,-0.04554093026747941,-0.06965096371444167,-0.0533556231172876,0.0010712044261129016,0.10363238078759578,-0.1483385551523895,-0.18337425915248687,-0.08375675814605713,-0.02611622835411814,1.0,0.06452922604343284,-0.03960711477269268,0.0044291015579415146,-0.07832725913625221,0.05573757109188191,-0.12577730676548265,-0.22341197403721402,0.020895111029257944,-0.03645653687188189,-0.0009673135468468675,-0.001281340272801143,-0.002018458977388142,0.00014317246993780027,-0.001766245537550099,0.0013053744161650508,-9.291203883231048e-05,0.0005499792456161905,-0.0014661881547167342,-0.00126972104570452,0.0005028118507514468,0.0001369791532856534,0.0014953290730697968,0.00029514287044668617,-0.0004381102787180161,-0.0012544219062167932,0.0005855222178469649,0.00034706241877984433,0.001779644692049721,-0.0023689086360795504],[0.0007475961383355612,-0.020341933485980065,0.13811162890080816,0.0015257604786327662,0.003607155114376228,-0.00814754846801753,-0.002083953743338254,0.03831307031695165,-0.12382519653908655,0.0427922674881171,0.05031732944387525,-0.00365962070244524,-0.0044735785340234025,-0.013323354070164575,-0.005009607474508767,-0.013304549300039097,0.016783815050164748,0.03026590825430404,-0.00820021619366301,-0.027826551074893967,-0.012216762140836933,-0.021661363324342535,-0.017481789868416985,-0.05954768418603375,0.03604366860466036,-0.24866229809247814,-0.051065725258350535,-0.039809019414298305,-0.014611818480659572,0.06452922604343284,1.0,-0.01629853642416545,-0.03125167998581104,0.034364928649546336,-0.03852390264179931,-0.0316494561206594,-0.3700087699934902,0.16001032432118192,-0.37426557911110564,-0.0014796792147903524,-0.00024214958687915903,0.0016041730730022284,-0.0013407294190590567,-0.0005443907527122171,-0.0014563424458635254,-0.0014425071088963843,2.6762473594795134e-05,-0.0005307547879908729,-0.002119260300436465,0.0015842335640350936,0.0006383022193048909,0.0003935211621869506,-0.0011690267707114414,-0.0010101875324818037,0.0020955546330995254,0.0013782617362007408,-0.0010009801233348515,0.00037910847774122794,0.0002479460755647001],[0.0004940853380072005,0.005322494909291872,-0.1025823298042105,0.009434534021788725,-0.013205469282503664,-0.04198301253597798,-0.008333774284921073,0.09918393763824071,-0.0592293173221672,-0.01092006270648234,-0.04769976109596489,0.00826644095651261,0.021168527983197474,0.044120564246909987,0.014756941996862139,0.04508043877617706,0.03787983280939092,0.015873261962410123,0.07609946186510466,-0.044733473917460624,0.06650939920480455,0.024386408040954502,0.06016068951388661,0.27290021926541275,-0.012977575535680831,0.2724071564135307,-0.039405291747578,-0.3277505348268821,0.00332556907391343,-0.03960711477269268,-0.01629853642416545,1.0,-0.023541068642756197,-0.011188268526019807,0.11896944421500298,-0.03309510425147711,-0.057477889570233615,-0.06160436590341034,-0.04896732180377641,0.0006391651346948859,0.000834446357954385,0.000694925764171725,0.0010399053973847712,0.0007423801429440459,-0.0017702971365074723,0.0020812179822101546,-0.0016920322564635982,-0.0012319557421361167,0.0012705153842238798,-0.0011916824704647467,-0.0004672662506228167,-0.0004903231499660531,-0.0010919839975845078,0.0009521778464269998,-0.0010595306612710786,-0.0005462931019553125,0.0016412416111071387,0.0012730291759389459,0.000545645086234742],[-0.0009282837448050599,0.0010382993212007298,0.010793696829651062,0.011401456422615553,-0.008560954021639582,0.02301043283394903,0.002168074446652444,-0.04105681120507276,0.03055616289712624,0.025327537974384917,-0.0068714152391403166,0.0007083813828402774,-0.0018207469445127144,-0.00508592585113693,0.00025957963229845135,-0.004272510572028673,0.016128999534946106,0.006596901955516886,-0.008669005786247434,-0.003241940278548797,-0.02299839529155648,0.01750115809234753,0.0005303300634044175,0.006355097797608369,-0.019088186796559166,0.014220105244585708,0.000720610959039244,0.02348969807689091,-0.0032214358762773622,0.0044291015579415146,-0.03125167998581104,-0.023541068642756197,1.0,0.0034926119778279107,0.013412995647663671,-0.018057833635234492,0.034531943874624556,-0.0020802897243361795,0.05284121778260303,0.0007859766765541309,0.0006856599715089723,-0.002117471375343967,-0.0022041886801724966,-0.00016428189498505667,-0.0016314199086927635,3.345833882899232e-06,0.002907789216375729,-0.0014115273416177374,-0.0015616995757234328,0.001816659689651751,0.0024027112854159804,0.0029880880242695684,-0.0003593050636786701,-0.0008346704499100793,0.001021239320656569,-0.0005117859571024149,0.0007416018344101211,-0.0005855613681816042,0.00023838942051957303],[0.0020474413080606444,0.006128798326757138,0.008187861301734246,0.014955195806606505,-0.025965901728807413,-0.0006146254081094967,-0.002249565476062125,-0.031296227706447,0.047940110791918684,0.04137147693429582,-0.05398346478905472,0.005909491658796863,0.005671365912101772,0.011473568431545473,0.004531083396472349,0.012513326139616473,-0.014094740994885382,-0.009989048367143528,0.007732623493302297,0.004609844546416747,0.00928802761575742,0.04373246357267001,0.02882561229361802,0.010497666747185217,-0.0009649638104166794,0.015778200128538252,0.0704461484683812,0.038105414387586516,0.02538467026236855,-0.07832725913625221,0.034364928649546336,-0.011188268526019807,0.0034926119778279107,1.0,-0.04976970779843196,0.038618565341382236,0.04860589413240378,0.0025217424661261164,-0.04388140822989615,-0.0008169966420410727,-0.0006100227037756054,0.00013427154514363094,0.00021324227842177014,-0.00018470178610373135,-0.001030552732421399,0.0016531383200807618,-7.104884064442889e-05,0.0016651672130308952,0.001661053471775787,1.1254065435811081e-05,-0.00035862222351401715,-0.000578026659641811,0.0002478062054979929,-0.0011744468682769224,0.0020541819917924507,0.0029192141505096658,-0.0004828954298308084,-0.0003423887666784932,0.0015132572839368853],[0.0026413932462155797,-0.0012133568962176696,0.00825152755479824,0.019948833190253253,-0.059357784611531364,0.07348633332430111,0.00107554475707992,0.019617618116459623,0.06745692509835807,-0.08219336872997224,-0.022223839633944514,0.0025262371890389795,0.001154208305592368,0.004440512322791722,0.0012340690299426076,0.004418449708877969,0.02299969506196376,0.021089277139603096,0.008827122880141482,-0.02613502452139039,0.07716792390755042,0.0681589681758491,0.0803864187929163,0.11092050571881658,-0.09014365639883624,0.08254922005109025,-0.0573260789818462,-0.07678547179357709,-0.030801632989563767,0.05573757109188191,-0.03852390264179931,0.11896944421500298,0.013412995647663671,-0.04976970779843196,1.0,0.05682930291478594,0.10179671865365265,-0.05765582664050542,0.10968267368294407,0.00011158337101021995,0.0017016142812674158,-0.0016385080084200486,0.0002249694527866357,0.002458872518486961,-0.0002511156074101972,-0.0003302318320871622,-0.002458276048013527,-0.0005101365289598746,-0.0005672563408689047,-0.001206330546667298,-0.0011809019951366634,0.0011334652327895202,0.0009449124419320974,-0.0007033351603276393,0.0005081330268082903,-9.260927347074229e-05,0.0009303397770717671,0.002231261537685798,0.0012800385583023688],[0.0010070996346632768,0.038789827661440346,0.1618422038320014,-0.11024665424932405,0.08899150941196736,-0.09516030876133817,-0.016301764624630607,-0.21811651438967192,0.20874670244922758,0.09811274497209344,-0.053987394016722194,0.014984978865516516,0.0034020295485755986,0.018348873283098595,0.009788955246601488,0.01963665458573406,-0.02800163122565338,-0.037122692582544276,0.05578514985825744,0.00037728916132393267,0.018802163992253557,0.17141577677440026,0.08257845165920216,0.12598675160367392,-0.46934505447190006,0.06757883790658037,0.5700279834874092,0.1270254424718098,0.27348793356411105,-0.12577730676548265,-0.0316494561206594,-0.03309510425147711,-0.018057833635234492,0.038618565341382236,0.05682930291478594,1.0,0.671720256522531,0.0123954058263605,0.049882050453348654,-0.0007000926453866507,-0.0004268804124414557,0.00017170019457907982,-0.00021740046630603797,0.0015984919288382369,0.0008690712835685856,0.00048385227823120034,-0.00011871906063457858,0.0005589998922830069,0.00028362090087496675,-0.0015321198557981116,0.0014541583331628748,0.0007840846511138542,-0.0003917986864022641,-0.0001605251926450301,0.0011969461024639871,-0.00019114650665656761,0.0017896202904450912,-0.0003127105511905231,0.0002721586757335792],[0.0019439866701193493,0.05389877948477336,0.09975165817660779,-0.08040833367992441,0.04830820123245432,-0.03223251121653613,-0.015258561225975265,-0.2722095330652726,0.3477637312927325,0.04958799258606516,-0.09608648866510511,0.01907565963295583,0.0011237021609740365,0.022613636800901758,0.010497959918045308,0.022926024909263525,-0.037884689247150126,-0.03853594820809059,0.055625513376341675,0.0016486843357900515,0.027097332675297077,0.19431602128922323,0.09941515095192612,0.1671272006633996,-0.4829627187893788,0.18468960901200687,0.5951731740119304,0.12265479749999442,0.20526321903519604,-0.22341197403721402,-0.3700087699934902,-0.057477889570233615,0.034531943874624556,0.04860589413240378,0.10179671865365265,0.671720256522531,1.0,-0.03730957532308066,0.5295185559161775,0.00015748103227510843,3.9943898945825094e-05,-0.00019953330199331187,0.001497892377273688,0.0011050827212704842,0.0021801755683107165,-0.0009124181826624989,0.0002631959929415945,0.0016782998819062386,0.0010441476281033498,0.0004147673632549036,0.000376540534699301,0.0005826532018502568,-0.0005743237910499142,-6.643301209249235e-05,-0.0001449740011387306,0.0001173008767938251,0.00017488368183199494,-1.2203641118679653e-05,0.0005157193686227621],[-0.0007367378891586208,-0.004474145702374351,0.034479783406563706,-0.012271811269628589,0.0005391360130252846,-0.005595834981339791,-0.0014268571232687972,-0.0056954987246857994,-0.0447976251330531,0.03641338225455374,0.022851395456945953,-0.0020769796272439313,-0.014410415966481566,-0.026771074778764413,-0.007112543151415236,-0.02696892907453184,-0.0052533094305319125,0.01082495592464145,-0.012649596747012182,-0.004943553861171671,0.012703956205455842,0.004147129522128412,0.0062713770469711005,-0.027169587364249556,-0.04069311064846172,-0.16338476540012378,0.05881080975888908,-0.07534633029243663,0.053873132523326726,0.020895111029257944,0.16001032432118192,-0.06160436590341034,-0.0020802897243361795,0.0025217424661261164,-0.05765582664050542,0.0123954058263605,-0.03730957532308066,1.0,-0.033060263097924036,-0.0011914849446160972,0.0012169450177803417,0.00043267511935558226,-0.0017029573862799455,-0.000968589576057586,8.776819951600179e-05,-0.0006197869097693837,0.0007561962852661385,-0.002821846397304488,-0.0025343767642456933,0.0028110018966584624,-0.000883493565072342,-0.00018151985016466745,-0.0021216564640591023,0.0011164768146890202,0.0008555410331730213,0.0022909749712419552,0.0004712203362952307,0.0005028030131193872,-0.0001593324546851804],[0.0007094054685533157,0.027667281027274605,-0.05672213750971908,-0.008391345891932403,-0.04809590727421897,0.04048015609863528,-0.006629399975288067,-0.16598063848470082,0.19687277552061352,0.015942231804067994,-0.027899553187449737,0.0009987278931955555,-0.008859182719836002,-0.0015128137997547563,-0.003207556039142782,-0.004624026399939924,-0.007925463856517271,0.007747278696703355,0.009854482659798687,-0.02009287786387911,0.0027645233072028296,0.05451043105424667,0.02293043333681244,0.10268345325827993,-0.07630358777591789,0.13033623216059106,0.08437426526661172,-0.04322190315795761,-0.01795361367477994,-0.03645653687188189,-0.37426557911110564,-0.04896732180377641,0.05284121778260303,-0.04388140822989615,0.10968267368294407,0.049882050453348654,0.5295185559161775,-0.033060263097924036,1.0,0.0003435576850782907,-0.00025163064404169495,-0.0010425327140463644,0.0008073471459774525,-0.00017534719743563624,0.0011359645290488314,-0.001886522363484453,0.00010968282946590506,0.0006112986100241608,-0.0006406118600233327,0.0010737903021305177,0.0003066838373890865,0.0021967019855298866,0.001172212103021948,-3.2112088833006814e-05,-0.002039384800218604,0.0017749367990069086,-0.0005415629463392085,0.0010658067091271414,0.00021380373299143842],[-0.00033081559680855894,0.0017819546519206666,-0.0008535289692727129,0.0006830212582464691,0.0007032711004745273,-0.0027525121198589578,-0.0017393955813606368,0.00018310230807848922,0.0004446972796375727,-0.00010952828067073569,-0.000626039474195767,-0.0005289461391680904,0.00045483067241534853,0.001371438126653363,0.0009197313047596582,0.0013280478554245497,-0.0019604336170380298,-0.0008375234363638301,7.902337008938135e-05,0.00279495106082008,-0.000891309608889123,0.001346934846575985,-0.0014843862916825094,0.0005801686627440297,0.00027231919941140176,0.004565428852985013,-0.0007657743408270044,0.0039760194722000194,-1.927372762617195e-05,-0.0009673135468468675,-0.0014796792147903524,0.0006391651346948859,0.0007859766765541309,-0.0008169966420410727,0.00011158337101021995,-0.0007000926453866507,0.00015748103227510843,-0.0011914849446160972,0.0003435576850782907,1.0,-0.0024184005058070133,0.0005263738781032152,0.0026091654139560752,0.000552313701566692,-0.00023118071631024353,0.00010315664770044361,0.0002925846976948423,-0.0009893613639992513,-0.000405278072677795,-0.0014824868638850614,-0.0020831298831596773,0.0001545636198423497,0.0007083986202636695,0.00048815149861224555,0.0001105740199355241,-0.0003888919426005842,0.0004569434417228441,-0.0013038621848024269,0.0013521868835232856],[0.0007185552370915875,0.0013596889783314007,-0.00043735740742991195,0.0009323623048316802,-0.0003351083806524692,-0.0005442114320181929,0.002378693719360294,-0.0003179887164626955,0.00022237887406058662,-0.0004147814693629236,0.0005449511558696707,-0.0005485808723860874,-0.0001904214608612394,-0.001083620532643572,-0.0010788587853095622,-0.0012261663535243564,-0.0013847694183889705,-0.0004394722861199063,-0.0012556132001177338,0.0009987317655430195,0.002194436907319185,-0.0007702025529729596,0.002147095174306001,0.0020083357967410065,-0.0018662008280451003,0.001439436028498539,-0.0017481320703085093,2.7286182473841283e-05,0.0006039038865445447,-0.001281340272801143,-0.00024214958687915903,0.000834446357954385,0.0006856599715089723,-0.0006100227037756054,0.0017016142812674158,-0.0004268804124414557,3.9943898945825094e-05,0.0012169450177803417,-0.00025163064404169495,-0.0024184005058070133,1.0,0.002947658488731806,7.560473005799856e-05,-0.0015964743246701433,0.0007055927424046006,0.0017032373588890355,-0.00010638179476798058,0.0012043473904847829,-0.000503204839728566,-0.000862227042413272,-0.0006927303936821608,0.0008091087261015493,0.0003331213550992732,3.4542047309743365e-05,0.0017652201884577551,-0.0004689347252466873,0.0012466321218909044,0.0002996009102698369,-0.0014232279828824703],[-0.00045116327598972454,0.0019069735964084003,0.001214035834498719,-0.00032172815018461254,0.00017747792504557575,0.0002699574386530032,-0.0015598327800527766,0.0028589072643935834,0.001112367204951705,-0.001939925633449494,-0.0029976922279143395,0.0008888978366146046,0.00037047224411990794,-0.0018667327166879291,0.001993873267159186,-0.0006802619593063297,0.0007252256408198473,-6.829083962919747e-05,0.0014751095593464084,-0.001802556494461432,-0.0015381674281400607,2.223867795546252e-05,-0.0004013973730358622,1.0226119243097642e-05,-0.002979879089125573,0.00019851816229553052,0.0003181993670884832,0.0017537103222571638,0.0002838816386566306,-0.002018458977388142,0.0016041730730022284,0.000694925764171725,-0.002117471375343967,0.00013427154514363094,-0.0016385080084200486,0.00017170019457907982,-0.00019953330199331187,0.00043267511935558226,-0.0010425327140463644,0.0005263738781032152,0.002947658488731806,1.0,-1.9705139081067923e-05,-0.0014422790768967454,0.0010398758480466485,0.00244454666404617,0.0003722966953794576,-0.0011896199555746663,0.0001813358922768896,-0.00037864454801740893,0.00022140683053132527,0.0015496381264349613,-0.000520052087307244,0.001323004631906571,-0.0001887531943412281,-0.0010019828565833275,-0.0017968734505206638,0.0005236580311478938,-0.0013259323140869628],[0.0036383179612103017,3.2720455100222405e-05,-0.0009430787753138474,-0.0021110487327914455,0.0007029223319983066,0.0008255181087075699,0.0012916973382756894,-0.0004089715175719974,0.0004704805518061534,-0.000886292161431818,0.0008295720883777965,3.1000198017766065e-05,-0.0011960063936610893,-0.0010630051163157137,0.00034928436518941267,-0.0011022975070719497,0.001583612723436242,-0.00015427566393725136,0.0006707357574948884,-0.0009732616497496337,0.00036790918115578723,0.0009800234873808364,0.0017519087860981093,0.0003954303917060711,0.00028670069159318856,-0.0004509803278143931,0.0009314839836572797,-0.0016589918561348144,0.0008598200601896396,0.00014317246993780027,-0.0013407294190590567,0.0010399053973847712,-0.0022041886801724966,0.00021324227842177014,0.0002249694527866357,-0.00021740046630603797,0.001497892377273688,-0.0017029573862799455,0.0008073471459774525,0.0026091654139560752,7.560473005799856e-05,-1.9705139081067923e-05,1.0,0.0006326671086388928,-0.0018453210760898278,0.0014451241140302868,-0.001846554928669249,-3.835483364152018e-05,5.835325109212987e-08,0.00024456774542824333,0.0009784493310665636,-0.00021462815569388283,0.0011795606084717045,0.0001718927120025671,-0.0008738127601136779,0.0011856368490699145,0.0011092144691557332,0.0009016703557466313,0.00014614969739931504],[-0.0005915908500661377,0.0007708801365326378,-0.0011711899555747148,-0.0015478301217311035,-0.001244839816125983,0.0010277988730797306,-0.0006420444921112528,-0.0005006935696663839,-0.00020263779193792028,0.0006032890364046535,0.00028269745744931654,0.0013288695124036788,-0.00011120385630559379,0.00018512789954192084,-0.0004156835108901136,0.00020541688400003567,0.0008742837980309493,0.0013615649246193945,-0.002826707031906842,-0.0001956279446045222,-0.0007819704989158228,-0.0014604029509632309,-0.001292495641227447,-0.0012297197856098755,0.00043965375966645417,-0.0003693202386897241,0.0015387904761009362,0.00045146382393345454,0.00157461285245382,-0.001766245537550099,-0.0005443907527122171,0.0007423801429440459,-0.00016428189498505667,-0.00018470178610373135,0.002458872518486961,0.0015984919288382369,0.0011050827212704842,-0.000968589576057586,-0.00017534719743563624,0.000552313701566692,-0.0015964743246701433,-0.0014422790768967454,0.0006326671086388928,1.0,-0.0013940213742289157,-0.002211754327912519,-0.0017921422616910185,0.0011537560131772333,-0.00023581508931643148,0.00038680272386482404,-0.0002117009452892736,0.0002703331399211816,-0.0009686463055697029,7.896468850627976e-05,-0.0009427509379795304,-0.0009852664395451243,-0.0004058525742929777,0.00026514988456800864,0.0014943221390320992],[0.0009574769937878764,8.182225978075785e-05,0.0001468321352008793,8.548689230280353e-05,0.0023614979575574675,0.0026258399586142943,-0.00024941758434445855,-0.0014131826801772216,0.002257467971971457,0.0012489817846111845,-0.0019519948882590844,-0.002677298661139917,0.0009108295017515643,0.0005169369254961482,-0.0021626888021852183,-0.0002416453387590575,3.349415158363572e-05,-0.0003549050683784064,-0.00033818799337827937,0.001124606656781667,-0.0025165260049060767,0.00035217664880778305,-0.0018653917814664318,-0.0012509298116333439,-0.0018349663534806147,0.00043014794862627587,0.000871700118205042,0.0004128396727017668,0.0011103477393886192,0.0013053744161650508,-0.0014563424458635254,-0.0017702971365074723,-0.0016314199086927635,-0.001030552732421399,-0.0002511156074101972,0.0008690712835685856,0.0021801755683107165,8.776819951600179e-05,0.0011359645290488314,-0.00023118071631024353,0.0007055927424046006,0.0010398758480466485,-0.0018453210760898278,-0.0013940213742289157,1.0,-7.531912940689786e-05,-0.0006033795317028932,0.0017095886432573152,-0.0015344104636122683,-0.0005749585705772388,0.0006068798883348734,0.0009738384019128626,-0.0008696868262333401,0.0006305110709911789,0.00013999232688368619,0.0003201823342854648,0.0020048012309301956,0.0011850203585599686,0.0008642753852533274],[0.0007882447910808956,-0.00010347690485278524,-0.0006583998180255231,-0.00017173251468899272,0.0015325306198597161,-0.00015073832344163923,-0.0019023900274815755,-0.0015526558607739192,-0.0007715341800744943,0.0015137952726527234,0.001377811100217233,0.0012737060249414815,-0.0017878545885293084,0.0017231519792362958,0.0004136479843598627,0.0010228747040333251,0.0017213970445803973,0.0010701810792920843,-0.0007815553133850878,-2.5850049554222618e-05,0.00042407251414635863,-3.940637902469473e-05,-0.0004647562958039385,-0.0006230035403697138,-4.2806839795007884e-05,0.003070667843488631,0.0002434918758918964,0.0004412278133604194,-4.896531776827232e-05,-9.291203883231048e-05,-0.0014425071088963843,0.0020812179822101546,3.345833882899232e-06,0.0016531383200807618,-0.0003302318320871622,0.00048385227823120034,-0.0009124181826624989,-0.0006197869097693837,-0.001886522363484453,0.00010315664770044361,0.0017032373588890355,0.00244454666404617,0.0014451241140302868,-0.002211754327912519,-7.531912940689786e-05,1.0,-0.002084624044028694,0.0007561854950545017,-0.0005302751847781065,-0.00010937354438558475,-0.000388693249963843,-0.0005993891804417921,0.0019081420282568305,9.663145891527551e-05,-0.001410586889796412,-0.00032686988563327866,-0.0003107324412774847,-0.0011828498563552455,0.00039425142162196534],[0.0008356128476278207,-0.0010058548384191393,0.002992806788917109,-0.0027117639544354424,0.001266664959910297,-0.0027755450296133074,-0.0001449036161313121,-0.0011636516201258254,-0.001416721144687028,0.0008268945510473188,0.0022687777239878753,0.0014216349339402805,0.0009946385801930036,0.0037837821118346824,0.002790331203399629,0.004077353989613895,-0.0013086573803491668,-0.0019205651214934604,-0.0006022847454017239,0.0018345907179115205,-0.0025145761310513873,-0.0004013550822231837,-0.002728418345824668,-0.001207073641473125,0.000685063371450163,0.0021179978533095375,0.001215931309403626,0.0016640401043848303,0.0004921695588309738,0.0005499792456161905,2.6762473594795134e-05,-0.0016920322564635982,0.002907789216375729,-7.104884064442889e-05,-0.002458276048013527,-0.00011871906063457858,0.0002631959929415945,0.0007561962852661385,0.00010968282946590506,0.0002925846976948423,-0.00010638179476798058,0.0003722966953794576,-0.001846554928669249,-0.0017921422616910185,-0.0006033795317028932,-0.002084624044028694,1.0,1.3082467919241126e-05,-0.002665668626238483,0.0020156141257340952,0.00010930539163796438,-0.00030400026811709164,-0.00017056886242362965,-0.000265653880402289,0.002133458533910172,-0.0005416628791602605,0.00020163232378118568,0.0007846466422613709,-0.000767841727863593],[0.0005176341988577643,0.0007189675843641542,-8.533923304090555e-05,0.00035567580972401837,-0.0015441777405826916,0.00048656988775536863,-0.0008217959389452798,-0.001955110116004253,0.0031034025355962443,-0.0011713719830285256,8.41415927831592e-05,0.002842382982119299,0.0006751295016578906,-0.0020161776675533686,-0.002330326502165297,-0.0014427896242199597,-0.0009849673818418103,-0.0004273838950783198,0.000591321147031268,0.00011597648018878906,0.0001038604000736565,0.0011102173182750224,0.00015079137199859778,4.220234506755867e-05,-0.0005509059261274756,0.0003282253752557591,-0.0003188249939387811,4.603530801216634e-05,0.0025789004953305486,-0.0014661881547167342,-0.0005307547879908729,-0.0012319557421361167,-0.0014115273416177374,0.0016651672130308952,-0.0005101365289598746,0.0005589998922830069,0.0016782998819062386,-0.002821846397304488,0.0006112986100241608,-0.0009893613639992513,0.0012043473904847829,-0.0011896199555746663,-3.835483364152018e-05,0.0011537560131772333,0.0017095886432573152,0.0007561854950545017,1.3082467919241126e-05,1.0,-0.00018191557849844383,-0.0008978648417160443,-0.0014087261304251072,-0.000629603966515466,-6.618237838926016e-05,0.0009232509440580107,-0.0012912698712921724,-0.0008141216438973746,-0.0010941080196175384,0.00044405455709718906,6.652856730239221e-05],[0.0009805335540469448,0.0010608340444789083,-0.0013449818796920148,-2.5425203495046437e-05,0.000230287338373583,0.00012727421795224745,-0.0010698729509168899,-0.0011970978269563854,0.0027643720885982604,-0.0010929434068361558,-0.0005624466536854737,-0.00036716982018740517,0.0010608594409770634,0.0019267518147431442,0.0009485297239872661,0.001975748285363052,-0.0012787059555369506,-0.0009309516956551648,-0.0006993075561928123,0.0013640036829747895,-0.0010071233537981583,0.00018998010029056813,-0.0001384235049648807,0.0014431604443318454,-0.0005988402310767637,0.0012104089806038827,0.0014737778917998585,-0.0016082481209460618,-0.0008241917715071704,-0.00126972104570452,-0.002119260300436465,0.0012705153842238798,-0.0015616995757234328,0.001661053471775787,-0.0005672563408689047,0.00028362090087496675,0.0010441476281033498,-0.0025343767642456933,-0.0006406118600233327,-0.000405278072677795,-0.000503204839728566,0.0001813358922768896,5.835325109212987e-08,-0.00023581508931643148,-0.0015344104636122683,-0.0005302751847781065,-0.002665668626238483,-0.00018191557849844383,1.0,0.00039421911394115384,0.0020861464734087494,0.0012790179252293843,0.0012524127188469519,-0.0003206519285674346,0.00042152585442363353,0.0003662380118529723,-0.0016175662068407665,-0.001302425409365104,-0.00033573429390100083],[-0.0012488250195915361,0.00037143739489093637,-0.0012629092646128783,3.793867444663322e-05,-0.0027155418811399185,-0.0020008312385538024,-0.0015247002980472058,0.000822002616531646,-0.0004476413449922488,-0.0006318117597186088,7.181830788419638e-05,-0.0023492443946824377,0.00018449154616455044,0.00012896012169149823,-0.00018583926200945724,-0.0002432697006175229,-0.0019515651504138044,-0.0005474330902515618,-0.0010905132359761071,0.002110541450555667,-0.0004331699563874828,0.000295973603795303,-0.00034705848412840725,-0.0004247629899175609,-0.0008341968657931889,-0.0026947000599002163,0.001198066784985588,-0.0017017001612186584,0.0011949560411559218,0.0005028118507514468,0.0015842335640350936,-0.0011916824704647467,0.001816659689651751,1.1254065435811081e-05,-0.001206330546667298,-0.0015321198557981116,0.0004147673632549036,0.0028110018966584624,0.0010737903021305177,-0.0014824868638850614,-0.000862227042413272,-0.00037864454801740893,0.00024456774542824333,0.00038680272386482404,-0.0005749585705772388,-0.00010937354438558475,0.0020156141257340952,-0.0008978648417160443,0.00039421911394115384,1.0,0.0010363096506184925,0.003702293503296481,0.0004796006799337871,0.0008337638553276428,0.0008795353242781085,-0.0012352831533956282,-0.0009601810727423088,-0.00137650887645121,-0.00016434196923967553],[-0.0010934546530963374,-0.0011325853981362505,0.0015206567146658348,-0.0008836458794260957,-0.002352333366999052,-0.0008139493139821727,0.0009753755080751557,0.0013465275777943119,-0.0010438535583305107,-0.0012414424693482822,0.0006636678133101164,0.0013666102034255417,-0.0006120933976261155,0.0008132382695526005,-0.0014181281398898933,0.0002840910135919725,-0.0012626527588530665,0.00047885679021953564,-0.0008502466566824664,0.0015743622718326646,0.0009675954210049824,0.0009246269522731171,0.0013574845891191193,-0.0007933308500309729,0.0020520906048643517,-0.002595880715245505,0.0017213100009014935,-0.00035882930966854473,0.0004671486827777795,0.0001369791532856534,0.0006383022193048909,-0.0004672662506228167,0.0024027112854159804,-0.00035862222351401715,-0.0011809019951366634,0.0014541583331628748,0.000376540534699301,-0.000883493565072342,0.0003066838373890865,-0.0020831298831596773,-0.0006927303936821608,0.00022140683053132527,0.0009784493310665636,-0.0002117009452892736,0.0006068798883348734,-0.000388693249963843,0.00010930539163796438,-0.0014087261304251072,0.0020861464734087494,0.0010363096506184925,1.0,-0.00030006427820138517,0.000980441223865989,0.0015570118184771945,-0.0009128274758467554,0.0035645904480776313,8.383414231002459e-05,0.0010213745943391099,-0.0005819389857347308],[-0.00015701023640565565,-0.0004464645318087174,0.00019895341092257275,-0.0008928474834448281,0.00013288787890949408,0.0002834052581409762,0.001549156967187013,-0.0013011186998591806,0.0005412369024749237,-0.0004320285599226011,0.0014390105937547816,0.001968875596117635,0.00030406758932433335,0.0005585972004819212,-0.002125385276738932,0.00030681115008979426,-0.000921686741159908,-0.0012057081347718506,0.00042878043890859477,0.0019922297476804548,-0.0029202028162277475,-0.0033530357370669768,-0.0020152175085250417,0.0008740417878425334,0.0012427813649456252,0.0008592066483024779,0.00042311633950088267,0.0013216260013875014,-0.0020202515720043877,0.0014953290730697968,0.0003935211621869506,-0.0004903231499660531,0.0029880880242695684,-0.000578026659641811,0.0011334652327895202,0.0007840846511138542,0.0005826532018502568,-0.00018151985016466745,0.0021967019855298866,0.0001545636198423497,0.0008091087261015493,0.0015496381264349613,-0.00021462815569388283,0.0002703331399211816,0.0009738384019128626,-0.0005993891804417921,-0.00030400026811709164,-0.000629603966515466,0.0012790179252293843,0.003702293503296481,-0.00030006427820138517,1.0,-0.0023253997103759288,0.0007633285228823364,0.0026328685607141223,-0.000782295667836372,0.0005639452300591455,0.001945194513245508,-0.0016489428988119895],[0.001609423824807779,0.0013622753431191557,-0.0008910685014910404,-0.0005185257387862071,0.00020474960687078366,0.0015645496382111165,0.002170835213002712,0.00030393290259254327,0.0016655249364763605,-0.001959159535716181,-0.0003887243838992524,0.00023239812553012024,-0.0007858590549898202,-0.0005013388256770008,0.0008745250585350082,-0.0003871413338074719,0.0013483433788114031,-0.00016701443375198525,0.0007460892730811583,-0.0012387502670017302,-0.00017739269793537536,-0.0019034671178565267,-0.000637418123338626,6.95669943874719e-05,-9.926418773619016e-05,0.0012823032623227356,-0.0023388274799040387,0.001863807293097441,0.0008061524226690235,0.00029514287044668617,-0.0011690267707114414,-0.0010919839975845078,-0.0003593050636786701,0.0002478062054979929,0.0009449124419320974,-0.0003917986864022641,-0.0005743237910499142,-0.0021216564640591023,0.001172212103021948,0.0007083986202636695,0.0003331213550992732,-0.000520052087307244,0.0011795606084717045,-0.0009686463055697029,-0.0008696868262333401,0.0019081420282568305,-0.00017056886242362965,-6.618237838926016e-05,0.0012524127188469519,0.0004796006799337871,0.000980441223865989,-0.0023253997103759288,1.0,0.001713387982008056,0.00019854594292474138,-0.001287343165201063,-0.001062548766009112,-7.567114607784398e-05,-0.00047695089701226727],[-0.0012272973917304445,-0.0004904242506719329,-0.000396790212426193,-0.0001091639435274442,0.0001344327694191131,0.0027346762054245234,0.0015480474512491566,0.002087860311907922,0.0005749746503449937,-0.0027823010069026946,-0.000621106833525824,-0.0032329018832703716,-0.0006590162500354598,-0.0016324069179149605,0.0004916403631589377,-0.001820720685571289,0.0007020649300867855,0.000928933859436279,-0.0015898973720920525,-0.0003786053015244637,0.0006033375546499378,-0.0006436359600499569,0.0003944248478734401,0.0009652394539101881,-1.4807280235949815e-05,-0.0004809622024844747,0.0013882598831327169,-0.0014997038236239928,0.000689803382340044,-0.0004381102787180161,-0.0010101875324818037,0.0009521778464269998,-0.0008346704499100793,-0.0011744468682769224,-0.0007033351603276393,-0.0001605251926450301,-6.643301209249235e-05,0.0011164768146890202,-3.2112088833006814e-05,0.00048815149861224555,3.4542047309743365e-05,0.001323004631906571,0.0001718927120025671,7.896468850627976e-05,0.0006305110709911789,9.663145891527551e-05,-0.000265653880402289,0.0009232509440580107,-0.0003206519285674346,0.0008337638553276428,0.0015570118184771945,0.0007633285228823364,0.001713387982008056,1.0,0.0003847799596326076,0.0010284195630865856,-0.0008488737176590117,0.0008350357428591773,0.0028691848832983202],[-0.0014120059005200628,0.0006238280115020942,-1.1545248111385099e-05,0.0009195635201452163,-0.0007442327813944093,0.002295346203964965,-0.0003682362393573745,-0.0003814511646830381,0.0012197619159721711,-0.002047724572754881,0.0010588568857560125,0.0010115230415514774,0.0014178496831878235,0.0017539182011456023,0.0015699943019599183,0.002318386702039322,-0.001915365956106812,-0.0004946092252123201,-0.00021109233161472496,-8.221784186824308e-05,9.357411852451359e-05,0.0005905118263573318,0.001980590406019026,-0.0010678795853459174,-0.0029475272140969564,-0.000900009112242032,0.000579727172497131,0.0013959473143630471,0.0012045255571496128,-0.0012544219062167932,0.0020955546330995254,-0.0010595306612710786,0.001021239320656569,0.0020541819917924507,0.0005081330268082903,0.0011969461024639871,-0.0001449740011387306,0.0008555410331730213,-0.002039384800218604,0.0001105740199355241,0.0017652201884577551,-0.0001887531943412281,-0.0008738127601136779,-0.0009427509379795304,0.00013999232688368619,-0.001410586889796412,0.002133458533910172,-0.0012912698712921724,0.00042152585442363353,0.0008795353242781085,-0.0009128274758467554,0.0026328685607141223,0.00019854594292474138,0.0003847799596326076,1.0,-0.0016701318625782552,0.0007356946834426283,7.729719133329158e-05,-8.498697276466257e-05],[-0.001266582915695949,-0.00017012817365768916,-0.0008675973201928163,0.0005472321892405295,0.000157731563274207,0.0007734421027413762,0.00015309117899007583,-1.2555595091234793e-06,-0.0005167363145836902,-0.0005794594623613974,0.0011348640561092116,0.00034511455870640405,0.0010641208942453434,0.0013843957989970695,-0.0029176616014177973,0.0007408167748215124,0.0011762611405260832,-0.000432323026064183,-0.0002421374844425615,6.434466221087021e-05,0.001077885692651476,0.0022366053815199,0.001573986262444816,0.0004024551616458192,-0.001077583489975626,-0.0021900877080210674,0.0006342039000327394,-0.0028145541534887798,0.0001356500415863611,0.0005855222178469649,0.0013782617362007408,-0.0005462931019553125,-0.0005117859571024149,0.0029192141505096658,-9.260927347074229e-05,-0.00019114650665656761,0.0001173008767938251,0.0022909749712419552,0.0017749367990069086,-0.0003888919426005842,-0.0004689347252466873,-0.0010019828565833275,0.0011856368490699145,-0.0009852664395451243,0.0003201823342854648,-0.00032686988563327866,-0.0005416628791602605,-0.0008141216438973746,0.0003662380118529723,-0.0012352831533956282,0.0035645904480776313,-0.000782295667836372,-0.001287343165201063,0.0010284195630865856,-0.0016701318625782552,1.0,-0.0008263242941725543,0.000450219315820858,0.000966083374334477],[-0.001387012489514096,0.0005524351996118682,-0.0015035875469012964,0.0008240709263778052,-0.0002179273213074755,0.0009158792230724631,3.168678414855202e-05,-0.0007593038072496054,0.00018148010907771236,-6.765604151575159e-05,0.0008151460825754955,0.00023955239726456678,-0.0011015992238865807,-0.0013589599814288781,-0.00011712544370351973,-0.0013771848219666489,-0.0013255253293403624,9.26933091093104e-05,4.6684570862882744e-05,7.039774777351157e-05,0.0019622336075272614,0.00044513082160988523,0.0009154648168244687,0.0003641136670927075,-0.0011509779965209698,-0.0013022430575787994,0.00012764466563053707,-0.0008849150440565294,3.4775541413476665e-05,0.00034706241877984433,-0.0010009801233348515,0.0016412416111071387,0.0007416018344101211,-0.0004828954298308084,0.0009303397770717671,0.0017896202904450912,0.00017488368183199494,0.0004712203362952307,-0.0005415629463392085,0.0004569434417228441,0.0012466321218909044,-0.0017968734505206638,0.0011092144691557332,-0.0004058525742929777,0.0020048012309301956,-0.0003107324412774847,0.00020163232378118568,-0.0010941080196175384,-0.0016175662068407665,-0.0009601810727423088,8.383414231002459e-05,0.0005639452300591455,-0.001062548766009112,-0.0008488737176590117,0.0007356946834426283,-0.0008263242941725543,1.0,-0.000256999749001877,0.0005221041491486967],[0.00019422494950414269,-0.0017438319546571681,-0.00016221628124592368,0.0003668294896141741,-0.0008816797556198087,-0.0019656334704160304,0.0002764781762418728,0.0027907331412144387,-0.0013611791678382662,-0.0009190393767006633,-0.0011026523735666283,0.0015546541592544052,-0.001240728524270899,-0.001779382287807932,0.002079286759967088,-0.0010118034751282255,0.0017437917830255083,0.0003020462737220039,-0.0007755225209412626,-0.0007859433395340347,0.0011091781490393652,-0.0011367137981826948,0.000963471163100389,0.0005198560815098639,-0.0014296408355096264,-0.00041450859584372094,-0.0003200957840412163,-0.0024179401571196727,-0.0023403993866281878,0.001779644692049721,0.00037910847774122794,0.0012730291759389459,-0.0005855613681816042,-0.0003423887666784932,0.002231261537685798,-0.0003127105511905231,-1.2203641118679653e-05,0.0005028030131193872,0.0010658067091271414,-0.0013038621848024269,0.0002996009102698369,0.0005236580311478938,0.0009016703557466313,0.00026514988456800864,0.0011850203585599686,-0.0011828498563552455,0.0007846466422613709,0.00044405455709718906,-0.001302425409365104,-0.00137650887645121,0.0010213745943391099,0.001945194513245508,-7.567114607784398e-05,0.0008350357428591773,7.729719133329158e-05,0.000450219315820858,-0.000256999749001877,1.0,3.0900791451786126e-05],[-0.0012665168671921183,-0.0010722284275397982,-0.0014640083176233343,-0.0020700765230598026,-0.003709408579276534,0.001243938381928246,0.00027869054705161115,0.00020310560100537925,-0.0009608000950925157,0.0009953591808107968,-0.00012315711435225912,-0.003389818864850354,0.0004094125500090158,0.0031663201946022547,-0.0009808134646700517,0.0017825538619420395,-0.0020395145220801205,0.001519207560397156,-0.001922700612824353,0.0007240485980728472,0.0017388225483738994,-0.0006580189446435276,-8.602422445407714e-05,-0.0005613985985714569,0.0009304624944871983,0.0014224541267771362,-0.0005301916337567397,0.0001499412738778608,-0.0005226832895863497,-0.0023689086360795504,0.0002479460755647001,0.000545645086234742,0.00023838942051957303,0.0015132572839368853,0.0012800385583023688,0.0002721586757335792,0.0005157193686227621,-0.0001593324546851804,0.00021380373299143842,0.0013521868835232856,-0.0014232279828824703,-0.0013259323140869628,0.00014614969739931504,0.0014943221390320992,0.0008642753852533274,0.00039425142162196534,-0.000767841727863593,6.652856730239221e-05,-0.00033573429390100083,-0.00016434196923967553,-0.0005819389857347308,-0.0016489428988119895,-0.00047695089701226727,0.0028691848832983202,-8.498697276466257e-05,0.000966083374334477,0.0005221041491486967,3.0900791451786126e-05,1.0]],\"type\":\"heatmap\",\"xaxis\":\"x\",\"yaxis\":\"y\",\"hovertemplate\":\"Features: %{x}\\u003cbr\\u003eFeatures: %{y}\\u003cbr\\u003eCorrelation: %{z}\\u003cextra\\u003e\\u003c\\u002fextra\\u003e\"}],                        {\"template\":{\"data\":{\"histogram2dcontour\":[{\"type\":\"histogram2dcontour\",\"colorbar\":{\"outlinewidth\":0,\"ticks\":\"\"},\"colorscale\":[[0.0,\"#0d0887\"],[0.1111111111111111,\"#46039f\"],[0.2222222222222222,\"#7201a8\"],[0.3333333333333333,\"#9c179e\"],[0.4444444444444444,\"#bd3786\"],[0.5555555555555556,\"#d8576b\"],[0.6666666666666666,\"#ed7953\"],[0.7777777777777778,\"#fb9f3a\"],[0.8888888888888888,\"#fdca26\"],[1.0,\"#f0f921\"]]}],\"choropleth\":[{\"type\":\"choropleth\",\"colorbar\":{\"outlinewidth\":0,\"ticks\":\"\"}}],\"histogram2d\":[{\"type\":\"histogram2d\",\"colorbar\":{\"outlinewidth\":0,\"ticks\":\"\"},\"colorscale\":[[0.0,\"#0d0887\"],[0.1111111111111111,\"#46039f\"],[0.2222222222222222,\"#7201a8\"],[0.3333333333333333,\"#9c179e\"],[0.4444444444444444,\"#bd3786\"],[0.5555555555555556,\"#d8576b\"],[0.6666666666666666,\"#ed7953\"],[0.7777777777777778,\"#fb9f3a\"],[0.8888888888888888,\"#fdca26\"],[1.0,\"#f0f921\"]]}],\"heatmap\":[{\"type\":\"heatmap\",\"colorbar\":{\"outlinewidth\":0,\"ticks\":\"\"},\"colorscale\":[[0.0,\"#0d0887\"],[0.1111111111111111,\"#46039f\"],[0.2222222222222222,\"#7201a8\"],[0.3333333333333333,\"#9c179e\"],[0.4444444444444444,\"#bd3786\"],[0.5555555555555556,\"#d8576b\"],[0.6666666666666666,\"#ed7953\"],[0.7777777777777778,\"#fb9f3a\"],[0.8888888888888888,\"#fdca26\"],[1.0,\"#f0f921\"]]}],\"heatmapgl\":[{\"type\":\"heatmapgl\",\"colorbar\":{\"outlinewidth\":0,\"ticks\":\"\"},\"colorscale\":[[0.0,\"#0d0887\"],[0.1111111111111111,\"#46039f\"],[0.2222222222222222,\"#7201a8\"],[0.3333333333333333,\"#9c179e\"],[0.4444444444444444,\"#bd3786\"],[0.5555555555555556,\"#d8576b\"],[0.6666666666666666,\"#ed7953\"],[0.7777777777777778,\"#fb9f3a\"],[0.8888888888888888,\"#fdca26\"],[1.0,\"#f0f921\"]]}],\"contourcarpet\":[{\"type\":\"contourcarpet\",\"colorbar\":{\"outlinewidth\":0,\"ticks\":\"\"}}],\"contour\":[{\"type\":\"contour\",\"colorbar\":{\"outlinewidth\":0,\"ticks\":\"\"},\"colorscale\":[[0.0,\"#0d0887\"],[0.1111111111111111,\"#46039f\"],[0.2222222222222222,\"#7201a8\"],[0.3333333333333333,\"#9c179e\"],[0.4444444444444444,\"#bd3786\"],[0.5555555555555556,\"#d8576b\"],[0.6666666666666666,\"#ed7953\"],[0.7777777777777778,\"#fb9f3a\"],[0.8888888888888888,\"#fdca26\"],[1.0,\"#f0f921\"]]}],\"surface\":[{\"type\":\"surface\",\"colorbar\":{\"outlinewidth\":0,\"ticks\":\"\"},\"colorscale\":[[0.0,\"#0d0887\"],[0.1111111111111111,\"#46039f\"],[0.2222222222222222,\"#7201a8\"],[0.3333333333333333,\"#9c179e\"],[0.4444444444444444,\"#bd3786\"],[0.5555555555555556,\"#d8576b\"],[0.6666666666666666,\"#ed7953\"],[0.7777777777777778,\"#fb9f3a\"],[0.8888888888888888,\"#fdca26\"],[1.0,\"#f0f921\"]]}],\"mesh3d\":[{\"type\":\"mesh3d\",\"colorbar\":{\"outlinewidth\":0,\"ticks\":\"\"}}],\"scatter\":[{\"fillpattern\":{\"fillmode\":\"overlay\",\"size\":10,\"solidity\":0.2},\"type\":\"scatter\"}],\"parcoords\":[{\"type\":\"parcoords\",\"line\":{\"colorbar\":{\"outlinewidth\":0,\"ticks\":\"\"}}}],\"scatterpolargl\":[{\"type\":\"scatterpolargl\",\"marker\":{\"colorbar\":{\"outlinewidth\":0,\"ticks\":\"\"}}}],\"bar\":[{\"error_x\":{\"color\":\"#2a3f5f\"},\"error_y\":{\"color\":\"#2a3f5f\"},\"marker\":{\"line\":{\"color\":\"#E5ECF6\",\"width\":0.5},\"pattern\":{\"fillmode\":\"overlay\",\"size\":10,\"solidity\":0.2}},\"type\":\"bar\"}],\"scattergeo\":[{\"type\":\"scattergeo\",\"marker\":{\"colorbar\":{\"outlinewidth\":0,\"ticks\":\"\"}}}],\"scatterpolar\":[{\"type\":\"scatterpolar\",\"marker\":{\"colorbar\":{\"outlinewidth\":0,\"ticks\":\"\"}}}],\"histogram\":[{\"marker\":{\"pattern\":{\"fillmode\":\"overlay\",\"size\":10,\"solidity\":0.2}},\"type\":\"histogram\"}],\"scattergl\":[{\"type\":\"scattergl\",\"marker\":{\"colorbar\":{\"outlinewidth\":0,\"ticks\":\"\"}}}],\"scatter3d\":[{\"type\":\"scatter3d\",\"line\":{\"colorbar\":{\"outlinewidth\":0,\"ticks\":\"\"}},\"marker\":{\"colorbar\":{\"outlinewidth\":0,\"ticks\":\"\"}}}],\"scattermapbox\":[{\"type\":\"scattermapbox\",\"marker\":{\"colorbar\":{\"outlinewidth\":0,\"ticks\":\"\"}}}],\"scatterternary\":[{\"type\":\"scatterternary\",\"marker\":{\"colorbar\":{\"outlinewidth\":0,\"ticks\":\"\"}}}],\"scattercarpet\":[{\"type\":\"scattercarpet\",\"marker\":{\"colorbar\":{\"outlinewidth\":0,\"ticks\":\"\"}}}],\"carpet\":[{\"aaxis\":{\"endlinecolor\":\"#2a3f5f\",\"gridcolor\":\"white\",\"linecolor\":\"white\",\"minorgridcolor\":\"white\",\"startlinecolor\":\"#2a3f5f\"},\"baxis\":{\"endlinecolor\":\"#2a3f5f\",\"gridcolor\":\"white\",\"linecolor\":\"white\",\"minorgridcolor\":\"white\",\"startlinecolor\":\"#2a3f5f\"},\"type\":\"carpet\"}],\"table\":[{\"cells\":{\"fill\":{\"color\":\"#EBF0F8\"},\"line\":{\"color\":\"white\"}},\"header\":{\"fill\":{\"color\":\"#C8D4E3\"},\"line\":{\"color\":\"white\"}},\"type\":\"table\"}],\"barpolar\":[{\"marker\":{\"line\":{\"color\":\"#E5ECF6\",\"width\":0.5},\"pattern\":{\"fillmode\":\"overlay\",\"size\":10,\"solidity\":0.2}},\"type\":\"barpolar\"}],\"pie\":[{\"automargin\":true,\"type\":\"pie\"}]},\"layout\":{\"autotypenumbers\":\"strict\",\"colorway\":[\"#636efa\",\"#EF553B\",\"#00cc96\",\"#ab63fa\",\"#FFA15A\",\"#19d3f3\",\"#FF6692\",\"#B6E880\",\"#FF97FF\",\"#FECB52\"],\"font\":{\"color\":\"#2a3f5f\"},\"hovermode\":\"closest\",\"hoverlabel\":{\"align\":\"left\"},\"paper_bgcolor\":\"white\",\"plot_bgcolor\":\"#E5ECF6\",\"polar\":{\"bgcolor\":\"#E5ECF6\",\"angularaxis\":{\"gridcolor\":\"white\",\"linecolor\":\"white\",\"ticks\":\"\"},\"radialaxis\":{\"gridcolor\":\"white\",\"linecolor\":\"white\",\"ticks\":\"\"}},\"ternary\":{\"bgcolor\":\"#E5ECF6\",\"aaxis\":{\"gridcolor\":\"white\",\"linecolor\":\"white\",\"ticks\":\"\"},\"baxis\":{\"gridcolor\":\"white\",\"linecolor\":\"white\",\"ticks\":\"\"},\"caxis\":{\"gridcolor\":\"white\",\"linecolor\":\"white\",\"ticks\":\"\"}},\"coloraxis\":{\"colorbar\":{\"outlinewidth\":0,\"ticks\":\"\"}},\"colorscale\":{\"sequential\":[[0.0,\"#0d0887\"],[0.1111111111111111,\"#46039f\"],[0.2222222222222222,\"#7201a8\"],[0.3333333333333333,\"#9c179e\"],[0.4444444444444444,\"#bd3786\"],[0.5555555555555556,\"#d8576b\"],[0.6666666666666666,\"#ed7953\"],[0.7777777777777778,\"#fb9f3a\"],[0.8888888888888888,\"#fdca26\"],[1.0,\"#f0f921\"]],\"sequentialminus\":[[0.0,\"#0d0887\"],[0.1111111111111111,\"#46039f\"],[0.2222222222222222,\"#7201a8\"],[0.3333333333333333,\"#9c179e\"],[0.4444444444444444,\"#bd3786\"],[0.5555555555555556,\"#d8576b\"],[0.6666666666666666,\"#ed7953\"],[0.7777777777777778,\"#fb9f3a\"],[0.8888888888888888,\"#fdca26\"],[1.0,\"#f0f921\"]],\"diverging\":[[0,\"#8e0152\"],[0.1,\"#c51b7d\"],[0.2,\"#de77ae\"],[0.3,\"#f1b6da\"],[0.4,\"#fde0ef\"],[0.5,\"#f7f7f7\"],[0.6,\"#e6f5d0\"],[0.7,\"#b8e186\"],[0.8,\"#7fbc41\"],[0.9,\"#4d9221\"],[1,\"#276419\"]]},\"xaxis\":{\"gridcolor\":\"white\",\"linecolor\":\"white\",\"ticks\":\"\",\"title\":{\"standoff\":15},\"zerolinecolor\":\"white\",\"automargin\":true,\"zerolinewidth\":2},\"yaxis\":{\"gridcolor\":\"white\",\"linecolor\":\"white\",\"ticks\":\"\",\"title\":{\"standoff\":15},\"zerolinecolor\":\"white\",\"automargin\":true,\"zerolinewidth\":2},\"scene\":{\"xaxis\":{\"backgroundcolor\":\"#E5ECF6\",\"gridcolor\":\"white\",\"linecolor\":\"white\",\"showbackground\":true,\"ticks\":\"\",\"zerolinecolor\":\"white\",\"gridwidth\":2},\"yaxis\":{\"backgroundcolor\":\"#E5ECF6\",\"gridcolor\":\"white\",\"linecolor\":\"white\",\"showbackground\":true,\"ticks\":\"\",\"zerolinecolor\":\"white\",\"gridwidth\":2},\"zaxis\":{\"backgroundcolor\":\"#E5ECF6\",\"gridcolor\":\"white\",\"linecolor\":\"white\",\"showbackground\":true,\"ticks\":\"\",\"zerolinecolor\":\"white\",\"gridwidth\":2}},\"shapedefaults\":{\"line\":{\"color\":\"#2a3f5f\"}},\"annotationdefaults\":{\"arrowcolor\":\"#2a3f5f\",\"arrowhead\":0,\"arrowwidth\":1},\"geo\":{\"bgcolor\":\"white\",\"landcolor\":\"#E5ECF6\",\"subunitcolor\":\"white\",\"showland\":true,\"showlakes\":true,\"lakecolor\":\"white\"},\"title\":{\"x\":0.05},\"mapbox\":{\"style\":\"light\"}}},\"xaxis\":{\"anchor\":\"y\",\"domain\":[0.0,1.0],\"scaleanchor\":\"y\",\"constrain\":\"domain\",\"title\":{\"text\":\"Features\"}},\"yaxis\":{\"anchor\":\"x\",\"domain\":[0.0,1.0],\"autorange\":\"reversed\",\"constrain\":\"domain\",\"title\":{\"text\":\"Features\"}},\"coloraxis\":{\"colorbar\":{\"title\":{\"text\":\"Correlation\"}},\"colorscale\":[[0.0,\"rgb(5,48,97)\"],[0.1,\"rgb(33,102,172)\"],[0.2,\"rgb(67,147,195)\"],[0.3,\"rgb(146,197,222)\"],[0.4,\"rgb(209,229,240)\"],[0.5,\"rgb(247,247,247)\"],[0.6,\"rgb(253,219,199)\"],[0.7,\"rgb(244,165,130)\"],[0.8,\"rgb(214,96,77)\"],[0.9,\"rgb(178,24,43)\"],[1.0,\"rgb(103,0,31)\"]],\"cmin\":-1,\"cmax\":1},\"margin\":{\"t\":60},\"width\":1000,\"height\":1000,\"title\":{\"text\":\"Interactive Correlation Heatmap\"}},                        {\"responsive\": true}                    )                };                            </script>        </div>\n",
       "</body>\n",
       "</html>"
      ]
     },
     "metadata": {},
     "output_type": "display_data"
    }
   ],
   "source": [
    "corr_matrix = train_df.corr(method='spearman')  # set to spearman to catch subtle correlations\n",
    "\n",
    "fig = px.imshow(\n",
    "  img=corr_matrix,\n",
    "  color_continuous_scale='RdBu_r',\n",
    "  zmin=-1, zmax=1,\n",
    "  labels=dict(x='Features', y='Features', color='Correlation'), \n",
    "  x=corr_matrix.columns, \n",
    "  y=corr_matrix.columns,\n",
    "  text_auto=True\n",
    ")\n",
    "\n",
    "fig.update_layout(width=1000, height=1000, title=\"Interactive Correlation Heatmap\")\n",
    "fig.show()"
   ]
  },
  {
   "cell_type": "code",
   "execution_count": 0,
   "metadata": {
    "application/vnd.databricks.v1+cell": {
     "cellMetadata": {
      "byteLimit": 2048000,
      "rowLimit": 10000
     },
     "inputWidgets": {},
     "nuid": "0bbb8437-81d3-48e6-b9e0-a72b8423d25a",
     "showTitle": false,
     "tableResultSettingsMap": {},
     "title": ""
    }
   },
   "outputs": [],
   "source": []
  }
 ],
 "metadata": {
  "application/vnd.databricks.v1+notebook": {
   "computePreferences": {
    "hardware": {
     "accelerator": null,
     "gpuPoolId": null,
     "memory": null
    }
   },
   "dashboards": [],
   "environmentMetadata": {
    "base_environment": "",
    "environment_version": "4"
   },
   "inputWidgetPreferences": null,
   "language": "python",
   "notebookMetadata": {
    "pythonIndentUnit": 4
   },
   "notebookName": "eda",
   "widgets": {}
  },
  "language_info": {
   "name": "python"
  }
 },
 "nbformat": 4,
 "nbformat_minor": 0
}
