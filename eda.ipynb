{
 "cells": [
  {
   "cell_type": "markdown",
   "metadata": {
    "application/vnd.databricks.v1+cell": {
     "cellMetadata": {
      "byteLimit": 2048000,
      "rowLimit": 10000
     },
     "inputWidgets": {},
     "nuid": "f31d468c-a2cd-4a9d-a648-74f8349cb68c",
     "showTitle": false,
     "tableResultSettingsMap": {},
     "title": ""
    }
   },
   "source": [
    "\n",
    "# Exploratory Data Analysis"
   ]
  },
  {
   "cell_type": "markdown",
   "metadata": {
    "application/vnd.databricks.v1+cell": {
     "cellMetadata": {
      "byteLimit": 2048000,
      "rowLimit": 10000
     },
     "inputWidgets": {},
     "nuid": "4a1c80fe-a35f-46ac-8201-efcc4850f1d5",
     "showTitle": false,
     "tableResultSettingsMap": {},
     "title": ""
    }
   },
   "source": [
    "\n",
    "## import libraries and data"
   ]
  },
  {
   "cell_type": "code",
   "execution_count": 0,
   "metadata": {
    "application/vnd.databricks.v1+cell": {
     "cellMetadata": {
      "byteLimit": 2048000,
      "rowLimit": 10000
     },
     "inputWidgets": {},
     "nuid": "3e0c74c8-1eb6-415b-93f4-7ce37d3fe808",
     "showTitle": false,
     "tableResultSettingsMap": {},
     "title": ""
    }
   },
   "outputs": [
    {
     "output_type": "display_data",
     "data": {
      "application/vnd.databricks.v1+spark_ml_hint": "",
      "text/plain": []
     },
     "metadata": {},
     "output_type": "display_data"
    }
   ],
   "source": [
    "import pyspark\n",
    "import numpy as np\n",
    "import matplotlib.pyplot as plt\n",
    "import pandas as pd\n",
    "import seaborn as sns"
   ]
  },
  {
   "cell_type": "code",
   "execution_count": 0,
   "metadata": {
    "application/vnd.databricks.v1+cell": {
     "cellMetadata": {
      "byteLimit": 2048000,
      "rowLimit": 10000
     },
     "inputWidgets": {},
     "nuid": "6bb15450-d992-43fe-919f-82e5ffe7f87f",
     "showTitle": false,
     "tableResultSettingsMap": {},
     "title": ""
    }
   },
   "outputs": [
    {
     "output_type": "stream",
     "name": "stdout",
     "output_type": "stream",
     "text": [
      "train set has 595212 rows and 59 columns.\ntest set has 892816 rows and 58 columns.\n"
     ]
    }
   ],
   "source": [
    "CATALOG = \"workspace\"\n",
    "SCHEMA = \"safe_driver_prediction\"\n",
    "\n",
    "train_df = spark.read.table(f\"{CATALOG}.{SCHEMA}.train\")\n",
    "test_df = spark.read.table(f\"{CATALOG}.{SCHEMA}.test\")\n",
    "\n",
    "print(f\"train set has {train_df.count()} rows and {len(train_df.columns)} columns.\")\n",
    "print(f\"test set has {test_df.count()} rows and {len(test_df.columns)} columns.\")"
   ]
  },
  {
   "cell_type": "code",
   "execution_count": 0,
   "metadata": {
    "application/vnd.databricks.v1+cell": {
     "cellMetadata": {
      "byteLimit": 2048000,
      "rowLimit": 10000
     },
     "inputWidgets": {},
     "nuid": "8ac6d6f5-0215-4351-be38-66b80d90adef",
     "showTitle": false,
     "tableResultSettingsMap": {},
     "title": ""
    }
   },
   "outputs": [
    {
     "output_type": "display_data",
     "data": {
      "text/html": [
       "<style scoped>\n",
       "  .table-result-container {\n",
       "    max-height: 300px;\n",
       "    overflow: auto;\n",
       "  }\n",
       "  table, th, td {\n",
       "    border: 1px solid black;\n",
       "    border-collapse: collapse;\n",
       "  }\n",
       "  th, td {\n",
       "    padding: 5px;\n",
       "  }\n",
       "  th {\n",
       "    text-align: left;\n",
       "  }\n",
       "</style><div class='table-result-container'><table class='table-result'><thead style='background-color: white'><tr><th>id</th><th>target</th><th>ps_ind_01</th><th>ps_ind_02_cat</th><th>ps_ind_03</th><th>ps_ind_04_cat</th><th>ps_ind_05_cat</th><th>ps_ind_06_bin</th><th>ps_ind_07_bin</th><th>ps_ind_08_bin</th><th>ps_ind_09_bin</th><th>ps_ind_10_bin</th><th>ps_ind_11_bin</th><th>ps_ind_12_bin</th><th>ps_ind_13_bin</th><th>ps_ind_14</th><th>ps_ind_15</th><th>ps_ind_16_bin</th><th>ps_ind_17_bin</th><th>ps_ind_18_bin</th><th>ps_reg_01</th><th>ps_reg_02</th><th>ps_reg_03</th><th>ps_car_01_cat</th><th>ps_car_02_cat</th><th>ps_car_03_cat</th><th>ps_car_04_cat</th><th>ps_car_05_cat</th><th>ps_car_06_cat</th><th>ps_car_07_cat</th><th>ps_car_08_cat</th><th>ps_car_09_cat</th><th>ps_car_10_cat</th><th>ps_car_11_cat</th><th>ps_car_11</th><th>ps_car_12</th><th>ps_car_13</th><th>ps_car_14</th><th>ps_car_15</th><th>ps_calc_01</th><th>ps_calc_02</th><th>ps_calc_03</th><th>ps_calc_04</th><th>ps_calc_05</th><th>ps_calc_06</th><th>ps_calc_07</th><th>ps_calc_08</th><th>ps_calc_09</th><th>ps_calc_10</th><th>ps_calc_11</th><th>ps_calc_12</th><th>ps_calc_13</th><th>ps_calc_14</th><th>ps_calc_15_bin</th><th>ps_calc_16_bin</th><th>ps_calc_17_bin</th><th>ps_calc_18_bin</th><th>ps_calc_19_bin</th><th>ps_calc_20_bin</th></tr></thead><tbody><tr><td>863026</td><td>0</td><td>0</td><td>1</td><td>2</td><td>0</td><td>0</td><td>0</td><td>1</td><td>0</td><td>0</td><td>0</td><td>0</td><td>0</td><td>0</td><td>0</td><td>0</td><td>0</td><td>0</td><td>0</td><td>0.2</td><td>0.1</td><td>-1.0</td><td>6</td><td>1</td><td>-1</td><td>0</td><td>1</td><td>15</td><td>1</td><td>1</td><td>0</td><td>1</td><td>5</td><td>2</td><td>0.44721359549999995</td><td>1.1285549892</td><td>0.4</td><td>3.4641016150999997</td><td>0.2</td><td>0.4</td><td>0.0</td><td>2</td><td>2</td><td>8</td><td>3</td><td>11</td><td>3</td><td>11</td><td>7</td><td>2</td><td>2</td><td>11</td><td>0</td><td>1</td><td>1</td><td>0</td><td>0</td><td>0</td></tr><tr><td>863030</td><td>1</td><td>1</td><td>2</td><td>1</td><td>0</td><td>0</td><td>1</td><td>0</td><td>0</td><td>0</td><td>0</td><td>0</td><td>0</td><td>0</td><td>0</td><td>8</td><td>0</td><td>1</td><td>0</td><td>0.7</td><td>0.9</td><td>1.9031224343000002</td><td>11</td><td>1</td><td>-1</td><td>0</td><td>-1</td><td>0</td><td>1</td><td>1</td><td>1</td><td>1</td><td>78</td><td>3</td><td>0.4</td><td>0.7979959403</td><td>0.38483762810000005</td><td>3.3166247904</td><td>0.4</td><td>0.3</td><td>0.8</td><td>2</td><td>4</td><td>8</td><td>4</td><td>8</td><td>2</td><td>9</td><td>6</td><td>1</td><td>2</td><td>5</td><td>0</td><td>1</td><td>0</td><td>0</td><td>1</td><td>0</td></tr><tr><td>863031</td><td>0</td><td>0</td><td>1</td><td>7</td><td>0</td><td>0</td><td>1</td><td>0</td><td>0</td><td>0</td><td>0</td><td>0</td><td>0</td><td>0</td><td>0</td><td>12</td><td>1</td><td>0</td><td>0</td><td>0.3</td><td>0.2</td><td>-1.0</td><td>5</td><td>1</td><td>0</td><td>0</td><td>0</td><td>0</td><td>1</td><td>1</td><td>2</td><td>1</td><td>95</td><td>2</td><td>0.399374511</td><td>0.6440605947</td><td>0.3322649545</td><td>2.0</td><td>0.1</td><td>0.0</td><td>0.0</td><td>2</td><td>2</td><td>8</td><td>4</td><td>10</td><td>4</td><td>7</td><td>2</td><td>3</td><td>2</td><td>10</td><td>1</td><td>1</td><td>0</td><td>0</td><td>0</td><td>0</td></tr><tr><td>863033</td><td>0</td><td>1</td><td>3</td><td>8</td><td>1</td><td>0</td><td>0</td><td>0</td><td>0</td><td>1</td><td>0</td><td>0</td><td>0</td><td>0</td><td>0</td><td>3</td><td>1</td><td>0</td><td>0</td><td>0.9</td><td>1.2</td><td>0.6025985397</td><td>11</td><td>0</td><td>1</td><td>0</td><td>1</td><td>7</td><td>1</td><td>1</td><td>2</td><td>1</td><td>79</td><td>3</td><td>0.4</td><td>1.0048230797</td><td>0.3466987165</td><td>3.6055512755000003</td><td>0.6</td><td>0.6</td><td>0.0</td><td>0</td><td>1</td><td>8</td><td>4</td><td>10</td><td>3</td><td>9</td><td>2</td><td>4</td><td>3</td><td>10</td><td>0</td><td>0</td><td>1</td><td>1</td><td>0</td><td>0</td></tr><tr><td>863034</td><td>0</td><td>5</td><td>2</td><td>1</td><td>1</td><td>0</td><td>0</td><td>0</td><td>1</td><td>0</td><td>0</td><td>0</td><td>0</td><td>0</td><td>0</td><td>6</td><td>0</td><td>1</td><td>0</td><td>0.9</td><td>1.2</td><td>1.6678953803999998</td><td>11</td><td>1</td><td>0</td><td>0</td><td>1</td><td>1</td><td>1</td><td>1</td><td>2</td><td>1</td><td>70</td><td>3</td><td>0.3741657387</td><td>0.7491041481999999</td><td>0.33911649920000003</td><td>3.0</td><td>0.5</td><td>0.3</td><td>0.4</td><td>2</td><td>2</td><td>8</td><td>3</td><td>10</td><td>4</td><td>8</td><td>5</td><td>2</td><td>2</td><td>6</td><td>0</td><td>1</td><td>1</td><td>0</td><td>0</td><td>0</td></tr><tr><td>863036</td><td>0</td><td>7</td><td>1</td><td>3</td><td>1</td><td>0</td><td>0</td><td>0</td><td>0</td><td>1</td><td>0</td><td>0</td><td>0</td><td>0</td><td>0</td><td>7</td><td>1</td><td>0</td><td>0</td><td>0.9</td><td>0.5</td><td>0.9093266740000001</td><td>6</td><td>1</td><td>-1</td><td>0</td><td>1</td><td>1</td><td>1</td><td>1</td><td>0</td><td>1</td><td>64</td><td>1</td><td>0.316227766</td><td>0.6621246793</td><td>0.3701351105</td><td>2.8284271247</td><td>0.2</td><td>0.2</td><td>0.3</td><td>4</td><td>2</td><td>7</td><td>2</td><td>10</td><td>1</td><td>11</td><td>3</td><td>0</td><td>0</td><td>5</td><td>0</td><td>0</td><td>0</td><td>0</td><td>0</td><td>0</td></tr><tr><td>863039</td><td>0</td><td>0</td><td>2</td><td>6</td><td>1</td><td>0</td><td>0</td><td>1</td><td>0</td><td>0</td><td>0</td><td>0</td><td>0</td><td>0</td><td>0</td><td>5</td><td>1</td><td>0</td><td>0</td><td>0.1</td><td>0.1</td><td>-1.0</td><td>7</td><td>1</td><td>-1</td><td>0</td><td>-1</td><td>1</td><td>1</td><td>1</td><td>2</td><td>1</td><td>25</td><td>3</td><td>0.3741657387</td><td>0.7942848543000001</td><td>-1.0</td><td>3.6055512755000003</td><td>0.5</td><td>0.9</td><td>0.2</td><td>3</td><td>3</td><td>8</td><td>3</td><td>7</td><td>5</td><td>14</td><td>4</td><td>2</td><td>0</td><td>9</td><td>0</td><td>1</td><td>0</td><td>1</td><td>1</td><td>0</td></tr><tr><td>863040</td><td>0</td><td>1</td><td>3</td><td>6</td><td>1</td><td>0</td><td>0</td><td>0</td><td>1</td><td>0</td><td>0</td><td>0</td><td>0</td><td>0</td><td>0</td><td>1</td><td>0</td><td>0</td><td>1</td><td>0.5</td><td>0.2</td><td>0.6694213918999999</td><td>11</td><td>1</td><td>-1</td><td>0</td><td>-1</td><td>14</td><td>1</td><td>1</td><td>2</td><td>1</td><td>82</td><td>3</td><td>0.316227766</td><td>0.7445775051000001</td><td>0.36851051549999997</td><td>3.4641016150999997</td><td>0.4</td><td>0.8</td><td>0.9</td><td>3</td><td>4</td><td>8</td><td>2</td><td>9</td><td>1</td><td>10</td><td>3</td><td>3</td><td>3</td><td>3</td><td>0</td><td>1</td><td>0</td><td>0</td><td>0</td><td>0</td></tr><tr><td>863043</td><td>0</td><td>0</td><td>2</td><td>1</td><td>0</td><td>0</td><td>0</td><td>1</td><td>0</td><td>0</td><td>0</td><td>0</td><td>0</td><td>0</td><td>0</td><td>6</td><td>1</td><td>0</td><td>0</td><td>0.4</td><td>0.0</td><td>0.5273755777</td><td>11</td><td>0</td><td>1</td><td>9</td><td>1</td><td>2</td><td>-1</td><td>0</td><td>1</td><td>1</td><td>104</td><td>3</td><td>0.44721359549999995</td><td>1.6885614200999999</td><td>0.4669047012</td><td>3.7416573868</td><td>0.1</td><td>0.5</td><td>0.1</td><td>0</td><td>0</td><td>8</td><td>3</td><td>11</td><td>2</td><td>8</td><td>1</td><td>0</td><td>1</td><td>14</td><td>0</td><td>1</td><td>1</td><td>0</td><td>1</td><td>1</td></tr><tr><td>863044</td><td>0</td><td>0</td><td>1</td><td>5</td><td>0</td><td>0</td><td>1</td><td>0</td><td>0</td><td>0</td><td>0</td><td>0</td><td>0</td><td>0</td><td>0</td><td>10</td><td>1</td><td>0</td><td>0</td><td>0.3</td><td>0.2</td><td>-1.0</td><td>10</td><td>1</td><td>-1</td><td>0</td><td>1</td><td>11</td><td>1</td><td>1</td><td>0</td><td>1</td><td>103</td><td>1</td><td>0.316227766</td><td>0.5818892002</td><td>0.3583294573</td><td>2.8284271247</td><td>0.0</td><td>0.2</td><td>0.1</td><td>1</td><td>3</td><td>8</td><td>3</td><td>8</td><td>4</td><td>9</td><td>6</td><td>1</td><td>2</td><td>11</td><td>0</td><td>1</td><td>0</td><td>0</td><td>0</td><td>0</td></tr></tbody></table></div>"
      ]
     },
     "metadata": {
      "application/vnd.databricks.v1+output": {
       "addedWidgets": {},
       "aggData": [],
       "aggError": "",
       "aggOverflow": false,
       "aggSchema": [],
       "aggSeriesLimitReached": false,
       "aggType": "",
       "arguments": {},
       "columnCustomDisplayInfos": {},
       "data": [
        [
         863026,
         0,
         0,
         1,
         2,
         0,
         0,
         0,
         1,
         0,
         0,
         0,
         0,
         0,
         0,
         0,
         0,
         0,
         0,
         0,
         0.2,
         0.1,
         -1.0,
         6,
         1,
         -1,
         0,
         1,
         15,
         1,
         1,
         0,
         1,
         5,
         2,
         0.44721359549999995,
         1.1285549892,
         0.4,
         3.4641016150999997,
         0.2,
         0.4,
         0.0,
         2,
         2,
         8,
         3,
         11,
         3,
         11,
         7,
         2,
         2,
         11,
         0,
         1,
         1,
         0,
         0,
         0
        ],
        [
         863030,
         1,
         1,
         2,
         1,
         0,
         0,
         1,
         0,
         0,
         0,
         0,
         0,
         0,
         0,
         0,
         8,
         0,
         1,
         0,
         0.7,
         0.9,
         1.9031224343000002,
         11,
         1,
         -1,
         0,
         -1,
         0,
         1,
         1,
         1,
         1,
         78,
         3,
         0.4,
         0.7979959403,
         0.38483762810000005,
         3.3166247904,
         0.4,
         0.3,
         0.8,
         2,
         4,
         8,
         4,
         8,
         2,
         9,
         6,
         1,
         2,
         5,
         0,
         1,
         0,
         0,
         1,
         0
        ],
        [
         863031,
         0,
         0,
         1,
         7,
         0,
         0,
         1,
         0,
         0,
         0,
         0,
         0,
         0,
         0,
         0,
         12,
         1,
         0,
         0,
         0.3,
         0.2,
         -1.0,
         5,
         1,
         0,
         0,
         0,
         0,
         1,
         1,
         2,
         1,
         95,
         2,
         0.399374511,
         0.6440605947,
         0.3322649545,
         2.0,
         0.1,
         0.0,
         0.0,
         2,
         2,
         8,
         4,
         10,
         4,
         7,
         2,
         3,
         2,
         10,
         1,
         1,
         0,
         0,
         0,
         0
        ],
        [
         863033,
         0,
         1,
         3,
         8,
         1,
         0,
         0,
         0,
         0,
         1,
         0,
         0,
         0,
         0,
         0,
         3,
         1,
         0,
         0,
         0.9,
         1.2,
         0.6025985397,
         11,
         0,
         1,
         0,
         1,
         7,
         1,
         1,
         2,
         1,
         79,
         3,
         0.4,
         1.0048230797,
         0.3466987165,
         3.6055512755000003,
         0.6,
         0.6,
         0.0,
         0,
         1,
         8,
         4,
         10,
         3,
         9,
         2,
         4,
         3,
         10,
         0,
         0,
         1,
         1,
         0,
         0
        ],
        [
         863034,
         0,
         5,
         2,
         1,
         1,
         0,
         0,
         0,
         1,
         0,
         0,
         0,
         0,
         0,
         0,
         6,
         0,
         1,
         0,
         0.9,
         1.2,
         1.6678953803999998,
         11,
         1,
         0,
         0,
         1,
         1,
         1,
         1,
         2,
         1,
         70,
         3,
         0.3741657387,
         0.7491041481999999,
         0.33911649920000003,
         3.0,
         0.5,
         0.3,
         0.4,
         2,
         2,
         8,
         3,
         10,
         4,
         8,
         5,
         2,
         2,
         6,
         0,
         1,
         1,
         0,
         0,
         0
        ],
        [
         863036,
         0,
         7,
         1,
         3,
         1,
         0,
         0,
         0,
         0,
         1,
         0,
         0,
         0,
         0,
         0,
         7,
         1,
         0,
         0,
         0.9,
         0.5,
         0.9093266740000001,
         6,
         1,
         -1,
         0,
         1,
         1,
         1,
         1,
         0,
         1,
         64,
         1,
         0.316227766,
         0.6621246793,
         0.3701351105,
         2.8284271247,
         0.2,
         0.2,
         0.3,
         4,
         2,
         7,
         2,
         10,
         1,
         11,
         3,
         0,
         0,
         5,
         0,
         0,
         0,
         0,
         0,
         0
        ],
        [
         863039,
         0,
         0,
         2,
         6,
         1,
         0,
         0,
         1,
         0,
         0,
         0,
         0,
         0,
         0,
         0,
         5,
         1,
         0,
         0,
         0.1,
         0.1,
         -1.0,
         7,
         1,
         -1,
         0,
         -1,
         1,
         1,
         1,
         2,
         1,
         25,
         3,
         0.3741657387,
         0.7942848543000001,
         -1.0,
         3.6055512755000003,
         0.5,
         0.9,
         0.2,
         3,
         3,
         8,
         3,
         7,
         5,
         14,
         4,
         2,
         0,
         9,
         0,
         1,
         0,
         1,
         1,
         0
        ],
        [
         863040,
         0,
         1,
         3,
         6,
         1,
         0,
         0,
         0,
         1,
         0,
         0,
         0,
         0,
         0,
         0,
         1,
         0,
         0,
         1,
         0.5,
         0.2,
         0.6694213918999999,
         11,
         1,
         -1,
         0,
         -1,
         14,
         1,
         1,
         2,
         1,
         82,
         3,
         0.316227766,
         0.7445775051000001,
         0.36851051549999997,
         3.4641016150999997,
         0.4,
         0.8,
         0.9,
         3,
         4,
         8,
         2,
         9,
         1,
         10,
         3,
         3,
         3,
         3,
         0,
         1,
         0,
         0,
         0,
         0
        ],
        [
         863043,
         0,
         0,
         2,
         1,
         0,
         0,
         0,
         1,
         0,
         0,
         0,
         0,
         0,
         0,
         0,
         6,
         1,
         0,
         0,
         0.4,
         0.0,
         0.5273755777,
         11,
         0,
         1,
         9,
         1,
         2,
         -1,
         0,
         1,
         1,
         104,
         3,
         0.44721359549999995,
         1.6885614200999999,
         0.4669047012,
         3.7416573868,
         0.1,
         0.5,
         0.1,
         0,
         0,
         8,
         3,
         11,
         2,
         8,
         1,
         0,
         1,
         14,
         0,
         1,
         1,
         0,
         1,
         1
        ],
        [
         863044,
         0,
         0,
         1,
         5,
         0,
         0,
         1,
         0,
         0,
         0,
         0,
         0,
         0,
         0,
         0,
         10,
         1,
         0,
         0,
         0.3,
         0.2,
         -1.0,
         10,
         1,
         -1,
         0,
         1,
         11,
         1,
         1,
         0,
         1,
         103,
         1,
         0.316227766,
         0.5818892002,
         0.3583294573,
         2.8284271247,
         0.0,
         0.2,
         0.1,
         1,
         3,
         8,
         3,
         8,
         4,
         9,
         6,
         1,
         2,
         11,
         0,
         1,
         0,
         0,
         0,
         0
        ]
       ],
       "datasetInfos": [],
       "dbfsResultPath": null,
       "isJsonSchema": true,
       "metadata": {},
       "overflow": false,
       "plotOptions": {
        "customPlotOptions": {},
        "displayType": "table",
        "pivotAggregation": null,
        "pivotColumns": null,
        "xColumns": null,
        "yColumns": null
       },
       "removedWidgets": [],
       "schema": [
        {
         "metadata": "{}",
         "name": "id",
         "type": "\"integer\""
        },
        {
         "metadata": "{}",
         "name": "target",
         "type": "\"integer\""
        },
        {
         "metadata": "{}",
         "name": "ps_ind_01",
         "type": "\"integer\""
        },
        {
         "metadata": "{}",
         "name": "ps_ind_02_cat",
         "type": "\"integer\""
        },
        {
         "metadata": "{}",
         "name": "ps_ind_03",
         "type": "\"integer\""
        },
        {
         "metadata": "{}",
         "name": "ps_ind_04_cat",
         "type": "\"integer\""
        },
        {
         "metadata": "{}",
         "name": "ps_ind_05_cat",
         "type": "\"integer\""
        },
        {
         "metadata": "{}",
         "name": "ps_ind_06_bin",
         "type": "\"integer\""
        },
        {
         "metadata": "{}",
         "name": "ps_ind_07_bin",
         "type": "\"integer\""
        },
        {
         "metadata": "{}",
         "name": "ps_ind_08_bin",
         "type": "\"integer\""
        },
        {
         "metadata": "{}",
         "name": "ps_ind_09_bin",
         "type": "\"integer\""
        },
        {
         "metadata": "{}",
         "name": "ps_ind_10_bin",
         "type": "\"integer\""
        },
        {
         "metadata": "{}",
         "name": "ps_ind_11_bin",
         "type": "\"integer\""
        },
        {
         "metadata": "{}",
         "name": "ps_ind_12_bin",
         "type": "\"integer\""
        },
        {
         "metadata": "{}",
         "name": "ps_ind_13_bin",
         "type": "\"integer\""
        },
        {
         "metadata": "{}",
         "name": "ps_ind_14",
         "type": "\"integer\""
        },
        {
         "metadata": "{}",
         "name": "ps_ind_15",
         "type": "\"integer\""
        },
        {
         "metadata": "{}",
         "name": "ps_ind_16_bin",
         "type": "\"integer\""
        },
        {
         "metadata": "{}",
         "name": "ps_ind_17_bin",
         "type": "\"integer\""
        },
        {
         "metadata": "{}",
         "name": "ps_ind_18_bin",
         "type": "\"integer\""
        },
        {
         "metadata": "{}",
         "name": "ps_reg_01",
         "type": "\"double\""
        },
        {
         "metadata": "{}",
         "name": "ps_reg_02",
         "type": "\"double\""
        },
        {
         "metadata": "{}",
         "name": "ps_reg_03",
         "type": "\"double\""
        },
        {
         "metadata": "{}",
         "name": "ps_car_01_cat",
         "type": "\"integer\""
        },
        {
         "metadata": "{}",
         "name": "ps_car_02_cat",
         "type": "\"integer\""
        },
        {
         "metadata": "{}",
         "name": "ps_car_03_cat",
         "type": "\"integer\""
        },
        {
         "metadata": "{}",
         "name": "ps_car_04_cat",
         "type": "\"integer\""
        },
        {
         "metadata": "{}",
         "name": "ps_car_05_cat",
         "type": "\"integer\""
        },
        {
         "metadata": "{}",
         "name": "ps_car_06_cat",
         "type": "\"integer\""
        },
        {
         "metadata": "{}",
         "name": "ps_car_07_cat",
         "type": "\"integer\""
        },
        {
         "metadata": "{}",
         "name": "ps_car_08_cat",
         "type": "\"integer\""
        },
        {
         "metadata": "{}",
         "name": "ps_car_09_cat",
         "type": "\"integer\""
        },
        {
         "metadata": "{}",
         "name": "ps_car_10_cat",
         "type": "\"integer\""
        },
        {
         "metadata": "{}",
         "name": "ps_car_11_cat",
         "type": "\"integer\""
        },
        {
         "metadata": "{}",
         "name": "ps_car_11",
         "type": "\"integer\""
        },
        {
         "metadata": "{}",
         "name": "ps_car_12",
         "type": "\"double\""
        },
        {
         "metadata": "{}",
         "name": "ps_car_13",
         "type": "\"double\""
        },
        {
         "metadata": "{}",
         "name": "ps_car_14",
         "type": "\"double\""
        },
        {
         "metadata": "{}",
         "name": "ps_car_15",
         "type": "\"double\""
        },
        {
         "metadata": "{}",
         "name": "ps_calc_01",
         "type": "\"double\""
        },
        {
         "metadata": "{}",
         "name": "ps_calc_02",
         "type": "\"double\""
        },
        {
         "metadata": "{}",
         "name": "ps_calc_03",
         "type": "\"double\""
        },
        {
         "metadata": "{}",
         "name": "ps_calc_04",
         "type": "\"integer\""
        },
        {
         "metadata": "{}",
         "name": "ps_calc_05",
         "type": "\"integer\""
        },
        {
         "metadata": "{}",
         "name": "ps_calc_06",
         "type": "\"integer\""
        },
        {
         "metadata": "{}",
         "name": "ps_calc_07",
         "type": "\"integer\""
        },
        {
         "metadata": "{}",
         "name": "ps_calc_08",
         "type": "\"integer\""
        },
        {
         "metadata": "{}",
         "name": "ps_calc_09",
         "type": "\"integer\""
        },
        {
         "metadata": "{}",
         "name": "ps_calc_10",
         "type": "\"integer\""
        },
        {
         "metadata": "{}",
         "name": "ps_calc_11",
         "type": "\"integer\""
        },
        {
         "metadata": "{}",
         "name": "ps_calc_12",
         "type": "\"integer\""
        },
        {
         "metadata": "{}",
         "name": "ps_calc_13",
         "type": "\"integer\""
        },
        {
         "metadata": "{}",
         "name": "ps_calc_14",
         "type": "\"integer\""
        },
        {
         "metadata": "{}",
         "name": "ps_calc_15_bin",
         "type": "\"integer\""
        },
        {
         "metadata": "{}",
         "name": "ps_calc_16_bin",
         "type": "\"integer\""
        },
        {
         "metadata": "{}",
         "name": "ps_calc_17_bin",
         "type": "\"integer\""
        },
        {
         "metadata": "{}",
         "name": "ps_calc_18_bin",
         "type": "\"integer\""
        },
        {
         "metadata": "{}",
         "name": "ps_calc_19_bin",
         "type": "\"integer\""
        },
        {
         "metadata": "{}",
         "name": "ps_calc_20_bin",
         "type": "\"integer\""
        }
       ],
       "type": "table"
      }
     },
     "output_type": "display_data"
    }
   ],
   "source": [
    "train_df.limit(10).display()\n"
   ]
  },
  {
   "cell_type": "markdown",
   "metadata": {
    "application/vnd.databricks.v1+cell": {
     "cellMetadata": {
      "byteLimit": 2048000,
      "rowLimit": 10000
     },
     "inputWidgets": {},
     "nuid": "83a5cc93-5050-4c47-b4f9-72a54012fc0e",
     "showTitle": false,
     "tableResultSettingsMap": {},
     "title": ""
    }
   },
   "source": [
    "\n",
    "## check different feature types"
   ]
  },
  {
   "cell_type": "code",
   "execution_count": 0,
   "metadata": {
    "application/vnd.databricks.v1+cell": {
     "cellMetadata": {
      "byteLimit": 2048000,
      "rowLimit": 10000
     },
     "inputWidgets": {},
     "nuid": "b4f56e1e-0394-4ec9-ba9e-1c79047ed858",
     "showTitle": false,
     "tableResultSettingsMap": {},
     "title": ""
    }
   },
   "outputs": [],
   "source": [
    "train_df = train_df.toPandas()\n",
    "test_df = test_df.toPandas()"
   ]
  },
  {
   "cell_type": "code",
   "execution_count": 0,
   "metadata": {
    "application/vnd.databricks.v1+cell": {
     "cellMetadata": {
      "byteLimit": 2048000,
      "rowLimit": 10000
     },
     "inputWidgets": {},
     "nuid": "509d1e75-c029-45a8-8749-755a65e75e2b",
     "showTitle": false,
     "tableResultSettingsMap": {},
     "title": ""
    }
   },
   "outputs": [],
   "source": [
    "train_df.columns = train_df.columns.str.replace('ps_', '', regex=False)\n",
    "test_df.columns = test_df.columns.str.replace('ps_', '', regex=False)"
   ]
  },
  {
   "cell_type": "code",
   "execution_count": 0,
   "metadata": {
    "application/vnd.databricks.v1+cell": {
     "cellMetadata": {
      "byteLimit": 2048000,
      "rowLimit": 10000
     },
     "inputWidgets": {},
     "nuid": "66df1bcd-7d02-4ae0-bc6d-d9c069b4a2b4",
     "showTitle": false,
     "tableResultSettingsMap": {},
     "title": ""
    }
   },
   "outputs": [
    {
     "output_type": "stream",
     "name": "stdout",
     "output_type": "stream",
     "text": [
      "categorical features: \n ['ind_02_cat', 'ind_04_cat', 'ind_05_cat', 'car_01_cat', 'car_02_cat', 'car_03_cat', 'car_04_cat', 'car_05_cat', 'car_06_cat', 'car_07_cat', 'car_08_cat', 'car_09_cat', 'car_10_cat', 'car_11_cat']\n--------------------------------------\nbinary features: \n ['ind_06_bin', 'ind_07_bin', 'ind_08_bin', 'ind_09_bin', 'ind_10_bin', 'ind_11_bin', 'ind_12_bin', 'ind_13_bin', 'ind_16_bin', 'ind_17_bin', 'ind_18_bin', 'calc_15_bin', 'calc_16_bin', 'calc_17_bin', 'calc_18_bin', 'calc_19_bin', 'calc_20_bin']\n--------------------------------------\n--------------------------------------\nvehicle features: \n ['car_01_cat', 'car_02_cat', 'car_03_cat', 'car_04_cat', 'car_05_cat', 'car_06_cat', 'car_07_cat', 'car_08_cat', 'car_09_cat', 'car_10_cat', 'car_11_cat', 'car_11', 'car_12', 'car_13', 'car_14', 'car_15']\n--------------------------------------\nindicator features: \n ['ind_01', 'ind_02_cat', 'ind_03', 'ind_04_cat', 'ind_05_cat', 'ind_06_bin', 'ind_07_bin', 'ind_08_bin', 'ind_09_bin', 'ind_10_bin', 'ind_11_bin', 'ind_12_bin', 'ind_13_bin', 'ind_14', 'ind_15', 'ind_16_bin', 'ind_17_bin', 'ind_18_bin']\n--------------------------------------\nregular features: \n ['reg_01', 'reg_02', 'reg_03']\n--------------------------------------\ncalculated features: \n ['calc_01', 'calc_02', 'calc_03', 'calc_04', 'calc_05', 'calc_06', 'calc_07', 'calc_08', 'calc_09', 'calc_10', 'calc_11', 'calc_12', 'calc_13', 'calc_14', 'calc_15_bin', 'calc_16_bin', 'calc_17_bin', 'calc_18_bin', 'calc_19_bin', 'calc_20_bin']\n--------------------------------------\n"
     ]
    }
   ],
   "source": [
    "\n",
    "columns = train_df.columns\n",
    "\n",
    "print(\"categorical features: \\n\", [col for col in columns if \"_cat\" in col])\n",
    "print(\"--------------------------------------\")\n",
    "print(\"binary features: \\n\", [col for col in columns if \"_bin\" in col])\n",
    "\n",
    "print(\"--------------------------------------\")\n",
    "print(\"--------------------------------------\")\n",
    "\n",
    "print(\"vehicle features: \\n\", [col for col in columns if \"car_\" in col])\n",
    "print(\"--------------------------------------\")\n",
    "print(\"indicator features: \\n\", [col for col in columns if \"ind_\" in col])\n",
    "print(\"--------------------------------------\")\n",
    "print(\"regular features: \\n\", [col for col in columns if \"reg_\" in col])\n",
    "print(\"--------------------------------------\")\n",
    "print(\"calculated features: \\n\", [col for col in columns if \"calc_\" in col])\n",
    "print(\"--------------------------------------\")"
   ]
  },
  {
   "cell_type": "markdown",
   "metadata": {
    "application/vnd.databricks.v1+cell": {
     "cellMetadata": {
      "byteLimit": 2048000,
      "rowLimit": 10000
     },
     "inputWidgets": {},
     "nuid": "5169a026-8a66-4b88-ae85-fc25dc3d6bc0",
     "showTitle": false,
     "tableResultSettingsMap": {},
     "title": ""
    }
   },
   "source": [
    "\n",
    "## plot distributions"
   ]
  },
  {
   "cell_type": "code",
   "execution_count": 0,
   "metadata": {
    "application/vnd.databricks.v1+cell": {
     "cellMetadata": {
      "byteLimit": 2048000,
      "rowLimit": 10000
     },
     "inputWidgets": {},
     "nuid": "138b94b7-a21d-4886-abae-b4e904652379",
     "showTitle": false,
     "tableResultSettingsMap": {},
     "title": ""
    }
   },
   "outputs": [],
   "source": [
    "def plot_counts_per_feature(dataset: pd.DataFrame, feature_name: str):\n",
    "    \"\"\"\n",
    "    Plot the counts of unique values in a given feature.\n",
    "    \"\"\"\n",
    "    plt.figure(figsize=(6,4))\n",
    "    sns.countplot(\n",
    "        x=feature_name, data=dataset, \n",
    "        palette='pastel', hue=feature_name, legend=False\n",
    "    )\n",
    "    plt.title(f'counts of unique values in \"{feature_name}\" column')\n",
    "    plt.xlabel(feature_name)\n",
    "    plt.ylabel('counts')\n",
    "    plt.show()"
   ]
  },
  {
   "cell_type": "code",
   "execution_count": 0,
   "metadata": {
    "application/vnd.databricks.v1+cell": {
     "cellMetadata": {
      "byteLimit": 2048000,
      "rowLimit": 10000
     },
     "inputWidgets": {},
     "nuid": "a0c64960-f8ce-438d-8408-fbfc9dbd6d41",
     "showTitle": false,
     "tableResultSettingsMap": {},
     "title": ""
    }
   },
   "outputs": [
    {
     "output_type": "display_data",
     "data": {
      "image/png": "[encoded data removed]",
      "text/plain": [
       "<Figure size 600x400 with 1 Axes>"
      ]
     },
     "metadata": {},
     "output_type": "display_data"
    }
   ],
   "source": [
    "plot_counts_per_feature(\n",
    "  dataset=train_df, \n",
    "  feature_name=\"target\"\n",
    ")"
   ]
  },
  {
   "cell_type": "code",
   "execution_count": 0,
   "metadata": {
    "application/vnd.databricks.v1+cell": {
     "cellMetadata": {
      "byteLimit": 2048000,
      "rowLimit": 10000
     },
     "inputWidgets": {},
     "nuid": "761d7351-bb02-4971-a9af-68a983e45181",
     "showTitle": false,
     "tableResultSettingsMap": {},
     "title": ""
    }
   },
   "outputs": [
    {
     "output_type": "display_data",
     "data": {
      "image/png": "[encoded data removed]",
      "text/plain": [
       "<Figure size 600x400 with 1 Axes>"
      ]
     },
     "metadata": {},
     "output_type": "display_data"
    },
    {
     "output_type": "display_data",
     "data": {
      "image/png": "[encoded data removed]",
      "text/plain": [
       "<Figure size 600x400 with 1 Axes>"
      ]
     },
     "metadata": {},
     "output_type": "display_data"
    },
    {
     "output_type": "display_data",
     "data": {
      "image/png": "[encoded data removed]",
      "text/plain": [
       "<Figure size 600x400 with 1 Axes>"
      ]
     },
     "metadata": {},
     "output_type": "display_data"
    },
    {
     "output_type": "display_data",
     "data": {
      "image/png": "[encoded data removed]",
      "text/plain": [
       "<Figure size 600x400 with 1 Axes>"
      ]
     },
     "metadata": {},
     "output_type": "display_data"
    },
    {
     "output_type": "display_data",
     "data": {
      "image/png": "[encoded data removed]",
      "text/plain": [
       "<Figure size 600x400 with 1 Axes>"
      ]
     },
     "metadata": {},
     "output_type": "display_data"
    }
   ],
   "source": [
    "plot_counts_per_feature(\n",
    "    dataset=train_df,\n",
    "    feature_name=\"ind_02_cat\"  # a categorical indicator feature\n",
    ")\n",
    "\n",
    "plot_counts_per_feature(\n",
    "    dataset=train_df,\n",
    "    feature_name=\"car_01_cat\"  # a categorical vehicle feature\n",
    ")\n",
    "\n",
    "plot_counts_per_feature(\n",
    "    dataset=train_df,\n",
    "    feature_name=\"ind_06_bin\"  # a binary indicator feature\n",
    ")\n",
    "\n",
    "plot_counts_per_feature(\n",
    "    dataset=train_df,\n",
    "    feature_name=\"calc_15_bin\"  # a binary calculated feature\n",
    ")\n",
    "\n",
    "plot_counts_per_feature(\n",
    "    dataset=train_df,\n",
    "    feature_name=\"reg_01\"  # a regular feature\n",
    ")"
   ]
  },
  {
   "cell_type": "code",
   "execution_count": 0,
   "metadata": {
    "application/vnd.databricks.v1+cell": {
     "cellMetadata": {
      "byteLimit": 2048000,
      "rowLimit": 10000
     },
     "inputWidgets": {},
     "nuid": "ad297e1c-804d-43cb-8427-ef7001f4b2b8",
     "showTitle": false,
     "tableResultSettingsMap": {},
     "title": ""
    }
   },
   "outputs": [],
   "source": []
  },
  {
   "cell_type": "code",
   "execution_count": 0,
   "metadata": {
    "application/vnd.databricks.v1+cell": {
     "cellMetadata": {
      "byteLimit": 2048000,
      "rowLimit": 10000
     },
     "inputWidgets": {},
     "nuid": "0bbb8437-81d3-48e6-b9e0-a72b8423d25a",
     "showTitle": false,
     "tableResultSettingsMap": {},
     "title": ""
    }
   },
   "outputs": [],
   "source": []
  }
 ],
 "metadata": {
  "application/vnd.databricks.v1+notebook": {
   "computePreferences": {
    "hardware": {
     "accelerator": null,
     "gpuPoolId": null,
     "memory": null
    }
   },
   "dashboards": [],
   "environmentMetadata": {
    "base_environment": "",
    "environment_version": "4"
   },
   "inputWidgetPreferences": null,
   "language": "python",
   "notebookMetadata": {
    "pythonIndentUnit": 4
   },
   "notebookName": "eda",
   "widgets": {}
  },
  "language_info": {
   "name": "python"
  }
 },
 "nbformat": 4,
 "nbformat_minor": 0
}
