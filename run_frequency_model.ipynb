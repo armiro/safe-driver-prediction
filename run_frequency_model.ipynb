{
 "cells": [
  {
   "cell_type": "code",
   "execution_count": 0,
   "metadata": {
    "application/vnd.databricks.v1+cell": {
     "cellMetadata": {
      "byteLimit": 2048000,
      "rowLimit": 10000
     },
     "inputWidgets": {},
     "nuid": "7f1da525-bfb1-472a-a65b-17f74f403d01",
     "showTitle": false,
     "tableResultSettingsMap": {},
     "title": ""
    }
   },
   "outputs": [
    {
     "output_type": "stream",
     "name": "stdout",
     "output_type": "stream",
     "text": [
      "2.22.0\n"
     ]
    },
    {
     "output_type": "display_data",
     "data": {
      "application/vnd.databricks.v1+spark_ml_hint": "",
      "text/plain": []
     },
     "metadata": {},
     "output_type": "display_data"
    }
   ],
   "source": [
    "import pyspark\n",
    "import mlflow\n",
    "import catboost\n",
    "import pandas as pd\n",
    "import pyspark.sql.functions as F\n",
    "from sklearn.model_selection import train_test_split\n",
    "\n",
    "from src.modelling import FrequencyModelling\n",
    "\n",
    "print(mlflow.__version__)"
   ]
  },
  {
   "cell_type": "code",
   "execution_count": 0,
   "metadata": {
    "application/vnd.databricks.v1+cell": {
     "cellMetadata": {
      "byteLimit": 2048000,
      "rowLimit": 10000
     },
     "inputWidgets": {},
     "nuid": "b034d383-e2b9-404d-a9f8-eba69a6e5b19",
     "showTitle": false,
     "tableResultSettingsMap": {},
     "title": ""
    }
   },
   "outputs": [
    {
     "output_type": "stream",
     "name": "stdout",
     "output_type": "stream",
     "text": [
      "training set has 595212 rows and 63 columns.\n"
     ]
    },
    {
     "output_type": "display_data",
     "data": {
      "text/html": [
       "<style scoped>\n",
       "  .table-result-container {\n",
       "    max-height: 300px;\n",
       "    overflow: auto;\n",
       "  }\n",
       "  table, th, td {\n",
       "    border: 1px solid black;\n",
       "    border-collapse: collapse;\n",
       "  }\n",
       "  th, td {\n",
       "    padding: 5px;\n",
       "  }\n",
       "  th {\n",
       "    text-align: left;\n",
       "  }\n",
       "</style><div class='table-result-container'><table class='table-result'><thead style='background-color: white'><tr><th>id</th><th>target</th><th>ind_01</th><th>ind_02_cat</th><th>ind_03</th><th>ind_04_cat</th><th>ind_05_cat</th><th>ind_06_bin</th><th>ind_07_bin</th><th>ind_08_bin</th><th>ind_09_bin</th><th>ind_10_bin</th><th>ind_11_bin</th><th>ind_12_bin</th><th>ind_13_bin</th><th>ind_14</th><th>ind_15</th><th>ind_16_bin</th><th>ind_17_bin</th><th>ind_18_bin</th><th>reg_01</th><th>reg_02</th><th>reg_03</th><th>car_01_cat</th><th>car_02_cat</th><th>car_03_cat</th><th>car_04_cat</th><th>car_05_cat</th><th>car_06_cat</th><th>car_07_cat</th><th>car_08_cat</th><th>car_09_cat</th><th>car_10_cat</th><th>car_11_cat</th><th>car_11</th><th>car_12</th><th>car_13</th><th>car_14</th><th>car_15</th><th>calc_01</th><th>calc_02</th><th>calc_03</th><th>calc_04</th><th>calc_05</th><th>calc_06</th><th>calc_07</th><th>calc_08</th><th>calc_09</th><th>calc_10</th><th>calc_11</th><th>calc_12</th><th>calc_13</th><th>calc_14</th><th>calc_15_bin</th><th>calc_16_bin</th><th>calc_17_bin</th><th>calc_18_bin</th><th>calc_19_bin</th><th>calc_20_bin</th><th>car_04_cat_simplified</th><th>car_11_cat_simplified</th><th>ind_02_cat_simplified</th><th>ind_05_cat_simplified</th></tr></thead><tbody><tr><td>1212</td><td>0</td><td>0</td><td>1</td><td>7</td><td>1</td><td>0</td><td>1</td><td>0</td><td>0</td><td>0</td><td>0</td><td>0</td><td>0</td><td>0</td><td>0</td><td>12</td><td>1</td><td>0</td><td>0</td><td>0.3</td><td>0.2</td><td>0.8019507466</td><td>4</td><td>1</td><td>0.0</td><td>0</td><td>1.0</td><td>11</td><td>1</td><td>1</td><td>0</td><td>1</td><td>103</td><td>1</td><td>0.316227766</td><td>0.6671451451</td><td>0.3583294573</td><td>3.3166247904</td><td>0.6</td><td>0.3</td><td>0.5</td><td>1</td><td>3</td><td>9</td><td>3</td><td>10</td><td>1</td><td>4</td><td>5</td><td>1</td><td>6</td><td>8</td><td>0</td><td>1</td><td>0</td><td>1</td><td>0</td><td>0</td><td>1</td><td>0</td><td>1</td><td>1</td></tr><tr><td>1477</td><td>0</td><td>0</td><td>1</td><td>7</td><td>0</td><td>0</td><td>1</td><td>0</td><td>0</td><td>0</td><td>0</td><td>0</td><td>0</td><td>0</td><td>0</td><td>3</td><td>0</td><td>0</td><td>1</td><td>0.9</td><td>0.4</td><td>0.7681145748</td><td>11</td><td>1</td><td>0.0</td><td>0</td><td>0.0</td><td>1</td><td>1</td><td>1</td><td>2</td><td>1</td><td>64</td><td>3</td><td>0.316227766</td><td>0.6603123478</td><td>0.3619392214</td><td>3.1622776602</td><td>0.1</td><td>0.2</td><td>0.6</td><td>3</td><td>3</td><td>8</td><td>3</td><td>10</td><td>2</td><td>6</td><td>8</td><td>0</td><td>4</td><td>11</td><td>1</td><td>1</td><td>0</td><td>0</td><td>0</td><td>0</td><td>1</td><td>0</td><td>1</td><td>1</td></tr><tr><td>4101</td><td>0</td><td>0</td><td>2</td><td>0</td><td>0</td><td>6</td><td>1</td><td>0</td><td>0</td><td>0</td><td>0</td><td>0</td><td>0</td><td>0</td><td>0</td><td>0</td><td>0</td><td>0</td><td>1</td><td>0.2</td><td>0.3</td><td>0.8019507466</td><td>8</td><td>0</td><td>0.0</td><td>0</td><td>1.0</td><td>11</td><td>1</td><td>1</td><td>0</td><td>1</td><td>104</td><td>3</td><td>0.44721359549999995</td><td>0.7809191448</td><td>0.4248529157</td><td>2.8284271247</td><td>0.6</td><td>0.7</td><td>0.6</td><td>3</td><td>2</td><td>6</td><td>3</td><td>11</td><td>5</td><td>9</td><td>10</td><td>2</td><td>2</td><td>13</td><td>0</td><td>1</td><td>1</td><td>0</td><td>0</td><td>1</td><td>1</td><td>1</td><td>0</td><td>0</td></tr><tr><td>7596</td><td>0</td><td>6</td><td>2</td><td>9</td><td>0</td><td>0</td><td>0</td><td>0</td><td>1</td><td>0</td><td>0</td><td>0</td><td>0</td><td>0</td><td>0</td><td>7</td><td>1</td><td>0</td><td>0</td><td>0.6</td><td>1.3</td><td>1.0356157589</td><td>8</td><td>1</td><td>1.0</td><td>0</td><td>1.0</td><td>1</td><td>1</td><td>0</td><td>0</td><td>1</td><td>31</td><td>3</td><td>0.423792402</td><td>1.1132773076</td><td>0.4084115571</td><td>3.7416573868</td><td>0.9</td><td>0.8</td><td>0.6</td><td>2</td><td>1</td><td>8</td><td>4</td><td>9</td><td>2</td><td>3</td><td>7</td><td>2</td><td>2</td><td>7</td><td>0</td><td>1</td><td>0</td><td>0</td><td>1</td><td>0</td><td>1</td><td>0</td><td>0</td><td>1</td></tr><tr><td>9769</td><td>0</td><td>1</td><td>4</td><td>7</td><td>1</td><td>0</td><td>1</td><td>0</td><td>0</td><td>0</td><td>0</td><td>0</td><td>0</td><td>0</td><td>0</td><td>5</td><td>0</td><td>0</td><td>0</td><td>0.9</td><td>0.2</td><td>0.8019507466</td><td>6</td><td>1</td><td>0.0</td><td>0</td><td>0.0</td><td>0</td><td>1</td><td>1</td><td>0</td><td>1</td><td>34</td><td>2</td><td>0.4</td><td>0.7783883541</td><td>0.3780211634</td><td>3.3166247904</td><td>0.5</td><td>0.3</td><td>0.0</td><td>1</td><td>4</td><td>10</td><td>3</td><td>11</td><td>1</td><td>8</td><td>8</td><td>0</td><td>2</td><td>11</td><td>0</td><td>1</td><td>0</td><td>0</td><td>0</td><td>0</td><td>1</td><td>0</td><td>0</td><td>1</td></tr><tr><td>11961</td><td>0</td><td>2</td><td>1</td><td>8</td><td>0</td><td>0</td><td>1</td><td>0</td><td>0</td><td>0</td><td>0</td><td>0</td><td>0</td><td>0</td><td>0</td><td>4</td><td>0</td><td>0</td><td>1</td><td>0.8</td><td>0.9</td><td>1.0440306509000001</td><td>11</td><td>1</td><td>1.0</td><td>0</td><td>1.0</td><td>11</td><td>1</td><td>1</td><td>2</td><td>1</td><td>103</td><td>1</td><td>0.3160696126</td><td>0.5245423034000001</td><td>0.2887905816</td><td>1.7320508075999999</td><td>0.4</td><td>0.6</td><td>0.8</td><td>2</td><td>1</td><td>7</td><td>4</td><td>8</td><td>2</td><td>11</td><td>6</td><td>1</td><td>1</td><td>8</td><td>0</td><td>1</td><td>0</td><td>0</td><td>1</td><td>0</td><td>1</td><td>0</td><td>1</td><td>1</td></tr><tr><td>17080</td><td>0</td><td>4</td><td>1</td><td>4</td><td>1</td><td>0</td><td>0</td><td>1</td><td>0</td><td>0</td><td>0</td><td>0</td><td>0</td><td>0</td><td>0</td><td>0</td><td>0</td><td>0</td><td>1</td><td>0.9</td><td>0.3</td><td>0.7301540933</td><td>7</td><td>1</td><td>0.0</td><td>0</td><td>0.0</td><td>6</td><td>0</td><td>1</td><td>2</td><td>1</td><td>77</td><td>2</td><td>0.3741657387</td><td>0.7140994444</td><td>0.37349698789999997</td><td>3.1622776602</td><td>0.0</td><td>0.5</td><td>0.4</td><td>0</td><td>1</td><td>7</td><td>1</td><td>10</td><td>1</td><td>5</td><td>5</td><td>1</td><td>2</td><td>7</td><td>0</td><td>0</td><td>0</td><td>0</td><td>0</td><td>0</td><td>1</td><td>0</td><td>1</td><td>1</td></tr><tr><td>20410</td><td>0</td><td>5</td><td>2</td><td>6</td><td>1</td><td>0</td><td>0</td><td>1</td><td>0</td><td>0</td><td>0</td><td>0</td><td>0</td><td>0</td><td>0</td><td>7</td><td>1</td><td>0</td><td>0</td><td>0.6</td><td>0.8</td><td>1.6</td><td>8</td><td>1</td><td>1.0</td><td>0</td><td>1.0</td><td>14</td><td>1</td><td>0</td><td>2</td><td>1</td><td>72</td><td>3</td><td>0.4</td><td>1.1625616485999999</td><td>0.35042830939999997</td><td>3.6055512755000003</td><td>0.2</td><td>0.1</td><td>0.2</td><td>4</td><td>3</td><td>6</td><td>3</td><td>11</td><td>1</td><td>7</td><td>5</td><td>2</td><td>4</td><td>2</td><td>1</td><td>0</td><td>0</td><td>0</td><td>0</td><td>0</td><td>1</td><td>0</td><td>0</td><td>1</td></tr><tr><td>20908</td><td>0</td><td>0</td><td>2</td><td>1</td><td>1</td><td>0</td><td>0</td><td>1</td><td>0</td><td>0</td><td>0</td><td>0</td><td>0</td><td>0</td><td>0</td><td>4</td><td>1</td><td>0</td><td>0</td><td>0.6</td><td>0.5</td><td>0.6941721688</td><td>7</td><td>1</td><td>0.0</td><td>0</td><td>0.0</td><td>1</td><td>1</td><td>0</td><td>2</td><td>1</td><td>80</td><td>3</td><td>0.316227766</td><td>0.8284955997</td><td>0.37349698789999997</td><td>3.6055512755000003</td><td>0.1</td><td>0.0</td><td>0.8</td><td>3</td><td>3</td><td>8</td><td>3</td><td>9</td><td>0</td><td>12</td><td>9</td><td>0</td><td>1</td><td>9</td><td>0</td><td>0</td><td>1</td><td>0</td><td>0</td><td>0</td><td>1</td><td>0</td><td>0</td><td>1</td></tr><tr><td>21142</td><td>0</td><td>4</td><td>1</td><td>3</td><td>1</td><td>0</td><td>0</td><td>0</td><td>1</td><td>0</td><td>0</td><td>0</td><td>0</td><td>0</td><td>0</td><td>5</td><td>1</td><td>0</td><td>0</td><td>0.4</td><td>0.2</td><td>0.6982120022</td><td>6</td><td>1</td><td>1.0</td><td>0</td><td>1.0</td><td>14</td><td>1</td><td>1</td><td>0</td><td>1</td><td>42</td><td>2</td><td>0.4</td><td>0.7369245899</td><td>0.3937003937</td><td>3.1622776602</td><td>0.4</td><td>0.8</td><td>0.1</td><td>4</td><td>1</td><td>8</td><td>3</td><td>11</td><td>1</td><td>9</td><td>3</td><td>0</td><td>4</td><td>7</td><td>0</td><td>0</td><td>1</td><td>0</td><td>1</td><td>0</td><td>1</td><td>0</td><td>1</td><td>1</td></tr></tbody></table></div>"
      ]
     },
     "metadata": {
      "application/vnd.databricks.v1+output": {
       "addedWidgets": {},
       "aggData": [],
       "aggError": "",
       "aggOverflow": false,
       "aggSchema": [],
       "aggSeriesLimitReached": false,
       "aggType": "",
       "arguments": {},
       "columnCustomDisplayInfos": {},
       "data": [
        [
         1212,
         0,
         0,
         1,
         7,
         1,
         0,
         1,
         0,
         0,
         0,
         0,
         0,
         0,
         0,
         0,
         12,
         1,
         0,
         0,
         0.3,
         0.2,
         0.8019507466,
         4,
         1,
         0.0,
         0,
         1.0,
         11,
         1,
         1,
         0,
         1,
         103,
         1,
         0.316227766,
         0.6671451451,
         0.3583294573,
         3.3166247904,
         0.6,
         0.3,
         0.5,
         1,
         3,
         9,
         3,
         10,
         1,
         4,
         5,
         1,
         6,
         8,
         0,
         1,
         0,
         1,
         0,
         0,
         1,
         0,
         1,
         1
        ],
        [
         1477,
         0,
         0,
         1,
         7,
         0,
         0,
         1,
         0,
         0,
         0,
         0,
         0,
         0,
         0,
         0,
         3,
         0,
         0,
         1,
         0.9,
         0.4,
         0.7681145748,
         11,
         1,
         0.0,
         0,
         0.0,
         1,
         1,
         1,
         2,
         1,
         64,
         3,
         0.316227766,
         0.6603123478,
         0.3619392214,
         3.1622776602,
         0.1,
         0.2,
         0.6,
         3,
         3,
         8,
         3,
         10,
         2,
         6,
         8,
         0,
         4,
         11,
         1,
         1,
         0,
         0,
         0,
         0,
         1,
         0,
         1,
         1
        ],
        [
         4101,
         0,
         0,
         2,
         0,
         0,
         6,
         1,
         0,
         0,
         0,
         0,
         0,
         0,
         0,
         0,
         0,
         0,
         0,
         1,
         0.2,
         0.3,
         0.8019507466,
         8,
         0,
         0.0,
         0,
         1.0,
         11,
         1,
         1,
         0,
         1,
         104,
         3,
         0.44721359549999995,
         0.7809191448,
         0.4248529157,
         2.8284271247,
         0.6,
         0.7,
         0.6,
         3,
         2,
         6,
         3,
         11,
         5,
         9,
         10,
         2,
         2,
         13,
         0,
         1,
         1,
         0,
         0,
         1,
         1,
         1,
         0,
         0
        ],
        [
         7596,
         0,
         6,
         2,
         9,
         0,
         0,
         0,
         0,
         1,
         0,
         0,
         0,
         0,
         0,
         0,
         7,
         1,
         0,
         0,
         0.6,
         1.3,
         1.0356157589,
         8,
         1,
         1.0,
         0,
         1.0,
         1,
         1,
         0,
         0,
         1,
         31,
         3,
         0.423792402,
         1.1132773076,
         0.4084115571,
         3.7416573868,
         0.9,
         0.8,
         0.6,
         2,
         1,
         8,
         4,
         9,
         2,
         3,
         7,
         2,
         2,
         7,
         0,
         1,
         0,
         0,
         1,
         0,
         1,
         0,
         0,
         1
        ],
        [
         9769,
         0,
         1,
         4,
         7,
         1,
         0,
         1,
         0,
         0,
         0,
         0,
         0,
         0,
         0,
         0,
         5,
         0,
         0,
         0,
         0.9,
         0.2,
         0.8019507466,
         6,
         1,
         0.0,
         0,
         0.0,
         0,
         1,
         1,
         0,
         1,
         34,
         2,
         0.4,
         0.7783883541,
         0.3780211634,
         3.3166247904,
         0.5,
         0.3,
         0.0,
         1,
         4,
         10,
         3,
         11,
         1,
         8,
         8,
         0,
         2,
         11,
         0,
         1,
         0,
         0,
         0,
         0,
         1,
         0,
         0,
         1
        ],
        [
         11961,
         0,
         2,
         1,
         8,
         0,
         0,
         1,
         0,
         0,
         0,
         0,
         0,
         0,
         0,
         0,
         4,
         0,
         0,
         1,
         0.8,
         0.9,
         1.0440306509000001,
         11,
         1,
         1.0,
         0,
         1.0,
         11,
         1,
         1,
         2,
         1,
         103,
         1,
         0.3160696126,
         0.5245423034000001,
         0.2887905816,
         1.7320508075999999,
         0.4,
         0.6,
         0.8,
         2,
         1,
         7,
         4,
         8,
         2,
         11,
         6,
         1,
         1,
         8,
         0,
         1,
         0,
         0,
         1,
         0,
         1,
         0,
         1,
         1
        ],
        [
         17080,
         0,
         4,
         1,
         4,
         1,
         0,
         0,
         1,
         0,
         0,
         0,
         0,
         0,
         0,
         0,
         0,
         0,
         0,
         1,
         0.9,
         0.3,
         0.7301540933,
         7,
         1,
         0.0,
         0,
         0.0,
         6,
         0,
         1,
         2,
         1,
         77,
         2,
         0.3741657387,
         0.7140994444,
         0.37349698789999997,
         3.1622776602,
         0.0,
         0.5,
         0.4,
         0,
         1,
         7,
         1,
         10,
         1,
         5,
         5,
         1,
         2,
         7,
         0,
         0,
         0,
         0,
         0,
         0,
         1,
         0,
         1,
         1
        ],
        [
         20410,
         0,
         5,
         2,
         6,
         1,
         0,
         0,
         1,
         0,
         0,
         0,
         0,
         0,
         0,
         0,
         7,
         1,
         0,
         0,
         0.6,
         0.8,
         1.6,
         8,
         1,
         1.0,
         0,
         1.0,
         14,
         1,
         0,
         2,
         1,
         72,
         3,
         0.4,
         1.1625616485999999,
         0.35042830939999997,
         3.6055512755000003,
         0.2,
         0.1,
         0.2,
         4,
         3,
         6,
         3,
         11,
         1,
         7,
         5,
         2,
         4,
         2,
         1,
         0,
         0,
         0,
         0,
         0,
         1,
         0,
         0,
         1
        ],
        [
         20908,
         0,
         0,
         2,
         1,
         1,
         0,
         0,
         1,
         0,
         0,
         0,
         0,
         0,
         0,
         0,
         4,
         1,
         0,
         0,
         0.6,
         0.5,
         0.6941721688,
         7,
         1,
         0.0,
         0,
         0.0,
         1,
         1,
         0,
         2,
         1,
         80,
         3,
         0.316227766,
         0.8284955997,
         0.37349698789999997,
         3.6055512755000003,
         0.1,
         0.0,
         0.8,
         3,
         3,
         8,
         3,
         9,
         0,
         12,
         9,
         0,
         1,
         9,
         0,
         0,
         1,
         0,
         0,
         0,
         1,
         0,
         0,
         1
        ],
        [
         21142,
         0,
         4,
         1,
         3,
         1,
         0,
         0,
         0,
         1,
         0,
         0,
         0,
         0,
         0,
         0,
         5,
         1,
         0,
         0,
         0.4,
         0.2,
         0.6982120022,
         6,
         1,
         1.0,
         0,
         1.0,
         14,
         1,
         1,
         0,
         1,
         42,
         2,
         0.4,
         0.7369245899,
         0.3937003937,
         3.1622776602,
         0.4,
         0.8,
         0.1,
         4,
         1,
         8,
         3,
         11,
         1,
         9,
         3,
         0,
         4,
         7,
         0,
         0,
         1,
         0,
         1,
         0,
         1,
         0,
         1,
         1
        ]
       ],
       "datasetInfos": [],
       "dbfsResultPath": null,
       "isJsonSchema": true,
       "metadata": {},
       "overflow": false,
       "plotOptions": {
        "customPlotOptions": {},
        "displayType": "table",
        "pivotAggregation": null,
        "pivotColumns": null,
        "xColumns": null,
        "yColumns": null
       },
       "removedWidgets": [],
       "schema": [
        {
         "metadata": "{}",
         "name": "id",
         "type": "\"integer\""
        },
        {
         "metadata": "{}",
         "name": "target",
         "type": "\"integer\""
        },
        {
         "metadata": "{}",
         "name": "ind_01",
         "type": "\"integer\""
        },
        {
         "metadata": "{}",
         "name": "ind_02_cat",
         "type": "\"integer\""
        },
        {
         "metadata": "{}",
         "name": "ind_03",
         "type": "\"integer\""
        },
        {
         "metadata": "{}",
         "name": "ind_04_cat",
         "type": "\"integer\""
        },
        {
         "metadata": "{}",
         "name": "ind_05_cat",
         "type": "\"integer\""
        },
        {
         "metadata": "{}",
         "name": "ind_06_bin",
         "type": "\"integer\""
        },
        {
         "metadata": "{}",
         "name": "ind_07_bin",
         "type": "\"integer\""
        },
        {
         "metadata": "{}",
         "name": "ind_08_bin",
         "type": "\"integer\""
        },
        {
         "metadata": "{}",
         "name": "ind_09_bin",
         "type": "\"integer\""
        },
        {
         "metadata": "{}",
         "name": "ind_10_bin",
         "type": "\"integer\""
        },
        {
         "metadata": "{}",
         "name": "ind_11_bin",
         "type": "\"integer\""
        },
        {
         "metadata": "{}",
         "name": "ind_12_bin",
         "type": "\"integer\""
        },
        {
         "metadata": "{}",
         "name": "ind_13_bin",
         "type": "\"integer\""
        },
        {
         "metadata": "{}",
         "name": "ind_14",
         "type": "\"integer\""
        },
        {
         "metadata": "{}",
         "name": "ind_15",
         "type": "\"integer\""
        },
        {
         "metadata": "{}",
         "name": "ind_16_bin",
         "type": "\"integer\""
        },
        {
         "metadata": "{}",
         "name": "ind_17_bin",
         "type": "\"integer\""
        },
        {
         "metadata": "{}",
         "name": "ind_18_bin",
         "type": "\"integer\""
        },
        {
         "metadata": "{}",
         "name": "reg_01",
         "type": "\"double\""
        },
        {
         "metadata": "{}",
         "name": "reg_02",
         "type": "\"double\""
        },
        {
         "metadata": "{}",
         "name": "reg_03",
         "type": "\"double\""
        },
        {
         "metadata": "{}",
         "name": "car_01_cat",
         "type": "\"integer\""
        },
        {
         "metadata": "{}",
         "name": "car_02_cat",
         "type": "\"integer\""
        },
        {
         "metadata": "{}",
         "name": "car_03_cat",
         "type": "\"double\""
        },
        {
         "metadata": "{}",
         "name": "car_04_cat",
         "type": "\"integer\""
        },
        {
         "metadata": "{}",
         "name": "car_05_cat",
         "type": "\"double\""
        },
        {
         "metadata": "{}",
         "name": "car_06_cat",
         "type": "\"integer\""
        },
        {
         "metadata": "{}",
         "name": "car_07_cat",
         "type": "\"integer\""
        },
        {
         "metadata": "{}",
         "name": "car_08_cat",
         "type": "\"integer\""
        },
        {
         "metadata": "{}",
         "name": "car_09_cat",
         "type": "\"integer\""
        },
        {
         "metadata": "{}",
         "name": "car_10_cat",
         "type": "\"integer\""
        },
        {
         "metadata": "{}",
         "name": "car_11_cat",
         "type": "\"integer\""
        },
        {
         "metadata": "{}",
         "name": "car_11",
         "type": "\"integer\""
        },
        {
         "metadata": "{}",
         "name": "car_12",
         "type": "\"double\""
        },
        {
         "metadata": "{}",
         "name": "car_13",
         "type": "\"double\""
        },
        {
         "metadata": "{}",
         "name": "car_14",
         "type": "\"double\""
        },
        {
         "metadata": "{}",
         "name": "car_15",
         "type": "\"double\""
        },
        {
         "metadata": "{}",
         "name": "calc_01",
         "type": "\"double\""
        },
        {
         "metadata": "{}",
         "name": "calc_02",
         "type": "\"double\""
        },
        {
         "metadata": "{}",
         "name": "calc_03",
         "type": "\"double\""
        },
        {
         "metadata": "{}",
         "name": "calc_04",
         "type": "\"integer\""
        },
        {
         "metadata": "{}",
         "name": "calc_05",
         "type": "\"integer\""
        },
        {
         "metadata": "{}",
         "name": "calc_06",
         "type": "\"integer\""
        },
        {
         "metadata": "{}",
         "name": "calc_07",
         "type": "\"integer\""
        },
        {
         "metadata": "{}",
         "name": "calc_08",
         "type": "\"integer\""
        },
        {
         "metadata": "{}",
         "name": "calc_09",
         "type": "\"integer\""
        },
        {
         "metadata": "{}",
         "name": "calc_10",
         "type": "\"integer\""
        },
        {
         "metadata": "{}",
         "name": "calc_11",
         "type": "\"integer\""
        },
        {
         "metadata": "{}",
         "name": "calc_12",
         "type": "\"integer\""
        },
        {
         "metadata": "{}",
         "name": "calc_13",
         "type": "\"integer\""
        },
        {
         "metadata": "{}",
         "name": "calc_14",
         "type": "\"integer\""
        },
        {
         "metadata": "{}",
         "name": "calc_15_bin",
         "type": "\"integer\""
        },
        {
         "metadata": "{}",
         "name": "calc_16_bin",
         "type": "\"integer\""
        },
        {
         "metadata": "{}",
         "name": "calc_17_bin",
         "type": "\"integer\""
        },
        {
         "metadata": "{}",
         "name": "calc_18_bin",
         "type": "\"integer\""
        },
        {
         "metadata": "{}",
         "name": "calc_19_bin",
         "type": "\"integer\""
        },
        {
         "metadata": "{}",
         "name": "calc_20_bin",
         "type": "\"integer\""
        },
        {
         "metadata": "{}",
         "name": "car_04_cat_simplified",
         "type": "\"integer\""
        },
        {
         "metadata": "{}",
         "name": "car_11_cat_simplified",
         "type": "\"integer\""
        },
        {
         "metadata": "{}",
         "name": "ind_02_cat_simplified",
         "type": "\"integer\""
        },
        {
         "metadata": "{}",
         "name": "ind_05_cat_simplified",
         "type": "\"integer\""
        }
       ],
       "type": "table"
      }
     },
     "output_type": "display_data"
    }
   ],
   "source": [
    "CATALOG = \"workspace\"\n",
    "SCHEMA = \"safe_driver_prediction\"\n",
    "\n",
    "fs_df = spark.read.table(f\"{CATALOG}.{SCHEMA}.feature_store_train\")\n",
    "\n",
    "print(f\"training set has {fs_df.count()} rows and {len(fs_df.columns)} columns.\")\n",
    "fs_df.limit(10).display()"
   ]
  },
  {
   "cell_type": "code",
   "execution_count": 0,
   "metadata": {
    "application/vnd.databricks.v1+cell": {
     "cellMetadata": {
      "byteLimit": 2048000,
      "rowLimit": 10000
     },
     "inputWidgets": {},
     "nuid": "554c2cb8-61b0-4afa-a41f-c62d3fb79eb2",
     "showTitle": false,
     "tableResultSettingsMap": {},
     "title": ""
    }
   },
   "outputs": [],
   "source": [
    "freq_modeller = FrequencyModelling(\n",
    "    dataset=fs_df,\n",
    "    target_col=\"target\",\n",
    "    test_size=0.25,\n",
    "    mlflow_experiment_name=None\n",
    ")"
   ]
  },
  {
   "cell_type": "code",
   "execution_count": 0,
   "metadata": {
    "application/vnd.databricks.v1+cell": {
     "cellMetadata": {
      "byteLimit": 2048000,
      "rowLimit": 10000
     },
     "inputWidgets": {},
     "nuid": "04075d73-f059-40c3-9c19-da78ff19deca",
     "showTitle": true,
     "tableResultSettingsMap": {},
     "title": "prepare train and test"
    }
   },
   "outputs": [],
   "source": [
    "X_train, X_val, y_train, y_val = freq_modeller.split_train_test()"
   ]
  },
  {
   "cell_type": "code",
   "execution_count": 0,
   "metadata": {
    "application/vnd.databricks.v1+cell": {
     "cellMetadata": {
      "byteLimit": 2048000,
      "rowLimit": 10000
     },
     "inputWidgets": {},
     "nuid": "15a0c28c-2c54-45f2-a038-b0c0fcedefc2",
     "showTitle": false,
     "tableResultSettingsMap": {},
     "title": ""
    }
   },
   "outputs": [],
   "source": [
    "model = catboost.CatBoostClassifier(\n",
    "    iterations=1000,\n",
    "    early_stopping_rounds=100,\n",
    "    auto_class_weights=\"Balanced\",\n",
    "    learning_rate=0.01,\n",
    "    depth=8,\n",
    "    loss_function=\"Logloss\",\n",
    "    use_best_model=True,\n",
    "    random_seed=40\n",
    ")"
   ]
  },
  {
   "cell_type": "code",
   "execution_count": 0,
   "metadata": {
    "application/vnd.databricks.v1+cell": {
     "cellMetadata": {
      "byteLimit": 2048000,
      "rowLimit": 10000
     },
     "inputWidgets": {},
     "nuid": "6e359c97-f387-428b-bec3-99544573968d",
     "showTitle": false,
     "tableResultSettingsMap": {},
     "title": ""
    }
   },
   "outputs": [
    {
     "output_type": "stream",
     "name": "stdout",
     "output_type": "stream",
     "text": [
      "0:\tlearn: 0.6924659\ttest: 0.6924872\tbest: 0.6924872 (0)\ttotal: 85.6ms\tremaining: 1m 25s\n1:\tlearn: 0.6918525\ttest: 0.6918957\tbest: 0.6918957 (1)\ttotal: 168ms\tremaining: 1m 23s\n2:\tlearn: 0.6912270\ttest: 0.6913211\tbest: 0.6913211 (2)\ttotal: 247ms\tremaining: 1m 21s\n3:\tlearn: 0.6905568\ttest: 0.6907327\tbest: 0.6907327 (3)\ttotal: 321ms\tremaining: 1m 20s\n4:\tlearn: 0.6899929\ttest: 0.6902255\tbest: 0.6902255 (4)\ttotal: 393ms\tremaining: 1m 18s\n5:\tlearn: 0.6893856\ttest: 0.6896925\tbest: 0.6896925 (5)\ttotal: 474ms\tremaining: 1m 18s\n6:\tlearn: 0.6887828\ttest: 0.6891378\tbest: 0.6891378 (6)\ttotal: 550ms\tremaining: 1m 17s\n7:\tlearn: 0.6882189\ttest: 0.6886494\tbest: 0.6886494 (7)\ttotal: 626ms\tremaining: 1m 17s\n8:\tlearn: 0.6876241\ttest: 0.6881453\tbest: 0.6881453 (8)\ttotal: 713ms\tremaining: 1m 18s\n9:\tlearn: 0.6870907\ttest: 0.6876411\tbest: 0.6876411 (9)\ttotal: 829ms\tremaining: 1m 22s\n10:\tlearn: 0.6865444\ttest: 0.6871507\tbest: 0.6871507 (10)\ttotal: 974ms\tremaining: 1m 27s\n11:\tlearn: 0.6860866\ttest: 0.6867489\tbest: 0.6867489 (11)\ttotal: 1.09s\tremaining: 1m 29s\n12:\tlearn: 0.6855259\ttest: 0.6862758\tbest: 0.6862758 (12)\ttotal: 1.24s\tremaining: 1m 33s\n13:\tlearn: 0.6850959\ttest: 0.6858949\tbest: 0.6858949 (13)\ttotal: 1.39s\tremaining: 1m 37s\n14:\tlearn: 0.6846124\ttest: 0.6854731\tbest: 0.6854731 (14)\ttotal: 1.49s\tremaining: 1m 37s\n15:\tlearn: 0.6842100\ttest: 0.6851227\tbest: 0.6851227 (15)\ttotal: 1.6s\tremaining: 1m 38s\n16:\tlearn: 0.6837885\ttest: 0.6847440\tbest: 0.6847440 (16)\ttotal: 1.68s\tremaining: 1m 37s\n17:\tlearn: 0.6833266\ttest: 0.6843370\tbest: 0.6843370 (17)\ttotal: 1.76s\tremaining: 1m 35s\n18:\tlearn: 0.6829059\ttest: 0.6839686\tbest: 0.6839686 (18)\ttotal: 1.83s\tremaining: 1m 34s\n19:\tlearn: 0.6825078\ttest: 0.6836181\tbest: 0.6836181 (19)\ttotal: 1.92s\tremaining: 1m 34s\n20:\tlearn: 0.6820905\ttest: 0.6832576\tbest: 0.6832576 (20)\ttotal: 2.03s\tremaining: 1m 34s\n21:\tlearn: 0.6816996\ttest: 0.6829107\tbest: 0.6829107 (21)\ttotal: 2.12s\tremaining: 1m 34s\n22:\tlearn: 0.6813109\ttest: 0.6825457\tbest: 0.6825457 (22)\ttotal: 2.2s\tremaining: 1m 33s\n23:\tlearn: 0.6809725\ttest: 0.6822272\tbest: 0.6822272 (23)\ttotal: 2.27s\tremaining: 1m 32s\n24:\tlearn: 0.6806314\ttest: 0.6819237\tbest: 0.6819237 (24)\ttotal: 2.36s\tremaining: 1m 31s\n25:\tlearn: 0.6803285\ttest: 0.6816483\tbest: 0.6816483 (25)\ttotal: 2.44s\tremaining: 1m 31s\n26:\tlearn: 0.6799744\ttest: 0.6813212\tbest: 0.6813212 (26)\ttotal: 2.52s\tremaining: 1m 30s\n27:\tlearn: 0.6796615\ttest: 0.6810474\tbest: 0.6810474 (27)\ttotal: 2.6s\tremaining: 1m 30s\n28:\tlearn: 0.6793777\ttest: 0.6807973\tbest: 0.6807973 (28)\ttotal: 2.68s\tremaining: 1m 29s\n29:\tlearn: 0.6790963\ttest: 0.6805511\tbest: 0.6805511 (29)\ttotal: 2.76s\tremaining: 1m 29s\n30:\tlearn: 0.6787928\ttest: 0.6803042\tbest: 0.6803042 (30)\ttotal: 2.84s\tremaining: 1m 28s\n31:\tlearn: 0.6784466\ttest: 0.6800067\tbest: 0.6800067 (31)\ttotal: 2.93s\tremaining: 1m 28s\n32:\tlearn: 0.6781447\ttest: 0.6797356\tbest: 0.6797356 (32)\ttotal: 3.02s\tremaining: 1m 28s\n33:\tlearn: 0.6778443\ttest: 0.6794749\tbest: 0.6794749 (33)\ttotal: 3.11s\tremaining: 1m 28s\n34:\tlearn: 0.6776451\ttest: 0.6792879\tbest: 0.6792879 (34)\ttotal: 3.19s\tremaining: 1m 28s\n35:\tlearn: 0.6773780\ttest: 0.6790316\tbest: 0.6790316 (35)\ttotal: 3.28s\tremaining: 1m 27s\n36:\tlearn: 0.6770945\ttest: 0.6788018\tbest: 0.6788018 (36)\ttotal: 3.38s\tremaining: 1m 27s\n37:\tlearn: 0.6768590\ttest: 0.6785898\tbest: 0.6785898 (37)\ttotal: 3.47s\tremaining: 1m 27s\n38:\tlearn: 0.6766191\ttest: 0.6783870\tbest: 0.6783870 (38)\ttotal: 3.56s\tremaining: 1m 27s\n39:\tlearn: 0.6763938\ttest: 0.6782001\tbest: 0.6782001 (39)\ttotal: 3.65s\tremaining: 1m 27s\n40:\tlearn: 0.6761498\ttest: 0.6779894\tbest: 0.6779894 (40)\ttotal: 3.73s\tremaining: 1m 27s\n41:\tlearn: 0.6759124\ttest: 0.6777660\tbest: 0.6777660 (41)\ttotal: 3.81s\tremaining: 1m 26s\n42:\tlearn: 0.6757201\ttest: 0.6776119\tbest: 0.6776119 (42)\ttotal: 3.88s\tremaining: 1m 26s\n43:\tlearn: 0.6755468\ttest: 0.6774610\tbest: 0.6774610 (43)\ttotal: 3.96s\tremaining: 1m 26s\n44:\tlearn: 0.6753178\ttest: 0.6772691\tbest: 0.6772691 (44)\ttotal: 4.04s\tremaining: 1m 25s\n45:\tlearn: 0.6751364\ttest: 0.6771362\tbest: 0.6771362 (45)\ttotal: 4.12s\tremaining: 1m 25s\n46:\tlearn: 0.6749250\ttest: 0.6769583\tbest: 0.6769583 (46)\ttotal: 4.19s\tremaining: 1m 25s\n47:\tlearn: 0.6747497\ttest: 0.6768177\tbest: 0.6768177 (47)\ttotal: 4.27s\tremaining: 1m 24s\n48:\tlearn: 0.6745267\ttest: 0.6766343\tbest: 0.6766343 (48)\ttotal: 4.34s\tremaining: 1m 24s\n49:\tlearn: 0.6743327\ttest: 0.6764617\tbest: 0.6764617 (49)\ttotal: 4.42s\tremaining: 1m 23s\n50:\tlearn: 0.6741340\ttest: 0.6762949\tbest: 0.6762949 (50)\ttotal: 4.5s\tremaining: 1m 23s\n51:\tlearn: 0.6739286\ttest: 0.6761193\tbest: 0.6761193 (51)\ttotal: 4.58s\tremaining: 1m 23s\n52:\tlearn: 0.6737871\ttest: 0.6759842\tbest: 0.6759842 (52)\ttotal: 4.66s\tremaining: 1m 23s\n53:\tlearn: 0.6736122\ttest: 0.6758522\tbest: 0.6758522 (53)\ttotal: 4.73s\tremaining: 1m 22s\n54:\tlearn: 0.6734423\ttest: 0.6757286\tbest: 0.6757286 (54)\ttotal: 4.8s\tremaining: 1m 22s\n55:\tlearn: 0.6732888\ttest: 0.6756050\tbest: 0.6756050 (55)\ttotal: 4.88s\tremaining: 1m 22s\n56:\tlearn: 0.6730840\ttest: 0.6754695\tbest: 0.6754695 (56)\ttotal: 4.96s\tremaining: 1m 22s\n57:\tlearn: 0.6729055\ttest: 0.6753207\tbest: 0.6753207 (57)\ttotal: 5.03s\tremaining: 1m 21s\n58:\tlearn: 0.6727307\ttest: 0.6751841\tbest: 0.6751841 (58)\ttotal: 5.11s\tremaining: 1m 21s\n59:\tlearn: 0.6725457\ttest: 0.6750522\tbest: 0.6750522 (59)\ttotal: 5.18s\tremaining: 1m 21s\n60:\tlearn: 0.6724088\ttest: 0.6749331\tbest: 0.6749331 (60)\ttotal: 5.26s\tremaining: 1m 20s\n61:\tlearn: 0.6722722\ttest: 0.6748055\tbest: 0.6748055 (61)\ttotal: 5.33s\tremaining: 1m 20s\n62:\tlearn: 0.6721398\ttest: 0.6746941\tbest: 0.6746941 (62)\ttotal: 5.4s\tremaining: 1m 20s\n63:\tlearn: 0.6719974\ttest: 0.6745648\tbest: 0.6745648 (63)\ttotal: 5.48s\tremaining: 1m 20s\n64:\tlearn: 0.6718518\ttest: 0.6744458\tbest: 0.6744458 (64)\ttotal: 5.56s\tremaining: 1m 19s\n65:\tlearn: 0.6717075\ttest: 0.6743438\tbest: 0.6743438 (65)\ttotal: 5.64s\tremaining: 1m 19s\n66:\tlearn: 0.6715864\ttest: 0.6742448\tbest: 0.6742448 (66)\ttotal: 5.72s\tremaining: 1m 19s\n67:\tlearn: 0.6714560\ttest: 0.6741636\tbest: 0.6741636 (67)\ttotal: 5.8s\tremaining: 1m 19s\n68:\tlearn: 0.6713208\ttest: 0.6740338\tbest: 0.6740338 (68)\ttotal: 5.88s\tremaining: 1m 19s\n69:\tlearn: 0.6711792\ttest: 0.6739054\tbest: 0.6739054 (69)\ttotal: 5.95s\tremaining: 1m 19s\n70:\tlearn: 0.6710154\ttest: 0.6737807\tbest: 0.6737807 (70)\ttotal: 6.04s\tremaining: 1m 18s\n71:\tlearn: 0.6708797\ttest: 0.6736891\tbest: 0.6736891 (71)\ttotal: 6.11s\tremaining: 1m 18s\n72:\tlearn: 0.6707797\ttest: 0.6736164\tbest: 0.6736164 (72)\ttotal: 6.19s\tremaining: 1m 18s\n73:\tlearn: 0.6706513\ttest: 0.6734963\tbest: 0.6734963 (73)\ttotal: 6.27s\tremaining: 1m 18s\n74:\tlearn: 0.6705405\ttest: 0.6734154\tbest: 0.6734154 (74)\ttotal: 6.34s\tremaining: 1m 18s\n75:\tlearn: 0.6703977\ttest: 0.6733012\tbest: 0.6733012 (75)\ttotal: 6.42s\tremaining: 1m 17s\n76:\tlearn: 0.6702523\ttest: 0.6731842\tbest: 0.6731842 (76)\ttotal: 6.5s\tremaining: 1m 17s\n77:\tlearn: 0.6701297\ttest: 0.6730802\tbest: 0.6730802 (77)\ttotal: 6.57s\tremaining: 1m 17s\n78:\tlearn: 0.6700293\ttest: 0.6730052\tbest: 0.6730052 (78)\ttotal: 6.65s\tremaining: 1m 17s\n79:\tlearn: 0.6699079\ttest: 0.6729004\tbest: 0.6729004 (79)\ttotal: 6.72s\tremaining: 1m 17s\n80:\tlearn: 0.6697670\ttest: 0.6727913\tbest: 0.6727913 (80)\ttotal: 6.8s\tremaining: 1m 17s\n81:\tlearn: 0.6696475\ttest: 0.6727020\tbest: 0.6727020 (81)\ttotal: 6.88s\tremaining: 1m 17s\n82:\tlearn: 0.6695482\ttest: 0.6726239\tbest: 0.6726239 (82)\ttotal: 6.96s\tremaining: 1m 16s\n83:\tlearn: 0.6694513\ttest: 0.6725481\tbest: 0.6725481 (83)\ttotal: 7.03s\tremaining: 1m 16s\n84:\tlearn: 0.6693565\ttest: 0.6724922\tbest: 0.6724922 (84)\ttotal: 7.12s\tremaining: 1m 16s\n85:\tlearn: 0.6692546\ttest: 0.6724291\tbest: 0.6724291 (85)\ttotal: 7.2s\tremaining: 1m 16s\n86:\tlearn: 0.6691514\ttest: 0.6723576\tbest: 0.6723576 (86)\ttotal: 7.28s\tremaining: 1m 16s\n87:\tlearn: 0.6690479\ttest: 0.6722790\tbest: 0.6722790 (87)\ttotal: 7.35s\tremaining: 1m 16s\n88:\tlearn: 0.6689343\ttest: 0.6721939\tbest: 0.6721939 (88)\ttotal: 7.43s\tremaining: 1m 16s\n89:\tlearn: 0.6688621\ttest: 0.6721391\tbest: 0.6721391 (89)\ttotal: 7.5s\tremaining: 1m 15s\n90:\tlearn: 0.6687453\ttest: 0.6720567\tbest: 0.6720567 (90)\ttotal: 7.58s\tremaining: 1m 15s\n91:\tlearn: 0.6686672\ttest: 0.6720124\tbest: 0.6720124 (91)\ttotal: 7.66s\tremaining: 1m 15s\n92:\tlearn: 0.6685953\ttest: 0.6719647\tbest: 0.6719647 (92)\ttotal: 7.76s\tremaining: 1m 15s\n93:\tlearn: 0.6685097\ttest: 0.6719014\tbest: 0.6719014 (93)\ttotal: 7.88s\tremaining: 1m 15s\n94:\tlearn: 0.6684189\ttest: 0.6718440\tbest: 0.6718440 (94)\ttotal: 7.98s\tremaining: 1m 15s\n95:\tlearn: 0.6683269\ttest: 0.6717730\tbest: 0.6717730 (95)\ttotal: 8.06s\tremaining: 1m 15s\n96:\tlearn: 0.6682098\ttest: 0.6716952\tbest: 0.6716952 (96)\ttotal: 8.14s\tremaining: 1m 15s\n97:\tlearn: 0.6681160\ttest: 0.6716289\tbest: 0.6716289 (97)\ttotal: 8.22s\tremaining: 1m 15s\n98:\tlearn: 0.6680305\ttest: 0.6715711\tbest: 0.6715711 (98)\ttotal: 8.29s\tremaining: 1m 15s\n99:\tlearn: 0.6679458\ttest: 0.6715089\tbest: 0.6715089 (99)\ttotal: 8.36s\tremaining: 1m 15s\n100:\tlearn: 0.6678402\ttest: 0.6714312\tbest: 0.6714312 (100)\ttotal: 8.45s\tremaining: 1m 15s\n101:\tlearn: 0.6677582\ttest: 0.6713794\tbest: 0.6713794 (101)\ttotal: 8.52s\tremaining: 1m 15s\n102:\tlearn: 0.6676542\ttest: 0.6713017\tbest: 0.6713017 (102)\ttotal: 8.6s\tremaining: 1m 14s\n103:\tlearn: 0.6675816\ttest: 0.6712406\tbest: 0.6712406 (103)\ttotal: 8.67s\tremaining: 1m 14s\n104:\tlearn: 0.6674968\ttest: 0.6711877\tbest: 0.6711877 (104)\ttotal: 8.74s\tremaining: 1m 14s\n105:\tlearn: 0.6673880\ttest: 0.6711146\tbest: 0.6711146 (105)\ttotal: 8.81s\tremaining: 1m 14s\n106:\tlearn: 0.6673087\ttest: 0.6710554\tbest: 0.6710554 (106)\ttotal: 8.89s\tremaining: 1m 14s\n107:\tlearn: 0.6672260\ttest: 0.6709917\tbest: 0.6709917 (107)\ttotal: 8.98s\tremaining: 1m 14s\n108:\tlearn: 0.6671431\ttest: 0.6709250\tbest: 0.6709250 (108)\ttotal: 9.06s\tremaining: 1m 14s\n109:\tlearn: 0.6670644\ttest: 0.6708739\tbest: 0.6708739 (109)\ttotal: 9.14s\tremaining: 1m 13s\n110:\tlearn: 0.6669897\ttest: 0.6708064\tbest: 0.6708064 (110)\ttotal: 9.21s\tremaining: 1m 13s\n111:\tlearn: 0.6669246\ttest: 0.6707687\tbest: 0.6707687 (111)\ttotal: 9.29s\tremaining: 1m 13s\n112:\tlearn: 0.6668505\ttest: 0.6707044\tbest: 0.6707044 (112)\ttotal: 9.36s\tremaining: 1m 13s\n113:\tlearn: 0.6667806\ttest: 0.6706555\tbest: 0.6706555 (113)\ttotal: 9.44s\tremaining: 1m 13s\n114:\tlearn: 0.6667256\ttest: 0.6706233\tbest: 0.6706233 (114)\ttotal: 9.52s\tremaining: 1m 13s\n115:\tlearn: 0.6666422\ttest: 0.6705828\tbest: 0.6705828 (115)\ttotal: 9.6s\tremaining: 1m 13s\n116:\tlearn: 0.6665703\ttest: 0.6705387\tbest: 0.6705387 (116)\ttotal: 9.68s\tremaining: 1m 13s\n117:\tlearn: 0.6664911\ttest: 0.6704726\tbest: 0.6704726 (117)\ttotal: 9.77s\tremaining: 1m 13s\n118:\tlearn: 0.6664374\ttest: 0.6704452\tbest: 0.6704452 (118)\ttotal: 9.88s\tremaining: 1m 13s\n119:\tlearn: 0.6663852\ttest: 0.6704130\tbest: 0.6704130 (119)\ttotal: 9.95s\tremaining: 1m 12s\n120:\tlearn: 0.6662928\ttest: 0.6703282\tbest: 0.6703282 (120)\ttotal: 10s\tremaining: 1m 12s\n121:\tlearn: 0.6662135\ttest: 0.6702476\tbest: 0.6702476 (121)\ttotal: 10.1s\tremaining: 1m 12s\n122:\tlearn: 0.6661350\ttest: 0.6701846\tbest: 0.6701846 (122)\ttotal: 10.2s\tremaining: 1m 12s\n123:\tlearn: 0.6660578\ttest: 0.6701416\tbest: 0.6701416 (123)\ttotal: 10.3s\tremaining: 1m 12s\n124:\tlearn: 0.6659831\ttest: 0.6700913\tbest: 0.6700913 (124)\ttotal: 10.4s\tremaining: 1m 12s\n125:\tlearn: 0.6658936\ttest: 0.6700285\tbest: 0.6700285 (125)\ttotal: 10.4s\tremaining: 1m 12s\n126:\tlearn: 0.6658278\ttest: 0.6699766\tbest: 0.6699766 (126)\ttotal: 10.5s\tremaining: 1m 12s\n127:\tlearn: 0.6657559\ttest: 0.6699131\tbest: 0.6699131 (127)\ttotal: 10.6s\tremaining: 1m 12s\n128:\tlearn: 0.6656736\ttest: 0.6698639\tbest: 0.6698639 (128)\ttotal: 10.7s\tremaining: 1m 12s\n129:\tlearn: 0.6656242\ttest: 0.6698366\tbest: 0.6698366 (129)\ttotal: 10.8s\tremaining: 1m 11s\n130:\tlearn: 0.6655313\ttest: 0.6697588\tbest: 0.6697588 (130)\ttotal: 10.8s\tremaining: 1m 11s\n131:\tlearn: 0.6654699\ttest: 0.6697280\tbest: 0.6697280 (131)\ttotal: 10.9s\tremaining: 1m 11s\n132:\tlearn: 0.6654042\ttest: 0.6696789\tbest: 0.6696789 (132)\ttotal: 11s\tremaining: 1m 11s\n133:\tlearn: 0.6653522\ttest: 0.6696610\tbest: 0.6696610 (133)\ttotal: 11.1s\tremaining: 1m 11s\n134:\tlearn: 0.6652909\ttest: 0.6696212\tbest: 0.6696212 (134)\ttotal: 11.1s\tremaining: 1m 11s\n135:\tlearn: 0.6652116\ttest: 0.6695618\tbest: 0.6695618 (135)\ttotal: 11.2s\tremaining: 1m 11s\n136:\tlearn: 0.6651586\ttest: 0.6695298\tbest: 0.6695298 (136)\ttotal: 11.3s\tremaining: 1m 11s\n137:\tlearn: 0.6650724\ttest: 0.6694823\tbest: 0.6694823 (137)\ttotal: 11.4s\tremaining: 1m 11s\n138:\tlearn: 0.6650203\ttest: 0.6694600\tbest: 0.6694600 (138)\ttotal: 11.5s\tremaining: 1m 10s\n139:\tlearn: 0.6649580\ttest: 0.6694079\tbest: 0.6694079 (139)\ttotal: 11.5s\tremaining: 1m 10s\n140:\tlearn: 0.6648888\ttest: 0.6693714\tbest: 0.6693714 (140)\ttotal: 11.6s\tremaining: 1m 10s\n141:\tlearn: 0.6648261\ttest: 0.6693516\tbest: 0.6693516 (141)\ttotal: 11.7s\tremaining: 1m 10s\n142:\tlearn: 0.6647656\ttest: 0.6693130\tbest: 0.6693130 (142)\ttotal: 11.8s\tremaining: 1m 10s\n143:\tlearn: 0.6646799\ttest: 0.6692532\tbest: 0.6692532 (143)\ttotal: 11.9s\tremaining: 1m 10s\n144:\tlearn: 0.6646006\ttest: 0.6691902\tbest: 0.6691902 (144)\ttotal: 12s\tremaining: 1m 10s\n145:\tlearn: 0.6645383\ttest: 0.6691385\tbest: 0.6691385 (145)\ttotal: 12s\tremaining: 1m 10s\n146:\tlearn: 0.6644865\ttest: 0.6691002\tbest: 0.6691002 (146)\ttotal: 12.1s\tremaining: 1m 10s\n147:\tlearn: 0.6644278\ttest: 0.6690705\tbest: 0.6690705 (147)\ttotal: 12.2s\tremaining: 1m 10s\n148:\tlearn: 0.6643597\ttest: 0.6690150\tbest: 0.6690150 (148)\ttotal: 12.3s\tremaining: 1m 9s\n149:\tlearn: 0.6643118\ttest: 0.6689905\tbest: 0.6689905 (149)\ttotal: 12.3s\tremaining: 1m 9s\n150:\tlearn: 0.6642632\ttest: 0.6689580\tbest: 0.6689580 (150)\ttotal: 12.4s\tremaining: 1m 9s\n151:\tlearn: 0.6642034\ttest: 0.6689137\tbest: 0.6689137 (151)\ttotal: 12.5s\tremaining: 1m 9s\n152:\tlearn: 0.6641542\ttest: 0.6688958\tbest: 0.6688958 (152)\ttotal: 12.6s\tremaining: 1m 9s\n153:\tlearn: 0.6641142\ttest: 0.6688803\tbest: 0.6688803 (153)\ttotal: 12.7s\tremaining: 1m 9s\n154:\tlearn: 0.6640508\ttest: 0.6688353\tbest: 0.6688353 (154)\ttotal: 12.8s\tremaining: 1m 9s\n155:\tlearn: 0.6639953\ttest: 0.6687881\tbest: 0.6687881 (155)\ttotal: 12.9s\tremaining: 1m 9s\n156:\tlearn: 0.6639362\ttest: 0.6687378\tbest: 0.6687378 (156)\ttotal: 13s\tremaining: 1m 9s\n157:\tlearn: 0.6638769\ttest: 0.6687079\tbest: 0.6687079 (157)\ttotal: 13.1s\tremaining: 1m 9s\n158:\tlearn: 0.6638258\ttest: 0.6686692\tbest: 0.6686692 (158)\ttotal: 13.2s\tremaining: 1m 9s\n159:\tlearn: 0.6637835\ttest: 0.6686424\tbest: 0.6686424 (159)\ttotal: 13.2s\tremaining: 1m 9s\n160:\tlearn: 0.6637316\ttest: 0.6686062\tbest: 0.6686062 (160)\ttotal: 13.3s\tremaining: 1m 9s\n161:\tlearn: 0.6636848\ttest: 0.6685780\tbest: 0.6685780 (161)\ttotal: 13.4s\tremaining: 1m 9s\n162:\tlearn: 0.6636319\ttest: 0.6685565\tbest: 0.6685565 (162)\ttotal: 13.5s\tremaining: 1m 9s\n163:\tlearn: 0.6635732\ttest: 0.6685236\tbest: 0.6685236 (163)\ttotal: 13.5s\tremaining: 1m 9s\n164:\tlearn: 0.6635229\ttest: 0.6684974\tbest: 0.6684974 (164)\ttotal: 13.6s\tremaining: 1m 8s\n165:\tlearn: 0.6634649\ttest: 0.6684570\tbest: 0.6684570 (165)\ttotal: 13.7s\tremaining: 1m 8s\n166:\tlearn: 0.6634085\ttest: 0.6684403\tbest: 0.6684403 (166)\ttotal: 13.8s\tremaining: 1m 8s\n167:\tlearn: 0.6633463\ttest: 0.6684090\tbest: 0.6684090 (167)\ttotal: 13.9s\tremaining: 1m 8s\n168:\tlearn: 0.6632909\ttest: 0.6684080\tbest: 0.6684080 (168)\ttotal: 14s\tremaining: 1m 8s\n169:\tlearn: 0.6632163\ttest: 0.6683757\tbest: 0.6683757 (169)\ttotal: 14.1s\tremaining: 1m 8s\n170:\tlearn: 0.6631680\ttest: 0.6683507\tbest: 0.6683507 (170)\ttotal: 14.1s\tremaining: 1m 8s\n171:\tlearn: 0.6631213\ttest: 0.6683182\tbest: 0.6683182 (171)\ttotal: 14.2s\tremaining: 1m 8s\n172:\tlearn: 0.6630529\ttest: 0.6682747\tbest: 0.6682747 (172)\ttotal: 14.3s\tremaining: 1m 8s\n173:\tlearn: 0.6630048\ttest: 0.6682520\tbest: 0.6682520 (173)\ttotal: 14.4s\tremaining: 1m 8s\n174:\tlearn: 0.6629558\ttest: 0.6682214\tbest: 0.6682214 (174)\ttotal: 14.5s\tremaining: 1m 8s\n175:\tlearn: 0.6629106\ttest: 0.6681890\tbest: 0.6681890 (175)\ttotal: 14.6s\tremaining: 1m 8s\n176:\tlearn: 0.6628689\ttest: 0.6681764\tbest: 0.6681764 (176)\ttotal: 14.6s\tremaining: 1m 8s\n177:\tlearn: 0.6628338\ttest: 0.6681566\tbest: 0.6681566 (177)\ttotal: 14.7s\tremaining: 1m 7s\n178:\tlearn: 0.6627727\ttest: 0.6681164\tbest: 0.6681164 (178)\ttotal: 14.8s\tremaining: 1m 7s\n179:\tlearn: 0.6627067\ttest: 0.6680683\tbest: 0.6680683 (179)\ttotal: 14.9s\tremaining: 1m 7s\n180:\tlearn: 0.6626495\ttest: 0.6680210\tbest: 0.6680210 (180)\ttotal: 14.9s\tremaining: 1m 7s\n181:\tlearn: 0.6626026\ttest: 0.6680067\tbest: 0.6680067 (181)\ttotal: 15s\tremaining: 1m 7s\n182:\tlearn: 0.6625568\ttest: 0.6679899\tbest: 0.6679899 (182)\ttotal: 15.1s\tremaining: 1m 7s\n183:\tlearn: 0.6625147\ttest: 0.6679986\tbest: 0.6679899 (182)\ttotal: 15.2s\tremaining: 1m 7s\n184:\tlearn: 0.6624769\ttest: 0.6679883\tbest: 0.6679883 (184)\ttotal: 15.2s\tremaining: 1m 7s\n185:\tlearn: 0.6624298\ttest: 0.6679774\tbest: 0.6679774 (185)\ttotal: 15.3s\tremaining: 1m 7s\n186:\tlearn: 0.6623849\ttest: 0.6679696\tbest: 0.6679696 (186)\ttotal: 15.4s\tremaining: 1m 6s\n187:\tlearn: 0.6623424\ttest: 0.6679469\tbest: 0.6679469 (187)\ttotal: 15.5s\tremaining: 1m 6s\n188:\tlearn: 0.6623031\ttest: 0.6679343\tbest: 0.6679343 (188)\ttotal: 15.5s\tremaining: 1m 6s\n189:\tlearn: 0.6622694\ttest: 0.6679208\tbest: 0.6679208 (189)\ttotal: 15.6s\tremaining: 1m 6s\n190:\tlearn: 0.6622263\ttest: 0.6679054\tbest: 0.6679054 (190)\ttotal: 15.7s\tremaining: 1m 6s\n191:\tlearn: 0.6621599\ttest: 0.6678609\tbest: 0.6678609 (191)\ttotal: 15.8s\tremaining: 1m 6s\n192:\tlearn: 0.6621212\ttest: 0.6678501\tbest: 0.6678501 (192)\ttotal: 15.9s\tremaining: 1m 6s\n193:\tlearn: 0.6620762\ttest: 0.6678429\tbest: 0.6678429 (193)\ttotal: 15.9s\tremaining: 1m 6s\n194:\tlearn: 0.6620442\ttest: 0.6678361\tbest: 0.6678361 (194)\ttotal: 16s\tremaining: 1m 6s\n195:\tlearn: 0.6619983\ttest: 0.6678165\tbest: 0.6678165 (195)\ttotal: 16.1s\tremaining: 1m 6s\n196:\tlearn: 0.6619536\ttest: 0.6677939\tbest: 0.6677939 (196)\ttotal: 16.2s\tremaining: 1m 5s\n197:\tlearn: 0.6619186\ttest: 0.6677778\tbest: 0.6677778 (197)\ttotal: 16.2s\tremaining: 1m 5s\n198:\tlearn: 0.6618793\ttest: 0.6677627\tbest: 0.6677627 (198)\ttotal: 16.3s\tremaining: 1m 5s\n199:\tlearn: 0.6618409\ttest: 0.6677343\tbest: 0.6677343 (199)\ttotal: 16.4s\tremaining: 1m 5s\n200:\tlearn: 0.6617833\ttest: 0.6676971\tbest: 0.6676971 (200)\ttotal: 16.5s\tremaining: 1m 5s\n201:\tlearn: 0.6617336\ttest: 0.6676639\tbest: 0.6676639 (201)\ttotal: 16.6s\tremaining: 1m 5s\n202:\tlearn: 0.6616860\ttest: 0.6676406\tbest: 0.6676406 (202)\ttotal: 16.6s\tremaining: 1m 5s\n203:\tlearn: 0.6616400\ttest: 0.6676186\tbest: 0.6676186 (203)\ttotal: 16.7s\tremaining: 1m 5s\n204:\tlearn: 0.6615955\ttest: 0.6676030\tbest: 0.6676030 (204)\ttotal: 16.8s\tremaining: 1m 5s\n205:\tlearn: 0.6615369\ttest: 0.6675685\tbest: 0.6675685 (205)\ttotal: 16.9s\tremaining: 1m 5s\n206:\tlearn: 0.6615014\ttest: 0.6675560\tbest: 0.6675560 (206)\ttotal: 17s\tremaining: 1m 5s\n207:\tlearn: 0.6614504\ttest: 0.6675275\tbest: 0.6675275 (207)\ttotal: 17.1s\tremaining: 1m 4s\n208:\tlearn: 0.6613993\ttest: 0.6675100\tbest: 0.6675100 (208)\ttotal: 17.1s\tremaining: 1m 4s\n209:\tlearn: 0.6613565\ttest: 0.6674841\tbest: 0.6674841 (209)\ttotal: 17.2s\tremaining: 1m 4s\n210:\tlearn: 0.6613122\ttest: 0.6674594\tbest: 0.6674594 (210)\ttotal: 17.3s\tremaining: 1m 4s\n211:\tlearn: 0.6612741\ttest: 0.6674388\tbest: 0.6674388 (211)\ttotal: 17.4s\tremaining: 1m 4s\n212:\tlearn: 0.6612356\ttest: 0.6674224\tbest: 0.6674224 (212)\ttotal: 17.5s\tremaining: 1m 4s\n213:\tlearn: 0.6611944\ttest: 0.6674176\tbest: 0.6674176 (213)\ttotal: 17.5s\tremaining: 1m 4s\n214:\tlearn: 0.6611569\ttest: 0.6674116\tbest: 0.6674116 (214)\ttotal: 17.6s\tremaining: 1m 4s\n215:\tlearn: 0.6611105\ttest: 0.6673879\tbest: 0.6673879 (215)\ttotal: 17.7s\tremaining: 1m 4s\n216:\tlearn: 0.6610675\ttest: 0.6673657\tbest: 0.6673657 (216)\ttotal: 17.8s\tremaining: 1m 4s\n217:\tlearn: 0.6610294\ttest: 0.6673552\tbest: 0.6673552 (217)\ttotal: 17.9s\tremaining: 1m 4s\n218:\tlearn: 0.6609945\ttest: 0.6673322\tbest: 0.6673322 (218)\ttotal: 17.9s\tremaining: 1m 3s\n219:\tlearn: 0.6609478\ttest: 0.6673131\tbest: 0.6673131 (219)\ttotal: 18s\tremaining: 1m 3s\n220:\tlearn: 0.6609067\ttest: 0.6672878\tbest: 0.6672878 (220)\ttotal: 18.1s\tremaining: 1m 3s\n221:\tlearn: 0.6608652\ttest: 0.6672705\tbest: 0.6672705 (221)\ttotal: 18.2s\tremaining: 1m 3s\n222:\tlearn: 0.6608384\ttest: 0.6672655\tbest: 0.6672655 (222)\ttotal: 18.3s\tremaining: 1m 3s\n223:\tlearn: 0.6608096\ttest: 0.6672603\tbest: 0.6672603 (223)\ttotal: 18.3s\tremaining: 1m 3s\n224:\tlearn: 0.6607641\ttest: 0.6672314\tbest: 0.6672314 (224)\ttotal: 18.4s\tremaining: 1m 3s\n225:\tlearn: 0.6607120\ttest: 0.6672096\tbest: 0.6672096 (225)\ttotal: 18.5s\tremaining: 1m 3s\n226:\tlearn: 0.6606843\ttest: 0.6671953\tbest: 0.6671953 (226)\ttotal: 18.6s\tremaining: 1m 3s\n227:\tlearn: 0.6606452\ttest: 0.6671764\tbest: 0.6671764 (227)\ttotal: 18.7s\tremaining: 1m 3s\n228:\tlearn: 0.6606017\ttest: 0.6671570\tbest: 0.6671570 (228)\ttotal: 18.7s\tremaining: 1m 3s\n229:\tlearn: 0.6605781\ttest: 0.6671499\tbest: 0.6671499 (229)\ttotal: 18.8s\tremaining: 1m 3s\n230:\tlearn: 0.6605194\ttest: 0.6671134\tbest: 0.6671134 (230)\ttotal: 18.9s\tremaining: 1m 2s\n231:\tlearn: 0.6604708\ttest: 0.6670889\tbest: 0.6670889 (231)\ttotal: 19s\tremaining: 1m 2s\n232:\tlearn: 0.6604054\ttest: 0.6670612\tbest: 0.6670612 (232)\ttotal: 19.1s\tremaining: 1m 2s\n233:\tlearn: 0.6603643\ttest: 0.6670244\tbest: 0.6670244 (233)\ttotal: 19.1s\tremaining: 1m 2s\n234:\tlearn: 0.6603196\ttest: 0.6669961\tbest: 0.6669961 (234)\ttotal: 19.2s\tremaining: 1m 2s\n235:\tlearn: 0.6602824\ttest: 0.6669649\tbest: 0.6669649 (235)\ttotal: 19.3s\tremaining: 1m 2s\n236:\tlearn: 0.6602365\ttest: 0.6669464\tbest: 0.6669464 (236)\ttotal: 19.4s\tremaining: 1m 2s\n237:\tlearn: 0.6602077\ttest: 0.6669350\tbest: 0.6669350 (237)\ttotal: 19.5s\tremaining: 1m 2s\n238:\tlearn: 0.6601619\ttest: 0.6669051\tbest: 0.6669051 (238)\ttotal: 19.6s\tremaining: 1m 2s\n239:\tlearn: 0.6601173\ttest: 0.6668846\tbest: 0.6668846 (239)\ttotal: 19.6s\tremaining: 1m 2s\n240:\tlearn: 0.6600795\ttest: 0.6668676\tbest: 0.6668676 (240)\ttotal: 19.7s\tremaining: 1m 2s\n241:\tlearn: 0.6600448\ttest: 0.6668526\tbest: 0.6668526 (241)\ttotal: 19.8s\tremaining: 1m 2s\n242:\tlearn: 0.6599996\ttest: 0.6668426\tbest: 0.6668426 (242)\ttotal: 19.9s\tremaining: 1m 1s\n243:\tlearn: 0.6599537\ttest: 0.6668288\tbest: 0.6668288 (243)\ttotal: 19.9s\tremaining: 1m 1s\n244:\tlearn: 0.6599201\ttest: 0.6668070\tbest: 0.6668070 (244)\ttotal: 20s\tremaining: 1m 1s\n245:\tlearn: 0.6598807\ttest: 0.6667932\tbest: 0.6667932 (245)\ttotal: 20.1s\tremaining: 1m 1s\n246:\tlearn: 0.6598461\ttest: 0.6667671\tbest: 0.6667671 (246)\ttotal: 20.2s\tremaining: 1m 1s\n247:\tlearn: 0.6598016\ttest: 0.6667662\tbest: 0.6667662 (247)\ttotal: 20.3s\tremaining: 1m 1s\n248:\tlearn: 0.6597722\ttest: 0.6667599\tbest: 0.6667599 (248)\ttotal: 20.3s\tremaining: 1m 1s\n249:\tlearn: 0.6597303\ttest: 0.6667486\tbest: 0.6667486 (249)\ttotal: 20.4s\tremaining: 1m 1s\n250:\tlearn: 0.6596898\ttest: 0.6667092\tbest: 0.6667092 (250)\ttotal: 20.5s\tremaining: 1m 1s\n251:\tlearn: 0.6596568\ttest: 0.6666937\tbest: 0.6666937 (251)\ttotal: 20.6s\tremaining: 1m 1s\n252:\tlearn: 0.6596271\ttest: 0.6666894\tbest: 0.6666894 (252)\ttotal: 20.7s\tremaining: 1m 1s\n253:\tlearn: 0.6595996\ttest: 0.6666834\tbest: 0.6666834 (253)\ttotal: 20.8s\tremaining: 1m\n254:\tlearn: 0.6595642\ttest: 0.6666694\tbest: 0.6666694 (254)\ttotal: 20.8s\tremaining: 1m\n255:\tlearn: 0.6595238\ttest: 0.6666466\tbest: 0.6666466 (255)\ttotal: 20.9s\tremaining: 1m\n256:\tlearn: 0.6594931\ttest: 0.6666312\tbest: 0.6666312 (256)\ttotal: 21s\tremaining: 1m\n257:\tlearn: 0.6594657\ttest: 0.6666259\tbest: 0.6666259 (257)\ttotal: 21.1s\tremaining: 1m\n258:\tlearn: 0.6594419\ttest: 0.6666010\tbest: 0.6666010 (258)\ttotal: 21.1s\tremaining: 1m\n259:\tlearn: 0.6594139\ttest: 0.6665963\tbest: 0.6665963 (259)\ttotal: 21.2s\tremaining: 1m\n260:\tlearn: 0.6593724\ttest: 0.6665758\tbest: 0.6665758 (260)\ttotal: 21.3s\tremaining: 1m\n261:\tlearn: 0.6593336\ttest: 0.6665747\tbest: 0.6665747 (261)\ttotal: 21.4s\tremaining: 1m\n262:\tlearn: 0.6593034\ttest: 0.6665602\tbest: 0.6665602 (262)\ttotal: 21.5s\tremaining: 1m\n263:\tlearn: 0.6592608\ttest: 0.6665305\tbest: 0.6665305 (263)\ttotal: 21.5s\tremaining: 1m\n264:\tlearn: 0.6592335\ttest: 0.6665223\tbest: 0.6665223 (264)\ttotal: 21.6s\tremaining: 59.9s\n265:\tlearn: 0.6591974\ttest: 0.6665125\tbest: 0.6665125 (265)\ttotal: 21.7s\tremaining: 59.8s\n266:\tlearn: 0.6591599\ttest: 0.6664960\tbest: 0.6664960 (266)\ttotal: 21.8s\tremaining: 59.7s\n267:\tlearn: 0.6591308\ttest: 0.6664886\tbest: 0.6664886 (267)\ttotal: 21.8s\tremaining: 59.7s\n268:\tlearn: 0.6590945\ttest: 0.6664766\tbest: 0.6664766 (268)\ttotal: 21.9s\tremaining: 59.6s\n269:\tlearn: 0.6590674\ttest: 0.6664743\tbest: 0.6664743 (269)\ttotal: 22s\tremaining: 59.5s\n270:\tlearn: 0.6590362\ttest: 0.6664641\tbest: 0.6664641 (270)\ttotal: 22.1s\tremaining: 59.4s\n271:\tlearn: 0.6590132\ttest: 0.6664572\tbest: 0.6664572 (271)\ttotal: 22.2s\tremaining: 59.3s\n272:\tlearn: 0.6589757\ttest: 0.6664618\tbest: 0.6664572 (271)\ttotal: 22.2s\tremaining: 59.2s\n273:\tlearn: 0.6589446\ttest: 0.6664664\tbest: 0.6664572 (271)\ttotal: 22.3s\tremaining: 59.1s\n274:\tlearn: 0.6589059\ttest: 0.6664520\tbest: 0.6664520 (274)\ttotal: 22.4s\tremaining: 59s\n275:\tlearn: 0.6588833\ttest: 0.6664419\tbest: 0.6664419 (275)\ttotal: 22.5s\tremaining: 59s\n276:\tlearn: 0.6588447\ttest: 0.6664299\tbest: 0.6664299 (276)\ttotal: 22.6s\tremaining: 58.9s\n277:\tlearn: 0.6588023\ttest: 0.6664165\tbest: 0.6664165 (277)\ttotal: 22.6s\tremaining: 58.8s\n278:\tlearn: 0.6587863\ttest: 0.6664099\tbest: 0.6664099 (278)\ttotal: 22.7s\tremaining: 58.7s\n279:\tlearn: 0.6587492\ttest: 0.6664153\tbest: 0.6664099 (278)\ttotal: 22.8s\tremaining: 58.7s\n280:\tlearn: 0.6587164\ttest: 0.6663952\tbest: 0.6663952 (280)\ttotal: 22.9s\tremaining: 58.6s\n281:\tlearn: 0.6586831\ttest: 0.6663833\tbest: 0.6663833 (281)\ttotal: 23s\tremaining: 58.5s\n282:\tlearn: 0.6586511\ttest: 0.6663779\tbest: 0.6663779 (282)\ttotal: 23s\tremaining: 58.4s\n283:\tlearn: 0.6586052\ttest: 0.6663390\tbest: 0.6663390 (283)\ttotal: 23.1s\tremaining: 58.3s\n284:\tlearn: 0.6585768\ttest: 0.6663314\tbest: 0.6663314 (284)\ttotal: 23.2s\tremaining: 58.2s\n285:\tlearn: 0.6585381\ttest: 0.6663217\tbest: 0.6663217 (285)\ttotal: 23.3s\tremaining: 58.1s\n286:\tlearn: 0.6585053\ttest: 0.6663095\tbest: 0.6663095 (286)\ttotal: 23.4s\tremaining: 58s\n287:\tlearn: 0.6584703\ttest: 0.6662904\tbest: 0.6662904 (287)\ttotal: 23.5s\tremaining: 58s\n288:\tlearn: 0.6584421\ttest: 0.6662806\tbest: 0.6662806 (288)\ttotal: 23.5s\tremaining: 57.9s\n289:\tlearn: 0.6584109\ttest: 0.6662793\tbest: 0.6662793 (289)\ttotal: 23.6s\tremaining: 57.8s\n290:\tlearn: 0.6583636\ttest: 0.6662551\tbest: 0.6662551 (290)\ttotal: 23.7s\tremaining: 57.7s\n291:\tlearn: 0.6583301\ttest: 0.6662488\tbest: 0.6662488 (291)\ttotal: 23.8s\tremaining: 57.6s\n292:\tlearn: 0.6582983\ttest: 0.6662413\tbest: 0.6662413 (292)\ttotal: 23.8s\tremaining: 57.5s\n293:\tlearn: 0.6582646\ttest: 0.6662326\tbest: 0.6662326 (293)\ttotal: 23.9s\tremaining: 57.4s\n294:\tlearn: 0.6582374\ttest: 0.6662300\tbest: 0.6662300 (294)\ttotal: 24s\tremaining: 57.3s\n295:\tlearn: 0.6582096\ttest: 0.6662252\tbest: 0.6662252 (295)\ttotal: 24.1s\tremaining: 57.2s\n296:\tlearn: 0.6581905\ttest: 0.6662237\tbest: 0.6662237 (296)\ttotal: 24.1s\tremaining: 57.1s\n297:\tlearn: 0.6581596\ttest: 0.6662166\tbest: 0.6662166 (297)\ttotal: 24.2s\tremaining: 57.1s\n298:\tlearn: 0.6581279\ttest: 0.6662119\tbest: 0.6662119 (298)\ttotal: 24.3s\tremaining: 57s\n299:\tlearn: 0.6580935\ttest: 0.6662035\tbest: 0.6662035 (299)\ttotal: 24.4s\tremaining: 56.9s\n300:\tlearn: 0.6580644\ttest: 0.6661886\tbest: 0.6661886 (300)\ttotal: 24.4s\tremaining: 56.8s\n301:\tlearn: 0.6580347\ttest: 0.6661870\tbest: 0.6661870 (301)\ttotal: 24.5s\tremaining: 56.7s\n302:\tlearn: 0.6580061\ttest: 0.6661756\tbest: 0.6661756 (302)\ttotal: 24.6s\tremaining: 56.6s\n303:\tlearn: 0.6579681\ttest: 0.6661577\tbest: 0.6661577 (303)\ttotal: 24.7s\tremaining: 56.5s\n304:\tlearn: 0.6579377\ttest: 0.6661558\tbest: 0.6661558 (304)\ttotal: 24.8s\tremaining: 56.4s\n305:\tlearn: 0.6579070\ttest: 0.6661574\tbest: 0.6661558 (304)\ttotal: 24.8s\tremaining: 56.3s\n306:\tlearn: 0.6578766\ttest: 0.6661659\tbest: 0.6661558 (304)\ttotal: 24.9s\tremaining: 56.2s\n307:\tlearn: 0.6578515\ttest: 0.6661624\tbest: 0.6661558 (304)\ttotal: 25s\tremaining: 56.2s\n308:\tlearn: 0.6578120\ttest: 0.6661409\tbest: 0.6661409 (308)\ttotal: 25.1s\tremaining: 56.2s\n309:\tlearn: 0.6577793\ttest: 0.6661263\tbest: 0.6661263 (309)\ttotal: 25.2s\tremaining: 56.1s\n310:\tlearn: 0.6577555\ttest: 0.6661205\tbest: 0.6661205 (310)\ttotal: 25.3s\tremaining: 56s\n311:\tlearn: 0.6577316\ttest: 0.6661182\tbest: 0.6661182 (311)\ttotal: 25.4s\tremaining: 56s\n312:\tlearn: 0.6576898\ttest: 0.6661038\tbest: 0.6661038 (312)\ttotal: 25.5s\tremaining: 55.9s\n313:\tlearn: 0.6576695\ttest: 0.6660978\tbest: 0.6660978 (313)\ttotal: 25.6s\tremaining: 55.8s\n314:\tlearn: 0.6576355\ttest: 0.6660897\tbest: 0.6660897 (314)\ttotal: 25.6s\tremaining: 55.7s\n315:\tlearn: 0.6576118\ttest: 0.6660773\tbest: 0.6660773 (315)\ttotal: 25.7s\tremaining: 55.7s\n316:\tlearn: 0.6575784\ttest: 0.6660726\tbest: 0.6660726 (316)\ttotal: 25.8s\tremaining: 55.6s\n317:\tlearn: 0.6575567\ttest: 0.6660707\tbest: 0.6660707 (317)\ttotal: 25.9s\tremaining: 55.5s\n318:\tlearn: 0.6575321\ttest: 0.6660647\tbest: 0.6660647 (318)\ttotal: 25.9s\tremaining: 55.4s\n319:\tlearn: 0.6575038\ttest: 0.6660685\tbest: 0.6660647 (318)\ttotal: 26s\tremaining: 55.3s\n320:\tlearn: 0.6574876\ttest: 0.6660630\tbest: 0.6660630 (320)\ttotal: 26.1s\tremaining: 55.2s\n321:\tlearn: 0.6574502\ttest: 0.6660676\tbest: 0.6660630 (320)\ttotal: 26.2s\tremaining: 55.1s\n322:\tlearn: 0.6574242\ttest: 0.6660504\tbest: 0.6660504 (322)\ttotal: 26.2s\tremaining: 55s\n323:\tlearn: 0.6573970\ttest: 0.6660399\tbest: 0.6660399 (323)\ttotal: 26.3s\tremaining: 54.9s\n324:\tlearn: 0.6573603\ttest: 0.6660162\tbest: 0.6660162 (324)\ttotal: 26.4s\tremaining: 54.8s\n325:\tlearn: 0.6573279\ttest: 0.6660182\tbest: 0.6660162 (324)\ttotal: 26.5s\tremaining: 54.8s\n326:\tlearn: 0.6573001\ttest: 0.6660141\tbest: 0.6660141 (326)\ttotal: 26.6s\tremaining: 54.7s\n327:\tlearn: 0.6572753\ttest: 0.6660060\tbest: 0.6660060 (327)\ttotal: 26.6s\tremaining: 54.6s\n328:\tlearn: 0.6572551\ttest: 0.6659972\tbest: 0.6659972 (328)\ttotal: 26.7s\tremaining: 54.5s\n329:\tlearn: 0.6572227\ttest: 0.6659871\tbest: 0.6659871 (329)\ttotal: 26.8s\tremaining: 54.4s\n330:\tlearn: 0.6571909\ttest: 0.6659811\tbest: 0.6659811 (330)\ttotal: 26.9s\tremaining: 54.3s\n331:\tlearn: 0.6571591\ttest: 0.6659683\tbest: 0.6659683 (331)\ttotal: 27s\tremaining: 54.2s\n332:\tlearn: 0.6571317\ttest: 0.6659627\tbest: 0.6659627 (332)\ttotal: 27s\tremaining: 54.1s\n333:\tlearn: 0.6571064\ttest: 0.6659567\tbest: 0.6659567 (333)\ttotal: 27.1s\tremaining: 54s\n334:\tlearn: 0.6570838\ttest: 0.6659481\tbest: 0.6659481 (334)\ttotal: 27.2s\tremaining: 54s\n335:\tlearn: 0.6570585\ttest: 0.6659294\tbest: 0.6659294 (335)\ttotal: 27.3s\tremaining: 53.9s\n336:\tlearn: 0.6570366\ttest: 0.6659275\tbest: 0.6659275 (336)\ttotal: 27.3s\tremaining: 53.8s\n337:\tlearn: 0.6570068\ttest: 0.6659103\tbest: 0.6659103 (337)\ttotal: 27.4s\tremaining: 53.7s\n338:\tlearn: 0.6569750\ttest: 0.6658916\tbest: 0.6658916 (338)\ttotal: 27.5s\tremaining: 53.6s\n339:\tlearn: 0.6569352\ttest: 0.6658720\tbest: 0.6658720 (339)\ttotal: 27.6s\tremaining: 53.5s\n340:\tlearn: 0.6569011\ttest: 0.6658629\tbest: 0.6658629 (340)\ttotal: 27.6s\tremaining: 53.4s\n341:\tlearn: 0.6568691\ttest: 0.6658439\tbest: 0.6658439 (341)\ttotal: 27.7s\tremaining: 53.3s\n342:\tlearn: 0.6568274\ttest: 0.6658493\tbest: 0.6658439 (341)\ttotal: 27.8s\tremaining: 53.2s\n343:\tlearn: 0.6567970\ttest: 0.6658439\tbest: 0.6658439 (341)\ttotal: 27.9s\tremaining: 53.1s\n344:\tlearn: 0.6567798\ttest: 0.6658394\tbest: 0.6658394 (344)\ttotal: 28s\tremaining: 53.1s\n345:\tlearn: 0.6567488\ttest: 0.6658301\tbest: 0.6658301 (345)\ttotal: 28.1s\tremaining: 53.1s\n346:\tlearn: 0.6567209\ttest: 0.6658257\tbest: 0.6658257 (346)\ttotal: 28.2s\tremaining: 53s\n347:\tlearn: 0.6566968\ttest: 0.6658083\tbest: 0.6658083 (347)\ttotal: 28.2s\tremaining: 52.9s\n348:\tlearn: 0.6566668\ttest: 0.6658067\tbest: 0.6658067 (348)\ttotal: 28.3s\tremaining: 52.8s\n349:\tlearn: 0.6566336\ttest: 0.6657922\tbest: 0.6657922 (349)\ttotal: 28.4s\tremaining: 52.8s\n350:\tlearn: 0.6566093\ttest: 0.6658047\tbest: 0.6657922 (349)\ttotal: 28.5s\tremaining: 52.7s\n351:\tlearn: 0.6565758\ttest: 0.6658004\tbest: 0.6657922 (349)\ttotal: 28.6s\tremaining: 52.6s\n352:\tlearn: 0.6565492\ttest: 0.6657935\tbest: 0.6657922 (349)\ttotal: 28.6s\tremaining: 52.5s\n353:\tlearn: 0.6565291\ttest: 0.6657791\tbest: 0.6657791 (353)\ttotal: 28.7s\tremaining: 52.4s\n354:\tlearn: 0.6564915\ttest: 0.6657574\tbest: 0.6657574 (354)\ttotal: 28.8s\tremaining: 52.3s\n355:\tlearn: 0.6564607\ttest: 0.6657614\tbest: 0.6657574 (354)\ttotal: 28.9s\tremaining: 52.2s\n356:\tlearn: 0.6564353\ttest: 0.6657658\tbest: 0.6657574 (354)\ttotal: 29s\tremaining: 52.1s\n357:\tlearn: 0.6564093\ttest: 0.6657621\tbest: 0.6657574 (354)\ttotal: 29s\tremaining: 52.1s\n358:\tlearn: 0.6563919\ttest: 0.6657594\tbest: 0.6657574 (354)\ttotal: 29.1s\tremaining: 52s\n359:\tlearn: 0.6563730\ttest: 0.6657490\tbest: 0.6657490 (359)\ttotal: 29.2s\tremaining: 51.9s\n360:\tlearn: 0.6563368\ttest: 0.6657261\tbest: 0.6657261 (360)\ttotal: 29.3s\tremaining: 51.8s\n361:\tlearn: 0.6562957\ttest: 0.6657042\tbest: 0.6657042 (361)\ttotal: 29.4s\tremaining: 51.7s\n362:\tlearn: 0.6562610\ttest: 0.6656921\tbest: 0.6656921 (362)\ttotal: 29.5s\tremaining: 51.7s\n363:\tlearn: 0.6562413\ttest: 0.6657023\tbest: 0.6656921 (362)\ttotal: 29.5s\tremaining: 51.6s\n364:\tlearn: 0.6562061\ttest: 0.6656897\tbest: 0.6656897 (364)\ttotal: 29.6s\tremaining: 51.5s\n365:\tlearn: 0.6561736\ttest: 0.6656847\tbest: 0.6656847 (365)\ttotal: 29.7s\tremaining: 51.4s\n366:\tlearn: 0.6561626\ttest: 0.6656801\tbest: 0.6656801 (366)\ttotal: 29.8s\tremaining: 51.3s\n367:\tlearn: 0.6561371\ttest: 0.6656844\tbest: 0.6656801 (366)\ttotal: 29.8s\tremaining: 51.2s\n368:\tlearn: 0.6561056\ttest: 0.6656634\tbest: 0.6656634 (368)\ttotal: 29.9s\tremaining: 51.1s\n369:\tlearn: 0.6560606\ttest: 0.6656205\tbest: 0.6656205 (369)\ttotal: 30s\tremaining: 51.1s\n370:\tlearn: 0.6560300\ttest: 0.6656259\tbest: 0.6656205 (369)\ttotal: 30.1s\tremaining: 51s\n371:\tlearn: 0.6560010\ttest: 0.6656272\tbest: 0.6656205 (369)\ttotal: 30.1s\tremaining: 50.9s\n372:\tlearn: 0.6559771\ttest: 0.6656264\tbest: 0.6656205 (369)\ttotal: 30.2s\tremaining: 50.8s\n373:\tlearn: 0.6559607\ttest: 0.6656188\tbest: 0.6656188 (373)\ttotal: 30.3s\tremaining: 50.7s\n374:\tlearn: 0.6559289\ttest: 0.6656135\tbest: 0.6656135 (374)\ttotal: 30.4s\tremaining: 50.6s\n375:\tlearn: 0.6558856\ttest: 0.6655984\tbest: 0.6655984 (375)\ttotal: 30.4s\tremaining: 50.5s\n376:\tlearn: 0.6558587\ttest: 0.6655901\tbest: 0.6655901 (376)\ttotal: 30.5s\tremaining: 50.4s\n377:\tlearn: 0.6558292\ttest: 0.6655936\tbest: 0.6655901 (376)\ttotal: 30.6s\tremaining: 50.4s\n378:\tlearn: 0.6557839\ttest: 0.6655629\tbest: 0.6655629 (378)\ttotal: 30.7s\tremaining: 50.3s\n379:\tlearn: 0.6557645\ttest: 0.6655630\tbest: 0.6655629 (378)\ttotal: 30.8s\tremaining: 50.2s\n380:\tlearn: 0.6557259\ttest: 0.6655470\tbest: 0.6655470 (380)\ttotal: 30.8s\tremaining: 50.1s\n381:\tlearn: 0.6557039\ttest: 0.6655322\tbest: 0.6655322 (381)\ttotal: 30.9s\tremaining: 50s\n382:\tlearn: 0.6556794\ttest: 0.6655108\tbest: 0.6655108 (382)\ttotal: 31s\tremaining: 49.9s\n383:\tlearn: 0.6556517\ttest: 0.6654953\tbest: 0.6654953 (383)\ttotal: 31.1s\tremaining: 49.9s\n384:\tlearn: 0.6556279\ttest: 0.6654895\tbest: 0.6654895 (384)\ttotal: 31.2s\tremaining: 49.8s\n385:\tlearn: 0.6556057\ttest: 0.6654774\tbest: 0.6654774 (385)\ttotal: 31.2s\tremaining: 49.7s\n386:\tlearn: 0.6555800\ttest: 0.6654653\tbest: 0.6654653 (386)\ttotal: 31.3s\tremaining: 49.6s\n387:\tlearn: 0.6555451\ttest: 0.6654704\tbest: 0.6654653 (386)\ttotal: 31.4s\tremaining: 49.5s\n388:\tlearn: 0.6554998\ttest: 0.6654553\tbest: 0.6654553 (388)\ttotal: 31.5s\tremaining: 49.4s\n389:\tlearn: 0.6554773\ttest: 0.6654518\tbest: 0.6654518 (389)\ttotal: 31.5s\tremaining: 49.3s\n390:\tlearn: 0.6554386\ttest: 0.6654457\tbest: 0.6654457 (390)\ttotal: 31.6s\tremaining: 49.3s\n391:\tlearn: 0.6554028\ttest: 0.6654429\tbest: 0.6654429 (391)\ttotal: 31.7s\tremaining: 49.2s\n392:\tlearn: 0.6553663\ttest: 0.6654384\tbest: 0.6654384 (392)\ttotal: 31.8s\tremaining: 49.1s\n393:\tlearn: 0.6553422\ttest: 0.6654369\tbest: 0.6654369 (393)\ttotal: 31.9s\tremaining: 49s\n394:\tlearn: 0.6553195\ttest: 0.6654311\tbest: 0.6654311 (394)\ttotal: 31.9s\tremaining: 48.9s\n395:\tlearn: 0.6552862\ttest: 0.6654336\tbest: 0.6654311 (394)\ttotal: 32s\tremaining: 48.8s\n396:\tlearn: 0.6552603\ttest: 0.6654231\tbest: 0.6654231 (396)\ttotal: 32.1s\tremaining: 48.7s\n397:\tlearn: 0.6552419\ttest: 0.6654223\tbest: 0.6654223 (397)\ttotal: 32.2s\tremaining: 48.6s\n398:\tlearn: 0.6552156\ttest: 0.6654163\tbest: 0.6654163 (398)\ttotal: 32.2s\tremaining: 48.6s\n399:\tlearn: 0.6551845\ttest: 0.6654042\tbest: 0.6654042 (399)\ttotal: 32.3s\tremaining: 48.5s\n400:\tlearn: 0.6551585\ttest: 0.6653955\tbest: 0.6653955 (400)\ttotal: 32.4s\tremaining: 48.4s\n401:\tlearn: 0.6551361\ttest: 0.6653859\tbest: 0.6653859 (401)\ttotal: 32.5s\tremaining: 48.3s\n402:\tlearn: 0.6551073\ttest: 0.6653780\tbest: 0.6653780 (402)\ttotal: 32.6s\tremaining: 48.2s\n403:\tlearn: 0.6550677\ttest: 0.6653654\tbest: 0.6653654 (403)\ttotal: 32.6s\tremaining: 48.2s\n404:\tlearn: 0.6550447\ttest: 0.6653580\tbest: 0.6653580 (404)\ttotal: 32.7s\tremaining: 48.1s\n405:\tlearn: 0.6550082\ttest: 0.6653579\tbest: 0.6653579 (405)\ttotal: 32.8s\tremaining: 48s\n406:\tlearn: 0.6549816\ttest: 0.6653414\tbest: 0.6653414 (406)\ttotal: 32.9s\tremaining: 47.9s\n407:\tlearn: 0.6549566\ttest: 0.6653225\tbest: 0.6653225 (407)\ttotal: 32.9s\tremaining: 47.8s\n408:\tlearn: 0.6549189\ttest: 0.6653283\tbest: 0.6653225 (407)\ttotal: 33s\tremaining: 47.7s\n409:\tlearn: 0.6548829\ttest: 0.6653215\tbest: 0.6653215 (409)\ttotal: 33.1s\tremaining: 47.6s\n410:\tlearn: 0.6548594\ttest: 0.6653168\tbest: 0.6653168 (410)\ttotal: 33.2s\tremaining: 47.5s\n411:\tlearn: 0.6548288\ttest: 0.6652938\tbest: 0.6652938 (411)\ttotal: 33.2s\tremaining: 47.4s\n412:\tlearn: 0.6548070\ttest: 0.6652945\tbest: 0.6652938 (411)\ttotal: 33.3s\tremaining: 47.4s\n413:\tlearn: 0.6547700\ttest: 0.6652794\tbest: 0.6652794 (413)\ttotal: 33.4s\tremaining: 47.3s\n414:\tlearn: 0.6547321\ttest: 0.6652519\tbest: 0.6652519 (414)\ttotal: 33.5s\tremaining: 47.2s\n415:\tlearn: 0.6547094\ttest: 0.6652495\tbest: 0.6652495 (415)\ttotal: 33.6s\tremaining: 47.1s\n416:\tlearn: 0.6546796\ttest: 0.6652365\tbest: 0.6652365 (416)\ttotal: 33.6s\tremaining: 47s\n417:\tlearn: 0.6546381\ttest: 0.6652521\tbest: 0.6652365 (416)\ttotal: 33.7s\tremaining: 46.9s\n418:\tlearn: 0.6546077\ttest: 0.6652456\tbest: 0.6652365 (416)\ttotal: 33.8s\tremaining: 46.8s\n419:\tlearn: 0.6545834\ttest: 0.6652402\tbest: 0.6652365 (416)\ttotal: 33.8s\tremaining: 46.7s\n420:\tlearn: 0.6545527\ttest: 0.6652382\tbest: 0.6652365 (416)\ttotal: 33.9s\tremaining: 46.6s\n421:\tlearn: 0.6545360\ttest: 0.6652302\tbest: 0.6652302 (421)\ttotal: 34s\tremaining: 46.5s\n422:\tlearn: 0.6545008\ttest: 0.6652159\tbest: 0.6652159 (422)\ttotal: 34.1s\tremaining: 46.5s\n423:\tlearn: 0.6544675\ttest: 0.6652017\tbest: 0.6652017 (423)\ttotal: 34.1s\tremaining: 46.4s\n424:\tlearn: 0.6544388\ttest: 0.6651930\tbest: 0.6651930 (424)\ttotal: 34.2s\tremaining: 46.3s\n425:\tlearn: 0.6544102\ttest: 0.6651909\tbest: 0.6651909 (425)\ttotal: 34.3s\tremaining: 46.2s\n426:\tlearn: 0.6543814\ttest: 0.6651891\tbest: 0.6651891 (426)\ttotal: 34.4s\tremaining: 46.1s\n427:\tlearn: 0.6543508\ttest: 0.6651807\tbest: 0.6651807 (427)\ttotal: 34.5s\tremaining: 46.1s\n428:\tlearn: 0.6543153\ttest: 0.6651671\tbest: 0.6651671 (428)\ttotal: 34.5s\tremaining: 46s\n429:\tlearn: 0.6542810\ttest: 0.6651768\tbest: 0.6651671 (428)\ttotal: 34.6s\tremaining: 45.9s\n430:\tlearn: 0.6542397\ttest: 0.6651564\tbest: 0.6651564 (430)\ttotal: 34.7s\tremaining: 45.8s\n431:\tlearn: 0.6542180\ttest: 0.6651524\tbest: 0.6651524 (431)\ttotal: 34.8s\tremaining: 45.7s\n432:\tlearn: 0.6541949\ttest: 0.6651483\tbest: 0.6651483 (432)\ttotal: 34.8s\tremaining: 45.6s\n433:\tlearn: 0.6541646\ttest: 0.6651482\tbest: 0.6651482 (433)\ttotal: 34.9s\tremaining: 45.5s\n434:\tlearn: 0.6541348\ttest: 0.6651343\tbest: 0.6651343 (434)\ttotal: 35s\tremaining: 45.5s\n435:\tlearn: 0.6541031\ttest: 0.6651233\tbest: 0.6651233 (435)\ttotal: 35.1s\tremaining: 45.4s\n436:\tlearn: 0.6540792\ttest: 0.6651203\tbest: 0.6651203 (436)\ttotal: 35.1s\tremaining: 45.3s\n437:\tlearn: 0.6540413\ttest: 0.6651121\tbest: 0.6651121 (437)\ttotal: 35.2s\tremaining: 45.2s\n438:\tlearn: 0.6540026\ttest: 0.6650872\tbest: 0.6650872 (438)\ttotal: 35.3s\tremaining: 45.1s\n439:\tlearn: 0.6539735\ttest: 0.6650748\tbest: 0.6650748 (439)\ttotal: 35.4s\tremaining: 45s\n440:\tlearn: 0.6539453\ttest: 0.6650714\tbest: 0.6650714 (440)\ttotal: 35.5s\tremaining: 45s\n441:\tlearn: 0.6539099\ttest: 0.6650622\tbest: 0.6650622 (441)\ttotal: 35.6s\tremaining: 44.9s\n442:\tlearn: 0.6538928\ttest: 0.6650580\tbest: 0.6650580 (442)\ttotal: 35.6s\tremaining: 44.8s\n443:\tlearn: 0.6538649\ttest: 0.6650517\tbest: 0.6650517 (443)\ttotal: 35.7s\tremaining: 44.7s\n444:\tlearn: 0.6538358\ttest: 0.6650484\tbest: 0.6650484 (444)\ttotal: 35.8s\tremaining: 44.6s\n445:\tlearn: 0.6538036\ttest: 0.6650424\tbest: 0.6650424 (445)\ttotal: 35.9s\tremaining: 44.5s\n446:\tlearn: 0.6537726\ttest: 0.6650366\tbest: 0.6650366 (446)\ttotal: 35.9s\tremaining: 44.5s\n447:\tlearn: 0.6537466\ttest: 0.6650464\tbest: 0.6650366 (446)\ttotal: 36s\tremaining: 44.4s\n448:\tlearn: 0.6537213\ttest: 0.6650360\tbest: 0.6650360 (448)\ttotal: 36.1s\tremaining: 44.3s\n449:\tlearn: 0.6536968\ttest: 0.6650137\tbest: 0.6650137 (449)\ttotal: 36.2s\tremaining: 44.2s\n450:\tlearn: 0.6536625\ttest: 0.6650050\tbest: 0.6650050 (450)\ttotal: 36.2s\tremaining: 44.1s\n451:\tlearn: 0.6536281\ttest: 0.6649955\tbest: 0.6649955 (451)\ttotal: 36.3s\tremaining: 44s\n452:\tlearn: 0.6535988\ttest: 0.6649892\tbest: 0.6649892 (452)\ttotal: 36.4s\tremaining: 44s\n453:\tlearn: 0.6535715\ttest: 0.6649884\tbest: 0.6649884 (453)\ttotal: 36.5s\tremaining: 43.9s\n454:\tlearn: 0.6535517\ttest: 0.6649922\tbest: 0.6649884 (453)\ttotal: 36.6s\tremaining: 43.8s\n455:\tlearn: 0.6535261\ttest: 0.6650016\tbest: 0.6649884 (453)\ttotal: 36.6s\tremaining: 43.7s\n456:\tlearn: 0.6534994\ttest: 0.6649937\tbest: 0.6649884 (453)\ttotal: 36.7s\tremaining: 43.6s\n457:\tlearn: 0.6534662\ttest: 0.6649861\tbest: 0.6649861 (457)\ttotal: 36.8s\tremaining: 43.5s\n458:\tlearn: 0.6534494\ttest: 0.6649777\tbest: 0.6649777 (458)\ttotal: 36.9s\tremaining: 43.5s\n459:\tlearn: 0.6534217\ttest: 0.6649935\tbest: 0.6649777 (458)\ttotal: 37s\tremaining: 43.4s\n460:\tlearn: 0.6533935\ttest: 0.6649874\tbest: 0.6649777 (458)\ttotal: 37s\tremaining: 43.3s\n461:\tlearn: 0.6533696\ttest: 0.6649838\tbest: 0.6649777 (458)\ttotal: 37.1s\tremaining: 43.2s\n462:\tlearn: 0.6533447\ttest: 0.6649760\tbest: 0.6649760 (462)\ttotal: 37.2s\tremaining: 43.2s\n463:\tlearn: 0.6533121\ttest: 0.6649634\tbest: 0.6649634 (463)\ttotal: 37.3s\tremaining: 43.1s\n464:\tlearn: 0.6532900\ttest: 0.6649695\tbest: 0.6649634 (463)\ttotal: 37.4s\tremaining: 43s\n465:\tlearn: 0.6532641\ttest: 0.6649840\tbest: 0.6649634 (463)\ttotal: 37.5s\tremaining: 42.9s\n466:\tlearn: 0.6532283\ttest: 0.6649693\tbest: 0.6649634 (463)\ttotal: 37.5s\tremaining: 42.8s\n467:\tlearn: 0.6531978\ttest: 0.6649667\tbest: 0.6649634 (463)\ttotal: 37.6s\tremaining: 42.8s\n468:\tlearn: 0.6531599\ttest: 0.6649692\tbest: 0.6649634 (463)\ttotal: 37.7s\tremaining: 42.7s\n469:\tlearn: 0.6531326\ttest: 0.6649631\tbest: 0.6649631 (469)\ttotal: 37.8s\tremaining: 42.6s\n470:\tlearn: 0.6531081\ttest: 0.6649604\tbest: 0.6649604 (470)\ttotal: 37.8s\tremaining: 42.5s\n471:\tlearn: 0.6530834\ttest: 0.6649638\tbest: 0.6649604 (470)\ttotal: 37.9s\tremaining: 42.4s\n472:\tlearn: 0.6530594\ttest: 0.6649627\tbest: 0.6649604 (470)\ttotal: 38s\tremaining: 42.3s\n473:\tlearn: 0.6530369\ttest: 0.6649762\tbest: 0.6649604 (470)\ttotal: 38.1s\tremaining: 42.2s\n474:\tlearn: 0.6530090\ttest: 0.6649659\tbest: 0.6649604 (470)\ttotal: 38.2s\tremaining: 42.2s\n475:\tlearn: 0.6529749\ttest: 0.6649454\tbest: 0.6649454 (475)\ttotal: 38.2s\tremaining: 42.1s\n476:\tlearn: 0.6529473\ttest: 0.6649500\tbest: 0.6649454 (475)\ttotal: 38.3s\tremaining: 42s\n477:\tlearn: 0.6529156\ttest: 0.6649498\tbest: 0.6649454 (475)\ttotal: 38.4s\tremaining: 41.9s\n478:\tlearn: 0.6528975\ttest: 0.6649436\tbest: 0.6649436 (478)\ttotal: 38.5s\tremaining: 41.8s\n479:\tlearn: 0.6528596\ttest: 0.6649506\tbest: 0.6649436 (478)\ttotal: 38.6s\tremaining: 41.8s\n480:\tlearn: 0.6528345\ttest: 0.6649623\tbest: 0.6649436 (478)\ttotal: 38.7s\tremaining: 41.7s\n481:\tlearn: 0.6528101\ttest: 0.6649612\tbest: 0.6649436 (478)\ttotal: 38.8s\tremaining: 41.7s\n482:\tlearn: 0.6527775\ttest: 0.6649574\tbest: 0.6649436 (478)\ttotal: 38.8s\tremaining: 41.6s\n483:\tlearn: 0.6527643\ttest: 0.6649515\tbest: 0.6649436 (478)\ttotal: 38.9s\tremaining: 41.5s\n484:\tlearn: 0.6527324\ttest: 0.6649525\tbest: 0.6649436 (478)\ttotal: 39s\tremaining: 41.4s\n485:\tlearn: 0.6527073\ttest: 0.6649510\tbest: 0.6649436 (478)\ttotal: 39.1s\tremaining: 41.3s\n486:\tlearn: 0.6526816\ttest: 0.6649421\tbest: 0.6649421 (486)\ttotal: 39.1s\tremaining: 41.2s\n487:\tlearn: 0.6526623\ttest: 0.6649326\tbest: 0.6649326 (487)\ttotal: 39.3s\tremaining: 41.2s\n488:\tlearn: 0.6526297\ttest: 0.6649241\tbest: 0.6649241 (488)\ttotal: 39.3s\tremaining: 41.1s\n489:\tlearn: 0.6526022\ttest: 0.6649190\tbest: 0.6649190 (489)\ttotal: 39.4s\tremaining: 41s\n490:\tlearn: 0.6525753\ttest: 0.6649185\tbest: 0.6649185 (490)\ttotal: 39.5s\tremaining: 40.9s\n491:\tlearn: 0.6525445\ttest: 0.6649150\tbest: 0.6649150 (491)\ttotal: 39.6s\tremaining: 40.9s\n492:\tlearn: 0.6525155\ttest: 0.6649086\tbest: 0.6649086 (492)\ttotal: 39.7s\tremaining: 40.8s\n493:\tlearn: 0.6525032\ttest: 0.6649052\tbest: 0.6649052 (493)\ttotal: 39.7s\tremaining: 40.7s\n494:\tlearn: 0.6524713\ttest: 0.6649055\tbest: 0.6649052 (493)\ttotal: 39.8s\tremaining: 40.6s\n495:\tlearn: 0.6524349\ttest: 0.6649098\tbest: 0.6649052 (493)\ttotal: 39.9s\tremaining: 40.5s\n496:\tlearn: 0.6523992\ttest: 0.6649215\tbest: 0.6649052 (493)\ttotal: 40s\tremaining: 40.4s\n497:\tlearn: 0.6523670\ttest: 0.6649180\tbest: 0.6649052 (493)\ttotal: 40s\tremaining: 40.4s\n498:\tlearn: 0.6523250\ttest: 0.6649172\tbest: 0.6649052 (493)\ttotal: 40.1s\tremaining: 40.3s\n499:\tlearn: 0.6523000\ttest: 0.6649160\tbest: 0.6649052 (493)\ttotal: 40.2s\tremaining: 40.2s\n500:\tlearn: 0.6522857\ttest: 0.6649190\tbest: 0.6649052 (493)\ttotal: 40.3s\tremaining: 40.1s\n501:\tlearn: 0.6522670\ttest: 0.6649186\tbest: 0.6649052 (493)\ttotal: 40.4s\tremaining: 40s\n502:\tlearn: 0.6522424\ttest: 0.6649171\tbest: 0.6649052 (493)\ttotal: 40.4s\tremaining: 40s\n503:\tlearn: 0.6522119\ttest: 0.6648999\tbest: 0.6648999 (503)\ttotal: 40.5s\tremaining: 39.9s\n504:\tlearn: 0.6521918\ttest: 0.6649025\tbest: 0.6648999 (503)\ttotal: 40.6s\tremaining: 39.8s\n505:\tlearn: 0.6521683\ttest: 0.6648978\tbest: 0.6648978 (505)\ttotal: 40.7s\tremaining: 39.7s\n506:\tlearn: 0.6521449\ttest: 0.6648937\tbest: 0.6648937 (506)\ttotal: 40.7s\tremaining: 39.6s\n507:\tlearn: 0.6521177\ttest: 0.6648912\tbest: 0.6648912 (507)\ttotal: 40.8s\tremaining: 39.5s\n508:\tlearn: 0.6520951\ttest: 0.6648913\tbest: 0.6648912 (507)\ttotal: 40.9s\tremaining: 39.5s\n509:\tlearn: 0.6520748\ttest: 0.6648934\tbest: 0.6648912 (507)\ttotal: 41s\tremaining: 39.4s\n510:\tlearn: 0.6520529\ttest: 0.6648838\tbest: 0.6648838 (510)\ttotal: 41.1s\tremaining: 39.3s\n511:\tlearn: 0.6520273\ttest: 0.6648801\tbest: 0.6648801 (511)\ttotal: 41.1s\tremaining: 39.2s\n512:\tlearn: 0.6520082\ttest: 0.6648776\tbest: 0.6648776 (512)\ttotal: 41.2s\tremaining: 39.1s\n513:\tlearn: 0.6519888\ttest: 0.6648749\tbest: 0.6648749 (513)\ttotal: 41.3s\tremaining: 39s\n514:\tlearn: 0.6519422\ttest: 0.6648482\tbest: 0.6648482 (514)\ttotal: 41.4s\tremaining: 39s\n515:\tlearn: 0.6519124\ttest: 0.6648449\tbest: 0.6648449 (515)\ttotal: 41.4s\tremaining: 38.9s\n516:\tlearn: 0.6518727\ttest: 0.6648227\tbest: 0.6648227 (516)\ttotal: 41.5s\tremaining: 38.8s\n517:\tlearn: 0.6518469\ttest: 0.6648171\tbest: 0.6648171 (517)\ttotal: 41.6s\tremaining: 38.7s\n518:\tlearn: 0.6518178\ttest: 0.6648100\tbest: 0.6648100 (518)\ttotal: 41.7s\tremaining: 38.6s\n519:\tlearn: 0.6517974\ttest: 0.6648104\tbest: 0.6648100 (518)\ttotal: 41.8s\tremaining: 38.5s\n520:\tlearn: 0.6517772\ttest: 0.6648158\tbest: 0.6648100 (518)\ttotal: 41.8s\tremaining: 38.5s\n521:\tlearn: 0.6517453\ttest: 0.6648170\tbest: 0.6648100 (518)\ttotal: 41.9s\tremaining: 38.4s\n522:\tlearn: 0.6517181\ttest: 0.6648138\tbest: 0.6648100 (518)\ttotal: 42s\tremaining: 38.3s\n523:\tlearn: 0.6516852\ttest: 0.6648048\tbest: 0.6648048 (523)\ttotal: 42.1s\tremaining: 38.2s\n524:\tlearn: 0.6516556\ttest: 0.6648117\tbest: 0.6648048 (523)\ttotal: 42.2s\tremaining: 38.1s\n525:\tlearn: 0.6516260\ttest: 0.6648056\tbest: 0.6648048 (523)\ttotal: 42.2s\tremaining: 38.1s\n526:\tlearn: 0.6516031\ttest: 0.6648004\tbest: 0.6648004 (526)\ttotal: 42.3s\tremaining: 38s\n527:\tlearn: 0.6515794\ttest: 0.6647919\tbest: 0.6647919 (527)\ttotal: 42.4s\tremaining: 37.9s\n528:\tlearn: 0.6515556\ttest: 0.6647899\tbest: 0.6647899 (528)\ttotal: 42.5s\tremaining: 37.8s\n529:\tlearn: 0.6515314\ttest: 0.6647869\tbest: 0.6647869 (529)\ttotal: 42.6s\tremaining: 37.7s\n530:\tlearn: 0.6515064\ttest: 0.6647791\tbest: 0.6647791 (530)\ttotal: 42.6s\tremaining: 37.7s\n531:\tlearn: 0.6514726\ttest: 0.6647714\tbest: 0.6647714 (531)\ttotal: 42.7s\tremaining: 37.6s\n532:\tlearn: 0.6514403\ttest: 0.6647587\tbest: 0.6647587 (532)\ttotal: 42.8s\tremaining: 37.5s\n533:\tlearn: 0.6514048\ttest: 0.6647666\tbest: 0.6647587 (532)\ttotal: 42.9s\tremaining: 37.4s\n534:\tlearn: 0.6513842\ttest: 0.6647594\tbest: 0.6647587 (532)\ttotal: 42.9s\tremaining: 37.3s\n535:\tlearn: 0.6513588\ttest: 0.6647536\tbest: 0.6647536 (535)\ttotal: 43s\tremaining: 37.2s\n536:\tlearn: 0.6513247\ttest: 0.6647403\tbest: 0.6647403 (536)\ttotal: 43.1s\tremaining: 37.2s\n537:\tlearn: 0.6512994\ttest: 0.6647415\tbest: 0.6647403 (536)\ttotal: 43.2s\tremaining: 37.1s\n538:\tlearn: 0.6512668\ttest: 0.6647344\tbest: 0.6647344 (538)\ttotal: 43.3s\tremaining: 37s\n539:\tlearn: 0.6512373\ttest: 0.6647269\tbest: 0.6647269 (539)\ttotal: 43.4s\tremaining: 36.9s\n540:\tlearn: 0.6512003\ttest: 0.6647382\tbest: 0.6647269 (539)\ttotal: 43.4s\tremaining: 36.9s\n541:\tlearn: 0.6511721\ttest: 0.6647390\tbest: 0.6647269 (539)\ttotal: 43.5s\tremaining: 36.8s\n542:\tlearn: 0.6511432\ttest: 0.6647236\tbest: 0.6647236 (542)\ttotal: 43.6s\tremaining: 36.7s\n543:\tlearn: 0.6511044\ttest: 0.6647104\tbest: 0.6647104 (543)\ttotal: 43.7s\tremaining: 36.6s\n544:\tlearn: 0.6510747\ttest: 0.6646947\tbest: 0.6646947 (544)\ttotal: 43.7s\tremaining: 36.5s\n545:\tlearn: 0.6510300\ttest: 0.6646885\tbest: 0.6646885 (545)\ttotal: 43.8s\tremaining: 36.4s\n546:\tlearn: 0.6510106\ttest: 0.6646958\tbest: 0.6646885 (545)\ttotal: 43.9s\tremaining: 36.4s\n547:\tlearn: 0.6509831\ttest: 0.6646974\tbest: 0.6646885 (545)\ttotal: 44s\tremaining: 36.3s\n548:\tlearn: 0.6509508\ttest: 0.6647000\tbest: 0.6646885 (545)\ttotal: 44.1s\tremaining: 36.2s\n549:\tlearn: 0.6509214\ttest: 0.6647004\tbest: 0.6646885 (545)\ttotal: 44.1s\tremaining: 36.1s\n550:\tlearn: 0.6508850\ttest: 0.6646741\tbest: 0.6646741 (550)\ttotal: 44.2s\tremaining: 36s\n551:\tlearn: 0.6508524\ttest: 0.6646632\tbest: 0.6646632 (551)\ttotal: 44.3s\tremaining: 35.9s\n552:\tlearn: 0.6508246\ttest: 0.6646480\tbest: 0.6646480 (552)\ttotal: 44.4s\tremaining: 35.9s\n553:\tlearn: 0.6507950\ttest: 0.6646475\tbest: 0.6646475 (553)\ttotal: 44.4s\tremaining: 35.8s\n554:\tlearn: 0.6507602\ttest: 0.6646297\tbest: 0.6646297 (554)\ttotal: 44.5s\tremaining: 35.7s\n555:\tlearn: 0.6507390\ttest: 0.6646272\tbest: 0.6646272 (555)\ttotal: 44.6s\tremaining: 35.6s\n556:\tlearn: 0.6507133\ttest: 0.6646263\tbest: 0.6646263 (556)\ttotal: 44.6s\tremaining: 35.5s\n557:\tlearn: 0.6506825\ttest: 0.6646029\tbest: 0.6646029 (557)\ttotal: 44.7s\tremaining: 35.4s\n558:\tlearn: 0.6506584\ttest: 0.6645994\tbest: 0.6645994 (558)\ttotal: 44.8s\tremaining: 35.4s\n559:\tlearn: 0.6506343\ttest: 0.6645944\tbest: 0.6645944 (559)\ttotal: 44.9s\tremaining: 35.3s\n560:\tlearn: 0.6506078\ttest: 0.6645897\tbest: 0.6645897 (560)\ttotal: 45s\tremaining: 35.2s\n561:\tlearn: 0.6505814\ttest: 0.6645837\tbest: 0.6645837 (561)\ttotal: 45s\tremaining: 35.1s\n562:\tlearn: 0.6505540\ttest: 0.6645918\tbest: 0.6645837 (561)\ttotal: 45.1s\tremaining: 35s\n563:\tlearn: 0.6505237\ttest: 0.6645825\tbest: 0.6645825 (563)\ttotal: 45.2s\tremaining: 34.9s\n564:\tlearn: 0.6505006\ttest: 0.6645842\tbest: 0.6645825 (563)\ttotal: 45.3s\tremaining: 34.9s\n565:\tlearn: 0.6504736\ttest: 0.6645817\tbest: 0.6645817 (565)\ttotal: 45.4s\tremaining: 34.8s\n566:\tlearn: 0.6504291\ttest: 0.6645611\tbest: 0.6645611 (566)\ttotal: 45.5s\tremaining: 34.7s\n567:\tlearn: 0.6504102\ttest: 0.6645654\tbest: 0.6645611 (566)\ttotal: 45.5s\tremaining: 34.6s\n568:\tlearn: 0.6503788\ttest: 0.6645677\tbest: 0.6645611 (566)\ttotal: 45.6s\tremaining: 34.6s\n569:\tlearn: 0.6503520\ttest: 0.6645719\tbest: 0.6645611 (566)\ttotal: 45.7s\tremaining: 34.5s\n570:\tlearn: 0.6503266\ttest: 0.6645654\tbest: 0.6645611 (566)\ttotal: 45.8s\tremaining: 34.4s\n571:\tlearn: 0.6502982\ttest: 0.6645591\tbest: 0.6645591 (571)\ttotal: 45.8s\tremaining: 34.3s\n572:\tlearn: 0.6502545\ttest: 0.6645526\tbest: 0.6645526 (572)\ttotal: 45.9s\tremaining: 34.2s\n573:\tlearn: 0.6502185\ttest: 0.6645531\tbest: 0.6645526 (572)\ttotal: 46s\tremaining: 34.1s\n574:\tlearn: 0.6501980\ttest: 0.6645494\tbest: 0.6645494 (574)\ttotal: 46.1s\tremaining: 34.1s\n575:\tlearn: 0.6501755\ttest: 0.6645446\tbest: 0.6645446 (575)\ttotal: 46.2s\tremaining: 34s\n576:\tlearn: 0.6501448\ttest: 0.6645546\tbest: 0.6645446 (575)\ttotal: 46.3s\tremaining: 33.9s\n577:\tlearn: 0.6501081\ttest: 0.6645596\tbest: 0.6645446 (575)\ttotal: 46.4s\tremaining: 33.9s\n578:\tlearn: 0.6500737\ttest: 0.6645547\tbest: 0.6645446 (575)\ttotal: 46.5s\tremaining: 33.8s\n579:\tlearn: 0.6500299\ttest: 0.6645379\tbest: 0.6645379 (579)\ttotal: 46.5s\tremaining: 33.7s\n580:\tlearn: 0.6500083\ttest: 0.6645366\tbest: 0.6645366 (580)\ttotal: 46.6s\tremaining: 33.6s\n581:\tlearn: 0.6499683\ttest: 0.6645364\tbest: 0.6645364 (581)\ttotal: 46.7s\tremaining: 33.5s\n582:\tlearn: 0.6499430\ttest: 0.6645282\tbest: 0.6645282 (582)\ttotal: 46.8s\tremaining: 33.4s\n583:\tlearn: 0.6499120\ttest: 0.6645247\tbest: 0.6645247 (583)\ttotal: 46.8s\tremaining: 33.4s\n584:\tlearn: 0.6498788\ttest: 0.6645190\tbest: 0.6645190 (584)\ttotal: 46.9s\tremaining: 33.3s\n585:\tlearn: 0.6498640\ttest: 0.6645220\tbest: 0.6645190 (584)\ttotal: 47s\tremaining: 33.2s\n586:\tlearn: 0.6498361\ttest: 0.6645201\tbest: 0.6645190 (584)\ttotal: 47.1s\tremaining: 33.1s\n587:\tlearn: 0.6498170\ttest: 0.6645112\tbest: 0.6645112 (587)\ttotal: 47.2s\tremaining: 33.1s\n588:\tlearn: 0.6497957\ttest: 0.6645035\tbest: 0.6645035 (588)\ttotal: 47.2s\tremaining: 33s\n589:\tlearn: 0.6497691\ttest: 0.6645038\tbest: 0.6645035 (588)\ttotal: 47.3s\tremaining: 32.9s\n590:\tlearn: 0.6497432\ttest: 0.6645046\tbest: 0.6645035 (588)\ttotal: 47.4s\tremaining: 32.8s\n591:\tlearn: 0.6497035\ttest: 0.6644900\tbest: 0.6644900 (591)\ttotal: 47.5s\tremaining: 32.7s\n592:\tlearn: 0.6496675\ttest: 0.6644690\tbest: 0.6644690 (592)\ttotal: 47.6s\tremaining: 32.6s\n593:\tlearn: 0.6496374\ttest: 0.6644521\tbest: 0.6644521 (593)\ttotal: 47.7s\tremaining: 32.6s\n594:\tlearn: 0.6496150\ttest: 0.6644491\tbest: 0.6644491 (594)\ttotal: 47.8s\tremaining: 32.5s\n595:\tlearn: 0.6495895\ttest: 0.6644301\tbest: 0.6644301 (595)\ttotal: 47.9s\tremaining: 32.4s\n596:\tlearn: 0.6495572\ttest: 0.6644345\tbest: 0.6644301 (595)\ttotal: 47.9s\tremaining: 32.4s\n597:\tlearn: 0.6495315\ttest: 0.6644284\tbest: 0.6644284 (597)\ttotal: 48s\tremaining: 32.3s\n598:\tlearn: 0.6495068\ttest: 0.6644322\tbest: 0.6644284 (597)\ttotal: 48.1s\tremaining: 32.2s\n599:\tlearn: 0.6494678\ttest: 0.6644287\tbest: 0.6644284 (597)\ttotal: 48.2s\tremaining: 32.1s\n600:\tlearn: 0.6494383\ttest: 0.6644286\tbest: 0.6644284 (597)\ttotal: 48.3s\tremaining: 32s\n601:\tlearn: 0.6494117\ttest: 0.6644203\tbest: 0.6644203 (601)\ttotal: 48.4s\tremaining: 32s\n602:\tlearn: 0.6493768\ttest: 0.6644184\tbest: 0.6644184 (602)\ttotal: 48.4s\tremaining: 31.9s\n603:\tlearn: 0.6493447\ttest: 0.6644196\tbest: 0.6644184 (602)\ttotal: 48.5s\tremaining: 31.8s\n604:\tlearn: 0.6493153\ttest: 0.6644162\tbest: 0.6644162 (604)\ttotal: 48.6s\tremaining: 31.7s\n605:\tlearn: 0.6492882\ttest: 0.6644116\tbest: 0.6644116 (605)\ttotal: 48.7s\tremaining: 31.6s\n606:\tlearn: 0.6492605\ttest: 0.6644121\tbest: 0.6644116 (605)\ttotal: 48.7s\tremaining: 31.6s\n607:\tlearn: 0.6492270\ttest: 0.6644194\tbest: 0.6644116 (605)\ttotal: 48.8s\tremaining: 31.5s\n608:\tlearn: 0.6491887\ttest: 0.6644221\tbest: 0.6644116 (605)\ttotal: 48.9s\tremaining: 31.4s\n609:\tlearn: 0.6491565\ttest: 0.6644198\tbest: 0.6644116 (605)\ttotal: 49s\tremaining: 31.3s\n610:\tlearn: 0.6491299\ttest: 0.6644189\tbest: 0.6644116 (605)\ttotal: 49.1s\tremaining: 31.2s\n611:\tlearn: 0.6490930\ttest: 0.6644141\tbest: 0.6644116 (605)\ttotal: 49.1s\tremaining: 31.2s\n612:\tlearn: 0.6490606\ttest: 0.6644177\tbest: 0.6644116 (605)\ttotal: 49.2s\tremaining: 31.1s\n613:\tlearn: 0.6490381\ttest: 0.6644240\tbest: 0.6644116 (605)\ttotal: 49.3s\tremaining: 31s\n614:\tlearn: 0.6490092\ttest: 0.6644168\tbest: 0.6644116 (605)\ttotal: 49.4s\tremaining: 30.9s\n615:\tlearn: 0.6489804\ttest: 0.6644158\tbest: 0.6644116 (605)\ttotal: 49.5s\tremaining: 30.8s\n616:\tlearn: 0.6489567\ttest: 0.6644097\tbest: 0.6644097 (616)\ttotal: 49.5s\tremaining: 30.8s\n617:\tlearn: 0.6489283\ttest: 0.6644025\tbest: 0.6644025 (617)\ttotal: 49.6s\tremaining: 30.7s\n618:\tlearn: 0.6488896\ttest: 0.6644036\tbest: 0.6644025 (617)\ttotal: 49.7s\tremaining: 30.6s\n619:\tlearn: 0.6488470\ttest: 0.6643935\tbest: 0.6643935 (619)\ttotal: 49.8s\tremaining: 30.5s\n620:\tlearn: 0.6488145\ttest: 0.6643860\tbest: 0.6643860 (620)\ttotal: 49.9s\tremaining: 30.4s\n621:\tlearn: 0.6487787\ttest: 0.6643853\tbest: 0.6643853 (621)\ttotal: 49.9s\tremaining: 30.3s\n622:\tlearn: 0.6487459\ttest: 0.6643844\tbest: 0.6643844 (622)\ttotal: 50s\tremaining: 30.3s\n623:\tlearn: 0.6487159\ttest: 0.6643741\tbest: 0.6643741 (623)\ttotal: 50.1s\tremaining: 30.2s\n624:\tlearn: 0.6486811\ttest: 0.6643394\tbest: 0.6643394 (624)\ttotal: 50.2s\tremaining: 30.1s\n625:\tlearn: 0.6486368\ttest: 0.6643399\tbest: 0.6643394 (624)\ttotal: 50.3s\tremaining: 30s\n626:\tlearn: 0.6485976\ttest: 0.6643446\tbest: 0.6643394 (624)\ttotal: 50.3s\tremaining: 30s\n627:\tlearn: 0.6485584\ttest: 0.6643256\tbest: 0.6643256 (627)\ttotal: 50.4s\tremaining: 29.9s\n628:\tlearn: 0.6485133\ttest: 0.6643442\tbest: 0.6643256 (627)\ttotal: 50.5s\tremaining: 29.8s\n629:\tlearn: 0.6484832\ttest: 0.6643373\tbest: 0.6643256 (627)\ttotal: 50.6s\tremaining: 29.7s\n630:\tlearn: 0.6484667\ttest: 0.6643349\tbest: 0.6643256 (627)\ttotal: 50.7s\tremaining: 29.6s\n631:\tlearn: 0.6484375\ttest: 0.6643381\tbest: 0.6643256 (627)\ttotal: 50.7s\tremaining: 29.5s\n632:\tlearn: 0.6483989\ttest: 0.6643411\tbest: 0.6643256 (627)\ttotal: 50.8s\tremaining: 29.5s\n633:\tlearn: 0.6483730\ttest: 0.6643311\tbest: 0.6643256 (627)\ttotal: 50.9s\tremaining: 29.4s\n634:\tlearn: 0.6483529\ttest: 0.6643301\tbest: 0.6643256 (627)\ttotal: 51s\tremaining: 29.3s\n635:\tlearn: 0.6483190\ttest: 0.6643353\tbest: 0.6643256 (627)\ttotal: 51s\tremaining: 29.2s\n636:\tlearn: 0.6482784\ttest: 0.6643200\tbest: 0.6643200 (636)\ttotal: 51.1s\tremaining: 29.1s\n637:\tlearn: 0.6482476\ttest: 0.6643320\tbest: 0.6643200 (636)\ttotal: 51.2s\tremaining: 29s\n638:\tlearn: 0.6482146\ttest: 0.6643272\tbest: 0.6643200 (636)\ttotal: 51.3s\tremaining: 29s\n639:\tlearn: 0.6481798\ttest: 0.6643278\tbest: 0.6643200 (636)\ttotal: 51.4s\tremaining: 28.9s\n640:\tlearn: 0.6481336\ttest: 0.6643334\tbest: 0.6643200 (636)\ttotal: 51.4s\tremaining: 28.8s\n641:\tlearn: 0.6481192\ttest: 0.6643322\tbest: 0.6643200 (636)\ttotal: 51.5s\tremaining: 28.7s\n642:\tlearn: 0.6480951\ttest: 0.6643263\tbest: 0.6643200 (636)\ttotal: 51.6s\tremaining: 28.6s\n643:\tlearn: 0.6480629\ttest: 0.6643264\tbest: 0.6643200 (636)\ttotal: 51.7s\tremaining: 28.6s\n644:\tlearn: 0.6480349\ttest: 0.6643316\tbest: 0.6643200 (636)\ttotal: 51.7s\tremaining: 28.5s\n645:\tlearn: 0.6480091\ttest: 0.6643284\tbest: 0.6643200 (636)\ttotal: 51.8s\tremaining: 28.4s\n646:\tlearn: 0.6479756\ttest: 0.6643256\tbest: 0.6643200 (636)\ttotal: 51.9s\tremaining: 28.3s\n647:\tlearn: 0.6479340\ttest: 0.6643312\tbest: 0.6643200 (636)\ttotal: 52s\tremaining: 28.3s\n648:\tlearn: 0.6479024\ttest: 0.6643268\tbest: 0.6643200 (636)\ttotal: 52.1s\tremaining: 28.2s\n649:\tlearn: 0.6478704\ttest: 0.6643341\tbest: 0.6643200 (636)\ttotal: 52.2s\tremaining: 28.1s\n650:\tlearn: 0.6478473\ttest: 0.6643312\tbest: 0.6643200 (636)\ttotal: 52.3s\tremaining: 28s\n651:\tlearn: 0.6478256\ttest: 0.6643212\tbest: 0.6643200 (636)\ttotal: 52.4s\tremaining: 27.9s\n652:\tlearn: 0.6478038\ttest: 0.6643334\tbest: 0.6643200 (636)\ttotal: 52.4s\tremaining: 27.9s\n653:\tlearn: 0.6477772\ttest: 0.6643336\tbest: 0.6643200 (636)\ttotal: 52.5s\tremaining: 27.8s\n654:\tlearn: 0.6477356\ttest: 0.6643250\tbest: 0.6643200 (636)\ttotal: 52.6s\tremaining: 27.7s\n655:\tlearn: 0.6477139\ttest: 0.6643283\tbest: 0.6643200 (636)\ttotal: 52.7s\tremaining: 27.6s\n656:\tlearn: 0.6476887\ttest: 0.6643170\tbest: 0.6643170 (656)\ttotal: 52.7s\tremaining: 27.5s\n657:\tlearn: 0.6476596\ttest: 0.6643183\tbest: 0.6643170 (656)\ttotal: 52.8s\tremaining: 27.4s\n658:\tlearn: 0.6476325\ttest: 0.6643116\tbest: 0.6643116 (658)\ttotal: 52.9s\tremaining: 27.4s\n659:\tlearn: 0.6475989\ttest: 0.6643066\tbest: 0.6643066 (659)\ttotal: 53s\tremaining: 27.3s\n660:\tlearn: 0.6475650\ttest: 0.6642945\tbest: 0.6642945 (660)\ttotal: 53s\tremaining: 27.2s\n661:\tlearn: 0.6475288\ttest: 0.6642924\tbest: 0.6642924 (661)\ttotal: 53.1s\tremaining: 27.1s\n662:\tlearn: 0.6474925\ttest: 0.6642897\tbest: 0.6642897 (662)\ttotal: 53.2s\tremaining: 27.1s\n663:\tlearn: 0.6474653\ttest: 0.6642799\tbest: 0.6642799 (663)\ttotal: 53.3s\tremaining: 27s\n664:\tlearn: 0.6474375\ttest: 0.6642687\tbest: 0.6642687 (664)\ttotal: 53.4s\tremaining: 26.9s\n665:\tlearn: 0.6474036\ttest: 0.6642629\tbest: 0.6642629 (665)\ttotal: 53.4s\tremaining: 26.8s\n666:\tlearn: 0.6473744\ttest: 0.6642621\tbest: 0.6642621 (666)\ttotal: 53.5s\tremaining: 26.7s\n667:\tlearn: 0.6473349\ttest: 0.6642635\tbest: 0.6642621 (666)\ttotal: 53.6s\tremaining: 26.6s\n668:\tlearn: 0.6472956\ttest: 0.6642484\tbest: 0.6642484 (668)\ttotal: 53.7s\tremaining: 26.6s\n669:\tlearn: 0.6472579\ttest: 0.6642537\tbest: 0.6642484 (668)\ttotal: 53.8s\tremaining: 26.5s\n670:\tlearn: 0.6472302\ttest: 0.6642459\tbest: 0.6642459 (670)\ttotal: 53.8s\tremaining: 26.4s\n671:\tlearn: 0.6471932\ttest: 0.6642402\tbest: 0.6642402 (671)\ttotal: 53.9s\tremaining: 26.3s\n672:\tlearn: 0.6471561\ttest: 0.6642364\tbest: 0.6642364 (672)\ttotal: 54.1s\tremaining: 26.3s\n673:\tlearn: 0.6471242\ttest: 0.6642404\tbest: 0.6642364 (672)\ttotal: 54.1s\tremaining: 26.2s\n674:\tlearn: 0.6470924\ttest: 0.6642281\tbest: 0.6642281 (674)\ttotal: 54.2s\tremaining: 26.1s\n675:\tlearn: 0.6470570\ttest: 0.6642315\tbest: 0.6642281 (674)\ttotal: 54.3s\tremaining: 26s\n676:\tlearn: 0.6470173\ttest: 0.6642341\tbest: 0.6642281 (674)\ttotal: 54.4s\tremaining: 25.9s\n677:\tlearn: 0.6469843\ttest: 0.6642480\tbest: 0.6642281 (674)\ttotal: 54.4s\tremaining: 25.8s\n678:\tlearn: 0.6469464\ttest: 0.6642390\tbest: 0.6642281 (674)\ttotal: 54.5s\tremaining: 25.8s\n679:\tlearn: 0.6469111\ttest: 0.6642473\tbest: 0.6642281 (674)\ttotal: 54.6s\tremaining: 25.7s\n680:\tlearn: 0.6468778\ttest: 0.6642538\tbest: 0.6642281 (674)\ttotal: 54.7s\tremaining: 25.6s\n681:\tlearn: 0.6468443\ttest: 0.6642537\tbest: 0.6642281 (674)\ttotal: 54.7s\tremaining: 25.5s\n682:\tlearn: 0.6468044\ttest: 0.6642381\tbest: 0.6642281 (674)\ttotal: 54.8s\tremaining: 25.4s\n683:\tlearn: 0.6467790\ttest: 0.6642247\tbest: 0.6642247 (683)\ttotal: 54.9s\tremaining: 25.4s\n684:\tlearn: 0.6467446\ttest: 0.6642202\tbest: 0.6642202 (684)\ttotal: 55s\tremaining: 25.3s\n685:\tlearn: 0.6467132\ttest: 0.6642335\tbest: 0.6642202 (684)\ttotal: 55.1s\tremaining: 25.2s\n686:\tlearn: 0.6466828\ttest: 0.6642246\tbest: 0.6642202 (684)\ttotal: 55.1s\tremaining: 25.1s\n687:\tlearn: 0.6466363\ttest: 0.6642354\tbest: 0.6642202 (684)\ttotal: 55.2s\tremaining: 25s\n688:\tlearn: 0.6466080\ttest: 0.6642375\tbest: 0.6642202 (684)\ttotal: 55.3s\tremaining: 25s\n689:\tlearn: 0.6465836\ttest: 0.6642404\tbest: 0.6642202 (684)\ttotal: 55.4s\tremaining: 24.9s\n690:\tlearn: 0.6465439\ttest: 0.6642451\tbest: 0.6642202 (684)\ttotal: 55.4s\tremaining: 24.8s\n691:\tlearn: 0.6465117\ttest: 0.6642455\tbest: 0.6642202 (684)\ttotal: 55.5s\tremaining: 24.7s\n692:\tlearn: 0.6464665\ttest: 0.6642390\tbest: 0.6642202 (684)\ttotal: 55.6s\tremaining: 24.6s\n693:\tlearn: 0.6464166\ttest: 0.6642300\tbest: 0.6642202 (684)\ttotal: 55.7s\tremaining: 24.5s\n694:\tlearn: 0.6463759\ttest: 0.6642271\tbest: 0.6642202 (684)\ttotal: 55.8s\tremaining: 24.5s\n695:\tlearn: 0.6463369\ttest: 0.6642306\tbest: 0.6642202 (684)\ttotal: 55.8s\tremaining: 24.4s\n696:\tlearn: 0.6463034\ttest: 0.6642305\tbest: 0.6642202 (684)\ttotal: 55.9s\tremaining: 24.3s\n697:\tlearn: 0.6462763\ttest: 0.6642172\tbest: 0.6642172 (697)\ttotal: 56s\tremaining: 24.2s\n698:\tlearn: 0.6462332\ttest: 0.6642175\tbest: 0.6642172 (697)\ttotal: 56.1s\tremaining: 24.1s\n699:\tlearn: 0.6462059\ttest: 0.6642112\tbest: 0.6642112 (699)\ttotal: 56.2s\tremaining: 24.1s\n700:\tlearn: 0.6461709\ttest: 0.6642147\tbest: 0.6642112 (699)\ttotal: 56.2s\tremaining: 24s\n701:\tlearn: 0.6461474\ttest: 0.6642165\tbest: 0.6642112 (699)\ttotal: 56.3s\tremaining: 23.9s\n702:\tlearn: 0.6461071\ttest: 0.6642021\tbest: 0.6642021 (702)\ttotal: 56.4s\tremaining: 23.8s\n703:\tlearn: 0.6460697\ttest: 0.6642047\tbest: 0.6642021 (702)\ttotal: 56.5s\tremaining: 23.7s\n704:\tlearn: 0.6460199\ttest: 0.6642246\tbest: 0.6642021 (702)\ttotal: 56.5s\tremaining: 23.7s\n705:\tlearn: 0.6459843\ttest: 0.6642373\tbest: 0.6642021 (702)\ttotal: 56.6s\tremaining: 23.6s\n706:\tlearn: 0.6459365\ttest: 0.6642384\tbest: 0.6642021 (702)\ttotal: 56.7s\tremaining: 23.5s\n707:\tlearn: 0.6458948\ttest: 0.6642285\tbest: 0.6642021 (702)\ttotal: 56.8s\tremaining: 23.4s\n708:\tlearn: 0.6458525\ttest: 0.6642441\tbest: 0.6642021 (702)\ttotal: 56.9s\tremaining: 23.3s\n709:\tlearn: 0.6458072\ttest: 0.6642386\tbest: 0.6642021 (702)\ttotal: 56.9s\tremaining: 23.3s\n710:\tlearn: 0.6457788\ttest: 0.6642428\tbest: 0.6642021 (702)\ttotal: 57s\tremaining: 23.2s\n711:\tlearn: 0.6457407\ttest: 0.6642594\tbest: 0.6642021 (702)\ttotal: 57.1s\tremaining: 23.1s\n712:\tlearn: 0.6456949\ttest: 0.6642582\tbest: 0.6642021 (702)\ttotal: 57.2s\tremaining: 23s\n713:\tlearn: 0.6456607\ttest: 0.6642651\tbest: 0.6642021 (702)\ttotal: 57.3s\tremaining: 22.9s\n714:\tlearn: 0.6456163\ttest: 0.6642751\tbest: 0.6642021 (702)\ttotal: 57.3s\tremaining: 22.8s\n715:\tlearn: 0.6455872\ttest: 0.6642796\tbest: 0.6642021 (702)\ttotal: 57.4s\tremaining: 22.8s\n716:\tlearn: 0.6455545\ttest: 0.6642856\tbest: 0.6642021 (702)\ttotal: 57.5s\tremaining: 22.7s\n717:\tlearn: 0.6455222\ttest: 0.6642865\tbest: 0.6642021 (702)\ttotal: 57.6s\tremaining: 22.6s\n718:\tlearn: 0.6454826\ttest: 0.6642956\tbest: 0.6642021 (702)\ttotal: 57.6s\tremaining: 22.5s\n719:\tlearn: 0.6454609\ttest: 0.6642976\tbest: 0.6642021 (702)\ttotal: 57.7s\tremaining: 22.4s\n720:\tlearn: 0.6454257\ttest: 0.6642852\tbest: 0.6642021 (702)\ttotal: 57.8s\tremaining: 22.4s\n721:\tlearn: 0.6453895\ttest: 0.6642793\tbest: 0.6642021 (702)\ttotal: 57.9s\tremaining: 22.3s\n722:\tlearn: 0.6453391\ttest: 0.6642699\tbest: 0.6642021 (702)\ttotal: 57.9s\tremaining: 22.2s\n723:\tlearn: 0.6453087\ttest: 0.6642877\tbest: 0.6642021 (702)\ttotal: 58s\tremaining: 22.1s\n724:\tlearn: 0.6452625\ttest: 0.6642852\tbest: 0.6642021 (702)\ttotal: 58.1s\tremaining: 22s\n725:\tlearn: 0.6452198\ttest: 0.6642730\tbest: 0.6642021 (702)\ttotal: 58.2s\tremaining: 22s\n726:\tlearn: 0.6451780\ttest: 0.6642755\tbest: 0.6642021 (702)\ttotal: 58.3s\tremaining: 21.9s\n727:\tlearn: 0.6451418\ttest: 0.6642908\tbest: 0.6642021 (702)\ttotal: 58.3s\tremaining: 21.8s\n728:\tlearn: 0.6451071\ttest: 0.6642926\tbest: 0.6642021 (702)\ttotal: 58.4s\tremaining: 21.7s\n729:\tlearn: 0.6450691\ttest: 0.6642857\tbest: 0.6642021 (702)\ttotal: 58.5s\tremaining: 21.6s\n730:\tlearn: 0.6450312\ttest: 0.6642874\tbest: 0.6642021 (702)\ttotal: 58.6s\tremaining: 21.6s\n731:\tlearn: 0.6449881\ttest: 0.6642811\tbest: 0.6642021 (702)\ttotal: 58.6s\tremaining: 21.5s\n732:\tlearn: 0.6449492\ttest: 0.6642955\tbest: 0.6642021 (702)\ttotal: 58.7s\tremaining: 21.4s\n733:\tlearn: 0.6449088\ttest: 0.6642885\tbest: 0.6642021 (702)\ttotal: 58.8s\tremaining: 21.3s\n734:\tlearn: 0.6448684\ttest: 0.6643081\tbest: 0.6642021 (702)\ttotal: 58.9s\tremaining: 21.2s\n735:\tlearn: 0.6448346\ttest: 0.6643081\tbest: 0.6642021 (702)\ttotal: 59s\tremaining: 21.2s\n736:\tlearn: 0.6447970\ttest: 0.6643054\tbest: 0.6642021 (702)\ttotal: 59.1s\tremaining: 21.1s\n737:\tlearn: 0.6447458\ttest: 0.6643192\tbest: 0.6642021 (702)\ttotal: 59.2s\tremaining: 21s\n738:\tlearn: 0.6447055\ttest: 0.6643090\tbest: 0.6642021 (702)\ttotal: 59.2s\tremaining: 20.9s\n739:\tlearn: 0.6446777\ttest: 0.6643196\tbest: 0.6642021 (702)\ttotal: 59.3s\tremaining: 20.8s\n740:\tlearn: 0.6446365\ttest: 0.6643275\tbest: 0.6642021 (702)\ttotal: 59.4s\tremaining: 20.8s\n741:\tlearn: 0.6445961\ttest: 0.6643201\tbest: 0.6642021 (702)\ttotal: 59.5s\tremaining: 20.7s\n742:\tlearn: 0.6445579\ttest: 0.6643222\tbest: 0.6642021 (702)\ttotal: 59.6s\tremaining: 20.6s\n743:\tlearn: 0.6445186\ttest: 0.6643316\tbest: 0.6642021 (702)\ttotal: 59.6s\tremaining: 20.5s\n744:\tlearn: 0.6444876\ttest: 0.6643300\tbest: 0.6642021 (702)\ttotal: 59.7s\tremaining: 20.4s\n745:\tlearn: 0.6444460\ttest: 0.6643297\tbest: 0.6642021 (702)\ttotal: 59.8s\tremaining: 20.4s\n746:\tlearn: 0.6443995\ttest: 0.6643336\tbest: 0.6642021 (702)\ttotal: 59.9s\tremaining: 20.3s\n747:\tlearn: 0.6443686\ttest: 0.6643363\tbest: 0.6642021 (702)\ttotal: 60s\tremaining: 20.2s\n748:\tlearn: 0.6443352\ttest: 0.6643525\tbest: 0.6642021 (702)\ttotal: 1m\tremaining: 20.1s\n749:\tlearn: 0.6442981\ttest: 0.6643387\tbest: 0.6642021 (702)\ttotal: 1m\tremaining: 20s\n750:\tlearn: 0.6442602\ttest: 0.6643418\tbest: 0.6642021 (702)\ttotal: 1m\tremaining: 20s\n751:\tlearn: 0.6442164\ttest: 0.6643182\tbest: 0.6642021 (702)\ttotal: 1m\tremaining: 19.9s\n752:\tlearn: 0.6441748\ttest: 0.6643328\tbest: 0.6642021 (702)\ttotal: 1m\tremaining: 19.8s\n753:\tlearn: 0.6441382\ttest: 0.6643276\tbest: 0.6642021 (702)\ttotal: 1m\tremaining: 19.7s\n754:\tlearn: 0.6440909\ttest: 0.6643275\tbest: 0.6642021 (702)\ttotal: 1m\tremaining: 19.6s\n755:\tlearn: 0.6440500\ttest: 0.6643347\tbest: 0.6642021 (702)\ttotal: 1m\tremaining: 19.6s\n756:\tlearn: 0.6440185\ttest: 0.6643442\tbest: 0.6642021 (702)\ttotal: 1m\tremaining: 19.5s\n757:\tlearn: 0.6439765\ttest: 0.6643385\tbest: 0.6642021 (702)\ttotal: 1m\tremaining: 19.4s\n758:\tlearn: 0.6439360\ttest: 0.6643422\tbest: 0.6642021 (702)\ttotal: 1m\tremaining: 19.3s\n759:\tlearn: 0.6438834\ttest: 0.6643679\tbest: 0.6642021 (702)\ttotal: 1m\tremaining: 19.2s\n760:\tlearn: 0.6438486\ttest: 0.6643641\tbest: 0.6642021 (702)\ttotal: 1m 1s\tremaining: 19.2s\n761:\tlearn: 0.6438080\ttest: 0.6643576\tbest: 0.6642021 (702)\ttotal: 1m 1s\tremaining: 19.1s\n762:\tlearn: 0.6437771\ttest: 0.6643740\tbest: 0.6642021 (702)\ttotal: 1m 1s\tremaining: 19s\n763:\tlearn: 0.6437304\ttest: 0.6643943\tbest: 0.6642021 (702)\ttotal: 1m 1s\tremaining: 18.9s\n764:\tlearn: 0.6436960\ttest: 0.6643914\tbest: 0.6642021 (702)\ttotal: 1m 1s\tremaining: 18.8s\n765:\tlearn: 0.6436444\ttest: 0.6644133\tbest: 0.6642021 (702)\ttotal: 1m 1s\tremaining: 18.8s\n766:\tlearn: 0.6436042\ttest: 0.6643885\tbest: 0.6642021 (702)\ttotal: 1m 1s\tremaining: 18.7s\n767:\tlearn: 0.6435708\ttest: 0.6643924\tbest: 0.6642021 (702)\ttotal: 1m 1s\tremaining: 18.6s\n768:\tlearn: 0.6435290\ttest: 0.6643955\tbest: 0.6642021 (702)\ttotal: 1m 1s\tremaining: 18.5s\n769:\tlearn: 0.6434889\ttest: 0.6643878\tbest: 0.6642021 (702)\ttotal: 1m 1s\tremaining: 18.4s\n770:\tlearn: 0.6434471\ttest: 0.6643986\tbest: 0.6642021 (702)\ttotal: 1m 1s\tremaining: 18.4s\n771:\tlearn: 0.6434120\ttest: 0.6643914\tbest: 0.6642021 (702)\ttotal: 1m 1s\tremaining: 18.3s\n772:\tlearn: 0.6433817\ttest: 0.6643956\tbest: 0.6642021 (702)\ttotal: 1m 1s\tremaining: 18.2s\n773:\tlearn: 0.6433370\ttest: 0.6643972\tbest: 0.6642021 (702)\ttotal: 1m 2s\tremaining: 18.1s\n774:\tlearn: 0.6433013\ttest: 0.6643970\tbest: 0.6642021 (702)\ttotal: 1m 2s\tremaining: 18s\n775:\tlearn: 0.6432641\ttest: 0.6644088\tbest: 0.6642021 (702)\ttotal: 1m 2s\tremaining: 18s\n776:\tlearn: 0.6432209\ttest: 0.6644057\tbest: 0.6642021 (702)\ttotal: 1m 2s\tremaining: 17.9s\n777:\tlearn: 0.6431827\ttest: 0.6644122\tbest: 0.6642021 (702)\ttotal: 1m 2s\tremaining: 17.8s\n778:\tlearn: 0.6431266\ttest: 0.6644025\tbest: 0.6642021 (702)\ttotal: 1m 2s\tremaining: 17.7s\n779:\tlearn: 0.6430844\ttest: 0.6643942\tbest: 0.6642021 (702)\ttotal: 1m 2s\tremaining: 17.6s\n780:\tlearn: 0.6430354\ttest: 0.6643991\tbest: 0.6642021 (702)\ttotal: 1m 2s\tremaining: 17.5s\n781:\tlearn: 0.6429976\ttest: 0.6644172\tbest: 0.6642021 (702)\ttotal: 1m 2s\tremaining: 17.5s\n782:\tlearn: 0.6429612\ttest: 0.6644052\tbest: 0.6642021 (702)\ttotal: 1m 2s\tremaining: 17.4s\n783:\tlearn: 0.6429224\ttest: 0.6644075\tbest: 0.6642021 (702)\ttotal: 1m 2s\tremaining: 17.3s\n784:\tlearn: 0.6428863\ttest: 0.6644287\tbest: 0.6642021 (702)\ttotal: 1m 2s\tremaining: 17.2s\n785:\tlearn: 0.6428478\ttest: 0.6644341\tbest: 0.6642021 (702)\ttotal: 1m 2s\tremaining: 17.2s\n786:\tlearn: 0.6428004\ttest: 0.6644493\tbest: 0.6642021 (702)\ttotal: 1m 3s\tremaining: 17.1s\n787:\tlearn: 0.6427620\ttest: 0.6644396\tbest: 0.6642021 (702)\ttotal: 1m 3s\tremaining: 17s\n788:\tlearn: 0.6427294\ttest: 0.6644388\tbest: 0.6642021 (702)\ttotal: 1m 3s\tremaining: 16.9s\n789:\tlearn: 0.6426962\ttest: 0.6644517\tbest: 0.6642021 (702)\ttotal: 1m 3s\tremaining: 16.8s\n790:\tlearn: 0.6426543\ttest: 0.6644534\tbest: 0.6642021 (702)\ttotal: 1m 3s\tremaining: 16.7s\n791:\tlearn: 0.6426138\ttest: 0.6644373\tbest: 0.6642021 (702)\ttotal: 1m 3s\tremaining: 16.7s\n792:\tlearn: 0.6425754\ttest: 0.6644328\tbest: 0.6642021 (702)\ttotal: 1m 3s\tremaining: 16.6s\n793:\tlearn: 0.6425273\ttest: 0.6644230\tbest: 0.6642021 (702)\ttotal: 1m 3s\tremaining: 16.5s\n794:\tlearn: 0.6424828\ttest: 0.6644056\tbest: 0.6642021 (702)\ttotal: 1m 3s\tremaining: 16.4s\n795:\tlearn: 0.6424531\ttest: 0.6644073\tbest: 0.6642021 (702)\ttotal: 1m 3s\tremaining: 16.4s\n796:\tlearn: 0.6424014\ttest: 0.6643928\tbest: 0.6642021 (702)\ttotal: 1m 3s\tremaining: 16.3s\n797:\tlearn: 0.6423649\ttest: 0.6643802\tbest: 0.6642021 (702)\ttotal: 1m 3s\tremaining: 16.2s\n798:\tlearn: 0.6423232\ttest: 0.6643785\tbest: 0.6642021 (702)\ttotal: 1m 4s\tremaining: 16.1s\n799:\tlearn: 0.6422872\ttest: 0.6643684\tbest: 0.6642021 (702)\ttotal: 1m 4s\tremaining: 16s\n800:\tlearn: 0.6422402\ttest: 0.6643715\tbest: 0.6642021 (702)\ttotal: 1m 4s\tremaining: 16s\n801:\tlearn: 0.6421928\ttest: 0.6643815\tbest: 0.6642021 (702)\ttotal: 1m 4s\tremaining: 15.9s\n802:\tlearn: 0.6421523\ttest: 0.6643819\tbest: 0.6642021 (702)\ttotal: 1m 4s\tremaining: 15.8s\nStopped by overfitting detector  (100 iterations wait)\n\nbestTest = 0.6642021147\nbestIteration = 702\n\nShrink model to first 703 iterations.\n"
     ]
    },
    {
     "output_type": "execute_result",
     "data": {
      "text/plain": [
       "<catboost.core.CatBoostClassifier at 0xfffa91e74ce0>"
      ]
     },
     "execution_count": 13,
     "metadata": {},
     "output_type": "execute_result"
    }
   ],
   "source": [
    "model.fit(\n",
    "    X=X_train, y=y_train, \n",
    "    cat_features=None, eval_set=(X_val, y_val), \n",
    "    verbose=1\n",
    ")"
   ]
  },
  {
   "cell_type": "code",
   "execution_count": 0,
   "metadata": {
    "application/vnd.databricks.v1+cell": {
     "cellMetadata": {
      "byteLimit": 2048000,
      "rowLimit": 10000
     },
     "inputWidgets": {},
     "nuid": "d595bc96-165b-4e02-bfb8-a140fcb4200b",
     "showTitle": true,
     "tableResultSettingsMap": {},
     "title": "test"
    }
   },
   "outputs": [
    {
     "output_type": "display_data",
     "data": {
      "image/png": "[encoded data removed]",
      "text/plain": [
       "<Figure size 800x500 with 1 Axes>"
      ]
     },
     "metadata": {},
     "output_type": "display_data"
    }
   ],
   "source": [
    "import matplotlib.pyplot as plt\n",
    "\n",
    "importances = model.feature_importances_\n",
    "features = X_train.columns\n",
    "\n",
    "feat_imp = pd.DataFrame({'feature': features, 'importance': importances})\n",
    "feat_imp = feat_imp.sort_values('importance', ascending=False)\n",
    "\n",
    "feat_imp = feat_imp.head(20)\n",
    "\n",
    "plt.figure(figsize=(8, len(feat_imp) * 0.25))\n",
    "plt.barh(feat_imp['feature'], feat_imp['importance'])\n",
    "plt.xlabel('Importance')\n",
    "plt.ylabel('Feature')\n",
    "plt.gca().invert_yaxis()\n",
    "plt.title('Feature Importances')\n",
    "plt.show()"
   ]
  },
  {
   "cell_type": "code",
   "execution_count": 0,
   "metadata": {
    "application/vnd.databricks.v1+cell": {
     "cellMetadata": {
      "byteLimit": 2048000,
      "rowLimit": 10000
     },
     "inputWidgets": {},
     "nuid": "397e7703-d00c-469b-93b0-e762c0782609",
     "showTitle": false,
     "tableResultSettingsMap": {},
     "title": ""
    }
   },
   "outputs": [],
   "source": [
    "X_test = spark.read.table(f\"{CATALOG}.{SCHEMA}.feature_store_test\")\n",
    "X_test = X_test.toPandas()"
   ]
  },
  {
   "cell_type": "code",
   "execution_count": 0,
   "metadata": {
    "application/vnd.databricks.v1+cell": {
     "cellMetadata": {
      "byteLimit": 2048000,
      "rowLimit": 10000
     },
     "inputWidgets": {},
     "nuid": "29424041-aba9-497b-85e9-c1f56d878508",
     "showTitle": false,
     "tableResultSettingsMap": {},
     "title": ""
    }
   },
   "outputs": [],
   "source": [
    "VOLUME = \"kaggle_competition_data\"\n",
    "VERSION = \"0.5\"\n",
    "\n",
    "\n",
    "preds = model.predict_proba(X_test)[:, 1]\n",
    "preds_df = pd.DataFrame(\n",
    "    {\"id\": X_test[\"id\"], \"target\": preds}\n",
    ").sort_values(\"id\")\n",
    "\n",
    "preds_df.to_csv(\n",
    "    f\"/Volumes/{CATALOG}/{SCHEMA}/{VOLUME}/submissions/submission_v{VERSION}.csv\",\n",
    "    index=False\n",
    ")\n"
   ]
  },
  {
   "cell_type": "code",
   "execution_count": 0,
   "metadata": {
    "application/vnd.databricks.v1+cell": {
     "cellMetadata": {},
     "inputWidgets": {},
     "nuid": "d0ed2112-b0fb-4dae-b5f4-31c147672968",
     "showTitle": false,
     "tableResultSettingsMap": {},
     "title": ""
    }
   },
   "outputs": [],
   "source": []
  }
 ],
 "metadata": {
  "application/vnd.databricks.v1+notebook": {
   "computePreferences": {
    "hardware": {
     "accelerator": null,
     "gpuPoolId": null,
     "memory": null
    }
   },
   "dashboards": [],
   "environmentMetadata": {
    "base_environment": "",
    "dependencies": [
     "catboost==1.2.8"
    ],
    "environment_version": "4"
   },
   "inputWidgetPreferences": null,
   "language": "python",
   "notebookMetadata": {
    "pythonIndentUnit": 4
   },
   "notebookName": "run_frequency_model",
   "widgets": {}
  },
  "language_info": {
   "name": "python"
  }
 },
 "nbformat": 4,
 "nbformat_minor": 0
}
