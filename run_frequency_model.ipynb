{
 "cells": [
  {
   "cell_type": "code",
   "execution_count": 0,
   "metadata": {
    "application/vnd.databricks.v1+cell": {
     "cellMetadata": {
      "byteLimit": 2048000,
      "rowLimit": 10000
     },
     "inputWidgets": {},
     "nuid": "7f1da525-bfb1-472a-a65b-17f74f403d01",
     "showTitle": false,
     "tableResultSettingsMap": {},
     "title": ""
    }
   },
   "outputs": [
    {
     "output_type": "stream",
     "name": "stdout",
     "output_type": "stream",
     "text": [
      "2.22.0\n"
     ]
    }
   ],
   "source": [
    "import pyspark\n",
    "import mlflow\n",
    "import catboost\n",
    "import json\n",
    "import pandas as pd\n",
    "import pyspark.sql.functions as F\n",
    "from sklearn.model_selection import train_test_split\n",
    "\n",
    "from src.modeling import FrequencyModeling\n",
    "\n",
    "print(mlflow.__version__)"
   ]
  },
  {
   "cell_type": "code",
   "execution_count": 0,
   "metadata": {
    "application/vnd.databricks.v1+cell": {
     "cellMetadata": {
      "byteLimit": 2048000,
      "rowLimit": 10000
     },
     "inputWidgets": {},
     "nuid": "b88a6067-e173-4d50-9d83-41cf9b076892",
     "showTitle": false,
     "tableResultSettingsMap": {},
     "title": ""
    }
   },
   "outputs": [],
   "source": [
    "CATALOG = \"workspace\"\n",
    "SCHEMA = \"safe_driver_prediction\"\n",
    "CONFIG_PATH = \"./configs/freq_model_pipeline_v1.0.json\"\n",
    "\n",
    "with open(CONFIG_PATH, mode=\"r\") as f:\n",
    "    config = json.load(f)\n",
    "\n",
    "training_params = config[\"training_parameters\"]\n",
    "modeling_params = config[\"modeling_parameters\"]"
   ]
  },
  {
   "cell_type": "code",
   "execution_count": 0,
   "metadata": {
    "application/vnd.databricks.v1+cell": {
     "cellMetadata": {
      "byteLimit": 2048000,
      "rowLimit": 10000
     },
     "inputWidgets": {},
     "nuid": "b034d383-e2b9-404d-a9f8-eba69a6e5b19",
     "showTitle": false,
     "tableResultSettingsMap": {},
     "title": ""
    }
   },
   "outputs": [
    {
     "output_type": "stream",
     "name": "stdout",
     "output_type": "stream",
     "text": [
      "training set has 595212 rows and 63 columns.\n"
     ]
    },
    {
     "output_type": "display_data",
     "data": {
      "text/html": [
       "<style scoped>\n",
       "  .table-result-container {\n",
       "    max-height: 300px;\n",
       "    overflow: auto;\n",
       "  }\n",
       "  table, th, td {\n",
       "    border: 1px solid black;\n",
       "    border-collapse: collapse;\n",
       "  }\n",
       "  th, td {\n",
       "    padding: 5px;\n",
       "  }\n",
       "  th {\n",
       "    text-align: left;\n",
       "  }\n",
       "</style><div class='table-result-container'><table class='table-result'><thead style='background-color: white'><tr><th>id</th><th>target</th><th>ind_01</th><th>ind_02_cat</th><th>ind_03</th><th>ind_04_cat</th><th>ind_05_cat</th><th>ind_06_bin</th><th>ind_07_bin</th><th>ind_08_bin</th><th>ind_09_bin</th><th>ind_10_bin</th><th>ind_11_bin</th><th>ind_12_bin</th><th>ind_13_bin</th><th>ind_14</th><th>ind_15</th><th>ind_16_bin</th><th>ind_17_bin</th><th>ind_18_bin</th><th>reg_01</th><th>reg_02</th><th>reg_03</th><th>car_01_cat</th><th>car_02_cat</th><th>car_03_cat</th><th>car_04_cat</th><th>car_05_cat</th><th>car_06_cat</th><th>car_07_cat</th><th>car_08_cat</th><th>car_09_cat</th><th>car_10_cat</th><th>car_11_cat</th><th>car_11</th><th>car_12</th><th>car_13</th><th>car_14</th><th>car_15</th><th>calc_01</th><th>calc_02</th><th>calc_03</th><th>calc_04</th><th>calc_05</th><th>calc_06</th><th>calc_07</th><th>calc_08</th><th>calc_09</th><th>calc_10</th><th>calc_11</th><th>calc_12</th><th>calc_13</th><th>calc_14</th><th>calc_15_bin</th><th>calc_16_bin</th><th>calc_17_bin</th><th>calc_18_bin</th><th>calc_19_bin</th><th>calc_20_bin</th><th>car_04_cat_simplified</th><th>car_11_cat_simplified</th><th>ind_02_cat_simplified</th><th>ind_05_cat_simplified</th></tr></thead><tbody><tr><td>1212</td><td>0</td><td>0</td><td>1</td><td>7</td><td>1</td><td>0</td><td>1</td><td>0</td><td>0</td><td>0</td><td>0</td><td>0</td><td>0</td><td>0</td><td>0</td><td>12</td><td>1</td><td>0</td><td>0</td><td>0.3</td><td>0.2</td><td>0.8019507466</td><td>4</td><td>1</td><td>0.0</td><td>0</td><td>1.0</td><td>11</td><td>1</td><td>1</td><td>0</td><td>1</td><td>103</td><td>1</td><td>0.316227766</td><td>0.6671451451</td><td>0.3583294573</td><td>3.3166247904</td><td>0.6</td><td>0.3</td><td>0.5</td><td>1</td><td>3</td><td>9</td><td>3</td><td>10</td><td>1</td><td>4</td><td>5</td><td>1</td><td>6</td><td>8</td><td>0</td><td>1</td><td>0</td><td>1</td><td>0</td><td>0</td><td>1</td><td>0</td><td>1</td><td>1</td></tr><tr><td>1477</td><td>0</td><td>0</td><td>1</td><td>7</td><td>0</td><td>0</td><td>1</td><td>0</td><td>0</td><td>0</td><td>0</td><td>0</td><td>0</td><td>0</td><td>0</td><td>3</td><td>0</td><td>0</td><td>1</td><td>0.9</td><td>0.4</td><td>0.7681145748</td><td>11</td><td>1</td><td>0.0</td><td>0</td><td>0.0</td><td>1</td><td>1</td><td>1</td><td>2</td><td>1</td><td>64</td><td>3</td><td>0.316227766</td><td>0.6603123478</td><td>0.3619392214</td><td>3.1622776602</td><td>0.1</td><td>0.2</td><td>0.6</td><td>3</td><td>3</td><td>8</td><td>3</td><td>10</td><td>2</td><td>6</td><td>8</td><td>0</td><td>4</td><td>11</td><td>1</td><td>1</td><td>0</td><td>0</td><td>0</td><td>0</td><td>1</td><td>0</td><td>1</td><td>1</td></tr><tr><td>4101</td><td>0</td><td>0</td><td>2</td><td>0</td><td>0</td><td>6</td><td>1</td><td>0</td><td>0</td><td>0</td><td>0</td><td>0</td><td>0</td><td>0</td><td>0</td><td>0</td><td>0</td><td>0</td><td>1</td><td>0.2</td><td>0.3</td><td>0.8019507466</td><td>8</td><td>0</td><td>0.0</td><td>0</td><td>1.0</td><td>11</td><td>1</td><td>1</td><td>0</td><td>1</td><td>104</td><td>3</td><td>0.44721359549999995</td><td>0.7809191448</td><td>0.4248529157</td><td>2.8284271247</td><td>0.6</td><td>0.7</td><td>0.6</td><td>3</td><td>2</td><td>6</td><td>3</td><td>11</td><td>5</td><td>9</td><td>10</td><td>2</td><td>2</td><td>13</td><td>0</td><td>1</td><td>1</td><td>0</td><td>0</td><td>1</td><td>1</td><td>1</td><td>0</td><td>0</td></tr><tr><td>7596</td><td>0</td><td>6</td><td>2</td><td>9</td><td>0</td><td>0</td><td>0</td><td>0</td><td>1</td><td>0</td><td>0</td><td>0</td><td>0</td><td>0</td><td>0</td><td>7</td><td>1</td><td>0</td><td>0</td><td>0.6</td><td>1.3</td><td>1.0356157589</td><td>8</td><td>1</td><td>1.0</td><td>0</td><td>1.0</td><td>1</td><td>1</td><td>0</td><td>0</td><td>1</td><td>31</td><td>3</td><td>0.423792402</td><td>1.1132773076</td><td>0.4084115571</td><td>3.7416573868</td><td>0.9</td><td>0.8</td><td>0.6</td><td>2</td><td>1</td><td>8</td><td>4</td><td>9</td><td>2</td><td>3</td><td>7</td><td>2</td><td>2</td><td>7</td><td>0</td><td>1</td><td>0</td><td>0</td><td>1</td><td>0</td><td>1</td><td>0</td><td>0</td><td>1</td></tr><tr><td>9769</td><td>0</td><td>1</td><td>4</td><td>7</td><td>1</td><td>0</td><td>1</td><td>0</td><td>0</td><td>0</td><td>0</td><td>0</td><td>0</td><td>0</td><td>0</td><td>5</td><td>0</td><td>0</td><td>0</td><td>0.9</td><td>0.2</td><td>0.8019507466</td><td>6</td><td>1</td><td>0.0</td><td>0</td><td>0.0</td><td>0</td><td>1</td><td>1</td><td>0</td><td>1</td><td>34</td><td>2</td><td>0.4</td><td>0.7783883541</td><td>0.3780211634</td><td>3.3166247904</td><td>0.5</td><td>0.3</td><td>0.0</td><td>1</td><td>4</td><td>10</td><td>3</td><td>11</td><td>1</td><td>8</td><td>8</td><td>0</td><td>2</td><td>11</td><td>0</td><td>1</td><td>0</td><td>0</td><td>0</td><td>0</td><td>1</td><td>0</td><td>0</td><td>1</td></tr><tr><td>11961</td><td>0</td><td>2</td><td>1</td><td>8</td><td>0</td><td>0</td><td>1</td><td>0</td><td>0</td><td>0</td><td>0</td><td>0</td><td>0</td><td>0</td><td>0</td><td>4</td><td>0</td><td>0</td><td>1</td><td>0.8</td><td>0.9</td><td>1.0440306509000001</td><td>11</td><td>1</td><td>1.0</td><td>0</td><td>1.0</td><td>11</td><td>1</td><td>1</td><td>2</td><td>1</td><td>103</td><td>1</td><td>0.3160696126</td><td>0.5245423034000001</td><td>0.2887905816</td><td>1.7320508075999999</td><td>0.4</td><td>0.6</td><td>0.8</td><td>2</td><td>1</td><td>7</td><td>4</td><td>8</td><td>2</td><td>11</td><td>6</td><td>1</td><td>1</td><td>8</td><td>0</td><td>1</td><td>0</td><td>0</td><td>1</td><td>0</td><td>1</td><td>0</td><td>1</td><td>1</td></tr><tr><td>17080</td><td>0</td><td>4</td><td>1</td><td>4</td><td>1</td><td>0</td><td>0</td><td>1</td><td>0</td><td>0</td><td>0</td><td>0</td><td>0</td><td>0</td><td>0</td><td>0</td><td>0</td><td>0</td><td>1</td><td>0.9</td><td>0.3</td><td>0.7301540933</td><td>7</td><td>1</td><td>0.0</td><td>0</td><td>0.0</td><td>6</td><td>0</td><td>1</td><td>2</td><td>1</td><td>77</td><td>2</td><td>0.3741657387</td><td>0.7140994444</td><td>0.37349698789999997</td><td>3.1622776602</td><td>0.0</td><td>0.5</td><td>0.4</td><td>0</td><td>1</td><td>7</td><td>1</td><td>10</td><td>1</td><td>5</td><td>5</td><td>1</td><td>2</td><td>7</td><td>0</td><td>0</td><td>0</td><td>0</td><td>0</td><td>0</td><td>1</td><td>0</td><td>1</td><td>1</td></tr><tr><td>20410</td><td>0</td><td>5</td><td>2</td><td>6</td><td>1</td><td>0</td><td>0</td><td>1</td><td>0</td><td>0</td><td>0</td><td>0</td><td>0</td><td>0</td><td>0</td><td>7</td><td>1</td><td>0</td><td>0</td><td>0.6</td><td>0.8</td><td>1.6</td><td>8</td><td>1</td><td>1.0</td><td>0</td><td>1.0</td><td>14</td><td>1</td><td>0</td><td>2</td><td>1</td><td>72</td><td>3</td><td>0.4</td><td>1.1625616485999999</td><td>0.35042830939999997</td><td>3.6055512755000003</td><td>0.2</td><td>0.1</td><td>0.2</td><td>4</td><td>3</td><td>6</td><td>3</td><td>11</td><td>1</td><td>7</td><td>5</td><td>2</td><td>4</td><td>2</td><td>1</td><td>0</td><td>0</td><td>0</td><td>0</td><td>0</td><td>1</td><td>0</td><td>0</td><td>1</td></tr><tr><td>20908</td><td>0</td><td>0</td><td>2</td><td>1</td><td>1</td><td>0</td><td>0</td><td>1</td><td>0</td><td>0</td><td>0</td><td>0</td><td>0</td><td>0</td><td>0</td><td>4</td><td>1</td><td>0</td><td>0</td><td>0.6</td><td>0.5</td><td>0.6941721688</td><td>7</td><td>1</td><td>0.0</td><td>0</td><td>0.0</td><td>1</td><td>1</td><td>0</td><td>2</td><td>1</td><td>80</td><td>3</td><td>0.316227766</td><td>0.8284955997</td><td>0.37349698789999997</td><td>3.6055512755000003</td><td>0.1</td><td>0.0</td><td>0.8</td><td>3</td><td>3</td><td>8</td><td>3</td><td>9</td><td>0</td><td>12</td><td>9</td><td>0</td><td>1</td><td>9</td><td>0</td><td>0</td><td>1</td><td>0</td><td>0</td><td>0</td><td>1</td><td>0</td><td>0</td><td>1</td></tr><tr><td>21142</td><td>0</td><td>4</td><td>1</td><td>3</td><td>1</td><td>0</td><td>0</td><td>0</td><td>1</td><td>0</td><td>0</td><td>0</td><td>0</td><td>0</td><td>0</td><td>5</td><td>1</td><td>0</td><td>0</td><td>0.4</td><td>0.2</td><td>0.6982120022</td><td>6</td><td>1</td><td>1.0</td><td>0</td><td>1.0</td><td>14</td><td>1</td><td>1</td><td>0</td><td>1</td><td>42</td><td>2</td><td>0.4</td><td>0.7369245899</td><td>0.3937003937</td><td>3.1622776602</td><td>0.4</td><td>0.8</td><td>0.1</td><td>4</td><td>1</td><td>8</td><td>3</td><td>11</td><td>1</td><td>9</td><td>3</td><td>0</td><td>4</td><td>7</td><td>0</td><td>0</td><td>1</td><td>0</td><td>1</td><td>0</td><td>1</td><td>0</td><td>1</td><td>1</td></tr></tbody></table></div>"
      ]
     },
     "metadata": {
      "application/vnd.databricks.v1+output": {
       "addedWidgets": {},
       "aggData": [],
       "aggError": "",
       "aggOverflow": false,
       "aggSchema": [],
       "aggSeriesLimitReached": false,
       "aggType": "",
       "arguments": {},
       "columnCustomDisplayInfos": {},
       "data": [
        [
         1212,
         0,
         0,
         1,
         7,
         1,
         0,
         1,
         0,
         0,
         0,
         0,
         0,
         0,
         0,
         0,
         12,
         1,
         0,
         0,
         0.3,
         0.2,
         0.8019507466,
         4,
         1,
         0.0,
         0,
         1.0,
         11,
         1,
         1,
         0,
         1,
         103,
         1,
         0.316227766,
         0.6671451451,
         0.3583294573,
         3.3166247904,
         0.6,
         0.3,
         0.5,
         1,
         3,
         9,
         3,
         10,
         1,
         4,
         5,
         1,
         6,
         8,
         0,
         1,
         0,
         1,
         0,
         0,
         1,
         0,
         1,
         1
        ],
        [
         1477,
         0,
         0,
         1,
         7,
         0,
         0,
         1,
         0,
         0,
         0,
         0,
         0,
         0,
         0,
         0,
         3,
         0,
         0,
         1,
         0.9,
         0.4,
         0.7681145748,
         11,
         1,
         0.0,
         0,
         0.0,
         1,
         1,
         1,
         2,
         1,
         64,
         3,
         0.316227766,
         0.6603123478,
         0.3619392214,
         3.1622776602,
         0.1,
         0.2,
         0.6,
         3,
         3,
         8,
         3,
         10,
         2,
         6,
         8,
         0,
         4,
         11,
         1,
         1,
         0,
         0,
         0,
         0,
         1,
         0,
         1,
         1
        ],
        [
         4101,
         0,
         0,
         2,
         0,
         0,
         6,
         1,
         0,
         0,
         0,
         0,
         0,
         0,
         0,
         0,
         0,
         0,
         0,
         1,
         0.2,
         0.3,
         0.8019507466,
         8,
         0,
         0.0,
         0,
         1.0,
         11,
         1,
         1,
         0,
         1,
         104,
         3,
         0.44721359549999995,
         0.7809191448,
         0.4248529157,
         2.8284271247,
         0.6,
         0.7,
         0.6,
         3,
         2,
         6,
         3,
         11,
         5,
         9,
         10,
         2,
         2,
         13,
         0,
         1,
         1,
         0,
         0,
         1,
         1,
         1,
         0,
         0
        ],
        [
         7596,
         0,
         6,
         2,
         9,
         0,
         0,
         0,
         0,
         1,
         0,
         0,
         0,
         0,
         0,
         0,
         7,
         1,
         0,
         0,
         0.6,
         1.3,
         1.0356157589,
         8,
         1,
         1.0,
         0,
         1.0,
         1,
         1,
         0,
         0,
         1,
         31,
         3,
         0.423792402,
         1.1132773076,
         0.4084115571,
         3.7416573868,
         0.9,
         0.8,
         0.6,
         2,
         1,
         8,
         4,
         9,
         2,
         3,
         7,
         2,
         2,
         7,
         0,
         1,
         0,
         0,
         1,
         0,
         1,
         0,
         0,
         1
        ],
        [
         9769,
         0,
         1,
         4,
         7,
         1,
         0,
         1,
         0,
         0,
         0,
         0,
         0,
         0,
         0,
         0,
         5,
         0,
         0,
         0,
         0.9,
         0.2,
         0.8019507466,
         6,
         1,
         0.0,
         0,
         0.0,
         0,
         1,
         1,
         0,
         1,
         34,
         2,
         0.4,
         0.7783883541,
         0.3780211634,
         3.3166247904,
         0.5,
         0.3,
         0.0,
         1,
         4,
         10,
         3,
         11,
         1,
         8,
         8,
         0,
         2,
         11,
         0,
         1,
         0,
         0,
         0,
         0,
         1,
         0,
         0,
         1
        ],
        [
         11961,
         0,
         2,
         1,
         8,
         0,
         0,
         1,
         0,
         0,
         0,
         0,
         0,
         0,
         0,
         0,
         4,
         0,
         0,
         1,
         0.8,
         0.9,
         1.0440306509000001,
         11,
         1,
         1.0,
         0,
         1.0,
         11,
         1,
         1,
         2,
         1,
         103,
         1,
         0.3160696126,
         0.5245423034000001,
         0.2887905816,
         1.7320508075999999,
         0.4,
         0.6,
         0.8,
         2,
         1,
         7,
         4,
         8,
         2,
         11,
         6,
         1,
         1,
         8,
         0,
         1,
         0,
         0,
         1,
         0,
         1,
         0,
         1,
         1
        ],
        [
         17080,
         0,
         4,
         1,
         4,
         1,
         0,
         0,
         1,
         0,
         0,
         0,
         0,
         0,
         0,
         0,
         0,
         0,
         0,
         1,
         0.9,
         0.3,
         0.7301540933,
         7,
         1,
         0.0,
         0,
         0.0,
         6,
         0,
         1,
         2,
         1,
         77,
         2,
         0.3741657387,
         0.7140994444,
         0.37349698789999997,
         3.1622776602,
         0.0,
         0.5,
         0.4,
         0,
         1,
         7,
         1,
         10,
         1,
         5,
         5,
         1,
         2,
         7,
         0,
         0,
         0,
         0,
         0,
         0,
         1,
         0,
         1,
         1
        ],
        [
         20410,
         0,
         5,
         2,
         6,
         1,
         0,
         0,
         1,
         0,
         0,
         0,
         0,
         0,
         0,
         0,
         7,
         1,
         0,
         0,
         0.6,
         0.8,
         1.6,
         8,
         1,
         1.0,
         0,
         1.0,
         14,
         1,
         0,
         2,
         1,
         72,
         3,
         0.4,
         1.1625616485999999,
         0.35042830939999997,
         3.6055512755000003,
         0.2,
         0.1,
         0.2,
         4,
         3,
         6,
         3,
         11,
         1,
         7,
         5,
         2,
         4,
         2,
         1,
         0,
         0,
         0,
         0,
         0,
         1,
         0,
         0,
         1
        ],
        [
         20908,
         0,
         0,
         2,
         1,
         1,
         0,
         0,
         1,
         0,
         0,
         0,
         0,
         0,
         0,
         0,
         4,
         1,
         0,
         0,
         0.6,
         0.5,
         0.6941721688,
         7,
         1,
         0.0,
         0,
         0.0,
         1,
         1,
         0,
         2,
         1,
         80,
         3,
         0.316227766,
         0.8284955997,
         0.37349698789999997,
         3.6055512755000003,
         0.1,
         0.0,
         0.8,
         3,
         3,
         8,
         3,
         9,
         0,
         12,
         9,
         0,
         1,
         9,
         0,
         0,
         1,
         0,
         0,
         0,
         1,
         0,
         0,
         1
        ],
        [
         21142,
         0,
         4,
         1,
         3,
         1,
         0,
         0,
         0,
         1,
         0,
         0,
         0,
         0,
         0,
         0,
         5,
         1,
         0,
         0,
         0.4,
         0.2,
         0.6982120022,
         6,
         1,
         1.0,
         0,
         1.0,
         14,
         1,
         1,
         0,
         1,
         42,
         2,
         0.4,
         0.7369245899,
         0.3937003937,
         3.1622776602,
         0.4,
         0.8,
         0.1,
         4,
         1,
         8,
         3,
         11,
         1,
         9,
         3,
         0,
         4,
         7,
         0,
         0,
         1,
         0,
         1,
         0,
         1,
         0,
         1,
         1
        ]
       ],
       "datasetInfos": [],
       "dbfsResultPath": null,
       "isJsonSchema": true,
       "metadata": {},
       "overflow": false,
       "plotOptions": {
        "customPlotOptions": {},
        "displayType": "table",
        "pivotAggregation": null,
        "pivotColumns": null,
        "xColumns": null,
        "yColumns": null
       },
       "removedWidgets": [],
       "schema": [
        {
         "metadata": "{}",
         "name": "id",
         "type": "\"integer\""
        },
        {
         "metadata": "{}",
         "name": "target",
         "type": "\"integer\""
        },
        {
         "metadata": "{}",
         "name": "ind_01",
         "type": "\"integer\""
        },
        {
         "metadata": "{}",
         "name": "ind_02_cat",
         "type": "\"integer\""
        },
        {
         "metadata": "{}",
         "name": "ind_03",
         "type": "\"integer\""
        },
        {
         "metadata": "{}",
         "name": "ind_04_cat",
         "type": "\"integer\""
        },
        {
         "metadata": "{}",
         "name": "ind_05_cat",
         "type": "\"integer\""
        },
        {
         "metadata": "{}",
         "name": "ind_06_bin",
         "type": "\"integer\""
        },
        {
         "metadata": "{}",
         "name": "ind_07_bin",
         "type": "\"integer\""
        },
        {
         "metadata": "{}",
         "name": "ind_08_bin",
         "type": "\"integer\""
        },
        {
         "metadata": "{}",
         "name": "ind_09_bin",
         "type": "\"integer\""
        },
        {
         "metadata": "{}",
         "name": "ind_10_bin",
         "type": "\"integer\""
        },
        {
         "metadata": "{}",
         "name": "ind_11_bin",
         "type": "\"integer\""
        },
        {
         "metadata": "{}",
         "name": "ind_12_bin",
         "type": "\"integer\""
        },
        {
         "metadata": "{}",
         "name": "ind_13_bin",
         "type": "\"integer\""
        },
        {
         "metadata": "{}",
         "name": "ind_14",
         "type": "\"integer\""
        },
        {
         "metadata": "{}",
         "name": "ind_15",
         "type": "\"integer\""
        },
        {
         "metadata": "{}",
         "name": "ind_16_bin",
         "type": "\"integer\""
        },
        {
         "metadata": "{}",
         "name": "ind_17_bin",
         "type": "\"integer\""
        },
        {
         "metadata": "{}",
         "name": "ind_18_bin",
         "type": "\"integer\""
        },
        {
         "metadata": "{}",
         "name": "reg_01",
         "type": "\"double\""
        },
        {
         "metadata": "{}",
         "name": "reg_02",
         "type": "\"double\""
        },
        {
         "metadata": "{}",
         "name": "reg_03",
         "type": "\"double\""
        },
        {
         "metadata": "{}",
         "name": "car_01_cat",
         "type": "\"integer\""
        },
        {
         "metadata": "{}",
         "name": "car_02_cat",
         "type": "\"integer\""
        },
        {
         "metadata": "{}",
         "name": "car_03_cat",
         "type": "\"double\""
        },
        {
         "metadata": "{}",
         "name": "car_04_cat",
         "type": "\"integer\""
        },
        {
         "metadata": "{}",
         "name": "car_05_cat",
         "type": "\"double\""
        },
        {
         "metadata": "{}",
         "name": "car_06_cat",
         "type": "\"integer\""
        },
        {
         "metadata": "{}",
         "name": "car_07_cat",
         "type": "\"integer\""
        },
        {
         "metadata": "{}",
         "name": "car_08_cat",
         "type": "\"integer\""
        },
        {
         "metadata": "{}",
         "name": "car_09_cat",
         "type": "\"integer\""
        },
        {
         "metadata": "{}",
         "name": "car_10_cat",
         "type": "\"integer\""
        },
        {
         "metadata": "{}",
         "name": "car_11_cat",
         "type": "\"integer\""
        },
        {
         "metadata": "{}",
         "name": "car_11",
         "type": "\"integer\""
        },
        {
         "metadata": "{}",
         "name": "car_12",
         "type": "\"double\""
        },
        {
         "metadata": "{}",
         "name": "car_13",
         "type": "\"double\""
        },
        {
         "metadata": "{}",
         "name": "car_14",
         "type": "\"double\""
        },
        {
         "metadata": "{}",
         "name": "car_15",
         "type": "\"double\""
        },
        {
         "metadata": "{}",
         "name": "calc_01",
         "type": "\"double\""
        },
        {
         "metadata": "{}",
         "name": "calc_02",
         "type": "\"double\""
        },
        {
         "metadata": "{}",
         "name": "calc_03",
         "type": "\"double\""
        },
        {
         "metadata": "{}",
         "name": "calc_04",
         "type": "\"integer\""
        },
        {
         "metadata": "{}",
         "name": "calc_05",
         "type": "\"integer\""
        },
        {
         "metadata": "{}",
         "name": "calc_06",
         "type": "\"integer\""
        },
        {
         "metadata": "{}",
         "name": "calc_07",
         "type": "\"integer\""
        },
        {
         "metadata": "{}",
         "name": "calc_08",
         "type": "\"integer\""
        },
        {
         "metadata": "{}",
         "name": "calc_09",
         "type": "\"integer\""
        },
        {
         "metadata": "{}",
         "name": "calc_10",
         "type": "\"integer\""
        },
        {
         "metadata": "{}",
         "name": "calc_11",
         "type": "\"integer\""
        },
        {
         "metadata": "{}",
         "name": "calc_12",
         "type": "\"integer\""
        },
        {
         "metadata": "{}",
         "name": "calc_13",
         "type": "\"integer\""
        },
        {
         "metadata": "{}",
         "name": "calc_14",
         "type": "\"integer\""
        },
        {
         "metadata": "{}",
         "name": "calc_15_bin",
         "type": "\"integer\""
        },
        {
         "metadata": "{}",
         "name": "calc_16_bin",
         "type": "\"integer\""
        },
        {
         "metadata": "{}",
         "name": "calc_17_bin",
         "type": "\"integer\""
        },
        {
         "metadata": "{}",
         "name": "calc_18_bin",
         "type": "\"integer\""
        },
        {
         "metadata": "{}",
         "name": "calc_19_bin",
         "type": "\"integer\""
        },
        {
         "metadata": "{}",
         "name": "calc_20_bin",
         "type": "\"integer\""
        },
        {
         "metadata": "{}",
         "name": "car_04_cat_simplified",
         "type": "\"integer\""
        },
        {
         "metadata": "{}",
         "name": "car_11_cat_simplified",
         "type": "\"integer\""
        },
        {
         "metadata": "{}",
         "name": "ind_02_cat_simplified",
         "type": "\"integer\""
        },
        {
         "metadata": "{}",
         "name": "ind_05_cat_simplified",
         "type": "\"integer\""
        }
       ],
       "type": "table"
      }
     },
     "output_type": "display_data"
    }
   ],
   "source": [
    "fs_df = spark.table(training_params[\"feature_store_path\"])\n",
    "\n",
    "print(f\"training set has {fs_df.count()} rows and {len(fs_df.columns)} columns.\")\n",
    "fs_df.limit(10).display()"
   ]
  },
  {
   "cell_type": "code",
   "execution_count": 0,
   "metadata": {
    "application/vnd.databricks.v1+cell": {
     "cellMetadata": {
      "byteLimit": 2048000,
      "rowLimit": 10000
     },
     "inputWidgets": {},
     "nuid": "554c2cb8-61b0-4afa-a41f-c62d3fb79eb2",
     "showTitle": false,
     "tableResultSettingsMap": {},
     "title": ""
    }
   },
   "outputs": [],
   "source": [
    "freq_modeller = FrequencyModeling(\n",
    "    dataset=fs_df,\n",
    "    target_col=training_params[\"target_column_name\"],\n",
    "    test_size=training_params[\"test_ratio\"],\n",
    "    mlflow_experiment_name=None\n",
    ")"
   ]
  },
  {
   "cell_type": "code",
   "execution_count": 0,
   "metadata": {
    "application/vnd.databricks.v1+cell": {
     "cellMetadata": {
      "byteLimit": 2048000,
      "rowLimit": 10000
     },
     "inputWidgets": {},
     "nuid": "04075d73-f059-40c3-9c19-da78ff19deca",
     "showTitle": true,
     "tableResultSettingsMap": {},
     "title": "prepare train and test"
    }
   },
   "outputs": [],
   "source": [
    "X_train, X_val, y_train, y_val = freq_modeller.split_train_test()"
   ]
  },
  {
   "cell_type": "code",
   "execution_count": 0,
   "metadata": {
    "application/vnd.databricks.v1+cell": {
     "cellMetadata": {
      "byteLimit": 2048000,
      "rowLimit": 10000
     },
     "inputWidgets": {},
     "nuid": "15a0c28c-2c54-45f2-a038-b0c0fcedefc2",
     "showTitle": false,
     "tableResultSettingsMap": {},
     "title": ""
    }
   },
   "outputs": [],
   "source": [
    "for modeling_param in modeling_params:\n",
    "    if modeling_param[\"model_name\"] == \"catboost\":\n",
    "        hyperparams = modeling_param[\"hyperparameters\"]\n",
    "\n",
    "model = freq_modeller.create_frequency_model(\n",
    "    model_name=\"catboost\", model_params={**hyperparams}\n",
    ")"
   ]
  },
  {
   "cell_type": "code",
   "execution_count": 0,
   "metadata": {
    "application/vnd.databricks.v1+cell": {
     "cellMetadata": {
      "byteLimit": 2048000,
      "rowLimit": 10000
     },
     "inputWidgets": {},
     "nuid": "2f37495b-b7ee-48e9-9c40-96e040d66a30",
     "showTitle": true,
     "tableResultSettingsMap": {},
     "title": "test"
    }
   },
   "outputs": [
    {
     "output_type": "execute_result",
     "data": {
      "text/plain": [
       "{'iterations': 1000,\n",
       " 'learning_rate': 0.01,\n",
       " 'depth': 8,\n",
       " 'loss_function': 'Logloss',\n",
       " 'random_seed': 40,\n",
       " 'use_best_model': True,\n",
       " 'auto_class_weights': 'Balanced',\n",
       " 'early_stopping_rounds': 100}"
      ]
     },
     "execution_count": 55,
     "metadata": {},
     "output_type": "execute_result"
    }
   ],
   "source": [
    "model.get_params()"
   ]
  },
  {
   "cell_type": "code",
   "execution_count": 0,
   "metadata": {
    "application/vnd.databricks.v1+cell": {
     "cellMetadata": {
      "byteLimit": 2048000,
      "rowLimit": 10000
     },
     "inputWidgets": {},
     "nuid": "6e359c97-f387-428b-bec3-99544573968d",
     "showTitle": false,
     "tableResultSettingsMap": {},
     "title": ""
    }
   },
   "outputs": [
    {
     "output_type": "stream",
     "name": "stdout",
     "output_type": "stream",
     "text": [
      "0:\tlearn: 0.6927757\ttest: 0.6928007\tbest: 0.6928007 (0)\ttotal: 142ms\tremaining: 2m 22s\n1:\tlearn: 0.6923418\ttest: 0.6924295\tbest: 0.6924295 (1)\ttotal: 235ms\tremaining: 1m 57s\n2:\tlearn: 0.6919514\ttest: 0.6920827\tbest: 0.6920827 (2)\ttotal: 332ms\tremaining: 1m 50s\n3:\tlearn: 0.6915638\ttest: 0.6917467\tbest: 0.6917467 (3)\ttotal: 428ms\tremaining: 1m 46s\n4:\tlearn: 0.6911936\ttest: 0.6914453\tbest: 0.6914453 (4)\ttotal: 532ms\tremaining: 1m 45s\n5:\tlearn: 0.6908080\ttest: 0.6911257\tbest: 0.6911257 (5)\ttotal: 624ms\tremaining: 1m 43s\n6:\tlearn: 0.6904173\ttest: 0.6907884\tbest: 0.6907884 (6)\ttotal: 719ms\tremaining: 1m 42s\n7:\tlearn: 0.6900714\ttest: 0.6905071\tbest: 0.6905071 (7)\ttotal: 812ms\tremaining: 1m 40s\n8:\tlearn: 0.6897292\ttest: 0.6902117\tbest: 0.6902117 (8)\ttotal: 906ms\tremaining: 1m 39s\n9:\tlearn: 0.6893842\ttest: 0.6899085\tbest: 0.6899085 (9)\ttotal: 1.01s\tremaining: 1m 39s\n10:\tlearn: 0.6890014\ttest: 0.6895788\tbest: 0.6895788 (10)\ttotal: 1.09s\tremaining: 1m 38s\n11:\tlearn: 0.6886690\ttest: 0.6893129\tbest: 0.6893129 (11)\ttotal: 1.2s\tremaining: 1m 38s\n12:\tlearn: 0.6883311\ttest: 0.6890403\tbest: 0.6890403 (12)\ttotal: 1.3s\tremaining: 1m 38s\n13:\tlearn: 0.6880141\ttest: 0.6887942\tbest: 0.6887942 (13)\ttotal: 1.4s\tremaining: 1m 38s\n14:\tlearn: 0.6876532\ttest: 0.6884813\tbest: 0.6884813 (14)\ttotal: 1.5s\tremaining: 1m 38s\n15:\tlearn: 0.6872909\ttest: 0.6881649\tbest: 0.6881649 (15)\ttotal: 1.61s\tremaining: 1m 38s\n16:\tlearn: 0.6869566\ttest: 0.6878900\tbest: 0.6878900 (16)\ttotal: 1.7s\tremaining: 1m 38s\n17:\tlearn: 0.6866249\ttest: 0.6876013\tbest: 0.6876013 (17)\ttotal: 1.8s\tremaining: 1m 38s\n18:\tlearn: 0.6863992\ttest: 0.6874100\tbest: 0.6874100 (18)\ttotal: 1.89s\tremaining: 1m 37s\n19:\tlearn: 0.6861109\ttest: 0.6871768\tbest: 0.6871768 (19)\ttotal: 1.98s\tremaining: 1m 37s\n20:\tlearn: 0.6857815\ttest: 0.6868917\tbest: 0.6868917 (20)\ttotal: 2.07s\tremaining: 1m 36s\n21:\tlearn: 0.6854412\ttest: 0.6866192\tbest: 0.6866192 (21)\ttotal: 2.16s\tremaining: 1m 36s\n22:\tlearn: 0.6851477\ttest: 0.6863759\tbest: 0.6863759 (22)\ttotal: 2.25s\tremaining: 1m 35s\n23:\tlearn: 0.6848449\ttest: 0.6861359\tbest: 0.6861359 (23)\ttotal: 2.35s\tremaining: 1m 35s\n24:\tlearn: 0.6845903\ttest: 0.6859084\tbest: 0.6859084 (24)\ttotal: 2.46s\tremaining: 1m 35s\n25:\tlearn: 0.6843205\ttest: 0.6856988\tbest: 0.6856988 (25)\ttotal: 2.56s\tremaining: 1m 35s\n26:\tlearn: 0.6840042\ttest: 0.6854597\tbest: 0.6854597 (26)\ttotal: 2.67s\tremaining: 1m 36s\n27:\tlearn: 0.6837363\ttest: 0.6852537\tbest: 0.6852537 (27)\ttotal: 2.78s\tremaining: 1m 36s\n28:\tlearn: 0.6834571\ttest: 0.6850267\tbest: 0.6850267 (28)\ttotal: 2.88s\tremaining: 1m 36s\n29:\tlearn: 0.6832137\ttest: 0.6848230\tbest: 0.6848230 (29)\ttotal: 2.98s\tremaining: 1m 36s\n30:\tlearn: 0.6829661\ttest: 0.6846262\tbest: 0.6846262 (30)\ttotal: 3.08s\tremaining: 1m 36s\n31:\tlearn: 0.6827181\ttest: 0.6844140\tbest: 0.6844140 (31)\ttotal: 3.17s\tremaining: 1m 36s\n32:\tlearn: 0.6824173\ttest: 0.6841618\tbest: 0.6841618 (32)\ttotal: 3.29s\tremaining: 1m 36s\n33:\tlearn: 0.6821621\ttest: 0.6839540\tbest: 0.6839540 (33)\ttotal: 3.38s\tremaining: 1m 36s\n34:\tlearn: 0.6819224\ttest: 0.6837600\tbest: 0.6837600 (34)\ttotal: 3.48s\tremaining: 1m 36s\n35:\tlearn: 0.6816860\ttest: 0.6835633\tbest: 0.6835633 (35)\ttotal: 3.57s\tremaining: 1m 35s\n36:\tlearn: 0.6814352\ttest: 0.6833534\tbest: 0.6833534 (36)\ttotal: 3.67s\tremaining: 1m 35s\n37:\tlearn: 0.6811946\ttest: 0.6831678\tbest: 0.6831678 (37)\ttotal: 3.76s\tremaining: 1m 35s\n38:\tlearn: 0.6809820\ttest: 0.6830033\tbest: 0.6830033 (38)\ttotal: 3.86s\tremaining: 1m 35s\n39:\tlearn: 0.6807533\ttest: 0.6828379\tbest: 0.6828379 (39)\ttotal: 3.95s\tremaining: 1m 34s\n40:\tlearn: 0.6805222\ttest: 0.6826753\tbest: 0.6826753 (40)\ttotal: 4.05s\tremaining: 1m 34s\n41:\tlearn: 0.6802832\ttest: 0.6824914\tbest: 0.6824914 (41)\ttotal: 4.16s\tremaining: 1m 34s\n42:\tlearn: 0.6800413\ttest: 0.6823019\tbest: 0.6823019 (42)\ttotal: 4.25s\tremaining: 1m 34s\n43:\tlearn: 0.6798165\ttest: 0.6821351\tbest: 0.6821351 (43)\ttotal: 4.35s\tremaining: 1m 34s\n44:\tlearn: 0.6796077\ttest: 0.6819758\tbest: 0.6819758 (44)\ttotal: 4.44s\tremaining: 1m 34s\n45:\tlearn: 0.6793780\ttest: 0.6818105\tbest: 0.6818105 (45)\ttotal: 4.54s\tremaining: 1m 34s\n46:\tlearn: 0.6791573\ttest: 0.6816423\tbest: 0.6816423 (46)\ttotal: 4.63s\tremaining: 1m 33s\n47:\tlearn: 0.6789443\ttest: 0.6814789\tbest: 0.6814789 (47)\ttotal: 4.72s\tremaining: 1m 33s\n48:\tlearn: 0.6787063\ttest: 0.6812992\tbest: 0.6812992 (48)\ttotal: 4.81s\tremaining: 1m 33s\n49:\tlearn: 0.6785229\ttest: 0.6811651\tbest: 0.6811651 (49)\ttotal: 4.91s\tremaining: 1m 33s\n50:\tlearn: 0.6783131\ttest: 0.6809873\tbest: 0.6809873 (50)\ttotal: 5s\tremaining: 1m 33s\n51:\tlearn: 0.6780911\ttest: 0.6808055\tbest: 0.6808055 (51)\ttotal: 5.1s\tremaining: 1m 32s\n52:\tlearn: 0.6778955\ttest: 0.6806467\tbest: 0.6806467 (52)\ttotal: 5.19s\tremaining: 1m 32s\n53:\tlearn: 0.6776717\ttest: 0.6804825\tbest: 0.6804825 (53)\ttotal: 5.29s\tremaining: 1m 32s\n54:\tlearn: 0.6774967\ttest: 0.6803584\tbest: 0.6803584 (54)\ttotal: 5.38s\tremaining: 1m 32s\n55:\tlearn: 0.6773157\ttest: 0.6802202\tbest: 0.6802202 (55)\ttotal: 5.47s\tremaining: 1m 32s\n56:\tlearn: 0.6771171\ttest: 0.6800746\tbest: 0.6800746 (56)\ttotal: 5.57s\tremaining: 1m 32s\n57:\tlearn: 0.6769200\ttest: 0.6799224\tbest: 0.6799224 (57)\ttotal: 5.66s\tremaining: 1m 31s\n58:\tlearn: 0.6767378\ttest: 0.6797777\tbest: 0.6797777 (58)\ttotal: 5.75s\tremaining: 1m 31s\n59:\tlearn: 0.6765646\ttest: 0.6796301\tbest: 0.6796301 (59)\ttotal: 5.85s\tremaining: 1m 31s\n60:\tlearn: 0.6763660\ttest: 0.6794726\tbest: 0.6794726 (60)\ttotal: 5.94s\tremaining: 1m 31s\n61:\tlearn: 0.6761977\ttest: 0.6793355\tbest: 0.6793355 (61)\ttotal: 6.03s\tremaining: 1m 31s\n62:\tlearn: 0.6760002\ttest: 0.6791908\tbest: 0.6791908 (62)\ttotal: 6.14s\tremaining: 1m 31s\n63:\tlearn: 0.6758301\ttest: 0.6790553\tbest: 0.6790553 (63)\ttotal: 6.26s\tremaining: 1m 31s\n64:\tlearn: 0.6756769\ttest: 0.6789412\tbest: 0.6789412 (64)\ttotal: 6.35s\tremaining: 1m 31s\n65:\tlearn: 0.6755122\ttest: 0.6788231\tbest: 0.6788231 (65)\ttotal: 6.45s\tremaining: 1m 31s\n66:\tlearn: 0.6753466\ttest: 0.6786980\tbest: 0.6786980 (66)\ttotal: 6.54s\tremaining: 1m 31s\n67:\tlearn: 0.6751913\ttest: 0.6785775\tbest: 0.6785775 (67)\ttotal: 6.64s\tremaining: 1m 30s\n68:\tlearn: 0.6750242\ttest: 0.6784449\tbest: 0.6784449 (68)\ttotal: 6.73s\tremaining: 1m 30s\n69:\tlearn: 0.6748503\ttest: 0.6783239\tbest: 0.6783239 (69)\ttotal: 6.82s\tremaining: 1m 30s\n70:\tlearn: 0.6746910\ttest: 0.6782275\tbest: 0.6782275 (70)\ttotal: 6.92s\tremaining: 1m 30s\n71:\tlearn: 0.6745485\ttest: 0.6781236\tbest: 0.6781236 (71)\ttotal: 7.01s\tremaining: 1m 30s\n72:\tlearn: 0.6744152\ttest: 0.6780281\tbest: 0.6780281 (72)\ttotal: 7.1s\tremaining: 1m 30s\n73:\tlearn: 0.6742389\ttest: 0.6778838\tbest: 0.6778838 (73)\ttotal: 7.2s\tremaining: 1m 30s\n74:\tlearn: 0.6740897\ttest: 0.6777841\tbest: 0.6777841 (74)\ttotal: 7.29s\tremaining: 1m 29s\n75:\tlearn: 0.6739383\ttest: 0.6776877\tbest: 0.6776877 (75)\ttotal: 7.4s\tremaining: 1m 29s\n76:\tlearn: 0.6737607\ttest: 0.6775619\tbest: 0.6775619 (76)\ttotal: 7.51s\tremaining: 1m 30s\n77:\tlearn: 0.6736220\ttest: 0.6774628\tbest: 0.6774628 (77)\ttotal: 7.61s\tremaining: 1m 29s\n78:\tlearn: 0.6734687\ttest: 0.6773548\tbest: 0.6773548 (78)\ttotal: 7.71s\tremaining: 1m 29s\n79:\tlearn: 0.6733293\ttest: 0.6772534\tbest: 0.6772534 (79)\ttotal: 7.8s\tremaining: 1m 29s\n80:\tlearn: 0.6732082\ttest: 0.6771471\tbest: 0.6771471 (80)\ttotal: 7.89s\tremaining: 1m 29s\n81:\tlearn: 0.6730809\ttest: 0.6770688\tbest: 0.6770688 (81)\ttotal: 7.98s\tremaining: 1m 29s\n82:\tlearn: 0.6729207\ttest: 0.6769536\tbest: 0.6769536 (82)\ttotal: 8.07s\tremaining: 1m 29s\n83:\tlearn: 0.6727845\ttest: 0.6768698\tbest: 0.6768698 (83)\ttotal: 8.17s\tremaining: 1m 29s\n84:\tlearn: 0.6726418\ttest: 0.6767691\tbest: 0.6767691 (84)\ttotal: 8.26s\tremaining: 1m 28s\n85:\tlearn: 0.6724684\ttest: 0.6766355\tbest: 0.6766355 (85)\ttotal: 8.37s\tremaining: 1m 28s\n86:\tlearn: 0.6723244\ttest: 0.6765487\tbest: 0.6765487 (86)\ttotal: 8.47s\tremaining: 1m 28s\n87:\tlearn: 0.6722134\ttest: 0.6764636\tbest: 0.6764636 (87)\ttotal: 8.56s\tremaining: 1m 28s\n88:\tlearn: 0.6720804\ttest: 0.6763786\tbest: 0.6763786 (88)\ttotal: 8.65s\tremaining: 1m 28s\n89:\tlearn: 0.6719386\ttest: 0.6762859\tbest: 0.6762859 (89)\ttotal: 8.75s\tremaining: 1m 28s\n90:\tlearn: 0.6718062\ttest: 0.6761896\tbest: 0.6761896 (90)\ttotal: 8.84s\tremaining: 1m 28s\n91:\tlearn: 0.6716771\ttest: 0.6760997\tbest: 0.6760997 (91)\ttotal: 8.94s\tremaining: 1m 28s\n92:\tlearn: 0.6715408\ttest: 0.6759878\tbest: 0.6759878 (92)\ttotal: 9.03s\tremaining: 1m 28s\n93:\tlearn: 0.6714297\ttest: 0.6758976\tbest: 0.6758976 (93)\ttotal: 9.12s\tremaining: 1m 27s\n94:\tlearn: 0.6713063\ttest: 0.6758228\tbest: 0.6758228 (94)\ttotal: 9.21s\tremaining: 1m 27s\n95:\tlearn: 0.6712115\ttest: 0.6757539\tbest: 0.6757539 (95)\ttotal: 9.31s\tremaining: 1m 27s\n96:\tlearn: 0.6710827\ttest: 0.6756793\tbest: 0.6756793 (96)\ttotal: 9.41s\tremaining: 1m 27s\n97:\tlearn: 0.6709691\ttest: 0.6756065\tbest: 0.6756065 (97)\ttotal: 9.51s\tremaining: 1m 27s\n98:\tlearn: 0.6708816\ttest: 0.6755495\tbest: 0.6755495 (98)\ttotal: 9.6s\tremaining: 1m 27s\n99:\tlearn: 0.6707436\ttest: 0.6754599\tbest: 0.6754599 (99)\ttotal: 9.7s\tremaining: 1m 27s\n100:\tlearn: 0.6706112\ttest: 0.6753613\tbest: 0.6753613 (100)\ttotal: 9.79s\tremaining: 1m 27s\n101:\tlearn: 0.6704798\ttest: 0.6752545\tbest: 0.6752545 (101)\ttotal: 9.89s\tremaining: 1m 27s\n102:\tlearn: 0.6703457\ttest: 0.6751522\tbest: 0.6751522 (102)\ttotal: 9.98s\tremaining: 1m 26s\n103:\tlearn: 0.6702334\ttest: 0.6750762\tbest: 0.6750762 (103)\ttotal: 10.1s\tremaining: 1m 26s\n104:\tlearn: 0.6701343\ttest: 0.6749995\tbest: 0.6749995 (104)\ttotal: 10.2s\tremaining: 1m 26s\n105:\tlearn: 0.6700148\ttest: 0.6749300\tbest: 0.6749300 (105)\ttotal: 10.3s\tremaining: 1m 26s\n106:\tlearn: 0.6698975\ttest: 0.6748543\tbest: 0.6748543 (106)\ttotal: 10.4s\tremaining: 1m 26s\n107:\tlearn: 0.6697735\ttest: 0.6747800\tbest: 0.6747800 (107)\ttotal: 10.5s\tremaining: 1m 26s\n108:\tlearn: 0.6696652\ttest: 0.6747084\tbest: 0.6747084 (108)\ttotal: 10.6s\tremaining: 1m 26s\n109:\tlearn: 0.6695668\ttest: 0.6746647\tbest: 0.6746647 (109)\ttotal: 10.6s\tremaining: 1m 26s\n110:\tlearn: 0.6694474\ttest: 0.6745804\tbest: 0.6745804 (110)\ttotal: 10.8s\tremaining: 1m 26s\n111:\tlearn: 0.6693614\ttest: 0.6745138\tbest: 0.6745138 (111)\ttotal: 10.8s\tremaining: 1m 26s\n112:\tlearn: 0.6692490\ttest: 0.6744562\tbest: 0.6744562 (112)\ttotal: 10.9s\tremaining: 1m 25s\n113:\tlearn: 0.6691028\ttest: 0.6743631\tbest: 0.6743631 (113)\ttotal: 11.1s\tremaining: 1m 25s\n114:\tlearn: 0.6689966\ttest: 0.6743092\tbest: 0.6743092 (114)\ttotal: 11.1s\tremaining: 1m 25s\n115:\tlearn: 0.6689069\ttest: 0.6742346\tbest: 0.6742346 (115)\ttotal: 11.2s\tremaining: 1m 25s\n116:\tlearn: 0.6688131\ttest: 0.6741676\tbest: 0.6741676 (116)\ttotal: 11.3s\tremaining: 1m 25s\n117:\tlearn: 0.6687018\ttest: 0.6740883\tbest: 0.6740883 (117)\ttotal: 11.5s\tremaining: 1m 25s\n118:\tlearn: 0.6685936\ttest: 0.6740060\tbest: 0.6740060 (118)\ttotal: 11.5s\tremaining: 1m 25s\n119:\tlearn: 0.6684804\ttest: 0.6739360\tbest: 0.6739360 (119)\ttotal: 11.6s\tremaining: 1m 25s\n120:\tlearn: 0.6683672\ttest: 0.6738807\tbest: 0.6738807 (120)\ttotal: 11.7s\tremaining: 1m 25s\n121:\tlearn: 0.6682648\ttest: 0.6738222\tbest: 0.6738222 (121)\ttotal: 11.9s\tremaining: 1m 25s\n122:\tlearn: 0.6681654\ttest: 0.6737515\tbest: 0.6737515 (122)\ttotal: 12s\tremaining: 1m 25s\n123:\tlearn: 0.6680580\ttest: 0.6736883\tbest: 0.6736883 (123)\ttotal: 12.1s\tremaining: 1m 25s\n124:\tlearn: 0.6679675\ttest: 0.6736278\tbest: 0.6736278 (124)\ttotal: 12.2s\tremaining: 1m 25s\n125:\tlearn: 0.6678523\ttest: 0.6735477\tbest: 0.6735477 (125)\ttotal: 12.3s\tremaining: 1m 25s\n126:\tlearn: 0.6677532\ttest: 0.6735030\tbest: 0.6735030 (126)\ttotal: 12.5s\tremaining: 1m 25s\n127:\tlearn: 0.6676377\ttest: 0.6734490\tbest: 0.6734490 (127)\ttotal: 12.6s\tremaining: 1m 25s\n128:\tlearn: 0.6675364\ttest: 0.6733876\tbest: 0.6733876 (128)\ttotal: 12.7s\tremaining: 1m 25s\n129:\tlearn: 0.6674426\ttest: 0.6733358\tbest: 0.6733358 (129)\ttotal: 12.8s\tremaining: 1m 25s\n130:\tlearn: 0.6673573\ttest: 0.6732750\tbest: 0.6732750 (130)\ttotal: 12.9s\tremaining: 1m 25s\n131:\tlearn: 0.6672707\ttest: 0.6732148\tbest: 0.6732148 (131)\ttotal: 13.1s\tremaining: 1m 25s\n132:\tlearn: 0.6671600\ttest: 0.6731408\tbest: 0.6731408 (132)\ttotal: 13.2s\tremaining: 1m 25s\n133:\tlearn: 0.6670705\ttest: 0.6730924\tbest: 0.6730924 (133)\ttotal: 13.3s\tremaining: 1m 25s\n134:\tlearn: 0.6669783\ttest: 0.6730326\tbest: 0.6730326 (134)\ttotal: 13.4s\tremaining: 1m 25s\n135:\tlearn: 0.6669019\ttest: 0.6729944\tbest: 0.6729944 (135)\ttotal: 13.5s\tremaining: 1m 25s\n136:\tlearn: 0.6668137\ttest: 0.6729497\tbest: 0.6729497 (136)\ttotal: 13.6s\tremaining: 1m 25s\n137:\tlearn: 0.6667139\ttest: 0.6728919\tbest: 0.6728919 (137)\ttotal: 13.7s\tremaining: 1m 25s\n138:\tlearn: 0.6665988\ttest: 0.6728151\tbest: 0.6728151 (138)\ttotal: 13.7s\tremaining: 1m 25s\n139:\tlearn: 0.6665041\ttest: 0.6727482\tbest: 0.6727482 (139)\ttotal: 13.8s\tremaining: 1m 25s\n140:\tlearn: 0.6663948\ttest: 0.6726846\tbest: 0.6726846 (140)\ttotal: 13.9s\tremaining: 1m 24s\n141:\tlearn: 0.6663273\ttest: 0.6726338\tbest: 0.6726338 (141)\ttotal: 14s\tremaining: 1m 24s\n142:\tlearn: 0.6662411\ttest: 0.6725816\tbest: 0.6725816 (142)\ttotal: 14.1s\tremaining: 1m 24s\n143:\tlearn: 0.6661709\ttest: 0.6725417\tbest: 0.6725417 (143)\ttotal: 14.2s\tremaining: 1m 24s\n144:\tlearn: 0.6660581\ttest: 0.6724861\tbest: 0.6724861 (144)\ttotal: 14.3s\tremaining: 1m 24s\n145:\tlearn: 0.6659843\ttest: 0.6724343\tbest: 0.6724343 (145)\ttotal: 14.4s\tremaining: 1m 24s\n146:\tlearn: 0.6658777\ttest: 0.6723811\tbest: 0.6723811 (146)\ttotal: 14.5s\tremaining: 1m 24s\n147:\tlearn: 0.6657587\ttest: 0.6723068\tbest: 0.6723068 (147)\ttotal: 14.6s\tremaining: 1m 24s\n148:\tlearn: 0.6656851\ttest: 0.6722628\tbest: 0.6722628 (148)\ttotal: 14.7s\tremaining: 1m 24s\n149:\tlearn: 0.6655969\ttest: 0.6722189\tbest: 0.6722189 (149)\ttotal: 14.8s\tremaining: 1m 23s\n150:\tlearn: 0.6655013\ttest: 0.6721603\tbest: 0.6721603 (150)\ttotal: 15s\tremaining: 1m 24s\n151:\tlearn: 0.6654017\ttest: 0.6721152\tbest: 0.6721152 (151)\ttotal: 15.1s\tremaining: 1m 24s\n152:\tlearn: 0.6652990\ttest: 0.6720621\tbest: 0.6720621 (152)\ttotal: 15.2s\tremaining: 1m 24s\n153:\tlearn: 0.6652085\ttest: 0.6719964\tbest: 0.6719964 (153)\ttotal: 15.3s\tremaining: 1m 24s\n154:\tlearn: 0.6651185\ttest: 0.6719560\tbest: 0.6719560 (154)\ttotal: 15.4s\tremaining: 1m 23s\n155:\tlearn: 0.6650506\ttest: 0.6719109\tbest: 0.6719109 (155)\ttotal: 15.5s\tremaining: 1m 23s\n156:\tlearn: 0.6649635\ttest: 0.6718513\tbest: 0.6718513 (156)\ttotal: 15.6s\tremaining: 1m 23s\n157:\tlearn: 0.6648899\ttest: 0.6718191\tbest: 0.6718191 (157)\ttotal: 15.7s\tremaining: 1m 23s\n158:\tlearn: 0.6648206\ttest: 0.6717687\tbest: 0.6717687 (158)\ttotal: 15.8s\tremaining: 1m 23s\n159:\tlearn: 0.6647076\ttest: 0.6716976\tbest: 0.6716976 (159)\ttotal: 16s\tremaining: 1m 23s\n160:\tlearn: 0.6646394\ttest: 0.6716475\tbest: 0.6716475 (160)\ttotal: 16.1s\tremaining: 1m 23s\n161:\tlearn: 0.6645665\ttest: 0.6716106\tbest: 0.6716106 (161)\ttotal: 16.2s\tremaining: 1m 23s\n162:\tlearn: 0.6644880\ttest: 0.6715691\tbest: 0.6715691 (162)\ttotal: 16.3s\tremaining: 1m 23s\n163:\tlearn: 0.6643999\ttest: 0.6715202\tbest: 0.6715202 (163)\ttotal: 16.4s\tremaining: 1m 23s\n164:\tlearn: 0.6643047\ttest: 0.6714703\tbest: 0.6714703 (164)\ttotal: 16.5s\tremaining: 1m 23s\n165:\tlearn: 0.6642223\ttest: 0.6714341\tbest: 0.6714341 (165)\ttotal: 16.6s\tremaining: 1m 23s\n166:\tlearn: 0.6641411\ttest: 0.6714004\tbest: 0.6714004 (166)\ttotal: 16.6s\tremaining: 1m 23s\n167:\tlearn: 0.6640444\ttest: 0.6713464\tbest: 0.6713464 (167)\ttotal: 16.7s\tremaining: 1m 22s\n168:\tlearn: 0.6639814\ttest: 0.6713221\tbest: 0.6713221 (168)\ttotal: 16.9s\tremaining: 1m 22s\n169:\tlearn: 0.6638961\ttest: 0.6712784\tbest: 0.6712784 (169)\ttotal: 16.9s\tremaining: 1m 22s\n170:\tlearn: 0.6638109\ttest: 0.6712307\tbest: 0.6712307 (170)\ttotal: 17s\tremaining: 1m 22s\n171:\tlearn: 0.6637218\ttest: 0.6711786\tbest: 0.6711786 (171)\ttotal: 17.2s\tremaining: 1m 22s\n172:\tlearn: 0.6636438\ttest: 0.6711274\tbest: 0.6711274 (172)\ttotal: 17.3s\tremaining: 1m 22s\n173:\tlearn: 0.6635861\ttest: 0.6710953\tbest: 0.6710953 (173)\ttotal: 17.4s\tremaining: 1m 22s\n174:\tlearn: 0.6635074\ttest: 0.6710576\tbest: 0.6710576 (174)\ttotal: 17.5s\tremaining: 1m 22s\n175:\tlearn: 0.6634390\ttest: 0.6710256\tbest: 0.6710256 (175)\ttotal: 17.6s\tremaining: 1m 22s\n176:\tlearn: 0.6633631\ttest: 0.6709850\tbest: 0.6709850 (176)\ttotal: 17.7s\tremaining: 1m 22s\n177:\tlearn: 0.6632839\ttest: 0.6709327\tbest: 0.6709327 (177)\ttotal: 17.8s\tremaining: 1m 22s\n178:\tlearn: 0.6632212\ttest: 0.6708931\tbest: 0.6708931 (178)\ttotal: 17.9s\tremaining: 1m 21s\n179:\tlearn: 0.6631417\ttest: 0.6708518\tbest: 0.6708518 (179)\ttotal: 18s\tremaining: 1m 21s\n180:\tlearn: 0.6630648\ttest: 0.6708110\tbest: 0.6708110 (180)\ttotal: 18.1s\tremaining: 1m 21s\n181:\tlearn: 0.6630118\ttest: 0.6707891\tbest: 0.6707891 (181)\ttotal: 18.2s\tremaining: 1m 21s\n182:\tlearn: 0.6629340\ttest: 0.6707527\tbest: 0.6707527 (182)\ttotal: 18.2s\tremaining: 1m 21s\n183:\tlearn: 0.6628563\ttest: 0.6707162\tbest: 0.6707162 (183)\ttotal: 18.4s\tremaining: 1m 21s\n184:\tlearn: 0.6627881\ttest: 0.6706714\tbest: 0.6706714 (184)\ttotal: 18.5s\tremaining: 1m 21s\n185:\tlearn: 0.6627333\ttest: 0.6706343\tbest: 0.6706343 (185)\ttotal: 18.6s\tremaining: 1m 21s\n186:\tlearn: 0.6626610\ttest: 0.6706014\tbest: 0.6706014 (186)\ttotal: 18.7s\tremaining: 1m 21s\n187:\tlearn: 0.6625966\ttest: 0.6705694\tbest: 0.6705694 (187)\ttotal: 18.8s\tremaining: 1m 21s\n188:\tlearn: 0.6625430\ttest: 0.6705427\tbest: 0.6705427 (188)\ttotal: 18.8s\tremaining: 1m 20s\n189:\tlearn: 0.6624626\ttest: 0.6705156\tbest: 0.6705156 (189)\ttotal: 19s\tremaining: 1m 20s\n190:\tlearn: 0.6624063\ttest: 0.6704930\tbest: 0.6704930 (190)\ttotal: 19.1s\tremaining: 1m 20s\n191:\tlearn: 0.6623212\ttest: 0.6704530\tbest: 0.6704530 (191)\ttotal: 19.2s\tremaining: 1m 20s\n192:\tlearn: 0.6622476\ttest: 0.6704113\tbest: 0.6704113 (192)\ttotal: 19.3s\tremaining: 1m 20s\n193:\tlearn: 0.6621678\ttest: 0.6703549\tbest: 0.6703549 (193)\ttotal: 19.4s\tremaining: 1m 20s\n194:\tlearn: 0.6620973\ttest: 0.6703236\tbest: 0.6703236 (194)\ttotal: 19.4s\tremaining: 1m 20s\n195:\tlearn: 0.6620287\ttest: 0.6702735\tbest: 0.6702735 (195)\ttotal: 19.5s\tremaining: 1m 20s\n196:\tlearn: 0.6619408\ttest: 0.6702376\tbest: 0.6702376 (196)\ttotal: 19.6s\tremaining: 1m 20s\n197:\tlearn: 0.6618782\ttest: 0.6702114\tbest: 0.6702114 (197)\ttotal: 19.7s\tremaining: 1m 19s\n198:\tlearn: 0.6618140\ttest: 0.6701730\tbest: 0.6701730 (198)\ttotal: 19.8s\tremaining: 1m 19s\n199:\tlearn: 0.6617645\ttest: 0.6701692\tbest: 0.6701692 (199)\ttotal: 19.9s\tremaining: 1m 19s\n200:\tlearn: 0.6617148\ttest: 0.6701418\tbest: 0.6701418 (200)\ttotal: 20s\tremaining: 1m 19s\n201:\tlearn: 0.6616587\ttest: 0.6701302\tbest: 0.6701302 (201)\ttotal: 20.1s\tremaining: 1m 19s\n202:\tlearn: 0.6615790\ttest: 0.6701020\tbest: 0.6701020 (202)\ttotal: 20.2s\tremaining: 1m 19s\n203:\tlearn: 0.6615071\ttest: 0.6700758\tbest: 0.6700758 (203)\ttotal: 20.3s\tremaining: 1m 19s\n204:\tlearn: 0.6614358\ttest: 0.6700356\tbest: 0.6700356 (204)\ttotal: 20.4s\tremaining: 1m 19s\n205:\tlearn: 0.6613629\ttest: 0.6699957\tbest: 0.6699957 (205)\ttotal: 20.5s\tremaining: 1m 18s\n206:\tlearn: 0.6612978\ttest: 0.6699736\tbest: 0.6699736 (206)\ttotal: 20.6s\tremaining: 1m 18s\n207:\tlearn: 0.6612102\ttest: 0.6699270\tbest: 0.6699270 (207)\ttotal: 20.7s\tremaining: 1m 18s\n208:\tlearn: 0.6611600\ttest: 0.6699014\tbest: 0.6699014 (208)\ttotal: 20.8s\tremaining: 1m 18s\n209:\tlearn: 0.6611047\ttest: 0.6698694\tbest: 0.6698694 (209)\ttotal: 20.9s\tremaining: 1m 18s\n210:\tlearn: 0.6610557\ttest: 0.6698492\tbest: 0.6698492 (210)\ttotal: 21s\tremaining: 1m 18s\n211:\tlearn: 0.6610011\ttest: 0.6698172\tbest: 0.6698172 (211)\ttotal: 21.1s\tremaining: 1m 18s\n212:\tlearn: 0.6609258\ttest: 0.6697807\tbest: 0.6697807 (212)\ttotal: 21.2s\tremaining: 1m 18s\n213:\tlearn: 0.6608720\ttest: 0.6697456\tbest: 0.6697456 (213)\ttotal: 21.3s\tremaining: 1m 18s\n214:\tlearn: 0.6607930\ttest: 0.6697068\tbest: 0.6697068 (214)\ttotal: 21.4s\tremaining: 1m 18s\n215:\tlearn: 0.6607359\ttest: 0.6696849\tbest: 0.6696849 (215)\ttotal: 21.5s\tremaining: 1m 18s\n216:\tlearn: 0.6606812\ttest: 0.6696625\tbest: 0.6696625 (216)\ttotal: 21.6s\tremaining: 1m 17s\n217:\tlearn: 0.6606239\ttest: 0.6696472\tbest: 0.6696472 (217)\ttotal: 21.7s\tremaining: 1m 17s\n218:\tlearn: 0.6605667\ttest: 0.6696139\tbest: 0.6696139 (218)\ttotal: 21.8s\tremaining: 1m 17s\n219:\tlearn: 0.6605022\ttest: 0.6695797\tbest: 0.6695797 (219)\ttotal: 21.9s\tremaining: 1m 17s\n220:\tlearn: 0.6604312\ttest: 0.6695500\tbest: 0.6695500 (220)\ttotal: 22s\tremaining: 1m 17s\n221:\tlearn: 0.6603651\ttest: 0.6695333\tbest: 0.6695333 (221)\ttotal: 22.1s\tremaining: 1m 17s\n222:\tlearn: 0.6602994\ttest: 0.6695232\tbest: 0.6695232 (222)\ttotal: 22.2s\tremaining: 1m 17s\n223:\tlearn: 0.6602429\ttest: 0.6694957\tbest: 0.6694957 (223)\ttotal: 22.3s\tremaining: 1m 17s\n224:\tlearn: 0.6601770\ttest: 0.6694723\tbest: 0.6694723 (224)\ttotal: 22.5s\tremaining: 1m 17s\n225:\tlearn: 0.6601258\ttest: 0.6694630\tbest: 0.6694630 (225)\ttotal: 22.5s\tremaining: 1m 17s\n226:\tlearn: 0.6600688\ttest: 0.6694481\tbest: 0.6694481 (226)\ttotal: 22.6s\tremaining: 1m 17s\n227:\tlearn: 0.6600174\ttest: 0.6694299\tbest: 0.6694299 (227)\ttotal: 22.7s\tremaining: 1m 16s\n228:\tlearn: 0.6599443\ttest: 0.6693943\tbest: 0.6693943 (228)\ttotal: 22.8s\tremaining: 1m 16s\n229:\tlearn: 0.6598690\ttest: 0.6693534\tbest: 0.6693534 (229)\ttotal: 22.9s\tremaining: 1m 16s\n230:\tlearn: 0.6598009\ttest: 0.6693257\tbest: 0.6693257 (230)\ttotal: 23s\tremaining: 1m 16s\n231:\tlearn: 0.6597499\ttest: 0.6693113\tbest: 0.6693113 (231)\ttotal: 23.1s\tremaining: 1m 16s\n232:\tlearn: 0.6596778\ttest: 0.6692818\tbest: 0.6692818 (232)\ttotal: 23.2s\tremaining: 1m 16s\n233:\tlearn: 0.6596065\ttest: 0.6692485\tbest: 0.6692485 (233)\ttotal: 23.3s\tremaining: 1m 16s\n234:\tlearn: 0.6595287\ttest: 0.6692282\tbest: 0.6692282 (234)\ttotal: 23.4s\tremaining: 1m 16s\n235:\tlearn: 0.6594674\ttest: 0.6691977\tbest: 0.6691977 (235)\ttotal: 23.5s\tremaining: 1m 16s\n236:\tlearn: 0.6593990\ttest: 0.6691812\tbest: 0.6691812 (236)\ttotal: 23.6s\tremaining: 1m 15s\n237:\tlearn: 0.6593334\ttest: 0.6691327\tbest: 0.6691327 (237)\ttotal: 23.7s\tremaining: 1m 15s\n238:\tlearn: 0.6592486\ttest: 0.6690938\tbest: 0.6690938 (238)\ttotal: 23.8s\tremaining: 1m 15s\n239:\tlearn: 0.6592025\ttest: 0.6690872\tbest: 0.6690872 (239)\ttotal: 23.9s\tremaining: 1m 15s\n240:\tlearn: 0.6591439\ttest: 0.6690640\tbest: 0.6690640 (240)\ttotal: 24s\tremaining: 1m 15s\n241:\tlearn: 0.6590993\ttest: 0.6690558\tbest: 0.6690558 (241)\ttotal: 24.1s\tremaining: 1m 15s\n242:\tlearn: 0.6590371\ttest: 0.6690250\tbest: 0.6690250 (242)\ttotal: 24.2s\tremaining: 1m 15s\n243:\tlearn: 0.6589784\ttest: 0.6690007\tbest: 0.6690007 (243)\ttotal: 24.3s\tremaining: 1m 15s\n244:\tlearn: 0.6589178\ttest: 0.6689709\tbest: 0.6689709 (244)\ttotal: 24.4s\tremaining: 1m 15s\n245:\tlearn: 0.6588585\ttest: 0.6689510\tbest: 0.6689510 (245)\ttotal: 24.5s\tremaining: 1m 15s\n246:\tlearn: 0.6588045\ttest: 0.6689175\tbest: 0.6689175 (246)\ttotal: 24.6s\tremaining: 1m 15s\n247:\tlearn: 0.6587423\ttest: 0.6688820\tbest: 0.6688820 (247)\ttotal: 24.7s\tremaining: 1m 14s\n248:\tlearn: 0.6586758\ttest: 0.6688624\tbest: 0.6688624 (248)\ttotal: 24.8s\tremaining: 1m 14s\n249:\tlearn: 0.6586279\ttest: 0.6688389\tbest: 0.6688389 (249)\ttotal: 24.9s\tremaining: 1m 14s\n250:\tlearn: 0.6585754\ttest: 0.6688164\tbest: 0.6688164 (250)\ttotal: 25s\tremaining: 1m 14s\n251:\tlearn: 0.6585193\ttest: 0.6688033\tbest: 0.6688033 (251)\ttotal: 25.1s\tremaining: 1m 14s\n252:\tlearn: 0.6584642\ttest: 0.6687692\tbest: 0.6687692 (252)\ttotal: 25.2s\tremaining: 1m 14s\n253:\tlearn: 0.6583956\ttest: 0.6687284\tbest: 0.6687284 (253)\ttotal: 25.3s\tremaining: 1m 14s\n254:\tlearn: 0.6583363\ttest: 0.6687019\tbest: 0.6687019 (254)\ttotal: 25.3s\tremaining: 1m 14s\n255:\tlearn: 0.6582697\ttest: 0.6686918\tbest: 0.6686918 (255)\ttotal: 25.4s\tremaining: 1m 13s\n256:\tlearn: 0.6582197\ttest: 0.6686723\tbest: 0.6686723 (256)\ttotal: 25.5s\tremaining: 1m 13s\n257:\tlearn: 0.6581743\ttest: 0.6686474\tbest: 0.6686474 (257)\ttotal: 25.6s\tremaining: 1m 13s\n258:\tlearn: 0.6581206\ttest: 0.6686175\tbest: 0.6686175 (258)\ttotal: 25.7s\tremaining: 1m 13s\n259:\tlearn: 0.6580631\ttest: 0.6686038\tbest: 0.6686038 (259)\ttotal: 25.8s\tremaining: 1m 13s\n260:\tlearn: 0.6580031\ttest: 0.6685757\tbest: 0.6685757 (260)\ttotal: 25.9s\tremaining: 1m 13s\n261:\tlearn: 0.6579335\ttest: 0.6685612\tbest: 0.6685612 (261)\ttotal: 26s\tremaining: 1m 13s\n262:\tlearn: 0.6578767\ttest: 0.6685451\tbest: 0.6685451 (262)\ttotal: 26.1s\tremaining: 1m 13s\n263:\tlearn: 0.6578317\ttest: 0.6685213\tbest: 0.6685213 (263)\ttotal: 26.2s\tremaining: 1m 13s\n264:\tlearn: 0.6577799\ttest: 0.6685041\tbest: 0.6685041 (264)\ttotal: 26.3s\tremaining: 1m 12s\n265:\tlearn: 0.6577110\ttest: 0.6684741\tbest: 0.6684741 (265)\ttotal: 26.4s\tremaining: 1m 12s\n266:\tlearn: 0.6576682\ttest: 0.6684519\tbest: 0.6684519 (266)\ttotal: 26.5s\tremaining: 1m 12s\n267:\tlearn: 0.6576201\ttest: 0.6684427\tbest: 0.6684427 (267)\ttotal: 26.6s\tremaining: 1m 12s\n268:\tlearn: 0.6575453\ttest: 0.6684326\tbest: 0.6684326 (268)\ttotal: 26.7s\tremaining: 1m 12s\n269:\tlearn: 0.6574930\ttest: 0.6684106\tbest: 0.6684106 (269)\ttotal: 26.8s\tremaining: 1m 12s\n270:\tlearn: 0.6574407\ttest: 0.6683929\tbest: 0.6683929 (270)\ttotal: 26.9s\tremaining: 1m 12s\n271:\tlearn: 0.6574167\ttest: 0.6683872\tbest: 0.6683872 (271)\ttotal: 27s\tremaining: 1m 12s\n272:\tlearn: 0.6573744\ttest: 0.6683714\tbest: 0.6683714 (272)\ttotal: 27.1s\tremaining: 1m 12s\n273:\tlearn: 0.6573216\ttest: 0.6683562\tbest: 0.6683562 (273)\ttotal: 27.2s\tremaining: 1m 11s\n274:\tlearn: 0.6572683\ttest: 0.6683436\tbest: 0.6683436 (274)\ttotal: 27.3s\tremaining: 1m 11s\n275:\tlearn: 0.6572263\ttest: 0.6683276\tbest: 0.6683276 (275)\ttotal: 27.4s\tremaining: 1m 11s\n276:\tlearn: 0.6571798\ttest: 0.6683056\tbest: 0.6683056 (276)\ttotal: 27.5s\tremaining: 1m 11s\n277:\tlearn: 0.6571129\ttest: 0.6682791\tbest: 0.6682791 (277)\ttotal: 27.6s\tremaining: 1m 11s\n278:\tlearn: 0.6570640\ttest: 0.6682610\tbest: 0.6682610 (278)\ttotal: 27.7s\tremaining: 1m 11s\n279:\tlearn: 0.6570021\ttest: 0.6682490\tbest: 0.6682490 (279)\ttotal: 27.8s\tremaining: 1m 11s\n280:\tlearn: 0.6569605\ttest: 0.6682354\tbest: 0.6682354 (280)\ttotal: 27.9s\tremaining: 1m 11s\n281:\tlearn: 0.6569036\ttest: 0.6682377\tbest: 0.6682354 (280)\ttotal: 28s\tremaining: 1m 11s\n282:\tlearn: 0.6568594\ttest: 0.6682266\tbest: 0.6682266 (282)\ttotal: 28.1s\tremaining: 1m 11s\n283:\tlearn: 0.6567919\ttest: 0.6682188\tbest: 0.6682188 (283)\ttotal: 28.2s\tremaining: 1m 11s\n284:\tlearn: 0.6567399\ttest: 0.6682076\tbest: 0.6682076 (284)\ttotal: 28.3s\tremaining: 1m 10s\n285:\tlearn: 0.6566941\ttest: 0.6681926\tbest: 0.6681926 (285)\ttotal: 28.4s\tremaining: 1m 10s\n286:\tlearn: 0.6566065\ttest: 0.6681652\tbest: 0.6681652 (286)\ttotal: 28.5s\tremaining: 1m 10s\n287:\tlearn: 0.6565561\ttest: 0.6681387\tbest: 0.6681387 (287)\ttotal: 28.6s\tremaining: 1m 10s\n288:\tlearn: 0.6564981\ttest: 0.6681352\tbest: 0.6681352 (288)\ttotal: 28.7s\tremaining: 1m 10s\n289:\tlearn: 0.6564460\ttest: 0.6681253\tbest: 0.6681253 (289)\ttotal: 28.8s\tremaining: 1m 10s\n290:\tlearn: 0.6563835\ttest: 0.6680992\tbest: 0.6680992 (290)\ttotal: 28.9s\tremaining: 1m 10s\n291:\tlearn: 0.6563286\ttest: 0.6680838\tbest: 0.6680838 (291)\ttotal: 28.9s\tremaining: 1m 10s\n292:\tlearn: 0.6562712\ttest: 0.6680801\tbest: 0.6680801 (292)\ttotal: 29s\tremaining: 1m 10s\n293:\tlearn: 0.6562241\ttest: 0.6680629\tbest: 0.6680629 (293)\ttotal: 29.1s\tremaining: 1m 9s\n294:\tlearn: 0.6561713\ttest: 0.6680431\tbest: 0.6680431 (294)\ttotal: 29.2s\tremaining: 1m 9s\n295:\tlearn: 0.6561225\ttest: 0.6680281\tbest: 0.6680281 (295)\ttotal: 29.3s\tremaining: 1m 9s\n296:\tlearn: 0.6560708\ttest: 0.6680140\tbest: 0.6680140 (296)\ttotal: 29.4s\tremaining: 1m 9s\n297:\tlearn: 0.6560159\ttest: 0.6680128\tbest: 0.6680128 (297)\ttotal: 29.5s\tremaining: 1m 9s\n298:\tlearn: 0.6559536\ttest: 0.6679952\tbest: 0.6679952 (298)\ttotal: 29.6s\tremaining: 1m 9s\n299:\tlearn: 0.6558942\ttest: 0.6679749\tbest: 0.6679749 (299)\ttotal: 29.7s\tremaining: 1m 9s\n300:\tlearn: 0.6558575\ttest: 0.6679671\tbest: 0.6679671 (300)\ttotal: 29.8s\tremaining: 1m 9s\n301:\tlearn: 0.6558134\ttest: 0.6679373\tbest: 0.6679373 (301)\ttotal: 29.9s\tremaining: 1m 9s\n302:\tlearn: 0.6557457\ttest: 0.6679247\tbest: 0.6679247 (302)\ttotal: 30s\tremaining: 1m 9s\n303:\tlearn: 0.6557117\ttest: 0.6679123\tbest: 0.6679123 (303)\ttotal: 30.1s\tremaining: 1m 9s\n304:\tlearn: 0.6556381\ttest: 0.6678969\tbest: 0.6678969 (304)\ttotal: 30.2s\tremaining: 1m 8s\n305:\tlearn: 0.6556035\ttest: 0.6678773\tbest: 0.6678773 (305)\ttotal: 30.3s\tremaining: 1m 8s\n306:\tlearn: 0.6555480\ttest: 0.6678633\tbest: 0.6678633 (306)\ttotal: 30.4s\tremaining: 1m 8s\n307:\tlearn: 0.6554803\ttest: 0.6678670\tbest: 0.6678633 (306)\ttotal: 30.5s\tremaining: 1m 8s\n308:\tlearn: 0.6554249\ttest: 0.6678546\tbest: 0.6678546 (308)\ttotal: 30.6s\tremaining: 1m 8s\n309:\tlearn: 0.6553644\ttest: 0.6678368\tbest: 0.6678368 (309)\ttotal: 30.7s\tremaining: 1m 8s\n310:\tlearn: 0.6553032\ttest: 0.6678236\tbest: 0.6678236 (310)\ttotal: 30.8s\tremaining: 1m 8s\n311:\tlearn: 0.6552493\ttest: 0.6678007\tbest: 0.6678007 (311)\ttotal: 30.9s\tremaining: 1m 8s\n312:\tlearn: 0.6551808\ttest: 0.6677757\tbest: 0.6677757 (312)\ttotal: 31s\tremaining: 1m 8s\n313:\tlearn: 0.6551288\ttest: 0.6677761\tbest: 0.6677757 (312)\ttotal: 31.1s\tremaining: 1m 8s\n314:\tlearn: 0.6550688\ttest: 0.6677549\tbest: 0.6677549 (314)\ttotal: 31.2s\tremaining: 1m 7s\n315:\tlearn: 0.6550112\ttest: 0.6677411\tbest: 0.6677411 (315)\ttotal: 31.3s\tremaining: 1m 7s\n316:\tlearn: 0.6549738\ttest: 0.6677228\tbest: 0.6677228 (316)\ttotal: 31.4s\tremaining: 1m 7s\n317:\tlearn: 0.6549407\ttest: 0.6677081\tbest: 0.6677081 (317)\ttotal: 31.5s\tremaining: 1m 7s\n318:\tlearn: 0.6548907\ttest: 0.6676972\tbest: 0.6676972 (318)\ttotal: 31.6s\tremaining: 1m 7s\n319:\tlearn: 0.6548502\ttest: 0.6676870\tbest: 0.6676870 (319)\ttotal: 31.7s\tremaining: 1m 7s\n320:\tlearn: 0.6548067\ttest: 0.6676717\tbest: 0.6676717 (320)\ttotal: 31.8s\tremaining: 1m 7s\n321:\tlearn: 0.6547713\ttest: 0.6676516\tbest: 0.6676516 (321)\ttotal: 31.9s\tremaining: 1m 7s\n322:\tlearn: 0.6547271\ttest: 0.6676338\tbest: 0.6676338 (322)\ttotal: 32s\tremaining: 1m 6s\n323:\tlearn: 0.6546755\ttest: 0.6676294\tbest: 0.6676294 (323)\ttotal: 32.1s\tremaining: 1m 6s\n324:\tlearn: 0.6546313\ttest: 0.6676238\tbest: 0.6676238 (324)\ttotal: 32.2s\tremaining: 1m 6s\n325:\tlearn: 0.6545882\ttest: 0.6676142\tbest: 0.6676142 (325)\ttotal: 32.3s\tremaining: 1m 6s\n326:\tlearn: 0.6545494\ttest: 0.6676103\tbest: 0.6676103 (326)\ttotal: 32.4s\tremaining: 1m 6s\n327:\tlearn: 0.6545088\ttest: 0.6675826\tbest: 0.6675826 (327)\ttotal: 32.5s\tremaining: 1m 6s\n328:\tlearn: 0.6544593\ttest: 0.6675778\tbest: 0.6675778 (328)\ttotal: 32.6s\tremaining: 1m 6s\n329:\tlearn: 0.6543907\ttest: 0.6675658\tbest: 0.6675658 (329)\ttotal: 32.7s\tremaining: 1m 6s\n330:\tlearn: 0.6543344\ttest: 0.6675580\tbest: 0.6675580 (330)\ttotal: 32.8s\tremaining: 1m 6s\n331:\tlearn: 0.6542713\ttest: 0.6675359\tbest: 0.6675359 (331)\ttotal: 32.9s\tremaining: 1m 6s\n332:\tlearn: 0.6542346\ttest: 0.6675072\tbest: 0.6675072 (332)\ttotal: 33s\tremaining: 1m 6s\n333:\tlearn: 0.6541930\ttest: 0.6674908\tbest: 0.6674908 (333)\ttotal: 33.1s\tremaining: 1m 6s\n334:\tlearn: 0.6541481\ttest: 0.6674808\tbest: 0.6674808 (334)\ttotal: 33.3s\tremaining: 1m 6s\n335:\tlearn: 0.6541041\ttest: 0.6674669\tbest: 0.6674669 (335)\ttotal: 33.4s\tremaining: 1m 5s\n336:\tlearn: 0.6540572\ttest: 0.6674506\tbest: 0.6674506 (336)\ttotal: 33.5s\tremaining: 1m 5s\n337:\tlearn: 0.6540171\ttest: 0.6674366\tbest: 0.6674366 (337)\ttotal: 33.6s\tremaining: 1m 5s\n338:\tlearn: 0.6539637\ttest: 0.6674288\tbest: 0.6674288 (338)\ttotal: 33.7s\tremaining: 1m 5s\n339:\tlearn: 0.6539308\ttest: 0.6674184\tbest: 0.6674184 (339)\ttotal: 33.8s\tremaining: 1m 5s\n340:\tlearn: 0.6538910\ttest: 0.6674048\tbest: 0.6674048 (340)\ttotal: 33.9s\tremaining: 1m 5s\n341:\tlearn: 0.6538482\ttest: 0.6673945\tbest: 0.6673945 (341)\ttotal: 34s\tremaining: 1m 5s\n342:\tlearn: 0.6538214\ttest: 0.6673848\tbest: 0.6673848 (342)\ttotal: 34.1s\tremaining: 1m 5s\n343:\tlearn: 0.6537606\ttest: 0.6673619\tbest: 0.6673619 (343)\ttotal: 34.2s\tremaining: 1m 5s\n344:\tlearn: 0.6537189\ttest: 0.6673496\tbest: 0.6673496 (344)\ttotal: 34.3s\tremaining: 1m 5s\n345:\tlearn: 0.6536760\ttest: 0.6673359\tbest: 0.6673359 (345)\ttotal: 34.4s\tremaining: 1m 5s\n346:\tlearn: 0.6536241\ttest: 0.6673389\tbest: 0.6673359 (345)\ttotal: 34.5s\tremaining: 1m 4s\n347:\tlearn: 0.6535877\ttest: 0.6673271\tbest: 0.6673271 (347)\ttotal: 34.6s\tremaining: 1m 4s\n348:\tlearn: 0.6535510\ttest: 0.6673190\tbest: 0.6673190 (348)\ttotal: 34.7s\tremaining: 1m 4s\n349:\tlearn: 0.6534992\ttest: 0.6673097\tbest: 0.6673097 (349)\ttotal: 34.8s\tremaining: 1m 4s\n350:\tlearn: 0.6534513\ttest: 0.6673026\tbest: 0.6673026 (350)\ttotal: 34.9s\tremaining: 1m 4s\n351:\tlearn: 0.6533941\ttest: 0.6672966\tbest: 0.6672966 (351)\ttotal: 35s\tremaining: 1m 4s\n352:\tlearn: 0.6533415\ttest: 0.6672756\tbest: 0.6672756 (352)\ttotal: 35.1s\tremaining: 1m 4s\n353:\tlearn: 0.6532806\ttest: 0.6672657\tbest: 0.6672657 (353)\ttotal: 35.2s\tremaining: 1m 4s\n354:\tlearn: 0.6532261\ttest: 0.6672559\tbest: 0.6672559 (354)\ttotal: 35.3s\tremaining: 1m 4s\n355:\tlearn: 0.6531883\ttest: 0.6672474\tbest: 0.6672474 (355)\ttotal: 35.4s\tremaining: 1m 4s\n356:\tlearn: 0.6531431\ttest: 0.6672357\tbest: 0.6672357 (356)\ttotal: 35.5s\tremaining: 1m 4s\n357:\tlearn: 0.6531022\ttest: 0.6672256\tbest: 0.6672256 (357)\ttotal: 35.6s\tremaining: 1m 3s\n358:\tlearn: 0.6530584\ttest: 0.6672119\tbest: 0.6672119 (358)\ttotal: 35.7s\tremaining: 1m 3s\n359:\tlearn: 0.6530226\ttest: 0.6672109\tbest: 0.6672109 (359)\ttotal: 35.8s\tremaining: 1m 3s\n360:\tlearn: 0.6529774\ttest: 0.6671976\tbest: 0.6671976 (360)\ttotal: 35.9s\tremaining: 1m 3s\n361:\tlearn: 0.6529362\ttest: 0.6671938\tbest: 0.6671938 (361)\ttotal: 36s\tremaining: 1m 3s\n362:\tlearn: 0.6528714\ttest: 0.6671987\tbest: 0.6671938 (361)\ttotal: 36.1s\tremaining: 1m 3s\n363:\tlearn: 0.6528300\ttest: 0.6671900\tbest: 0.6671900 (363)\ttotal: 36.2s\tremaining: 1m 3s\n364:\tlearn: 0.6527762\ttest: 0.6671809\tbest: 0.6671809 (364)\ttotal: 36.3s\tremaining: 1m 3s\n365:\tlearn: 0.6527325\ttest: 0.6671652\tbest: 0.6671652 (365)\ttotal: 36.4s\tremaining: 1m 3s\n366:\tlearn: 0.6526792\ttest: 0.6671535\tbest: 0.6671535 (366)\ttotal: 36.5s\tremaining: 1m 2s\n367:\tlearn: 0.6526187\ttest: 0.6671486\tbest: 0.6671486 (367)\ttotal: 36.6s\tremaining: 1m 2s\n368:\tlearn: 0.6525771\ttest: 0.6671290\tbest: 0.6671290 (368)\ttotal: 36.7s\tremaining: 1m 2s\n369:\tlearn: 0.6525227\ttest: 0.6671185\tbest: 0.6671185 (369)\ttotal: 36.8s\tremaining: 1m 2s\n370:\tlearn: 0.6524819\ttest: 0.6671090\tbest: 0.6671090 (370)\ttotal: 36.9s\tremaining: 1m 2s\n371:\tlearn: 0.6524318\ttest: 0.6670994\tbest: 0.6670994 (371)\ttotal: 37s\tremaining: 1m 2s\n372:\tlearn: 0.6524079\ttest: 0.6670924\tbest: 0.6670924 (372)\ttotal: 37.1s\tremaining: 1m 2s\n373:\tlearn: 0.6523598\ttest: 0.6670762\tbest: 0.6670762 (373)\ttotal: 37.2s\tremaining: 1m 2s\n374:\tlearn: 0.6523130\ttest: 0.6670718\tbest: 0.6670718 (374)\ttotal: 37.3s\tremaining: 1m 2s\n375:\tlearn: 0.6522594\ttest: 0.6670492\tbest: 0.6670492 (375)\ttotal: 37.4s\tremaining: 1m 2s\n376:\tlearn: 0.6522179\ttest: 0.6670422\tbest: 0.6670422 (376)\ttotal: 37.5s\tremaining: 1m 1s\n377:\tlearn: 0.6521506\ttest: 0.6670115\tbest: 0.6670115 (377)\ttotal: 37.6s\tremaining: 1m 1s\n378:\tlearn: 0.6521180\ttest: 0.6670108\tbest: 0.6670108 (378)\ttotal: 37.7s\tremaining: 1m 1s\n379:\tlearn: 0.6520708\ttest: 0.6670065\tbest: 0.6670065 (379)\ttotal: 37.8s\tremaining: 1m 1s\n380:\tlearn: 0.6520246\ttest: 0.6669901\tbest: 0.6669901 (380)\ttotal: 37.9s\tremaining: 1m 1s\n381:\tlearn: 0.6519653\ttest: 0.6669802\tbest: 0.6669802 (381)\ttotal: 38s\tremaining: 1m 1s\n382:\tlearn: 0.6519240\ttest: 0.6669706\tbest: 0.6669706 (382)\ttotal: 38s\tremaining: 1m 1s\n383:\tlearn: 0.6518781\ttest: 0.6669662\tbest: 0.6669662 (383)\ttotal: 38.1s\tremaining: 1m 1s\n384:\tlearn: 0.6518342\ttest: 0.6669584\tbest: 0.6669584 (384)\ttotal: 38.2s\tremaining: 1m 1s\n385:\tlearn: 0.6518064\ttest: 0.6669596\tbest: 0.6669584 (384)\ttotal: 38.3s\tremaining: 1m\n386:\tlearn: 0.6517569\ttest: 0.6669478\tbest: 0.6669478 (386)\ttotal: 38.4s\tremaining: 1m\n387:\tlearn: 0.6517211\ttest: 0.6669422\tbest: 0.6669422 (387)\ttotal: 38.5s\tremaining: 1m\n388:\tlearn: 0.6516827\ttest: 0.6669223\tbest: 0.6669223 (388)\ttotal: 38.6s\tremaining: 1m\n389:\tlearn: 0.6516526\ttest: 0.6669132\tbest: 0.6669132 (389)\ttotal: 38.7s\tremaining: 1m\n390:\tlearn: 0.6516219\ttest: 0.6669060\tbest: 0.6669060 (390)\ttotal: 38.8s\tremaining: 1m\n391:\tlearn: 0.6515771\ttest: 0.6668980\tbest: 0.6668980 (391)\ttotal: 38.9s\tremaining: 1m\n392:\tlearn: 0.6515302\ttest: 0.6668972\tbest: 0.6668972 (392)\ttotal: 39s\tremaining: 1m\n393:\tlearn: 0.6514865\ttest: 0.6668980\tbest: 0.6668972 (392)\ttotal: 39.1s\tremaining: 1m\n394:\tlearn: 0.6514316\ttest: 0.6669023\tbest: 0.6668972 (392)\ttotal: 39.2s\tremaining: 60s\n395:\tlearn: 0.6514010\ttest: 0.6668817\tbest: 0.6668817 (395)\ttotal: 39.3s\tremaining: 59.9s\n396:\tlearn: 0.6513630\ttest: 0.6668720\tbest: 0.6668720 (396)\ttotal: 39.4s\tremaining: 59.8s\n397:\tlearn: 0.6513272\ttest: 0.6668622\tbest: 0.6668622 (397)\ttotal: 39.5s\tremaining: 59.7s\n398:\tlearn: 0.6512715\ttest: 0.6668624\tbest: 0.6668622 (397)\ttotal: 39.6s\tremaining: 59.6s\n399:\tlearn: 0.6512184\ttest: 0.6668531\tbest: 0.6668531 (399)\ttotal: 39.7s\tremaining: 59.5s\n400:\tlearn: 0.6511594\ttest: 0.6668276\tbest: 0.6668276 (400)\ttotal: 39.8s\tremaining: 59.4s\n401:\tlearn: 0.6511166\ttest: 0.6668266\tbest: 0.6668266 (401)\ttotal: 39.8s\tremaining: 59.3s\n402:\tlearn: 0.6510651\ttest: 0.6668247\tbest: 0.6668247 (402)\ttotal: 39.9s\tremaining: 59.2s\n403:\tlearn: 0.6510127\ttest: 0.6668139\tbest: 0.6668139 (403)\ttotal: 40s\tremaining: 59.1s\n404:\tlearn: 0.6509644\ttest: 0.6668113\tbest: 0.6668113 (404)\ttotal: 40.1s\tremaining: 59s\n405:\tlearn: 0.6509124\ttest: 0.6668134\tbest: 0.6668113 (404)\ttotal: 40.2s\tremaining: 58.9s\n406:\tlearn: 0.6508865\ttest: 0.6668131\tbest: 0.6668113 (404)\ttotal: 40.3s\tremaining: 58.8s\n407:\tlearn: 0.6508171\ttest: 0.6667989\tbest: 0.6667989 (407)\ttotal: 40.5s\tremaining: 58.7s\n408:\tlearn: 0.6507686\ttest: 0.6667837\tbest: 0.6667837 (408)\ttotal: 40.6s\tremaining: 58.7s\n409:\tlearn: 0.6507156\ttest: 0.6667823\tbest: 0.6667823 (409)\ttotal: 40.7s\tremaining: 58.5s\n410:\tlearn: 0.6506629\ttest: 0.6667622\tbest: 0.6667622 (410)\ttotal: 40.8s\tremaining: 58.4s\n411:\tlearn: 0.6506159\ttest: 0.6667633\tbest: 0.6667622 (410)\ttotal: 40.9s\tremaining: 58.3s\n412:\tlearn: 0.6505501\ttest: 0.6667574\tbest: 0.6667574 (412)\ttotal: 41s\tremaining: 58.3s\n413:\tlearn: 0.6505155\ttest: 0.6667487\tbest: 0.6667487 (413)\ttotal: 41.1s\tremaining: 58.2s\n414:\tlearn: 0.6504618\ttest: 0.6667500\tbest: 0.6667487 (413)\ttotal: 41.2s\tremaining: 58.1s\n415:\tlearn: 0.6504146\ttest: 0.6667451\tbest: 0.6667451 (415)\ttotal: 41.3s\tremaining: 58s\n416:\tlearn: 0.6503554\ttest: 0.6667237\tbest: 0.6667237 (416)\ttotal: 41.4s\tremaining: 57.9s\n417:\tlearn: 0.6503103\ttest: 0.6667248\tbest: 0.6667237 (416)\ttotal: 41.6s\tremaining: 57.9s\n418:\tlearn: 0.6502694\ttest: 0.6667186\tbest: 0.6667186 (418)\ttotal: 41.7s\tremaining: 57.8s\n419:\tlearn: 0.6502188\ttest: 0.6667037\tbest: 0.6667037 (419)\ttotal: 41.8s\tremaining: 57.7s\n420:\tlearn: 0.6501684\ttest: 0.6666925\tbest: 0.6666925 (420)\ttotal: 41.9s\tremaining: 57.6s\n421:\tlearn: 0.6501314\ttest: 0.6666818\tbest: 0.6666818 (421)\ttotal: 41.9s\tremaining: 57.5s\n422:\tlearn: 0.6500845\ttest: 0.6666780\tbest: 0.6666780 (422)\ttotal: 42.1s\tremaining: 57.4s\n423:\tlearn: 0.6500282\ttest: 0.6666559\tbest: 0.6666559 (423)\ttotal: 42.2s\tremaining: 57.3s\n424:\tlearn: 0.6499866\ttest: 0.6666518\tbest: 0.6666518 (424)\ttotal: 42.3s\tremaining: 57.2s\n425:\tlearn: 0.6499400\ttest: 0.6666324\tbest: 0.6666324 (425)\ttotal: 42.4s\tremaining: 57.1s\n426:\tlearn: 0.6499108\ttest: 0.6666275\tbest: 0.6666275 (426)\ttotal: 42.5s\tremaining: 57s\n427:\tlearn: 0.6498786\ttest: 0.6666171\tbest: 0.6666171 (427)\ttotal: 42.5s\tremaining: 56.9s\n428:\tlearn: 0.6498464\ttest: 0.6666123\tbest: 0.6666123 (428)\ttotal: 42.6s\tremaining: 56.8s\n429:\tlearn: 0.6498078\ttest: 0.6666046\tbest: 0.6666046 (429)\ttotal: 42.7s\tremaining: 56.7s\n430:\tlearn: 0.6497456\ttest: 0.6665851\tbest: 0.6665851 (430)\ttotal: 42.8s\tremaining: 56.5s\n431:\tlearn: 0.6497195\ttest: 0.6665863\tbest: 0.6665851 (430)\ttotal: 42.9s\tremaining: 56.4s\n432:\tlearn: 0.6496934\ttest: 0.6665811\tbest: 0.6665811 (432)\ttotal: 43s\tremaining: 56.3s\n433:\tlearn: 0.6496543\ttest: 0.6665712\tbest: 0.6665712 (433)\ttotal: 43.1s\tremaining: 56.2s\n434:\tlearn: 0.6496038\ttest: 0.6665757\tbest: 0.6665712 (433)\ttotal: 43.2s\tremaining: 56.1s\n435:\tlearn: 0.6495514\ttest: 0.6665689\tbest: 0.6665689 (435)\ttotal: 43.3s\tremaining: 56.1s\n436:\tlearn: 0.6495050\ttest: 0.6665517\tbest: 0.6665517 (436)\ttotal: 43.4s\tremaining: 55.9s\n437:\tlearn: 0.6494468\ttest: 0.6665299\tbest: 0.6665299 (437)\ttotal: 43.5s\tremaining: 55.8s\n438:\tlearn: 0.6494043\ttest: 0.6665107\tbest: 0.6665107 (438)\ttotal: 43.6s\tremaining: 55.7s\n439:\tlearn: 0.6493735\ttest: 0.6665026\tbest: 0.6665026 (439)\ttotal: 43.7s\tremaining: 55.6s\n440:\tlearn: 0.6493149\ttest: 0.6665034\tbest: 0.6665026 (439)\ttotal: 43.8s\tremaining: 55.5s\n441:\tlearn: 0.6492791\ttest: 0.6664990\tbest: 0.6664990 (441)\ttotal: 43.9s\tremaining: 55.4s\n442:\tlearn: 0.6492104\ttest: 0.6664874\tbest: 0.6664874 (442)\ttotal: 44.1s\tremaining: 55.4s\n443:\tlearn: 0.6491684\ttest: 0.6664831\tbest: 0.6664831 (443)\ttotal: 44.2s\tremaining: 55.4s\n444:\tlearn: 0.6491291\ttest: 0.6664758\tbest: 0.6664758 (444)\ttotal: 44.3s\tremaining: 55.3s\n445:\tlearn: 0.6490908\ttest: 0.6664719\tbest: 0.6664719 (445)\ttotal: 44.4s\tremaining: 55.2s\n446:\tlearn: 0.6490451\ttest: 0.6664722\tbest: 0.6664719 (445)\ttotal: 44.5s\tremaining: 55.1s\n447:\tlearn: 0.6489975\ttest: 0.6664749\tbest: 0.6664719 (445)\ttotal: 44.6s\tremaining: 55s\n448:\tlearn: 0.6489671\ttest: 0.6664692\tbest: 0.6664692 (448)\ttotal: 44.8s\tremaining: 55s\n449:\tlearn: 0.6489231\ttest: 0.6664704\tbest: 0.6664692 (448)\ttotal: 44.9s\tremaining: 54.9s\n450:\tlearn: 0.6488791\ttest: 0.6664625\tbest: 0.6664625 (450)\ttotal: 45s\tremaining: 54.8s\n451:\tlearn: 0.6488560\ttest: 0.6664522\tbest: 0.6664522 (451)\ttotal: 45.1s\tremaining: 54.7s\n452:\tlearn: 0.6488250\ttest: 0.6664470\tbest: 0.6664470 (452)\ttotal: 45.2s\tremaining: 54.6s\n453:\tlearn: 0.6487951\ttest: 0.6664416\tbest: 0.6664416 (453)\ttotal: 45.4s\tremaining: 54.6s\n454:\tlearn: 0.6487458\ttest: 0.6664468\tbest: 0.6664416 (453)\ttotal: 45.5s\tremaining: 54.5s\n455:\tlearn: 0.6486920\ttest: 0.6664404\tbest: 0.6664404 (455)\ttotal: 45.6s\tremaining: 54.4s\n456:\tlearn: 0.6486639\ttest: 0.6664429\tbest: 0.6664404 (455)\ttotal: 45.7s\tremaining: 54.3s\n457:\tlearn: 0.6486223\ttest: 0.6664248\tbest: 0.6664248 (457)\ttotal: 45.8s\tremaining: 54.1s\n458:\tlearn: 0.6485726\ttest: 0.6664210\tbest: 0.6664210 (458)\ttotal: 45.9s\tremaining: 54.1s\n459:\tlearn: 0.6485296\ttest: 0.6664256\tbest: 0.6664210 (458)\ttotal: 46s\tremaining: 54s\n460:\tlearn: 0.6484846\ttest: 0.6664225\tbest: 0.6664210 (458)\ttotal: 46.2s\tremaining: 54s\n461:\tlearn: 0.6484435\ttest: 0.6664118\tbest: 0.6664118 (461)\ttotal: 46.3s\tremaining: 53.9s\n462:\tlearn: 0.6484001\ttest: 0.6663992\tbest: 0.6663992 (462)\ttotal: 46.4s\tremaining: 53.8s\n463:\tlearn: 0.6483583\ttest: 0.6664031\tbest: 0.6663992 (462)\ttotal: 46.5s\tremaining: 53.7s\n464:\tlearn: 0.6483194\ttest: 0.6664079\tbest: 0.6663992 (462)\ttotal: 46.6s\tremaining: 53.6s\n465:\tlearn: 0.6482737\ttest: 0.6664107\tbest: 0.6663992 (462)\ttotal: 46.7s\tremaining: 53.5s\n466:\tlearn: 0.6482367\ttest: 0.6664047\tbest: 0.6663992 (462)\ttotal: 46.8s\tremaining: 53.4s\n467:\tlearn: 0.6482142\ttest: 0.6664006\tbest: 0.6663992 (462)\ttotal: 46.9s\tremaining: 53.3s\n468:\tlearn: 0.6481910\ttest: 0.6663987\tbest: 0.6663987 (468)\ttotal: 47s\tremaining: 53.2s\n469:\tlearn: 0.6481543\ttest: 0.6663886\tbest: 0.6663886 (469)\ttotal: 47.1s\tremaining: 53.1s\n470:\tlearn: 0.6481036\ttest: 0.6663793\tbest: 0.6663793 (470)\ttotal: 47.2s\tremaining: 53s\n471:\tlearn: 0.6480671\ttest: 0.6663715\tbest: 0.6663715 (471)\ttotal: 47.3s\tremaining: 52.9s\n472:\tlearn: 0.6480158\ttest: 0.6663610\tbest: 0.6663610 (472)\ttotal: 47.4s\tremaining: 52.8s\n473:\tlearn: 0.6479755\ttest: 0.6663520\tbest: 0.6663520 (473)\ttotal: 47.5s\tremaining: 52.7s\n474:\tlearn: 0.6479266\ttest: 0.6663480\tbest: 0.6663480 (474)\ttotal: 47.6s\tremaining: 52.6s\n475:\tlearn: 0.6479018\ttest: 0.6663385\tbest: 0.6663385 (475)\ttotal: 47.7s\tremaining: 52.5s\n476:\tlearn: 0.6478441\ttest: 0.6663343\tbest: 0.6663343 (476)\ttotal: 47.7s\tremaining: 52.3s\n477:\tlearn: 0.6477958\ttest: 0.6663197\tbest: 0.6663197 (477)\ttotal: 47.8s\tremaining: 52.2s\n478:\tlearn: 0.6477352\ttest: 0.6663089\tbest: 0.6663089 (478)\ttotal: 47.9s\tremaining: 52.1s\n479:\tlearn: 0.6476892\ttest: 0.6663219\tbest: 0.6663089 (478)\ttotal: 48s\tremaining: 52s\n480:\tlearn: 0.6476681\ttest: 0.6663200\tbest: 0.6663089 (478)\ttotal: 48.1s\tremaining: 51.9s\n481:\tlearn: 0.6476359\ttest: 0.6663215\tbest: 0.6663089 (478)\ttotal: 48.2s\tremaining: 51.8s\n482:\tlearn: 0.6475896\ttest: 0.6663071\tbest: 0.6663071 (482)\ttotal: 48.3s\tremaining: 51.7s\n483:\tlearn: 0.6475568\ttest: 0.6663090\tbest: 0.6663071 (482)\ttotal: 48.4s\tremaining: 51.6s\n484:\tlearn: 0.6475273\ttest: 0.6663066\tbest: 0.6663066 (484)\ttotal: 48.5s\tremaining: 51.5s\n485:\tlearn: 0.6474814\ttest: 0.6662967\tbest: 0.6662967 (485)\ttotal: 48.6s\tremaining: 51.4s\n486:\tlearn: 0.6474329\ttest: 0.6662751\tbest: 0.6662751 (486)\ttotal: 48.7s\tremaining: 51.3s\n487:\tlearn: 0.6473973\ttest: 0.6662712\tbest: 0.6662712 (487)\ttotal: 48.8s\tremaining: 51.2s\n488:\tlearn: 0.6473412\ttest: 0.6662681\tbest: 0.6662681 (488)\ttotal: 48.9s\tremaining: 51.1s\n489:\tlearn: 0.6473022\ttest: 0.6662750\tbest: 0.6662681 (488)\ttotal: 49s\tremaining: 51s\n490:\tlearn: 0.6472576\ttest: 0.6662704\tbest: 0.6662681 (488)\ttotal: 49.1s\tremaining: 50.9s\n491:\tlearn: 0.6472312\ttest: 0.6662661\tbest: 0.6662661 (491)\ttotal: 49.2s\tremaining: 50.8s\n492:\tlearn: 0.6471835\ttest: 0.6662564\tbest: 0.6662564 (492)\ttotal: 49.3s\tremaining: 50.7s\n493:\tlearn: 0.6471362\ttest: 0.6662475\tbest: 0.6662475 (493)\ttotal: 49.4s\tremaining: 50.6s\n494:\tlearn: 0.6470944\ttest: 0.6662487\tbest: 0.6662475 (493)\ttotal: 49.5s\tremaining: 50.5s\n495:\tlearn: 0.6470662\ttest: 0.6662493\tbest: 0.6662475 (493)\ttotal: 49.6s\tremaining: 50.4s\n496:\tlearn: 0.6470399\ttest: 0.6662555\tbest: 0.6662475 (493)\ttotal: 49.7s\tremaining: 50.3s\n497:\tlearn: 0.6469922\ttest: 0.6662508\tbest: 0.6662475 (493)\ttotal: 49.8s\tremaining: 50.2s\n498:\tlearn: 0.6469463\ttest: 0.6662464\tbest: 0.6662464 (498)\ttotal: 49.9s\tremaining: 50.1s\n499:\tlearn: 0.6469102\ttest: 0.6662374\tbest: 0.6662374 (499)\ttotal: 50s\tremaining: 50s\n500:\tlearn: 0.6468773\ttest: 0.6662299\tbest: 0.6662299 (500)\ttotal: 50.1s\tremaining: 49.9s\n501:\tlearn: 0.6468203\ttest: 0.6662196\tbest: 0.6662196 (501)\ttotal: 50.2s\tremaining: 49.8s\n502:\tlearn: 0.6467905\ttest: 0.6662147\tbest: 0.6662147 (502)\ttotal: 50.3s\tremaining: 49.7s\n503:\tlearn: 0.6467362\ttest: 0.6662134\tbest: 0.6662134 (503)\ttotal: 50.4s\tremaining: 49.6s\n504:\tlearn: 0.6466856\ttest: 0.6662133\tbest: 0.6662133 (504)\ttotal: 50.5s\tremaining: 49.5s\n505:\tlearn: 0.6466436\ttest: 0.6662055\tbest: 0.6662055 (505)\ttotal: 50.6s\tremaining: 49.4s\n506:\tlearn: 0.6465909\ttest: 0.6662016\tbest: 0.6662016 (506)\ttotal: 50.7s\tremaining: 49.3s\n507:\tlearn: 0.6465391\ttest: 0.6661916\tbest: 0.6661916 (507)\ttotal: 50.8s\tremaining: 49.2s\n508:\tlearn: 0.6464953\ttest: 0.6661884\tbest: 0.6661884 (508)\ttotal: 50.9s\tremaining: 49.1s\n509:\tlearn: 0.6464442\ttest: 0.6661847\tbest: 0.6661847 (509)\ttotal: 51s\tremaining: 49s\n510:\tlearn: 0.6463990\ttest: 0.6661708\tbest: 0.6661708 (510)\ttotal: 51.1s\tremaining: 48.9s\n511:\tlearn: 0.6463428\ttest: 0.6661583\tbest: 0.6661583 (511)\ttotal: 51.2s\tremaining: 48.8s\n512:\tlearn: 0.6463068\ttest: 0.6661566\tbest: 0.6661566 (512)\ttotal: 51.3s\tremaining: 48.7s\n513:\tlearn: 0.6462698\ttest: 0.6661493\tbest: 0.6661493 (513)\ttotal: 51.4s\tremaining: 48.6s\n514:\tlearn: 0.6462347\ttest: 0.6661456\tbest: 0.6661456 (514)\ttotal: 51.5s\tremaining: 48.5s\n515:\tlearn: 0.6461706\ttest: 0.6661279\tbest: 0.6661279 (515)\ttotal: 51.6s\tremaining: 48.4s\n516:\tlearn: 0.6461256\ttest: 0.6661266\tbest: 0.6661266 (516)\ttotal: 51.7s\tremaining: 48.3s\n517:\tlearn: 0.6460579\ttest: 0.6661056\tbest: 0.6661056 (517)\ttotal: 51.8s\tremaining: 48.2s\n518:\tlearn: 0.6460249\ttest: 0.6661045\tbest: 0.6661045 (518)\ttotal: 51.9s\tremaining: 48.1s\n519:\tlearn: 0.6459936\ttest: 0.6660984\tbest: 0.6660984 (519)\ttotal: 52s\tremaining: 48s\n520:\tlearn: 0.6459572\ttest: 0.6660964\tbest: 0.6660964 (520)\ttotal: 52.1s\tremaining: 47.9s\n521:\tlearn: 0.6459045\ttest: 0.6660902\tbest: 0.6660902 (521)\ttotal: 52.2s\tremaining: 47.8s\n522:\tlearn: 0.6458608\ttest: 0.6660878\tbest: 0.6660878 (522)\ttotal: 52.3s\tremaining: 47.7s\n523:\tlearn: 0.6458153\ttest: 0.6660912\tbest: 0.6660878 (522)\ttotal: 52.4s\tremaining: 47.6s\n524:\tlearn: 0.6457707\ttest: 0.6660870\tbest: 0.6660870 (524)\ttotal: 52.5s\tremaining: 47.5s\n525:\tlearn: 0.6457402\ttest: 0.6660748\tbest: 0.6660748 (525)\ttotal: 52.6s\tremaining: 47.4s\n526:\tlearn: 0.6457028\ttest: 0.6660563\tbest: 0.6660563 (526)\ttotal: 52.7s\tremaining: 47.3s\n527:\tlearn: 0.6456610\ttest: 0.6660515\tbest: 0.6660515 (527)\ttotal: 52.8s\tremaining: 47.2s\n528:\tlearn: 0.6456148\ttest: 0.6660521\tbest: 0.6660515 (527)\ttotal: 52.9s\tremaining: 47.1s\n529:\tlearn: 0.6455607\ttest: 0.6660441\tbest: 0.6660441 (529)\ttotal: 53s\tremaining: 47s\n530:\tlearn: 0.6455143\ttest: 0.6660466\tbest: 0.6660441 (529)\ttotal: 53.1s\tremaining: 46.9s\n531:\tlearn: 0.6454615\ttest: 0.6660366\tbest: 0.6660366 (531)\ttotal: 53.2s\tremaining: 46.8s\n532:\tlearn: 0.6454197\ttest: 0.6660296\tbest: 0.6660296 (532)\ttotal: 53.3s\tremaining: 46.7s\n533:\tlearn: 0.6453652\ttest: 0.6660113\tbest: 0.6660113 (533)\ttotal: 53.4s\tremaining: 46.6s\n534:\tlearn: 0.6453226\ttest: 0.6659917\tbest: 0.6659917 (534)\ttotal: 53.5s\tremaining: 46.5s\n535:\tlearn: 0.6452723\ttest: 0.6659915\tbest: 0.6659915 (535)\ttotal: 53.6s\tremaining: 46.4s\n536:\tlearn: 0.6452225\ttest: 0.6659998\tbest: 0.6659915 (535)\ttotal: 53.7s\tremaining: 46.3s\n537:\tlearn: 0.6451781\ttest: 0.6659967\tbest: 0.6659915 (535)\ttotal: 53.8s\tremaining: 46.2s\n538:\tlearn: 0.6451267\ttest: 0.6659952\tbest: 0.6659915 (535)\ttotal: 53.9s\tremaining: 46.1s\n539:\tlearn: 0.6450730\ttest: 0.6659847\tbest: 0.6659847 (539)\ttotal: 54s\tremaining: 46s\n540:\tlearn: 0.6450387\ttest: 0.6659917\tbest: 0.6659847 (539)\ttotal: 54.2s\tremaining: 45.9s\n541:\tlearn: 0.6449759\ttest: 0.6659792\tbest: 0.6659792 (541)\ttotal: 54.3s\tremaining: 45.8s\n542:\tlearn: 0.6449386\ttest: 0.6659825\tbest: 0.6659792 (541)\ttotal: 54.4s\tremaining: 45.7s\n543:\tlearn: 0.6449068\ttest: 0.6659784\tbest: 0.6659784 (543)\ttotal: 54.5s\tremaining: 45.6s\n544:\tlearn: 0.6448675\ttest: 0.6659757\tbest: 0.6659757 (544)\ttotal: 54.5s\tremaining: 45.5s\n545:\tlearn: 0.6448327\ttest: 0.6659744\tbest: 0.6659744 (545)\ttotal: 54.6s\tremaining: 45.4s\n546:\tlearn: 0.6447846\ttest: 0.6659748\tbest: 0.6659744 (545)\ttotal: 54.7s\tremaining: 45.3s\n547:\tlearn: 0.6447433\ttest: 0.6659682\tbest: 0.6659682 (547)\ttotal: 54.8s\tremaining: 45.2s\n548:\tlearn: 0.6447067\ttest: 0.6659693\tbest: 0.6659682 (547)\ttotal: 54.9s\tremaining: 45.1s\n549:\tlearn: 0.6446735\ttest: 0.6659606\tbest: 0.6659606 (549)\ttotal: 55s\tremaining: 45s\n550:\tlearn: 0.6446261\ttest: 0.6659712\tbest: 0.6659606 (549)\ttotal: 55.2s\tremaining: 44.9s\n551:\tlearn: 0.6445924\ttest: 0.6659764\tbest: 0.6659606 (549)\ttotal: 55.2s\tremaining: 44.8s\n552:\tlearn: 0.6445551\ttest: 0.6659808\tbest: 0.6659606 (549)\ttotal: 55.3s\tremaining: 44.7s\n553:\tlearn: 0.6445104\ttest: 0.6659729\tbest: 0.6659606 (549)\ttotal: 55.4s\tremaining: 44.6s\n554:\tlearn: 0.6444831\ttest: 0.6659632\tbest: 0.6659606 (549)\ttotal: 55.5s\tremaining: 44.5s\n555:\tlearn: 0.6444350\ttest: 0.6659599\tbest: 0.6659599 (555)\ttotal: 55.6s\tremaining: 44.4s\n556:\tlearn: 0.6443890\ttest: 0.6659617\tbest: 0.6659599 (555)\ttotal: 55.7s\tremaining: 44.3s\n557:\tlearn: 0.6443493\ttest: 0.6659639\tbest: 0.6659599 (555)\ttotal: 55.8s\tremaining: 44.2s\n558:\tlearn: 0.6443089\ttest: 0.6659560\tbest: 0.6659560 (558)\ttotal: 55.9s\tremaining: 44.1s\n559:\tlearn: 0.6442592\ttest: 0.6659568\tbest: 0.6659560 (558)\ttotal: 56s\tremaining: 44s\n560:\tlearn: 0.6441995\ttest: 0.6659602\tbest: 0.6659560 (558)\ttotal: 56.1s\tremaining: 43.9s\n561:\tlearn: 0.6441597\ttest: 0.6659635\tbest: 0.6659560 (558)\ttotal: 56.2s\tremaining: 43.8s\n562:\tlearn: 0.6441071\ttest: 0.6659550\tbest: 0.6659550 (562)\ttotal: 56.3s\tremaining: 43.7s\n563:\tlearn: 0.6440621\ttest: 0.6659597\tbest: 0.6659550 (562)\ttotal: 56.4s\tremaining: 43.6s\n564:\tlearn: 0.6440353\ttest: 0.6659507\tbest: 0.6659507 (564)\ttotal: 56.5s\tremaining: 43.5s\n565:\tlearn: 0.6440004\ttest: 0.6659377\tbest: 0.6659377 (565)\ttotal: 56.6s\tremaining: 43.4s\n566:\tlearn: 0.6439380\ttest: 0.6659231\tbest: 0.6659231 (566)\ttotal: 56.7s\tremaining: 43.3s\n567:\tlearn: 0.6438949\ttest: 0.6659179\tbest: 0.6659179 (567)\ttotal: 56.8s\tremaining: 43.2s\n568:\tlearn: 0.6438590\ttest: 0.6659161\tbest: 0.6659161 (568)\ttotal: 56.9s\tremaining: 43.1s\n569:\tlearn: 0.6438254\ttest: 0.6659085\tbest: 0.6659085 (569)\ttotal: 57s\tremaining: 43s\n570:\tlearn: 0.6438120\ttest: 0.6659045\tbest: 0.6659045 (570)\ttotal: 57.1s\tremaining: 42.9s\n571:\tlearn: 0.6437603\ttest: 0.6659029\tbest: 0.6659029 (571)\ttotal: 57.2s\tremaining: 42.8s\n572:\tlearn: 0.6437232\ttest: 0.6658906\tbest: 0.6658906 (572)\ttotal: 57.3s\tremaining: 42.7s\n573:\tlearn: 0.6436674\ttest: 0.6658929\tbest: 0.6658906 (572)\ttotal: 57.4s\tremaining: 42.6s\n574:\tlearn: 0.6436276\ttest: 0.6658949\tbest: 0.6658906 (572)\ttotal: 57.5s\tremaining: 42.5s\n575:\tlearn: 0.6435811\ttest: 0.6658941\tbest: 0.6658906 (572)\ttotal: 57.6s\tremaining: 42.4s\n576:\tlearn: 0.6435382\ttest: 0.6658943\tbest: 0.6658906 (572)\ttotal: 57.7s\tremaining: 42.3s\n577:\tlearn: 0.6435073\ttest: 0.6658893\tbest: 0.6658893 (577)\ttotal: 57.8s\tremaining: 42.2s\n578:\tlearn: 0.6434717\ttest: 0.6658862\tbest: 0.6658862 (578)\ttotal: 57.9s\tremaining: 42.1s\n579:\tlearn: 0.6434411\ttest: 0.6658836\tbest: 0.6658836 (579)\ttotal: 58s\tremaining: 42s\n580:\tlearn: 0.6434110\ttest: 0.6658813\tbest: 0.6658813 (580)\ttotal: 58.1s\tremaining: 41.9s\n581:\tlearn: 0.6433795\ttest: 0.6658703\tbest: 0.6658703 (581)\ttotal: 58.2s\tremaining: 41.8s\n582:\tlearn: 0.6433257\ttest: 0.6658519\tbest: 0.6658519 (582)\ttotal: 58.3s\tremaining: 41.7s\n583:\tlearn: 0.6433021\ttest: 0.6658499\tbest: 0.6658499 (583)\ttotal: 58.4s\tremaining: 41.6s\n584:\tlearn: 0.6432682\ttest: 0.6658467\tbest: 0.6658467 (584)\ttotal: 58.4s\tremaining: 41.5s\n585:\tlearn: 0.6432351\ttest: 0.6658286\tbest: 0.6658286 (585)\ttotal: 58.5s\tremaining: 41.4s\n586:\tlearn: 0.6431914\ttest: 0.6658305\tbest: 0.6658286 (585)\ttotal: 58.6s\tremaining: 41.3s\n587:\tlearn: 0.6431538\ttest: 0.6658487\tbest: 0.6658286 (585)\ttotal: 58.7s\tremaining: 41.2s\n588:\tlearn: 0.6431045\ttest: 0.6658641\tbest: 0.6658286 (585)\ttotal: 58.8s\tremaining: 41.1s\n589:\tlearn: 0.6430766\ttest: 0.6658617\tbest: 0.6658286 (585)\ttotal: 59s\tremaining: 41s\n590:\tlearn: 0.6430320\ttest: 0.6658571\tbest: 0.6658286 (585)\ttotal: 59.1s\tremaining: 40.9s\n591:\tlearn: 0.6429935\ttest: 0.6658469\tbest: 0.6658286 (585)\ttotal: 59.2s\tremaining: 40.8s\n592:\tlearn: 0.6429452\ttest: 0.6658430\tbest: 0.6658286 (585)\ttotal: 59.3s\tremaining: 40.7s\n593:\tlearn: 0.6428949\ttest: 0.6658345\tbest: 0.6658286 (585)\ttotal: 59.4s\tremaining: 40.6s\n594:\tlearn: 0.6428591\ttest: 0.6658460\tbest: 0.6658286 (585)\ttotal: 59.5s\tremaining: 40.5s\n595:\tlearn: 0.6428187\ttest: 0.6658483\tbest: 0.6658286 (585)\ttotal: 59.6s\tremaining: 40.4s\n596:\tlearn: 0.6427712\ttest: 0.6658395\tbest: 0.6658286 (585)\ttotal: 59.7s\tremaining: 40.3s\n597:\tlearn: 0.6427312\ttest: 0.6658441\tbest: 0.6658286 (585)\ttotal: 59.8s\tremaining: 40.2s\n598:\tlearn: 0.6426985\ttest: 0.6658373\tbest: 0.6658286 (585)\ttotal: 59.9s\tremaining: 40.1s\n599:\tlearn: 0.6426689\ttest: 0.6658368\tbest: 0.6658286 (585)\ttotal: 60s\tremaining: 40s\n600:\tlearn: 0.6426379\ttest: 0.6658423\tbest: 0.6658286 (585)\ttotal: 1m\tremaining: 39.9s\n601:\tlearn: 0.6426023\ttest: 0.6658278\tbest: 0.6658278 (601)\ttotal: 1m\tremaining: 39.8s\n602:\tlearn: 0.6425799\ttest: 0.6658268\tbest: 0.6658268 (602)\ttotal: 1m\tremaining: 39.7s\n603:\tlearn: 0.6425608\ttest: 0.6658220\tbest: 0.6658220 (603)\ttotal: 1m\tremaining: 39.6s\n604:\tlearn: 0.6425430\ttest: 0.6658173\tbest: 0.6658173 (604)\ttotal: 1m\tremaining: 39.4s\n605:\tlearn: 0.6424979\ttest: 0.6658058\tbest: 0.6658058 (605)\ttotal: 1m\tremaining: 39.4s\n606:\tlearn: 0.6424534\ttest: 0.6658081\tbest: 0.6658058 (605)\ttotal: 1m\tremaining: 39.3s\n607:\tlearn: 0.6424209\ttest: 0.6658064\tbest: 0.6658058 (605)\ttotal: 1m\tremaining: 39.2s\n608:\tlearn: 0.6423746\ttest: 0.6658087\tbest: 0.6658058 (605)\ttotal: 1m\tremaining: 39.1s\n609:\tlearn: 0.6423319\ttest: 0.6658051\tbest: 0.6658051 (609)\ttotal: 1m\tremaining: 39s\n610:\tlearn: 0.6422976\ttest: 0.6658133\tbest: 0.6658051 (609)\ttotal: 1m 1s\tremaining: 38.8s\n611:\tlearn: 0.6422344\ttest: 0.6657873\tbest: 0.6657873 (611)\ttotal: 1m 1s\tremaining: 38.7s\n612:\tlearn: 0.6421946\ttest: 0.6657880\tbest: 0.6657873 (611)\ttotal: 1m 1s\tremaining: 38.6s\n613:\tlearn: 0.6421371\ttest: 0.6657797\tbest: 0.6657797 (613)\ttotal: 1m 1s\tremaining: 38.5s\n614:\tlearn: 0.6420852\ttest: 0.6657790\tbest: 0.6657790 (614)\ttotal: 1m 1s\tremaining: 38.4s\n615:\tlearn: 0.6420598\ttest: 0.6657755\tbest: 0.6657755 (615)\ttotal: 1m 1s\tremaining: 38.3s\n616:\tlearn: 0.6420270\ttest: 0.6657602\tbest: 0.6657602 (616)\ttotal: 1m 1s\tremaining: 38.2s\n617:\tlearn: 0.6419820\ttest: 0.6657572\tbest: 0.6657572 (617)\ttotal: 1m 1s\tremaining: 38.1s\n618:\tlearn: 0.6419291\ttest: 0.6657576\tbest: 0.6657572 (617)\ttotal: 1m 1s\tremaining: 38s\n619:\tlearn: 0.6418989\ttest: 0.6657566\tbest: 0.6657566 (619)\ttotal: 1m 1s\tremaining: 37.9s\n620:\tlearn: 0.6418494\ttest: 0.6657476\tbest: 0.6657476 (620)\ttotal: 1m 1s\tremaining: 37.8s\n621:\tlearn: 0.6418203\ttest: 0.6657356\tbest: 0.6657356 (621)\ttotal: 1m 2s\tremaining: 37.7s\n622:\tlearn: 0.6417686\ttest: 0.6657309\tbest: 0.6657309 (622)\ttotal: 1m 2s\tremaining: 37.6s\n623:\tlearn: 0.6417387\ttest: 0.6657255\tbest: 0.6657255 (623)\ttotal: 1m 2s\tremaining: 37.5s\n624:\tlearn: 0.6416874\ttest: 0.6657226\tbest: 0.6657226 (624)\ttotal: 1m 2s\tremaining: 37.4s\n625:\tlearn: 0.6416352\ttest: 0.6657254\tbest: 0.6657226 (624)\ttotal: 1m 2s\tremaining: 37.3s\n626:\tlearn: 0.6416008\ttest: 0.6657255\tbest: 0.6657226 (624)\ttotal: 1m 2s\tremaining: 37.2s\n627:\tlearn: 0.6415710\ttest: 0.6657243\tbest: 0.6657226 (624)\ttotal: 1m 2s\tremaining: 37.1s\n628:\tlearn: 0.6415528\ttest: 0.6657276\tbest: 0.6657226 (624)\ttotal: 1m 2s\tremaining: 37s\n629:\tlearn: 0.6415059\ttest: 0.6657332\tbest: 0.6657226 (624)\ttotal: 1m 2s\tremaining: 36.9s\n630:\tlearn: 0.6414650\ttest: 0.6657352\tbest: 0.6657226 (624)\ttotal: 1m 2s\tremaining: 36.8s\n631:\tlearn: 0.6414386\ttest: 0.6657338\tbest: 0.6657226 (624)\ttotal: 1m 3s\tremaining: 36.7s\n632:\tlearn: 0.6413984\ttest: 0.6657343\tbest: 0.6657226 (624)\ttotal: 1m 3s\tremaining: 36.6s\n633:\tlearn: 0.6413610\ttest: 0.6657332\tbest: 0.6657226 (624)\ttotal: 1m 3s\tremaining: 36.5s\n634:\tlearn: 0.6413193\ttest: 0.6657337\tbest: 0.6657226 (624)\ttotal: 1m 3s\tremaining: 36.4s\n635:\tlearn: 0.6412633\ttest: 0.6657280\tbest: 0.6657226 (624)\ttotal: 1m 3s\tremaining: 36.3s\n636:\tlearn: 0.6412249\ttest: 0.6657295\tbest: 0.6657226 (624)\ttotal: 1m 3s\tremaining: 36.2s\n637:\tlearn: 0.6412027\ttest: 0.6657264\tbest: 0.6657226 (624)\ttotal: 1m 3s\tremaining: 36.1s\n638:\tlearn: 0.6411713\ttest: 0.6657240\tbest: 0.6657226 (624)\ttotal: 1m 3s\tremaining: 36s\n639:\tlearn: 0.6411280\ttest: 0.6657291\tbest: 0.6657226 (624)\ttotal: 1m 3s\tremaining: 35.9s\n640:\tlearn: 0.6411101\ttest: 0.6657257\tbest: 0.6657226 (624)\ttotal: 1m 3s\tremaining: 35.8s\n641:\tlearn: 0.6410582\ttest: 0.6657178\tbest: 0.6657178 (641)\ttotal: 1m 4s\tremaining: 35.7s\n642:\tlearn: 0.6410262\ttest: 0.6657228\tbest: 0.6657178 (641)\ttotal: 1m 4s\tremaining: 35.6s\n643:\tlearn: 0.6409834\ttest: 0.6657262\tbest: 0.6657178 (641)\ttotal: 1m 4s\tremaining: 35.5s\n644:\tlearn: 0.6409607\ttest: 0.6657258\tbest: 0.6657178 (641)\ttotal: 1m 4s\tremaining: 35.4s\n645:\tlearn: 0.6409167\ttest: 0.6657120\tbest: 0.6657120 (645)\ttotal: 1m 4s\tremaining: 35.3s\n646:\tlearn: 0.6408771\ttest: 0.6657236\tbest: 0.6657120 (645)\ttotal: 1m 4s\tremaining: 35.2s\n647:\tlearn: 0.6408484\ttest: 0.6657182\tbest: 0.6657120 (645)\ttotal: 1m 4s\tremaining: 35.1s\n648:\tlearn: 0.6408086\ttest: 0.6657181\tbest: 0.6657120 (645)\ttotal: 1m 4s\tremaining: 35s\n649:\tlearn: 0.6407775\ttest: 0.6657146\tbest: 0.6657120 (645)\ttotal: 1m 4s\tremaining: 34.9s\n650:\tlearn: 0.6407351\ttest: 0.6657054\tbest: 0.6657054 (650)\ttotal: 1m 4s\tremaining: 34.8s\n651:\tlearn: 0.6407007\ttest: 0.6656941\tbest: 0.6656941 (651)\ttotal: 1m 4s\tremaining: 34.7s\n652:\tlearn: 0.6406436\ttest: 0.6656854\tbest: 0.6656854 (652)\ttotal: 1m 5s\tremaining: 34.6s\n653:\tlearn: 0.6406146\ttest: 0.6656875\tbest: 0.6656854 (652)\ttotal: 1m 5s\tremaining: 34.5s\n654:\tlearn: 0.6405687\ttest: 0.6656890\tbest: 0.6656854 (652)\ttotal: 1m 5s\tremaining: 34.4s\n655:\tlearn: 0.6405350\ttest: 0.6656832\tbest: 0.6656832 (655)\ttotal: 1m 5s\tremaining: 34.3s\n656:\tlearn: 0.6404983\ttest: 0.6656793\tbest: 0.6656793 (656)\ttotal: 1m 5s\tremaining: 34.2s\n657:\tlearn: 0.6404496\ttest: 0.6656767\tbest: 0.6656767 (657)\ttotal: 1m 5s\tremaining: 34s\n658:\tlearn: 0.6404137\ttest: 0.6656756\tbest: 0.6656756 (658)\ttotal: 1m 5s\tremaining: 33.9s\n659:\tlearn: 0.6403747\ttest: 0.6656687\tbest: 0.6656687 (659)\ttotal: 1m 5s\tremaining: 33.8s\n660:\tlearn: 0.6403371\ttest: 0.6656646\tbest: 0.6656646 (660)\ttotal: 1m 5s\tremaining: 33.7s\n661:\tlearn: 0.6403002\ttest: 0.6656523\tbest: 0.6656523 (661)\ttotal: 1m 5s\tremaining: 33.6s\n662:\tlearn: 0.6402562\ttest: 0.6656507\tbest: 0.6656507 (662)\ttotal: 1m 5s\tremaining: 33.5s\n663:\tlearn: 0.6402040\ttest: 0.6656451\tbest: 0.6656451 (663)\ttotal: 1m 6s\tremaining: 33.4s\n664:\tlearn: 0.6401752\ttest: 0.6656303\tbest: 0.6656303 (664)\ttotal: 1m 6s\tremaining: 33.3s\n665:\tlearn: 0.6401325\ttest: 0.6656325\tbest: 0.6656303 (664)\ttotal: 1m 6s\tremaining: 33.2s\n666:\tlearn: 0.6401128\ttest: 0.6656296\tbest: 0.6656296 (666)\ttotal: 1m 6s\tremaining: 33.1s\n667:\tlearn: 0.6400735\ttest: 0.6656306\tbest: 0.6656296 (666)\ttotal: 1m 6s\tremaining: 33s\n668:\tlearn: 0.6400387\ttest: 0.6656346\tbest: 0.6656296 (666)\ttotal: 1m 6s\tremaining: 32.9s\n669:\tlearn: 0.6399945\ttest: 0.6656425\tbest: 0.6656296 (666)\ttotal: 1m 6s\tremaining: 32.8s\n670:\tlearn: 0.6399440\ttest: 0.6656389\tbest: 0.6656296 (666)\ttotal: 1m 6s\tremaining: 32.7s\n671:\tlearn: 0.6399142\ttest: 0.6656337\tbest: 0.6656296 (666)\ttotal: 1m 6s\tremaining: 32.6s\n672:\tlearn: 0.6398853\ttest: 0.6656291\tbest: 0.6656291 (672)\ttotal: 1m 6s\tremaining: 32.5s\n673:\tlearn: 0.6398530\ttest: 0.6656371\tbest: 0.6656291 (672)\ttotal: 1m 7s\tremaining: 32.4s\n674:\tlearn: 0.6398144\ttest: 0.6656323\tbest: 0.6656291 (672)\ttotal: 1m 7s\tremaining: 32.3s\n675:\tlearn: 0.6397785\ttest: 0.6656287\tbest: 0.6656287 (675)\ttotal: 1m 7s\tremaining: 32.2s\n676:\tlearn: 0.6397474\ttest: 0.6656220\tbest: 0.6656220 (676)\ttotal: 1m 7s\tremaining: 32.1s\n677:\tlearn: 0.6397224\ttest: 0.6656210\tbest: 0.6656210 (677)\ttotal: 1m 7s\tremaining: 32s\n678:\tlearn: 0.6396902\ttest: 0.6656146\tbest: 0.6656146 (678)\ttotal: 1m 7s\tremaining: 32s\n679:\tlearn: 0.6396480\ttest: 0.6656125\tbest: 0.6656125 (679)\ttotal: 1m 7s\tremaining: 31.9s\n680:\tlearn: 0.6396055\ttest: 0.6656138\tbest: 0.6656125 (679)\ttotal: 1m 7s\tremaining: 31.8s\n681:\tlearn: 0.6395821\ttest: 0.6656063\tbest: 0.6656063 (681)\ttotal: 1m 7s\tremaining: 31.7s\n682:\tlearn: 0.6395326\ttest: 0.6656115\tbest: 0.6656063 (681)\ttotal: 1m 7s\tremaining: 31.6s\n683:\tlearn: 0.6394893\ttest: 0.6656169\tbest: 0.6656063 (681)\ttotal: 1m 8s\tremaining: 31.5s\n684:\tlearn: 0.6394548\ttest: 0.6656109\tbest: 0.6656063 (681)\ttotal: 1m 8s\tremaining: 31.4s\n685:\tlearn: 0.6394187\ttest: 0.6656083\tbest: 0.6656063 (681)\ttotal: 1m 8s\tremaining: 31.3s\n686:\tlearn: 0.6393820\ttest: 0.6656020\tbest: 0.6656020 (686)\ttotal: 1m 8s\tremaining: 31.2s\n687:\tlearn: 0.6393729\ttest: 0.6656018\tbest: 0.6656018 (687)\ttotal: 1m 8s\tremaining: 31.1s\n688:\tlearn: 0.6393358\ttest: 0.6655905\tbest: 0.6655905 (688)\ttotal: 1m 8s\tremaining: 31s\n689:\tlearn: 0.6392996\ttest: 0.6655901\tbest: 0.6655901 (689)\ttotal: 1m 8s\tremaining: 30.9s\n690:\tlearn: 0.6392655\ttest: 0.6655955\tbest: 0.6655901 (689)\ttotal: 1m 8s\tremaining: 30.8s\n691:\tlearn: 0.6392286\ttest: 0.6655900\tbest: 0.6655900 (691)\ttotal: 1m 8s\tremaining: 30.7s\n692:\tlearn: 0.6391952\ttest: 0.6655841\tbest: 0.6655841 (692)\ttotal: 1m 8s\tremaining: 30.6s\n693:\tlearn: 0.6391552\ttest: 0.6655802\tbest: 0.6655802 (693)\ttotal: 1m 9s\tremaining: 30.5s\n694:\tlearn: 0.6391331\ttest: 0.6655761\tbest: 0.6655761 (694)\ttotal: 1m 9s\tremaining: 30.4s\n695:\tlearn: 0.6391096\ttest: 0.6655763\tbest: 0.6655761 (694)\ttotal: 1m 9s\tremaining: 30.3s\n696:\tlearn: 0.6390705\ttest: 0.6655754\tbest: 0.6655754 (696)\ttotal: 1m 9s\tremaining: 30.2s\n697:\tlearn: 0.6390240\ttest: 0.6655693\tbest: 0.6655693 (697)\ttotal: 1m 9s\tremaining: 30.1s\n698:\tlearn: 0.6389939\ttest: 0.6655694\tbest: 0.6655693 (697)\ttotal: 1m 9s\tremaining: 30s\n699:\tlearn: 0.6389651\ttest: 0.6655662\tbest: 0.6655662 (699)\ttotal: 1m 9s\tremaining: 29.9s\n700:\tlearn: 0.6389231\ttest: 0.6655711\tbest: 0.6655662 (699)\ttotal: 1m 9s\tremaining: 29.8s\n701:\tlearn: 0.6388891\ttest: 0.6655672\tbest: 0.6655662 (699)\ttotal: 1m 9s\tremaining: 29.7s\n702:\tlearn: 0.6388379\ttest: 0.6655702\tbest: 0.6655662 (699)\ttotal: 1m 10s\tremaining: 29.6s\n703:\tlearn: 0.6388089\ttest: 0.6655744\tbest: 0.6655662 (699)\ttotal: 1m 10s\tremaining: 29.5s\n704:\tlearn: 0.6387886\ttest: 0.6655776\tbest: 0.6655662 (699)\ttotal: 1m 10s\tremaining: 29.4s\n705:\tlearn: 0.6387487\ttest: 0.6655883\tbest: 0.6655662 (699)\ttotal: 1m 10s\tremaining: 29.3s\n706:\tlearn: 0.6387250\ttest: 0.6655881\tbest: 0.6655662 (699)\ttotal: 1m 10s\tremaining: 29.2s\n707:\tlearn: 0.6386620\ttest: 0.6655786\tbest: 0.6655662 (699)\ttotal: 1m 10s\tremaining: 29.1s\n708:\tlearn: 0.6386104\ttest: 0.6655670\tbest: 0.6655662 (699)\ttotal: 1m 10s\tremaining: 29s\n709:\tlearn: 0.6385828\ttest: 0.6655574\tbest: 0.6655574 (709)\ttotal: 1m 10s\tremaining: 28.9s\n710:\tlearn: 0.6385313\ttest: 0.6655519\tbest: 0.6655519 (710)\ttotal: 1m 10s\tremaining: 28.8s\n711:\tlearn: 0.6385023\ttest: 0.6655571\tbest: 0.6655519 (710)\ttotal: 1m 10s\tremaining: 28.7s\n712:\tlearn: 0.6384589\ttest: 0.6655497\tbest: 0.6655497 (712)\ttotal: 1m 11s\tremaining: 28.6s\n713:\tlearn: 0.6384231\ttest: 0.6655512\tbest: 0.6655497 (712)\ttotal: 1m 11s\tremaining: 28.5s\n714:\tlearn: 0.6383899\ttest: 0.6655479\tbest: 0.6655479 (714)\ttotal: 1m 11s\tremaining: 28.4s\n715:\tlearn: 0.6383704\ttest: 0.6655469\tbest: 0.6655469 (715)\ttotal: 1m 11s\tremaining: 28.3s\n716:\tlearn: 0.6383261\ttest: 0.6655409\tbest: 0.6655409 (716)\ttotal: 1m 11s\tremaining: 28.2s\n717:\tlearn: 0.6383049\ttest: 0.6655399\tbest: 0.6655399 (717)\ttotal: 1m 11s\tremaining: 28.1s\n718:\tlearn: 0.6382818\ttest: 0.6655485\tbest: 0.6655399 (717)\ttotal: 1m 11s\tremaining: 28s\n719:\tlearn: 0.6382261\ttest: 0.6655468\tbest: 0.6655399 (717)\ttotal: 1m 11s\tremaining: 27.9s\n720:\tlearn: 0.6381809\ttest: 0.6655475\tbest: 0.6655399 (717)\ttotal: 1m 11s\tremaining: 27.8s\n721:\tlearn: 0.6381300\ttest: 0.6655417\tbest: 0.6655399 (717)\ttotal: 1m 11s\tremaining: 27.7s\n722:\tlearn: 0.6381065\ttest: 0.6655421\tbest: 0.6655399 (717)\ttotal: 1m 12s\tremaining: 27.6s\n723:\tlearn: 0.6380689\ttest: 0.6655445\tbest: 0.6655399 (717)\ttotal: 1m 12s\tremaining: 27.5s\n724:\tlearn: 0.6380118\ttest: 0.6655399\tbest: 0.6655399 (724)\ttotal: 1m 12s\tremaining: 27.4s\n725:\tlearn: 0.6379862\ttest: 0.6655414\tbest: 0.6655399 (724)\ttotal: 1m 12s\tremaining: 27.3s\n726:\tlearn: 0.6379441\ttest: 0.6655481\tbest: 0.6655399 (724)\ttotal: 1m 12s\tremaining: 27.2s\n727:\tlearn: 0.6379086\ttest: 0.6655583\tbest: 0.6655399 (724)\ttotal: 1m 12s\tremaining: 27.1s\n728:\tlearn: 0.6378836\ttest: 0.6655599\tbest: 0.6655399 (724)\ttotal: 1m 12s\tremaining: 27s\n729:\tlearn: 0.6378290\ttest: 0.6655474\tbest: 0.6655399 (724)\ttotal: 1m 12s\tremaining: 26.9s\n730:\tlearn: 0.6378032\ttest: 0.6655599\tbest: 0.6655399 (724)\ttotal: 1m 12s\tremaining: 26.8s\n731:\tlearn: 0.6377748\ttest: 0.6655634\tbest: 0.6655399 (724)\ttotal: 1m 12s\tremaining: 26.7s\n732:\tlearn: 0.6377323\ttest: 0.6655656\tbest: 0.6655399 (724)\ttotal: 1m 13s\tremaining: 26.6s\n733:\tlearn: 0.6377071\ttest: 0.6655704\tbest: 0.6655399 (724)\ttotal: 1m 13s\tremaining: 26.5s\n734:\tlearn: 0.6376709\ttest: 0.6655739\tbest: 0.6655399 (724)\ttotal: 1m 13s\tremaining: 26.4s\n735:\tlearn: 0.6376310\ttest: 0.6655659\tbest: 0.6655399 (724)\ttotal: 1m 13s\tremaining: 26.3s\n736:\tlearn: 0.6376031\ttest: 0.6655775\tbest: 0.6655399 (724)\ttotal: 1m 13s\tremaining: 26.2s\n737:\tlearn: 0.6375532\ttest: 0.6655852\tbest: 0.6655399 (724)\ttotal: 1m 13s\tremaining: 26.1s\n738:\tlearn: 0.6375271\ttest: 0.6655928\tbest: 0.6655399 (724)\ttotal: 1m 13s\tremaining: 26s\n739:\tlearn: 0.6374761\ttest: 0.6656072\tbest: 0.6655399 (724)\ttotal: 1m 13s\tremaining: 25.9s\n740:\tlearn: 0.6374439\ttest: 0.6656091\tbest: 0.6655399 (724)\ttotal: 1m 13s\tremaining: 25.8s\n741:\tlearn: 0.6374118\ttest: 0.6656011\tbest: 0.6655399 (724)\ttotal: 1m 13s\tremaining: 25.7s\n742:\tlearn: 0.6373762\ttest: 0.6655920\tbest: 0.6655399 (724)\ttotal: 1m 13s\tremaining: 25.6s\n743:\tlearn: 0.6373438\ttest: 0.6655958\tbest: 0.6655399 (724)\ttotal: 1m 14s\tremaining: 25.5s\n744:\tlearn: 0.6373227\ttest: 0.6655924\tbest: 0.6655399 (724)\ttotal: 1m 14s\tremaining: 25.4s\n745:\tlearn: 0.6372920\ttest: 0.6655933\tbest: 0.6655399 (724)\ttotal: 1m 14s\tremaining: 25.3s\n746:\tlearn: 0.6372475\ttest: 0.6655910\tbest: 0.6655399 (724)\ttotal: 1m 14s\tremaining: 25.2s\n747:\tlearn: 0.6372007\ttest: 0.6655848\tbest: 0.6655399 (724)\ttotal: 1m 14s\tremaining: 25.1s\n748:\tlearn: 0.6371651\ttest: 0.6655792\tbest: 0.6655399 (724)\ttotal: 1m 14s\tremaining: 25s\n749:\tlearn: 0.6371308\ttest: 0.6655815\tbest: 0.6655399 (724)\ttotal: 1m 14s\tremaining: 24.9s\n750:\tlearn: 0.6370962\ttest: 0.6655788\tbest: 0.6655399 (724)\ttotal: 1m 14s\tremaining: 24.8s\n751:\tlearn: 0.6370509\ttest: 0.6655749\tbest: 0.6655399 (724)\ttotal: 1m 14s\tremaining: 24.7s\n752:\tlearn: 0.6370142\ttest: 0.6655731\tbest: 0.6655399 (724)\ttotal: 1m 14s\tremaining: 24.6s\n753:\tlearn: 0.6369722\ttest: 0.6655801\tbest: 0.6655399 (724)\ttotal: 1m 15s\tremaining: 24.5s\n754:\tlearn: 0.6369552\ttest: 0.6655778\tbest: 0.6655399 (724)\ttotal: 1m 15s\tremaining: 24.4s\n755:\tlearn: 0.6369351\ttest: 0.6655797\tbest: 0.6655399 (724)\ttotal: 1m 15s\tremaining: 24.3s\n756:\tlearn: 0.6369127\ttest: 0.6655782\tbest: 0.6655399 (724)\ttotal: 1m 15s\tremaining: 24.2s\n757:\tlearn: 0.6368851\ttest: 0.6655785\tbest: 0.6655399 (724)\ttotal: 1m 15s\tremaining: 24.1s\n758:\tlearn: 0.6368398\ttest: 0.6655660\tbest: 0.6655399 (724)\ttotal: 1m 15s\tremaining: 24s\n759:\tlearn: 0.6367993\ttest: 0.6655710\tbest: 0.6655399 (724)\ttotal: 1m 15s\tremaining: 23.9s\n760:\tlearn: 0.6367530\ttest: 0.6655704\tbest: 0.6655399 (724)\ttotal: 1m 15s\tremaining: 23.8s\n761:\tlearn: 0.6367232\ttest: 0.6655648\tbest: 0.6655399 (724)\ttotal: 1m 15s\tremaining: 23.7s\n762:\tlearn: 0.6366793\ttest: 0.6655703\tbest: 0.6655399 (724)\ttotal: 1m 15s\tremaining: 23.6s\n763:\tlearn: 0.6366439\ttest: 0.6655678\tbest: 0.6655399 (724)\ttotal: 1m 15s\tremaining: 23.5s\n764:\tlearn: 0.6366253\ttest: 0.6655635\tbest: 0.6655399 (724)\ttotal: 1m 16s\tremaining: 23.4s\n765:\tlearn: 0.6365946\ttest: 0.6655685\tbest: 0.6655399 (724)\ttotal: 1m 16s\tremaining: 23.3s\n766:\tlearn: 0.6365708\ttest: 0.6655669\tbest: 0.6655399 (724)\ttotal: 1m 16s\tremaining: 23.2s\n767:\tlearn: 0.6365262\ttest: 0.6655734\tbest: 0.6655399 (724)\ttotal: 1m 16s\tremaining: 23.1s\n768:\tlearn: 0.6364747\ttest: 0.6655795\tbest: 0.6655399 (724)\ttotal: 1m 16s\tremaining: 23s\n769:\tlearn: 0.6364279\ttest: 0.6655638\tbest: 0.6655399 (724)\ttotal: 1m 16s\tremaining: 22.9s\n770:\tlearn: 0.6363797\ttest: 0.6655549\tbest: 0.6655399 (724)\ttotal: 1m 16s\tremaining: 22.8s\n771:\tlearn: 0.6363278\ttest: 0.6655551\tbest: 0.6655399 (724)\ttotal: 1m 16s\tremaining: 22.7s\n772:\tlearn: 0.6362912\ttest: 0.6655537\tbest: 0.6655399 (724)\ttotal: 1m 16s\tremaining: 22.6s\n773:\tlearn: 0.6362503\ttest: 0.6655533\tbest: 0.6655399 (724)\ttotal: 1m 16s\tremaining: 22.5s\n774:\tlearn: 0.6362157\ttest: 0.6655576\tbest: 0.6655399 (724)\ttotal: 1m 17s\tremaining: 22.4s\n775:\tlearn: 0.6361707\ttest: 0.6655608\tbest: 0.6655399 (724)\ttotal: 1m 17s\tremaining: 22.3s\n776:\tlearn: 0.6361279\ttest: 0.6655479\tbest: 0.6655399 (724)\ttotal: 1m 17s\tremaining: 22.2s\n777:\tlearn: 0.6360998\ttest: 0.6655409\tbest: 0.6655399 (724)\ttotal: 1m 17s\tremaining: 22.1s\n778:\tlearn: 0.6360510\ttest: 0.6655423\tbest: 0.6655399 (724)\ttotal: 1m 17s\tremaining: 22s\n779:\tlearn: 0.6360272\ttest: 0.6655384\tbest: 0.6655384 (779)\ttotal: 1m 17s\tremaining: 21.9s\n780:\tlearn: 0.6359831\ttest: 0.6655370\tbest: 0.6655370 (780)\ttotal: 1m 17s\tremaining: 21.8s\n781:\tlearn: 0.6359574\ttest: 0.6655398\tbest: 0.6655370 (780)\ttotal: 1m 17s\tremaining: 21.7s\n782:\tlearn: 0.6359276\ttest: 0.6655336\tbest: 0.6655336 (782)\ttotal: 1m 17s\tremaining: 21.6s\n783:\tlearn: 0.6359021\ttest: 0.6655298\tbest: 0.6655298 (783)\ttotal: 1m 17s\tremaining: 21.5s\n784:\tlearn: 0.6358590\ttest: 0.6655286\tbest: 0.6655286 (784)\ttotal: 1m 17s\tremaining: 21.4s\n785:\tlearn: 0.6358161\ttest: 0.6655301\tbest: 0.6655286 (784)\ttotal: 1m 18s\tremaining: 21.3s\n786:\tlearn: 0.6357757\ttest: 0.6655323\tbest: 0.6655286 (784)\ttotal: 1m 18s\tremaining: 21.2s\n787:\tlearn: 0.6357228\ttest: 0.6655228\tbest: 0.6655228 (787)\ttotal: 1m 18s\tremaining: 21.1s\n788:\tlearn: 0.6356569\ttest: 0.6655144\tbest: 0.6655144 (788)\ttotal: 1m 18s\tremaining: 21s\n789:\tlearn: 0.6356261\ttest: 0.6655112\tbest: 0.6655112 (789)\ttotal: 1m 18s\tremaining: 20.9s\n790:\tlearn: 0.6355722\ttest: 0.6655244\tbest: 0.6655112 (789)\ttotal: 1m 18s\tremaining: 20.8s\n791:\tlearn: 0.6355479\ttest: 0.6655124\tbest: 0.6655112 (789)\ttotal: 1m 18s\tremaining: 20.7s\n792:\tlearn: 0.6354994\ttest: 0.6655139\tbest: 0.6655112 (789)\ttotal: 1m 18s\tremaining: 20.6s\n793:\tlearn: 0.6354394\ttest: 0.6655152\tbest: 0.6655112 (789)\ttotal: 1m 18s\tremaining: 20.5s\n794:\tlearn: 0.6353907\ttest: 0.6655125\tbest: 0.6655112 (789)\ttotal: 1m 18s\tremaining: 20.4s\n795:\tlearn: 0.6353569\ttest: 0.6655085\tbest: 0.6655085 (795)\ttotal: 1m 19s\tremaining: 20.3s\n796:\tlearn: 0.6353322\ttest: 0.6655012\tbest: 0.6655012 (796)\ttotal: 1m 19s\tremaining: 20.2s\n797:\tlearn: 0.6352983\ttest: 0.6655023\tbest: 0.6655012 (796)\ttotal: 1m 19s\tremaining: 20.1s\n798:\tlearn: 0.6352715\ttest: 0.6654976\tbest: 0.6654976 (798)\ttotal: 1m 19s\tremaining: 20s\n799:\tlearn: 0.6352295\ttest: 0.6654856\tbest: 0.6654856 (799)\ttotal: 1m 19s\tremaining: 19.9s\n800:\tlearn: 0.6352027\ttest: 0.6654779\tbest: 0.6654779 (800)\ttotal: 1m 19s\tremaining: 19.8s\n801:\tlearn: 0.6351728\ttest: 0.6654782\tbest: 0.6654779 (800)\ttotal: 1m 19s\tremaining: 19.7s\n802:\tlearn: 0.6351194\ttest: 0.6654851\tbest: 0.6654779 (800)\ttotal: 1m 19s\tremaining: 19.6s\n803:\tlearn: 0.6350885\ttest: 0.6654791\tbest: 0.6654779 (800)\ttotal: 1m 19s\tremaining: 19.5s\n804:\tlearn: 0.6350671\ttest: 0.6654770\tbest: 0.6654770 (804)\ttotal: 1m 20s\tremaining: 19.4s\n805:\tlearn: 0.6350214\ttest: 0.6654866\tbest: 0.6654770 (804)\ttotal: 1m 20s\tremaining: 19.3s\n806:\tlearn: 0.6349721\ttest: 0.6654869\tbest: 0.6654770 (804)\ttotal: 1m 20s\tremaining: 19.2s\n807:\tlearn: 0.6349449\ttest: 0.6654834\tbest: 0.6654770 (804)\ttotal: 1m 20s\tremaining: 19.1s\n808:\tlearn: 0.6349161\ttest: 0.6654872\tbest: 0.6654770 (804)\ttotal: 1m 20s\tremaining: 19s\n809:\tlearn: 0.6348681\ttest: 0.6654829\tbest: 0.6654770 (804)\ttotal: 1m 20s\tremaining: 18.9s\n810:\tlearn: 0.6348362\ttest: 0.6654863\tbest: 0.6654770 (804)\ttotal: 1m 20s\tremaining: 18.8s\n811:\tlearn: 0.6347927\ttest: 0.6654941\tbest: 0.6654770 (804)\ttotal: 1m 20s\tremaining: 18.7s\n812:\tlearn: 0.6347628\ttest: 0.6654946\tbest: 0.6654770 (804)\ttotal: 1m 20s\tremaining: 18.6s\n813:\tlearn: 0.6347364\ttest: 0.6654978\tbest: 0.6654770 (804)\ttotal: 1m 20s\tremaining: 18.5s\n814:\tlearn: 0.6346955\ttest: 0.6655033\tbest: 0.6654770 (804)\ttotal: 1m 20s\tremaining: 18.4s\n815:\tlearn: 0.6346592\ttest: 0.6655045\tbest: 0.6654770 (804)\ttotal: 1m 21s\tremaining: 18.3s\n816:\tlearn: 0.6346289\ttest: 0.6655039\tbest: 0.6654770 (804)\ttotal: 1m 21s\tremaining: 18.2s\n817:\tlearn: 0.6345796\ttest: 0.6654904\tbest: 0.6654770 (804)\ttotal: 1m 21s\tremaining: 18.1s\n818:\tlearn: 0.6345584\ttest: 0.6654846\tbest: 0.6654770 (804)\ttotal: 1m 21s\tremaining: 18s\n819:\tlearn: 0.6345439\ttest: 0.6654824\tbest: 0.6654770 (804)\ttotal: 1m 21s\tremaining: 17.9s\n820:\tlearn: 0.6345022\ttest: 0.6654831\tbest: 0.6654770 (804)\ttotal: 1m 21s\tremaining: 17.8s\n821:\tlearn: 0.6344701\ttest: 0.6654830\tbest: 0.6654770 (804)\ttotal: 1m 21s\tremaining: 17.7s\n822:\tlearn: 0.6344645\ttest: 0.6654800\tbest: 0.6654770 (804)\ttotal: 1m 21s\tremaining: 17.6s\n823:\tlearn: 0.6344210\ttest: 0.6654783\tbest: 0.6654770 (804)\ttotal: 1m 21s\tremaining: 17.5s\n824:\tlearn: 0.6343709\ttest: 0.6654751\tbest: 0.6654751 (824)\ttotal: 1m 21s\tremaining: 17.4s\n825:\tlearn: 0.6343542\ttest: 0.6654759\tbest: 0.6654751 (824)\ttotal: 1m 21s\tremaining: 17.3s\n826:\tlearn: 0.6343102\ttest: 0.6654726\tbest: 0.6654726 (826)\ttotal: 1m 22s\tremaining: 17.2s\n827:\tlearn: 0.6342833\ttest: 0.6654727\tbest: 0.6654726 (826)\ttotal: 1m 22s\tremaining: 17.1s\n828:\tlearn: 0.6342644\ttest: 0.6654705\tbest: 0.6654705 (828)\ttotal: 1m 22s\tremaining: 17s\n829:\tlearn: 0.6342137\ttest: 0.6654586\tbest: 0.6654586 (829)\ttotal: 1m 22s\tremaining: 16.9s\n830:\tlearn: 0.6341912\ttest: 0.6654656\tbest: 0.6654586 (829)\ttotal: 1m 22s\tremaining: 16.8s\n831:\tlearn: 0.6341408\ttest: 0.6654643\tbest: 0.6654586 (829)\ttotal: 1m 22s\tremaining: 16.7s\n832:\tlearn: 0.6341116\ttest: 0.6654652\tbest: 0.6654586 (829)\ttotal: 1m 22s\tremaining: 16.6s\n833:\tlearn: 0.6340722\ttest: 0.6654612\tbest: 0.6654586 (829)\ttotal: 1m 22s\tremaining: 16.5s\n834:\tlearn: 0.6340239\ttest: 0.6654648\tbest: 0.6654586 (829)\ttotal: 1m 22s\tremaining: 16.4s\n835:\tlearn: 0.6339770\ttest: 0.6654727\tbest: 0.6654586 (829)\ttotal: 1m 22s\tremaining: 16.3s\n836:\tlearn: 0.6339484\ttest: 0.6654675\tbest: 0.6654586 (829)\ttotal: 1m 23s\tremaining: 16.2s\n837:\tlearn: 0.6339034\ttest: 0.6654635\tbest: 0.6654586 (829)\ttotal: 1m 23s\tremaining: 16.1s\n838:\tlearn: 0.6338738\ttest: 0.6654578\tbest: 0.6654578 (838)\ttotal: 1m 23s\tremaining: 16s\n839:\tlearn: 0.6338373\ttest: 0.6654509\tbest: 0.6654509 (839)\ttotal: 1m 23s\tremaining: 15.9s\n840:\tlearn: 0.6338154\ttest: 0.6654541\tbest: 0.6654509 (839)\ttotal: 1m 23s\tremaining: 15.8s\n841:\tlearn: 0.6337857\ttest: 0.6654456\tbest: 0.6654456 (841)\ttotal: 1m 23s\tremaining: 15.7s\n842:\tlearn: 0.6337576\ttest: 0.6654327\tbest: 0.6654327 (842)\ttotal: 1m 23s\tremaining: 15.6s\n843:\tlearn: 0.6337212\ttest: 0.6654307\tbest: 0.6654307 (843)\ttotal: 1m 23s\tremaining: 15.5s\n844:\tlearn: 0.6336892\ttest: 0.6654250\tbest: 0.6654250 (844)\ttotal: 1m 23s\tremaining: 15.4s\n845:\tlearn: 0.6336568\ttest: 0.6654192\tbest: 0.6654192 (845)\ttotal: 1m 23s\tremaining: 15.3s\n846:\tlearn: 0.6336203\ttest: 0.6654192\tbest: 0.6654192 (845)\ttotal: 1m 23s\tremaining: 15.2s\n847:\tlearn: 0.6336018\ttest: 0.6654352\tbest: 0.6654192 (845)\ttotal: 1m 24s\tremaining: 15.1s\n848:\tlearn: 0.6335515\ttest: 0.6654344\tbest: 0.6654192 (845)\ttotal: 1m 24s\tremaining: 15s\n849:\tlearn: 0.6334993\ttest: 0.6654243\tbest: 0.6654192 (845)\ttotal: 1m 24s\tremaining: 14.9s\n850:\tlearn: 0.6334613\ttest: 0.6654204\tbest: 0.6654192 (845)\ttotal: 1m 24s\tremaining: 14.8s\n851:\tlearn: 0.6334375\ttest: 0.6654224\tbest: 0.6654192 (845)\ttotal: 1m 24s\tremaining: 14.7s\n852:\tlearn: 0.6334106\ttest: 0.6654244\tbest: 0.6654192 (845)\ttotal: 1m 24s\tremaining: 14.6s\n853:\tlearn: 0.6333694\ttest: 0.6654242\tbest: 0.6654192 (845)\ttotal: 1m 24s\tremaining: 14.5s\n854:\tlearn: 0.6333386\ttest: 0.6654275\tbest: 0.6654192 (845)\ttotal: 1m 24s\tremaining: 14.4s\n855:\tlearn: 0.6332782\ttest: 0.6654258\tbest: 0.6654192 (845)\ttotal: 1m 24s\tremaining: 14.3s\n856:\tlearn: 0.6332313\ttest: 0.6654222\tbest: 0.6654192 (845)\ttotal: 1m 24s\tremaining: 14.2s\n857:\tlearn: 0.6332042\ttest: 0.6654165\tbest: 0.6654165 (857)\ttotal: 1m 25s\tremaining: 14.1s\n858:\tlearn: 0.6331768\ttest: 0.6654332\tbest: 0.6654165 (857)\ttotal: 1m 25s\tremaining: 14s\n859:\tlearn: 0.6331521\ttest: 0.6654370\tbest: 0.6654165 (857)\ttotal: 1m 25s\tremaining: 13.9s\n860:\tlearn: 0.6331087\ttest: 0.6654338\tbest: 0.6654165 (857)\ttotal: 1m 25s\tremaining: 13.8s\n861:\tlearn: 0.6330767\ttest: 0.6654309\tbest: 0.6654165 (857)\ttotal: 1m 25s\tremaining: 13.7s\n862:\tlearn: 0.6330337\ttest: 0.6654235\tbest: 0.6654165 (857)\ttotal: 1m 25s\tremaining: 13.6s\n863:\tlearn: 0.6329761\ttest: 0.6654110\tbest: 0.6654110 (863)\ttotal: 1m 25s\tremaining: 13.5s\n864:\tlearn: 0.6329452\ttest: 0.6654180\tbest: 0.6654110 (863)\ttotal: 1m 25s\tremaining: 13.4s\n865:\tlearn: 0.6328994\ttest: 0.6654243\tbest: 0.6654110 (863)\ttotal: 1m 25s\tremaining: 13.3s\n866:\tlearn: 0.6328556\ttest: 0.6654323\tbest: 0.6654110 (863)\ttotal: 1m 25s\tremaining: 13.2s\n867:\tlearn: 0.6328121\ttest: 0.6654394\tbest: 0.6654110 (863)\ttotal: 1m 26s\tremaining: 13.1s\n868:\tlearn: 0.6327884\ttest: 0.6654381\tbest: 0.6654110 (863)\ttotal: 1m 26s\tremaining: 13s\n869:\tlearn: 0.6327532\ttest: 0.6654357\tbest: 0.6654110 (863)\ttotal: 1m 26s\tremaining: 12.9s\n870:\tlearn: 0.6327130\ttest: 0.6654389\tbest: 0.6654110 (863)\ttotal: 1m 26s\tremaining: 12.8s\n871:\tlearn: 0.6326829\ttest: 0.6654288\tbest: 0.6654110 (863)\ttotal: 1m 26s\tremaining: 12.7s\n872:\tlearn: 0.6326306\ttest: 0.6654348\tbest: 0.6654110 (863)\ttotal: 1m 26s\tremaining: 12.6s\n873:\tlearn: 0.6325857\ttest: 0.6654255\tbest: 0.6654110 (863)\ttotal: 1m 26s\tremaining: 12.5s\n874:\tlearn: 0.6325569\ttest: 0.6654261\tbest: 0.6654110 (863)\ttotal: 1m 26s\tremaining: 12.4s\n875:\tlearn: 0.6325214\ttest: 0.6654235\tbest: 0.6654110 (863)\ttotal: 1m 26s\tremaining: 12.3s\n876:\tlearn: 0.6324827\ttest: 0.6654310\tbest: 0.6654110 (863)\ttotal: 1m 26s\tremaining: 12.2s\n877:\tlearn: 0.6324435\ttest: 0.6654365\tbest: 0.6654110 (863)\ttotal: 1m 26s\tremaining: 12.1s\n878:\tlearn: 0.6324294\ttest: 0.6654364\tbest: 0.6654110 (863)\ttotal: 1m 27s\tremaining: 12s\n879:\tlearn: 0.6324044\ttest: 0.6654333\tbest: 0.6654110 (863)\ttotal: 1m 27s\tremaining: 11.9s\n880:\tlearn: 0.6323781\ttest: 0.6654250\tbest: 0.6654110 (863)\ttotal: 1m 27s\tremaining: 11.8s\n881:\tlearn: 0.6323411\ttest: 0.6654262\tbest: 0.6654110 (863)\ttotal: 1m 27s\tremaining: 11.7s\n882:\tlearn: 0.6322975\ttest: 0.6654225\tbest: 0.6654110 (863)\ttotal: 1m 27s\tremaining: 11.6s\n883:\tlearn: 0.6322670\ttest: 0.6654260\tbest: 0.6654110 (863)\ttotal: 1m 27s\tremaining: 11.5s\n884:\tlearn: 0.6322217\ttest: 0.6654236\tbest: 0.6654110 (863)\ttotal: 1m 27s\tremaining: 11.4s\n885:\tlearn: 0.6321714\ttest: 0.6654255\tbest: 0.6654110 (863)\ttotal: 1m 27s\tremaining: 11.3s\n886:\tlearn: 0.6321330\ttest: 0.6654206\tbest: 0.6654110 (863)\ttotal: 1m 27s\tremaining: 11.2s\n887:\tlearn: 0.6320984\ttest: 0.6654185\tbest: 0.6654110 (863)\ttotal: 1m 27s\tremaining: 11.1s\n888:\tlearn: 0.6320629\ttest: 0.6654138\tbest: 0.6654110 (863)\ttotal: 1m 27s\tremaining: 11s\n889:\tlearn: 0.6320350\ttest: 0.6654159\tbest: 0.6654110 (863)\ttotal: 1m 28s\tremaining: 10.9s\n890:\tlearn: 0.6320077\ttest: 0.6654146\tbest: 0.6654110 (863)\ttotal: 1m 28s\tremaining: 10.8s\n891:\tlearn: 0.6319638\ttest: 0.6654137\tbest: 0.6654110 (863)\ttotal: 1m 28s\tremaining: 10.7s\n892:\tlearn: 0.6319353\ttest: 0.6654052\tbest: 0.6654052 (892)\ttotal: 1m 28s\tremaining: 10.6s\n893:\tlearn: 0.6319101\ttest: 0.6653967\tbest: 0.6653967 (893)\ttotal: 1m 28s\tremaining: 10.5s\n894:\tlearn: 0.6318803\ttest: 0.6653990\tbest: 0.6653967 (893)\ttotal: 1m 28s\tremaining: 10.4s\n895:\tlearn: 0.6318339\ttest: 0.6653911\tbest: 0.6653911 (895)\ttotal: 1m 28s\tremaining: 10.3s\n896:\tlearn: 0.6318150\ttest: 0.6653949\tbest: 0.6653911 (895)\ttotal: 1m 28s\tremaining: 10.2s\n897:\tlearn: 0.6317808\ttest: 0.6653890\tbest: 0.6653890 (897)\ttotal: 1m 28s\tremaining: 10.1s\n898:\tlearn: 0.6317519\ttest: 0.6653982\tbest: 0.6653890 (897)\ttotal: 1m 28s\tremaining: 10s\n899:\tlearn: 0.6317190\ttest: 0.6653990\tbest: 0.6653890 (897)\ttotal: 1m 29s\tremaining: 9.9s\n900:\tlearn: 0.6316851\ttest: 0.6653903\tbest: 0.6653890 (897)\ttotal: 1m 29s\tremaining: 9.8s\n901:\tlearn: 0.6316622\ttest: 0.6653916\tbest: 0.6653890 (897)\ttotal: 1m 29s\tremaining: 9.7s\n902:\tlearn: 0.6316215\ttest: 0.6653967\tbest: 0.6653890 (897)\ttotal: 1m 29s\tremaining: 9.6s\n903:\tlearn: 0.6315878\ttest: 0.6654031\tbest: 0.6653890 (897)\ttotal: 1m 29s\tremaining: 9.5s\n904:\tlearn: 0.6315531\ttest: 0.6653956\tbest: 0.6653890 (897)\ttotal: 1m 29s\tremaining: 9.4s\n905:\tlearn: 0.6315371\ttest: 0.6654002\tbest: 0.6653890 (897)\ttotal: 1m 29s\tremaining: 9.3s\n906:\tlearn: 0.6315098\ttest: 0.6653896\tbest: 0.6653890 (897)\ttotal: 1m 29s\tremaining: 9.2s\n907:\tlearn: 0.6314535\ttest: 0.6653954\tbest: 0.6653890 (897)\ttotal: 1m 29s\tremaining: 9.11s\n908:\tlearn: 0.6314110\ttest: 0.6653943\tbest: 0.6653890 (897)\ttotal: 1m 29s\tremaining: 9.01s\n909:\tlearn: 0.6313715\ttest: 0.6653931\tbest: 0.6653890 (897)\ttotal: 1m 30s\tremaining: 8.91s\n910:\tlearn: 0.6313334\ttest: 0.6653921\tbest: 0.6653890 (897)\ttotal: 1m 30s\tremaining: 8.81s\n911:\tlearn: 0.6313029\ttest: 0.6653914\tbest: 0.6653890 (897)\ttotal: 1m 30s\tremaining: 8.71s\n912:\tlearn: 0.6312794\ttest: 0.6653963\tbest: 0.6653890 (897)\ttotal: 1m 30s\tremaining: 8.61s\n913:\tlearn: 0.6312510\ttest: 0.6654035\tbest: 0.6653890 (897)\ttotal: 1m 30s\tremaining: 8.51s\n914:\tlearn: 0.6312000\ttest: 0.6654113\tbest: 0.6653890 (897)\ttotal: 1m 30s\tremaining: 8.41s\n915:\tlearn: 0.6311588\ttest: 0.6654164\tbest: 0.6653890 (897)\ttotal: 1m 30s\tremaining: 8.31s\n916:\tlearn: 0.6311191\ttest: 0.6654223\tbest: 0.6653890 (897)\ttotal: 1m 30s\tremaining: 8.21s\n917:\tlearn: 0.6310908\ttest: 0.6654282\tbest: 0.6653890 (897)\ttotal: 1m 30s\tremaining: 8.12s\n918:\tlearn: 0.6310669\ttest: 0.6654367\tbest: 0.6653890 (897)\ttotal: 1m 30s\tremaining: 8.02s\n919:\tlearn: 0.6310250\ttest: 0.6654364\tbest: 0.6653890 (897)\ttotal: 1m 31s\tremaining: 7.92s\n920:\tlearn: 0.6309967\ttest: 0.6654320\tbest: 0.6653890 (897)\ttotal: 1m 31s\tremaining: 7.82s\n921:\tlearn: 0.6309648\ttest: 0.6654315\tbest: 0.6653890 (897)\ttotal: 1m 31s\tremaining: 7.72s\n922:\tlearn: 0.6309227\ttest: 0.6654246\tbest: 0.6653890 (897)\ttotal: 1m 31s\tremaining: 7.62s\n923:\tlearn: 0.6308990\ttest: 0.6654277\tbest: 0.6653890 (897)\ttotal: 1m 31s\tremaining: 7.52s\n924:\tlearn: 0.6308591\ttest: 0.6654340\tbest: 0.6653890 (897)\ttotal: 1m 31s\tremaining: 7.42s\n925:\tlearn: 0.6308187\ttest: 0.6654355\tbest: 0.6653890 (897)\ttotal: 1m 31s\tremaining: 7.32s\n926:\tlearn: 0.6307744\ttest: 0.6654351\tbest: 0.6653890 (897)\ttotal: 1m 31s\tremaining: 7.22s\n927:\tlearn: 0.6307465\ttest: 0.6654377\tbest: 0.6653890 (897)\ttotal: 1m 31s\tremaining: 7.12s\n928:\tlearn: 0.6306870\ttest: 0.6654517\tbest: 0.6653890 (897)\ttotal: 1m 31s\tremaining: 7.02s\n929:\tlearn: 0.6306678\ttest: 0.6654531\tbest: 0.6653890 (897)\ttotal: 1m 31s\tremaining: 6.92s\n930:\tlearn: 0.6306256\ttest: 0.6654632\tbest: 0.6653890 (897)\ttotal: 1m 32s\tremaining: 6.82s\n931:\tlearn: 0.6305807\ttest: 0.6654622\tbest: 0.6653890 (897)\ttotal: 1m 32s\tremaining: 6.72s\n932:\tlearn: 0.6305574\ttest: 0.6654609\tbest: 0.6653890 (897)\ttotal: 1m 32s\tremaining: 6.63s\n933:\tlearn: 0.6305251\ttest: 0.6654660\tbest: 0.6653890 (897)\ttotal: 1m 32s\tremaining: 6.53s\n934:\tlearn: 0.6304814\ttest: 0.6654740\tbest: 0.6653890 (897)\ttotal: 1m 32s\tremaining: 6.43s\n935:\tlearn: 0.6304388\ttest: 0.6654737\tbest: 0.6653890 (897)\ttotal: 1m 32s\tremaining: 6.33s\n936:\tlearn: 0.6304090\ttest: 0.6654745\tbest: 0.6653890 (897)\ttotal: 1m 32s\tremaining: 6.23s\n937:\tlearn: 0.6303709\ttest: 0.6654689\tbest: 0.6653890 (897)\ttotal: 1m 32s\tremaining: 6.13s\n938:\tlearn: 0.6303346\ttest: 0.6654698\tbest: 0.6653890 (897)\ttotal: 1m 32s\tremaining: 6.03s\n939:\tlearn: 0.6303207\ttest: 0.6654678\tbest: 0.6653890 (897)\ttotal: 1m 32s\tremaining: 5.93s\n940:\tlearn: 0.6302819\ttest: 0.6654726\tbest: 0.6653890 (897)\ttotal: 1m 33s\tremaining: 5.83s\n941:\tlearn: 0.6302468\ttest: 0.6654705\tbest: 0.6653890 (897)\ttotal: 1m 33s\tremaining: 5.73s\n942:\tlearn: 0.6302048\ttest: 0.6654621\tbest: 0.6653890 (897)\ttotal: 1m 33s\tremaining: 5.63s\n943:\tlearn: 0.6301639\ttest: 0.6654700\tbest: 0.6653890 (897)\ttotal: 1m 33s\tremaining: 5.54s\n944:\tlearn: 0.6301289\ttest: 0.6654742\tbest: 0.6653890 (897)\ttotal: 1m 33s\tremaining: 5.44s\n945:\tlearn: 0.6300810\ttest: 0.6654737\tbest: 0.6653890 (897)\ttotal: 1m 33s\tremaining: 5.34s\n946:\tlearn: 0.6300518\ttest: 0.6654668\tbest: 0.6653890 (897)\ttotal: 1m 33s\tremaining: 5.24s\n947:\tlearn: 0.6299977\ttest: 0.6654654\tbest: 0.6653890 (897)\ttotal: 1m 33s\tremaining: 5.14s\n948:\tlearn: 0.6299583\ttest: 0.6654634\tbest: 0.6653890 (897)\ttotal: 1m 33s\tremaining: 5.04s\n949:\tlearn: 0.6299306\ttest: 0.6654625\tbest: 0.6653890 (897)\ttotal: 1m 33s\tremaining: 4.95s\n950:\tlearn: 0.6298944\ttest: 0.6654467\tbest: 0.6653890 (897)\ttotal: 1m 34s\tremaining: 4.85s\n951:\tlearn: 0.6298538\ttest: 0.6654364\tbest: 0.6653890 (897)\ttotal: 1m 34s\tremaining: 4.75s\n952:\tlearn: 0.6298265\ttest: 0.6654319\tbest: 0.6653890 (897)\ttotal: 1m 34s\tremaining: 4.65s\n953:\tlearn: 0.6298020\ttest: 0.6654306\tbest: 0.6653890 (897)\ttotal: 1m 34s\tremaining: 4.55s\n954:\tlearn: 0.6297756\ttest: 0.6654274\tbest: 0.6653890 (897)\ttotal: 1m 34s\tremaining: 4.45s\n955:\tlearn: 0.6297545\ttest: 0.6654424\tbest: 0.6653890 (897)\ttotal: 1m 34s\tremaining: 4.35s\n956:\tlearn: 0.6297301\ttest: 0.6654438\tbest: 0.6653890 (897)\ttotal: 1m 34s\tremaining: 4.25s\n957:\tlearn: 0.6296799\ttest: 0.6654406\tbest: 0.6653890 (897)\ttotal: 1m 34s\tremaining: 4.15s\n958:\tlearn: 0.6296335\ttest: 0.6654500\tbest: 0.6653890 (897)\ttotal: 1m 34s\tremaining: 4.05s\n959:\tlearn: 0.6296127\ttest: 0.6654546\tbest: 0.6653890 (897)\ttotal: 1m 34s\tremaining: 3.95s\n960:\tlearn: 0.6295782\ttest: 0.6654484\tbest: 0.6653890 (897)\ttotal: 1m 34s\tremaining: 3.85s\n961:\tlearn: 0.6295398\ttest: 0.6654398\tbest: 0.6653890 (897)\ttotal: 1m 35s\tremaining: 3.75s\n962:\tlearn: 0.6295013\ttest: 0.6654396\tbest: 0.6653890 (897)\ttotal: 1m 35s\tremaining: 3.66s\n963:\tlearn: 0.6294526\ttest: 0.6654481\tbest: 0.6653890 (897)\ttotal: 1m 35s\tremaining: 3.56s\n964:\tlearn: 0.6294094\ttest: 0.6654553\tbest: 0.6653890 (897)\ttotal: 1m 35s\tremaining: 3.46s\n965:\tlearn: 0.6293662\ttest: 0.6654602\tbest: 0.6653890 (897)\ttotal: 1m 35s\tremaining: 3.36s\n966:\tlearn: 0.6293421\ttest: 0.6654583\tbest: 0.6653890 (897)\ttotal: 1m 35s\tremaining: 3.26s\n967:\tlearn: 0.6293161\ttest: 0.6654585\tbest: 0.6653890 (897)\ttotal: 1m 35s\tremaining: 3.16s\n968:\tlearn: 0.6292896\ttest: 0.6654614\tbest: 0.6653890 (897)\ttotal: 1m 35s\tremaining: 3.06s\n969:\tlearn: 0.6292621\ttest: 0.6654667\tbest: 0.6653890 (897)\ttotal: 1m 35s\tremaining: 2.96s\n970:\tlearn: 0.6292315\ttest: 0.6654659\tbest: 0.6653890 (897)\ttotal: 1m 35s\tremaining: 2.87s\n971:\tlearn: 0.6292047\ttest: 0.6654701\tbest: 0.6653890 (897)\ttotal: 1m 36s\tremaining: 2.77s\n972:\tlearn: 0.6291842\ttest: 0.6654666\tbest: 0.6653890 (897)\ttotal: 1m 36s\tremaining: 2.67s\n973:\tlearn: 0.6291627\ttest: 0.6654713\tbest: 0.6653890 (897)\ttotal: 1m 36s\tremaining: 2.57s\n974:\tlearn: 0.6291215\ttest: 0.6654639\tbest: 0.6653890 (897)\ttotal: 1m 36s\tremaining: 2.47s\n975:\tlearn: 0.6290838\ttest: 0.6654606\tbest: 0.6653890 (897)\ttotal: 1m 36s\tremaining: 2.37s\n976:\tlearn: 0.6290592\ttest: 0.6654571\tbest: 0.6653890 (897)\ttotal: 1m 36s\tremaining: 2.27s\n977:\tlearn: 0.6290146\ttest: 0.6654587\tbest: 0.6653890 (897)\ttotal: 1m 36s\tremaining: 2.17s\n978:\tlearn: 0.6289784\ttest: 0.6654610\tbest: 0.6653890 (897)\ttotal: 1m 36s\tremaining: 2.07s\n979:\tlearn: 0.6289482\ttest: 0.6654664\tbest: 0.6653890 (897)\ttotal: 1m 36s\tremaining: 1.97s\n980:\tlearn: 0.6289273\ttest: 0.6654606\tbest: 0.6653890 (897)\ttotal: 1m 36s\tremaining: 1.88s\n981:\tlearn: 0.6288823\ttest: 0.6654738\tbest: 0.6653890 (897)\ttotal: 1m 36s\tremaining: 1.78s\n982:\tlearn: 0.6288592\ttest: 0.6654695\tbest: 0.6653890 (897)\ttotal: 1m 37s\tremaining: 1.68s\n983:\tlearn: 0.6288152\ttest: 0.6654658\tbest: 0.6653890 (897)\ttotal: 1m 37s\tremaining: 1.58s\n984:\tlearn: 0.6287922\ttest: 0.6654667\tbest: 0.6653890 (897)\ttotal: 1m 37s\tremaining: 1.48s\n985:\tlearn: 0.6287539\ttest: 0.6654692\tbest: 0.6653890 (897)\ttotal: 1m 37s\tremaining: 1.38s\n986:\tlearn: 0.6287131\ttest: 0.6654752\tbest: 0.6653890 (897)\ttotal: 1m 37s\tremaining: 1.28s\n987:\tlearn: 0.6286892\ttest: 0.6654762\tbest: 0.6653890 (897)\ttotal: 1m 37s\tremaining: 1.18s\n988:\tlearn: 0.6286555\ttest: 0.6654722\tbest: 0.6653890 (897)\ttotal: 1m 37s\tremaining: 1.08s\n989:\tlearn: 0.6286343\ttest: 0.6654759\tbest: 0.6653890 (897)\ttotal: 1m 37s\tremaining: 987ms\n990:\tlearn: 0.6285935\ttest: 0.6654868\tbest: 0.6653890 (897)\ttotal: 1m 37s\tremaining: 888ms\n991:\tlearn: 0.6285450\ttest: 0.6654913\tbest: 0.6653890 (897)\ttotal: 1m 37s\tremaining: 789ms\n992:\tlearn: 0.6284962\ttest: 0.6654798\tbest: 0.6653890 (897)\ttotal: 1m 37s\tremaining: 691ms\n993:\tlearn: 0.6284509\ttest: 0.6654892\tbest: 0.6653890 (897)\ttotal: 1m 38s\tremaining: 592ms\n994:\tlearn: 0.6284268\ttest: 0.6654945\tbest: 0.6653890 (897)\ttotal: 1m 38s\tremaining: 494ms\n995:\tlearn: 0.6284058\ttest: 0.6654870\tbest: 0.6653890 (897)\ttotal: 1m 38s\tremaining: 395ms\n996:\tlearn: 0.6283552\ttest: 0.6654809\tbest: 0.6653890 (897)\ttotal: 1m 38s\tremaining: 296ms\n997:\tlearn: 0.6283213\ttest: 0.6654808\tbest: 0.6653890 (897)\ttotal: 1m 38s\tremaining: 198ms\nStopped by overfitting detector  (100 iterations wait)\n\nbestTest = 0.6653890211\nbestIteration = 897\n\nShrink model to first 898 iterations.\n"
     ]
    },
    {
     "output_type": "execute_result",
     "data": {
      "text/plain": [
       "<catboost.core.CatBoostClassifier at 0xffb6419503e0>"
      ]
     },
     "execution_count": 56,
     "metadata": {},
     "output_type": "execute_result"
    }
   ],
   "source": [
    "model.fit(\n",
    "    X=X_train, y=y_train, \n",
    "    cat_features=None, eval_set=(X_val, y_val), \n",
    "    verbose=1\n",
    ")"
   ]
  },
  {
   "cell_type": "code",
   "execution_count": 0,
   "metadata": {
    "application/vnd.databricks.v1+cell": {
     "cellMetadata": {
      "byteLimit": 2048000,
      "rowLimit": 10000
     },
     "inputWidgets": {},
     "nuid": "d595bc96-165b-4e02-bfb8-a140fcb4200b",
     "showTitle": true,
     "tableResultSettingsMap": {},
     "title": "test"
    }
   },
   "outputs": [
    {
     "output_type": "display_data",
     "data": {
      "image/png": "[encoded data removed]",
      "text/plain": [
       "<Figure size 800x500 with 1 Axes>"
      ]
     },
     "metadata": {},
     "output_type": "display_data"
    }
   ],
   "source": [
    "import matplotlib.pyplot as plt\n",
    "\n",
    "importances = model.feature_importances_\n",
    "features = X_train.columns\n",
    "\n",
    "feat_imp = pd.DataFrame({'feature': features, 'importance': importances})\n",
    "feat_imp = feat_imp.sort_values('importance', ascending=False)\n",
    "\n",
    "feat_imp = feat_imp.head(20)\n",
    "\n",
    "plt.figure(figsize=(8, len(feat_imp) * 0.25))\n",
    "plt.barh(feat_imp['feature'], feat_imp['importance'])\n",
    "plt.xlabel('Importance')\n",
    "plt.ylabel('Feature')\n",
    "plt.gca().invert_yaxis()\n",
    "plt.title('Feature Importances')\n",
    "plt.show()"
   ]
  },
  {
   "cell_type": "code",
   "execution_count": 0,
   "metadata": {
    "application/vnd.databricks.v1+cell": {
     "cellMetadata": {
      "byteLimit": 2048000,
      "rowLimit": 10000
     },
     "inputWidgets": {},
     "nuid": "397e7703-d00c-469b-93b0-e762c0782609",
     "showTitle": false,
     "tableResultSettingsMap": {},
     "title": ""
    }
   },
   "outputs": [],
   "source": [
    "X_test = spark.read.table(training_params[\"test_set_path\"])\n",
    "X_test = X_test.toPandas()"
   ]
  },
  {
   "cell_type": "code",
   "execution_count": 0,
   "metadata": {
    "application/vnd.databricks.v1+cell": {
     "cellMetadata": {
      "byteLimit": 2048000,
      "rowLimit": 10000
     },
     "inputWidgets": {},
     "nuid": "29424041-aba9-497b-85e9-c1f56d878508",
     "showTitle": false,
     "tableResultSettingsMap": {},
     "title": ""
    }
   },
   "outputs": [],
   "source": [
    "VOLUME = \"kaggle_competition_data\"\n",
    "VERSION = \"0.5\"\n",
    "\n",
    "\n",
    "preds = model.predict_proba(X_test)[:, 1]\n",
    "\n",
    "preds_df = pd.DataFrame(\n",
    "    {\"id\": X_test[\"id\"], \"target\": preds}\n",
    ").sort_values(\"id\")\n",
    "\n",
    "preds_df.to_csv(\n",
    "    f\"/Volumes/{CATALOG}/{SCHEMA}/{VOLUME}/submissions/submission_v{VERSION}.csv\",\n",
    "    index=False\n",
    ")\n"
   ]
  },
  {
   "cell_type": "code",
   "execution_count": 0,
   "metadata": {
    "application/vnd.databricks.v1+cell": {
     "cellMetadata": {},
     "inputWidgets": {},
     "nuid": "d0ed2112-b0fb-4dae-b5f4-31c147672968",
     "showTitle": false,
     "tableResultSettingsMap": {},
     "title": ""
    }
   },
   "outputs": [],
   "source": []
  }
 ],
 "metadata": {
  "application/vnd.databricks.v1+notebook": {
   "computePreferences": {
    "hardware": {
     "accelerator": null,
     "gpuPoolId": null,
     "memory": null
    }
   },
   "dashboards": [],
   "environmentMetadata": {
    "base_environment": "",
    "dependencies": [
     "catboost==1.2.8"
    ],
    "environment_version": "4"
   },
   "inputWidgetPreferences": null,
   "language": "python",
   "notebookMetadata": {
    "pythonIndentUnit": 4
   },
   "notebookName": "run_frequency_model",
   "widgets": {}
  },
  "language_info": {
   "name": "python"
  }
 },
 "nbformat": 4,
 "nbformat_minor": 0
}
