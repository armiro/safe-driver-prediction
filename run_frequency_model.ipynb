{
 "cells": [
  {
   "cell_type": "code",
   "execution_count": 0,
   "metadata": {
    "application/vnd.databricks.v1+cell": {
     "cellMetadata": {
      "byteLimit": 2048000,
      "rowLimit": 10000
     },
     "inputWidgets": {},
     "nuid": "7f1da525-bfb1-472a-a65b-17f74f403d01",
     "showTitle": false,
     "tableResultSettingsMap": {},
     "title": ""
    }
   },
   "outputs": [
    {
     "output_type": "stream",
     "name": "stdout",
     "output_type": "stream",
     "text": [
      "2.22.0\n"
     ]
    },
    {
     "output_type": "display_data",
     "data": {
      "application/vnd.databricks.v1+spark_ml_hint": "",
      "text/plain": []
     },
     "metadata": {},
     "output_type": "display_data"
    }
   ],
   "source": [
    "import pyspark\n",
    "import mlflow\n",
    "import catboost\n",
    "import pyspark.sql.functions as F\n",
    "from sklearn.model_selection import train_test_split\n",
    "\n",
    "print(mlflow.__version__)"
   ]
  },
  {
   "cell_type": "code",
   "execution_count": 0,
   "metadata": {
    "application/vnd.databricks.v1+cell": {
     "cellMetadata": {
      "byteLimit": 2048000,
      "rowLimit": 10000
     },
     "inputWidgets": {},
     "nuid": "b034d383-e2b9-404d-a9f8-eba69a6e5b19",
     "showTitle": false,
     "tableResultSettingsMap": {},
     "title": ""
    }
   },
   "outputs": [
    {
     "output_type": "stream",
     "name": "stdout",
     "output_type": "stream",
     "text": [
      "training set has 595212 rows and 63 columns.\n"
     ]
    },
    {
     "output_type": "display_data",
     "data": {
      "text/html": [
       "<style scoped>\n",
       "  .table-result-container {\n",
       "    max-height: 300px;\n",
       "    overflow: auto;\n",
       "  }\n",
       "  table, th, td {\n",
       "    border: 1px solid black;\n",
       "    border-collapse: collapse;\n",
       "  }\n",
       "  th, td {\n",
       "    padding: 5px;\n",
       "  }\n",
       "  th {\n",
       "    text-align: left;\n",
       "  }\n",
       "</style><div class='table-result-container'><table class='table-result'><thead style='background-color: white'><tr><th>id</th><th>target</th><th>ind_01</th><th>ind_02_cat</th><th>ind_03</th><th>ind_04_cat</th><th>ind_05_cat</th><th>ind_06_bin</th><th>ind_07_bin</th><th>ind_08_bin</th><th>ind_09_bin</th><th>ind_10_bin</th><th>ind_11_bin</th><th>ind_12_bin</th><th>ind_13_bin</th><th>ind_14</th><th>ind_15</th><th>ind_16_bin</th><th>ind_17_bin</th><th>ind_18_bin</th><th>reg_01</th><th>reg_02</th><th>reg_03</th><th>car_01_cat</th><th>car_02_cat</th><th>car_03_cat</th><th>car_04_cat</th><th>car_05_cat</th><th>car_06_cat</th><th>car_07_cat</th><th>car_08_cat</th><th>car_09_cat</th><th>car_10_cat</th><th>car_11_cat</th><th>car_11</th><th>car_12</th><th>car_13</th><th>car_14</th><th>car_15</th><th>calc_01</th><th>calc_02</th><th>calc_03</th><th>calc_04</th><th>calc_05</th><th>calc_06</th><th>calc_07</th><th>calc_08</th><th>calc_09</th><th>calc_10</th><th>calc_11</th><th>calc_12</th><th>calc_13</th><th>calc_14</th><th>calc_15_bin</th><th>calc_16_bin</th><th>calc_17_bin</th><th>calc_18_bin</th><th>calc_19_bin</th><th>calc_20_bin</th><th>car_04_cat_simplified</th><th>car_11_cat_simplified</th><th>ind_02_cat_simplified</th><th>ind_05_cat_simplified</th></tr></thead><tbody><tr><td>1212</td><td>0</td><td>0</td><td>1</td><td>7</td><td>1</td><td>0</td><td>1</td><td>0</td><td>0</td><td>0</td><td>0</td><td>0</td><td>0</td><td>0</td><td>0</td><td>12</td><td>1</td><td>0</td><td>0</td><td>0.3</td><td>0.2</td><td>0.8019507466</td><td>4</td><td>1</td><td>0.0</td><td>0</td><td>1.0</td><td>11</td><td>1</td><td>1</td><td>0</td><td>1</td><td>103</td><td>1</td><td>0.316227766</td><td>0.6671451451</td><td>0.3583294573</td><td>3.3166247904</td><td>0.6</td><td>0.3</td><td>0.5</td><td>1</td><td>3</td><td>9</td><td>3</td><td>10</td><td>1</td><td>4</td><td>5</td><td>1</td><td>6</td><td>8</td><td>0</td><td>1</td><td>0</td><td>1</td><td>0</td><td>0</td><td>1</td><td>0</td><td>1</td><td>1</td></tr><tr><td>1477</td><td>0</td><td>0</td><td>1</td><td>7</td><td>0</td><td>0</td><td>1</td><td>0</td><td>0</td><td>0</td><td>0</td><td>0</td><td>0</td><td>0</td><td>0</td><td>3</td><td>0</td><td>0</td><td>1</td><td>0.9</td><td>0.4</td><td>0.7681145748</td><td>11</td><td>1</td><td>0.0</td><td>0</td><td>0.0</td><td>1</td><td>1</td><td>1</td><td>2</td><td>1</td><td>64</td><td>3</td><td>0.316227766</td><td>0.6603123478</td><td>0.3619392214</td><td>3.1622776602</td><td>0.1</td><td>0.2</td><td>0.6</td><td>3</td><td>3</td><td>8</td><td>3</td><td>10</td><td>2</td><td>6</td><td>8</td><td>0</td><td>4</td><td>11</td><td>1</td><td>1</td><td>0</td><td>0</td><td>0</td><td>0</td><td>1</td><td>0</td><td>1</td><td>1</td></tr><tr><td>4101</td><td>0</td><td>0</td><td>2</td><td>0</td><td>0</td><td>6</td><td>1</td><td>0</td><td>0</td><td>0</td><td>0</td><td>0</td><td>0</td><td>0</td><td>0</td><td>0</td><td>0</td><td>0</td><td>1</td><td>0.2</td><td>0.3</td><td>0.8019507466</td><td>8</td><td>0</td><td>0.0</td><td>0</td><td>1.0</td><td>11</td><td>1</td><td>1</td><td>0</td><td>1</td><td>104</td><td>3</td><td>0.44721359549999995</td><td>0.7809191448</td><td>0.4248529157</td><td>2.8284271247</td><td>0.6</td><td>0.7</td><td>0.6</td><td>3</td><td>2</td><td>6</td><td>3</td><td>11</td><td>5</td><td>9</td><td>10</td><td>2</td><td>2</td><td>13</td><td>0</td><td>1</td><td>1</td><td>0</td><td>0</td><td>1</td><td>1</td><td>1</td><td>0</td><td>0</td></tr><tr><td>7596</td><td>0</td><td>6</td><td>2</td><td>9</td><td>0</td><td>0</td><td>0</td><td>0</td><td>1</td><td>0</td><td>0</td><td>0</td><td>0</td><td>0</td><td>0</td><td>7</td><td>1</td><td>0</td><td>0</td><td>0.6</td><td>1.3</td><td>1.0356157589</td><td>8</td><td>1</td><td>1.0</td><td>0</td><td>1.0</td><td>1</td><td>1</td><td>0</td><td>0</td><td>1</td><td>31</td><td>3</td><td>0.423792402</td><td>1.1132773076</td><td>0.4084115571</td><td>3.7416573868</td><td>0.9</td><td>0.8</td><td>0.6</td><td>2</td><td>1</td><td>8</td><td>4</td><td>9</td><td>2</td><td>3</td><td>7</td><td>2</td><td>2</td><td>7</td><td>0</td><td>1</td><td>0</td><td>0</td><td>1</td><td>0</td><td>1</td><td>0</td><td>0</td><td>1</td></tr><tr><td>9769</td><td>0</td><td>1</td><td>4</td><td>7</td><td>1</td><td>0</td><td>1</td><td>0</td><td>0</td><td>0</td><td>0</td><td>0</td><td>0</td><td>0</td><td>0</td><td>5</td><td>0</td><td>0</td><td>0</td><td>0.9</td><td>0.2</td><td>0.8019507466</td><td>6</td><td>1</td><td>0.0</td><td>0</td><td>0.0</td><td>0</td><td>1</td><td>1</td><td>0</td><td>1</td><td>34</td><td>2</td><td>0.4</td><td>0.7783883541</td><td>0.3780211634</td><td>3.3166247904</td><td>0.5</td><td>0.3</td><td>0.0</td><td>1</td><td>4</td><td>10</td><td>3</td><td>11</td><td>1</td><td>8</td><td>8</td><td>0</td><td>2</td><td>11</td><td>0</td><td>1</td><td>0</td><td>0</td><td>0</td><td>0</td><td>1</td><td>0</td><td>0</td><td>1</td></tr><tr><td>11961</td><td>0</td><td>2</td><td>1</td><td>8</td><td>0</td><td>0</td><td>1</td><td>0</td><td>0</td><td>0</td><td>0</td><td>0</td><td>0</td><td>0</td><td>0</td><td>4</td><td>0</td><td>0</td><td>1</td><td>0.8</td><td>0.9</td><td>1.0440306509000001</td><td>11</td><td>1</td><td>1.0</td><td>0</td><td>1.0</td><td>11</td><td>1</td><td>1</td><td>2</td><td>1</td><td>103</td><td>1</td><td>0.3160696126</td><td>0.5245423034000001</td><td>0.2887905816</td><td>1.7320508075999999</td><td>0.4</td><td>0.6</td><td>0.8</td><td>2</td><td>1</td><td>7</td><td>4</td><td>8</td><td>2</td><td>11</td><td>6</td><td>1</td><td>1</td><td>8</td><td>0</td><td>1</td><td>0</td><td>0</td><td>1</td><td>0</td><td>1</td><td>0</td><td>1</td><td>1</td></tr><tr><td>17080</td><td>0</td><td>4</td><td>1</td><td>4</td><td>1</td><td>0</td><td>0</td><td>1</td><td>0</td><td>0</td><td>0</td><td>0</td><td>0</td><td>0</td><td>0</td><td>0</td><td>0</td><td>0</td><td>1</td><td>0.9</td><td>0.3</td><td>0.7301540933</td><td>7</td><td>1</td><td>0.0</td><td>0</td><td>0.0</td><td>6</td><td>0</td><td>1</td><td>2</td><td>1</td><td>77</td><td>2</td><td>0.3741657387</td><td>0.7140994444</td><td>0.37349698789999997</td><td>3.1622776602</td><td>0.0</td><td>0.5</td><td>0.4</td><td>0</td><td>1</td><td>7</td><td>1</td><td>10</td><td>1</td><td>5</td><td>5</td><td>1</td><td>2</td><td>7</td><td>0</td><td>0</td><td>0</td><td>0</td><td>0</td><td>0</td><td>1</td><td>0</td><td>1</td><td>1</td></tr><tr><td>20410</td><td>0</td><td>5</td><td>2</td><td>6</td><td>1</td><td>0</td><td>0</td><td>1</td><td>0</td><td>0</td><td>0</td><td>0</td><td>0</td><td>0</td><td>0</td><td>7</td><td>1</td><td>0</td><td>0</td><td>0.6</td><td>0.8</td><td>1.6</td><td>8</td><td>1</td><td>1.0</td><td>0</td><td>1.0</td><td>14</td><td>1</td><td>0</td><td>2</td><td>1</td><td>72</td><td>3</td><td>0.4</td><td>1.1625616485999999</td><td>0.35042830939999997</td><td>3.6055512755000003</td><td>0.2</td><td>0.1</td><td>0.2</td><td>4</td><td>3</td><td>6</td><td>3</td><td>11</td><td>1</td><td>7</td><td>5</td><td>2</td><td>4</td><td>2</td><td>1</td><td>0</td><td>0</td><td>0</td><td>0</td><td>0</td><td>1</td><td>0</td><td>0</td><td>1</td></tr><tr><td>20908</td><td>0</td><td>0</td><td>2</td><td>1</td><td>1</td><td>0</td><td>0</td><td>1</td><td>0</td><td>0</td><td>0</td><td>0</td><td>0</td><td>0</td><td>0</td><td>4</td><td>1</td><td>0</td><td>0</td><td>0.6</td><td>0.5</td><td>0.6941721688</td><td>7</td><td>1</td><td>0.0</td><td>0</td><td>0.0</td><td>1</td><td>1</td><td>0</td><td>2</td><td>1</td><td>80</td><td>3</td><td>0.316227766</td><td>0.8284955997</td><td>0.37349698789999997</td><td>3.6055512755000003</td><td>0.1</td><td>0.0</td><td>0.8</td><td>3</td><td>3</td><td>8</td><td>3</td><td>9</td><td>0</td><td>12</td><td>9</td><td>0</td><td>1</td><td>9</td><td>0</td><td>0</td><td>1</td><td>0</td><td>0</td><td>0</td><td>1</td><td>0</td><td>0</td><td>1</td></tr><tr><td>21142</td><td>0</td><td>4</td><td>1</td><td>3</td><td>1</td><td>0</td><td>0</td><td>0</td><td>1</td><td>0</td><td>0</td><td>0</td><td>0</td><td>0</td><td>0</td><td>5</td><td>1</td><td>0</td><td>0</td><td>0.4</td><td>0.2</td><td>0.6982120022</td><td>6</td><td>1</td><td>1.0</td><td>0</td><td>1.0</td><td>14</td><td>1</td><td>1</td><td>0</td><td>1</td><td>42</td><td>2</td><td>0.4</td><td>0.7369245899</td><td>0.3937003937</td><td>3.1622776602</td><td>0.4</td><td>0.8</td><td>0.1</td><td>4</td><td>1</td><td>8</td><td>3</td><td>11</td><td>1</td><td>9</td><td>3</td><td>0</td><td>4</td><td>7</td><td>0</td><td>0</td><td>1</td><td>0</td><td>1</td><td>0</td><td>1</td><td>0</td><td>1</td><td>1</td></tr></tbody></table></div>"
      ]
     },
     "metadata": {
      "application/vnd.databricks.v1+output": {
       "addedWidgets": {},
       "aggData": [],
       "aggError": "",
       "aggOverflow": false,
       "aggSchema": [],
       "aggSeriesLimitReached": false,
       "aggType": "",
       "arguments": {},
       "columnCustomDisplayInfos": {},
       "data": [
        [
         1212,
         0,
         0,
         1,
         7,
         1,
         0,
         1,
         0,
         0,
         0,
         0,
         0,
         0,
         0,
         0,
         12,
         1,
         0,
         0,
         0.3,
         0.2,
         0.8019507466,
         4,
         1,
         0.0,
         0,
         1.0,
         11,
         1,
         1,
         0,
         1,
         103,
         1,
         0.316227766,
         0.6671451451,
         0.3583294573,
         3.3166247904,
         0.6,
         0.3,
         0.5,
         1,
         3,
         9,
         3,
         10,
         1,
         4,
         5,
         1,
         6,
         8,
         0,
         1,
         0,
         1,
         0,
         0,
         1,
         0,
         1,
         1
        ],
        [
         1477,
         0,
         0,
         1,
         7,
         0,
         0,
         1,
         0,
         0,
         0,
         0,
         0,
         0,
         0,
         0,
         3,
         0,
         0,
         1,
         0.9,
         0.4,
         0.7681145748,
         11,
         1,
         0.0,
         0,
         0.0,
         1,
         1,
         1,
         2,
         1,
         64,
         3,
         0.316227766,
         0.6603123478,
         0.3619392214,
         3.1622776602,
         0.1,
         0.2,
         0.6,
         3,
         3,
         8,
         3,
         10,
         2,
         6,
         8,
         0,
         4,
         11,
         1,
         1,
         0,
         0,
         0,
         0,
         1,
         0,
         1,
         1
        ],
        [
         4101,
         0,
         0,
         2,
         0,
         0,
         6,
         1,
         0,
         0,
         0,
         0,
         0,
         0,
         0,
         0,
         0,
         0,
         0,
         1,
         0.2,
         0.3,
         0.8019507466,
         8,
         0,
         0.0,
         0,
         1.0,
         11,
         1,
         1,
         0,
         1,
         104,
         3,
         0.44721359549999995,
         0.7809191448,
         0.4248529157,
         2.8284271247,
         0.6,
         0.7,
         0.6,
         3,
         2,
         6,
         3,
         11,
         5,
         9,
         10,
         2,
         2,
         13,
         0,
         1,
         1,
         0,
         0,
         1,
         1,
         1,
         0,
         0
        ],
        [
         7596,
         0,
         6,
         2,
         9,
         0,
         0,
         0,
         0,
         1,
         0,
         0,
         0,
         0,
         0,
         0,
         7,
         1,
         0,
         0,
         0.6,
         1.3,
         1.0356157589,
         8,
         1,
         1.0,
         0,
         1.0,
         1,
         1,
         0,
         0,
         1,
         31,
         3,
         0.423792402,
         1.1132773076,
         0.4084115571,
         3.7416573868,
         0.9,
         0.8,
         0.6,
         2,
         1,
         8,
         4,
         9,
         2,
         3,
         7,
         2,
         2,
         7,
         0,
         1,
         0,
         0,
         1,
         0,
         1,
         0,
         0,
         1
        ],
        [
         9769,
         0,
         1,
         4,
         7,
         1,
         0,
         1,
         0,
         0,
         0,
         0,
         0,
         0,
         0,
         0,
         5,
         0,
         0,
         0,
         0.9,
         0.2,
         0.8019507466,
         6,
         1,
         0.0,
         0,
         0.0,
         0,
         1,
         1,
         0,
         1,
         34,
         2,
         0.4,
         0.7783883541,
         0.3780211634,
         3.3166247904,
         0.5,
         0.3,
         0.0,
         1,
         4,
         10,
         3,
         11,
         1,
         8,
         8,
         0,
         2,
         11,
         0,
         1,
         0,
         0,
         0,
         0,
         1,
         0,
         0,
         1
        ],
        [
         11961,
         0,
         2,
         1,
         8,
         0,
         0,
         1,
         0,
         0,
         0,
         0,
         0,
         0,
         0,
         0,
         4,
         0,
         0,
         1,
         0.8,
         0.9,
         1.0440306509000001,
         11,
         1,
         1.0,
         0,
         1.0,
         11,
         1,
         1,
         2,
         1,
         103,
         1,
         0.3160696126,
         0.5245423034000001,
         0.2887905816,
         1.7320508075999999,
         0.4,
         0.6,
         0.8,
         2,
         1,
         7,
         4,
         8,
         2,
         11,
         6,
         1,
         1,
         8,
         0,
         1,
         0,
         0,
         1,
         0,
         1,
         0,
         1,
         1
        ],
        [
         17080,
         0,
         4,
         1,
         4,
         1,
         0,
         0,
         1,
         0,
         0,
         0,
         0,
         0,
         0,
         0,
         0,
         0,
         0,
         1,
         0.9,
         0.3,
         0.7301540933,
         7,
         1,
         0.0,
         0,
         0.0,
         6,
         0,
         1,
         2,
         1,
         77,
         2,
         0.3741657387,
         0.7140994444,
         0.37349698789999997,
         3.1622776602,
         0.0,
         0.5,
         0.4,
         0,
         1,
         7,
         1,
         10,
         1,
         5,
         5,
         1,
         2,
         7,
         0,
         0,
         0,
         0,
         0,
         0,
         1,
         0,
         1,
         1
        ],
        [
         20410,
         0,
         5,
         2,
         6,
         1,
         0,
         0,
         1,
         0,
         0,
         0,
         0,
         0,
         0,
         0,
         7,
         1,
         0,
         0,
         0.6,
         0.8,
         1.6,
         8,
         1,
         1.0,
         0,
         1.0,
         14,
         1,
         0,
         2,
         1,
         72,
         3,
         0.4,
         1.1625616485999999,
         0.35042830939999997,
         3.6055512755000003,
         0.2,
         0.1,
         0.2,
         4,
         3,
         6,
         3,
         11,
         1,
         7,
         5,
         2,
         4,
         2,
         1,
         0,
         0,
         0,
         0,
         0,
         1,
         0,
         0,
         1
        ],
        [
         20908,
         0,
         0,
         2,
         1,
         1,
         0,
         0,
         1,
         0,
         0,
         0,
         0,
         0,
         0,
         0,
         4,
         1,
         0,
         0,
         0.6,
         0.5,
         0.6941721688,
         7,
         1,
         0.0,
         0,
         0.0,
         1,
         1,
         0,
         2,
         1,
         80,
         3,
         0.316227766,
         0.8284955997,
         0.37349698789999997,
         3.6055512755000003,
         0.1,
         0.0,
         0.8,
         3,
         3,
         8,
         3,
         9,
         0,
         12,
         9,
         0,
         1,
         9,
         0,
         0,
         1,
         0,
         0,
         0,
         1,
         0,
         0,
         1
        ],
        [
         21142,
         0,
         4,
         1,
         3,
         1,
         0,
         0,
         0,
         1,
         0,
         0,
         0,
         0,
         0,
         0,
         5,
         1,
         0,
         0,
         0.4,
         0.2,
         0.6982120022,
         6,
         1,
         1.0,
         0,
         1.0,
         14,
         1,
         1,
         0,
         1,
         42,
         2,
         0.4,
         0.7369245899,
         0.3937003937,
         3.1622776602,
         0.4,
         0.8,
         0.1,
         4,
         1,
         8,
         3,
         11,
         1,
         9,
         3,
         0,
         4,
         7,
         0,
         0,
         1,
         0,
         1,
         0,
         1,
         0,
         1,
         1
        ]
       ],
       "datasetInfos": [],
       "dbfsResultPath": null,
       "isJsonSchema": true,
       "metadata": {},
       "overflow": false,
       "plotOptions": {
        "customPlotOptions": {},
        "displayType": "table",
        "pivotAggregation": null,
        "pivotColumns": null,
        "xColumns": null,
        "yColumns": null
       },
       "removedWidgets": [],
       "schema": [
        {
         "metadata": "{}",
         "name": "id",
         "type": "\"integer\""
        },
        {
         "metadata": "{}",
         "name": "target",
         "type": "\"integer\""
        },
        {
         "metadata": "{}",
         "name": "ind_01",
         "type": "\"integer\""
        },
        {
         "metadata": "{}",
         "name": "ind_02_cat",
         "type": "\"integer\""
        },
        {
         "metadata": "{}",
         "name": "ind_03",
         "type": "\"integer\""
        },
        {
         "metadata": "{}",
         "name": "ind_04_cat",
         "type": "\"integer\""
        },
        {
         "metadata": "{}",
         "name": "ind_05_cat",
         "type": "\"integer\""
        },
        {
         "metadata": "{}",
         "name": "ind_06_bin",
         "type": "\"integer\""
        },
        {
         "metadata": "{}",
         "name": "ind_07_bin",
         "type": "\"integer\""
        },
        {
         "metadata": "{}",
         "name": "ind_08_bin",
         "type": "\"integer\""
        },
        {
         "metadata": "{}",
         "name": "ind_09_bin",
         "type": "\"integer\""
        },
        {
         "metadata": "{}",
         "name": "ind_10_bin",
         "type": "\"integer\""
        },
        {
         "metadata": "{}",
         "name": "ind_11_bin",
         "type": "\"integer\""
        },
        {
         "metadata": "{}",
         "name": "ind_12_bin",
         "type": "\"integer\""
        },
        {
         "metadata": "{}",
         "name": "ind_13_bin",
         "type": "\"integer\""
        },
        {
         "metadata": "{}",
         "name": "ind_14",
         "type": "\"integer\""
        },
        {
         "metadata": "{}",
         "name": "ind_15",
         "type": "\"integer\""
        },
        {
         "metadata": "{}",
         "name": "ind_16_bin",
         "type": "\"integer\""
        },
        {
         "metadata": "{}",
         "name": "ind_17_bin",
         "type": "\"integer\""
        },
        {
         "metadata": "{}",
         "name": "ind_18_bin",
         "type": "\"integer\""
        },
        {
         "metadata": "{}",
         "name": "reg_01",
         "type": "\"double\""
        },
        {
         "metadata": "{}",
         "name": "reg_02",
         "type": "\"double\""
        },
        {
         "metadata": "{}",
         "name": "reg_03",
         "type": "\"double\""
        },
        {
         "metadata": "{}",
         "name": "car_01_cat",
         "type": "\"integer\""
        },
        {
         "metadata": "{}",
         "name": "car_02_cat",
         "type": "\"integer\""
        },
        {
         "metadata": "{}",
         "name": "car_03_cat",
         "type": "\"double\""
        },
        {
         "metadata": "{}",
         "name": "car_04_cat",
         "type": "\"integer\""
        },
        {
         "metadata": "{}",
         "name": "car_05_cat",
         "type": "\"double\""
        },
        {
         "metadata": "{}",
         "name": "car_06_cat",
         "type": "\"integer\""
        },
        {
         "metadata": "{}",
         "name": "car_07_cat",
         "type": "\"integer\""
        },
        {
         "metadata": "{}",
         "name": "car_08_cat",
         "type": "\"integer\""
        },
        {
         "metadata": "{}",
         "name": "car_09_cat",
         "type": "\"integer\""
        },
        {
         "metadata": "{}",
         "name": "car_10_cat",
         "type": "\"integer\""
        },
        {
         "metadata": "{}",
         "name": "car_11_cat",
         "type": "\"integer\""
        },
        {
         "metadata": "{}",
         "name": "car_11",
         "type": "\"integer\""
        },
        {
         "metadata": "{}",
         "name": "car_12",
         "type": "\"double\""
        },
        {
         "metadata": "{}",
         "name": "car_13",
         "type": "\"double\""
        },
        {
         "metadata": "{}",
         "name": "car_14",
         "type": "\"double\""
        },
        {
         "metadata": "{}",
         "name": "car_15",
         "type": "\"double\""
        },
        {
         "metadata": "{}",
         "name": "calc_01",
         "type": "\"double\""
        },
        {
         "metadata": "{}",
         "name": "calc_02",
         "type": "\"double\""
        },
        {
         "metadata": "{}",
         "name": "calc_03",
         "type": "\"double\""
        },
        {
         "metadata": "{}",
         "name": "calc_04",
         "type": "\"integer\""
        },
        {
         "metadata": "{}",
         "name": "calc_05",
         "type": "\"integer\""
        },
        {
         "metadata": "{}",
         "name": "calc_06",
         "type": "\"integer\""
        },
        {
         "metadata": "{}",
         "name": "calc_07",
         "type": "\"integer\""
        },
        {
         "metadata": "{}",
         "name": "calc_08",
         "type": "\"integer\""
        },
        {
         "metadata": "{}",
         "name": "calc_09",
         "type": "\"integer\""
        },
        {
         "metadata": "{}",
         "name": "calc_10",
         "type": "\"integer\""
        },
        {
         "metadata": "{}",
         "name": "calc_11",
         "type": "\"integer\""
        },
        {
         "metadata": "{}",
         "name": "calc_12",
         "type": "\"integer\""
        },
        {
         "metadata": "{}",
         "name": "calc_13",
         "type": "\"integer\""
        },
        {
         "metadata": "{}",
         "name": "calc_14",
         "type": "\"integer\""
        },
        {
         "metadata": "{}",
         "name": "calc_15_bin",
         "type": "\"integer\""
        },
        {
         "metadata": "{}",
         "name": "calc_16_bin",
         "type": "\"integer\""
        },
        {
         "metadata": "{}",
         "name": "calc_17_bin",
         "type": "\"integer\""
        },
        {
         "metadata": "{}",
         "name": "calc_18_bin",
         "type": "\"integer\""
        },
        {
         "metadata": "{}",
         "name": "calc_19_bin",
         "type": "\"integer\""
        },
        {
         "metadata": "{}",
         "name": "calc_20_bin",
         "type": "\"integer\""
        },
        {
         "metadata": "{}",
         "name": "car_04_cat_simplified",
         "type": "\"integer\""
        },
        {
         "metadata": "{}",
         "name": "car_11_cat_simplified",
         "type": "\"integer\""
        },
        {
         "metadata": "{}",
         "name": "ind_02_cat_simplified",
         "type": "\"integer\""
        },
        {
         "metadata": "{}",
         "name": "ind_05_cat_simplified",
         "type": "\"integer\""
        }
       ],
       "type": "table"
      }
     },
     "output_type": "display_data"
    }
   ],
   "source": [
    "CATALOG = \"workspace\"\n",
    "SCHEMA = \"safe_driver_prediction\"\n",
    "\n",
    "fs_df = spark.read.table(f\"{CATALOG}.{SCHEMA}.feature_store_train\")\n",
    "\n",
    "print(f\"training set has {fs_df.count()} rows and {len(fs_df.columns)} columns.\")\n",
    "fs_df.limit(10).display()"
   ]
  },
  {
   "cell_type": "code",
   "execution_count": 0,
   "metadata": {
    "application/vnd.databricks.v1+cell": {
     "cellMetadata": {
      "byteLimit": 2048000,
      "rowLimit": 10000
     },
     "inputWidgets": {},
     "nuid": "3c9584e9-10d8-4639-8782-b7c9073d0829",
     "showTitle": false,
     "tableResultSettingsMap": {},
     "title": ""
    }
   },
   "outputs": [],
   "source": [
    "X = fs_df.drop(\"target\").toPandas()\n",
    "y = fs_df.select(\"target\").toPandas()\n",
    "\n",
    "X_train, X_val, y_train, y_val = train_test_split(\n",
    "    X, y, test_size=0.2, stratify=y, random_state=40\n",
    ")"
   ]
  },
  {
   "cell_type": "code",
   "execution_count": 0,
   "metadata": {
    "application/vnd.databricks.v1+cell": {
     "cellMetadata": {
      "byteLimit": 2048000,
      "rowLimit": 10000
     },
     "inputWidgets": {},
     "nuid": "15a0c28c-2c54-45f2-a038-b0c0fcedefc2",
     "showTitle": false,
     "tableResultSettingsMap": {},
     "title": ""
    }
   },
   "outputs": [],
   "source": [
    "model = catboost.CatBoostClassifier(\n",
    "    iterations=1000,\n",
    "    early_stopping_rounds=100,\n",
    "    learning_rate=0.05,\n",
    "    depth=5,\n",
    "    loss_function=\"Logloss\",\n",
    "    use_best_model=True,\n",
    "    random_seed=40\n",
    ")"
   ]
  },
  {
   "cell_type": "code",
   "execution_count": 0,
   "metadata": {
    "application/vnd.databricks.v1+cell": {
     "cellMetadata": {
      "byteLimit": 2048000,
      "rowLimit": 10000
     },
     "inputWidgets": {},
     "nuid": "6e359c97-f387-428b-bec3-99544573968d",
     "showTitle": false,
     "tableResultSettingsMap": {},
     "title": ""
    }
   },
   "outputs": [
    {
     "output_type": "stream",
     "name": "stdout",
     "output_type": "stream",
     "text": [
      "0:\tlearn: 0.6201127\ttest: 0.6202108\tbest: 0.6202108 (0)\ttotal: 77.8ms\tremaining: 1m 17s\n1:\tlearn: 0.5572407\ttest: 0.5573323\tbest: 0.5573323 (1)\ttotal: 153ms\tremaining: 1m 16s\n2:\tlearn: 0.5030902\ttest: 0.5031549\tbest: 0.5031549 (2)\ttotal: 239ms\tremaining: 1m 19s\n3:\tlearn: 0.4565113\ttest: 0.4565447\tbest: 0.4565447 (3)\ttotal: 331ms\tremaining: 1m 22s\n4:\tlearn: 0.4161545\ttest: 0.4161762\tbest: 0.4161762 (4)\ttotal: 398ms\tremaining: 1m 19s\n5:\tlearn: 0.3816279\ttest: 0.3816465\tbest: 0.3816465 (5)\ttotal: 476ms\tremaining: 1m 18s\n6:\tlearn: 0.3517076\ttest: 0.3517206\tbest: 0.3517206 (6)\ttotal: 552ms\tremaining: 1m 18s\n7:\tlearn: 0.3259450\ttest: 0.3259733\tbest: 0.3259733 (7)\ttotal: 623ms\tremaining: 1m 17s\n8:\tlearn: 0.3036051\ttest: 0.3036559\tbest: 0.3036559 (8)\ttotal: 691ms\tremaining: 1m 16s\n9:\tlearn: 0.2846381\ttest: 0.2846997\tbest: 0.2846997 (9)\ttotal: 764ms\tremaining: 1m 15s\n10:\tlearn: 0.2682200\ttest: 0.2682989\tbest: 0.2682989 (10)\ttotal: 833ms\tremaining: 1m 14s\n11:\tlearn: 0.2539927\ttest: 0.2540718\tbest: 0.2540718 (11)\ttotal: 910ms\tremaining: 1m 14s\n12:\tlearn: 0.2416659\ttest: 0.2417666\tbest: 0.2417666 (12)\ttotal: 982ms\tremaining: 1m 14s\n13:\tlearn: 0.2310423\ttest: 0.2311592\tbest: 0.2311592 (13)\ttotal: 1.05s\tremaining: 1m 14s\n14:\tlearn: 0.2217958\ttest: 0.2219235\tbest: 0.2219235 (14)\ttotal: 1.13s\tremaining: 1m 14s\n15:\tlearn: 0.2137976\ttest: 0.2139356\tbest: 0.2139356 (15)\ttotal: 1.2s\tremaining: 1m 14s\n16:\tlearn: 0.2068248\ttest: 0.2069687\tbest: 0.2069687 (16)\ttotal: 1.28s\tremaining: 1m 13s\n17:\tlearn: 0.2005618\ttest: 0.2007109\tbest: 0.2007109 (17)\ttotal: 1.34s\tremaining: 1m 13s\n18:\tlearn: 0.1950985\ttest: 0.1952592\tbest: 0.1952592 (18)\ttotal: 1.42s\tremaining: 1m 13s\n19:\tlearn: 0.1904806\ttest: 0.1906475\tbest: 0.1906475 (19)\ttotal: 1.5s\tremaining: 1m 13s\n20:\tlearn: 0.1863032\ttest: 0.1864625\tbest: 0.1864625 (20)\ttotal: 1.57s\tremaining: 1m 13s\n21:\tlearn: 0.1826377\ttest: 0.1828118\tbest: 0.1828118 (21)\ttotal: 1.64s\tremaining: 1m 13s\n22:\tlearn: 0.1794798\ttest: 0.1796642\tbest: 0.1796642 (22)\ttotal: 1.72s\tremaining: 1m 12s\n23:\tlearn: 0.1766722\ttest: 0.1768633\tbest: 0.1768633 (23)\ttotal: 1.79s\tremaining: 1m 12s\n24:\tlearn: 0.1741099\ttest: 0.1743113\tbest: 0.1743113 (24)\ttotal: 1.85s\tremaining: 1m 12s\n25:\tlearn: 0.1719191\ttest: 0.1721259\tbest: 0.1721259 (25)\ttotal: 1.93s\tremaining: 1m 12s\n26:\tlearn: 0.1700181\ttest: 0.1702276\tbest: 0.1702276 (26)\ttotal: 2.02s\tremaining: 1m 12s\n27:\tlearn: 0.1683158\ttest: 0.1685305\tbest: 0.1685305 (27)\ttotal: 2.1s\tremaining: 1m 12s\n28:\tlearn: 0.1667033\ttest: 0.1669196\tbest: 0.1669196 (28)\ttotal: 2.19s\tremaining: 1m 13s\n29:\tlearn: 0.1653328\ttest: 0.1655519\tbest: 0.1655519 (29)\ttotal: 2.3s\tremaining: 1m 14s\n30:\tlearn: 0.1640841\ttest: 0.1643099\tbest: 0.1643099 (30)\ttotal: 2.37s\tremaining: 1m 14s\n31:\tlearn: 0.1629944\ttest: 0.1632161\tbest: 0.1632161 (31)\ttotal: 2.44s\tremaining: 1m 13s\n32:\tlearn: 0.1620331\ttest: 0.1622536\tbest: 0.1622536 (32)\ttotal: 2.52s\tremaining: 1m 13s\n33:\tlearn: 0.1611741\ttest: 0.1613959\tbest: 0.1613959 (33)\ttotal: 2.59s\tremaining: 1m 13s\n34:\tlearn: 0.1603443\ttest: 0.1605818\tbest: 0.1605818 (34)\ttotal: 2.67s\tremaining: 1m 13s\n35:\tlearn: 0.1596345\ttest: 0.1598747\tbest: 0.1598747 (35)\ttotal: 2.74s\tremaining: 1m 13s\n36:\tlearn: 0.1590345\ttest: 0.1592767\tbest: 0.1592767 (36)\ttotal: 2.81s\tremaining: 1m 13s\n37:\tlearn: 0.1584579\ttest: 0.1587134\tbest: 0.1587134 (37)\ttotal: 2.88s\tremaining: 1m 13s\n38:\tlearn: 0.1579337\ttest: 0.1581931\tbest: 0.1581931 (38)\ttotal: 2.98s\tremaining: 1m 13s\n39:\tlearn: 0.1575133\ttest: 0.1577804\tbest: 0.1577804 (39)\ttotal: 3.04s\tremaining: 1m 13s\n40:\tlearn: 0.1571386\ttest: 0.1574060\tbest: 0.1574060 (40)\ttotal: 3.11s\tremaining: 1m 12s\n41:\tlearn: 0.1567532\ttest: 0.1570217\tbest: 0.1570217 (41)\ttotal: 3.18s\tremaining: 1m 12s\n42:\tlearn: 0.1563934\ttest: 0.1566705\tbest: 0.1566705 (42)\ttotal: 3.26s\tremaining: 1m 12s\n43:\tlearn: 0.1560632\ttest: 0.1563575\tbest: 0.1563575 (43)\ttotal: 3.33s\tremaining: 1m 12s\n44:\tlearn: 0.1557595\ttest: 0.1560696\tbest: 0.1560696 (44)\ttotal: 3.41s\tremaining: 1m 12s\n45:\tlearn: 0.1555046\ttest: 0.1558199\tbest: 0.1558199 (45)\ttotal: 3.49s\tremaining: 1m 12s\n46:\tlearn: 0.1552996\ttest: 0.1556181\tbest: 0.1556181 (46)\ttotal: 3.57s\tremaining: 1m 12s\n47:\tlearn: 0.1550895\ttest: 0.1554192\tbest: 0.1554192 (47)\ttotal: 3.65s\tremaining: 1m 12s\n48:\tlearn: 0.1548875\ttest: 0.1552206\tbest: 0.1552206 (48)\ttotal: 3.72s\tremaining: 1m 12s\n49:\tlearn: 0.1547052\ttest: 0.1550459\tbest: 0.1550459 (49)\ttotal: 3.79s\tremaining: 1m 12s\n50:\tlearn: 0.1545353\ttest: 0.1548868\tbest: 0.1548868 (50)\ttotal: 3.88s\tremaining: 1m 12s\n51:\tlearn: 0.1543738\ttest: 0.1547371\tbest: 0.1547371 (51)\ttotal: 3.96s\tremaining: 1m 12s\n52:\tlearn: 0.1542420\ttest: 0.1546161\tbest: 0.1546161 (52)\ttotal: 4.03s\tremaining: 1m 12s\n53:\tlearn: 0.1541142\ttest: 0.1544925\tbest: 0.1544925 (53)\ttotal: 4.1s\tremaining: 1m 11s\n54:\tlearn: 0.1539951\ttest: 0.1543845\tbest: 0.1543845 (54)\ttotal: 4.18s\tremaining: 1m 11s\n55:\tlearn: 0.1538853\ttest: 0.1542786\tbest: 0.1542786 (55)\ttotal: 4.25s\tremaining: 1m 11s\n56:\tlearn: 0.1537790\ttest: 0.1541865\tbest: 0.1541865 (56)\ttotal: 4.32s\tremaining: 1m 11s\n57:\tlearn: 0.1536865\ttest: 0.1541015\tbest: 0.1541015 (57)\ttotal: 4.39s\tremaining: 1m 11s\n58:\tlearn: 0.1535938\ttest: 0.1540152\tbest: 0.1540152 (58)\ttotal: 4.47s\tremaining: 1m 11s\n59:\tlearn: 0.1535256\ttest: 0.1539524\tbest: 0.1539524 (59)\ttotal: 4.55s\tremaining: 1m 11s\n60:\tlearn: 0.1534486\ttest: 0.1538874\tbest: 0.1538874 (60)\ttotal: 4.62s\tremaining: 1m 11s\n61:\tlearn: 0.1533892\ttest: 0.1538406\tbest: 0.1538406 (61)\ttotal: 4.69s\tremaining: 1m 11s\n62:\tlearn: 0.1533212\ttest: 0.1537747\tbest: 0.1537747 (62)\ttotal: 4.77s\tremaining: 1m 10s\n63:\tlearn: 0.1532607\ttest: 0.1537237\tbest: 0.1537237 (63)\ttotal: 4.84s\tremaining: 1m 10s\n64:\tlearn: 0.1532097\ttest: 0.1536798\tbest: 0.1536798 (64)\ttotal: 4.91s\tremaining: 1m 10s\n65:\tlearn: 0.1531609\ttest: 0.1536362\tbest: 0.1536362 (65)\ttotal: 4.99s\tremaining: 1m 10s\n66:\tlearn: 0.1531141\ttest: 0.1535985\tbest: 0.1535985 (66)\ttotal: 5.07s\tremaining: 1m 10s\n67:\tlearn: 0.1530532\ttest: 0.1535420\tbest: 0.1535420 (67)\ttotal: 5.15s\tremaining: 1m 10s\n68:\tlearn: 0.1530148\ttest: 0.1535090\tbest: 0.1535090 (68)\ttotal: 5.23s\tremaining: 1m 10s\n69:\tlearn: 0.1529662\ttest: 0.1534687\tbest: 0.1534687 (69)\ttotal: 5.3s\tremaining: 1m 10s\n70:\tlearn: 0.1529223\ttest: 0.1534384\tbest: 0.1534384 (70)\ttotal: 5.37s\tremaining: 1m 10s\n71:\tlearn: 0.1528786\ttest: 0.1534035\tbest: 0.1534035 (71)\ttotal: 5.45s\tremaining: 1m 10s\n72:\tlearn: 0.1528434\ttest: 0.1533724\tbest: 0.1533724 (72)\ttotal: 5.53s\tremaining: 1m 10s\n73:\tlearn: 0.1528027\ttest: 0.1533312\tbest: 0.1533312 (73)\ttotal: 5.6s\tremaining: 1m 10s\n74:\tlearn: 0.1527654\ttest: 0.1533026\tbest: 0.1533026 (74)\ttotal: 5.67s\tremaining: 1m 9s\n75:\tlearn: 0.1527262\ttest: 0.1532689\tbest: 0.1532689 (75)\ttotal: 5.74s\tremaining: 1m 9s\n76:\tlearn: 0.1526932\ttest: 0.1532462\tbest: 0.1532462 (76)\ttotal: 5.81s\tremaining: 1m 9s\n77:\tlearn: 0.1526635\ttest: 0.1532252\tbest: 0.1532252 (77)\ttotal: 5.89s\tremaining: 1m 9s\n78:\tlearn: 0.1526386\ttest: 0.1532086\tbest: 0.1532086 (78)\ttotal: 5.96s\tremaining: 1m 9s\n79:\tlearn: 0.1526132\ttest: 0.1531908\tbest: 0.1531908 (79)\ttotal: 6.04s\tremaining: 1m 9s\n80:\tlearn: 0.1525920\ttest: 0.1531760\tbest: 0.1531760 (80)\ttotal: 6.12s\tremaining: 1m 9s\n81:\tlearn: 0.1525719\ttest: 0.1531613\tbest: 0.1531613 (81)\ttotal: 6.19s\tremaining: 1m 9s\n82:\tlearn: 0.1525489\ttest: 0.1531479\tbest: 0.1531479 (82)\ttotal: 6.26s\tremaining: 1m 9s\n83:\tlearn: 0.1525199\ttest: 0.1531279\tbest: 0.1531279 (83)\ttotal: 6.34s\tremaining: 1m 9s\n84:\tlearn: 0.1525004\ttest: 0.1531141\tbest: 0.1531141 (84)\ttotal: 6.41s\tremaining: 1m 9s\n85:\tlearn: 0.1524743\ttest: 0.1530961\tbest: 0.1530961 (85)\ttotal: 6.49s\tremaining: 1m 8s\n86:\tlearn: 0.1524583\ttest: 0.1530879\tbest: 0.1530879 (86)\ttotal: 6.56s\tremaining: 1m 8s\n87:\tlearn: 0.1524409\ttest: 0.1530770\tbest: 0.1530770 (87)\ttotal: 6.63s\tremaining: 1m 8s\n88:\tlearn: 0.1524241\ttest: 0.1530669\tbest: 0.1530669 (88)\ttotal: 6.71s\tremaining: 1m 8s\n89:\tlearn: 0.1524038\ttest: 0.1530554\tbest: 0.1530554 (89)\ttotal: 6.78s\tremaining: 1m 8s\n90:\tlearn: 0.1523859\ttest: 0.1530420\tbest: 0.1530420 (90)\ttotal: 6.86s\tremaining: 1m 8s\n91:\tlearn: 0.1523632\ttest: 0.1530263\tbest: 0.1530263 (91)\ttotal: 6.94s\tremaining: 1m 8s\n92:\tlearn: 0.1523441\ttest: 0.1530156\tbest: 0.1530156 (92)\ttotal: 7.01s\tremaining: 1m 8s\n93:\tlearn: 0.1523342\ttest: 0.1530093\tbest: 0.1530093 (93)\ttotal: 7.08s\tremaining: 1m 8s\n94:\tlearn: 0.1523201\ttest: 0.1530036\tbest: 0.1530036 (94)\ttotal: 7.16s\tremaining: 1m 8s\n95:\tlearn: 0.1523029\ttest: 0.1529935\tbest: 0.1529935 (95)\ttotal: 7.23s\tremaining: 1m 8s\n96:\tlearn: 0.1522876\ttest: 0.1529828\tbest: 0.1529828 (96)\ttotal: 7.3s\tremaining: 1m 7s\n97:\tlearn: 0.1522609\ttest: 0.1529646\tbest: 0.1529646 (97)\ttotal: 7.37s\tremaining: 1m 7s\n98:\tlearn: 0.1522479\ttest: 0.1529530\tbest: 0.1529530 (98)\ttotal: 7.44s\tremaining: 1m 7s\n99:\tlearn: 0.1522243\ttest: 0.1529366\tbest: 0.1529366 (99)\ttotal: 7.52s\tremaining: 1m 7s\n100:\tlearn: 0.1522040\ttest: 0.1529220\tbest: 0.1529220 (100)\ttotal: 7.59s\tremaining: 1m 7s\n101:\tlearn: 0.1521850\ttest: 0.1529131\tbest: 0.1529131 (101)\ttotal: 7.66s\tremaining: 1m 7s\n102:\tlearn: 0.1521725\ttest: 0.1529082\tbest: 0.1529082 (102)\ttotal: 7.73s\tremaining: 1m 7s\n103:\tlearn: 0.1521542\ttest: 0.1528949\tbest: 0.1528949 (103)\ttotal: 7.81s\tremaining: 1m 7s\n104:\tlearn: 0.1521422\ttest: 0.1528895\tbest: 0.1528895 (104)\ttotal: 7.88s\tremaining: 1m 7s\n105:\tlearn: 0.1521309\ttest: 0.1528830\tbest: 0.1528830 (105)\ttotal: 7.95s\tremaining: 1m 7s\n106:\tlearn: 0.1521165\ttest: 0.1528740\tbest: 0.1528740 (106)\ttotal: 8.03s\tremaining: 1m 6s\n107:\tlearn: 0.1521019\ttest: 0.1528655\tbest: 0.1528655 (107)\ttotal: 8.11s\tremaining: 1m 6s\n108:\tlearn: 0.1520918\ttest: 0.1528586\tbest: 0.1528586 (108)\ttotal: 8.18s\tremaining: 1m 6s\n109:\tlearn: 0.1520762\ttest: 0.1528461\tbest: 0.1528461 (109)\ttotal: 8.26s\tremaining: 1m 6s\n110:\tlearn: 0.1520637\ttest: 0.1528420\tbest: 0.1528420 (110)\ttotal: 8.34s\tremaining: 1m 6s\n111:\tlearn: 0.1520557\ttest: 0.1528414\tbest: 0.1528414 (111)\ttotal: 8.42s\tremaining: 1m 6s\n112:\tlearn: 0.1520458\ttest: 0.1528365\tbest: 0.1528365 (112)\ttotal: 8.49s\tremaining: 1m 6s\n113:\tlearn: 0.1520329\ttest: 0.1528306\tbest: 0.1528306 (113)\ttotal: 8.56s\tremaining: 1m 6s\n114:\tlearn: 0.1520234\ttest: 0.1528266\tbest: 0.1528266 (114)\ttotal: 8.64s\tremaining: 1m 6s\n115:\tlearn: 0.1520116\ttest: 0.1528198\tbest: 0.1528198 (115)\ttotal: 8.71s\tremaining: 1m 6s\n116:\tlearn: 0.1519993\ttest: 0.1528113\tbest: 0.1528113 (116)\ttotal: 8.78s\tremaining: 1m 6s\n117:\tlearn: 0.1519840\ttest: 0.1528032\tbest: 0.1528032 (117)\ttotal: 8.86s\tremaining: 1m 6s\n118:\tlearn: 0.1519695\ttest: 0.1527942\tbest: 0.1527942 (118)\ttotal: 8.93s\tremaining: 1m 6s\n119:\tlearn: 0.1519573\ttest: 0.1527822\tbest: 0.1527822 (119)\ttotal: 9.01s\tremaining: 1m 6s\n120:\tlearn: 0.1519482\ttest: 0.1527789\tbest: 0.1527789 (120)\ttotal: 9.09s\tremaining: 1m 6s\n121:\tlearn: 0.1519356\ttest: 0.1527672\tbest: 0.1527672 (121)\ttotal: 9.18s\tremaining: 1m 6s\n122:\tlearn: 0.1519251\ttest: 0.1527654\tbest: 0.1527654 (122)\ttotal: 9.26s\tremaining: 1m 5s\n123:\tlearn: 0.1519045\ttest: 0.1527474\tbest: 0.1527474 (123)\ttotal: 9.33s\tremaining: 1m 5s\n124:\tlearn: 0.1518931\ttest: 0.1527416\tbest: 0.1527416 (124)\ttotal: 9.42s\tremaining: 1m 5s\n125:\tlearn: 0.1518828\ttest: 0.1527334\tbest: 0.1527334 (125)\ttotal: 9.51s\tremaining: 1m 5s\n126:\tlearn: 0.1518697\ttest: 0.1527273\tbest: 0.1527273 (126)\ttotal: 9.59s\tremaining: 1m 5s\n127:\tlearn: 0.1518611\ttest: 0.1527210\tbest: 0.1527210 (127)\ttotal: 9.66s\tremaining: 1m 5s\n128:\tlearn: 0.1518482\ttest: 0.1527161\tbest: 0.1527161 (128)\ttotal: 9.73s\tremaining: 1m 5s\n129:\tlearn: 0.1518362\ttest: 0.1527082\tbest: 0.1527082 (129)\ttotal: 9.81s\tremaining: 1m 5s\n130:\tlearn: 0.1518265\ttest: 0.1527054\tbest: 0.1527054 (130)\ttotal: 9.9s\tremaining: 1m 5s\n131:\tlearn: 0.1518166\ttest: 0.1526994\tbest: 0.1526994 (131)\ttotal: 9.97s\tremaining: 1m 5s\n132:\tlearn: 0.1518066\ttest: 0.1526956\tbest: 0.1526956 (132)\ttotal: 10s\tremaining: 1m 5s\n133:\tlearn: 0.1517967\ttest: 0.1526917\tbest: 0.1526917 (133)\ttotal: 10.1s\tremaining: 1m 5s\n134:\tlearn: 0.1517843\ttest: 0.1526854\tbest: 0.1526854 (134)\ttotal: 10.2s\tremaining: 1m 5s\n135:\tlearn: 0.1517792\ttest: 0.1526840\tbest: 0.1526840 (135)\ttotal: 10.3s\tremaining: 1m 5s\n136:\tlearn: 0.1517711\ttest: 0.1526837\tbest: 0.1526837 (136)\ttotal: 10.4s\tremaining: 1m 5s\n137:\tlearn: 0.1517644\ttest: 0.1526831\tbest: 0.1526831 (137)\ttotal: 10.5s\tremaining: 1m 5s\n138:\tlearn: 0.1517518\ttest: 0.1526722\tbest: 0.1526722 (138)\ttotal: 10.6s\tremaining: 1m 5s\n139:\tlearn: 0.1517370\ttest: 0.1526606\tbest: 0.1526606 (139)\ttotal: 10.7s\tremaining: 1m 5s\n140:\tlearn: 0.1517309\ttest: 0.1526588\tbest: 0.1526588 (140)\ttotal: 10.7s\tremaining: 1m 5s\n141:\tlearn: 0.1517210\ttest: 0.1526542\tbest: 0.1526542 (141)\ttotal: 10.8s\tremaining: 1m 5s\n142:\tlearn: 0.1517130\ttest: 0.1526508\tbest: 0.1526508 (142)\ttotal: 10.9s\tremaining: 1m 5s\n143:\tlearn: 0.1517058\ttest: 0.1526495\tbest: 0.1526495 (143)\ttotal: 11s\tremaining: 1m 5s\n144:\tlearn: 0.1516982\ttest: 0.1526464\tbest: 0.1526464 (144)\ttotal: 11s\tremaining: 1m 5s\n145:\tlearn: 0.1516906\ttest: 0.1526404\tbest: 0.1526404 (145)\ttotal: 11.1s\tremaining: 1m 4s\n146:\tlearn: 0.1516774\ttest: 0.1526370\tbest: 0.1526370 (146)\ttotal: 11.2s\tremaining: 1m 4s\n147:\tlearn: 0.1516695\ttest: 0.1526314\tbest: 0.1526314 (147)\ttotal: 11.3s\tremaining: 1m 4s\n148:\tlearn: 0.1516611\ttest: 0.1526250\tbest: 0.1526250 (148)\ttotal: 11.3s\tremaining: 1m 4s\n149:\tlearn: 0.1516521\ttest: 0.1526194\tbest: 0.1526194 (149)\ttotal: 11.4s\tremaining: 1m 4s\n150:\tlearn: 0.1516451\ttest: 0.1526180\tbest: 0.1526180 (150)\ttotal: 11.5s\tremaining: 1m 4s\n151:\tlearn: 0.1516319\ttest: 0.1526070\tbest: 0.1526070 (151)\ttotal: 11.6s\tremaining: 1m 4s\n152:\tlearn: 0.1516252\ttest: 0.1526023\tbest: 0.1526023 (152)\ttotal: 11.6s\tremaining: 1m 4s\n153:\tlearn: 0.1516154\ttest: 0.1526007\tbest: 0.1526007 (153)\ttotal: 11.7s\tremaining: 1m 4s\n154:\tlearn: 0.1516094\ttest: 0.1525976\tbest: 0.1525976 (154)\ttotal: 11.8s\tremaining: 1m 4s\n155:\tlearn: 0.1515975\ttest: 0.1525875\tbest: 0.1525875 (155)\ttotal: 11.9s\tremaining: 1m 4s\n156:\tlearn: 0.1515858\ttest: 0.1525785\tbest: 0.1525785 (156)\ttotal: 11.9s\tremaining: 1m 4s\n157:\tlearn: 0.1515795\ttest: 0.1525731\tbest: 0.1525731 (157)\ttotal: 12s\tremaining: 1m 4s\n158:\tlearn: 0.1515709\ttest: 0.1525670\tbest: 0.1525670 (158)\ttotal: 12.1s\tremaining: 1m 4s\n159:\tlearn: 0.1515614\ttest: 0.1525615\tbest: 0.1525615 (159)\ttotal: 12.2s\tremaining: 1m 4s\n160:\tlearn: 0.1515535\ttest: 0.1525599\tbest: 0.1525599 (160)\ttotal: 12.3s\tremaining: 1m 3s\n161:\tlearn: 0.1515487\ttest: 0.1525586\tbest: 0.1525586 (161)\ttotal: 12.4s\tremaining: 1m 3s\n162:\tlearn: 0.1515388\ttest: 0.1525536\tbest: 0.1525536 (162)\ttotal: 12.4s\tremaining: 1m 3s\n163:\tlearn: 0.1515340\ttest: 0.1525549\tbest: 0.1525536 (162)\ttotal: 12.5s\tremaining: 1m 3s\n164:\tlearn: 0.1515250\ttest: 0.1525532\tbest: 0.1525532 (164)\ttotal: 12.6s\tremaining: 1m 3s\n165:\tlearn: 0.1515163\ttest: 0.1525513\tbest: 0.1525513 (165)\ttotal: 12.7s\tremaining: 1m 3s\n166:\tlearn: 0.1515077\ttest: 0.1525511\tbest: 0.1525511 (166)\ttotal: 12.8s\tremaining: 1m 3s\n167:\tlearn: 0.1514994\ttest: 0.1525454\tbest: 0.1525454 (167)\ttotal: 12.8s\tremaining: 1m 3s\n168:\tlearn: 0.1514940\ttest: 0.1525437\tbest: 0.1525437 (168)\ttotal: 12.9s\tremaining: 1m 3s\n169:\tlearn: 0.1514845\ttest: 0.1525377\tbest: 0.1525377 (169)\ttotal: 13s\tremaining: 1m 3s\n170:\tlearn: 0.1514729\ttest: 0.1525305\tbest: 0.1525305 (170)\ttotal: 13.1s\tremaining: 1m 3s\n171:\tlearn: 0.1514673\ttest: 0.1525268\tbest: 0.1525268 (171)\ttotal: 13.1s\tremaining: 1m 3s\n172:\tlearn: 0.1514610\ttest: 0.1525243\tbest: 0.1525243 (172)\ttotal: 13.2s\tremaining: 1m 3s\n173:\tlearn: 0.1514567\ttest: 0.1525258\tbest: 0.1525243 (172)\ttotal: 13.3s\tremaining: 1m 3s\n174:\tlearn: 0.1514530\ttest: 0.1525230\tbest: 0.1525230 (174)\ttotal: 13.4s\tremaining: 1m 3s\n175:\tlearn: 0.1514478\ttest: 0.1525212\tbest: 0.1525212 (175)\ttotal: 13.4s\tremaining: 1m 2s\n176:\tlearn: 0.1514363\ttest: 0.1525205\tbest: 0.1525205 (176)\ttotal: 13.5s\tremaining: 1m 2s\n177:\tlearn: 0.1514303\ttest: 0.1525195\tbest: 0.1525195 (177)\ttotal: 13.6s\tremaining: 1m 2s\n178:\tlearn: 0.1514254\ttest: 0.1525175\tbest: 0.1525175 (178)\ttotal: 13.7s\tremaining: 1m 2s\n179:\tlearn: 0.1514205\ttest: 0.1525157\tbest: 0.1525157 (179)\ttotal: 13.8s\tremaining: 1m 2s\n180:\tlearn: 0.1514151\ttest: 0.1525138\tbest: 0.1525138 (180)\ttotal: 13.8s\tremaining: 1m 2s\n181:\tlearn: 0.1514067\ttest: 0.1525097\tbest: 0.1525097 (181)\ttotal: 13.9s\tremaining: 1m 2s\n182:\tlearn: 0.1513989\ttest: 0.1525084\tbest: 0.1525084 (182)\ttotal: 14s\tremaining: 1m 2s\n183:\tlearn: 0.1513860\ttest: 0.1525007\tbest: 0.1525007 (183)\ttotal: 14.1s\tremaining: 1m 2s\n184:\tlearn: 0.1513811\ttest: 0.1525004\tbest: 0.1525004 (184)\ttotal: 14.1s\tremaining: 1m 2s\n185:\tlearn: 0.1513725\ttest: 0.1524995\tbest: 0.1524995 (185)\ttotal: 14.2s\tremaining: 1m 2s\n186:\tlearn: 0.1513632\ttest: 0.1524921\tbest: 0.1524921 (186)\ttotal: 14.3s\tremaining: 1m 2s\n187:\tlearn: 0.1513541\ttest: 0.1524930\tbest: 0.1524921 (186)\ttotal: 14.4s\tremaining: 1m 2s\n188:\tlearn: 0.1513466\ttest: 0.1524887\tbest: 0.1524887 (188)\ttotal: 14.5s\tremaining: 1m 2s\n189:\tlearn: 0.1513398\ttest: 0.1524846\tbest: 0.1524846 (189)\ttotal: 14.7s\tremaining: 1m 2s\n190:\tlearn: 0.1513333\ttest: 0.1524802\tbest: 0.1524802 (190)\ttotal: 14.7s\tremaining: 1m 2s\n191:\tlearn: 0.1513256\ttest: 0.1524789\tbest: 0.1524789 (191)\ttotal: 14.8s\tremaining: 1m 2s\n192:\tlearn: 0.1513175\ttest: 0.1524757\tbest: 0.1524757 (192)\ttotal: 14.9s\tremaining: 1m 2s\n193:\tlearn: 0.1513110\ttest: 0.1524730\tbest: 0.1524730 (193)\ttotal: 15s\tremaining: 1m 2s\n194:\tlearn: 0.1513017\ttest: 0.1524643\tbest: 0.1524643 (194)\ttotal: 15.1s\tremaining: 1m 2s\n195:\tlearn: 0.1512993\ttest: 0.1524645\tbest: 0.1524643 (194)\ttotal: 15.1s\tremaining: 1m 2s\n196:\tlearn: 0.1512921\ttest: 0.1524597\tbest: 0.1524597 (196)\ttotal: 15.2s\tremaining: 1m 2s\n197:\tlearn: 0.1512868\ttest: 0.1524593\tbest: 0.1524593 (197)\ttotal: 15.3s\tremaining: 1m 1s\n198:\tlearn: 0.1512761\ttest: 0.1524495\tbest: 0.1524495 (198)\ttotal: 15.4s\tremaining: 1m 1s\n199:\tlearn: 0.1512679\ttest: 0.1524471\tbest: 0.1524471 (199)\ttotal: 15.5s\tremaining: 1m 1s\n200:\tlearn: 0.1512615\ttest: 0.1524472\tbest: 0.1524471 (199)\ttotal: 15.5s\tremaining: 1m 1s\n201:\tlearn: 0.1512542\ttest: 0.1524429\tbest: 0.1524429 (201)\ttotal: 15.6s\tremaining: 1m 1s\n202:\tlearn: 0.1512493\ttest: 0.1524424\tbest: 0.1524424 (202)\ttotal: 15.7s\tremaining: 1m 1s\n203:\tlearn: 0.1512447\ttest: 0.1524422\tbest: 0.1524422 (203)\ttotal: 15.7s\tremaining: 1m 1s\n204:\tlearn: 0.1512425\ttest: 0.1524416\tbest: 0.1524416 (204)\ttotal: 15.8s\tremaining: 1m 1s\n205:\tlearn: 0.1512392\ttest: 0.1524428\tbest: 0.1524416 (204)\ttotal: 15.9s\tremaining: 1m 1s\n206:\tlearn: 0.1512305\ttest: 0.1524384\tbest: 0.1524384 (206)\ttotal: 16s\tremaining: 1m 1s\n207:\tlearn: 0.1512227\ttest: 0.1524390\tbest: 0.1524384 (206)\ttotal: 16s\tremaining: 1m 1s\n208:\tlearn: 0.1512173\ttest: 0.1524374\tbest: 0.1524374 (208)\ttotal: 16.1s\tremaining: 1m\n209:\tlearn: 0.1512068\ttest: 0.1524373\tbest: 0.1524373 (209)\ttotal: 16.2s\tremaining: 1m\n210:\tlearn: 0.1511997\ttest: 0.1524351\tbest: 0.1524351 (210)\ttotal: 16.3s\tremaining: 1m\n211:\tlearn: 0.1511914\ttest: 0.1524329\tbest: 0.1524329 (211)\ttotal: 16.3s\tremaining: 1m\n212:\tlearn: 0.1511859\ttest: 0.1524328\tbest: 0.1524328 (212)\ttotal: 16.4s\tremaining: 1m\n213:\tlearn: 0.1511798\ttest: 0.1524299\tbest: 0.1524299 (213)\ttotal: 16.5s\tremaining: 1m\n214:\tlearn: 0.1511738\ttest: 0.1524311\tbest: 0.1524299 (213)\ttotal: 16.6s\tremaining: 1m\n215:\tlearn: 0.1511676\ttest: 0.1524258\tbest: 0.1524258 (215)\ttotal: 16.7s\tremaining: 1m\n216:\tlearn: 0.1511601\ttest: 0.1524256\tbest: 0.1524256 (216)\ttotal: 16.7s\tremaining: 1m\n217:\tlearn: 0.1511541\ttest: 0.1524265\tbest: 0.1524256 (216)\ttotal: 16.8s\tremaining: 1m\n218:\tlearn: 0.1511458\ttest: 0.1524211\tbest: 0.1524211 (218)\ttotal: 16.9s\tremaining: 1m\n219:\tlearn: 0.1511384\ttest: 0.1524208\tbest: 0.1524208 (219)\ttotal: 17s\tremaining: 1m\n220:\tlearn: 0.1511352\ttest: 0.1524224\tbest: 0.1524208 (219)\ttotal: 17s\tremaining: 1m\n221:\tlearn: 0.1511301\ttest: 0.1524216\tbest: 0.1524208 (219)\ttotal: 17.1s\tremaining: 1m\n222:\tlearn: 0.1511218\ttest: 0.1524171\tbest: 0.1524171 (222)\ttotal: 17.2s\tremaining: 59.9s\n223:\tlearn: 0.1511176\ttest: 0.1524153\tbest: 0.1524153 (223)\ttotal: 17.3s\tremaining: 59.8s\n224:\tlearn: 0.1511138\ttest: 0.1524160\tbest: 0.1524153 (223)\ttotal: 17.3s\tremaining: 59.7s\n225:\tlearn: 0.1511057\ttest: 0.1524164\tbest: 0.1524153 (223)\ttotal: 17.4s\tremaining: 59.7s\n226:\tlearn: 0.1510981\ttest: 0.1524131\tbest: 0.1524131 (226)\ttotal: 17.5s\tremaining: 59.6s\n227:\tlearn: 0.1510888\ttest: 0.1524070\tbest: 0.1524070 (227)\ttotal: 17.6s\tremaining: 59.5s\n228:\tlearn: 0.1510839\ttest: 0.1524067\tbest: 0.1524067 (228)\ttotal: 17.6s\tremaining: 59.4s\n229:\tlearn: 0.1510806\ttest: 0.1524091\tbest: 0.1524067 (228)\ttotal: 17.7s\tremaining: 59.3s\n230:\tlearn: 0.1510743\ttest: 0.1524083\tbest: 0.1524067 (228)\ttotal: 17.8s\tremaining: 59.3s\n231:\tlearn: 0.1510666\ttest: 0.1524067\tbest: 0.1524067 (228)\ttotal: 17.9s\tremaining: 59.2s\n232:\tlearn: 0.1510631\ttest: 0.1524065\tbest: 0.1524065 (232)\ttotal: 18s\tremaining: 59.1s\n233:\tlearn: 0.1510596\ttest: 0.1524053\tbest: 0.1524053 (233)\ttotal: 18s\tremaining: 59s\n234:\tlearn: 0.1510571\ttest: 0.1524041\tbest: 0.1524041 (234)\ttotal: 18.1s\tremaining: 59s\n235:\tlearn: 0.1510535\ttest: 0.1524024\tbest: 0.1524024 (235)\ttotal: 18.2s\tremaining: 58.9s\n236:\tlearn: 0.1510449\ttest: 0.1523992\tbest: 0.1523992 (236)\ttotal: 18.3s\tremaining: 58.9s\n237:\tlearn: 0.1510384\ttest: 0.1523977\tbest: 0.1523977 (237)\ttotal: 18.4s\tremaining: 58.8s\n238:\tlearn: 0.1510331\ttest: 0.1523956\tbest: 0.1523956 (238)\ttotal: 18.4s\tremaining: 58.7s\n239:\tlearn: 0.1510278\ttest: 0.1523946\tbest: 0.1523946 (239)\ttotal: 18.5s\tremaining: 58.6s\n240:\tlearn: 0.1510215\ttest: 0.1523941\tbest: 0.1523941 (240)\ttotal: 18.6s\tremaining: 58.5s\n241:\tlearn: 0.1510153\ttest: 0.1523920\tbest: 0.1523920 (241)\ttotal: 18.7s\tremaining: 58.5s\n242:\tlearn: 0.1510090\ttest: 0.1523926\tbest: 0.1523920 (241)\ttotal: 18.7s\tremaining: 58.4s\n243:\tlearn: 0.1509998\ttest: 0.1523915\tbest: 0.1523915 (243)\ttotal: 18.8s\tremaining: 58.3s\n244:\tlearn: 0.1509935\ttest: 0.1523908\tbest: 0.1523908 (244)\ttotal: 18.9s\tremaining: 58.2s\n245:\tlearn: 0.1509902\ttest: 0.1523902\tbest: 0.1523902 (245)\ttotal: 19s\tremaining: 58.1s\n246:\tlearn: 0.1509851\ttest: 0.1523879\tbest: 0.1523879 (246)\ttotal: 19s\tremaining: 58.1s\n247:\tlearn: 0.1509804\ttest: 0.1523854\tbest: 0.1523854 (247)\ttotal: 19.1s\tremaining: 58.1s\n248:\tlearn: 0.1509746\ttest: 0.1523848\tbest: 0.1523848 (248)\ttotal: 19.2s\tremaining: 58s\n249:\tlearn: 0.1509671\ttest: 0.1523811\tbest: 0.1523811 (249)\ttotal: 19.3s\tremaining: 57.9s\n250:\tlearn: 0.1509605\ttest: 0.1523762\tbest: 0.1523762 (250)\ttotal: 19.4s\tremaining: 57.9s\n251:\tlearn: 0.1509591\ttest: 0.1523757\tbest: 0.1523757 (251)\ttotal: 19.5s\tremaining: 57.8s\n252:\tlearn: 0.1509526\ttest: 0.1523747\tbest: 0.1523747 (252)\ttotal: 19.6s\tremaining: 57.7s\n253:\tlearn: 0.1509499\ttest: 0.1523743\tbest: 0.1523743 (253)\ttotal: 19.6s\tremaining: 57.7s\n254:\tlearn: 0.1509423\ttest: 0.1523739\tbest: 0.1523739 (254)\ttotal: 19.7s\tremaining: 57.6s\n255:\tlearn: 0.1509357\ttest: 0.1523744\tbest: 0.1523739 (254)\ttotal: 19.8s\tremaining: 57.5s\n256:\tlearn: 0.1509306\ttest: 0.1523701\tbest: 0.1523701 (256)\ttotal: 19.9s\tremaining: 57.4s\n257:\tlearn: 0.1509224\ttest: 0.1523655\tbest: 0.1523655 (257)\ttotal: 20s\tremaining: 57.4s\n258:\tlearn: 0.1509168\ttest: 0.1523610\tbest: 0.1523610 (258)\ttotal: 20.1s\tremaining: 57.4s\n259:\tlearn: 0.1509131\ttest: 0.1523605\tbest: 0.1523605 (259)\ttotal: 20.1s\tremaining: 57.3s\n260:\tlearn: 0.1509060\ttest: 0.1523587\tbest: 0.1523587 (260)\ttotal: 20.2s\tremaining: 57.2s\n261:\tlearn: 0.1509011\ttest: 0.1523578\tbest: 0.1523578 (261)\ttotal: 20.3s\tremaining: 57.1s\n262:\tlearn: 0.1508971\ttest: 0.1523584\tbest: 0.1523578 (261)\ttotal: 20.4s\tremaining: 57.1s\n263:\tlearn: 0.1508908\ttest: 0.1523560\tbest: 0.1523560 (263)\ttotal: 20.4s\tremaining: 57s\n264:\tlearn: 0.1508824\ttest: 0.1523575\tbest: 0.1523560 (263)\ttotal: 20.5s\tremaining: 56.9s\n265:\tlearn: 0.1508710\ttest: 0.1523535\tbest: 0.1523535 (265)\ttotal: 20.6s\tremaining: 56.8s\n266:\tlearn: 0.1508638\ttest: 0.1523532\tbest: 0.1523532 (266)\ttotal: 20.7s\tremaining: 56.7s\n267:\tlearn: 0.1508557\ttest: 0.1523528\tbest: 0.1523528 (267)\ttotal: 20.7s\tremaining: 56.6s\n268:\tlearn: 0.1508482\ttest: 0.1523502\tbest: 0.1523502 (268)\ttotal: 20.8s\tremaining: 56.5s\n269:\tlearn: 0.1508433\ttest: 0.1523511\tbest: 0.1523502 (268)\ttotal: 20.9s\tremaining: 56.4s\n270:\tlearn: 0.1508369\ttest: 0.1523511\tbest: 0.1523502 (268)\ttotal: 20.9s\tremaining: 56.4s\n271:\tlearn: 0.1508241\ttest: 0.1523411\tbest: 0.1523411 (271)\ttotal: 21s\tremaining: 56.3s\n272:\tlearn: 0.1508165\ttest: 0.1523369\tbest: 0.1523369 (272)\ttotal: 21.1s\tremaining: 56.2s\n273:\tlearn: 0.1508089\ttest: 0.1523360\tbest: 0.1523360 (273)\ttotal: 21.2s\tremaining: 56.1s\n274:\tlearn: 0.1508016\ttest: 0.1523374\tbest: 0.1523360 (273)\ttotal: 21.3s\tremaining: 56s\n275:\tlearn: 0.1507948\ttest: 0.1523396\tbest: 0.1523360 (273)\ttotal: 21.3s\tremaining: 55.9s\n276:\tlearn: 0.1507882\ttest: 0.1523414\tbest: 0.1523360 (273)\ttotal: 21.4s\tremaining: 55.8s\n277:\tlearn: 0.1507837\ttest: 0.1523422\tbest: 0.1523360 (273)\ttotal: 21.5s\tremaining: 55.8s\n278:\tlearn: 0.1507792\ttest: 0.1523426\tbest: 0.1523360 (273)\ttotal: 21.5s\tremaining: 55.7s\n279:\tlearn: 0.1507747\ttest: 0.1523431\tbest: 0.1523360 (273)\ttotal: 21.6s\tremaining: 55.6s\n280:\tlearn: 0.1507689\ttest: 0.1523421\tbest: 0.1523360 (273)\ttotal: 21.7s\tremaining: 55.5s\n281:\tlearn: 0.1507652\ttest: 0.1523429\tbest: 0.1523360 (273)\ttotal: 21.8s\tremaining: 55.5s\n282:\tlearn: 0.1507578\ttest: 0.1523399\tbest: 0.1523360 (273)\ttotal: 21.9s\tremaining: 55.4s\n283:\tlearn: 0.1507503\ttest: 0.1523406\tbest: 0.1523360 (273)\ttotal: 22s\tremaining: 55.3s\n284:\tlearn: 0.1507440\ttest: 0.1523411\tbest: 0.1523360 (273)\ttotal: 22s\tremaining: 55.3s\n285:\tlearn: 0.1507395\ttest: 0.1523423\tbest: 0.1523360 (273)\ttotal: 22.1s\tremaining: 55.2s\n286:\tlearn: 0.1507322\ttest: 0.1523425\tbest: 0.1523360 (273)\ttotal: 22.2s\tremaining: 55.1s\n287:\tlearn: 0.1507250\ttest: 0.1523405\tbest: 0.1523360 (273)\ttotal: 22.3s\tremaining: 55s\n288:\tlearn: 0.1507181\ttest: 0.1523374\tbest: 0.1523360 (273)\ttotal: 22.3s\tremaining: 55s\n289:\tlearn: 0.1507131\ttest: 0.1523351\tbest: 0.1523351 (289)\ttotal: 22.4s\tremaining: 54.9s\n290:\tlearn: 0.1507045\ttest: 0.1523375\tbest: 0.1523351 (289)\ttotal: 22.5s\tremaining: 54.8s\n291:\tlearn: 0.1507002\ttest: 0.1523375\tbest: 0.1523351 (289)\ttotal: 22.6s\tremaining: 54.7s\n292:\tlearn: 0.1506915\ttest: 0.1523361\tbest: 0.1523351 (289)\ttotal: 22.6s\tremaining: 54.6s\n293:\tlearn: 0.1506844\ttest: 0.1523321\tbest: 0.1523321 (293)\ttotal: 22.7s\tremaining: 54.6s\n294:\tlearn: 0.1506774\ttest: 0.1523301\tbest: 0.1523301 (294)\ttotal: 22.8s\tremaining: 54.5s\n295:\tlearn: 0.1506695\ttest: 0.1523249\tbest: 0.1523249 (295)\ttotal: 22.9s\tremaining: 54.4s\n296:\tlearn: 0.1506610\ttest: 0.1523230\tbest: 0.1523230 (296)\ttotal: 22.9s\tremaining: 54.3s\n297:\tlearn: 0.1506553\ttest: 0.1523205\tbest: 0.1523205 (297)\ttotal: 23s\tremaining: 54.2s\n298:\tlearn: 0.1506537\ttest: 0.1523200\tbest: 0.1523200 (298)\ttotal: 23.1s\tremaining: 54.2s\n299:\tlearn: 0.1506489\ttest: 0.1523179\tbest: 0.1523179 (299)\ttotal: 23.2s\tremaining: 54.1s\n300:\tlearn: 0.1506405\ttest: 0.1523145\tbest: 0.1523145 (300)\ttotal: 23.2s\tremaining: 54s\n301:\tlearn: 0.1506339\ttest: 0.1523137\tbest: 0.1523137 (301)\ttotal: 23.3s\tremaining: 53.9s\n302:\tlearn: 0.1506268\ttest: 0.1523129\tbest: 0.1523129 (302)\ttotal: 23.4s\tremaining: 53.8s\n303:\tlearn: 0.1506194\ttest: 0.1523098\tbest: 0.1523098 (303)\ttotal: 23.5s\tremaining: 53.8s\n304:\tlearn: 0.1506159\ttest: 0.1523108\tbest: 0.1523098 (303)\ttotal: 23.6s\tremaining: 53.7s\n305:\tlearn: 0.1506082\ttest: 0.1523078\tbest: 0.1523078 (305)\ttotal: 23.6s\tremaining: 53.6s\n306:\tlearn: 0.1505999\ttest: 0.1523031\tbest: 0.1523031 (306)\ttotal: 23.7s\tremaining: 53.5s\n307:\tlearn: 0.1505937\ttest: 0.1523014\tbest: 0.1523014 (307)\ttotal: 23.8s\tremaining: 53.4s\n308:\tlearn: 0.1505875\ttest: 0.1523020\tbest: 0.1523014 (307)\ttotal: 23.9s\tremaining: 53.4s\n309:\tlearn: 0.1505816\ttest: 0.1523021\tbest: 0.1523014 (307)\ttotal: 23.9s\tremaining: 53.3s\n310:\tlearn: 0.1505738\ttest: 0.1523000\tbest: 0.1523000 (310)\ttotal: 24s\tremaining: 53.2s\n311:\tlearn: 0.1505670\ttest: 0.1523012\tbest: 0.1523000 (310)\ttotal: 24.1s\tremaining: 53.1s\n312:\tlearn: 0.1505634\ttest: 0.1522996\tbest: 0.1522996 (312)\ttotal: 24.2s\tremaining: 53s\n313:\tlearn: 0.1505585\ttest: 0.1522997\tbest: 0.1522996 (312)\ttotal: 24.2s\tremaining: 53s\n314:\tlearn: 0.1505519\ttest: 0.1523000\tbest: 0.1522996 (312)\ttotal: 24.3s\tremaining: 52.9s\n315:\tlearn: 0.1505459\ttest: 0.1522955\tbest: 0.1522955 (315)\ttotal: 24.4s\tremaining: 52.8s\n316:\tlearn: 0.1505420\ttest: 0.1522944\tbest: 0.1522944 (316)\ttotal: 24.4s\tremaining: 52.7s\n317:\tlearn: 0.1505386\ttest: 0.1522968\tbest: 0.1522944 (316)\ttotal: 24.5s\tremaining: 52.6s\n318:\tlearn: 0.1505328\ttest: 0.1522953\tbest: 0.1522944 (316)\ttotal: 24.6s\tremaining: 52.5s\n319:\tlearn: 0.1505272\ttest: 0.1522938\tbest: 0.1522938 (319)\ttotal: 24.7s\tremaining: 52.4s\n320:\tlearn: 0.1505213\ttest: 0.1522932\tbest: 0.1522932 (320)\ttotal: 24.7s\tremaining: 52.4s\n321:\tlearn: 0.1505181\ttest: 0.1522947\tbest: 0.1522932 (320)\ttotal: 24.8s\tremaining: 52.3s\n322:\tlearn: 0.1505132\ttest: 0.1522935\tbest: 0.1522932 (320)\ttotal: 24.9s\tremaining: 52.2s\n323:\tlearn: 0.1505110\ttest: 0.1522934\tbest: 0.1522932 (320)\ttotal: 25s\tremaining: 52.1s\n324:\tlearn: 0.1505069\ttest: 0.1522931\tbest: 0.1522931 (324)\ttotal: 25s\tremaining: 52s\n325:\tlearn: 0.1505029\ttest: 0.1522925\tbest: 0.1522925 (325)\ttotal: 25.1s\tremaining: 51.9s\n326:\tlearn: 0.1504958\ttest: 0.1522883\tbest: 0.1522883 (326)\ttotal: 25.2s\tremaining: 51.9s\n327:\tlearn: 0.1504888\ttest: 0.1522857\tbest: 0.1522857 (327)\ttotal: 25.3s\tremaining: 51.8s\n328:\tlearn: 0.1504844\ttest: 0.1522843\tbest: 0.1522843 (328)\ttotal: 25.4s\tremaining: 51.7s\n329:\tlearn: 0.1504785\ttest: 0.1522847\tbest: 0.1522843 (328)\ttotal: 25.4s\tremaining: 51.6s\n330:\tlearn: 0.1504697\ttest: 0.1522834\tbest: 0.1522834 (330)\ttotal: 25.5s\tremaining: 51.5s\n331:\tlearn: 0.1504654\ttest: 0.1522827\tbest: 0.1522827 (331)\ttotal: 25.6s\tremaining: 51.5s\n332:\tlearn: 0.1504614\ttest: 0.1522841\tbest: 0.1522827 (331)\ttotal: 25.7s\tremaining: 51.4s\n333:\tlearn: 0.1504555\ttest: 0.1522831\tbest: 0.1522827 (331)\ttotal: 25.7s\tremaining: 51.3s\n334:\tlearn: 0.1504460\ttest: 0.1522829\tbest: 0.1522827 (331)\ttotal: 25.8s\tremaining: 51.2s\n335:\tlearn: 0.1504366\ttest: 0.1522828\tbest: 0.1522827 (331)\ttotal: 25.9s\tremaining: 51.1s\n336:\tlearn: 0.1504305\ttest: 0.1522786\tbest: 0.1522786 (336)\ttotal: 26s\tremaining: 51.1s\n337:\tlearn: 0.1504269\ttest: 0.1522803\tbest: 0.1522786 (336)\ttotal: 26s\tremaining: 51s\n338:\tlearn: 0.1504165\ttest: 0.1522759\tbest: 0.1522759 (338)\ttotal: 26.1s\tremaining: 50.9s\n339:\tlearn: 0.1504116\ttest: 0.1522745\tbest: 0.1522745 (339)\ttotal: 26.2s\tremaining: 50.8s\n340:\tlearn: 0.1504070\ttest: 0.1522751\tbest: 0.1522745 (339)\ttotal: 26.3s\tremaining: 50.7s\n341:\tlearn: 0.1504016\ttest: 0.1522726\tbest: 0.1522726 (341)\ttotal: 26.3s\tremaining: 50.6s\n342:\tlearn: 0.1503941\ttest: 0.1522732\tbest: 0.1522726 (341)\ttotal: 26.4s\tremaining: 50.6s\n343:\tlearn: 0.1503877\ttest: 0.1522695\tbest: 0.1522695 (343)\ttotal: 26.5s\tremaining: 50.5s\n344:\tlearn: 0.1503849\ttest: 0.1522705\tbest: 0.1522695 (343)\ttotal: 26.6s\tremaining: 50.4s\n345:\tlearn: 0.1503795\ttest: 0.1522714\tbest: 0.1522695 (343)\ttotal: 26.6s\tremaining: 50.3s\n346:\tlearn: 0.1503749\ttest: 0.1522718\tbest: 0.1522695 (343)\ttotal: 26.7s\tremaining: 50.3s\n347:\tlearn: 0.1503695\ttest: 0.1522724\tbest: 0.1522695 (343)\ttotal: 26.8s\tremaining: 50.2s\n348:\tlearn: 0.1503664\ttest: 0.1522726\tbest: 0.1522695 (343)\ttotal: 26.9s\tremaining: 50.1s\n349:\tlearn: 0.1503607\ttest: 0.1522709\tbest: 0.1522695 (343)\ttotal: 26.9s\tremaining: 50s\n350:\tlearn: 0.1503532\ttest: 0.1522712\tbest: 0.1522695 (343)\ttotal: 27s\tremaining: 49.9s\n351:\tlearn: 0.1503482\ttest: 0.1522700\tbest: 0.1522695 (343)\ttotal: 27.1s\tremaining: 49.9s\n352:\tlearn: 0.1503438\ttest: 0.1522689\tbest: 0.1522689 (352)\ttotal: 27.2s\tremaining: 49.8s\n353:\tlearn: 0.1503383\ttest: 0.1522670\tbest: 0.1522670 (353)\ttotal: 27.3s\tremaining: 49.8s\n354:\tlearn: 0.1503327\ttest: 0.1522677\tbest: 0.1522670 (353)\ttotal: 27.4s\tremaining: 49.7s\n355:\tlearn: 0.1503265\ttest: 0.1522746\tbest: 0.1522670 (353)\ttotal: 27.4s\tremaining: 49.6s\n356:\tlearn: 0.1503181\ttest: 0.1522750\tbest: 0.1522670 (353)\ttotal: 27.5s\tremaining: 49.6s\n357:\tlearn: 0.1503123\ttest: 0.1522756\tbest: 0.1522670 (353)\ttotal: 27.6s\tremaining: 49.5s\n358:\tlearn: 0.1503094\ttest: 0.1522762\tbest: 0.1522670 (353)\ttotal: 27.7s\tremaining: 49.4s\n359:\tlearn: 0.1503025\ttest: 0.1522751\tbest: 0.1522670 (353)\ttotal: 27.7s\tremaining: 49.3s\n360:\tlearn: 0.1502995\ttest: 0.1522743\tbest: 0.1522670 (353)\ttotal: 27.8s\tremaining: 49.2s\n361:\tlearn: 0.1502934\ttest: 0.1522717\tbest: 0.1522670 (353)\ttotal: 27.9s\tremaining: 49.2s\n362:\tlearn: 0.1502900\ttest: 0.1522700\tbest: 0.1522670 (353)\ttotal: 28s\tremaining: 49.1s\n363:\tlearn: 0.1502800\ttest: 0.1522625\tbest: 0.1522625 (363)\ttotal: 28.1s\tremaining: 49.1s\n364:\tlearn: 0.1502769\ttest: 0.1522630\tbest: 0.1522625 (363)\ttotal: 28.1s\tremaining: 49s\n365:\tlearn: 0.1502706\ttest: 0.1522630\tbest: 0.1522625 (363)\ttotal: 28.2s\tremaining: 48.9s\n366:\tlearn: 0.1502671\ttest: 0.1522631\tbest: 0.1522625 (363)\ttotal: 28.3s\tremaining: 48.8s\n367:\tlearn: 0.1502629\ttest: 0.1522640\tbest: 0.1522625 (363)\ttotal: 28.4s\tremaining: 48.7s\n368:\tlearn: 0.1502546\ttest: 0.1522622\tbest: 0.1522622 (368)\ttotal: 28.4s\tremaining: 48.6s\n369:\tlearn: 0.1502503\ttest: 0.1522623\tbest: 0.1522622 (368)\ttotal: 28.5s\tremaining: 48.6s\n370:\tlearn: 0.1502458\ttest: 0.1522615\tbest: 0.1522615 (370)\ttotal: 28.6s\tremaining: 48.5s\n371:\tlearn: 0.1502411\ttest: 0.1522619\tbest: 0.1522615 (370)\ttotal: 28.7s\tremaining: 48.5s\n372:\tlearn: 0.1502360\ttest: 0.1522637\tbest: 0.1522615 (370)\ttotal: 28.8s\tremaining: 48.4s\n373:\tlearn: 0.1502327\ttest: 0.1522643\tbest: 0.1522615 (370)\ttotal: 28.9s\tremaining: 48.3s\n374:\tlearn: 0.1502305\ttest: 0.1522652\tbest: 0.1522615 (370)\ttotal: 28.9s\tremaining: 48.2s\n375:\tlearn: 0.1502276\ttest: 0.1522652\tbest: 0.1522615 (370)\ttotal: 29s\tremaining: 48.1s\n376:\tlearn: 0.1502206\ttest: 0.1522648\tbest: 0.1522615 (370)\ttotal: 29.1s\tremaining: 48.1s\n377:\tlearn: 0.1502184\ttest: 0.1522651\tbest: 0.1522615 (370)\ttotal: 29.2s\tremaining: 48s\n378:\tlearn: 0.1502122\ttest: 0.1522688\tbest: 0.1522615 (370)\ttotal: 29.2s\tremaining: 47.9s\n379:\tlearn: 0.1502086\ttest: 0.1522690\tbest: 0.1522615 (370)\ttotal: 29.3s\tremaining: 47.8s\n380:\tlearn: 0.1502059\ttest: 0.1522685\tbest: 0.1522615 (370)\ttotal: 29.4s\tremaining: 47.7s\n381:\tlearn: 0.1502005\ttest: 0.1522689\tbest: 0.1522615 (370)\ttotal: 29.5s\tremaining: 47.7s\n382:\tlearn: 0.1501958\ttest: 0.1522697\tbest: 0.1522615 (370)\ttotal: 29.5s\tremaining: 47.6s\n383:\tlearn: 0.1501928\ttest: 0.1522683\tbest: 0.1522615 (370)\ttotal: 29.6s\tremaining: 47.5s\n384:\tlearn: 0.1501869\ttest: 0.1522659\tbest: 0.1522615 (370)\ttotal: 29.7s\tremaining: 47.4s\n385:\tlearn: 0.1501804\ttest: 0.1522648\tbest: 0.1522615 (370)\ttotal: 29.8s\tremaining: 47.4s\n386:\tlearn: 0.1501738\ttest: 0.1522621\tbest: 0.1522615 (370)\ttotal: 29.9s\tremaining: 47.3s\n387:\tlearn: 0.1501678\ttest: 0.1522602\tbest: 0.1522602 (387)\ttotal: 30s\tremaining: 47.3s\n388:\tlearn: 0.1501622\ttest: 0.1522581\tbest: 0.1522581 (388)\ttotal: 30s\tremaining: 47.2s\n389:\tlearn: 0.1501557\ttest: 0.1522552\tbest: 0.1522552 (389)\ttotal: 30.1s\tremaining: 47.1s\n390:\tlearn: 0.1501538\ttest: 0.1522555\tbest: 0.1522552 (389)\ttotal: 30.2s\tremaining: 47s\n391:\tlearn: 0.1501439\ttest: 0.1522502\tbest: 0.1522502 (391)\ttotal: 30.3s\tremaining: 46.9s\n392:\tlearn: 0.1501404\ttest: 0.1522484\tbest: 0.1522484 (392)\ttotal: 30.3s\tremaining: 46.8s\n393:\tlearn: 0.1501378\ttest: 0.1522492\tbest: 0.1522484 (392)\ttotal: 30.4s\tremaining: 46.8s\n394:\tlearn: 0.1501334\ttest: 0.1522489\tbest: 0.1522484 (392)\ttotal: 30.5s\tremaining: 46.7s\n395:\tlearn: 0.1501267\ttest: 0.1522485\tbest: 0.1522484 (392)\ttotal: 30.6s\tremaining: 46.6s\n396:\tlearn: 0.1501203\ttest: 0.1522462\tbest: 0.1522462 (396)\ttotal: 30.6s\tremaining: 46.5s\n397:\tlearn: 0.1501126\ttest: 0.1522430\tbest: 0.1522430 (397)\ttotal: 30.7s\tremaining: 46.4s\n398:\tlearn: 0.1501058\ttest: 0.1522433\tbest: 0.1522430 (397)\ttotal: 30.8s\tremaining: 46.4s\n399:\tlearn: 0.1501043\ttest: 0.1522427\tbest: 0.1522427 (399)\ttotal: 30.8s\tremaining: 46.3s\n400:\tlearn: 0.1500994\ttest: 0.1522434\tbest: 0.1522427 (399)\ttotal: 30.9s\tremaining: 46.2s\n401:\tlearn: 0.1500962\ttest: 0.1522423\tbest: 0.1522423 (401)\ttotal: 31s\tremaining: 46.1s\n402:\tlearn: 0.1500916\ttest: 0.1522410\tbest: 0.1522410 (402)\ttotal: 31.1s\tremaining: 46s\n403:\tlearn: 0.1500832\ttest: 0.1522341\tbest: 0.1522341 (403)\ttotal: 31.2s\tremaining: 46s\n404:\tlearn: 0.1500808\ttest: 0.1522335\tbest: 0.1522335 (404)\ttotal: 31.2s\tremaining: 45.9s\n405:\tlearn: 0.1500762\ttest: 0.1522356\tbest: 0.1522335 (404)\ttotal: 31.3s\tremaining: 45.8s\n406:\tlearn: 0.1500706\ttest: 0.1522368\tbest: 0.1522335 (404)\ttotal: 31.4s\tremaining: 45.7s\n407:\tlearn: 0.1500634\ttest: 0.1522360\tbest: 0.1522335 (404)\ttotal: 31.4s\tremaining: 45.6s\n408:\tlearn: 0.1500575\ttest: 0.1522349\tbest: 0.1522335 (404)\ttotal: 31.5s\tremaining: 45.6s\n409:\tlearn: 0.1500512\ttest: 0.1522337\tbest: 0.1522335 (404)\ttotal: 31.6s\tremaining: 45.5s\n410:\tlearn: 0.1500455\ttest: 0.1522340\tbest: 0.1522335 (404)\ttotal: 31.8s\tremaining: 45.5s\n411:\tlearn: 0.1500373\ttest: 0.1522270\tbest: 0.1522270 (411)\ttotal: 31.9s\tremaining: 45.5s\n412:\tlearn: 0.1500325\ttest: 0.1522258\tbest: 0.1522258 (412)\ttotal: 32s\tremaining: 45.4s\n413:\tlearn: 0.1500273\ttest: 0.1522249\tbest: 0.1522249 (413)\ttotal: 32s\tremaining: 45.3s\n414:\tlearn: 0.1500206\ttest: 0.1522262\tbest: 0.1522249 (413)\ttotal: 32.1s\tremaining: 45.3s\n415:\tlearn: 0.1500122\ttest: 0.1522251\tbest: 0.1522249 (413)\ttotal: 32.2s\tremaining: 45.2s\n416:\tlearn: 0.1500061\ttest: 0.1522204\tbest: 0.1522204 (416)\ttotal: 32.3s\tremaining: 45.1s\n417:\tlearn: 0.1499993\ttest: 0.1522194\tbest: 0.1522194 (417)\ttotal: 32.3s\tremaining: 45s\n418:\tlearn: 0.1499951\ttest: 0.1522175\tbest: 0.1522175 (418)\ttotal: 32.4s\tremaining: 45s\n419:\tlearn: 0.1499902\ttest: 0.1522164\tbest: 0.1522164 (419)\ttotal: 32.5s\tremaining: 44.9s\n420:\tlearn: 0.1499860\ttest: 0.1522162\tbest: 0.1522162 (420)\ttotal: 32.6s\tremaining: 44.8s\n421:\tlearn: 0.1499805\ttest: 0.1522171\tbest: 0.1522162 (420)\ttotal: 32.6s\tremaining: 44.7s\n422:\tlearn: 0.1499766\ttest: 0.1522168\tbest: 0.1522162 (420)\ttotal: 32.7s\tremaining: 44.6s\n423:\tlearn: 0.1499687\ttest: 0.1522182\tbest: 0.1522162 (420)\ttotal: 32.8s\tremaining: 44.6s\n424:\tlearn: 0.1499594\ttest: 0.1522125\tbest: 0.1522125 (424)\ttotal: 32.9s\tremaining: 44.5s\n425:\tlearn: 0.1499536\ttest: 0.1522114\tbest: 0.1522114 (425)\ttotal: 33s\tremaining: 44.4s\n426:\tlearn: 0.1499473\ttest: 0.1522099\tbest: 0.1522099 (426)\ttotal: 33s\tremaining: 44.3s\n427:\tlearn: 0.1499419\ttest: 0.1522059\tbest: 0.1522059 (427)\ttotal: 33.1s\tremaining: 44.3s\n428:\tlearn: 0.1499371\ttest: 0.1522070\tbest: 0.1522059 (427)\ttotal: 33.3s\tremaining: 44.3s\n429:\tlearn: 0.1499308\ttest: 0.1522074\tbest: 0.1522059 (427)\ttotal: 33.4s\tremaining: 44.2s\n430:\tlearn: 0.1499243\ttest: 0.1522092\tbest: 0.1522059 (427)\ttotal: 33.4s\tremaining: 44.1s\n431:\tlearn: 0.1499182\ttest: 0.1522089\tbest: 0.1522059 (427)\ttotal: 33.5s\tremaining: 44.1s\n432:\tlearn: 0.1499104\ttest: 0.1522101\tbest: 0.1522059 (427)\ttotal: 33.6s\tremaining: 44s\n433:\tlearn: 0.1499066\ttest: 0.1522108\tbest: 0.1522059 (427)\ttotal: 33.7s\tremaining: 43.9s\n434:\tlearn: 0.1499022\ttest: 0.1522110\tbest: 0.1522059 (427)\ttotal: 33.7s\tremaining: 43.8s\n435:\tlearn: 0.1498967\ttest: 0.1522120\tbest: 0.1522059 (427)\ttotal: 33.8s\tremaining: 43.8s\n436:\tlearn: 0.1498916\ttest: 0.1522122\tbest: 0.1522059 (427)\ttotal: 33.9s\tremaining: 43.7s\n437:\tlearn: 0.1498878\ttest: 0.1522125\tbest: 0.1522059 (427)\ttotal: 34s\tremaining: 43.6s\n438:\tlearn: 0.1498825\ttest: 0.1522128\tbest: 0.1522059 (427)\ttotal: 34.1s\tremaining: 43.5s\n439:\tlearn: 0.1498772\ttest: 0.1522135\tbest: 0.1522059 (427)\ttotal: 34.1s\tremaining: 43.4s\n440:\tlearn: 0.1498735\ttest: 0.1522133\tbest: 0.1522059 (427)\ttotal: 34.2s\tremaining: 43.3s\n441:\tlearn: 0.1498674\ttest: 0.1522121\tbest: 0.1522059 (427)\ttotal: 34.3s\tremaining: 43.3s\n442:\tlearn: 0.1498595\ttest: 0.1522106\tbest: 0.1522059 (427)\ttotal: 34.3s\tremaining: 43.2s\n443:\tlearn: 0.1498554\ttest: 0.1522092\tbest: 0.1522059 (427)\ttotal: 34.4s\tremaining: 43.1s\n444:\tlearn: 0.1498498\ttest: 0.1522093\tbest: 0.1522059 (427)\ttotal: 34.5s\tremaining: 43s\n445:\tlearn: 0.1498440\ttest: 0.1522094\tbest: 0.1522059 (427)\ttotal: 34.6s\tremaining: 42.9s\n446:\tlearn: 0.1498355\ttest: 0.1522126\tbest: 0.1522059 (427)\ttotal: 34.6s\tremaining: 42.9s\n447:\tlearn: 0.1498265\ttest: 0.1522064\tbest: 0.1522059 (427)\ttotal: 34.7s\tremaining: 42.8s\n448:\tlearn: 0.1498202\ttest: 0.1522062\tbest: 0.1522059 (427)\ttotal: 34.8s\tremaining: 42.7s\n449:\tlearn: 0.1498139\ttest: 0.1522053\tbest: 0.1522053 (449)\ttotal: 34.9s\tremaining: 42.6s\n450:\tlearn: 0.1498055\ttest: 0.1522026\tbest: 0.1522026 (450)\ttotal: 35s\tremaining: 42.6s\n451:\tlearn: 0.1498015\ttest: 0.1522029\tbest: 0.1522026 (450)\ttotal: 35s\tremaining: 42.5s\n452:\tlearn: 0.1497956\ttest: 0.1522016\tbest: 0.1522016 (452)\ttotal: 35.1s\tremaining: 42.4s\n453:\tlearn: 0.1497917\ttest: 0.1522006\tbest: 0.1522006 (453)\ttotal: 35.2s\tremaining: 42.3s\n454:\tlearn: 0.1497865\ttest: 0.1521993\tbest: 0.1521993 (454)\ttotal: 35.3s\tremaining: 42.2s\n455:\tlearn: 0.1497807\ttest: 0.1521998\tbest: 0.1521993 (454)\ttotal: 35.3s\tremaining: 42.2s\n456:\tlearn: 0.1497787\ttest: 0.1522003\tbest: 0.1521993 (454)\ttotal: 35.4s\tremaining: 42.1s\n457:\tlearn: 0.1497743\ttest: 0.1521988\tbest: 0.1521988 (457)\ttotal: 35.5s\tremaining: 42s\n458:\tlearn: 0.1497700\ttest: 0.1521971\tbest: 0.1521971 (458)\ttotal: 35.6s\tremaining: 41.9s\n459:\tlearn: 0.1497651\ttest: 0.1521985\tbest: 0.1521971 (458)\ttotal: 35.6s\tremaining: 41.8s\n460:\tlearn: 0.1497587\ttest: 0.1521996\tbest: 0.1521971 (458)\ttotal: 35.7s\tremaining: 41.7s\n461:\tlearn: 0.1497519\ttest: 0.1521985\tbest: 0.1521971 (458)\ttotal: 35.8s\tremaining: 41.7s\n462:\tlearn: 0.1497454\ttest: 0.1521973\tbest: 0.1521971 (458)\ttotal: 35.9s\tremaining: 41.6s\n463:\tlearn: 0.1497393\ttest: 0.1521983\tbest: 0.1521971 (458)\ttotal: 35.9s\tremaining: 41.5s\n464:\tlearn: 0.1497344\ttest: 0.1521968\tbest: 0.1521968 (464)\ttotal: 36s\tremaining: 41.4s\n465:\tlearn: 0.1497265\ttest: 0.1521984\tbest: 0.1521968 (464)\ttotal: 36.1s\tremaining: 41.3s\n466:\tlearn: 0.1497224\ttest: 0.1521976\tbest: 0.1521968 (464)\ttotal: 36.2s\tremaining: 41.3s\n467:\tlearn: 0.1497202\ttest: 0.1521970\tbest: 0.1521968 (464)\ttotal: 36.2s\tremaining: 41.2s\n468:\tlearn: 0.1497133\ttest: 0.1521959\tbest: 0.1521959 (468)\ttotal: 36.3s\tremaining: 41.1s\n469:\tlearn: 0.1497066\ttest: 0.1521940\tbest: 0.1521940 (469)\ttotal: 36.4s\tremaining: 41s\n470:\tlearn: 0.1497029\ttest: 0.1521959\tbest: 0.1521940 (469)\ttotal: 36.4s\tremaining: 40.9s\n471:\tlearn: 0.1496983\ttest: 0.1521958\tbest: 0.1521940 (469)\ttotal: 36.5s\tremaining: 40.9s\n472:\tlearn: 0.1496893\ttest: 0.1521964\tbest: 0.1521940 (469)\ttotal: 36.6s\tremaining: 40.8s\n473:\tlearn: 0.1496826\ttest: 0.1522004\tbest: 0.1521940 (469)\ttotal: 36.7s\tremaining: 40.7s\n474:\tlearn: 0.1496794\ttest: 0.1522006\tbest: 0.1521940 (469)\ttotal: 36.7s\tremaining: 40.6s\n475:\tlearn: 0.1496747\ttest: 0.1521997\tbest: 0.1521940 (469)\ttotal: 36.8s\tremaining: 40.5s\n476:\tlearn: 0.1496712\ttest: 0.1522017\tbest: 0.1521940 (469)\ttotal: 36.9s\tremaining: 40.5s\n477:\tlearn: 0.1496666\ttest: 0.1522011\tbest: 0.1521940 (469)\ttotal: 37s\tremaining: 40.4s\n478:\tlearn: 0.1496592\ttest: 0.1521986\tbest: 0.1521940 (469)\ttotal: 37s\tremaining: 40.3s\n479:\tlearn: 0.1496546\ttest: 0.1521989\tbest: 0.1521940 (469)\ttotal: 37.1s\tremaining: 40.2s\n480:\tlearn: 0.1496494\ttest: 0.1522005\tbest: 0.1521940 (469)\ttotal: 37.2s\tremaining: 40.2s\n481:\tlearn: 0.1496448\ttest: 0.1522012\tbest: 0.1521940 (469)\ttotal: 37.3s\tremaining: 40.1s\n482:\tlearn: 0.1496398\ttest: 0.1522020\tbest: 0.1521940 (469)\ttotal: 37.4s\tremaining: 40s\n483:\tlearn: 0.1496341\ttest: 0.1522030\tbest: 0.1521940 (469)\ttotal: 37.4s\tremaining: 39.9s\n484:\tlearn: 0.1496301\ttest: 0.1522021\tbest: 0.1521940 (469)\ttotal: 37.5s\tremaining: 39.8s\n485:\tlearn: 0.1496271\ttest: 0.1522008\tbest: 0.1521940 (469)\ttotal: 37.6s\tremaining: 39.7s\n486:\tlearn: 0.1496236\ttest: 0.1522012\tbest: 0.1521940 (469)\ttotal: 37.7s\tremaining: 39.7s\n487:\tlearn: 0.1496191\ttest: 0.1522025\tbest: 0.1521940 (469)\ttotal: 37.7s\tremaining: 39.6s\n488:\tlearn: 0.1496112\ttest: 0.1521989\tbest: 0.1521940 (469)\ttotal: 37.8s\tremaining: 39.5s\n489:\tlearn: 0.1496072\ttest: 0.1521994\tbest: 0.1521940 (469)\ttotal: 37.9s\tremaining: 39.4s\n490:\tlearn: 0.1496048\ttest: 0.1521994\tbest: 0.1521940 (469)\ttotal: 38s\tremaining: 39.4s\n491:\tlearn: 0.1495978\ttest: 0.1521995\tbest: 0.1521940 (469)\ttotal: 38s\tremaining: 39.3s\n492:\tlearn: 0.1495949\ttest: 0.1521998\tbest: 0.1521940 (469)\ttotal: 38.1s\tremaining: 39.2s\n493:\tlearn: 0.1495911\ttest: 0.1521979\tbest: 0.1521940 (469)\ttotal: 38.2s\tremaining: 39.1s\n494:\tlearn: 0.1495876\ttest: 0.1521976\tbest: 0.1521940 (469)\ttotal: 38.3s\tremaining: 39s\n495:\tlearn: 0.1495824\ttest: 0.1521977\tbest: 0.1521940 (469)\ttotal: 38.3s\tremaining: 39s\n496:\tlearn: 0.1495791\ttest: 0.1521981\tbest: 0.1521940 (469)\ttotal: 38.4s\tremaining: 38.9s\n497:\tlearn: 0.1495772\ttest: 0.1521975\tbest: 0.1521940 (469)\ttotal: 38.5s\tremaining: 38.8s\n498:\tlearn: 0.1495717\ttest: 0.1521943\tbest: 0.1521940 (469)\ttotal: 38.6s\tremaining: 38.7s\n499:\tlearn: 0.1495659\ttest: 0.1521940\tbest: 0.1521940 (499)\ttotal: 38.6s\tremaining: 38.6s\n500:\tlearn: 0.1495616\ttest: 0.1521936\tbest: 0.1521936 (500)\ttotal: 38.7s\tremaining: 38.6s\n501:\tlearn: 0.1495539\ttest: 0.1521906\tbest: 0.1521906 (501)\ttotal: 38.8s\tremaining: 38.5s\n502:\tlearn: 0.1495525\ttest: 0.1521910\tbest: 0.1521906 (501)\ttotal: 38.9s\tremaining: 38.4s\n503:\tlearn: 0.1495459\ttest: 0.1521909\tbest: 0.1521906 (501)\ttotal: 38.9s\tremaining: 38.3s\n504:\tlearn: 0.1495406\ttest: 0.1521899\tbest: 0.1521899 (504)\ttotal: 39s\tremaining: 38.2s\n505:\tlearn: 0.1495355\ttest: 0.1521901\tbest: 0.1521899 (504)\ttotal: 39.1s\tremaining: 38.2s\n506:\tlearn: 0.1495309\ttest: 0.1521909\tbest: 0.1521899 (504)\ttotal: 39.2s\tremaining: 38.1s\n507:\tlearn: 0.1495268\ttest: 0.1521896\tbest: 0.1521896 (507)\ttotal: 39.2s\tremaining: 38s\n508:\tlearn: 0.1495229\ttest: 0.1521900\tbest: 0.1521896 (507)\ttotal: 39.3s\tremaining: 37.9s\n509:\tlearn: 0.1495197\ttest: 0.1521891\tbest: 0.1521891 (509)\ttotal: 39.4s\tremaining: 37.8s\n510:\tlearn: 0.1495162\ttest: 0.1521891\tbest: 0.1521891 (509)\ttotal: 39.5s\tremaining: 37.8s\n511:\tlearn: 0.1495112\ttest: 0.1521906\tbest: 0.1521891 (509)\ttotal: 39.6s\tremaining: 37.7s\n512:\tlearn: 0.1495042\ttest: 0.1521894\tbest: 0.1521891 (509)\ttotal: 39.7s\tremaining: 37.6s\n513:\tlearn: 0.1495000\ttest: 0.1521900\tbest: 0.1521891 (509)\ttotal: 39.7s\tremaining: 37.6s\n514:\tlearn: 0.1494931\ttest: 0.1521860\tbest: 0.1521860 (514)\ttotal: 39.8s\tremaining: 37.5s\n515:\tlearn: 0.1494900\ttest: 0.1521870\tbest: 0.1521860 (514)\ttotal: 39.9s\tremaining: 37.4s\n516:\tlearn: 0.1494838\ttest: 0.1521861\tbest: 0.1521860 (514)\ttotal: 40s\tremaining: 37.3s\n517:\tlearn: 0.1494796\ttest: 0.1521861\tbest: 0.1521860 (514)\ttotal: 40s\tremaining: 37.3s\n518:\tlearn: 0.1494750\ttest: 0.1521834\tbest: 0.1521834 (518)\ttotal: 40.1s\tremaining: 37.2s\n519:\tlearn: 0.1494697\ttest: 0.1521828\tbest: 0.1521828 (519)\ttotal: 40.2s\tremaining: 37.1s\n520:\tlearn: 0.1494645\ttest: 0.1521830\tbest: 0.1521828 (519)\ttotal: 40.3s\tremaining: 37s\n521:\tlearn: 0.1494608\ttest: 0.1521829\tbest: 0.1521828 (519)\ttotal: 40.3s\tremaining: 36.9s\n522:\tlearn: 0.1494518\ttest: 0.1521771\tbest: 0.1521771 (522)\ttotal: 40.4s\tremaining: 36.8s\n523:\tlearn: 0.1494450\ttest: 0.1521761\tbest: 0.1521761 (523)\ttotal: 40.5s\tremaining: 36.8s\n524:\tlearn: 0.1494432\ttest: 0.1521761\tbest: 0.1521761 (524)\ttotal: 40.5s\tremaining: 36.7s\n525:\tlearn: 0.1494376\ttest: 0.1521751\tbest: 0.1521751 (525)\ttotal: 40.6s\tremaining: 36.6s\n526:\tlearn: 0.1494345\ttest: 0.1521772\tbest: 0.1521751 (525)\ttotal: 40.7s\tremaining: 36.5s\n527:\tlearn: 0.1494317\ttest: 0.1521761\tbest: 0.1521751 (525)\ttotal: 40.8s\tremaining: 36.5s\n528:\tlearn: 0.1494286\ttest: 0.1521762\tbest: 0.1521751 (525)\ttotal: 40.9s\tremaining: 36.4s\n529:\tlearn: 0.1494257\ttest: 0.1521768\tbest: 0.1521751 (525)\ttotal: 40.9s\tremaining: 36.3s\n530:\tlearn: 0.1494244\ttest: 0.1521771\tbest: 0.1521751 (525)\ttotal: 41s\tremaining: 36.2s\n531:\tlearn: 0.1494217\ttest: 0.1521780\tbest: 0.1521751 (525)\ttotal: 41.1s\tremaining: 36.1s\n532:\tlearn: 0.1494172\ttest: 0.1521767\tbest: 0.1521751 (525)\ttotal: 41.1s\tremaining: 36s\n533:\tlearn: 0.1494116\ttest: 0.1521728\tbest: 0.1521728 (533)\ttotal: 41.2s\tremaining: 36s\n534:\tlearn: 0.1494043\ttest: 0.1521722\tbest: 0.1521722 (534)\ttotal: 41.3s\tremaining: 35.9s\n535:\tlearn: 0.1493994\ttest: 0.1521724\tbest: 0.1521722 (534)\ttotal: 41.4s\tremaining: 35.8s\n536:\tlearn: 0.1493942\ttest: 0.1521694\tbest: 0.1521694 (536)\ttotal: 41.4s\tremaining: 35.7s\n537:\tlearn: 0.1493889\ttest: 0.1521714\tbest: 0.1521694 (536)\ttotal: 41.5s\tremaining: 35.7s\n538:\tlearn: 0.1493810\ttest: 0.1521726\tbest: 0.1521694 (536)\ttotal: 41.6s\tremaining: 35.6s\n539:\tlearn: 0.1493796\ttest: 0.1521722\tbest: 0.1521694 (536)\ttotal: 41.7s\tremaining: 35.5s\n540:\tlearn: 0.1493742\ttest: 0.1521728\tbest: 0.1521694 (536)\ttotal: 41.8s\tremaining: 35.4s\n541:\tlearn: 0.1493711\ttest: 0.1521727\tbest: 0.1521694 (536)\ttotal: 41.8s\tremaining: 35.4s\n542:\tlearn: 0.1493662\ttest: 0.1521723\tbest: 0.1521694 (536)\ttotal: 41.9s\tremaining: 35.3s\n543:\tlearn: 0.1493608\ttest: 0.1521712\tbest: 0.1521694 (536)\ttotal: 42s\tremaining: 35.2s\n544:\tlearn: 0.1493572\ttest: 0.1521733\tbest: 0.1521694 (536)\ttotal: 42.1s\tremaining: 35.1s\n545:\tlearn: 0.1493502\ttest: 0.1521758\tbest: 0.1521694 (536)\ttotal: 42.1s\tremaining: 35s\n546:\tlearn: 0.1493470\ttest: 0.1521773\tbest: 0.1521694 (536)\ttotal: 42.2s\tremaining: 35s\n547:\tlearn: 0.1493421\ttest: 0.1521764\tbest: 0.1521694 (536)\ttotal: 42.3s\tremaining: 34.9s\n548:\tlearn: 0.1493385\ttest: 0.1521765\tbest: 0.1521694 (536)\ttotal: 42.4s\tremaining: 34.8s\n549:\tlearn: 0.1493331\ttest: 0.1521757\tbest: 0.1521694 (536)\ttotal: 42.5s\tremaining: 34.7s\n550:\tlearn: 0.1493279\ttest: 0.1521763\tbest: 0.1521694 (536)\ttotal: 42.5s\tremaining: 34.7s\n551:\tlearn: 0.1493234\ttest: 0.1521759\tbest: 0.1521694 (536)\ttotal: 42.6s\tremaining: 34.6s\n552:\tlearn: 0.1493159\ttest: 0.1521735\tbest: 0.1521694 (536)\ttotal: 42.7s\tremaining: 34.5s\n553:\tlearn: 0.1493113\ttest: 0.1521704\tbest: 0.1521694 (536)\ttotal: 42.8s\tremaining: 34.4s\n554:\tlearn: 0.1493083\ttest: 0.1521704\tbest: 0.1521694 (536)\ttotal: 42.9s\tremaining: 34.4s\n555:\tlearn: 0.1493025\ttest: 0.1521689\tbest: 0.1521689 (555)\ttotal: 42.9s\tremaining: 34.3s\n556:\tlearn: 0.1492996\ttest: 0.1521686\tbest: 0.1521686 (556)\ttotal: 43s\tremaining: 34.2s\n557:\tlearn: 0.1492974\ttest: 0.1521694\tbest: 0.1521686 (556)\ttotal: 43.1s\tremaining: 34.1s\n558:\tlearn: 0.1492916\ttest: 0.1521695\tbest: 0.1521686 (556)\ttotal: 43.2s\tremaining: 34s\n559:\tlearn: 0.1492848\ttest: 0.1521669\tbest: 0.1521669 (559)\ttotal: 43.2s\tremaining: 34s\n560:\tlearn: 0.1492788\ttest: 0.1521668\tbest: 0.1521668 (560)\ttotal: 43.3s\tremaining: 33.9s\n561:\tlearn: 0.1492713\ttest: 0.1521674\tbest: 0.1521668 (560)\ttotal: 43.4s\tremaining: 33.8s\n562:\tlearn: 0.1492646\ttest: 0.1521663\tbest: 0.1521663 (562)\ttotal: 43.5s\tremaining: 33.7s\n563:\tlearn: 0.1492583\ttest: 0.1521674\tbest: 0.1521663 (562)\ttotal: 43.5s\tremaining: 33.7s\n564:\tlearn: 0.1492518\ttest: 0.1521668\tbest: 0.1521663 (562)\ttotal: 43.6s\tremaining: 33.6s\n565:\tlearn: 0.1492471\ttest: 0.1521695\tbest: 0.1521663 (562)\ttotal: 43.7s\tremaining: 33.5s\n566:\tlearn: 0.1492436\ttest: 0.1521699\tbest: 0.1521663 (562)\ttotal: 43.8s\tremaining: 33.4s\n567:\tlearn: 0.1492421\ttest: 0.1521696\tbest: 0.1521663 (562)\ttotal: 43.8s\tremaining: 33.3s\n568:\tlearn: 0.1492381\ttest: 0.1521701\tbest: 0.1521663 (562)\ttotal: 43.9s\tremaining: 33.3s\n569:\tlearn: 0.1492312\ttest: 0.1521689\tbest: 0.1521663 (562)\ttotal: 44s\tremaining: 33.2s\n570:\tlearn: 0.1492292\ttest: 0.1521707\tbest: 0.1521663 (562)\ttotal: 44.1s\tremaining: 33.1s\n571:\tlearn: 0.1492207\ttest: 0.1521735\tbest: 0.1521663 (562)\ttotal: 44.2s\tremaining: 33s\n572:\tlearn: 0.1492119\ttest: 0.1521692\tbest: 0.1521663 (562)\ttotal: 44.2s\tremaining: 33s\n573:\tlearn: 0.1492070\ttest: 0.1521693\tbest: 0.1521663 (562)\ttotal: 44.3s\tremaining: 32.9s\n574:\tlearn: 0.1492022\ttest: 0.1521721\tbest: 0.1521663 (562)\ttotal: 44.4s\tremaining: 32.8s\n575:\tlearn: 0.1491971\ttest: 0.1521733\tbest: 0.1521663 (562)\ttotal: 44.5s\tremaining: 32.7s\n576:\tlearn: 0.1491939\ttest: 0.1521734\tbest: 0.1521663 (562)\ttotal: 44.5s\tremaining: 32.6s\n577:\tlearn: 0.1491899\ttest: 0.1521742\tbest: 0.1521663 (562)\ttotal: 44.6s\tremaining: 32.6s\n578:\tlearn: 0.1491833\ttest: 0.1521725\tbest: 0.1521663 (562)\ttotal: 44.7s\tremaining: 32.5s\n579:\tlearn: 0.1491763\ttest: 0.1521715\tbest: 0.1521663 (562)\ttotal: 44.8s\tremaining: 32.4s\n580:\tlearn: 0.1491724\ttest: 0.1521712\tbest: 0.1521663 (562)\ttotal: 44.9s\tremaining: 32.4s\n581:\tlearn: 0.1491679\ttest: 0.1521723\tbest: 0.1521663 (562)\ttotal: 44.9s\tremaining: 32.3s\n582:\tlearn: 0.1491643\ttest: 0.1521695\tbest: 0.1521663 (562)\ttotal: 45s\tremaining: 32.2s\n583:\tlearn: 0.1491606\ttest: 0.1521701\tbest: 0.1521663 (562)\ttotal: 45.1s\tremaining: 32.1s\n584:\tlearn: 0.1491588\ttest: 0.1521700\tbest: 0.1521663 (562)\ttotal: 45.2s\tremaining: 32s\n585:\tlearn: 0.1491535\ttest: 0.1521687\tbest: 0.1521663 (562)\ttotal: 45.2s\tremaining: 32s\n586:\tlearn: 0.1491480\ttest: 0.1521683\tbest: 0.1521663 (562)\ttotal: 45.3s\tremaining: 31.9s\n587:\tlearn: 0.1491436\ttest: 0.1521666\tbest: 0.1521663 (562)\ttotal: 45.4s\tremaining: 31.8s\n588:\tlearn: 0.1491386\ttest: 0.1521663\tbest: 0.1521663 (562)\ttotal: 45.5s\tremaining: 31.7s\n589:\tlearn: 0.1491333\ttest: 0.1521664\tbest: 0.1521663 (562)\ttotal: 45.5s\tremaining: 31.6s\n590:\tlearn: 0.1491260\ttest: 0.1521642\tbest: 0.1521642 (590)\ttotal: 45.6s\tremaining: 31.6s\n591:\tlearn: 0.1491210\ttest: 0.1521664\tbest: 0.1521642 (590)\ttotal: 45.7s\tremaining: 31.5s\n592:\tlearn: 0.1491153\ttest: 0.1521675\tbest: 0.1521642 (590)\ttotal: 45.8s\tremaining: 31.4s\n593:\tlearn: 0.1491118\ttest: 0.1521664\tbest: 0.1521642 (590)\ttotal: 45.8s\tremaining: 31.3s\n594:\tlearn: 0.1491056\ttest: 0.1521612\tbest: 0.1521612 (594)\ttotal: 45.9s\tremaining: 31.3s\n595:\tlearn: 0.1491028\ttest: 0.1521625\tbest: 0.1521612 (594)\ttotal: 46s\tremaining: 31.2s\n596:\tlearn: 0.1490996\ttest: 0.1521613\tbest: 0.1521612 (594)\ttotal: 46.1s\tremaining: 31.1s\n597:\tlearn: 0.1490939\ttest: 0.1521619\tbest: 0.1521612 (594)\ttotal: 46.1s\tremaining: 31s\n598:\tlearn: 0.1490889\ttest: 0.1521617\tbest: 0.1521612 (594)\ttotal: 46.2s\tremaining: 30.9s\n599:\tlearn: 0.1490826\ttest: 0.1521628\tbest: 0.1521612 (594)\ttotal: 46.3s\tremaining: 30.9s\n600:\tlearn: 0.1490795\ttest: 0.1521619\tbest: 0.1521612 (594)\ttotal: 46.4s\tremaining: 30.8s\n601:\tlearn: 0.1490747\ttest: 0.1521593\tbest: 0.1521593 (601)\ttotal: 46.4s\tremaining: 30.7s\n602:\tlearn: 0.1490692\ttest: 0.1521586\tbest: 0.1521586 (602)\ttotal: 46.5s\tremaining: 30.6s\n603:\tlearn: 0.1490680\ttest: 0.1521584\tbest: 0.1521584 (603)\ttotal: 46.6s\tremaining: 30.5s\n604:\tlearn: 0.1490644\ttest: 0.1521599\tbest: 0.1521584 (603)\ttotal: 46.7s\tremaining: 30.5s\n605:\tlearn: 0.1490635\ttest: 0.1521596\tbest: 0.1521584 (603)\ttotal: 46.7s\tremaining: 30.4s\n606:\tlearn: 0.1490604\ttest: 0.1521610\tbest: 0.1521584 (603)\ttotal: 46.8s\tremaining: 30.3s\n607:\tlearn: 0.1490555\ttest: 0.1521603\tbest: 0.1521584 (603)\ttotal: 46.9s\tremaining: 30.2s\n608:\tlearn: 0.1490516\ttest: 0.1521617\tbest: 0.1521584 (603)\ttotal: 47s\tremaining: 30.2s\n609:\tlearn: 0.1490466\ttest: 0.1521622\tbest: 0.1521584 (603)\ttotal: 47s\tremaining: 30.1s\n610:\tlearn: 0.1490402\ttest: 0.1521599\tbest: 0.1521584 (603)\ttotal: 47.1s\tremaining: 30s\n611:\tlearn: 0.1490367\ttest: 0.1521581\tbest: 0.1521581 (611)\ttotal: 47.2s\tremaining: 29.9s\n612:\tlearn: 0.1490333\ttest: 0.1521593\tbest: 0.1521581 (611)\ttotal: 47.3s\tremaining: 29.8s\n613:\tlearn: 0.1490290\ttest: 0.1521567\tbest: 0.1521567 (613)\ttotal: 47.3s\tremaining: 29.8s\n614:\tlearn: 0.1490282\ttest: 0.1521566\tbest: 0.1521566 (614)\ttotal: 47.4s\tremaining: 29.7s\n615:\tlearn: 0.1490247\ttest: 0.1521562\tbest: 0.1521562 (615)\ttotal: 47.5s\tremaining: 29.6s\n616:\tlearn: 0.1490179\ttest: 0.1521552\tbest: 0.1521552 (616)\ttotal: 47.6s\tremaining: 29.5s\n617:\tlearn: 0.1490121\ttest: 0.1521570\tbest: 0.1521552 (616)\ttotal: 47.7s\tremaining: 29.5s\n618:\tlearn: 0.1490086\ttest: 0.1521567\tbest: 0.1521552 (616)\ttotal: 47.8s\tremaining: 29.4s\n619:\tlearn: 0.1490057\ttest: 0.1521558\tbest: 0.1521552 (616)\ttotal: 47.8s\tremaining: 29.3s\n620:\tlearn: 0.1490024\ttest: 0.1521554\tbest: 0.1521552 (616)\ttotal: 47.9s\tremaining: 29.2s\n621:\tlearn: 0.1489963\ttest: 0.1521541\tbest: 0.1521541 (621)\ttotal: 48s\tremaining: 29.2s\n622:\tlearn: 0.1489907\ttest: 0.1521529\tbest: 0.1521529 (622)\ttotal: 48.1s\tremaining: 29.1s\n623:\tlearn: 0.1489853\ttest: 0.1521508\tbest: 0.1521508 (623)\ttotal: 48.1s\tremaining: 29s\n624:\tlearn: 0.1489813\ttest: 0.1521498\tbest: 0.1521498 (624)\ttotal: 48.2s\tremaining: 28.9s\n625:\tlearn: 0.1489769\ttest: 0.1521483\tbest: 0.1521483 (625)\ttotal: 48.3s\tremaining: 28.8s\n626:\tlearn: 0.1489724\ttest: 0.1521465\tbest: 0.1521465 (626)\ttotal: 48.4s\tremaining: 28.8s\n627:\tlearn: 0.1489666\ttest: 0.1521472\tbest: 0.1521465 (626)\ttotal: 48.4s\tremaining: 28.7s\n628:\tlearn: 0.1489609\ttest: 0.1521465\tbest: 0.1521465 (628)\ttotal: 48.5s\tremaining: 28.6s\n629:\tlearn: 0.1489559\ttest: 0.1521462\tbest: 0.1521462 (629)\ttotal: 48.6s\tremaining: 28.5s\n630:\tlearn: 0.1489512\ttest: 0.1521449\tbest: 0.1521449 (630)\ttotal: 48.7s\tremaining: 28.5s\n631:\tlearn: 0.1489463\ttest: 0.1521445\tbest: 0.1521445 (631)\ttotal: 48.8s\tremaining: 28.4s\n632:\tlearn: 0.1489409\ttest: 0.1521466\tbest: 0.1521445 (631)\ttotal: 48.8s\tremaining: 28.3s\n633:\tlearn: 0.1489352\ttest: 0.1521433\tbest: 0.1521433 (633)\ttotal: 48.9s\tremaining: 28.2s\n634:\tlearn: 0.1489280\ttest: 0.1521438\tbest: 0.1521433 (633)\ttotal: 49s\tremaining: 28.2s\n635:\tlearn: 0.1489237\ttest: 0.1521455\tbest: 0.1521433 (633)\ttotal: 49s\tremaining: 28.1s\n636:\tlearn: 0.1489176\ttest: 0.1521455\tbest: 0.1521433 (633)\ttotal: 49.1s\tremaining: 28s\n637:\tlearn: 0.1489150\ttest: 0.1521461\tbest: 0.1521433 (633)\ttotal: 49.2s\tremaining: 27.9s\n638:\tlearn: 0.1489110\ttest: 0.1521448\tbest: 0.1521433 (633)\ttotal: 49.3s\tremaining: 27.8s\n639:\tlearn: 0.1489096\ttest: 0.1521446\tbest: 0.1521433 (633)\ttotal: 49.4s\tremaining: 27.8s\n640:\tlearn: 0.1489020\ttest: 0.1521460\tbest: 0.1521433 (633)\ttotal: 49.5s\tremaining: 27.7s\n641:\tlearn: 0.1488962\ttest: 0.1521496\tbest: 0.1521433 (633)\ttotal: 49.5s\tremaining: 27.6s\n642:\tlearn: 0.1488919\ttest: 0.1521491\tbest: 0.1521433 (633)\ttotal: 49.6s\tremaining: 27.6s\n643:\tlearn: 0.1488871\ttest: 0.1521470\tbest: 0.1521433 (633)\ttotal: 49.7s\tremaining: 27.5s\n644:\tlearn: 0.1488817\ttest: 0.1521457\tbest: 0.1521433 (633)\ttotal: 49.8s\tremaining: 27.4s\n645:\tlearn: 0.1488764\ttest: 0.1521456\tbest: 0.1521433 (633)\ttotal: 49.9s\tremaining: 27.3s\n646:\tlearn: 0.1488719\ttest: 0.1521446\tbest: 0.1521433 (633)\ttotal: 49.9s\tremaining: 27.2s\n647:\tlearn: 0.1488696\ttest: 0.1521450\tbest: 0.1521433 (633)\ttotal: 50s\tremaining: 27.2s\n648:\tlearn: 0.1488646\ttest: 0.1521460\tbest: 0.1521433 (633)\ttotal: 50.1s\tremaining: 27.1s\n649:\tlearn: 0.1488577\ttest: 0.1521484\tbest: 0.1521433 (633)\ttotal: 50.1s\tremaining: 27s\n650:\tlearn: 0.1488527\ttest: 0.1521481\tbest: 0.1521433 (633)\ttotal: 50.2s\tremaining: 26.9s\n651:\tlearn: 0.1488474\ttest: 0.1521489\tbest: 0.1521433 (633)\ttotal: 50.3s\tremaining: 26.8s\n652:\tlearn: 0.1488411\ttest: 0.1521483\tbest: 0.1521433 (633)\ttotal: 50.4s\tremaining: 26.8s\n653:\tlearn: 0.1488381\ttest: 0.1521477\tbest: 0.1521433 (633)\ttotal: 50.4s\tremaining: 26.7s\n654:\tlearn: 0.1488340\ttest: 0.1521480\tbest: 0.1521433 (633)\ttotal: 50.5s\tremaining: 26.6s\n655:\tlearn: 0.1488301\ttest: 0.1521488\tbest: 0.1521433 (633)\ttotal: 50.6s\tremaining: 26.5s\n656:\tlearn: 0.1488273\ttest: 0.1521480\tbest: 0.1521433 (633)\ttotal: 50.7s\tremaining: 26.4s\n657:\tlearn: 0.1488254\ttest: 0.1521487\tbest: 0.1521433 (633)\ttotal: 50.7s\tremaining: 26.4s\n658:\tlearn: 0.1488219\ttest: 0.1521495\tbest: 0.1521433 (633)\ttotal: 50.8s\tremaining: 26.3s\n659:\tlearn: 0.1488181\ttest: 0.1521494\tbest: 0.1521433 (633)\ttotal: 50.9s\tremaining: 26.2s\n660:\tlearn: 0.1488113\ttest: 0.1521477\tbest: 0.1521433 (633)\ttotal: 51s\tremaining: 26.1s\n661:\tlearn: 0.1488076\ttest: 0.1521478\tbest: 0.1521433 (633)\ttotal: 51s\tremaining: 26.1s\n662:\tlearn: 0.1488028\ttest: 0.1521463\tbest: 0.1521433 (633)\ttotal: 51.1s\tremaining: 26s\n663:\tlearn: 0.1488005\ttest: 0.1521475\tbest: 0.1521433 (633)\ttotal: 51.2s\tremaining: 25.9s\n664:\tlearn: 0.1487962\ttest: 0.1521476\tbest: 0.1521433 (633)\ttotal: 51.3s\tremaining: 25.8s\n665:\tlearn: 0.1487906\ttest: 0.1521458\tbest: 0.1521433 (633)\ttotal: 51.3s\tremaining: 25.7s\n666:\tlearn: 0.1487850\ttest: 0.1521462\tbest: 0.1521433 (633)\ttotal: 51.4s\tremaining: 25.7s\n667:\tlearn: 0.1487813\ttest: 0.1521468\tbest: 0.1521433 (633)\ttotal: 51.5s\tremaining: 25.6s\n668:\tlearn: 0.1487757\ttest: 0.1521477\tbest: 0.1521433 (633)\ttotal: 51.6s\tremaining: 25.5s\n669:\tlearn: 0.1487696\ttest: 0.1521474\tbest: 0.1521433 (633)\ttotal: 51.7s\tremaining: 25.5s\n670:\tlearn: 0.1487654\ttest: 0.1521476\tbest: 0.1521433 (633)\ttotal: 51.8s\tremaining: 25.4s\n671:\tlearn: 0.1487613\ttest: 0.1521466\tbest: 0.1521433 (633)\ttotal: 51.9s\tremaining: 25.3s\n672:\tlearn: 0.1487577\ttest: 0.1521463\tbest: 0.1521433 (633)\ttotal: 51.9s\tremaining: 25.2s\n673:\tlearn: 0.1487512\ttest: 0.1521453\tbest: 0.1521433 (633)\ttotal: 52s\tremaining: 25.2s\n674:\tlearn: 0.1487474\ttest: 0.1521458\tbest: 0.1521433 (633)\ttotal: 52.1s\tremaining: 25.1s\n675:\tlearn: 0.1487457\ttest: 0.1521458\tbest: 0.1521433 (633)\ttotal: 52.2s\tremaining: 25s\n676:\tlearn: 0.1487412\ttest: 0.1521457\tbest: 0.1521433 (633)\ttotal: 52.2s\tremaining: 24.9s\n677:\tlearn: 0.1487352\ttest: 0.1521451\tbest: 0.1521433 (633)\ttotal: 52.3s\tremaining: 24.8s\n678:\tlearn: 0.1487333\ttest: 0.1521455\tbest: 0.1521433 (633)\ttotal: 52.4s\tremaining: 24.8s\n679:\tlearn: 0.1487282\ttest: 0.1521487\tbest: 0.1521433 (633)\ttotal: 52.5s\tremaining: 24.7s\n680:\tlearn: 0.1487250\ttest: 0.1521494\tbest: 0.1521433 (633)\ttotal: 52.5s\tremaining: 24.6s\n681:\tlearn: 0.1487223\ttest: 0.1521495\tbest: 0.1521433 (633)\ttotal: 52.6s\tremaining: 24.5s\n682:\tlearn: 0.1487161\ttest: 0.1521513\tbest: 0.1521433 (633)\ttotal: 52.7s\tremaining: 24.4s\n683:\tlearn: 0.1487126\ttest: 0.1521501\tbest: 0.1521433 (633)\ttotal: 52.8s\tremaining: 24.4s\n684:\tlearn: 0.1487056\ttest: 0.1521521\tbest: 0.1521433 (633)\ttotal: 52.8s\tremaining: 24.3s\n685:\tlearn: 0.1487004\ttest: 0.1521540\tbest: 0.1521433 (633)\ttotal: 52.9s\tremaining: 24.2s\n686:\tlearn: 0.1486944\ttest: 0.1521547\tbest: 0.1521433 (633)\ttotal: 53s\tremaining: 24.1s\n687:\tlearn: 0.1486894\ttest: 0.1521555\tbest: 0.1521433 (633)\ttotal: 53s\tremaining: 24.1s\n688:\tlearn: 0.1486850\ttest: 0.1521553\tbest: 0.1521433 (633)\ttotal: 53.1s\tremaining: 24s\n689:\tlearn: 0.1486799\ttest: 0.1521537\tbest: 0.1521433 (633)\ttotal: 53.2s\tremaining: 23.9s\n690:\tlearn: 0.1486771\ttest: 0.1521514\tbest: 0.1521433 (633)\ttotal: 53.3s\tremaining: 23.8s\n691:\tlearn: 0.1486716\ttest: 0.1521532\tbest: 0.1521433 (633)\ttotal: 53.3s\tremaining: 23.7s\n692:\tlearn: 0.1486653\ttest: 0.1521531\tbest: 0.1521433 (633)\ttotal: 53.4s\tremaining: 23.7s\n693:\tlearn: 0.1486599\ttest: 0.1521553\tbest: 0.1521433 (633)\ttotal: 53.5s\tremaining: 23.6s\n694:\tlearn: 0.1486549\ttest: 0.1521561\tbest: 0.1521433 (633)\ttotal: 53.6s\tremaining: 23.5s\n695:\tlearn: 0.1486496\ttest: 0.1521573\tbest: 0.1521433 (633)\ttotal: 53.7s\tremaining: 23.4s\n696:\tlearn: 0.1486437\ttest: 0.1521564\tbest: 0.1521433 (633)\ttotal: 53.7s\tremaining: 23.4s\n697:\tlearn: 0.1486372\ttest: 0.1521574\tbest: 0.1521433 (633)\ttotal: 53.8s\tremaining: 23.3s\n698:\tlearn: 0.1486324\ttest: 0.1521573\tbest: 0.1521433 (633)\ttotal: 53.9s\tremaining: 23.2s\n699:\tlearn: 0.1486292\ttest: 0.1521574\tbest: 0.1521433 (633)\ttotal: 53.9s\tremaining: 23.1s\n700:\tlearn: 0.1486239\ttest: 0.1521564\tbest: 0.1521433 (633)\ttotal: 54s\tremaining: 23s\n701:\tlearn: 0.1486196\ttest: 0.1521597\tbest: 0.1521433 (633)\ttotal: 54.1s\tremaining: 23s\n702:\tlearn: 0.1486153\ttest: 0.1521616\tbest: 0.1521433 (633)\ttotal: 54.2s\tremaining: 22.9s\n703:\tlearn: 0.1486074\ttest: 0.1521615\tbest: 0.1521433 (633)\ttotal: 54.2s\tremaining: 22.8s\n704:\tlearn: 0.1486054\ttest: 0.1521621\tbest: 0.1521433 (633)\ttotal: 54.3s\tremaining: 22.7s\n705:\tlearn: 0.1486006\ttest: 0.1521621\tbest: 0.1521433 (633)\ttotal: 54.4s\tremaining: 22.7s\n706:\tlearn: 0.1485934\ttest: 0.1521655\tbest: 0.1521433 (633)\ttotal: 54.5s\tremaining: 22.6s\n707:\tlearn: 0.1485888\ttest: 0.1521648\tbest: 0.1521433 (633)\ttotal: 54.6s\tremaining: 22.5s\n708:\tlearn: 0.1485841\ttest: 0.1521643\tbest: 0.1521433 (633)\ttotal: 54.6s\tremaining: 22.4s\n709:\tlearn: 0.1485791\ttest: 0.1521639\tbest: 0.1521433 (633)\ttotal: 54.7s\tremaining: 22.4s\n710:\tlearn: 0.1485731\ttest: 0.1521622\tbest: 0.1521433 (633)\ttotal: 54.8s\tremaining: 22.3s\n711:\tlearn: 0.1485663\ttest: 0.1521596\tbest: 0.1521433 (633)\ttotal: 54.9s\tremaining: 22.2s\n712:\tlearn: 0.1485592\ttest: 0.1521598\tbest: 0.1521433 (633)\ttotal: 55s\tremaining: 22.1s\n713:\tlearn: 0.1485532\ttest: 0.1521594\tbest: 0.1521433 (633)\ttotal: 55s\tremaining: 22s\n714:\tlearn: 0.1485507\ttest: 0.1521596\tbest: 0.1521433 (633)\ttotal: 55.1s\tremaining: 22s\n715:\tlearn: 0.1485462\ttest: 0.1521613\tbest: 0.1521433 (633)\ttotal: 55.2s\tremaining: 21.9s\n716:\tlearn: 0.1485407\ttest: 0.1521653\tbest: 0.1521433 (633)\ttotal: 55.3s\tremaining: 21.8s\n717:\tlearn: 0.1485376\ttest: 0.1521645\tbest: 0.1521433 (633)\ttotal: 55.3s\tremaining: 21.7s\n718:\tlearn: 0.1485323\ttest: 0.1521633\tbest: 0.1521433 (633)\ttotal: 55.4s\tremaining: 21.7s\n719:\tlearn: 0.1485276\ttest: 0.1521652\tbest: 0.1521433 (633)\ttotal: 55.5s\tremaining: 21.6s\n720:\tlearn: 0.1485250\ttest: 0.1521645\tbest: 0.1521433 (633)\ttotal: 55.6s\tremaining: 21.5s\n721:\tlearn: 0.1485235\ttest: 0.1521645\tbest: 0.1521433 (633)\ttotal: 55.6s\tremaining: 21.4s\n722:\tlearn: 0.1485190\ttest: 0.1521633\tbest: 0.1521433 (633)\ttotal: 55.7s\tremaining: 21.3s\n723:\tlearn: 0.1485156\ttest: 0.1521647\tbest: 0.1521433 (633)\ttotal: 55.8s\tremaining: 21.3s\n724:\tlearn: 0.1485112\ttest: 0.1521648\tbest: 0.1521433 (633)\ttotal: 55.9s\tremaining: 21.2s\n725:\tlearn: 0.1485071\ttest: 0.1521644\tbest: 0.1521433 (633)\ttotal: 55.9s\tremaining: 21.1s\n726:\tlearn: 0.1485033\ttest: 0.1521642\tbest: 0.1521433 (633)\ttotal: 56s\tremaining: 21s\n727:\tlearn: 0.1484964\ttest: 0.1521669\tbest: 0.1521433 (633)\ttotal: 56.1s\tremaining: 21s\n728:\tlearn: 0.1484900\ttest: 0.1521617\tbest: 0.1521433 (633)\ttotal: 56.2s\tremaining: 20.9s\n729:\tlearn: 0.1484854\ttest: 0.1521609\tbest: 0.1521433 (633)\ttotal: 56.2s\tremaining: 20.8s\n730:\tlearn: 0.1484807\ttest: 0.1521621\tbest: 0.1521433 (633)\ttotal: 56.3s\tremaining: 20.7s\n731:\tlearn: 0.1484759\ttest: 0.1521638\tbest: 0.1521433 (633)\ttotal: 56.4s\tremaining: 20.6s\n732:\tlearn: 0.1484723\ttest: 0.1521637\tbest: 0.1521433 (633)\ttotal: 56.5s\tremaining: 20.6s\n733:\tlearn: 0.1484689\ttest: 0.1521637\tbest: 0.1521433 (633)\ttotal: 56.5s\tremaining: 20.5s\nStopped by overfitting detector  (100 iterations wait)\n\nbestTest = 0.1521433007\nbestIteration = 633\n\nShrink model to first 634 iterations.\n"
     ]
    },
    {
     "output_type": "execute_result",
     "data": {
      "text/plain": [
       "<catboost.core.CatBoostClassifier at 0xffddae52c650>"
      ]
     },
     "execution_count": 54,
     "metadata": {},
     "output_type": "execute_result"
    }
   ],
   "source": [
    "model.fit(\n",
    "    X=X_train, y=y_train, \n",
    "    cat_features=None, eval_set=(X_val, y_val), \n",
    "    verbose=1\n",
    ")"
   ]
  },
  {
   "cell_type": "code",
   "execution_count": 0,
   "metadata": {
    "application/vnd.databricks.v1+cell": {
     "cellMetadata": {
      "byteLimit": 2048000,
      "rowLimit": 10000
     },
     "inputWidgets": {},
     "nuid": "397e7703-d00c-469b-93b0-e762c0782609",
     "showTitle": false,
     "tableResultSettingsMap": {},
     "title": ""
    }
   },
   "outputs": [],
   "source": [
    "X_test = spark.read.table(f\"{CATALOG}.{SCHEMA}.feature_store_test\")\n",
    "X_test = X_test.toPandas()"
   ]
  },
  {
   "cell_type": "code",
   "execution_count": 0,
   "metadata": {
    "application/vnd.databricks.v1+cell": {
     "cellMetadata": {
      "byteLimit": 2048000,
      "rowLimit": 10000
     },
     "inputWidgets": {},
     "nuid": "29424041-aba9-497b-85e9-c1f56d878508",
     "showTitle": false,
     "tableResultSettingsMap": {},
     "title": ""
    }
   },
   "outputs": [],
   "source": [
    "preds = model.predict_proba(X_test)[:, 1]\n",
    "preds_df = pd.DataFrame(\n",
    "    {\"id\": X_test[\"id\"], \"target\": preds}\n",
    ").sort_values(\"id\")\n",
    "\n",
    "preds_df.to_csv(\n",
    "    f\"/Volumes/{CATALOG}/{SCHEMA}/kaggle_competition_data/submission_v0.2.csv\",\n",
    "    index=False\n",
    ")"
   ]
  },
  {
   "cell_type": "code",
   "execution_count": 0,
   "metadata": {
    "application/vnd.databricks.v1+cell": {
     "cellMetadata": {},
     "inputWidgets": {},
     "nuid": "d0ed2112-b0fb-4dae-b5f4-31c147672968",
     "showTitle": false,
     "tableResultSettingsMap": {},
     "title": ""
    }
   },
   "outputs": [],
   "source": []
  }
 ],
 "metadata": {
  "application/vnd.databricks.v1+notebook": {
   "computePreferences": {
    "hardware": {
     "accelerator": null,
     "gpuPoolId": null,
     "memory": null
    }
   },
   "dashboards": [],
   "environmentMetadata": {
    "base_environment": "",
    "dependencies": [
     "catboost==1.2.8"
    ],
    "environment_version": "4"
   },
   "inputWidgetPreferences": null,
   "language": "python",
   "notebookMetadata": {
    "pythonIndentUnit": 4
   },
   "notebookName": "run_frequency_model",
   "widgets": {}
  },
  "language_info": {
   "name": "python"
  }
 },
 "nbformat": 4,
 "nbformat_minor": 0
}
