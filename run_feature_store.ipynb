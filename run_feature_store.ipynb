{
 "cells": [
  {
   "cell_type": "code",
   "execution_count": 0,
   "metadata": {
    "application/vnd.databricks.v1+cell": {
     "cellMetadata": {
      "byteLimit": 2048000,
      "rowLimit": 10000
     },
     "inputWidgets": {},
     "nuid": "a0a363dc-875e-420a-958e-aa37f344eddb",
     "showTitle": false,
     "tableResultSettingsMap": {},
     "title": ""
    }
   },
   "outputs": [
    {
     "output_type": "stream",
     "name": "stdout",
     "output_type": "stream",
     "text": [
      "The autoreload extension is already loaded. To reload it, use:\n  %reload_ext autoreload\n"
     ]
    },
    {
     "output_type": "display_data",
     "data": {
      "application/vnd.databricks.v1+autoreload_discoverability": {
       "error_modules": {},
       "mode": "modules_reloaded",
       "success_modules": [
        "src.preprocessing"
       ]
      }
     },
     "metadata": {},
     "output_type": "display_data"
    }
   ],
   "source": [
    "%load_ext autoreload\n",
    "%autoreload 2"
   ]
  },
  {
   "cell_type": "code",
   "execution_count": 0,
   "metadata": {
    "application/vnd.databricks.v1+cell": {
     "cellMetadata": {
      "byteLimit": 2048000,
      "rowLimit": 10000
     },
     "inputWidgets": {},
     "nuid": "affc5168-2177-4028-b9c9-9b033eece6da",
     "showTitle": false,
     "tableResultSettingsMap": {},
     "title": ""
    }
   },
   "outputs": [],
   "source": [
    "import pyspark\n",
    "import numpy as np\n",
    "import matplotlib.pyplot as plt\n",
    "import pandas as pd\n",
    "\n",
    "from src.preprocessing import DataFactory"
   ]
  },
  {
   "cell_type": "code",
   "execution_count": 0,
   "metadata": {
    "application/vnd.databricks.v1+cell": {
     "cellMetadata": {
      "byteLimit": 2048000,
      "rowLimit": 10000
     },
     "inputWidgets": {},
     "nuid": "0646df22-95a5-4b8c-bfb7-532ea160d217",
     "showTitle": false,
     "tableResultSettingsMap": {},
     "title": ""
    }
   },
   "outputs": [
    {
     "output_type": "stream",
     "name": "stdout",
     "output_type": "stream",
     "text": [
      "train set has 595212 rows and 59 columns.\ntest set has 892816 rows and 58 columns.\n"
     ]
    }
   ],
   "source": [
    "CATALOG = \"workspace\"\n",
    "SCHEMA = \"safe_driver_prediction\"\n",
    "\n",
    "train_df = spark.read.table(f\"{CATALOG}.{SCHEMA}.train\")\n",
    "test_df = spark.read.table(f\"{CATALOG}.{SCHEMA}.test\")\n",
    "\n",
    "print(f\"train set has {train_df.count()} rows and {len(train_df.columns)} columns.\")\n",
    "print(f\"test set has {test_df.count()} rows and {len(test_df.columns)} columns.\")"
   ]
  },
  {
   "cell_type": "code",
   "execution_count": 0,
   "metadata": {
    "application/vnd.databricks.v1+cell": {
     "cellMetadata": {
      "byteLimit": 2048000,
      "rowLimit": 10000
     },
     "inputWidgets": {},
     "nuid": "0ad63a22-56d5-4c43-9d78-a67a26ee7833",
     "showTitle": false,
     "tableResultSettingsMap": {},
     "title": ""
    }
   },
   "outputs": [],
   "source": [
    "preprocessor = DataFactory()\n",
    "preprocessor.set_df(df=train_df)"
   ]
  },
  {
   "cell_type": "code",
   "execution_count": 0,
   "metadata": {
    "application/vnd.databricks.v1+cell": {
     "cellMetadata": {
      "byteLimit": 2048000,
      "rowLimit": 10000
     },
     "inputWidgets": {},
     "nuid": "da144cdf-34fe-4f84-890d-c30b05e6c122",
     "showTitle": false,
     "tableResultSettingsMap": {},
     "title": ""
    }
   },
   "outputs": [
    {
     "output_type": "display_data",
     "data": {
      "text/html": [
       "<style scoped>\n",
       "  .table-result-container {\n",
       "    max-height: 300px;\n",
       "    overflow: auto;\n",
       "  }\n",
       "  table, th, td {\n",
       "    border: 1px solid black;\n",
       "    border-collapse: collapse;\n",
       "  }\n",
       "  th, td {\n",
       "    padding: 5px;\n",
       "  }\n",
       "  th {\n",
       "    text-align: left;\n",
       "  }\n",
       "</style><div class='table-result-container'><table class='table-result'><thead style='background-color: white'><tr><th>id</th><th>target</th><th>ps_ind_01</th><th>ps_ind_02_cat</th><th>ps_ind_03</th><th>ps_ind_04_cat</th><th>ps_ind_05_cat</th><th>ps_ind_06_bin</th><th>ps_ind_07_bin</th><th>ps_ind_08_bin</th><th>ps_ind_09_bin</th><th>ps_ind_10_bin</th><th>ps_ind_11_bin</th><th>ps_ind_12_bin</th><th>ps_ind_13_bin</th><th>ps_ind_14</th><th>ps_ind_15</th><th>ps_ind_16_bin</th><th>ps_ind_17_bin</th><th>ps_ind_18_bin</th><th>ps_reg_01</th><th>ps_reg_02</th><th>ps_reg_03</th><th>ps_car_01_cat</th><th>ps_car_02_cat</th><th>ps_car_03_cat</th><th>ps_car_04_cat</th><th>ps_car_05_cat</th><th>ps_car_06_cat</th><th>ps_car_07_cat</th><th>ps_car_08_cat</th><th>ps_car_09_cat</th><th>ps_car_10_cat</th><th>ps_car_11_cat</th><th>ps_car_11</th><th>ps_car_12</th><th>ps_car_13</th><th>ps_car_14</th><th>ps_car_15</th><th>ps_calc_01</th><th>ps_calc_02</th><th>ps_calc_03</th><th>ps_calc_04</th><th>ps_calc_05</th><th>ps_calc_06</th><th>ps_calc_07</th><th>ps_calc_08</th><th>ps_calc_09</th><th>ps_calc_10</th><th>ps_calc_11</th><th>ps_calc_12</th><th>ps_calc_13</th><th>ps_calc_14</th><th>ps_calc_15_bin</th><th>ps_calc_16_bin</th><th>ps_calc_17_bin</th><th>ps_calc_18_bin</th><th>ps_calc_19_bin</th><th>ps_calc_20_bin</th></tr></thead><tbody><tr><td>863026</td><td>0</td><td>0</td><td>1</td><td>2</td><td>0</td><td>0</td><td>0</td><td>1</td><td>0</td><td>0</td><td>0</td><td>0</td><td>0</td><td>0</td><td>0</td><td>0</td><td>0</td><td>0</td><td>0</td><td>0.2</td><td>0.1</td><td>-1.0</td><td>6</td><td>1</td><td>-1</td><td>0</td><td>1</td><td>15</td><td>1</td><td>1</td><td>0</td><td>1</td><td>5</td><td>2</td><td>0.44721359549999995</td><td>1.1285549892</td><td>0.4</td><td>3.4641016150999997</td><td>0.2</td><td>0.4</td><td>0.0</td><td>2</td><td>2</td><td>8</td><td>3</td><td>11</td><td>3</td><td>11</td><td>7</td><td>2</td><td>2</td><td>11</td><td>0</td><td>1</td><td>1</td><td>0</td><td>0</td><td>0</td></tr><tr><td>863030</td><td>1</td><td>1</td><td>2</td><td>1</td><td>0</td><td>0</td><td>1</td><td>0</td><td>0</td><td>0</td><td>0</td><td>0</td><td>0</td><td>0</td><td>0</td><td>8</td><td>0</td><td>1</td><td>0</td><td>0.7</td><td>0.9</td><td>1.9031224343000002</td><td>11</td><td>1</td><td>-1</td><td>0</td><td>-1</td><td>0</td><td>1</td><td>1</td><td>1</td><td>1</td><td>78</td><td>3</td><td>0.4</td><td>0.7979959403</td><td>0.38483762810000005</td><td>3.3166247904</td><td>0.4</td><td>0.3</td><td>0.8</td><td>2</td><td>4</td><td>8</td><td>4</td><td>8</td><td>2</td><td>9</td><td>6</td><td>1</td><td>2</td><td>5</td><td>0</td><td>1</td><td>0</td><td>0</td><td>1</td><td>0</td></tr><tr><td>863031</td><td>0</td><td>0</td><td>1</td><td>7</td><td>0</td><td>0</td><td>1</td><td>0</td><td>0</td><td>0</td><td>0</td><td>0</td><td>0</td><td>0</td><td>0</td><td>12</td><td>1</td><td>0</td><td>0</td><td>0.3</td><td>0.2</td><td>-1.0</td><td>5</td><td>1</td><td>0</td><td>0</td><td>0</td><td>0</td><td>1</td><td>1</td><td>2</td><td>1</td><td>95</td><td>2</td><td>0.399374511</td><td>0.6440605947</td><td>0.3322649545</td><td>2.0</td><td>0.1</td><td>0.0</td><td>0.0</td><td>2</td><td>2</td><td>8</td><td>4</td><td>10</td><td>4</td><td>7</td><td>2</td><td>3</td><td>2</td><td>10</td><td>1</td><td>1</td><td>0</td><td>0</td><td>0</td><td>0</td></tr><tr><td>863033</td><td>0</td><td>1</td><td>3</td><td>8</td><td>1</td><td>0</td><td>0</td><td>0</td><td>0</td><td>1</td><td>0</td><td>0</td><td>0</td><td>0</td><td>0</td><td>3</td><td>1</td><td>0</td><td>0</td><td>0.9</td><td>1.2</td><td>0.6025985397</td><td>11</td><td>0</td><td>1</td><td>0</td><td>1</td><td>7</td><td>1</td><td>1</td><td>2</td><td>1</td><td>79</td><td>3</td><td>0.4</td><td>1.0048230797</td><td>0.3466987165</td><td>3.6055512755000003</td><td>0.6</td><td>0.6</td><td>0.0</td><td>0</td><td>1</td><td>8</td><td>4</td><td>10</td><td>3</td><td>9</td><td>2</td><td>4</td><td>3</td><td>10</td><td>0</td><td>0</td><td>1</td><td>1</td><td>0</td><td>0</td></tr><tr><td>863034</td><td>0</td><td>5</td><td>2</td><td>1</td><td>1</td><td>0</td><td>0</td><td>0</td><td>1</td><td>0</td><td>0</td><td>0</td><td>0</td><td>0</td><td>0</td><td>6</td><td>0</td><td>1</td><td>0</td><td>0.9</td><td>1.2</td><td>1.6678953803999998</td><td>11</td><td>1</td><td>0</td><td>0</td><td>1</td><td>1</td><td>1</td><td>1</td><td>2</td><td>1</td><td>70</td><td>3</td><td>0.3741657387</td><td>0.7491041481999999</td><td>0.33911649920000003</td><td>3.0</td><td>0.5</td><td>0.3</td><td>0.4</td><td>2</td><td>2</td><td>8</td><td>3</td><td>10</td><td>4</td><td>8</td><td>5</td><td>2</td><td>2</td><td>6</td><td>0</td><td>1</td><td>1</td><td>0</td><td>0</td><td>0</td></tr><tr><td>863036</td><td>0</td><td>7</td><td>1</td><td>3</td><td>1</td><td>0</td><td>0</td><td>0</td><td>0</td><td>1</td><td>0</td><td>0</td><td>0</td><td>0</td><td>0</td><td>7</td><td>1</td><td>0</td><td>0</td><td>0.9</td><td>0.5</td><td>0.9093266740000001</td><td>6</td><td>1</td><td>-1</td><td>0</td><td>1</td><td>1</td><td>1</td><td>1</td><td>0</td><td>1</td><td>64</td><td>1</td><td>0.316227766</td><td>0.6621246793</td><td>0.3701351105</td><td>2.8284271247</td><td>0.2</td><td>0.2</td><td>0.3</td><td>4</td><td>2</td><td>7</td><td>2</td><td>10</td><td>1</td><td>11</td><td>3</td><td>0</td><td>0</td><td>5</td><td>0</td><td>0</td><td>0</td><td>0</td><td>0</td><td>0</td></tr><tr><td>863039</td><td>0</td><td>0</td><td>2</td><td>6</td><td>1</td><td>0</td><td>0</td><td>1</td><td>0</td><td>0</td><td>0</td><td>0</td><td>0</td><td>0</td><td>0</td><td>5</td><td>1</td><td>0</td><td>0</td><td>0.1</td><td>0.1</td><td>-1.0</td><td>7</td><td>1</td><td>-1</td><td>0</td><td>-1</td><td>1</td><td>1</td><td>1</td><td>2</td><td>1</td><td>25</td><td>3</td><td>0.3741657387</td><td>0.7942848543000001</td><td>-1.0</td><td>3.6055512755000003</td><td>0.5</td><td>0.9</td><td>0.2</td><td>3</td><td>3</td><td>8</td><td>3</td><td>7</td><td>5</td><td>14</td><td>4</td><td>2</td><td>0</td><td>9</td><td>0</td><td>1</td><td>0</td><td>1</td><td>1</td><td>0</td></tr><tr><td>863040</td><td>0</td><td>1</td><td>3</td><td>6</td><td>1</td><td>0</td><td>0</td><td>0</td><td>1</td><td>0</td><td>0</td><td>0</td><td>0</td><td>0</td><td>0</td><td>1</td><td>0</td><td>0</td><td>1</td><td>0.5</td><td>0.2</td><td>0.6694213918999999</td><td>11</td><td>1</td><td>-1</td><td>0</td><td>-1</td><td>14</td><td>1</td><td>1</td><td>2</td><td>1</td><td>82</td><td>3</td><td>0.316227766</td><td>0.7445775051000001</td><td>0.36851051549999997</td><td>3.4641016150999997</td><td>0.4</td><td>0.8</td><td>0.9</td><td>3</td><td>4</td><td>8</td><td>2</td><td>9</td><td>1</td><td>10</td><td>3</td><td>3</td><td>3</td><td>3</td><td>0</td><td>1</td><td>0</td><td>0</td><td>0</td><td>0</td></tr><tr><td>863043</td><td>0</td><td>0</td><td>2</td><td>1</td><td>0</td><td>0</td><td>0</td><td>1</td><td>0</td><td>0</td><td>0</td><td>0</td><td>0</td><td>0</td><td>0</td><td>6</td><td>1</td><td>0</td><td>0</td><td>0.4</td><td>0.0</td><td>0.5273755777</td><td>11</td><td>0</td><td>1</td><td>9</td><td>1</td><td>2</td><td>-1</td><td>0</td><td>1</td><td>1</td><td>104</td><td>3</td><td>0.44721359549999995</td><td>1.6885614200999999</td><td>0.4669047012</td><td>3.7416573868</td><td>0.1</td><td>0.5</td><td>0.1</td><td>0</td><td>0</td><td>8</td><td>3</td><td>11</td><td>2</td><td>8</td><td>1</td><td>0</td><td>1</td><td>14</td><td>0</td><td>1</td><td>1</td><td>0</td><td>1</td><td>1</td></tr><tr><td>863044</td><td>0</td><td>0</td><td>1</td><td>5</td><td>0</td><td>0</td><td>1</td><td>0</td><td>0</td><td>0</td><td>0</td><td>0</td><td>0</td><td>0</td><td>0</td><td>10</td><td>1</td><td>0</td><td>0</td><td>0.3</td><td>0.2</td><td>-1.0</td><td>10</td><td>1</td><td>-1</td><td>0</td><td>1</td><td>11</td><td>1</td><td>1</td><td>0</td><td>1</td><td>103</td><td>1</td><td>0.316227766</td><td>0.5818892002</td><td>0.3583294573</td><td>2.8284271247</td><td>0.0</td><td>0.2</td><td>0.1</td><td>1</td><td>3</td><td>8</td><td>3</td><td>8</td><td>4</td><td>9</td><td>6</td><td>1</td><td>2</td><td>11</td><td>0</td><td>1</td><td>0</td><td>0</td><td>0</td><td>0</td></tr></tbody></table></div>"
      ]
     },
     "metadata": {
      "application/vnd.databricks.v1+output": {
       "addedWidgets": {},
       "aggData": [],
       "aggError": "",
       "aggOverflow": false,
       "aggSchema": [],
       "aggSeriesLimitReached": false,
       "aggType": "",
       "arguments": {},
       "columnCustomDisplayInfos": {},
       "data": [
        [
         863026,
         0,
         0,
         1,
         2,
         0,
         0,
         0,
         1,
         0,
         0,
         0,
         0,
         0,
         0,
         0,
         0,
         0,
         0,
         0,
         0.2,
         0.1,
         -1.0,
         6,
         1,
         -1,
         0,
         1,
         15,
         1,
         1,
         0,
         1,
         5,
         2,
         0.44721359549999995,
         1.1285549892,
         0.4,
         3.4641016150999997,
         0.2,
         0.4,
         0.0,
         2,
         2,
         8,
         3,
         11,
         3,
         11,
         7,
         2,
         2,
         11,
         0,
         1,
         1,
         0,
         0,
         0
        ],
        [
         863030,
         1,
         1,
         2,
         1,
         0,
         0,
         1,
         0,
         0,
         0,
         0,
         0,
         0,
         0,
         0,
         8,
         0,
         1,
         0,
         0.7,
         0.9,
         1.9031224343000002,
         11,
         1,
         -1,
         0,
         -1,
         0,
         1,
         1,
         1,
         1,
         78,
         3,
         0.4,
         0.7979959403,
         0.38483762810000005,
         3.3166247904,
         0.4,
         0.3,
         0.8,
         2,
         4,
         8,
         4,
         8,
         2,
         9,
         6,
         1,
         2,
         5,
         0,
         1,
         0,
         0,
         1,
         0
        ],
        [
         863031,
         0,
         0,
         1,
         7,
         0,
         0,
         1,
         0,
         0,
         0,
         0,
         0,
         0,
         0,
         0,
         12,
         1,
         0,
         0,
         0.3,
         0.2,
         -1.0,
         5,
         1,
         0,
         0,
         0,
         0,
         1,
         1,
         2,
         1,
         95,
         2,
         0.399374511,
         0.6440605947,
         0.3322649545,
         2.0,
         0.1,
         0.0,
         0.0,
         2,
         2,
         8,
         4,
         10,
         4,
         7,
         2,
         3,
         2,
         10,
         1,
         1,
         0,
         0,
         0,
         0
        ],
        [
         863033,
         0,
         1,
         3,
         8,
         1,
         0,
         0,
         0,
         0,
         1,
         0,
         0,
         0,
         0,
         0,
         3,
         1,
         0,
         0,
         0.9,
         1.2,
         0.6025985397,
         11,
         0,
         1,
         0,
         1,
         7,
         1,
         1,
         2,
         1,
         79,
         3,
         0.4,
         1.0048230797,
         0.3466987165,
         3.6055512755000003,
         0.6,
         0.6,
         0.0,
         0,
         1,
         8,
         4,
         10,
         3,
         9,
         2,
         4,
         3,
         10,
         0,
         0,
         1,
         1,
         0,
         0
        ],
        [
         863034,
         0,
         5,
         2,
         1,
         1,
         0,
         0,
         0,
         1,
         0,
         0,
         0,
         0,
         0,
         0,
         6,
         0,
         1,
         0,
         0.9,
         1.2,
         1.6678953803999998,
         11,
         1,
         0,
         0,
         1,
         1,
         1,
         1,
         2,
         1,
         70,
         3,
         0.3741657387,
         0.7491041481999999,
         0.33911649920000003,
         3.0,
         0.5,
         0.3,
         0.4,
         2,
         2,
         8,
         3,
         10,
         4,
         8,
         5,
         2,
         2,
         6,
         0,
         1,
         1,
         0,
         0,
         0
        ],
        [
         863036,
         0,
         7,
         1,
         3,
         1,
         0,
         0,
         0,
         0,
         1,
         0,
         0,
         0,
         0,
         0,
         7,
         1,
         0,
         0,
         0.9,
         0.5,
         0.9093266740000001,
         6,
         1,
         -1,
         0,
         1,
         1,
         1,
         1,
         0,
         1,
         64,
         1,
         0.316227766,
         0.6621246793,
         0.3701351105,
         2.8284271247,
         0.2,
         0.2,
         0.3,
         4,
         2,
         7,
         2,
         10,
         1,
         11,
         3,
         0,
         0,
         5,
         0,
         0,
         0,
         0,
         0,
         0
        ],
        [
         863039,
         0,
         0,
         2,
         6,
         1,
         0,
         0,
         1,
         0,
         0,
         0,
         0,
         0,
         0,
         0,
         5,
         1,
         0,
         0,
         0.1,
         0.1,
         -1.0,
         7,
         1,
         -1,
         0,
         -1,
         1,
         1,
         1,
         2,
         1,
         25,
         3,
         0.3741657387,
         0.7942848543000001,
         -1.0,
         3.6055512755000003,
         0.5,
         0.9,
         0.2,
         3,
         3,
         8,
         3,
         7,
         5,
         14,
         4,
         2,
         0,
         9,
         0,
         1,
         0,
         1,
         1,
         0
        ],
        [
         863040,
         0,
         1,
         3,
         6,
         1,
         0,
         0,
         0,
         1,
         0,
         0,
         0,
         0,
         0,
         0,
         1,
         0,
         0,
         1,
         0.5,
         0.2,
         0.6694213918999999,
         11,
         1,
         -1,
         0,
         -1,
         14,
         1,
         1,
         2,
         1,
         82,
         3,
         0.316227766,
         0.7445775051000001,
         0.36851051549999997,
         3.4641016150999997,
         0.4,
         0.8,
         0.9,
         3,
         4,
         8,
         2,
         9,
         1,
         10,
         3,
         3,
         3,
         3,
         0,
         1,
         0,
         0,
         0,
         0
        ],
        [
         863043,
         0,
         0,
         2,
         1,
         0,
         0,
         0,
         1,
         0,
         0,
         0,
         0,
         0,
         0,
         0,
         6,
         1,
         0,
         0,
         0.4,
         0.0,
         0.5273755777,
         11,
         0,
         1,
         9,
         1,
         2,
         -1,
         0,
         1,
         1,
         104,
         3,
         0.44721359549999995,
         1.6885614200999999,
         0.4669047012,
         3.7416573868,
         0.1,
         0.5,
         0.1,
         0,
         0,
         8,
         3,
         11,
         2,
         8,
         1,
         0,
         1,
         14,
         0,
         1,
         1,
         0,
         1,
         1
        ],
        [
         863044,
         0,
         0,
         1,
         5,
         0,
         0,
         1,
         0,
         0,
         0,
         0,
         0,
         0,
         0,
         0,
         10,
         1,
         0,
         0,
         0.3,
         0.2,
         -1.0,
         10,
         1,
         -1,
         0,
         1,
         11,
         1,
         1,
         0,
         1,
         103,
         1,
         0.316227766,
         0.5818892002,
         0.3583294573,
         2.8284271247,
         0.0,
         0.2,
         0.1,
         1,
         3,
         8,
         3,
         8,
         4,
         9,
         6,
         1,
         2,
         11,
         0,
         1,
         0,
         0,
         0,
         0
        ]
       ],
       "datasetInfos": [],
       "dbfsResultPath": null,
       "isJsonSchema": true,
       "metadata": {},
       "overflow": false,
       "plotOptions": {
        "customPlotOptions": {},
        "displayType": "table",
        "pivotAggregation": null,
        "pivotColumns": null,
        "xColumns": null,
        "yColumns": null
       },
       "removedWidgets": [],
       "schema": [
        {
         "metadata": "{}",
         "name": "id",
         "type": "\"integer\""
        },
        {
         "metadata": "{}",
         "name": "target",
         "type": "\"integer\""
        },
        {
         "metadata": "{}",
         "name": "ps_ind_01",
         "type": "\"integer\""
        },
        {
         "metadata": "{}",
         "name": "ps_ind_02_cat",
         "type": "\"integer\""
        },
        {
         "metadata": "{}",
         "name": "ps_ind_03",
         "type": "\"integer\""
        },
        {
         "metadata": "{}",
         "name": "ps_ind_04_cat",
         "type": "\"integer\""
        },
        {
         "metadata": "{}",
         "name": "ps_ind_05_cat",
         "type": "\"integer\""
        },
        {
         "metadata": "{}",
         "name": "ps_ind_06_bin",
         "type": "\"integer\""
        },
        {
         "metadata": "{}",
         "name": "ps_ind_07_bin",
         "type": "\"integer\""
        },
        {
         "metadata": "{}",
         "name": "ps_ind_08_bin",
         "type": "\"integer\""
        },
        {
         "metadata": "{}",
         "name": "ps_ind_09_bin",
         "type": "\"integer\""
        },
        {
         "metadata": "{}",
         "name": "ps_ind_10_bin",
         "type": "\"integer\""
        },
        {
         "metadata": "{}",
         "name": "ps_ind_11_bin",
         "type": "\"integer\""
        },
        {
         "metadata": "{}",
         "name": "ps_ind_12_bin",
         "type": "\"integer\""
        },
        {
         "metadata": "{}",
         "name": "ps_ind_13_bin",
         "type": "\"integer\""
        },
        {
         "metadata": "{}",
         "name": "ps_ind_14",
         "type": "\"integer\""
        },
        {
         "metadata": "{}",
         "name": "ps_ind_15",
         "type": "\"integer\""
        },
        {
         "metadata": "{}",
         "name": "ps_ind_16_bin",
         "type": "\"integer\""
        },
        {
         "metadata": "{}",
         "name": "ps_ind_17_bin",
         "type": "\"integer\""
        },
        {
         "metadata": "{}",
         "name": "ps_ind_18_bin",
         "type": "\"integer\""
        },
        {
         "metadata": "{}",
         "name": "ps_reg_01",
         "type": "\"double\""
        },
        {
         "metadata": "{}",
         "name": "ps_reg_02",
         "type": "\"double\""
        },
        {
         "metadata": "{}",
         "name": "ps_reg_03",
         "type": "\"double\""
        },
        {
         "metadata": "{}",
         "name": "ps_car_01_cat",
         "type": "\"integer\""
        },
        {
         "metadata": "{}",
         "name": "ps_car_02_cat",
         "type": "\"integer\""
        },
        {
         "metadata": "{}",
         "name": "ps_car_03_cat",
         "type": "\"integer\""
        },
        {
         "metadata": "{}",
         "name": "ps_car_04_cat",
         "type": "\"integer\""
        },
        {
         "metadata": "{}",
         "name": "ps_car_05_cat",
         "type": "\"integer\""
        },
        {
         "metadata": "{}",
         "name": "ps_car_06_cat",
         "type": "\"integer\""
        },
        {
         "metadata": "{}",
         "name": "ps_car_07_cat",
         "type": "\"integer\""
        },
        {
         "metadata": "{}",
         "name": "ps_car_08_cat",
         "type": "\"integer\""
        },
        {
         "metadata": "{}",
         "name": "ps_car_09_cat",
         "type": "\"integer\""
        },
        {
         "metadata": "{}",
         "name": "ps_car_10_cat",
         "type": "\"integer\""
        },
        {
         "metadata": "{}",
         "name": "ps_car_11_cat",
         "type": "\"integer\""
        },
        {
         "metadata": "{}",
         "name": "ps_car_11",
         "type": "\"integer\""
        },
        {
         "metadata": "{}",
         "name": "ps_car_12",
         "type": "\"double\""
        },
        {
         "metadata": "{}",
         "name": "ps_car_13",
         "type": "\"double\""
        },
        {
         "metadata": "{}",
         "name": "ps_car_14",
         "type": "\"double\""
        },
        {
         "metadata": "{}",
         "name": "ps_car_15",
         "type": "\"double\""
        },
        {
         "metadata": "{}",
         "name": "ps_calc_01",
         "type": "\"double\""
        },
        {
         "metadata": "{}",
         "name": "ps_calc_02",
         "type": "\"double\""
        },
        {
         "metadata": "{}",
         "name": "ps_calc_03",
         "type": "\"double\""
        },
        {
         "metadata": "{}",
         "name": "ps_calc_04",
         "type": "\"integer\""
        },
        {
         "metadata": "{}",
         "name": "ps_calc_05",
         "type": "\"integer\""
        },
        {
         "metadata": "{}",
         "name": "ps_calc_06",
         "type": "\"integer\""
        },
        {
         "metadata": "{}",
         "name": "ps_calc_07",
         "type": "\"integer\""
        },
        {
         "metadata": "{}",
         "name": "ps_calc_08",
         "type": "\"integer\""
        },
        {
         "metadata": "{}",
         "name": "ps_calc_09",
         "type": "\"integer\""
        },
        {
         "metadata": "{}",
         "name": "ps_calc_10",
         "type": "\"integer\""
        },
        {
         "metadata": "{}",
         "name": "ps_calc_11",
         "type": "\"integer\""
        },
        {
         "metadata": "{}",
         "name": "ps_calc_12",
         "type": "\"integer\""
        },
        {
         "metadata": "{}",
         "name": "ps_calc_13",
         "type": "\"integer\""
        },
        {
         "metadata": "{}",
         "name": "ps_calc_14",
         "type": "\"integer\""
        },
        {
         "metadata": "{}",
         "name": "ps_calc_15_bin",
         "type": "\"integer\""
        },
        {
         "metadata": "{}",
         "name": "ps_calc_16_bin",
         "type": "\"integer\""
        },
        {
         "metadata": "{}",
         "name": "ps_calc_17_bin",
         "type": "\"integer\""
        },
        {
         "metadata": "{}",
         "name": "ps_calc_18_bin",
         "type": "\"integer\""
        },
        {
         "metadata": "{}",
         "name": "ps_calc_19_bin",
         "type": "\"integer\""
        },
        {
         "metadata": "{}",
         "name": "ps_calc_20_bin",
         "type": "\"integer\""
        }
       ],
       "type": "table"
      }
     },
     "output_type": "display_data"
    }
   ],
   "source": [
    "train_df.limit(10).display()"
   ]
  },
  {
   "cell_type": "code",
   "execution_count": 0,
   "metadata": {
    "application/vnd.databricks.v1+cell": {
     "cellMetadata": {
      "byteLimit": 2048000,
      "rowLimit": 10000
     },
     "inputWidgets": {},
     "nuid": "d1548be0-e879-4ce9-a7f5-518ea67ea56f",
     "showTitle": false,
     "tableResultSettingsMap": {},
     "title": ""
    }
   },
   "outputs": [
    {
     "output_type": "stream",
     "name": "stdout",
     "output_type": "stream",
     "text": [
      "columns with null ratio higher than 0.4: ['car_03_cat', 'car_05_cat']\nclassification\n[0 0 0 ... 1 1 1]\n"
     ]
    }
   ],
   "source": [
    "preprocessor.standardize_df()\n",
    "preprocessor.drop_duplicates()\n",
    "\n",
    "preprocessor.handle_high_null_columns(threshold=0.4, method=\"predict\")"
   ]
  },
  {
   "cell_type": "code",
   "execution_count": 0,
   "metadata": {
    "application/vnd.databricks.v1+cell": {
     "cellMetadata": {
      "byteLimit": 2048000,
      "rowLimit": 10000
     },
     "inputWidgets": {},
     "nuid": "79c114e5-380a-426a-8a8c-b21ec39a4873",
     "showTitle": false,
     "tableResultSettingsMap": {},
     "title": ""
    }
   },
   "outputs": [
    {
     "output_type": "display_data",
     "data": {
      "application/vnd.databricks.v1+direct_to_type_checking": {}
     },
     "metadata": {},
     "output_type": "display_data"
    },
    {
     "output_type": "display_data",
     "data": {
      "text/plain": [
       "\u001B[0;31m---------------------------------------------------------------------------\u001B[0m\n",
       "\u001B[0;31mAttributeError\u001B[0m                            Traceback (most recent call last)\n",
       "File \u001B[0;32m<command-7421932640628840>, line 1\u001B[0m\n",
       "\u001B[0;32m----> 1\u001B[0m preprocessor\u001B[38;5;241m.\u001B[39mget_df()\u001B[38;5;241m.\u001B[39mlimit(\u001B[38;5;241m1000\u001B[39m)\u001B[38;5;241m.\u001B[39mdisplay()\n",
       "\n",
       "\u001B[0;31mAttributeError\u001B[0m: 'NoneType' object has no attribute 'limit'"
      ]
     },
     "metadata": {
      "application/vnd.databricks.v1+output": {
       "addedWidgets": {},
       "arguments": {},
       "datasetInfos": [],
       "jupyterProps": {
        "ename": "AttributeError",
        "evalue": "'NoneType' object has no attribute 'limit'"
       },
       "metadata": {
        "errorSummary": "<span class='ansi-red-fg'>AttributeError</span>: 'NoneType' object has no attribute 'limit'"
       },
       "removedWidgets": [],
       "sqlProps": {
        "breakingChangeInfo": null,
        "errorClass": "NOTEBOOK_USER_ERROR",
        "pysparkCallSite": null,
        "pysparkFragment": null,
        "pysparkSummary": null,
        "sqlState": "KD00G",
        "stackTrace": null,
        "startIndex": null,
        "stopIndex": null
       },
       "stackFrames": [
        "\u001B[0;31m---------------------------------------------------------------------------\u001B[0m",
        "\u001B[0;31mAttributeError\u001B[0m                            Traceback (most recent call last)",
        "File \u001B[0;32m<command-7421932640628840>, line 1\u001B[0m\n\u001B[0;32m----> 1\u001B[0m preprocessor\u001B[38;5;241m.\u001B[39mget_df()\u001B[38;5;241m.\u001B[39mlimit(\u001B[38;5;241m1000\u001B[39m)\u001B[38;5;241m.\u001B[39mdisplay()\n",
        "\u001B[0;31mAttributeError\u001B[0m: 'NoneType' object has no attribute 'limit'"
       ],
       "type": "baseError"
      }
     },
     "output_type": "display_data"
    }
   ],
   "source": [
    "preprocessor.get_df().limit(1000).display()"
   ]
  }
 ],
 "metadata": {
  "application/vnd.databricks.v1+notebook": {
   "computePreferences": {
    "hardware": {
     "accelerator": null,
     "gpuPoolId": null,
     "memory": null
    }
   },
   "dashboards": [],
   "environmentMetadata": {
    "base_environment": "",
    "environment_version": "4"
   },
   "inputWidgetPreferences": null,
   "language": "python",
   "notebookMetadata": {
    "pythonIndentUnit": 4
   },
   "notebookName": "run_feature_store",
   "widgets": {}
  },
  "language_info": {
   "name": "python"
  }
 },
 "nbformat": 4,
 "nbformat_minor": 0
}
